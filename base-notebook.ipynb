{
 "cells": [
  {
   "cell_type": "code",
   "execution_count": 7,
   "metadata": {
    "collapsed": true,
    "ExecuteTime": {
     "end_time": "2023-06-04T11:07:47.949466Z",
     "start_time": "2023-06-04T11:07:47.187303Z"
    }
   },
   "outputs": [
    {
     "name": "stdout",
     "output_type": "stream",
     "text": [
      "zsh:1: no matches found: ml_*.py\r\n",
      "2023-06-04 13:07:47 URL:https://raw.githubusercontent.com/sodeso-nl/ml-utilities/main/contents.txt [666/666] -> \"../../contents.txt.3\" [1]\r\n",
      "2023-06-04 13:07:47 URL:https://raw.githubusercontent.com/sodeso-nl/ml-utilities/main/ml_callback.py [8151/8151] -> \"../ml_callback.py\" [1]\r\n",
      "2023-06-04 13:07:47 URL:https://raw.githubusercontent.com/sodeso-nl/ml-utilities/main/ml_internal.py [2478/2478] -> \"../ml_internal.py\" [1]\r\n",
      "2023-06-04 13:07:47 URL:https://raw.githubusercontent.com/sodeso-nl/ml-utilities/main/ml_io.py [1572/1572] -> \"../ml_io.py\" [1]\r\n",
      "2023-06-04 13:07:47 URL:https://raw.githubusercontent.com/sodeso-nl/ml-utilities/main/ml_layer.py [7416/7416] -> \"../ml_layer.py\" [1]\r\n",
      "2023-06-04 13:07:47 URL:https://raw.githubusercontent.com/sodeso-nl/ml-utilities/main/ml_plot.py [12765/12765] -> \"../ml_plot.py\" [1]\r\n",
      "2023-06-04 13:07:47 URL:https://raw.githubusercontent.com/sodeso-nl/ml-utilities/main/ml_util.py [2061/2061] -> \"../ml_util.py\" [1]\r\n",
      "2023-06-04 13:07:47 URL:https://raw.githubusercontent.com/sodeso-nl/ml-utilities/main/ml_data.py [5991/5991] -> \"../ml_data.py\" [1]\r\n",
      "2023-06-04 13:07:47 URL:https://raw.githubusercontent.com/sodeso-nl/ml-utilities/main/ml_view.py [3304/3304] -> \"../ml_view.py\" [1]\r\n",
      "2023-06-04 13:07:47 URL:https://raw.githubusercontent.com/sodeso-nl/ml-utilities/main/ml_analyze.py [241/241] -> \"../ml_analyze.py\" [1]\r\n",
      "FINISHED --2023-06-04 13:07:47--\r\n",
      "Total wall clock time: 0.2s\r\n",
      "Downloaded: 9 files, 43K in 0.005s (8.57 MB/s)\r\n"
     ]
    }
   ],
   "source": [
    "# Import custom ml-utilities (if on OSX then you could install wget using:\n",
    "# brew install wget\n",
    "\n",
    "# Delete previously downloaded files.\n",
    "!rm ../../ext/ml_*.py ../../ext/contents.txt\n",
    "\n",
    "# Retreive the latest contents file.\n",
    "!wget --no-verbose --no-cache https://raw.githubusercontent.com/sodeso-nl/ml-utilities/main/contents.txt -P ../../ext/\n",
    "\n",
    "# Download all files listed within the contents file.\n",
    "!wget --no-verbose -P ../../ext/ --no-cache -i ../../ext/contents.txt"
   ]
  },
  {
   "cell_type": "code",
   "execution_count": 1,
   "outputs": [
    {
     "ename": "ModuleNotFoundError",
     "evalue": "No module named 'ml_callback'",
     "output_type": "error",
     "traceback": [
      "\u001B[0;31m---------------------------------------------------------------------------\u001B[0m",
      "\u001B[0;31mModuleNotFoundError\u001B[0m                       Traceback (most recent call last)",
      "Cell \u001B[0;32mIn[1], line 19\u001B[0m\n\u001B[1;32m     16\u001B[0m \u001B[38;5;28;01mimport\u001B[39;00m \u001B[38;5;21;01mzipfile\u001B[39;00m\n\u001B[1;32m     17\u001B[0m \u001B[38;5;28;01mimport\u001B[39;00m \u001B[38;5;21;01msys\u001B[39;00m\n\u001B[0;32m---> 19\u001B[0m \u001B[38;5;28;01mimport\u001B[39;00m \u001B[38;5;21;01mml_callback\u001B[39;00m \u001B[38;5;28;01mas\u001B[39;00m \u001B[38;5;21;01mmlc\u001B[39;00m\n\u001B[1;32m     20\u001B[0m \u001B[38;5;28;01mimport\u001B[39;00m \u001B[38;5;21;01mml_io\u001B[39;00m \u001B[38;5;28;01mas\u001B[39;00m \u001B[38;5;21;01mmli\u001B[39;00m\n\u001B[1;32m     21\u001B[0m \u001B[38;5;28;01mimport\u001B[39;00m \u001B[38;5;21;01mml_layer\u001B[39;00m \u001B[38;5;28;01mas\u001B[39;00m \u001B[38;5;21;01mmll\u001B[39;00m\n",
      "\u001B[0;31mModuleNotFoundError\u001B[0m: No module named 'ml_callback'"
     ]
    }
   ],
   "source": [
    "import tensorflow as tf\n",
    "\n",
    "import sys\n",
    "\n",
    "sys.path.append(\"../../ext\")"
   ],
   "metadata": {
    "collapsed": false
   }
  },
  {
   "cell_type": "code",
   "execution_count": null,
   "outputs": [],
   "source": [
    "print(f\"TensorFlow version: {tf.__version__}\")\n",
    "print(f\"Python version {sys.version}\")\n",
    "\n",
    "tf.config.list_physical_devices(\"GPU\")"
   ],
   "metadata": {
    "collapsed": false
   }
  }
 ],
 "metadata": {
  "kernelspec": {
   "display_name": "Python 3",
   "language": "python",
   "name": "python3"
  },
  "language_info": {
   "codemirror_mode": {
    "name": "ipython",
    "version": 2
   },
   "file_extension": ".py",
   "mimetype": "text/x-python",
   "name": "python",
   "nbconvert_exporter": "python",
   "pygments_lexer": "ipython2",
   "version": "2.7.6"
  }
 },
 "nbformat": 4,
 "nbformat_minor": 0
}
