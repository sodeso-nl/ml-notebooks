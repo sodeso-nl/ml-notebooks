{
 "cells": [
  {
   "cell_type": "code",
   "execution_count": 1,
   "outputs": [
    {
     "name": "stdout",
     "output_type": "stream",
     "text": [
      "2023-07-13 16:37:05 URL:https://raw.githubusercontent.com/sodeso-nl/ml-utilities/main/contents.txt [820/820] -> \"../../ext/contents.txt\" [1]\r\n",
      "2023-07-13 16:37:06 URL:https://raw.githubusercontent.com/sodeso-nl/ml-utilities/main/ml_callback.py [8266/8266] -> \"../../ext/ml_callback.py\" [1]\r\n",
      "2023-07-13 16:37:06 URL:https://raw.githubusercontent.com/sodeso-nl/ml-utilities/main/ml_internal.py [3032/3032] -> \"../../ext/ml_internal.py\" [1]\r\n",
      "2023-07-13 16:37:06 URL:https://raw.githubusercontent.com/sodeso-nl/ml-utilities/main/ml_io.py [2664/2664] -> \"../../ext/ml_io.py\" [1]\r\n",
      "2023-07-13 16:37:06 URL:https://raw.githubusercontent.com/sodeso-nl/ml-utilities/main/ml_layer.py [12200/12200] -> \"../../ext/ml_layer.py\" [1]\r\n",
      "2023-07-13 16:37:06 URL:https://raw.githubusercontent.com/sodeso-nl/ml-utilities/main/ml_plot.py [26211/26211] -> \"../../ext/ml_plot.py\" [1]\r\n",
      "2023-07-13 16:37:06 URL:https://raw.githubusercontent.com/sodeso-nl/ml-utilities/main/ml_util.py [2284/2284] -> \"../../ext/ml_util.py\" [1]\r\n",
      "2023-07-13 16:37:06 URL:https://raw.githubusercontent.com/sodeso-nl/ml-utilities/main/ml_data.py [8465/8465] -> \"../../ext/ml_data.py\" [1]\r\n",
      "2023-07-13 16:37:06 URL:https://raw.githubusercontent.com/sodeso-nl/ml-utilities/main/ml_view.py [4977/4977] -> \"../../ext/ml_view.py\" [1]\r\n",
      "2023-07-13 16:37:06 URL:https://raw.githubusercontent.com/sodeso-nl/ml-utilities/main/ml_analyze.py [413/413] -> \"../../ext/ml_analyze.py\" [1]\r\n",
      "2023-07-13 16:37:06 URL:https://raw.githubusercontent.com/sodeso-nl/ml-utilities/main/ml_transformer.py [315/315] -> \"../../ext/ml_transformer.py\" [1]\r\n",
      "2023-07-13 16:37:06 URL:https://raw.githubusercontent.com/sodeso-nl/ml-utilities/main/ml_shell.py [264/264] -> \"../../ext/ml_shell.py\" [1]\r\n",
      "FINISHED --2023-07-13 16:37:06--\r\n",
      "Total wall clock time: 0.3s\r\n",
      "Downloaded: 11 files, 67K in 0.02s (3.66 MB/s)\r\n",
      "TensorFlow version: 2.12.0\n",
      "TensorFlow-Text version: 2.12.0\n",
      "Python version 3.10.8 | packaged by conda-forge | (main, Nov 22 2022, 08:25:13) [Clang 14.0.6 ]\n"
     ]
    }
   ],
   "source": [
    "%run ../../base-notebook.ipynb"
   ],
   "metadata": {
    "colab": {
     "base_uri": "https://localhost:8080/"
    },
    "id": "wlrgdzHmfVPo",
    "outputId": "fff6ccdc-0a22-4a73-e798-580fc6b6569d",
    "ExecuteTime": {
     "end_time": "2023-07-13T14:37:06.734397Z",
     "start_time": "2023-07-13T14:37:02.811105Z"
    }
   }
  },
  {
   "cell_type": "code",
   "execution_count": 1,
   "outputs": [],
   "source": [
    "extensions_loaded = False\n",
    "if not extensions_loaded:\n",
    "    %load_ext autoreload\n",
    "    %load_ext tensorboard\n",
    "    extensions_loaded = True\n",
    "\n",
    "%autoreload 2\n",
    "%matplotlib inline"
   ],
   "metadata": {
    "collapsed": false,
    "ExecuteTime": {
     "end_time": "2023-07-17T07:40:36.858780Z",
     "start_time": "2023-07-17T07:40:36.496038Z"
    }
   }
  },
  {
   "cell_type": "code",
   "execution_count": 51,
   "outputs": [],
   "source": [
    "import sys\n",
    "import os\n",
    "import random\n",
    "import collections\n",
    "\n",
    "sys.path.append(\"../../ext\")\n",
    "\n",
    "import ext.ml_callback as mlc\n",
    "import ext.ml_io as mli\n",
    "import ext.ml_layer as mll\n",
    "import ext.ml_plot as mlp\n",
    "import ext.ml_util as mlu\n",
    "import ext.ml_data as mld\n",
    "import ext.ml_view as mlv\n",
    "import ext.ml_analyze as mla\n",
    "import ext.ml_shell as mls\n",
    "\n",
    "import tensorflow as tf\n",
    "import tensorflow_text as tf_text\n",
    "import tensorflow_datasets as tfds\n",
    "import tensorflow_hub as hub\n",
    "\n",
    "import pandas as pd\n",
    "\n",
    "import opendatasets as od\n",
    "\n",
    "from keras import Model\n",
    "from keras import optimizers\n",
    "from keras import layers\n",
    "from keras import losses\n",
    "from keras import utils"
   ],
   "metadata": {
    "colab": {
     "base_uri": "https://localhost:8080/"
    },
    "id": "G8laH65-fVPp",
    "outputId": "447fa214-ade2-48ed-9224-4f4cfc76aeef",
    "ExecuteTime": {
     "end_time": "2023-07-17T09:25:26.516880Z",
     "start_time": "2023-07-17T09:25:26.453768Z"
    }
   }
  },
  {
   "cell_type": "markdown",
   "source": [
    "# StackOverfloat\n",
    "## Download the StackOverflow Dataset"
   ],
   "metadata": {
    "collapsed": false,
    "ExecuteTime": {
     "end_time": "2023-07-14T20:41:11.347644Z",
     "start_time": "2023-07-14T20:41:11.267929Z"
    }
   },
   "outputs": [
    {
     "ename": "RuntimeError",
     "evalue": "Visible devices cannot be modified after being initialized",
     "output_type": "error",
     "traceback": [
      "\u001B[0;31m---------------------------------------------------------------------------\u001B[0m",
      "\u001B[0;31mRuntimeError\u001B[0m                              Traceback (most recent call last)",
      "Cell \u001B[0;32mIn[23], line 2\u001B[0m\n\u001B[1;32m      1\u001B[0m \u001B[38;5;66;03m# Disable GPU support by setting the visible devices to only include the CPU\u001B[39;00m\n\u001B[0;32m----> 2\u001B[0m \u001B[43mtf\u001B[49m\u001B[38;5;241;43m.\u001B[39;49m\u001B[43mconfig\u001B[49m\u001B[38;5;241;43m.\u001B[39;49m\u001B[43mexperimental\u001B[49m\u001B[38;5;241;43m.\u001B[39;49m\u001B[43mset_visible_devices\u001B[49m\u001B[43m(\u001B[49m\u001B[43m[\u001B[49m\u001B[43m]\u001B[49m\u001B[43m,\u001B[49m\u001B[43m \u001B[49m\u001B[38;5;124;43m'\u001B[39;49m\u001B[38;5;124;43mGPU\u001B[39;49m\u001B[38;5;124;43m'\u001B[39;49m\u001B[43m)\u001B[49m\n",
      "File \u001B[0;32m~/miniforge3/envs/ml/lib/python3.10/site-packages/tensorflow/python/framework/config.py:547\u001B[0m, in \u001B[0;36mset_visible_devices\u001B[0;34m(devices, device_type)\u001B[0m\n\u001B[1;32m    514\u001B[0m \u001B[38;5;129m@tf_export\u001B[39m(\u001B[38;5;124m'\u001B[39m\u001B[38;5;124mconfig.set_visible_devices\u001B[39m\u001B[38;5;124m'\u001B[39m,\n\u001B[1;32m    515\u001B[0m            \u001B[38;5;124m'\u001B[39m\u001B[38;5;124mconfig.experimental.set_visible_devices\u001B[39m\u001B[38;5;124m'\u001B[39m)\n\u001B[1;32m    516\u001B[0m \u001B[38;5;129m@deprecation\u001B[39m\u001B[38;5;241m.\u001B[39mdeprecated_endpoints(\u001B[38;5;124m'\u001B[39m\u001B[38;5;124mconfig.experimental.set_visible_devices\u001B[39m\u001B[38;5;124m'\u001B[39m)\n\u001B[1;32m    517\u001B[0m \u001B[38;5;28;01mdef\u001B[39;00m \u001B[38;5;21mset_visible_devices\u001B[39m(devices, device_type\u001B[38;5;241m=\u001B[39m\u001B[38;5;28;01mNone\u001B[39;00m):\n\u001B[1;32m    518\u001B[0m \u001B[38;5;250m  \u001B[39m\u001B[38;5;124;03m\"\"\"Set the list of visible devices.\u001B[39;00m\n\u001B[1;32m    519\u001B[0m \n\u001B[1;32m    520\u001B[0m \u001B[38;5;124;03m  Specifies which `PhysicalDevice` objects are visible to the runtime.\u001B[39;00m\n\u001B[0;32m   (...)\u001B[0m\n\u001B[1;32m    545\u001B[0m \u001B[38;5;124;03m    RuntimeError: Runtime is already initialized.\u001B[39;00m\n\u001B[1;32m    546\u001B[0m \u001B[38;5;124;03m  \"\"\"\u001B[39;00m\n\u001B[0;32m--> 547\u001B[0m   \u001B[43mcontext\u001B[49m\u001B[38;5;241;43m.\u001B[39;49m\u001B[43mcontext\u001B[49m\u001B[43m(\u001B[49m\u001B[43m)\u001B[49m\u001B[38;5;241;43m.\u001B[39;49m\u001B[43mset_visible_devices\u001B[49m\u001B[43m(\u001B[49m\u001B[43mdevices\u001B[49m\u001B[43m,\u001B[49m\u001B[43m \u001B[49m\u001B[43mdevice_type\u001B[49m\u001B[43m)\u001B[49m\n",
      "File \u001B[0;32m~/miniforge3/envs/ml/lib/python3.10/site-packages/tensorflow/python/eager/context.py:1624\u001B[0m, in \u001B[0;36mContext.set_visible_devices\u001B[0;34m(self, devices, device_type)\u001B[0m\n\u001B[1;32m   1621\u001B[0m   \u001B[38;5;28;01mreturn\u001B[39;00m\n\u001B[1;32m   1623\u001B[0m \u001B[38;5;28;01mif\u001B[39;00m \u001B[38;5;28mself\u001B[39m\u001B[38;5;241m.\u001B[39m_context_handle \u001B[38;5;129;01mis\u001B[39;00m \u001B[38;5;129;01mnot\u001B[39;00m \u001B[38;5;28;01mNone\u001B[39;00m:\n\u001B[0;32m-> 1624\u001B[0m   \u001B[38;5;28;01mraise\u001B[39;00m \u001B[38;5;167;01mRuntimeError\u001B[39;00m(\n\u001B[1;32m   1625\u001B[0m       \u001B[38;5;124m\"\u001B[39m\u001B[38;5;124mVisible devices cannot be modified after being initialized\u001B[39m\u001B[38;5;124m\"\u001B[39m)\n\u001B[1;32m   1627\u001B[0m \u001B[38;5;28mself\u001B[39m\u001B[38;5;241m.\u001B[39m_visible_device_list \u001B[38;5;241m=\u001B[39m visible_device_list\n",
      "\u001B[0;31mRuntimeError\u001B[0m: Visible devices cannot be modified after being initialized"
     ]
    }
   ],
   "execution_count": 23
  },
  {
   "cell_type": "code",
   "execution_count": 3,
   "outputs": [
    {
     "name": "stdout",
     "output_type": "stream",
     "text": [
      "Download of https://storage.googleapis.com/download.tensorflow.org/data/stack_overflow_16k.tar.gz completed.\n",
      "Extraction of ./data/stack_overflow_16k.tar.gz completed.\n"
     ]
    }
   ],
   "source": [
    "data_url = 'https://storage.googleapis.com/download.tensorflow.org/data/stack_overflow_16k.tar.gz'\n",
    "data_dir = './data'\n",
    "\n",
    "mli.download_file(source=data_url, filepath=\"./data/stack_overflow_16k.tar.gz\")\n",
    "mli.extract_tgz(filepath='./data/stack_overflow_16k.tar.gz', folder='./data')"
   ],
   "metadata": {
    "collapsed": false,
    "ExecuteTime": {
     "end_time": "2023-07-17T07:40:43.493557Z",
     "start_time": "2023-07-17T07:40:40.389576Z"
    }
   }
  },
  {
   "cell_type": "markdown",
   "source": [
    "## Inspect StackOverflow Dataset"
   ],
   "metadata": {
    "collapsed": false,
    "ExecuteTime": {
     "end_time": "2023-07-14T20:49:54.066114Z",
     "start_time": "2023-07-14T20:49:51.499436Z"
    }
   },
   "outputs": [
    {
     "name": "stdout",
     "output_type": "stream",
     "text": [
      "Download of https://storage.googleapis.com/download.tensorflow.org/data/stack_overflow_16k.tar.gz completed.\n",
      "Extraction of ./data/stack_overflow_16k.tar.gz completed.\n"
     ]
    }
   ],
   "execution_count": 4
  },
  {
   "cell_type": "code",
   "execution_count": 4,
   "outputs": [
    {
     "name": "stdout",
     "output_type": "stream",
     "text": [
      "There are 2 directories, and 2 in ./data\n",
      "There are 4 directories, and 0 in ./data/test\n",
      "There are 0 directories, and 2000 in ./data/test/python\n",
      "There are 0 directories, and 2000 in ./data/test/java\n",
      "There are 0 directories, and 2000 in ./data/test/csharp\n",
      "There are 0 directories, and 2000 in ./data/test/javascript\n",
      "There are 4 directories, and 0 in ./data/train\n",
      "There are 0 directories, and 2000 in ./data/train/python\n",
      "There are 0 directories, and 2000 in ./data/train/java\n",
      "There are 0 directories, and 2000 in ./data/train/csharp\n",
      "There are 0 directories, and 2000 in ./data/train/javascript\n"
     ]
    }
   ],
   "source": [
    "mli.list_dir_summary(data_dir)"
   ],
   "metadata": {
    "collapsed": false,
    "ExecuteTime": {
     "end_time": "2023-07-17T07:40:43.623892Z",
     "start_time": "2023-07-17T07:40:43.493153Z"
    }
   }
  },
  {
   "cell_type": "code",
   "execution_count": 5,
   "outputs": [
    {
     "name": "stdout",
     "output_type": "stream",
     "text": [
      "\"exception in thread \"\"main\"\" blank.lang i've been training a little with blank and i wanted to make this partial program about random numbers in a matrix 3x5, where every number in a column may belong to a different dozen compared to others...i'll make a better explanation: ..in one line you can have 9 and 11 but you can't have 11 and 13 because they belong to the same dozen (the 11-20 one). people who know the tombola game will understand it...but the main error after compiling and executing with cmd, was the one below, the exception in thread main blank.lang...so i hope you can help me: afterall i'm a new blank programmer....  exception in thread \"\"main\"\" blank.lang.indexoutofboundsexception: index.  0 out-of-bounds for length 0.          at blank.base/jdk.internal.util.preconditions.outofbounds(unknown source).          at blank.base/jdk.internal.util.preconditions.outofboundscheckindex(unknown.  source).          at blank.base/jdk.internal.util.preconditions.checkindex(unknown source).          at blank.base/blank.util.objects.checkindex(unknown source).          at blank.base/blank.util.arraylist.remove(unknown source).          at sheet.(sheet.blank:20).          at sheet.main(sheet.blank:35)...import blank.util.*;.import blank.math.*;.class sheet{.private int[][] tab;.public sheet(){.    int [][] tab=new int [3][5];.    list&lt;integer&gt; list=new arraylist&lt;integer&gt;();.    for(int l=10; l&lt;=90; l+=10){.        list.add(l);.    }.    random rand=new random();.    for(int m=0; m&lt;3; m++){.        for (int n=0; n&lt;5; n++){.            tab[m][n]=rand.nextint(90);.            int o=(int)tab[m][m];.            if(list.contains(o*10)){.                break;.            }.            else{ .                list.remove(0*10);.                n--;.            }.        }.    }.}.public void printsheet(){.    for (int i = 0; i &lt;3; i++) {.        for (int j = 0; j &lt; 5; j++) {.                system.out.println(tab[i][j] + \"\" \"\");.        }.        system.out.println();.    }.}.public static void main(string args[]){.    sheet c=new sheet();.    c.printsheet();.}.    }\"\n",
      "\n"
     ]
    }
   ],
   "source": [
    "train_dir = f\"{data_dir}/train\"\n",
    "test_dir = f\"{data_dir}/test\"\n",
    "\n",
    "# Show contents of a random file\n",
    "random_file = random.choice(os.listdir(f\"{train_dir}/java\"))\n",
    "with open(f\"{data_dir}/train/java/{random_file}\") as f:\n",
    "  print(f.read())"
   ],
   "metadata": {
    "collapsed": false,
    "ExecuteTime": {
     "end_time": "2023-07-17T07:40:43.681200Z",
     "start_time": "2023-07-17T07:40:43.620982Z"
    }
   }
  },
  {
   "cell_type": "markdown",
   "source": [
    "## Load StackOverflow Dataset"
   ],
   "metadata": {
    "collapsed": false,
    "ExecuteTime": {
     "end_time": "2023-07-14T20:49:54.210213Z",
     "start_time": "2023-07-14T20:49:54.156737Z"
    }
   },
   "outputs": [
    {
     "name": "stdout",
     "output_type": "stream",
     "text": [
      "\"not able to extract text from doc file when resume format changed, using apache poi in blank i am new to apache poi. i used some code snippets below for extracting text from .doc file but the problem is when i am using format1, words are extracting properly but in case of format2 nothing is coming..format1 format2. i have no why this is happening. please suggest me something so i can achieve this...the code which i wrote..wordextractor extractor = new wordextractor(document);.            string[] documentcontent = extractor.getparagraphtext();.            for(int i=0;i&lt;documentcontent.length;i++) {.                system.out.println(\"\"document content :\"\"+documentcontent[i]);.            }\"\n",
      "\n"
     ]
    }
   ],
   "execution_count": 6
  },
  {
   "cell_type": "code",
   "execution_count": 6,
   "outputs": [
    {
     "name": "stdout",
     "output_type": "stream",
     "text": [
      "Found 8000 files belonging to 4 classes.\n",
      "Using 6400 files for training.\n",
      "Using 1600 files for validation.\n",
      "Metal device set to: Apple M1 Max\n"
     ]
    }
   ],
   "source": [
    "# Create the training and validation datasets, whereas the training set is 80% of the data.\n",
    "\n",
    "batch_size = 32\n",
    "seed = 42\n",
    "\n",
    "raw_train_ds, raw_validation_ds  = utils.text_dataset_from_directory(\n",
    "    directory=train_dir,\n",
    "    batch_size=batch_size,\n",
    "    seed=seed,\n",
    "    validation_split=0.2,\n",
    "    subset='both' # return both the train and validation set.\n",
    ")"
   ],
   "metadata": {
    "collapsed": false,
    "ExecuteTime": {
     "end_time": "2023-07-17T07:40:44.188594Z",
     "start_time": "2023-07-17T07:40:43.681416Z"
    }
   }
  },
  {
   "cell_type": "code",
   "execution_count": 7,
   "outputs": [
    {
     "name": "stdout",
     "output_type": "stream",
     "text": [
      "Label: 1\n",
      "Question: b'\"my tester is going to the wrong constructor i am new to programming so if i ask a question that can be easily fixed, please forgive me. my program has a tester class with a main. when i send that to my regularpolygon class, it sends it to the wrong constructor. i have two constructors. 1 without perameters..public regularpolygon().    {.       mynumsides = 5;.       mysidelength = 30;.    }//end default constructor...and my second, with perameters. ..public regularpolygon(int numsides, double sidelength).    {.        mynumsides = numsides;.        mysidelength = sidelength;.    }// end constructor...in my tester class i have these two lines:..regularpolygon shape = new regularpolygon(numsides, sidelength);.        shape.menu();...numsides and sidelength were declared and initialized earlier in the testing class...so what i want to happen, is the tester class sends numsides and sidelength to the second constructor and use it in that class. but it only uses the default constructor, which therefor ruins the whole rest of the program. can somebody help me?..for those of you who want to see more of my code: here you go..public double vertexangle().    {.        system.out.println(\"\"the vertex angle method: \"\" + mynumsides);// prints out 5.        system.out.println(\"\"the vertex angle method: \"\" + mysidelength); // prints out 30..        double vertexangle;.        vertexangle = ((mynumsides - 2.0) / mynumsides) * 180.0;.        return vertexangle;.    }//end method vertexangle..public void menu().{.    system.out.println(mynumsides); // prints out what the user puts in.    system.out.println(mysidelength); // prints out what the user puts in.    gotographic();.    calcr(mynumsides, mysidelength);.    calcr(mynumsides, mysidelength);.    print(); .}// end menu...this is my entire tester class:..public static void main(string[] arg).{.    int numsides;.    double sidelength;.    scanner keyboard = new scanner(system.in);..    system.out.println(\"\"welcome to the regular polygon program!\"\");.    system.out.println();..    system.out.print(\"\"enter the number of sides of the polygon ==&gt; \"\");.    numsides = keyboard.nextint();.    system.out.println();..    system.out.print(\"\"enter the side length of each side ==&gt; \"\");.    sidelength = keyboard.nextdouble();.    system.out.println();..    regularpolygon shape = new regularpolygon(numsides, sidelength);.    shape.menu();.}//end main...for testing it i sent it numsides 4 and sidelength 100.\"\\n'\n",
      "----\n",
      "Label: 3\n",
      "Question: b'\"blank code slow skin detection this code changes the color space to lab and using a threshold finds the skin area of an image. but it\\'s ridiculously slow. i don\\'t know how to make it faster ?    ..from colormath.color_objects import *..def skindetection(img, treshold=80, color=[255,20,147]):..    print img.shape.    res=img.copy().    for x in range(img.shape[0]):.        for y in range(img.shape[1]):.            rgbimg=rgbcolor(img[x,y,0],img[x,y,1],img[x,y,2]).            labimg=rgbimg.convert_to(\\'lab\\', debug=false).            if (labimg.lab_l &gt; treshold):.                res[x,y,:]=color.            else: .                res[x,y,:]=img[x,y,:]..    return res\"\\n'\n",
      "----\n",
      "Label: 1\n",
      "Question: b'\"option and validation in blank i want to add a new option on my system where i want to add two text files, both rental.txt and customer.txt. inside each text are id numbers of the customer, the videotape they need and the price...i want to place it as an option on my code. right now i have:...add customer.rent return.view list.search.exit...i want to add this as my sixth option. say for example i ordered a video, it would display the price and would let me confirm the price and if i am going to buy it or not...here is my current code:..  import blank.io.*;.    import blank.util.arraylist;.    import static blank.lang.system.out;..    public class rentalsystem{.    static bufferedreader input = new bufferedreader(new inputstreamreader(system.in));.    static file file = new file(\"\"file.txt\"\");.    static arraylist&lt;string&gt; list = new arraylist&lt;string&gt;();.    static int rows;..    public static void main(string[] args) throws exception{.        introduction();.        system.out.print(\"\"nn\"\");.        login();.        system.out.print(\"\"nnnnnnnnnnnnnnnnnnnnnn\"\");.        introduction();.        string repeat;.        do{.            loadfile();.            system.out.print(\"\"nwhat do you want to do?nn\"\");.            system.out.print(\"\"n                    - - - - - - - - - - - - - - - - - - - - - - -\"\");.            system.out.print(\"\"nn                    |     1. add customer    |   2. rent return |n\"\");.            system.out.print(\"\"n                    - - - - - - - - - - - - - - - - - - - - - - -\"\");.            system.out.print(\"\"nn                    |     3. view list       |   4. search      |n\"\");.            system.out.print(\"\"n                    - - - - - - - - - - - - - - - - - - - - - - -\"\");.            system.out.print(\"\"nn                                             |   5. exit        |n\"\");.            system.out.print(\"\"n                                              - - - - - - - - - -\"\");.            system.out.print(\"\"nnchoice:\"\");.            int choice = integer.parseint(input.readline());.            switch(choice){.                case 1:.                    writedata();.                    break;.                case 2:.                    rentdata();.                    break;.                case 3:.                    viewlist();.                    break;.                case 4:.                    search();.                    break;.                case 5:.                    system.out.println(\"\"goodbye!\"\");.                    system.exit(0);.                default:.                    system.out.print(\"\"invalid choice: \"\");.                    break;.            }.            system.out.print(\"\"ndo another task? [y/n] \"\");.            repeat = input.readline();.        }while(repeat.equals(\"\"y\"\"));..        if(repeat!=\"\"y\"\") system.out.println(\"\"ngoodbye!\"\");..    }..    public static void writedata() throws exception{.        system.out.print(\"\"nname: \"\");.        string cname = input.readline();.        system.out.print(\"\"address: \"\");.        string add = input.readline();.        system.out.print(\"\"phone no.: \"\");.        string pno = input.readline();.        system.out.print(\"\"rental amount: \"\");.        string ramount = input.readline();.        system.out.print(\"\"tapenumber: \"\");.        string tno = input.readline();.        system.out.print(\"\"title: \"\");.        string title = input.readline();.        system.out.print(\"\"date borrowed: \"\");.        string dborrowed = input.readline();.        system.out.print(\"\"due date: \"\");.        string ddate = input.readline();.        createline(cname, add, pno, ramount,tno, title, dborrowed, ddate);.        rentdata();.    }..    public static void createline(string name, string address, string phone , string rental, string tapenumber, string title, string borrowed, string due) throws exception{.        filewriter fw = new filewriter(file, true);.        fw.write(\"\"nname: \"\"+name + \"\"naddress: \"\" + address +\"\"nphone no.: \"\"+ phone+\"\"nrentalamount: \"\"+rental+\"\"ntape no.: \"\"+ tapenumber+\"\"ntitle: \"\"+ title+\"\"ndate borrowed: \"\"+borrowed +\"\"ndue date: \"\"+ due+\"\":rn\"\");.        fw.close();.    }..    public static void loadfile() throws exception{.        try{.            list.clear();.            fileinputstream fstream = new fileinputstream(file);.            bufferedreader br = new bufferedreader(new inputstreamreader(fstream));.            rows = 0;.            while( br.ready()).            {.                list.add(br.readline());.                rows++;.            }.            br.close();.        } catch(exception e){.            system.out.println(\"\"list not yet loaded.\"\");.        }.    }..    public static void viewlist(){.        system.out.print(\"\"n~ ~ ~ ~ ~ ~ ~ ~ ~ ~ ~\"\");.        system.out.print(\"\" |list of all costumers|\"\");.        system.out.print(\"\"~ ~ ~ ~ ~ ~ ~ ~ ~ ~ ~\"\");.        for(int i = 0; i &lt;rows; i++){.            system.out.println(list.get(i));.        }.    }.        public static void rentdata()throws exception.    {   system.out.print(\"\"n~ ~ ~ ~ ~ ~ ~ ~ ~ ~ ~\"\");.        system.out.print(\"\" |rent data list|\"\");.        system.out.print(\"\"~ ~ ~ ~ ~ ~ ~ ~ ~ ~ ~\"\");.        system.out.print(\"\"nenter customer name: \"\");.        string cname = input.readline();.        system.out.print(\"\"date borrowed: \"\");.        string dborrowed = input.readline();.        system.out.print(\"\"due date: \"\");.        string ddate = input.readline();.        system.out.print(\"\"return date: \"\");.        string rdate = input.readline();.        system.out.print(\"\"rent amount: \"\");.        string ramount = input.readline();..        system.out.print(\"\"you pay:\"\"+ramount);...    }.    public static void search()throws exception.    {   system.out.print(\"\"n~ ~ ~ ~ ~ ~ ~ ~ ~ ~ ~\"\");.        system.out.print(\"\" |search costumers|\"\");.        system.out.print(\"\"~ ~ ~ ~ ~ ~ ~ ~ ~ ~ ~\"\");.        system.out.print(\"\"nenter costumer name: \"\");.        string cname = input.readline();.        boolean found = false;..        for(int i=0; i &lt; rows; i++){.            string temp[] = list.get(i).split(\"\",\"\");..            if(cname.equals(temp[0])){.            system.out.println(\"\"search result:nyou are \"\" + temp[0] + \"\" from \"\" + temp[1] + \"\".\"\"+ temp[2] + \"\".\"\"+ temp[3] + \"\".\"\"+ temp[4] + \"\".\"\"+ temp[5] + \"\" is \"\" + temp[6] + \"\".\"\"+ temp[7] + \"\" is \"\" + temp[8] + \"\".\"\");.                found = true;.            }.        }..        if(!found){.            system.out.print(\"\"no results.\"\");.        }..    }..        public static boolean evaluate(string uname, string pass){.        if (uname.equals(\"\"admin\"\")&amp;&amp;pass.equals(\"\"12345\"\")) return true;.        else return false;.    }..    public static string login()throws exception{.        bufferedreader input=new bufferedreader(new inputstreamreader(system.in));.        int counter=0;.        do{.            system.out.print(\"\"username:\"\");.            string uname =input.readline();.            system.out.print(\"\"password:\"\");.            string pass =input.readline();..            boolean accept= evaluate(uname,pass);..            if(accept){.                break;.                }else{.                    system.out.println(\"\"incorrect username or password!\"\");.                    counter ++;.                    }.        }while(counter&lt;3);..            if(counter !=3) return \"\"login successful\"\";.            else return \"\"login failed\"\";.            }.        public static void introduction() throws exception{..        system.out.println(\"\"                  - - - - - - - - - - - - - - - - - - - - - - - - -\"\");.        system.out.println(\"\"                  !                  r e n t a l                  !\"\");.        system.out.println(\"\"                   ! ~ ~ ~ ~ ~ !  =================  ! ~ ~ ~ ~ ~ !\"\");.        system.out.println(\"\"                  !                  s y s t e m                  !\"\");.        system.out.println(\"\"                  - - - - - - - - - - - - - - - - - - - - - - - - -\"\");.        }..}\"\\n'\n",
      "----\n",
      "Label: 0\n",
      "Question: b'\"exception: dynamic sql generation for the updatecommand is not supported against a selectcommand that does not return any key i dont know what is the problem this my code : ..string nomtable;..datatable listeetablissementtable = new datatable();.datatable listeinteretstable = new datatable();.dataset ds = new dataset();.sqldataadapter da;.sqlcommandbuilder cmdb;..private void listeinterets_click(object sender, eventargs e).{.    nomtable = \"\"listeinteretstable\"\";.    d.cnx.open();.    da = new sqldataadapter(\"\"select nome from offices\"\", d.cnx);.    ds = new dataset();.    da.fill(ds, nomtable);.    datagridview1.datasource = ds.tables[nomtable];.}..private void sauvgarder_click(object sender, eventargs e).{.    d.cnx.open();.    cmdb = new sqlcommandbuilder(da);.    da.update(ds, nomtable);.    d.cnx.close();.}\"\\n'\n",
      "----\n",
      "Label: 1\n",
      "Question: b'\"parameter with question mark and super in blank, i\\'ve come across a method that is formatted like this:..public final subscription subscribe(final action1&lt;? super t&gt; onnext, final action1&lt;throwable&gt; onerror) {.}...in the first parameter, what does the question mark and super mean?\"\\n'\n",
      "----\n",
      "Label: 0\n",
      "Question: b'call two objects wsdl the first time i got a very strange wsdl. ..i would like to call the object (interface - invoicecheck_out) do you know how?....i would like to call the object (variable) do you know how?..try to call (it`s ok)....try to call (how call this?)\\n'\n",
      "----\n",
      "Label: 0\n",
      "Question: b\"how to correctly make the icon for systemtray in blank using icon sizes of any dimension for systemtray doesn't look good overall. .what is the correct way of making icons for windows system tray?..screenshots: http://imgur.com/zsibwn9..icon: http://imgur.com/vsh4zo8\\n\"\n",
      "----\n",
      "Label: 3\n",
      "Question: b'\"is there a way to check a variable that exists in a different script than the original one? i\\'m trying to check if a variable, which was previously set to true in 2.py in 1.py, as 1.py is only supposed to continue if the variable is true...2.py..import os..completed = false..#some stuff here..completed = true...1.py..import 2 ..if completed == true.   #do things...however i get a syntax error at ..if completed == true\"\\n'\n",
      "----\n",
      "Label: 0\n",
      "Question: b'\"blank control flow i made a number which asks for 2 numbers with blank and responds with  the corresponding message for the case. how come it doesnt work  for the second number ? .regardless what i enter for the second number , i am getting the message \"\"your number is in the range 0-10\"\"...using system;.using system.collections.generic;.using system.linq;.using system.text;..namespace consoleapplication1.{.    class program.    {.        static void main(string[] args).        {.            string myinput;  // declaring the type of the variables.            int myint;..            string number1;.            int number;...            console.writeline(\"\"enter a number\"\");.            myinput = console.readline(); //muyinput is a string  which is entry input.            myint = int32.parse(myinput); // myint converts the string into an integer..            if (myint &gt; 0).                console.writeline(\"\"your number {0} is greater than zero.\"\", myint);.            else if (myint &lt; 0).                console.writeline(\"\"your number {0} is  less  than zero.\"\", myint);.            else.                console.writeline(\"\"your number {0} is equal zero.\"\", myint);..            console.writeline(\"\"enter another number\"\");.            number1 = console.readline(); .            number = int32.parse(myinput); ..            if (number &lt; 0 || number == 0).                console.writeline(\"\"your number {0} is  less  than zero or equal zero.\"\", number);.            else if (number &gt; 0 &amp;&amp; number &lt;= 10).                console.writeline(\"\"your number {0} is  in the range from 0 to 10.\"\", number);.            else.                console.writeline(\"\"your number {0} is greater than 10.\"\", number);..            console.writeline(\"\"enter another number\"\");..        }.    }    .}\"\\n'\n",
      "----\n",
      "Label: 1\n",
      "Question: b'\"credentials cannot be used for ntlm authentication i am getting org.apache.commons.httpclient.auth.invalidcredentialsexception: credentials cannot be used for ntlm authentication: exception in eclipse..whether it is possible mention eclipse to take system proxy settings directly?..public class httpgetproxy {.    private static final string proxy_host = \"\"proxy.****.com\"\";.    private static final int proxy_port = 6050;..    public static void main(string[] args) {.        httpclient client = new httpclient();.        httpmethod method = new getmethod(\"\"https://kodeblank.org\"\");..        hostconfiguration config = client.gethostconfiguration();.        config.setproxy(proxy_host, proxy_port);..        string username = \"\"*****\"\";.        string password = \"\"*****\"\";.        credentials credentials = new usernamepasswordcredentials(username, password);.        authscope authscope = new authscope(proxy_host, proxy_port);..        client.getstate().setproxycredentials(authscope, credentials);..        try {.            client.executemethod(method);..            if (method.getstatuscode() == httpstatus.sc_ok) {.                string response = method.getresponsebodyasstring();.                system.out.println(\"\"response = \"\" + response);.            }.        } catch (ioexception e) {.            e.printstacktrace();.        } finally {.            method.releaseconnection();.        }.    }.}...exception:...  dec 08, 2017 1:41:39 pm .          org.apache.commons.httpclient.auth.authchallengeprocessor selectauthscheme.         info: ntlm authentication scheme selected.       dec 08, 2017 1:41:39 pm org.apache.commons.httpclient.httpmethoddirector executeconnect.         severe: credentials cannot be used for ntlm authentication: .           org.apache.commons.httpclient.usernamepasswordcredentials.           org.apache.commons.httpclient.auth.invalidcredentialsexception: credentials .         cannot be used for ntlm authentication: .        enter code here .          org.apache.commons.httpclient.usernamepasswordcredentials.      at org.apache.commons.httpclient.auth.ntlmscheme.authenticate(ntlmscheme.blank:332).        at org.apache.commons.httpclient.httpmethoddirector.authenticateproxy(httpmethoddirector.blank:320).      at org.apache.commons.httpclient.httpmethoddirector.executeconnect(httpmethoddirector.blank:491).      at org.apache.commons.httpclient.httpmethoddirector.executewithretry(httpmethoddirector.blank:391).      at org.apache.commons.httpclient.httpmethoddirector.executemethod(httpmethoddirector.blank:171).      at org.apache.commons.httpclient.httpclient.executemethod(httpclient.blank:397).      at org.apache.commons.httpclient.httpclient.executemethod(httpclient.blank:323).      at httpgetproxy.main(httpgetproxy.blank:31).  dec 08, 2017 1:41:39 pm org.apache.commons.httpclient.httpmethoddirector processproxyauthchallenge.  info: failure authenticating with ntlm @proxy.****.com:6050\"\\n'\n",
      "----\n"
     ]
    },
    {
     "name": "stderr",
     "output_type": "stream",
     "text": [
      "2023-07-17 09:40:44.272571: W tensorflow/tsl/platform/profile_utils/cpu_utils.cc:128] Failed to get CPU frequency: 0 Hz\n"
     ]
    }
   ],
   "source": [
    "# Sample the training set\n",
    "\n",
    "for text_batch, label_batch in raw_train_ds.take(1):\n",
    "    for i in range(10):\n",
    "        print(f\"Label: {label_batch.numpy()[i]}\")\n",
    "        print(f\"Question: {text_batch.numpy()[i]}\")\n",
    "        print(\"----\")"
   ],
   "metadata": {
    "collapsed": false,
    "ExecuteTime": {
     "end_time": "2023-07-17T07:40:44.285399Z",
     "start_time": "2023-07-17T07:40:44.188816Z"
    }
   }
  },
  {
   "cell_type": "code",
   "execution_count": 8,
   "outputs": [
    {
     "name": "stdout",
     "output_type": "stream",
     "text": [
      "Label 0 corresponds csharp\n",
      "Label 1 corresponds java\n",
      "Label 2 corresponds javascript\n",
      "Label 3 corresponds python\n"
     ]
    }
   ],
   "source": [
    "# Get the label information\n",
    "class_names = raw_train_ds.class_names\n",
    "for i, class_name in enumerate(class_names):\n",
    "    print(f\"Label {i} corresponds {class_name}\")"
   ],
   "metadata": {
    "collapsed": false,
    "ExecuteTime": {
     "end_time": "2023-07-17T07:40:44.340740Z",
     "start_time": "2023-07-17T07:40:44.285046Z"
    }
   }
  },
  {
   "cell_type": "code",
   "execution_count": 9,
   "outputs": [
    {
     "name": "stdout",
     "output_type": "stream",
     "text": [
      "Found 8000 files belonging to 4 classes.\n"
     ]
    }
   ],
   "source": [
    "# Load the test data\n",
    "raw_test_ds = utils.text_dataset_from_directory(\n",
    "    directory=test_dir,\n",
    "    batch_size=batch_size\n",
    ")"
   ],
   "metadata": {
    "collapsed": false,
    "ExecuteTime": {
     "end_time": "2023-07-17T07:40:44.719156Z",
     "start_time": "2023-07-17T07:40:44.340930Z"
    }
   }
  },
  {
   "cell_type": "markdown",
   "source": [
    "## Prepare the StackOverflow dataset for training\n",
    "\n",
    "In this step we will:\n",
    "\n",
    "1. Standardize - Involves removing punctuation, HTML elements, etc...\n",
    "2. Tokenize - Splitting strings up into individual words (or characters, ngrams)\n",
    "3. Vectorize - Convert words into numbers"
   ],
   "metadata": {
    "collapsed": false,
    "ExecuteTime": {
     "end_time": "2023-07-14T20:49:55.240038Z",
     "start_time": "2023-07-14T20:49:54.828160Z"
    }
   },
   "outputs": [
    {
     "name": "stdout",
     "output_type": "stream",
     "text": [
      "Found 8000 files belonging to 4 classes.\n"
     ]
    }
   ],
   "execution_count": 10
  },
  {
   "cell_type": "markdown",
   "source": [
    "### Build 'binary' vectorization mode to build a bag-of-words model."
   ],
   "metadata": {
    "collapsed": false
   }
  },
  {
   "cell_type": "code",
   "execution_count": 10,
   "outputs": [],
   "source": [
    "VOCAB_SIZE = 10_000 # Maximum number of words in our vocabulary.\n",
    "binary_vectorize_layer = layers.TextVectorization(\n",
    "    max_tokens=VOCAB_SIZE,\n",
    "    standardize=\"lower_and_strip_punctuation\",\n",
    "    split=\"whitespace\",\n",
    "    output_mode=\"binary\"\n",
    ")"
   ],
   "metadata": {
    "collapsed": false,
    "ExecuteTime": {
     "end_time": "2023-07-17T07:40:44.771305Z",
     "start_time": "2023-07-17T07:40:44.706543Z"
    }
   }
  },
  {
   "cell_type": "markdown",
   "source": [
    "### build 'int' mode with a 1D ConvNet."
   ],
   "metadata": {
    "collapsed": false,
    "ExecuteTime": {
     "end_time": "2023-07-14T20:49:55.293391Z",
     "start_time": "2023-07-14T20:49:55.226927Z"
    }
   },
   "outputs": [],
   "execution_count": 11
  },
  {
   "cell_type": "code",
   "execution_count": 11,
   "outputs": [],
   "source": [
    "MAX_SEQUENCE_LENGTH = 250 # explicit maximum sequence length, which will cause the layer to pad or truncate sequences to exactly output_sequence_length\n",
    "\n",
    "int_vectorize_layer = layers.TextVectorization(\n",
    "    max_tokens=VOCAB_SIZE,\n",
    "    standardize=\"lower_and_strip_punctuation\",\n",
    "    split=\"whitespace\",\n",
    "    output_mode=\"int\",\n",
    "    output_sequence_length=MAX_SEQUENCE_LENGTH\n",
    ")"
   ],
   "metadata": {
    "collapsed": false,
    "ExecuteTime": {
     "end_time": "2023-07-17T07:40:44.826775Z",
     "start_time": "2023-07-17T07:40:44.771051Z"
    }
   }
  },
  {
   "cell_type": "code",
   "execution_count": 12,
   "outputs": [],
   "source": [
    "# Adapt the text vectorizers to the data (build up the vocabulary)\n",
    "# IMPORTANT: Only adapt on training data and not the test-data. Otherwise it would leak test data into the training data.\n",
    "train_text = raw_train_ds.map(lambda text, labels: text)\n",
    "binary_vectorize_layer.adapt(train_text)\n",
    "int_vectorize_layer.adapt(train_text)"
   ],
   "metadata": {
    "collapsed": false,
    "ExecuteTime": {
     "end_time": "2023-07-17T07:40:45.832313Z",
     "start_time": "2023-07-17T07:40:44.827606Z"
    }
   }
  },
  {
   "cell_type": "code",
   "execution_count": 13,
   "outputs": [],
   "source": [
    "# Print the results of using these layers to preprocess data:\n",
    "def binary_vectorize_text(text, label):\n",
    "    text = tf.expand_dims(text, -1)\n",
    "    return binary_vectorize_layer(text), label\n",
    "\n",
    "def int_vectorize_text(text, label):\n",
    "    text = tf.expand_dims(text, -1)\n",
    "    return int_vectorize_layer(text), label"
   ],
   "metadata": {
    "collapsed": false,
    "ExecuteTime": {
     "end_time": "2023-07-17T07:40:45.893812Z",
     "start_time": "2023-07-17T07:40:45.833181Z"
    }
   }
  },
  {
   "cell_type": "code",
   "execution_count": 14,
   "outputs": [
    {
     "name": "stdout",
     "output_type": "stream",
     "text": [
      "Label: 2\n",
      "Question: b'\"what is the difference between these two ways to create an element? var a = document.createelement(\\'div\\');..a.id = \"\"mydiv\"\";...and..var a = document.createelement(\\'div\\').id = \"\"mydiv\"\";...what is the difference between them such that the first one works and the second one doesn\\'t?\"\\n'\n"
     ]
    }
   ],
   "source": [
    "text_batch, label_batch = next(iter(raw_train_ds))\n",
    "first_question, first_label = text_batch[0], label_batch[0]\n",
    "print(f\"Label: {first_label}\")\n",
    "print(f\"Question: {first_question}\")"
   ],
   "metadata": {
    "collapsed": false,
    "ExecuteTime": {
     "end_time": "2023-07-17T07:40:45.959442Z",
     "start_time": "2023-07-17T07:40:45.894320Z"
    }
   }
  },
  {
   "cell_type": "code",
   "execution_count": 15,
   "outputs": [
    {
     "name": "stdout",
     "output_type": "stream",
     "text": [
      "'binary' vectorized question: tf.Tensor([[1. 1. 0. ... 0. 0. 0.]], shape=(1, 10000), dtype=float32)\n"
     ]
    }
   ],
   "source": [
    "# Show the output created when using 'binary' (bag-of-words) model. As you can see we get a total of 10.000 values for the sentence.\n",
    "print(\"'binary' vectorized question:\", binary_vectorize_text(first_question, first_label)[0])"
   ],
   "metadata": {
    "collapsed": false,
    "ExecuteTime": {
     "end_time": "2023-07-17T07:40:46.065840Z",
     "start_time": "2023-07-17T07:40:45.959250Z"
    }
   }
  },
  {
   "cell_type": "code",
   "execution_count": 16,
   "outputs": [
    {
     "name": "stdout",
     "output_type": "stream",
     "text": [
      "'int' vectorized question: tf.Tensor(\n",
      "[[ 55   6   2 410 211 229 121 895   4 124  32 245  43   5   1   1   5   1\n",
      "    1   6   2 410 211 191 318  14   2  98  71 188   8   2 199  71 178   0\n",
      "    0   0   0   0   0   0   0   0   0   0   0   0   0   0   0   0   0   0\n",
      "    0   0   0   0   0   0   0   0   0   0   0   0   0   0   0   0   0   0\n",
      "    0   0   0   0   0   0   0   0   0   0   0   0   0   0   0   0   0   0\n",
      "    0   0   0   0   0   0   0   0   0   0   0   0   0   0   0   0   0   0\n",
      "    0   0   0   0   0   0   0   0   0   0   0   0   0   0   0   0   0   0\n",
      "    0   0   0   0   0   0   0   0   0   0   0   0   0   0   0   0   0   0\n",
      "    0   0   0   0   0   0   0   0   0   0   0   0   0   0   0   0   0   0\n",
      "    0   0   0   0   0   0   0   0   0   0   0   0   0   0   0   0   0   0\n",
      "    0   0   0   0   0   0   0   0   0   0   0   0   0   0   0   0   0   0\n",
      "    0   0   0   0   0   0   0   0   0   0   0   0   0   0   0   0   0   0\n",
      "    0   0   0   0   0   0   0   0   0   0   0   0   0   0   0   0   0   0\n",
      "    0   0   0   0   0   0   0   0   0   0   0   0   0   0   0   0]], shape=(1, 250), dtype=int64)\n"
     ]
    }
   ],
   "source": [
    "# Show the output created using 'int' model.\n",
    "_ = int_vectorize_text(first_question, first_label)[0]\n",
    "print(\"'int' vectorized question:\", _)"
   ],
   "metadata": {
    "collapsed": false,
    "ExecuteTime": {
     "end_time": "2023-07-17T07:40:46.133119Z",
     "start_time": "2023-07-17T07:40:46.064676Z"
    }
   }
  },
  {
   "cell_type": "markdown",
   "source": [
    "## Re-create the text using the 'int' TextVectorizer\n",
    "\n",
    "Some things to point out:\n",
    "\n",
    "- Punctuation and markup (HTML for example) are all gone\n",
    "- [UNK] are used to donate words that are not part of the vocabulary, for example the word 'regularpolygon' is not part of the vocabulary.\n",
    "- Some weird words are in the text for example 'systemoutprintlnwelcome' which actually was code: 'System.out.println(\"Welcome\").\n",
    "- The length of the text has been cut-off at 250 words or when the text was shorter the tensor was filled out to a maximum of 250 words. This was part of the configuration of the 'int' TextVectorizer."
   ],
   "metadata": {
    "collapsed": false,
    "ExecuteTime": {
     "end_time": "2023-07-14T20:49:59.124027Z",
     "start_time": "2023-07-14T20:49:59.048102Z"
    }
   },
   "outputs": [
    {
     "name": "stdout",
     "output_type": "stream",
     "text": [
      "'int' vectorized question: tf.Tensor(\n",
      "[[ 55   6   2 410 211 229 121 895   4 124  32 245  43   5   1   1   5   1\n",
      "    1   6   2 410 211 191 318  14   2  98  71 188   8   2 199  71 178   0\n",
      "    0   0   0   0   0   0   0   0   0   0   0   0   0   0   0   0   0   0\n",
      "    0   0   0   0   0   0   0   0   0   0   0   0   0   0   0   0   0   0\n",
      "    0   0   0   0   0   0   0   0   0   0   0   0   0   0   0   0   0   0\n",
      "    0   0   0   0   0   0   0   0   0   0   0   0   0   0   0   0   0   0\n",
      "    0   0   0   0   0   0   0   0   0   0   0   0   0   0   0   0   0   0\n",
      "    0   0   0   0   0   0   0   0   0   0   0   0   0   0   0   0   0   0\n",
      "    0   0   0   0   0   0   0   0   0   0   0   0   0   0   0   0   0   0\n",
      "    0   0   0   0   0   0   0   0   0   0   0   0   0   0   0   0   0   0\n",
      "    0   0   0   0   0   0   0   0   0   0   0   0   0   0   0   0   0   0\n",
      "    0   0   0   0   0   0   0   0   0   0   0   0   0   0   0   0   0   0\n",
      "    0   0   0   0   0   0   0   0   0   0   0   0   0   0   0   0   0   0\n",
      "    0   0   0   0   0   0   0   0   0   0   0   0   0   0   0   0]], shape=(1, 250), dtype=int64)\n"
     ]
    }
   ],
   "execution_count": 17
  },
  {
   "cell_type": "code",
   "execution_count": 17,
   "outputs": [
    {
     "data": {
      "text/plain": "'what is the difference between these two ways to create an element var a [UNK] [UNK] a [UNK] [UNK] is the difference between them such that the first one works and the second one doesnt                                                                                                                                                                                                                       '"
     },
     "execution_count": 17,
     "metadata": {},
     "output_type": "execute_result"
    }
   ],
   "source": [
    "# Re-create the text from the TextVectorizer\n",
    "\" \".join([int_vectorize_layer.get_vocabulary()[val] for val in tf.squeeze(_)])"
   ],
   "metadata": {
    "collapsed": false,
    "ExecuteTime": {
     "end_time": "2023-07-17T07:40:48.470229Z",
     "start_time": "2023-07-17T07:40:46.132693Z"
    }
   }
  },
  {
   "cell_type": "code",
   "execution_count": 18,
   "outputs": [],
   "source": [
    "# Apply both TextVectorizers on the training, validation and test data.\n",
    "binary_train_ds = raw_train_ds.map(binary_vectorize_text)\n",
    "binary_validation_ds = raw_validation_ds.map(binary_vectorize_text)\n",
    "binary_test_ds = raw_test_ds.map(binary_vectorize_text)\n",
    "\n",
    "int_train_ds = raw_train_ds.map(int_vectorize_text)\n",
    "int_validation_ds = raw_validation_ds.map(int_vectorize_text)\n",
    "int_test_ds = raw_test_ds.map(int_vectorize_text)"
   ],
   "metadata": {
    "collapsed": false,
    "ExecuteTime": {
     "end_time": "2023-07-17T07:40:48.692694Z",
     "start_time": "2023-07-17T07:40:48.452084Z"
    }
   }
  },
  {
   "cell_type": "markdown",
   "source": [
    "## Configure the dataset for performance\n",
    "\n",
    "These are two important methods you should use when loading data to make sure that I/O does not become blocking.\n",
    "\n",
    "1) Dataset.cache keeps data in memory after it's loaded off disk. This will ensure the dataset does not become a bottleneck while training your model. If your dataset is too large to fit into memory, you can also use this method to create a performant on-disk cache, which is more efficient to read than many small files.\n",
    "2) Dataset.prefetch overlaps data preprocessing and model execution while training. You can learn more about both methods, as well as how to cache data to disk in the Prefetching section of the Better performance with the tf.data API guide."
   ],
   "metadata": {
    "collapsed": false,
    "ExecuteTime": {
     "end_time": "2023-07-14T20:50:03.371037Z",
     "start_time": "2023-07-14T20:50:03.208541Z"
    }
   },
   "outputs": [],
   "execution_count": 19
  },
  {
   "cell_type": "code",
   "execution_count": 19,
   "outputs": [],
   "source": [
    "AUTOTUNE = tf.data.AUTOTUNE\n",
    "\n",
    "def configure_dataset(dataset):\n",
    "    return dataset.cache().prefetch(buffer_size=AUTOTUNE)"
   ],
   "metadata": {
    "collapsed": false,
    "ExecuteTime": {
     "end_time": "2023-07-17T07:40:48.763922Z",
     "start_time": "2023-07-17T07:40:48.612821Z"
    }
   }
  },
  {
   "cell_type": "code",
   "execution_count": 20,
   "outputs": [],
   "source": [
    "# Confiure all datasets to use caching with autotune buffer size\n",
    "binary_train_ds = configure_dataset(binary_train_ds)\n",
    "binary_validation_ds = configure_dataset(binary_validation_ds)\n",
    "binary_test_ds = configure_dataset(binary_test_ds)\n",
    "\n",
    "int_train_ds = configure_dataset(int_train_ds)\n",
    "int_validation_ds = configure_dataset(int_validation_ds)\n",
    "int_test_ds = configure_dataset(int_test_ds)"
   ],
   "metadata": {
    "collapsed": false,
    "ExecuteTime": {
     "end_time": "2023-07-17T07:40:48.895743Z",
     "start_time": "2023-07-17T07:40:48.670841Z"
    }
   }
  },
  {
   "cell_type": "markdown",
   "source": [
    "## Train the model"
   ],
   "metadata": {
    "collapsed": false,
    "ExecuteTime": {
     "end_time": "2023-07-14T20:50:03.485627Z",
     "start_time": "2023-07-14T20:50:03.427146Z"
    }
   },
   "outputs": [],
   "execution_count": 21
  },
  {
   "cell_type": "code",
   "execution_count": 21,
   "outputs": [
    {
     "name": "stdout",
     "output_type": "stream",
     "text": [
      "Epoch 1/10\n",
      "200/200 [==============================] - 2s 7ms/step - loss: 1.1220 - accuracy: 0.6447 - val_loss: 0.9168 - val_accuracy: 0.7844\n",
      "Epoch 2/10\n",
      "200/200 [==============================] - 1s 6ms/step - loss: 0.7805 - accuracy: 0.8198 - val_loss: 0.7518 - val_accuracy: 0.7987\n",
      "Epoch 3/10\n",
      "200/200 [==============================] - 1s 5ms/step - loss: 0.6286 - accuracy: 0.8620 - val_loss: 0.6658 - val_accuracy: 0.8100\n",
      "Epoch 4/10\n",
      "200/200 [==============================] - 1s 5ms/step - loss: 0.5350 - accuracy: 0.8859 - val_loss: 0.6122 - val_accuracy: 0.8231\n",
      "Epoch 5/10\n",
      "200/200 [==============================] - 1s 5ms/step - loss: 0.4688 - accuracy: 0.9048 - val_loss: 0.5754 - val_accuracy: 0.8325\n",
      "Epoch 6/10\n",
      "200/200 [==============================] - 1s 6ms/step - loss: 0.4185 - accuracy: 0.9159 - val_loss: 0.5486 - val_accuracy: 0.8394\n",
      "Epoch 7/10\n",
      "200/200 [==============================] - 1s 6ms/step - loss: 0.3782 - accuracy: 0.9281 - val_loss: 0.5284 - val_accuracy: 0.8400\n",
      "Epoch 8/10\n",
      "200/200 [==============================] - 1s 6ms/step - loss: 0.3449 - accuracy: 0.9350 - val_loss: 0.5128 - val_accuracy: 0.8400\n",
      "Epoch 9/10\n",
      "200/200 [==============================] - 1s 6ms/step - loss: 0.3166 - accuracy: 0.9428 - val_loss: 0.5005 - val_accuracy: 0.8388\n",
      "Epoch 10/10\n",
      "200/200 [==============================] - 1s 5ms/step - loss: 0.2923 - accuracy: 0.9477 - val_loss: 0.4907 - val_accuracy: 0.8419\n"
     ]
    }
   ],
   "source": [
    "binary_model = tf.keras.Sequential([\n",
    "    layers.Dense(units=4)\n",
    "])\n",
    "\n",
    "# from_logits = True means that the last layer in the model does not have a softmax function (probability between 0 and 1 distributed over all the possible outcomes)\n",
    "# from_logits = False means that the last layer in the model does have a softmax function (probability between 0 and 1 distributed over all the possible outcomes)\n",
    "binary_model.compile(loss=losses.SparseCategoricalCrossentropy(from_logits=True),\n",
    "                     optimizer=optimizers.Adam(),\n",
    "                     metrics=[\"accuracy\"])\n",
    "\n",
    "history = binary_model.fit(binary_train_ds, validation_data=binary_validation_ds, epochs=10)"
   ],
   "metadata": {
    "collapsed": false,
    "ExecuteTime": {
     "end_time": "2023-07-17T07:41:00.795321Z",
     "start_time": "2023-07-17T07:40:48.731289Z"
    }
   }
  },
  {
   "cell_type": "code",
   "execution_count": 22,
   "outputs": [],
   "source": [
    "def create_model(vocab_size, num_labels):\n",
    "    model = tf.keras.Sequential([\n",
    "        layers.Embedding(input_dim=vocab_size, output_dim=64, mask_zero=True),\n",
    "        layers.Conv1D(filters=64, kernel_size=5, padding='valid', activation='relu', strides=2),\n",
    "        layers.GlobalMaxPooling1D(),\n",
    "        layers.Dense(units=num_labels)\n",
    "    ])\n",
    "    return model"
   ],
   "metadata": {
    "collapsed": false,
    "ExecuteTime": {
     "end_time": "2023-07-17T07:41:00.897726Z",
     "start_time": "2023-07-17T07:41:00.762278Z"
    }
   }
  },
  {
   "cell_type": "code",
   "execution_count": 23,
   "outputs": [
    {
     "name": "stdout",
     "output_type": "stream",
     "text": [
      "Epoch 1/5\n",
      "200/200 [==============================] - 6s 30ms/step - loss: 1.1573 - accuracy: 0.5050 - val_loss: 0.7585 - val_accuracy: 0.6913\n",
      "Epoch 2/5\n",
      "200/200 [==============================] - 3s 14ms/step - loss: 0.6304 - accuracy: 0.7581 - val_loss: 0.5517 - val_accuracy: 0.7962\n",
      "Epoch 3/5\n",
      "200/200 [==============================] - 2s 12ms/step - loss: 0.3825 - accuracy: 0.8798 - val_loss: 0.4813 - val_accuracy: 0.8206\n",
      "Epoch 4/5\n",
      "200/200 [==============================] - 2s 12ms/step - loss: 0.2131 - accuracy: 0.9469 - val_loss: 0.4728 - val_accuracy: 0.8219\n",
      "Epoch 5/5\n",
      "200/200 [==============================] - 2s 12ms/step - loss: 0.1070 - accuracy: 0.9805 - val_loss: 0.4947 - val_accuracy: 0.8188\n"
     ]
    }
   ],
   "source": [
    "# `vocab_size` is `VOCAB_SIZE + 1` since `0` is used additionally for padding.\n",
    "int_model = create_model(vocab_size=VOCAB_SIZE + 1, num_labels=len(class_names))\n",
    "int_model.compile(loss=losses.SparseCategoricalCrossentropy(from_logits=True),\n",
    "                  optimizer=optimizers.Adam(),\n",
    "                  metrics=[\"accuracy\"])\n",
    "history = int_model.fit(int_train_ds, validation_data=int_validation_ds, epochs=5)"
   ],
   "metadata": {
    "collapsed": false,
    "ExecuteTime": {
     "end_time": "2023-07-17T07:41:17.370554Z",
     "start_time": "2023-07-17T07:41:00.823075Z"
    }
   }
  },
  {
   "cell_type": "markdown",
   "source": [
    "## Compare the two models"
   ],
   "metadata": {
    "collapsed": false
   }
  },
  {
   "cell_type": "code",
   "execution_count": 24,
   "outputs": [
    {
     "name": "stdout",
     "output_type": "stream",
     "text": [
      "Linear model on binary vectorized data:\n",
      "Model: \"sequential\"\n",
      "_________________________________________________________________\n",
      " Layer (type)                Output Shape              Param #   \n",
      "=================================================================\n",
      " dense (Dense)               (None, 4)                 40004     \n",
      "                                                                 \n",
      "=================================================================\n",
      "Total params: 40,004\n",
      "Trainable params: 40,004\n",
      "Non-trainable params: 0\n",
      "_________________________________________________________________\n",
      "None\n"
     ]
    }
   ],
   "source": [
    "print(\"Linear model on binary vectorized data:\")\n",
    "print(binary_model.summary())"
   ],
   "metadata": {
    "collapsed": false,
    "ExecuteTime": {
     "end_time": "2023-07-17T07:41:17.452092Z",
     "start_time": "2023-07-17T07:41:17.366019Z"
    }
   }
  },
  {
   "cell_type": "code",
   "execution_count": 25,
   "outputs": [
    {
     "name": "stdout",
     "output_type": "stream",
     "text": [
      "ConvNet model on int vectorized data:\n",
      "Model: \"sequential_1\"\n",
      "_________________________________________________________________\n",
      " Layer (type)                Output Shape              Param #   \n",
      "=================================================================\n",
      " embedding (Embedding)       (None, None, 64)          640064    \n",
      "                                                                 \n",
      " conv1d (Conv1D)             (None, None, 64)          20544     \n",
      "                                                                 \n",
      " global_max_pooling1d (Globa  (None, 64)               0         \n",
      " lMaxPooling1D)                                                  \n",
      "                                                                 \n",
      " dense_1 (Dense)             (None, 4)                 260       \n",
      "                                                                 \n",
      "=================================================================\n",
      "Total params: 660,868\n",
      "Trainable params: 660,868\n",
      "Non-trainable params: 0\n",
      "_________________________________________________________________\n",
      "None\n"
     ]
    }
   ],
   "source": [
    "print(\"ConvNet model on int vectorized data:\")\n",
    "print(int_model.summary())"
   ],
   "metadata": {
    "collapsed": false,
    "ExecuteTime": {
     "end_time": "2023-07-17T07:41:17.745790Z",
     "start_time": "2023-07-17T07:41:17.437189Z"
    }
   }
  },
  {
   "cell_type": "markdown",
   "source": [
    "## Evaluate both models"
   ],
   "metadata": {
    "collapsed": false
   }
  },
  {
   "cell_type": "code",
   "execution_count": 26,
   "outputs": [
    {
     "name": "stdout",
     "output_type": "stream",
     "text": [
      "250/250 [==============================] - 1s 4ms/step - loss: 0.5176 - accuracy: 0.8164\n",
      "250/250 [==============================] - 1s 5ms/step - loss: 0.5138 - accuracy: 0.8124\n",
      "Binary model accuracy: 81.64%\n",
      "Int model accuracy: 81.24%\n"
     ]
    }
   ],
   "source": [
    "binary_loss, binary_accuracy = binary_model.evaluate(binary_test_ds)\n",
    "int_loss, int_accuracy = int_model.evaluate(int_test_ds)\n",
    "\n",
    "print(f\"Binary model accuracy: {binary_accuracy:2.2%}\")\n",
    "print(f\"Int model accuracy: {int_accuracy:2.2%}\")"
   ],
   "metadata": {
    "collapsed": false,
    "ExecuteTime": {
     "end_time": "2023-07-17T07:41:20.020698Z",
     "start_time": "2023-07-17T07:41:17.506142Z"
    }
   }
  },
  {
   "cell_type": "markdown",
   "source": [
    "## Export the model\n",
    "\n",
    "There is a performance difference to keep in mind when choosing where to apply tf.keras.layers.TextVectorization.\n",
    "\n",
    "Using it outside of your model enables you to do asynchronous CPU processing and buffering of your data when training on GPU.\n",
    "\n",
    "So, if you're training your model on the GPU, you probably want to go with this option to get the best performance while developing your model, then switch to including the TextVectorization layer inside your model when you're ready to prepare for deployment."
   ],
   "metadata": {
    "collapsed": false
   }
  },
  {
   "cell_type": "code",
   "execution_count": 27,
   "outputs": [
    {
     "name": "stdout",
     "output_type": "stream",
     "text": [
      "250/250 [==============================] - 2s 9ms/step - loss: 0.5176 - accuracy: 0.8164\n",
      "Accuracy: {accuracy:2.2%}\n"
     ]
    }
   ],
   "source": [
    "export_model = tf.keras.Sequential(\n",
    "    [binary_vectorize_layer, binary_model,\n",
    "     layers.Activation('sigmoid')])\n",
    "\n",
    "export_model.compile(\n",
    "    loss=losses.SparseCategoricalCrossentropy(from_logits=False),\n",
    "    optimizer='adam',\n",
    "    metrics=['accuracy'])\n",
    "\n",
    "# Test it with `raw_test_ds`, which yields raw strings\n",
    "loss, accuracy = export_model.evaluate(raw_test_ds)\n",
    "print(\"Accuracy: {accuracy:2.2%}\")"
   ],
   "metadata": {
    "collapsed": false,
    "ExecuteTime": {
     "end_time": "2023-07-17T07:41:22.503558Z",
     "start_time": "2023-07-17T07:41:19.971152Z"
    }
   }
  },
  {
   "cell_type": "code",
   "execution_count": 28,
   "outputs": [],
   "source": [
    "def get_string_labels(predicted_scores_batch):\n",
    "  predicted_int_labels = tf.math.argmax(predicted_scores_batch, axis=1)\n",
    "  predicted_labels = tf.gather(raw_train_ds.class_names, predicted_int_labels)\n",
    "  return predicted_labels"
   ],
   "metadata": {
    "collapsed": false,
    "ExecuteTime": {
     "end_time": "2023-07-17T07:41:22.593916Z",
     "start_time": "2023-07-17T07:41:22.502799Z"
    }
   }
  },
  {
   "cell_type": "markdown",
   "source": [
    "## Run inference on new data"
   ],
   "metadata": {
    "collapsed": false
   }
  },
  {
   "cell_type": "code",
   "execution_count": 29,
   "outputs": [
    {
     "name": "stdout",
     "output_type": "stream",
     "text": [
      "1/1 [==============================] - 0s 194ms/step\n",
      "Question:  how do I extract keys from a dict into a list?\n",
      "Predicted label:  b'python'\n",
      "Question:  debug public static void main(string[] args) {...}\n",
      "Predicted label:  b'java'\n"
     ]
    }
   ],
   "source": [
    "inputs = [\n",
    "    \"how do I extract keys from a dict into a list?\",  # 'python'\n",
    "    \"debug public static void main(string[] args) {...}\",  # 'java'\n",
    "]\n",
    "\n",
    "predicted_scores = export_model.predict(inputs)\n",
    "predicted_labels = get_string_labels(predicted_scores)\n",
    "\n",
    "for input, label in zip(inputs, predicted_labels):\n",
    "  print(\"Question: \", input)\n",
    "  print(\"Predicted label: \", label.numpy())"
   ],
   "metadata": {
    "collapsed": false,
    "ExecuteTime": {
     "end_time": "2023-07-17T07:41:22.828341Z",
     "start_time": "2023-07-17T07:41:22.559843Z"
    }
   }
  },
  {
   "cell_type": "code",
   "execution_count": 30,
   "outputs": [
    {
     "data": {
      "text/plain": "array([[0.36900595, 0.2443902 , 0.21475226, 0.8020787 ],\n       [0.7013092 , 0.782961  , 0.08905066, 0.08734852]], dtype=float32)"
     },
     "execution_count": 30,
     "metadata": {},
     "output_type": "execute_result"
    }
   ],
   "source": [
    "predicted_scores"
   ],
   "metadata": {
    "collapsed": false,
    "ExecuteTime": {
     "end_time": "2023-07-17T07:41:40.900081Z",
     "start_time": "2023-07-17T07:41:40.522396Z"
    }
   }
  },
  {
   "cell_type": "markdown",
   "source": [
    "# Example 2: Predict the author of Iliad translations"
   ],
   "metadata": {
    "collapsed": false
   }
  },
  {
   "cell_type": "code",
   "execution_count": 32,
   "outputs": [
    {
     "name": "stdout",
     "output_type": "stream",
     "text": [
      "Download of https://storage.googleapis.com/download.tensorflow.org/data/illiad/cowper.txt completed.\n",
      "Download of https://storage.googleapis.com/download.tensorflow.org/data/illiad/derby.txt completed.\n",
      "Download of https://storage.googleapis.com/download.tensorflow.org/data/illiad/butler.txt completed.\n",
      "There are 0 directories, and 3 in ./data2\n"
     ]
    }
   ],
   "source": [
    "DIRECTORY_URL = 'https://storage.googleapis.com/download.tensorflow.org/data/illiad/'\n",
    "FILE_NAMES = ['cowper.txt', 'derby.txt', 'butler.txt']\n",
    "\n",
    "for name in FILE_NAMES:\n",
    "    mli.download_file(f\"{DIRECTORY_URL}{name}\", f'./data2/{name}')\n",
    "\n",
    "mli.list_dir_summary('./data2')"
   ],
   "metadata": {
    "collapsed": false,
    "ExecuteTime": {
     "end_time": "2023-07-17T09:05:27.732634Z",
     "start_time": "2023-07-17T09:05:26.346984Z"
    }
   }
  },
  {
   "cell_type": "markdown",
   "source": [
    "## Load the dataset"
   ],
   "metadata": {
    "collapsed": false
   }
  },
  {
   "cell_type": "code",
   "execution_count": 33,
   "outputs": [],
   "source": [
    "def labeler(example, index):\n",
    "    return example, tf.cast(index, tf.int64)"
   ],
   "metadata": {
    "collapsed": false,
    "ExecuteTime": {
     "end_time": "2023-07-17T09:16:42.802212Z",
     "start_time": "2023-07-17T09:16:42.743520Z"
    }
   }
  },
  {
   "cell_type": "code",
   "execution_count": 38,
   "outputs": [],
   "source": [
    "labeled_data_sets = []\n",
    "\n",
    "for i, filename in enumerate(FILE_NAMES):\n",
    "    lines_dataset = tf.data.TextLineDataset(filenames=f\"./data2/{filename}\")\n",
    "    labeled_dataset = lines_dataset.map(lambda ex: labeler(ex, i))\n",
    "    labeled_data_sets.append(labeled_dataset)"
   ],
   "metadata": {
    "collapsed": false,
    "ExecuteTime": {
     "end_time": "2023-07-17T09:21:14.081437Z",
     "start_time": "2023-07-17T09:21:14.004894Z"
    }
   }
  },
  {
   "cell_type": "markdown",
   "source": [
    "## Next, combine these labeled datasets into a single dataset using Dataset.concatenate, and shuffle it with Dataset.shuffle"
   ],
   "metadata": {
    "collapsed": false
   }
  },
  {
   "cell_type": "code",
   "execution_count": 37,
   "outputs": [],
   "source": [
    "BUFFER_SIZE = 50_000\n",
    "BATCH_SIZE = 64\n",
    "VALIDATION_SIZE = 5000"
   ],
   "metadata": {
    "collapsed": false,
    "ExecuteTime": {
     "end_time": "2023-07-17T09:20:35.407688Z",
     "start_time": "2023-07-17T09:20:35.216507Z"
    }
   }
  },
  {
   "cell_type": "code",
   "execution_count": 39,
   "outputs": [],
   "source": [
    "all_labeled_data = labeled_data_sets[0]\n",
    "for labeled_dataset in labeled_data_sets[1:]:\n",
    "  all_labeled_data = all_labeled_data.concatenate(labeled_dataset)\n",
    "\n",
    "all_labeled_data = all_labeled_data.shuffle(BUFFER_SIZE, reshuffle_each_iteration=False)"
   ],
   "metadata": {
    "collapsed": false,
    "ExecuteTime": {
     "end_time": "2023-07-17T09:21:30.220399Z",
     "start_time": "2023-07-17T09:21:30.163220Z"
    }
   }
  },
  {
   "cell_type": "markdown",
   "source": [
    "## Inspect some examples"
   ],
   "metadata": {
    "collapsed": false
   }
  },
  {
   "cell_type": "code",
   "execution_count": 42,
   "outputs": [
    {
     "name": "stdout",
     "output_type": "stream",
     "text": [
      "Sentence:  b'\"Tydides, nor exaggerated praise'\n",
      "Label: 1\n",
      "Sentence:  b'criers round to call the people in assembly; so they called them and'\n",
      "Label: 2\n",
      "Sentence:  b'This by the son of Telamon was borne'\n",
      "Label: 1\n",
      "Sentence:  b\"heaven's name, do I now see? Is it not Hector come to life again? Every\"\n",
      "Label: 2\n",
      "Sentence:  b\"Alighting, thus his speech to Priam turn'd.\"\n",
      "Label: 0\n",
      "Sentence:  b'bones be laid apart from yours, Achilles, but with them; even as we'\n",
      "Label: 2\n",
      "Sentence:  b'To face my spear; of most unhappy sires'\n",
      "Label: 1\n",
      "Sentence:  b\"Who sits in sorrow by the high-prow'd ships,\"\n",
      "Label: 1\n",
      "Sentence:  b'Led to the city consecrate to Mars'\n",
      "Label: 0\n",
      "Sentence:  b'sorely against my will. Of all inhabited cities under the sun and stars'\n",
      "Label: 2\n"
     ]
    }
   ],
   "source": [
    "for text, label in all_labeled_data.take(10):\n",
    "  print(\"Sentence: \", text.numpy())\n",
    "  print(\"Label:\", label.numpy())"
   ],
   "metadata": {
    "collapsed": false,
    "ExecuteTime": {
     "end_time": "2023-07-17T09:22:01.366291Z",
     "start_time": "2023-07-17T09:22:00.799026Z"
    }
   }
  },
  {
   "cell_type": "markdown",
   "source": [
    "## Prepare the dataset for training (https://www.tensorflow.org/tutorials/load_data/text#prepare_the_dataset_for_training_2)"
   ],
   "metadata": {
    "collapsed": false
   }
  },
  {
   "cell_type": "code",
   "execution_count": 43,
   "outputs": [],
   "source": [
    "tokenizer = tf_text.UnicodeScriptTokenizer()"
   ],
   "metadata": {
    "collapsed": false,
    "ExecuteTime": {
     "end_time": "2023-07-17T09:23:01.471026Z",
     "start_time": "2023-07-17T09:23:01.418052Z"
    }
   }
  },
  {
   "cell_type": "code",
   "execution_count": 44,
   "outputs": [],
   "source": [
    "def tokenize(text, unused_label):\n",
    "  lower_case = tf_text.case_fold_utf8(text)\n",
    "  return tokenizer.tokenize(lower_case)"
   ],
   "metadata": {
    "collapsed": false,
    "ExecuteTime": {
     "end_time": "2023-07-17T09:23:16.319744Z",
     "start_time": "2023-07-17T09:23:16.267620Z"
    }
   }
  },
  {
   "cell_type": "code",
   "execution_count": 49,
   "outputs": [],
   "source": [
    "tokenized_ds = all_labeled_data.map(tokenize)"
   ],
   "metadata": {
    "collapsed": false,
    "ExecuteTime": {
     "end_time": "2023-07-17T09:24:06.177564Z",
     "start_time": "2023-07-17T09:24:05.587721Z"
    }
   }
  },
  {
   "cell_type": "markdown",
   "source": [
    "## Inspect some samples after the tokenization"
   ],
   "metadata": {
    "collapsed": false
   }
  },
  {
   "cell_type": "code",
   "execution_count": 50,
   "outputs": [
    {
     "name": "stdout",
     "output_type": "stream",
     "text": [
      "Tokens:  [b'\"' b'tydides' b',' b'nor' b'exaggerated' b'praise']\n",
      "Tokens:  [b'criers' b'round' b'to' b'call' b'the' b'people' b'in' b'assembly' b';'\n",
      " b'so' b'they' b'called' b'them' b'and']\n",
      "Tokens:  [b'this' b'by' b'the' b'son' b'of' b'telamon' b'was' b'borne']\n",
      "Tokens:  [b'heaven' b\"'\" b's' b'name' b',' b'do' b'i' b'now' b'see' b'?' b'is'\n",
      " b'it' b'not' b'hector' b'come' b'to' b'life' b'again' b'?' b'every']\n",
      "Tokens:  [b'alighting' b',' b'thus' b'his' b'speech' b'to' b'priam' b'turn' b\"'\"\n",
      " b'd' b'.']\n"
     ]
    }
   ],
   "source": [
    "for text_batch in tokenized_ds.take(5):\n",
    "  print(\"Tokens: \", text_batch.numpy())"
   ],
   "metadata": {
    "collapsed": false,
    "ExecuteTime": {
     "end_time": "2023-07-17T09:24:12.907141Z",
     "start_time": "2023-07-17T09:24:12.169780Z"
    }
   }
  },
  {
   "cell_type": "markdown",
   "source": [
    "## Build a vocabulary by sorting tokens by frequency and keeping the top VOCAB_SIZE tokens"
   ],
   "metadata": {
    "collapsed": false
   }
  },
  {
   "cell_type": "code",
   "execution_count": 55,
   "outputs": [
    {
     "name": "stdout",
     "output_type": "stream",
     "text": [
      "Vocab size:  10000\n",
      "First five vocab entries: [b',', b'the', b'and', b\"'\", b'of']\n"
     ]
    }
   ],
   "source": [
    "tokenized_ds = configure_dataset(tokenized_ds)\n",
    "\n",
    "vocab_dict = collections.defaultdict(lambda: 0)\n",
    "for toks in tokenized_ds.as_numpy_iterator():\n",
    "  for tok in toks:\n",
    "    vocab_dict[tok] += 1\n",
    "\n",
    "# Code above results in a dictionary of 14.262 tokens, now sort the dictionaries\n",
    "# based on the number of occurances column.\n",
    "\n",
    "vocab = sorted(vocab_dict.items(), key=lambda x: x[1], reverse=True)\n",
    "vocab = [token for token, count in vocab]\n",
    "vocab = vocab[:VOCAB_SIZE]\n",
    "vocab_size = len(vocab)\n",
    "print(\"Vocab size: \", vocab_size)\n",
    "print(\"First five vocab entries:\", vocab[:5])"
   ],
   "metadata": {
    "collapsed": false,
    "ExecuteTime": {
     "end_time": "2023-07-17T09:26:27.235049Z",
     "start_time": "2023-07-17T09:26:25.258202Z"
    }
   }
  },
  {
   "cell_type": "markdown",
   "source": [
    "## Convert the tokens into integers.\n",
    "\n",
    "Use the vocab set to create a tf.lookup.StaticVocabularyTable. You will map tokens to integers in the range [2, vocab_size + 2]. As with the TextVectorization layer, 0 is reserved to denote padding and 1 is reserved to denote an out-of-vocabulary (OOV) token."
   ],
   "metadata": {
    "collapsed": false
   }
  },
  {
   "cell_type": "code",
   "execution_count": 61,
   "outputs": [],
   "source": [
    "keys = vocab\n",
    "values = range(2, len(vocab) + 2)  # Reserve `0` for padding, `1` for OOV tokens.\n",
    "\n",
    "init = tf.lookup.KeyValueTensorInitializer(\n",
    "    keys, values, key_dtype=tf.string, value_dtype=tf.int64)\n",
    "\n",
    "num_oov_buckets = 1 # num_oov_buckets = number of buvkets to use for out-of-vocabulary keys.\n",
    "vocab_table = tf.lookup.StaticVocabularyTable(initializer=init, num_oov_buckets=num_oov_buckets)"
   ],
   "metadata": {
    "collapsed": false,
    "ExecuteTime": {
     "end_time": "2023-07-17T09:30:57.807898Z",
     "start_time": "2023-07-17T09:30:57.731977Z"
    }
   }
  },
  {
   "cell_type": "markdown",
   "source": [
    "## Define a function to standardize, tokenize and vectorize the dataset using the tokenizer and lookup table"
   ],
   "metadata": {
    "collapsed": false
   }
  },
  {
   "cell_type": "code",
   "execution_count": 65,
   "outputs": [],
   "source": [
    "def preprocess_text(text: str, label: str):\n",
    "  standardized = tf_text.case_fold_utf8(text)\n",
    "  tokenized = tokenizer.tokenize(standardized)\n",
    "  vectorized = vocab_table.lookup(tokenized)\n",
    "  return vectorized, label"
   ],
   "metadata": {
    "collapsed": false,
    "ExecuteTime": {
     "end_time": "2023-07-17T09:32:19.606585Z",
     "start_time": "2023-07-17T09:32:19.417231Z"
    }
   }
  },
  {
   "cell_type": "code",
   "execution_count": 66,
   "outputs": [
    {
     "name": "stdout",
     "output_type": "stream",
     "text": [
      "Sentence:  b'\"Tydides, nor exaggerated praise'\n",
      "Vectorized sentence:  [  93  610    2   64 9791 1033]\n"
     ]
    }
   ],
   "source": [
    "example_text, example_label = next(iter(all_labeled_data))\n",
    "print(\"Sentence: \", example_text.numpy())\n",
    "vectorized_text, example_label = preprocess_text(example_text, example_label)\n",
    "print(\"Vectorized sentence: \", vectorized_text.numpy())"
   ],
   "metadata": {
    "collapsed": false,
    "ExecuteTime": {
     "end_time": "2023-07-17T09:32:35.757972Z",
     "start_time": "2023-07-17T09:32:35.078752Z"
    }
   }
  },
  {
   "cell_type": "markdown",
   "source": [
    "## Run the preprocess function on the dataset using Dataset.map"
   ],
   "metadata": {
    "collapsed": false
   }
  },
  {
   "cell_type": "code",
   "execution_count": 67,
   "outputs": [],
   "source": [
    "all_encoded_data = all_labeled_data.map(preprocess_text)"
   ],
   "metadata": {
    "collapsed": false,
    "ExecuteTime": {
     "end_time": "2023-07-17T09:33:07.061087Z",
     "start_time": "2023-07-17T09:33:06.619475Z"
    }
   }
  },
  {
   "cell_type": "markdown",
   "source": [
    "## Split the dataset into training and test sets\n",
    "\n",
    "The Keras TextVectorization layer also batches and pads the vectorized data. Padding is required because the examples inside of a batch need to be the same size and shape, but the examples in these datasets are not all the same size—each line of text has a different number of words.\n",
    "\n",
    "tf.data.Dataset supports splitting and padded-batching datasets:"
   ],
   "metadata": {
    "collapsed": false
   }
  },
  {
   "cell_type": "code",
   "execution_count": 68,
   "outputs": [],
   "source": [
    "train_data = all_encoded_data.skip(VALIDATION_SIZE).shuffle(BUFFER_SIZE)\n",
    "validation_data = all_encoded_data.take(VALIDATION_SIZE)"
   ],
   "metadata": {
    "collapsed": false,
    "ExecuteTime": {
     "end_time": "2023-07-17T09:48:55.303210Z",
     "start_time": "2023-07-17T09:48:55.091190Z"
    }
   }
  },
  {
   "cell_type": "code",
   "execution_count": 70,
   "outputs": [],
   "source": [
    "train_data = train_data.padded_batch(BATCH_SIZE)\n",
    "validation_data = validation_data.padded_batch(BATCH_SIZE)"
   ],
   "metadata": {
    "collapsed": false,
    "ExecuteTime": {
     "end_time": "2023-07-17T09:49:20.561480Z",
     "start_time": "2023-07-17T09:49:20.505669Z"
    }
   }
  },
  {
   "cell_type": "markdown",
   "source": [
    "## Inspect train_data and validation_data\n",
    "\n",
    "validation_data and train_data are not collections of (example, label) pairs, but collections of batches. Each batch is a pair of (many examples, many labels) represented as arrays."
   ],
   "metadata": {
    "collapsed": false
   }
  },
  {
   "cell_type": "code",
   "execution_count": 76,
   "outputs": [
    {
     "name": "stdout",
     "output_type": "stream",
     "text": [
      "Text batch shape:  (64, 20)\n",
      "Label batch shape:  (64,)\n",
      "First text example:  tf.Tensor(\n",
      "[  93  610    2   64 9791 1033    0    0    0    0    0    0    0    0\n",
      "    0    0    0    0    0    0], shape=(20,), dtype=int64)\n",
      "First label example:  tf.Tensor(1, shape=(), dtype=int64)\n"
     ]
    }
   ],
   "source": [
    "sample_text, sample_labels = next(iter(validation_data))\n",
    "print(\"Text batch shape: \", sample_text.shape)\n",
    "print(\"Label batch shape: \", sample_labels.shape)\n",
    "print(\"First text example: \", sample_text[0])\n",
    "print(\"First label example: \", sample_labels[0])"
   ],
   "metadata": {
    "collapsed": false,
    "ExecuteTime": {
     "end_time": "2023-07-17T09:51:00.196455Z",
     "start_time": "2023-07-17T09:50:59.551981Z"
    }
   }
  },
  {
   "cell_type": "markdown",
   "source": [
    "## Adjust vocab_size due to padding.\n",
    "\n",
    "Since you use 0 for padding and 1 for out-of-vocabulary (OOV) tokens, the vocabulary size has increased by two"
   ],
   "metadata": {
    "collapsed": false
   }
  },
  {
   "cell_type": "code",
   "execution_count": 77,
   "outputs": [],
   "source": [
    "vocab_size += 2"
   ],
   "metadata": {
    "collapsed": false,
    "ExecuteTime": {
     "end_time": "2023-07-17T09:51:49.913561Z",
     "start_time": "2023-07-17T09:51:49.855351Z"
    }
   }
  },
  {
   "cell_type": "markdown",
   "source": [
    "## Add prefetch and caching to the datasets (function from Example 1)"
   ],
   "metadata": {
    "collapsed": false
   }
  },
  {
   "cell_type": "code",
   "execution_count": 78,
   "outputs": [],
   "source": [
    "train_data = configure_dataset(train_data)\n",
    "validation_data = configure_dataset(validation_data)"
   ],
   "metadata": {
    "collapsed": false,
    "ExecuteTime": {
     "end_time": "2023-07-17T09:52:31.367302Z",
     "start_time": "2023-07-17T09:52:31.317267Z"
    }
   }
  },
  {
   "cell_type": "markdown",
   "source": [
    "## Train the model"
   ],
   "metadata": {
    "collapsed": false
   }
  },
  {
   "cell_type": "code",
   "execution_count": 80,
   "outputs": [
    {
     "name": "stdout",
     "output_type": "stream",
     "text": [
      "Epoch 1/3\n",
      "697/697 [==============================] - 28s 17ms/step - loss: 0.7943 - accuracy: 0.6292 - val_loss: 0.6155 - val_accuracy: 0.7314\n",
      "Epoch 2/3\n",
      "697/697 [==============================] - 8s 11ms/step - loss: 0.4903 - accuracy: 0.7997 - val_loss: 0.5808 - val_accuracy: 0.8140\n",
      "Epoch 3/3\n",
      "697/697 [==============================] - 7s 11ms/step - loss: 0.3634 - accuracy: 0.8724 - val_loss: 0.8057 - val_accuracy: 0.8170\n"
     ]
    }
   ],
   "source": [
    "model = create_model(vocab_size=vocab_size, num_labels=len(FILE_NAMES))\n",
    "\n",
    "model.compile(loss=losses.SparseCategoricalCrossentropy(),\n",
    "              optimizer=optimizers.Adam(),\n",
    "              metrics=[\"accuracy\"])\n",
    "\n",
    "history = model.fit(train_data, validation_data=validation_data, epochs=3)"
   ],
   "metadata": {
    "collapsed": false,
    "ExecuteTime": {
     "end_time": "2023-07-17T09:54:59.097571Z",
     "start_time": "2023-07-17T09:54:15.971508Z"
    }
   }
  },
  {
   "cell_type": "code",
   "execution_count": 81,
   "outputs": [
    {
     "name": "stdout",
     "output_type": "stream",
     "text": [
      "79/79 [==============================] - 0s 6ms/step - loss: 0.8057 - accuracy: 0.8170\n",
      "Loss: 0.8056844472885132\n",
      "Accuracy: 81.70%\n"
     ]
    }
   ],
   "source": [
    "loss, accuracy = model.evaluate(validation_data)\n",
    "\n",
    "print(f\"Loss: {loss}\")\n",
    "print(f\"Accuracy: {accuracy:2.2%}\")"
   ],
   "metadata": {
    "collapsed": false,
    "ExecuteTime": {
     "end_time": "2023-07-17T10:02:22.567121Z",
     "start_time": "2023-07-17T10:02:21.938306Z"
    }
   }
  },
  {
   "cell_type": "markdown",
   "source": [
    "## Export the model\n",
    "\n",
    "To make the model capable of taking raw strings as input, you will create a Keras TextVectorization layer that performs the same steps as your custom preprocessing function. Since you have already trained a vocabulary, you can use TextVectorization.set_vocabulary (instead of TextVectorization.adapt), which trains a new vocabulary."
   ],
   "metadata": {
    "collapsed": false
   }
  },
  {
   "cell_type": "code",
   "execution_count": 82,
   "outputs": [],
   "source": [
    "preprocess_layer = layers.TextVectorization(\n",
    "    max_tokens=vocab_size,\n",
    "    standardize=tf_text.case_fold_utf8,\n",
    "    split=tokenizer.tokenize,\n",
    "    output_mode='int',\n",
    "    output_sequence_length=MAX_SEQUENCE_LENGTH)\n",
    "\n",
    "preprocess_layer.set_vocabulary(vocab)"
   ],
   "metadata": {
    "collapsed": false,
    "ExecuteTime": {
     "end_time": "2023-07-17T10:04:12.499564Z",
     "start_time": "2023-07-17T10:04:12.291326Z"
    }
   }
  },
  {
   "cell_type": "code",
   "execution_count": 85,
   "outputs": [],
   "source": [
    "export_model = tf.keras.Sequential(\n",
    "    [preprocess_layer, model,\n",
    "     layers.Activation('sigmoid')])\n",
    "\n",
    "export_model.compile(\n",
    "    loss=losses.SparseCategoricalCrossentropy(from_logits=False),\n",
    "    optimizer=optimizers.Adam(),\n",
    "    metrics=['accuracy'])"
   ],
   "metadata": {
    "collapsed": false,
    "ExecuteTime": {
     "end_time": "2023-07-17T10:14:04.065587Z",
     "start_time": "2023-07-17T10:14:03.967964Z"
    }
   }
  },
  {
   "cell_type": "code",
   "execution_count": 87,
   "outputs": [
    {
     "name": "stdout",
     "output_type": "stream",
     "text": [
      "79/79 [==============================] - 3s 28ms/step - loss: 0.9030 - accuracy: 0.7360\n",
      "Loss: 0.9029501080513 0.9029501080513\n",
      "Accuracy: 73.60%\n"
     ]
    }
   ],
   "source": [
    "# Create a test dataset of raw strings.\n",
    "test_ds = all_labeled_data.take(VALIDATION_SIZE).batch(BATCH_SIZE)\n",
    "test_ds = configure_dataset(test_ds)\n",
    "\n",
    "loss, accuracy = export_model.evaluate(test_ds)\n",
    "\n",
    "print(f\"Loss: {loss}\", loss)\n",
    "print(f\"Accuracy: {accuracy:2.2%}\")"
   ],
   "metadata": {
    "collapsed": false,
    "ExecuteTime": {
     "end_time": "2023-07-17T10:14:21.121422Z",
     "start_time": "2023-07-17T10:14:18.322206Z"
    }
   }
  },
  {
   "cell_type": "markdown",
   "source": [
    "## Run inference on new data"
   ],
   "metadata": {
    "collapsed": false
   }
  },
  {
   "cell_type": "code",
   "execution_count": 89,
   "outputs": [
    {
     "name": "stdout",
     "output_type": "stream",
     "text": [
      "1/1 [==============================] - 0s 46ms/step\n",
      "Question:  Join'd to th' Ionians with their flowing robes,\n",
      "Predicted label:  1\n",
      "Question:  the allies, and his armour flashed about him so that he seemed to all\n",
      "Predicted label:  2\n",
      "Question:  And with loud clangor of his arms he fell.\n",
      "Predicted label:  0\n"
     ]
    }
   ],
   "source": [
    "inputs = [\n",
    "    \"Join'd to th' Ionians with their flowing robes,\",  # Label: 1\n",
    "    \"the allies, and his armour flashed about him so that he seemed to all\",  # Label: 2\n",
    "    \"And with loud clangor of his arms he fell.\",  # Label: 0\n",
    "]\n",
    "\n",
    "predicted_scores = export_model.predict(inputs)\n",
    "predicted_labels = tf.math.argmax(predicted_scores, axis=1)\n",
    "\n",
    "for input, label in zip(inputs, predicted_labels):\n",
    "  print(\"Question: \", input)\n",
    "  print(\"Predicted label: \", label.numpy())"
   ],
   "metadata": {
    "collapsed": false,
    "ExecuteTime": {
     "end_time": "2023-07-17T10:15:56.726315Z",
     "start_time": "2023-07-17T10:15:56.597415Z"
    }
   }
  },
  {
   "cell_type": "markdown",
   "source": [
    "# Download more datasets using TensorFlow Datasets (TFDS, IMDB)\n",
    "\n",
    "You can download many more datasets from TensorFlow Datasets.\n",
    "\n",
    "In this example, we will use the IMDB Large Movie Review dataset to train a model for sentiment classification"
   ],
   "metadata": {
    "collapsed": false
   }
  },
  {
   "cell_type": "code",
   "execution_count": 90,
   "outputs": [
    {
     "name": "stderr",
     "output_type": "stream",
     "text": [
      "2023-07-17 12:16:18.843986: W tensorflow/tsl/platform/cloud/google_auth_provider.cc:184] All attempts to get a Google authentication bearer token failed, returning an empty token. Retrieving token from files failed with \"NOT_FOUND: Could not locate the credentials file.\". Retrieving token from GCE failed with \"FAILED_PRECONDITION: Error executing an HTTP request: libcurl code 6 meaning 'Couldn't resolve host name', error details: Could not resolve host: metadata.google.internal\".\n"
     ]
    },
    {
     "name": "stdout",
     "output_type": "stream",
     "text": [
      "\u001B[1mDownloading and preparing dataset 80.23 MiB (download: 80.23 MiB, generated: Unknown size, total: 80.23 MiB) to /Users/sodeso/tensorflow_datasets/imdb_reviews/plain_text/1.0.0...\u001B[0m\n"
     ]
    },
    {
     "data": {
      "text/plain": "Dl Completed...: 0 url [00:00, ? url/s]",
      "application/vnd.jupyter.widget-view+json": {
       "version_major": 2,
       "version_minor": 0,
       "model_id": "ee613aa61a234485a71062d77c0c2427"
      }
     },
     "metadata": {},
     "output_type": "display_data"
    },
    {
     "data": {
      "text/plain": "Dl Size...: 0 MiB [00:00, ? MiB/s]",
      "application/vnd.jupyter.widget-view+json": {
       "version_major": 2,
       "version_minor": 0,
       "model_id": "3f6a184e7cb34958b8ffdac05c2da8c6"
      }
     },
     "metadata": {},
     "output_type": "display_data"
    },
    {
     "data": {
      "text/plain": "Generating splits...:   0%|          | 0/3 [00:00<?, ? splits/s]",
      "application/vnd.jupyter.widget-view+json": {
       "version_major": 2,
       "version_minor": 0,
       "model_id": "8c1958d64edc45358a6e687fd1b3434f"
      }
     },
     "metadata": {},
     "output_type": "display_data"
    },
    {
     "data": {
      "text/plain": "Generating train examples...:   0%|          | 0/25000 [00:00<?, ? examples/s]",
      "application/vnd.jupyter.widget-view+json": {
       "version_major": 2,
       "version_minor": 0,
       "model_id": "2c2eb390817a49d68eebe6873b92bb84"
      }
     },
     "metadata": {},
     "output_type": "display_data"
    },
    {
     "data": {
      "text/plain": "Shuffling /Users/sodeso/tensorflow_datasets/imdb_reviews/plain_text/1.0.0.incompleteG4NDB8/imdb_reviews-train.…",
      "application/vnd.jupyter.widget-view+json": {
       "version_major": 2,
       "version_minor": 0,
       "model_id": "e24545f3bced4545bdcd1b6ebd7eaf7f"
      }
     },
     "metadata": {},
     "output_type": "display_data"
    },
    {
     "data": {
      "text/plain": "Generating test examples...:   0%|          | 0/25000 [00:00<?, ? examples/s]",
      "application/vnd.jupyter.widget-view+json": {
       "version_major": 2,
       "version_minor": 0,
       "model_id": "a270ecbc38c04135a49728254bb2f5f5"
      }
     },
     "metadata": {},
     "output_type": "display_data"
    },
    {
     "data": {
      "text/plain": "Shuffling /Users/sodeso/tensorflow_datasets/imdb_reviews/plain_text/1.0.0.incompleteG4NDB8/imdb_reviews-test.t…",
      "application/vnd.jupyter.widget-view+json": {
       "version_major": 2,
       "version_minor": 0,
       "model_id": "6d1a670d96d34bc4984a5d56bd145a75"
      }
     },
     "metadata": {},
     "output_type": "display_data"
    },
    {
     "data": {
      "text/plain": "Generating unsupervised examples...:   0%|          | 0/50000 [00:00<?, ? examples/s]",
      "application/vnd.jupyter.widget-view+json": {
       "version_major": 2,
       "version_minor": 0,
       "model_id": "5153e0b1a398419bb1076d73cc47ec75"
      }
     },
     "metadata": {},
     "output_type": "display_data"
    },
    {
     "data": {
      "text/plain": "Shuffling /Users/sodeso/tensorflow_datasets/imdb_reviews/plain_text/1.0.0.incompleteG4NDB8/imdb_reviews-unsupe…",
      "application/vnd.jupyter.widget-view+json": {
       "version_major": 2,
       "version_minor": 0,
       "model_id": "0d3ee349d6c14d02b679c3ac992166c6"
      }
     },
     "metadata": {},
     "output_type": "display_data"
    },
    {
     "name": "stdout",
     "output_type": "stream",
     "text": [
      "\u001B[1mDataset imdb_reviews downloaded and prepared to /Users/sodeso/tensorflow_datasets/imdb_reviews/plain_text/1.0.0. Subsequent calls will reuse this data.\u001B[0m\n"
     ]
    }
   ],
   "source": [
    "# Training set.\n",
    "train_ds = tfds.load(\n",
    "    'imdb_reviews',\n",
    "    split='train[:80%]',\n",
    "    batch_size=BATCH_SIZE,\n",
    "    shuffle_files=True,\n",
    "    as_supervised=True)"
   ],
   "metadata": {
    "collapsed": false,
    "ExecuteTime": {
     "end_time": "2023-07-17T10:17:07.670194Z",
     "start_time": "2023-07-17T10:16:18.761926Z"
    }
   }
  },
  {
   "cell_type": "code",
   "execution_count": 91,
   "outputs": [],
   "source": [
    "# Validation set.\n",
    "val_ds = tfds.load(\n",
    "    'imdb_reviews',\n",
    "    split='train[80%:]',\n",
    "    batch_size=BATCH_SIZE,\n",
    "    shuffle_files=True,\n",
    "    as_supervised=True)"
   ],
   "metadata": {
    "collapsed": false,
    "ExecuteTime": {
     "end_time": "2023-07-17T10:17:10.650377Z",
     "start_time": "2023-07-17T10:17:10.584833Z"
    }
   }
  },
  {
   "cell_type": "code",
   "execution_count": 92,
   "outputs": [
    {
     "name": "stdout",
     "output_type": "stream",
     "text": [
      "Review:  b\"Instead, go to the zoo, buy some peanuts and feed 'em to the monkeys. Monkeys are funny. People with amnesia who don't say much, just sit there with vacant eyes are not all that funny.<br /><br />Black comedy? There isn't a black person in it, and there isn't one funny thing in it either.<br /><br />Walmart buys these things up somehow and puts them on their dollar rack. It's labeled Unrated. I think they took out the topless scene. They may have taken out other stuff too, who knows? All we know is that whatever they took out, isn't there any more.<br /><br />The acting seemed OK to me. There's a lot of unfathomables tho. It's supposed to be a city? It's supposed to be a big lake? If it's so hot in the church people are fanning themselves, why are they all wearing coats?\"\n",
      "Label:  0\n",
      "Review:  b'Well, was Morgan Freeman any more unusual as God than George Burns? This film sure was better than that bore, \"Oh, God\". I was totally engrossed and LMAO all the way through. Carrey was perfect as the out of sorts anchorman wannabe, and Aniston carried off her part as the frustrated girlfriend in her usual well played performance. I, for one, don\\'t consider her to be either ugly or untalented. I think my favorite scene was when Carrey opened up the file cabinet thinking it could never hold his life history. See if you can spot the file in the cabinet that holds the events of his bathroom humor: I was rolling over this one. Well written and even better played out, this comedy will go down as one of this funnyman\\'s best.'\n",
      "Label:  1\n",
      "Review:  b'I remember stumbling upon this special while channel-surfing in 1965. I had never heard of Barbra before. When the show was over, I thought \"This is probably the best thing on TV I will ever see in my life.\" 42 years later, that has held true. There is still nothing so amazing, so honestly astonishing as the talent that was displayed here. You can talk about all the super-stars you want to, this is the most superlative of them all!<br /><br />You name it, she can do it. Comedy, pathos, sultry seduction, ballads, Barbra is truly a story-teller. Her ability to pull off anything she attempts is legendary. But this special was made in the beginning, and helped to create the legend that she quickly became. In spite of rising so far in such a short time, she has fulfilled the promise, revealing more of her talents as she went along. But they are all here from the very beginning. You will not be disappointed in viewing this.'\n",
      "Label:  1\n",
      "Review:  b\"Firstly, I would like to point out that people who have criticised this film have made some glaring errors. Anything that has a rating below 6/10 is clearly utter nonsense.<br /><br />Creep is an absolutely fantastic film with amazing film effects. The actors are highly believable, the narrative thought provoking and the horror and graphical content extremely disturbing. <br /><br />There is much mystique in this film. Many questions arise as the audience are revealed to the strange and freakish creature that makes habitat in the dark rat ridden tunnels. How was 'Craig' created and what happened to him?<br /><br />A fantastic film with a large chill factor. A film with so many unanswered questions and a film that needs to be appreciated along with others like 28 Days Later, The Bunker, Dog Soldiers and Deathwatch.<br /><br />Look forward to more of these fantastic films!!\"\n",
      "Label:  1\n",
      "Review:  b\"I'm sorry but I didn't like this doc very much. I can think of a million ways it could have been better. The people who made it obviously don't have much imagination. The interviews aren't very interesting and no real insight is offered. The footage isn't assembled in a very informative way, either. It's too bad because this is a movie that really deserves spellbinding special features. One thing I'll say is that Isabella Rosselini gets more beautiful the older she gets. All considered, this only gets a '4.'\"\n",
      "Label:  0\n"
     ]
    },
    {
     "name": "stderr",
     "output_type": "stream",
     "text": [
      "2023-07-17 12:17:12.856318: W tensorflow/core/kernels/data/cache_dataset_ops.cc:856] The calling iterator did not fully read the dataset being cached. In order to avoid unexpected truncation of the dataset, the partially cached contents of the dataset  will be discarded. This can happen if you have an input pipeline similar to `dataset.cache().take(k).repeat()`. You should use `dataset.take(k).cache().repeat()` instead.\n"
     ]
    }
   ],
   "source": [
    "for review_batch, label_batch in val_ds.take(1):\n",
    "  for i in range(5):\n",
    "    print(\"Review: \", review_batch[i].numpy())\n",
    "    print(\"Label: \", label_batch[i].numpy())"
   ],
   "metadata": {
    "collapsed": false,
    "ExecuteTime": {
     "end_time": "2023-07-17T10:17:12.862999Z",
     "start_time": "2023-07-17T10:17:12.794004Z"
    }
   }
  },
  {
   "cell_type": "markdown",
   "source": [
    "## Prepare the dataset for training"
   ],
   "metadata": {
    "collapsed": false
   }
  },
  {
   "cell_type": "code",
   "execution_count": 93,
   "outputs": [],
   "source": [
    "vectorize_layer = layers.TextVectorization(\n",
    "    max_tokens=VOCAB_SIZE,\n",
    "    output_mode='int',\n",
    "    output_sequence_length=MAX_SEQUENCE_LENGTH)\n",
    "\n",
    "# Make a text-only dataset (without labels), then call `TextVectorization.adapt`.\n",
    "train_text = train_ds.map(lambda text, labels: text)\n",
    "vectorize_layer.adapt(train_text)"
   ],
   "metadata": {
    "collapsed": false,
    "ExecuteTime": {
     "end_time": "2023-07-17T10:18:13.832014Z",
     "start_time": "2023-07-17T10:18:12.595661Z"
    }
   }
  },
  {
   "cell_type": "code",
   "execution_count": 94,
   "outputs": [],
   "source": [
    "def vectorize_text(text, label):\n",
    "  text = tf.expand_dims(text, -1)\n",
    "  return vectorize_layer(text), label"
   ],
   "metadata": {
    "collapsed": false,
    "ExecuteTime": {
     "end_time": "2023-07-17T10:18:29.434144Z",
     "start_time": "2023-07-17T10:18:29.389013Z"
    }
   }
  },
  {
   "cell_type": "code",
   "execution_count": 95,
   "outputs": [],
   "source": [
    "train_ds = train_ds.map(vectorize_text)\n",
    "val_ds = val_ds.map(vectorize_text)"
   ],
   "metadata": {
    "collapsed": false,
    "ExecuteTime": {
     "end_time": "2023-07-17T10:18:30.205511Z",
     "start_time": "2023-07-17T10:18:30.130066Z"
    }
   }
  },
  {
   "cell_type": "code",
   "execution_count": 99,
   "outputs": [],
   "source": [
    "# Configure datasets for performance as before (caching and prefetching)\n",
    "train_ds = configure_dataset(train_ds)\n",
    "val_ds = configure_dataset(val_ds)"
   ],
   "metadata": {
    "collapsed": false,
    "ExecuteTime": {
     "end_time": "2023-07-17T10:20:23.845384Z",
     "start_time": "2023-07-17T10:20:23.802977Z"
    }
   }
  },
  {
   "cell_type": "code",
   "execution_count": 100,
   "outputs": [
    {
     "name": "stdout",
     "output_type": "stream",
     "text": [
      "Model: \"sequential_6\"\n",
      "_________________________________________________________________\n",
      " Layer (type)                Output Shape              Param #   \n",
      "=================================================================\n",
      " embedding_2 (Embedding)     (None, None, 64)          640064    \n",
      "                                                                 \n",
      " conv1d_2 (Conv1D)           (None, None, 64)          20544     \n",
      "                                                                 \n",
      " global_max_pooling1d_2 (Glo  (None, 64)               0         \n",
      " balMaxPooling1D)                                                \n",
      "                                                                 \n",
      " dense_3 (Dense)             (None, 1)                 65        \n",
      "                                                                 \n",
      "=================================================================\n",
      "Total params: 660,673\n",
      "Trainable params: 660,673\n",
      "Non-trainable params: 0\n",
      "_________________________________________________________________\n"
     ]
    }
   ],
   "source": [
    "model = create_model(vocab_size=VOCAB_SIZE + 1, num_labels=1)\n",
    "model.summary()"
   ],
   "metadata": {
    "collapsed": false,
    "ExecuteTime": {
     "end_time": "2023-07-17T10:20:29.828817Z",
     "start_time": "2023-07-17T10:20:29.737867Z"
    }
   }
  },
  {
   "cell_type": "code",
   "execution_count": 101,
   "outputs": [],
   "source": [
    "model.compile(\n",
    "    loss=losses.BinaryCrossentropy(from_logits=True), # from_logits is True since we don't have an activation function on last layer.\n",
    "    optimizer=optimizers.Adam(),\n",
    "    metrics=['accuracy'])"
   ],
   "metadata": {
    "collapsed": false,
    "ExecuteTime": {
     "end_time": "2023-07-17T10:20:49.309943Z",
     "start_time": "2023-07-17T10:20:49.263874Z"
    }
   }
  },
  {
   "cell_type": "code",
   "execution_count": 102,
   "outputs": [
    {
     "name": "stdout",
     "output_type": "stream",
     "text": [
      "Epoch 1/3\n",
      "313/313 [==============================] - 9s 29ms/step - loss: 0.5376 - accuracy: 0.6679 - val_loss: 0.3741 - val_accuracy: 0.8332\n",
      "Epoch 2/3\n",
      "313/313 [==============================] - 5s 17ms/step - loss: 0.2983 - accuracy: 0.8674 - val_loss: 0.3213 - val_accuracy: 0.8588\n",
      "Epoch 3/3\n",
      "313/313 [==============================] - 5s 17ms/step - loss: 0.1819 - accuracy: 0.9306 - val_loss: 0.3273 - val_accuracy: 0.8640\n"
     ]
    }
   ],
   "source": [
    "history = model.fit(train_ds, validation_data=val_ds, epochs=3)"
   ],
   "metadata": {
    "collapsed": false,
    "ExecuteTime": {
     "end_time": "2023-07-17T10:21:15.547604Z",
     "start_time": "2023-07-17T10:20:55.637579Z"
    }
   }
  },
  {
   "cell_type": "code",
   "execution_count": 103,
   "outputs": [
    {
     "name": "stdout",
     "output_type": "stream",
     "text": [
      "79/79 [==============================] - 0s 5ms/step - loss: 0.3273 - accuracy: 0.8640\n",
      "Loss: 0.3272736668586731 0.3272736668586731\n",
      "Accuracy: 86.40%\n"
     ]
    }
   ],
   "source": [
    "loss, accuracy = model.evaluate(val_ds)\n",
    "\n",
    "print(f\"Loss: {loss}\", loss)\n",
    "print(f\"Accuracy: {accuracy:2.2%}\")"
   ],
   "metadata": {
    "collapsed": false,
    "ExecuteTime": {
     "end_time": "2023-07-17T10:21:18.538850Z",
     "start_time": "2023-07-17T10:21:18.028373Z"
    }
   }
  },
  {
   "cell_type": "code",
   "execution_count": 104,
   "outputs": [],
   "source": [
    "export_model = tf.keras.Sequential(\n",
    "    [vectorize_layer, model,\n",
    "     layers.Activation('sigmoid')])\n",
    "\n",
    "export_model.compile(\n",
    "    loss=losses.SparseCategoricalCrossentropy(from_logits=False), # from_logits = False since we have sigmoid activation as last layer.\n",
    "    optimizer=optimizers.Adam(),\n",
    "    metrics=['accuracy'])"
   ],
   "metadata": {
    "collapsed": false,
    "ExecuteTime": {
     "end_time": "2023-07-17T10:23:01.260626Z",
     "start_time": "2023-07-17T10:23:01.197395Z"
    }
   }
  },
  {
   "cell_type": "code",
   "execution_count": 105,
   "outputs": [
    {
     "name": "stdout",
     "output_type": "stream",
     "text": [
      "1/1 [==============================] - 0s 75ms/step\n",
      "Question:  This is a fantastic movie.\n",
      "Predicted label:  1\n",
      "Question:  This is a bad movie.\n",
      "Predicted label:  0\n",
      "Question:  This movie was so bad that it was good.\n",
      "Predicted label:  0\n",
      "Question:  I will never say yes to watching this movie.\n",
      "Predicted label:  1\n"
     ]
    }
   ],
   "source": [
    "# 0 --> negative review\n",
    "# 1 --> positive review\n",
    "inputs = [\n",
    "    \"This is a fantastic movie.\", # 1\n",
    "    \"This is a bad movie.\", # 0\n",
    "    \"This movie was so bad that it was good.\", # 1\n",
    "    \"I will never say yes to watching this movie.\", # 0\n",
    "]\n",
    "\n",
    "predicted_scores = export_model.predict(inputs)\n",
    "predicted_labels = [int(round(x[0])) for x in predicted_scores]\n",
    "\n",
    "for input, label in zip(inputs, predicted_labels):\n",
    "  print(\"Question: \", input)\n",
    "  print(\"Predicted label: \", label)"
   ],
   "metadata": {
    "collapsed": false,
    "ExecuteTime": {
     "end_time": "2023-07-17T10:23:09.271326Z",
     "start_time": "2023-07-17T10:23:09.136376Z"
    }
   }
  },
  {
   "cell_type": "code",
   "execution_count": null,
   "outputs": [],
   "source": [],
   "metadata": {
    "collapsed": false
   }
  }
 ],
 "metadata": {
  "kernelspec": {
   "display_name": "Python 3",
   "language": "python",
   "name": "python3"
  },
  "language_info": {
   "codemirror_mode": {
    "name": "ipython",
    "version": 2
   },
   "file_extension": ".py",
   "mimetype": "text/x-python",
   "name": "python",
   "nbconvert_exporter": "python",
   "pygments_lexer": "ipython2",
   "version": "2.7.6"
  },
  "colab": {
   "provenance": [],
   "gpuType": "T4"
  },
  "accelerator": "GPU",
  "gpuClass": "standard"
 },
 "nbformat": 4,
 "nbformat_minor": 0
}
