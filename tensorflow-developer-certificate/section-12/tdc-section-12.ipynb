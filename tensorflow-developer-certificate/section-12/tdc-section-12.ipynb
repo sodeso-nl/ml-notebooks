{
 "cells": [
  {
   "cell_type": "code",
   "execution_count": 1,
   "metadata": {
    "ExecuteTime": {
     "end_time": "2023-07-12T13:47:34.779959Z",
     "start_time": "2023-07-12T13:47:34.347585Z"
    },
    "collapsed": false,
    "jupyter": {
     "outputs_hidden": false
    }
   },
   "outputs": [],
   "source": [
    "extensions_loaded = False\n",
    "if not extensions_loaded:\n",
    "    %load_ext autoreload\n",
    "    %load_ext tensorboard\n",
    "    extensions_loaded = True\n",
    "\n",
    "%autoreload 2\n",
    "%matplotlib inline"
   ]
  },
  {
   "cell_type": "code",
   "execution_count": 2,
   "metadata": {
    "ExecuteTime": {
     "end_time": "2023-07-12T13:47:37.779638Z",
     "start_time": "2023-07-12T13:47:34.670483Z"
    },
    "colab": {
     "base_uri": "https://localhost:8080/"
    },
    "id": "G8laH65-fVPp",
    "outputId": "447fa214-ade2-48ed-9224-4f4cfc76aeef"
   },
   "outputs": [],
   "source": [
    "import sys\n",
    "\n",
    "sys.path.append(\"../../ext\")\n",
    "\n",
    "import ext.ml_callback as mlc\n",
    "import ext.ml_io as mli\n",
    "import ext.ml_layer as mll\n",
    "import ext.ml_plot as mlp\n",
    "import ext.ml_util as mlu\n",
    "import ext.ml_data as mld\n",
    "import ext.ml_view as mlv\n",
    "import ext.ml_analyze as mla\n",
    "import ext.ml_shell as mls\n",
    "\n",
    "import tensorflow as tf\n",
    "import pandas as pd\n",
    "\n",
    "import opendatasets as od\n",
    "\n",
    "import tensorflow_hub as hub\n",
    "\n",
    "from keras import Model\n",
    "from keras.optimizers import Adam\n",
    "from keras.layers import Dense, Input, GlobalAveragePooling1D, Flatten, Activation, TextVectorization, Embedding, LSTM, GRU, Bidirectional, Conv1D, GlobalMaxPooling1D\n",
    "from keras.losses import binary_crossentropy"
   ]
  },
  {
   "cell_type": "markdown",
   "metadata": {
    "collapsed": false,
    "jupyter": {
     "outputs_hidden": false
    }
   },
   "source": []
  }
 ],
 "metadata": {
  "accelerator": "GPU",
  "colab": {
   "gpuType": "T4",
   "provenance": []
  },
  "gpuClass": "standard",
  "kernelspec": {
   "display_name": "Python 3 (ipykernel)",
   "language": "python",
   "name": "python3"
  },
  "language_info": {
   "codemirror_mode": {
    "name": "ipython",
    "version": 3
   },
   "file_extension": ".py",
   "mimetype": "text/x-python",
   "name": "python",
   "nbconvert_exporter": "python",
   "pygments_lexer": "ipython3",
   "version": "3.11.4"
  }
 },
 "nbformat": 4,
 "nbformat_minor": 4
}
