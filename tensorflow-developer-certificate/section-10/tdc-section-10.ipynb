{
 "cells": [
  {
   "cell_type": "code",
   "execution_count": 1,
   "outputs": [
    {
     "name": "stdout",
     "output_type": "stream",
     "text": [
      "2023-07-07 21:42:52 URL:https://raw.githubusercontent.com/sodeso-nl/ml-utilities/main/contents.txt [746/746] -> \"../../ext/contents.txt\" [1]\r\n",
      "2023-07-07 21:42:52 URL:https://raw.githubusercontent.com/sodeso-nl/ml-utilities/main/ml_callback.py [8266/8266] -> \"../../ext/ml_callback.py\" [1]\r\n",
      "2023-07-07 21:42:52 URL:https://raw.githubusercontent.com/sodeso-nl/ml-utilities/main/ml_internal.py [3032/3032] -> \"../../ext/ml_internal.py\" [1]\r\n",
      "2023-07-07 21:42:53 URL:https://raw.githubusercontent.com/sodeso-nl/ml-utilities/main/ml_io.py [2664/2664] -> \"../../ext/ml_io.py\" [1]\r\n",
      "2023-07-07 21:42:53 URL:https://raw.githubusercontent.com/sodeso-nl/ml-utilities/main/ml_layer.py [9525/9525] -> \"../../ext/ml_layer.py\" [1]\r\n",
      "2023-07-07 21:42:53 URL:https://raw.githubusercontent.com/sodeso-nl/ml-utilities/main/ml_plot.py [25391/25391] -> \"../../ext/ml_plot.py\" [1]\r\n",
      "2023-07-07 21:42:53 URL:https://raw.githubusercontent.com/sodeso-nl/ml-utilities/main/ml_util.py [2085/2085] -> \"../../ext/ml_util.py\" [1]\r\n",
      "2023-07-07 21:42:54 URL:https://raw.githubusercontent.com/sodeso-nl/ml-utilities/main/ml_data.py [8465/8465] -> \"../../ext/ml_data.py\" [1]\r\n",
      "2023-07-07 21:42:54 URL:https://raw.githubusercontent.com/sodeso-nl/ml-utilities/main/ml_view.py [4977/4977] -> \"../../ext/ml_view.py\" [1]\r\n",
      "2023-07-07 21:42:54 URL:https://raw.githubusercontent.com/sodeso-nl/ml-utilities/main/ml_analyze.py [413/413] -> \"../../ext/ml_analyze.py\" [1]\r\n",
      "2023-07-07 21:42:54 URL:https://raw.githubusercontent.com/sodeso-nl/ml-utilities/main/ml_transformer.py [315/315] -> \"../../ext/ml_transformer.py\" [1]\r\n",
      "FINISHED --2023-07-07 21:42:54--\r\n",
      "Total wall clock time: 2.3s\r\n",
      "Downloaded: 10 files, 64K in 0.009s (7.23 MB/s)\r\n",
      "TensorFlow version: 2.12.0\n",
      "Python version 3.10.8 | packaged by conda-forge | (main, Nov 22 2022, 08:25:13) [Clang 14.0.6 ]\n"
     ]
    }
   ],
   "source": [
    "import numpy\n",
    "%run ../../base-notebook.ipynb"
   ],
   "metadata": {
    "colab": {
     "base_uri": "https://localhost:8080/"
    },
    "id": "wlrgdzHmfVPo",
    "outputId": "fff6ccdc-0a22-4a73-e798-580fc6b6569d",
    "ExecuteTime": {
     "end_time": "2023-07-07T19:42:57.234572Z",
     "start_time": "2023-07-07T19:42:51.574657Z"
    }
   }
  },
  {
   "cell_type": "code",
   "execution_count": 1,
   "outputs": [],
   "source": [
    "extensions_loaded = False\n",
    "if not extensions_loaded:\n",
    "    %load_ext autoreload\n",
    "    %load_ext tensorboard\n",
    "    extensions_loaded = True\n",
    "\n",
    "%autoreload 2\n",
    "%matplotlib inline"
   ],
   "metadata": {
    "collapsed": false,
    "ExecuteTime": {
     "end_time": "2023-07-14T20:43:25.005919Z",
     "start_time": "2023-07-14T20:43:24.587623Z"
    }
   }
  },
  {
   "cell_type": "code",
   "execution_count": 2,
   "outputs": [],
   "source": [
    "import sys\n",
    "\n",
    "sys.path.append(\"../../ext\")\n",
    "\n",
    "import ext.ml_callback as mlc\n",
    "import ext.ml_io as mli\n",
    "import ext.ml_layer as mll\n",
    "import ext.ml_plot as mlp\n",
    "import ext.ml_util as mlu\n",
    "import ext.ml_data as mld\n",
    "import ext.ml_view as mlv\n",
    "import ext.ml_analyze as mla\n",
    "import ext.ml_shell as mls\n",
    "\n",
    "import tensorflow as tf\n",
    "import pandas as pd\n",
    "\n",
    "import opendatasets as od\n",
    "\n",
    "import tensorflow_hub as hub\n",
    "\n",
    "from keras import Model\n",
    "from keras.optimizers import Adam\n",
    "from keras.layers import Dense, Input, GlobalAveragePooling1D, Flatten, Activation, TextVectorization, Embedding, LSTM, GRU, Bidirectional, Conv1D, GlobalMaxPooling1D\n",
    "from keras.losses import binary_crossentropy"
   ],
   "metadata": {
    "colab": {
     "base_uri": "https://localhost:8080/"
    },
    "id": "G8laH65-fVPp",
    "outputId": "447fa214-ade2-48ed-9224-4f4cfc76aeef",
    "ExecuteTime": {
     "end_time": "2023-07-14T20:43:29.128828Z",
     "start_time": "2023-07-14T20:43:25.007390Z"
    }
   }
  },
  {
   "cell_type": "markdown",
   "source": [
    "# NLP Fundamentals in TensorFlow"
   ],
   "metadata": {
    "id": "bmr9woKpkEyD"
   }
  },
  {
   "cell_type": "markdown",
   "source": [
    "# Get a text dataset\n",
    "\n",
    "The dataset we are going to be using is Kaggle's introduction to NLP dataset. These are text samples of Tweets labeled as disaster or not.\n",
    "\n",
    "https://www.kaggle.com/competitions/nlp-getting-started"
   ],
   "metadata": {
    "collapsed": false
   }
  },
  {
   "cell_type": "code",
   "execution_count": 4,
   "outputs": [
    {
     "name": "stdout",
     "output_type": "stream",
     "text": [
      "Download of https://storage.googleapis.com/ztm_tf_course/nlp_getting_started.zip completed.\n"
     ]
    }
   ],
   "source": [
    "# Download the dogs and cats dataset\n",
    "mli.download_file(source=\"https://storage.googleapis.com/ztm_tf_course/nlp_getting_started.zip\", filepath=\"./data/nlp_getting_started.zip\")\n",
    "mli.extract_zip(filepath=\"./data/nlp_getting_started.zip\", folder=\"./data\")"
   ],
   "metadata": {
    "collapsed": false,
    "ExecuteTime": {
     "end_time": "2023-07-14T20:43:53.949516Z",
     "start_time": "2023-07-14T20:43:53.395568Z"
    }
   }
  },
  {
   "cell_type": "markdown",
   "source": [
    "## Visualizing a text dataset"
   ],
   "metadata": {
    "collapsed": false
   }
  },
  {
   "cell_type": "code",
   "execution_count": 5,
   "outputs": [
    {
     "data": {
      "text/plain": "   id keyword location                                               text   \n0   1     NaN      NaN  Our Deeds are the Reason of this #earthquake M...  \\\n1   4     NaN      NaN             Forest fire near La Ronge Sask. Canada   \n2   5     NaN      NaN  All residents asked to 'shelter in place' are ...   \n3   6     NaN      NaN  13,000 people receive #wildfires evacuation or...   \n4   7     NaN      NaN  Just got sent this photo from Ruby #Alaska as ...   \n\n   target  \n0       1  \n1       1  \n2       1  \n3       1  \n4       1  ",
      "text/html": "<div>\n<style scoped>\n    .dataframe tbody tr th:only-of-type {\n        vertical-align: middle;\n    }\n\n    .dataframe tbody tr th {\n        vertical-align: top;\n    }\n\n    .dataframe thead th {\n        text-align: right;\n    }\n</style>\n<table border=\"1\" class=\"dataframe\">\n  <thead>\n    <tr style=\"text-align: right;\">\n      <th></th>\n      <th>id</th>\n      <th>keyword</th>\n      <th>location</th>\n      <th>text</th>\n      <th>target</th>\n    </tr>\n  </thead>\n  <tbody>\n    <tr>\n      <th>0</th>\n      <td>1</td>\n      <td>NaN</td>\n      <td>NaN</td>\n      <td>Our Deeds are the Reason of this #earthquake M...</td>\n      <td>1</td>\n    </tr>\n    <tr>\n      <th>1</th>\n      <td>4</td>\n      <td>NaN</td>\n      <td>NaN</td>\n      <td>Forest fire near La Ronge Sask. Canada</td>\n      <td>1</td>\n    </tr>\n    <tr>\n      <th>2</th>\n      <td>5</td>\n      <td>NaN</td>\n      <td>NaN</td>\n      <td>All residents asked to 'shelter in place' are ...</td>\n      <td>1</td>\n    </tr>\n    <tr>\n      <th>3</th>\n      <td>6</td>\n      <td>NaN</td>\n      <td>NaN</td>\n      <td>13,000 people receive #wildfires evacuation or...</td>\n      <td>1</td>\n    </tr>\n    <tr>\n      <th>4</th>\n      <td>7</td>\n      <td>NaN</td>\n      <td>NaN</td>\n      <td>Just got sent this photo from Ruby #Alaska as ...</td>\n      <td>1</td>\n    </tr>\n  </tbody>\n</table>\n</div>"
     },
     "execution_count": 5,
     "metadata": {},
     "output_type": "execute_result"
    }
   ],
   "source": [
    "# Load test and training data.\n",
    "train_df = pd.read_csv('./data/train.csv')\n",
    "test_df = pd.read_csv('./data/test.csv')\n",
    "\n",
    "train_df.head()"
   ],
   "metadata": {
    "collapsed": false,
    "ExecuteTime": {
     "end_time": "2023-07-14T20:43:54.522230Z",
     "start_time": "2023-07-14T20:43:54.432812Z"
    }
   }
  },
  {
   "cell_type": "code",
   "execution_count": 6,
   "outputs": [
    {
     "name": "stdout",
     "output_type": "stream",
     "text": [
      "Total number of rows: 7613\n"
     ]
    },
    {
     "data": {
      "text/plain": "     Column   DType  NotNull  Null  Unique     Mean      Std    Z-Min   \n0        id   int64     7613     0    7613  5441.93  3137.12 -3969.41  \\\n1   keyword  object     7552    61     221      NaN      NaN      NaN   \n2  location  object     5080  2533    3341      NaN      NaN      NaN   \n3      text  object     7613     0    7503      NaN      NaN      NaN   \n4    target   int64     7613     0       2     0.43     0.50    -1.06   \n\n      Z-Max  Min     25%     50%     75%      Max  \n0  14853.28  1.0  2734.0  5408.0  8146.0  10873.0  \n1       NaN  NaN     NaN     NaN     NaN      NaN  \n2       NaN  NaN     NaN     NaN     NaN      NaN  \n3       NaN  NaN     NaN     NaN     NaN      NaN  \n4      1.91  0.0     0.0     0.0     1.0      1.0  ",
      "text/html": "<div>\n<style scoped>\n    .dataframe tbody tr th:only-of-type {\n        vertical-align: middle;\n    }\n\n    .dataframe tbody tr th {\n        vertical-align: top;\n    }\n\n    .dataframe thead th {\n        text-align: right;\n    }\n</style>\n<table border=\"1\" class=\"dataframe\">\n  <thead>\n    <tr style=\"text-align: right;\">\n      <th></th>\n      <th>Column</th>\n      <th>DType</th>\n      <th>NotNull</th>\n      <th>Null</th>\n      <th>Unique</th>\n      <th>Mean</th>\n      <th>Std</th>\n      <th>Z-Min</th>\n      <th>Z-Max</th>\n      <th>Min</th>\n      <th>25%</th>\n      <th>50%</th>\n      <th>75%</th>\n      <th>Max</th>\n    </tr>\n  </thead>\n  <tbody>\n    <tr>\n      <th>0</th>\n      <td>id</td>\n      <td>int64</td>\n      <td>7613</td>\n      <td>0</td>\n      <td>7613</td>\n      <td>5441.93</td>\n      <td>3137.12</td>\n      <td>-3969.41</td>\n      <td>14853.28</td>\n      <td>1.0</td>\n      <td>2734.0</td>\n      <td>5408.0</td>\n      <td>8146.0</td>\n      <td>10873.0</td>\n    </tr>\n    <tr>\n      <th>1</th>\n      <td>keyword</td>\n      <td>object</td>\n      <td>7552</td>\n      <td>61</td>\n      <td>221</td>\n      <td>NaN</td>\n      <td>NaN</td>\n      <td>NaN</td>\n      <td>NaN</td>\n      <td>NaN</td>\n      <td>NaN</td>\n      <td>NaN</td>\n      <td>NaN</td>\n      <td>NaN</td>\n    </tr>\n    <tr>\n      <th>2</th>\n      <td>location</td>\n      <td>object</td>\n      <td>5080</td>\n      <td>2533</td>\n      <td>3341</td>\n      <td>NaN</td>\n      <td>NaN</td>\n      <td>NaN</td>\n      <td>NaN</td>\n      <td>NaN</td>\n      <td>NaN</td>\n      <td>NaN</td>\n      <td>NaN</td>\n      <td>NaN</td>\n    </tr>\n    <tr>\n      <th>3</th>\n      <td>text</td>\n      <td>object</td>\n      <td>7613</td>\n      <td>0</td>\n      <td>7503</td>\n      <td>NaN</td>\n      <td>NaN</td>\n      <td>NaN</td>\n      <td>NaN</td>\n      <td>NaN</td>\n      <td>NaN</td>\n      <td>NaN</td>\n      <td>NaN</td>\n      <td>NaN</td>\n    </tr>\n    <tr>\n      <th>4</th>\n      <td>target</td>\n      <td>int64</td>\n      <td>7613</td>\n      <td>0</td>\n      <td>2</td>\n      <td>0.43</td>\n      <td>0.50</td>\n      <td>-1.06</td>\n      <td>1.91</td>\n      <td>0.0</td>\n      <td>0.0</td>\n      <td>0.0</td>\n      <td>1.0</td>\n      <td>1.0</td>\n    </tr>\n  </tbody>\n</table>\n</div>"
     },
     "execution_count": 6,
     "metadata": {},
     "output_type": "execute_result"
    }
   ],
   "source": [
    "mld.dataframe_describe(train_df)"
   ],
   "metadata": {
    "collapsed": false,
    "ExecuteTime": {
     "end_time": "2023-07-14T20:43:54.756403Z",
     "start_time": "2023-07-14T20:43:54.680723Z"
    }
   }
  },
  {
   "cell_type": "code",
   "execution_count": 7,
   "outputs": [
    {
     "data": {
      "text/plain": "         id       keyword                        location   \n2644   3796   destruction                             NaN  \\\n2227   3185        deluge                             NaN   \n5448   7769        police                              UK   \n132     191    aftershock                             NaN   \n6845   9810        trauma           Montgomery County, MD   \n...     ...           ...                             ...   \n5226   7470  obliteration                         Merica!   \n5390   7691         panic                             NaN   \n860    1242         blood                             NaN   \n7603  10862           NaN                             NaN   \n7270  10409     whirlwind  Stamford & Cork (& Shropshire)   \n\n                                                   text  target  \n2644  So you have a new weapon that can cause un-ima...       1  \n2227  The f$&amp;@ing things I do for #GISHWHES Just...       0  \n5448  DT @georgegalloway: RT @Galloway4Mayor: ÛÏThe...       1  \n132   Aftershock back to school kick off was great. ...       0  \n6845  in response to trauma Children of Addicts deve...       0  \n...                                                 ...     ...  \n5226  @Eganator2000 There aren't many Obliteration s...       0  \n5390  just had a panic attack bc I don't have enough...       0  \n860   Omron HEM-712C Automatic Blood Pressure Monito...       0  \n7603  Officials say a quarantine is in place at an A...       1  \n7270  I moved to England five years ago today. What ...       1  \n\n[7613 rows x 5 columns]",
      "text/html": "<div>\n<style scoped>\n    .dataframe tbody tr th:only-of-type {\n        vertical-align: middle;\n    }\n\n    .dataframe tbody tr th {\n        vertical-align: top;\n    }\n\n    .dataframe thead th {\n        text-align: right;\n    }\n</style>\n<table border=\"1\" class=\"dataframe\">\n  <thead>\n    <tr style=\"text-align: right;\">\n      <th></th>\n      <th>id</th>\n      <th>keyword</th>\n      <th>location</th>\n      <th>text</th>\n      <th>target</th>\n    </tr>\n  </thead>\n  <tbody>\n    <tr>\n      <th>2644</th>\n      <td>3796</td>\n      <td>destruction</td>\n      <td>NaN</td>\n      <td>So you have a new weapon that can cause un-ima...</td>\n      <td>1</td>\n    </tr>\n    <tr>\n      <th>2227</th>\n      <td>3185</td>\n      <td>deluge</td>\n      <td>NaN</td>\n      <td>The f$&amp;amp;@ing things I do for #GISHWHES Just...</td>\n      <td>0</td>\n    </tr>\n    <tr>\n      <th>5448</th>\n      <td>7769</td>\n      <td>police</td>\n      <td>UK</td>\n      <td>DT @georgegalloway: RT @Galloway4Mayor: ÛÏThe...</td>\n      <td>1</td>\n    </tr>\n    <tr>\n      <th>132</th>\n      <td>191</td>\n      <td>aftershock</td>\n      <td>NaN</td>\n      <td>Aftershock back to school kick off was great. ...</td>\n      <td>0</td>\n    </tr>\n    <tr>\n      <th>6845</th>\n      <td>9810</td>\n      <td>trauma</td>\n      <td>Montgomery County, MD</td>\n      <td>in response to trauma Children of Addicts deve...</td>\n      <td>0</td>\n    </tr>\n    <tr>\n      <th>...</th>\n      <td>...</td>\n      <td>...</td>\n      <td>...</td>\n      <td>...</td>\n      <td>...</td>\n    </tr>\n    <tr>\n      <th>5226</th>\n      <td>7470</td>\n      <td>obliteration</td>\n      <td>Merica!</td>\n      <td>@Eganator2000 There aren't many Obliteration s...</td>\n      <td>0</td>\n    </tr>\n    <tr>\n      <th>5390</th>\n      <td>7691</td>\n      <td>panic</td>\n      <td>NaN</td>\n      <td>just had a panic attack bc I don't have enough...</td>\n      <td>0</td>\n    </tr>\n    <tr>\n      <th>860</th>\n      <td>1242</td>\n      <td>blood</td>\n      <td>NaN</td>\n      <td>Omron HEM-712C Automatic Blood Pressure Monito...</td>\n      <td>0</td>\n    </tr>\n    <tr>\n      <th>7603</th>\n      <td>10862</td>\n      <td>NaN</td>\n      <td>NaN</td>\n      <td>Officials say a quarantine is in place at an A...</td>\n      <td>1</td>\n    </tr>\n    <tr>\n      <th>7270</th>\n      <td>10409</td>\n      <td>whirlwind</td>\n      <td>Stamford &amp; Cork (&amp; Shropshire)</td>\n      <td>I moved to England five years ago today. What ...</td>\n      <td>1</td>\n    </tr>\n  </tbody>\n</table>\n<p>7613 rows × 5 columns</p>\n</div>"
     },
     "execution_count": 7,
     "metadata": {},
     "output_type": "execute_result"
    }
   ],
   "source": [
    "# Shuffle training dataframe\n",
    "train_df_shuffled = train_df.sample(frac=1, random_state=42)\n",
    "train_df_shuffled"
   ],
   "metadata": {
    "collapsed": false,
    "ExecuteTime": {
     "end_time": "2023-07-14T20:43:54.976661Z",
     "start_time": "2023-07-14T20:43:54.880944Z"
    }
   }
  },
  {
   "cell_type": "code",
   "execution_count": 8,
   "outputs": [
    {
     "data": {
      "text/plain": "   id keyword location                                               text\n0   0     NaN      NaN                 Just happened a terrible car crash\n1   2     NaN      NaN  Heard about #earthquake is different cities, s...\n2   3     NaN      NaN  there is a forest fire at spot pond, geese are...\n3   9     NaN      NaN           Apocalypse lighting. #Spokane #wildfires\n4  11     NaN      NaN      Typhoon Soudelor kills 28 in China and Taiwan",
      "text/html": "<div>\n<style scoped>\n    .dataframe tbody tr th:only-of-type {\n        vertical-align: middle;\n    }\n\n    .dataframe tbody tr th {\n        vertical-align: top;\n    }\n\n    .dataframe thead th {\n        text-align: right;\n    }\n</style>\n<table border=\"1\" class=\"dataframe\">\n  <thead>\n    <tr style=\"text-align: right;\">\n      <th></th>\n      <th>id</th>\n      <th>keyword</th>\n      <th>location</th>\n      <th>text</th>\n    </tr>\n  </thead>\n  <tbody>\n    <tr>\n      <th>0</th>\n      <td>0</td>\n      <td>NaN</td>\n      <td>NaN</td>\n      <td>Just happened a terrible car crash</td>\n    </tr>\n    <tr>\n      <th>1</th>\n      <td>2</td>\n      <td>NaN</td>\n      <td>NaN</td>\n      <td>Heard about #earthquake is different cities, s...</td>\n    </tr>\n    <tr>\n      <th>2</th>\n      <td>3</td>\n      <td>NaN</td>\n      <td>NaN</td>\n      <td>there is a forest fire at spot pond, geese are...</td>\n    </tr>\n    <tr>\n      <th>3</th>\n      <td>9</td>\n      <td>NaN</td>\n      <td>NaN</td>\n      <td>Apocalypse lighting. #Spokane #wildfires</td>\n    </tr>\n    <tr>\n      <th>4</th>\n      <td>11</td>\n      <td>NaN</td>\n      <td>NaN</td>\n      <td>Typhoon Soudelor kills 28 in China and Taiwan</td>\n    </tr>\n  </tbody>\n</table>\n</div>"
     },
     "execution_count": 8,
     "metadata": {},
     "output_type": "execute_result"
    }
   ],
   "source": [
    "test_df.head()"
   ],
   "metadata": {
    "collapsed": false,
    "ExecuteTime": {
     "end_time": "2023-07-14T20:43:55.197040Z",
     "start_time": "2023-07-14T20:43:55.079190Z"
    }
   }
  },
  {
   "cell_type": "markdown",
   "source": [
    "# Check if dataset is balanced\n",
    "\n",
    "Read more about inbalanced classification on:\n",
    "https://www.tensorflow.org/tutorials/structured_data/imbalanced_data"
   ],
   "metadata": {
    "collapsed": false
   }
  },
  {
   "cell_type": "code",
   "execution_count": 9,
   "outputs": [
    {
     "data": {
      "text/plain": "target\n0    4342\n1    3271\nName: count, dtype: int64"
     },
     "execution_count": 9,
     "metadata": {},
     "output_type": "execute_result"
    }
   ],
   "source": [
    "# How many examples of each class are there, a balanced set would be 50/50, in this case it is 58/42 which is balanced enough.\n",
    "train_df_shuffled.target.value_counts()\n",
    "# train_df_shuffled.groupby(by='target').count()"
   ],
   "metadata": {
    "collapsed": false,
    "ExecuteTime": {
     "end_time": "2023-07-14T20:43:55.446515Z",
     "start_time": "2023-07-14T20:43:55.379794Z"
    }
   }
  },
  {
   "cell_type": "code",
   "execution_count": 10,
   "outputs": [
    {
     "data": {
      "text/plain": "(7613, 3263)"
     },
     "execution_count": 10,
     "metadata": {},
     "output_type": "execute_result"
    }
   ],
   "source": [
    "# How many total samples, this is a 70/30\n",
    "len(train_df_shuffled), len(test_df)"
   ],
   "metadata": {
    "collapsed": false,
    "ExecuteTime": {
     "end_time": "2023-07-14T20:43:55.656962Z",
     "start_time": "2023-07-14T20:43:55.564805Z"
    }
   }
  },
  {
   "cell_type": "code",
   "execution_count": 11,
   "outputs": [
    {
     "name": "stdout",
     "output_type": "stream",
     "text": [
      "Target: 0 (not real disaster)\n",
      "Text: \n",
      "@CranBoonitz So going to make any bomb threats? @HereticOfEthics\n",
      "\n",
      "---\n",
      "\n",
      "Target: 0 (not real disaster)\n",
      "Text: \n",
      "Rite now man a tlk widout nuh curfew long side Aka cum fi steal di show itz a rubbery di whole a dem fi knw... Sound it *music*\n",
      "\n",
      "---\n",
      "\n",
      "Target: 1 (real dissaster)\n",
      "Text: \n",
      "Another entity forced to close in Montego Bay as a result of the collapsed sewer line #TVJNews\n",
      "\n",
      "---\n",
      "\n",
      "Target: 1 (real dissaster)\n",
      "Text: \n",
      "Truth...\n",
      "https://t.co/p5ZIcjUdXO\n",
      "#News\n",
      "#BBC\n",
      "#CNN\n",
      "#Islam\n",
      "#Truth\n",
      "#god\n",
      "#ISIS\n",
      "#terrorism\n",
      "#Quran\n",
      "#Lies http://t.co/kZhB8zX6YC\n",
      "\n",
      "---\n",
      "\n",
      "Target: 0 (not real disaster)\n",
      "Text: \n",
      "13 reasons why we love women in the military   - lulgzimbestpicts http://t.co/uZ1yiZ7n6m http://t.co/IjwAr15H16\n",
      "\n",
      "---\n",
      "\n"
     ]
    }
   ],
   "source": [
    "# Let's visualize some random training samples\n",
    "import random\n",
    "random_index = random.randint(0, len(train_df) - 5) # Create random indexes not higher then the total number of samples\n",
    "for row in train_df_shuffled[[\"text\", \"target\"]][random_index:random_index+5].itertuples():\n",
    "    _, text, target = row;\n",
    "    print(f\"Target: {target}\", \"(real dissaster)\" if target > 0 else \"(not real disaster)\")\n",
    "    print(f\"Text: \\n{text}\\n\")\n",
    "    print(\"---\\n\")"
   ],
   "metadata": {
    "collapsed": false,
    "ExecuteTime": {
     "end_time": "2023-07-14T20:43:55.806392Z",
     "start_time": "2023-07-14T20:43:55.713428Z"
    }
   }
  },
  {
   "cell_type": "markdown",
   "source": [
    "# Split data into training and validation sets."
   ],
   "metadata": {
    "collapsed": false
   }
  },
  {
   "cell_type": "code",
   "execution_count": 12,
   "outputs": [],
   "source": [
    "train_sentences, val_sentences, train_labels, val_labels = mlu.split_train_test_data(train_df_shuffled['text'].to_numpy(),\n",
    "                                                                                     train_df_shuffled['target'].to_numpy(),\n",
    "                                                                                     test_size=.1,\n",
    "                                                                                     train_size=.9,\n",
    "                                                                                     random_state=42)"
   ],
   "metadata": {
    "collapsed": false,
    "ExecuteTime": {
     "end_time": "2023-07-14T20:43:56.476399Z",
     "start_time": "2023-07-14T20:43:56.401830Z"
    }
   }
  },
  {
   "cell_type": "code",
   "execution_count": 13,
   "outputs": [
    {
     "data": {
      "text/plain": "(6851, 762, 6851, 762)"
     },
     "execution_count": 13,
     "metadata": {},
     "output_type": "execute_result"
    }
   ],
   "source": [
    "len(train_sentences), len(val_sentences), len(train_labels), len(val_labels)"
   ],
   "metadata": {
    "collapsed": false,
    "ExecuteTime": {
     "end_time": "2023-07-14T20:43:58.333640Z",
     "start_time": "2023-07-14T20:43:58.277013Z"
    }
   }
  },
  {
   "cell_type": "code",
   "execution_count": 14,
   "outputs": [
    {
     "data": {
      "text/plain": "(array(['@mogacola @zamtriossu i screamed after hitting tweet',\n        'Imagine getting flattened by Kurt Zouma',\n        '@Gurmeetramrahim #MSGDoing111WelfareWorks Green S welfare force ke appx 65000 members har time disaster victim ki help ke liye tyar hai....',\n        \"@shakjn @C7 @Magnums im shaking in fear he's gonna hack the planet\",\n        'Somehow find you and I collide http://t.co/Ee8RpOahPk',\n        '@EvaHanderek @MarleyKnysh great times until the bus driver held us hostage in the mall parking lot lmfao',\n        'destroy the free fandom honestly',\n        'Weapons stolen from National Guard Armory in New Albany still missing #Gunsense http://t.co/lKNU8902JE',\n        '@wfaaweather Pete when will the heat wave pass? Is it really going to be mid month? Frisco Boy Scouts have a canoe trip in Okla.',\n        'Patient-reported outcomes in long-term survivors of metastatic colorectal cancer - British Journal of Surgery http://t.co/5Yl4DC1Tqt'],\n       dtype=object),\n array([0, 0, 1, 0, 0, 1, 1, 0, 1, 1]))"
     },
     "execution_count": 14,
     "metadata": {},
     "output_type": "execute_result"
    }
   ],
   "source": [
    "# Check first examples\n",
    "train_sentences[:10], train_labels[:10]"
   ],
   "metadata": {
    "collapsed": false,
    "ExecuteTime": {
     "end_time": "2023-07-14T20:43:58.930049Z",
     "start_time": "2023-07-14T20:43:58.859752Z"
    }
   }
  },
  {
   "cell_type": "markdown",
   "source": [
    "# Convert text into numbers\n",
    "\n",
    "When dealing with a text problem, one of the first things you'll have to do before you can build a model is to convert your text to numbers.\n",
    "\n",
    "There are few ways to this, namely:\n",
    "* Tokenization - direct mapping of token (a token could be a word or a character) to number\n",
    "* Embedding - create matrix of feature vectors for each token (the size of the feature vector can be defined and this embedding can be learned)."
   ],
   "metadata": {
    "collapsed": false
   }
  },
  {
   "cell_type": "markdown",
   "source": [
    "### Text vectorization (tokenization)"
   ],
   "metadata": {
    "collapsed": false
   }
  },
  {
   "cell_type": "code",
   "execution_count": 15,
   "outputs": [
    {
     "data": {
      "text/plain": "array(['@mogacola @zamtriossu i screamed after hitting tweet',\n       'Imagine getting flattened by Kurt Zouma',\n       '@Gurmeetramrahim #MSGDoing111WelfareWorks Green S welfare force ke appx 65000 members har time disaster victim ki help ke liye tyar hai....',\n       \"@shakjn @C7 @Magnums im shaking in fear he's gonna hack the planet\",\n       'Somehow find you and I collide http://t.co/Ee8RpOahPk'],\n      dtype=object)"
     },
     "execution_count": 15,
     "metadata": {},
     "output_type": "execute_result"
    }
   ],
   "source": [
    "train_sentences[:5]"
   ],
   "metadata": {
    "collapsed": false,
    "ExecuteTime": {
     "end_time": "2023-07-14T20:44:01.078722Z",
     "start_time": "2023-07-14T20:44:01.024466Z"
    }
   }
  },
  {
   "cell_type": "markdown",
   "source": [
    "The processing of each example contains the following steps:\n",
    "\n",
    "* Standardize each example (usually lowercasing + punctuation stripping)\n",
    "* Split each example into substrings (usually words)\n",
    "* Recombine substrings into tokens (usually ngrams)\n",
    "* Index tokens (associate a unique int value with each token)\n",
    "* Transform each example using this index, either into a vector of ints or a dense float vector."
   ],
   "metadata": {
    "collapsed": false
   }
  },
  {
   "cell_type": "code",
   "execution_count": 16,
   "outputs": [
    {
     "name": "stdout",
     "output_type": "stream",
     "text": [
      "Metal device set to: Apple M1 Max\n"
     ]
    }
   ],
   "source": [
    "# Use the default TextVectorization parameters\n",
    "\n",
    "text_vectorizer = TextVectorization(\n",
    "    max_tokens=None, # How many words in the vocabulary, it will automatically add a <OOV> token, OOV stands for Out Of Vocabulary, in get_vocabulary this results in [UNK]\n",
    "    standardize=\"lower_and_strip_punctuation\",\n",
    "    split=\"whitespace\",\n",
    "    ngrams=None, # Create groups of n-words\n",
    "    output_mode=\"int\", # How to map tokens to numbers\n",
    "    output_sequence_length=None, # Fill with zeros to maintain consistent shape size\n",
    "    pad_to_max_tokens=False, # Not applicable for output_mode = int, only for multi_hot, count and tf_idf\n",
    ")"
   ],
   "metadata": {
    "collapsed": false,
    "ExecuteTime": {
     "end_time": "2023-07-14T20:44:01.675688Z",
     "start_time": "2023-07-14T20:44:01.559296Z"
    }
   }
  },
  {
   "cell_type": "code",
   "execution_count": 17,
   "outputs": [],
   "source": [
    "max_vocab_length = 10000 # Max number of words to have in our vocabulary\n",
    "max_length = round(sum([len(i.split()) for i in train_sentences])/len(train_sentences)) # Max length our sequences will be (e.g. how many words of a tweet does a model see)\n",
    "\n",
    "text_vectorizer = TextVectorization(\n",
    "    max_tokens=max_vocab_length,\n",
    "    output_mode=\"int\", # How to map tokens to numbers\n",
    "    output_sequence_length=max_length, # Fill with zeros to maintain consistent shape size\n",
    ")"
   ],
   "metadata": {
    "collapsed": false,
    "ExecuteTime": {
     "end_time": "2023-07-14T20:44:02.196768Z",
     "start_time": "2023-07-14T20:44:02.125132Z"
    }
   }
  },
  {
   "cell_type": "code",
   "execution_count": 18,
   "outputs": [
    {
     "name": "stderr",
     "output_type": "stream",
     "text": [
      "2023-07-14 22:44:02.479045: W tensorflow/tsl/platform/profile_utils/cpu_utils.cc:128] Failed to get CPU frequency: 0 Hz\n"
     ]
    }
   ],
   "source": [
    "# Fit the text vectorizer to the training text\n",
    "text_vectorizer.adapt(train_sentences)"
   ],
   "metadata": {
    "collapsed": false,
    "ExecuteTime": {
     "end_time": "2023-07-14T20:44:02.799281Z",
     "start_time": "2023-07-14T20:44:02.375269Z"
    }
   }
  },
  {
   "cell_type": "code",
   "execution_count": 19,
   "outputs": [
    {
     "data": {
      "text/plain": "<tf.Tensor: shape=(1, 15), dtype=int64, numpy=\narray([[264,   3, 232,   4,  13, 698,   0,   0,   0,   0,   0,   0,   0,\n          0,   0]])>"
     },
     "execution_count": 19,
     "metadata": {},
     "output_type": "execute_result"
    }
   ],
   "source": [
    "# Create a sample sentence and tokenize it\n",
    "sample_sentence = \"There's a flood in my street!\"\n",
    "text_vectorizer([sample_sentence])"
   ],
   "metadata": {
    "collapsed": false,
    "ExecuteTime": {
     "end_time": "2023-07-14T20:44:03.368455Z",
     "start_time": "2023-07-14T20:44:03.255899Z"
    }
   }
  },
  {
   "cell_type": "code",
   "execution_count": 20,
   "outputs": [
    {
     "name": "stdout",
     "output_type": "stream",
     "text": [
      "Original:\n",
      "Crazy storm hit and I'm trapped inside a Hobby Lobby AMA http://t.co/8qc8Bcxoko\n",
      "\n",
      "Vectorized: [[858  84 244   7  32 448 622   3   1   1   1   1   0   0   0]]\n"
     ]
    }
   ],
   "source": [
    "# Choose a random sentence from the training dataset and tokenize it.\n",
    "random_sentence = random.choice(train_sentences)\n",
    "print(f\"Original:\\n{random_sentence}\\n\\nVectorized: {text_vectorizer([random_sentence])}\")"
   ],
   "metadata": {
    "collapsed": false,
    "ExecuteTime": {
     "end_time": "2023-07-14T20:44:03.525170Z",
     "start_time": "2023-07-14T20:44:03.454809Z"
    }
   }
  },
  {
   "cell_type": "code",
   "execution_count": 21,
   "outputs": [
    {
     "data": {
      "text/plain": "(\"10 Most common words ['', '[UNK]', 'the', 'a', 'in', 'to', 'of', 'and', 'i', 'is']\",\n \"10 Least common words: ['pages', 'paeds', 'pads', 'padres', 'paddytomlinson1']\",\n 'Number of words in vocabulary: 10000')"
     },
     "execution_count": 21,
     "metadata": {},
     "output_type": "execute_result"
    }
   ],
   "source": [
    "# Get the unique words in the vocabulary\n",
    "words_in_vocab = text_vectorizer.get_vocabulary() # Get all of the unique words in the vocabulary\n",
    "f\"10 Most common words {words_in_vocab[:10]}\", f\"10 Least common words: {words_in_vocab[-5:]}\", f\"Number of words in vocabulary: {len(words_in_vocab)}\""
   ],
   "metadata": {
    "collapsed": false,
    "ExecuteTime": {
     "end_time": "2023-07-14T20:44:03.695821Z",
     "start_time": "2023-07-14T20:44:03.613784Z"
    }
   }
  },
  {
   "cell_type": "markdown",
   "source": [
    "### Creating an Embedding using an Embedding Layer\n",
    "\n",
    "To make our embedding we are going to use TensorFlows embedding layer:\n",
    "https://www.tensorflow.org/api_docs/python/tf/keras/layers/Embedding\n",
    "\n",
    "The parameters we care most about for our embedding layer:\n",
    "\n",
    "* 'input_dim' = the size of our vocabulary\n",
    "* 'output_dim' = the size of the output embedding vector, for example, a value of 100 would mean each token gets represented by a vector of 100 long.\n",
    "* 'input_length' = length of the sequences (also defined in the TextVectorization = 15)"
   ],
   "metadata": {
    "collapsed": false
   }
  },
  {
   "cell_type": "code",
   "execution_count": 22,
   "outputs": [
    {
     "data": {
      "text/plain": "<keras.layers.core.embedding.Embedding at 0x28f8caf20>"
     },
     "execution_count": 22,
     "metadata": {},
     "output_type": "execute_result"
    }
   ],
   "source": [
    "embedding = Embedding(input_dim=max_vocab_length, # Set the input shape\n",
    "                      output_dim=128, # Use a number that is divisble by 8\n",
    "                      input_length=max_length # How long is each input sequence\n",
    "                      )\n",
    "embedding"
   ],
   "metadata": {
    "collapsed": false,
    "ExecuteTime": {
     "end_time": "2023-07-14T20:44:08.007592Z",
     "start_time": "2023-07-14T20:44:07.896294Z"
    }
   }
  },
  {
   "cell_type": "code",
   "execution_count": 23,
   "outputs": [
    {
     "name": "stdout",
     "output_type": "stream",
     "text": [
      "Original text: @olrules Welcome - Read a free chapter of my new book Encounters With Jesus. It's full of hope. http://t.co/6qX7arf4AG       \n",
      "Embedded version:\n"
     ]
    },
    {
     "data": {
      "text/plain": "<tf.Tensor: shape=(1, 15, 128), dtype=float32, numpy=\narray([[[-0.04390116,  0.03146435, -0.00912938, ..., -0.04191096,\n         -0.04780544, -0.02899618],\n        [ 0.03286816, -0.04715992,  0.00945038, ..., -0.00145661,\n          0.00806078, -0.03254845],\n        [-0.00449502, -0.04556825,  0.00498804, ...,  0.0245238 ,\n         -0.02053446,  0.00350249],\n        ...,\n        [-0.0471265 ,  0.03963828,  0.0021392 , ...,  0.00287252,\n         -0.03308171, -0.04132705],\n        [-0.04113631,  0.01086973, -0.00640494, ...,  0.02200084,\n         -0.00885201,  0.04673872],\n        [ 0.02936075, -0.01331292,  0.00856156, ...,  0.04433377,\n         -0.03900796, -0.03341686]]], dtype=float32)>"
     },
     "execution_count": 23,
     "metadata": {},
     "output_type": "execute_result"
    }
   ],
   "source": [
    "# Get a random sentence from the the training set\n",
    "random_sentence = random.choice(train_sentences)\n",
    "print(f\"Original text: {random_sentence} \\\n",
    "      \\n\\rEmbedded version:\")\n",
    "\n",
    "# Embedd the random sentence (turn it into dense vectors of fixed size)\n",
    "sample_embed = embedding(text_vectorizer([random_sentence]))\n",
    "sample_embed\n"
   ],
   "metadata": {
    "collapsed": false,
    "ExecuteTime": {
     "end_time": "2023-07-14T20:44:10.244064Z",
     "start_time": "2023-07-14T20:44:10.134358Z"
    }
   }
  },
  {
   "cell_type": "code",
   "execution_count": 24,
   "outputs": [
    {
     "data": {
      "text/plain": "(<tf.Tensor: shape=(128,), dtype=float32, numpy=\n array([-0.04390116,  0.03146435, -0.00912938,  0.04610903,  0.04899014,\n         0.04383754,  0.04281122, -0.01613664, -0.0310212 ,  0.00868977,\n         0.01727385,  0.03863473,  0.00150621,  0.01559618,  0.01002342,\n         0.04863727, -0.01130848,  0.00989664,  0.0438596 ,  0.0497105 ,\n         0.0131689 , -0.01680869,  0.01751227,  0.04566261, -0.04670068,\n        -0.01379221,  0.01490721, -0.00301351, -0.01525608,  0.00686681,\n        -0.01325975, -0.00836561,  0.02852103, -0.04482416,  0.03719645,\n         0.04896214,  0.04410844,  0.04674096, -0.00397165,  0.0109951 ,\n         0.04091061, -0.04960125, -0.00054861, -0.02194555, -0.03935815,\n         0.0006128 ,  0.02227295, -0.00238243, -0.0399981 , -0.01635004,\n        -0.04857215, -0.01148343,  0.01195527, -0.00727613, -0.0144694 ,\n         0.01118181,  0.04228793, -0.0203662 ,  0.01964309,  0.04809293,\n         0.03558147, -0.01951787, -0.0479832 ,  0.04359618, -0.00170988,\n        -0.04355733, -0.03740104,  0.03354559, -0.0305697 , -0.04502281,\n         0.00230988, -0.01213399,  0.0361545 , -0.00849793, -0.02678885,\n        -0.02654159,  0.04806833,  0.01590471,  0.00767112, -0.04743586,\n         0.04654279,  0.00436051,  0.03545788,  0.01285644,  0.03842534,\n         0.03510508,  0.01487395, -0.01095586,  0.0293295 ,  0.02317151,\n         0.02816958, -0.00489235, -0.02173047,  0.01260166,  0.00663448,\n        -0.02512889,  0.02054341,  0.02206445, -0.03701909,  0.04977426,\n        -0.01813481, -0.02785466,  0.03554041, -0.03833225, -0.02511728,\n         0.04800637,  0.01501584, -0.03450143,  0.00908522, -0.02648467,\n         0.01446526, -0.00655644,  0.02590815, -0.01899469, -0.04747591,\n         0.04365427,  0.02549001,  0.02600927,  0.03879443,  0.02196342,\n        -0.04623231,  0.00578696,  0.01234535, -0.0408464 ,  0.01924438,\n        -0.04191096, -0.04780544, -0.02899618], dtype=float32)>,\n TensorShape([128]),\n \"@olrules Welcome - Read a free chapter of my new book Encounters With Jesus. It's full of hope. http://t.co/6qX7arf4AG\")"
     },
     "execution_count": 24,
     "metadata": {},
     "output_type": "execute_result"
    }
   ],
   "source": [
    "# Check out a single tokens embedding\n",
    "sample_embed[0][0], sample_embed[0][0].shape, random_sentence"
   ],
   "metadata": {
    "collapsed": false,
    "ExecuteTime": {
     "end_time": "2023-07-14T20:44:11.882186Z",
     "start_time": "2023-07-14T20:44:11.801102Z"
    }
   }
  },
  {
   "cell_type": "markdown",
   "source": [
    "## Modelling a text dataset (running a series of experiments)\n",
    "\n",
    "Source:\n",
    "\n",
    "* Model 0: Naive Bayes (baseline) Source: https://scikit-learn.org/stable/tutorial/machine_learning_map/index.html\n",
    "* Model 1: Feed Forward neural network (dense model)\n",
    "* Model 2: LSTM model (RNN)\n",
    "* Model 3: GRU model (RNN)\n",
    "* Model 4: Bidirectional-LSTM model (RNN)\n",
    "* Model 5: 1D convolutional Neural Network\n",
    "* Model 6: TensorFlow Hub pretrained feature extractor (using transfer learning for NLP)\n",
    "* Model 7: Same as model 6 with 10% of training data\n",
    "\n",
    "How are we going to approach all of these?\n",
    "\n",
    "Use the standard steps in modelling with TensorFlow.\n",
    "\n",
    "* Create a model\n",
    "* Build a model\n",
    "* Fit a model\n",
    "* Evaluate a model"
   ],
   "metadata": {
    "collapsed": false
   }
  },
  {
   "cell_type": "markdown",
   "source": [
    "### Model 0: Getting a baseline\n",
    "\n",
    "As with all machine learning experiments, it's important to create a baseline model so you've got a benchmark for future experiments to build upon.\n",
    "\n",
    "So to create our baseline will use SKLearn's Multinomial Naive Bayes using the TF-IDF formula to convert our words to numbers.\n",
    "\n",
    "Note: It's common practice to use non-DL (deep learning) algorithms as a baseline because of their speed and then later use DL to see if you can improve upon them."
   ],
   "metadata": {
    "collapsed": false
   }
  },
  {
   "cell_type": "code",
   "execution_count": 25,
   "outputs": [
    {
     "data": {
      "text/plain": "Pipeline(steps=[('tfidf', TfidfVectorizer()), ('clf', MultinomialNB())])",
      "text/html": "<style>#sk-container-id-1 {color: black;background-color: white;}#sk-container-id-1 pre{padding: 0;}#sk-container-id-1 div.sk-toggleable {background-color: white;}#sk-container-id-1 label.sk-toggleable__label {cursor: pointer;display: block;width: 100%;margin-bottom: 0;padding: 0.3em;box-sizing: border-box;text-align: center;}#sk-container-id-1 label.sk-toggleable__label-arrow:before {content: \"▸\";float: left;margin-right: 0.25em;color: #696969;}#sk-container-id-1 label.sk-toggleable__label-arrow:hover:before {color: black;}#sk-container-id-1 div.sk-estimator:hover label.sk-toggleable__label-arrow:before {color: black;}#sk-container-id-1 div.sk-toggleable__content {max-height: 0;max-width: 0;overflow: hidden;text-align: left;background-color: #f0f8ff;}#sk-container-id-1 div.sk-toggleable__content pre {margin: 0.2em;color: black;border-radius: 0.25em;background-color: #f0f8ff;}#sk-container-id-1 input.sk-toggleable__control:checked~div.sk-toggleable__content {max-height: 200px;max-width: 100%;overflow: auto;}#sk-container-id-1 input.sk-toggleable__control:checked~label.sk-toggleable__label-arrow:before {content: \"▾\";}#sk-container-id-1 div.sk-estimator input.sk-toggleable__control:checked~label.sk-toggleable__label {background-color: #d4ebff;}#sk-container-id-1 div.sk-label input.sk-toggleable__control:checked~label.sk-toggleable__label {background-color: #d4ebff;}#sk-container-id-1 input.sk-hidden--visually {border: 0;clip: rect(1px 1px 1px 1px);clip: rect(1px, 1px, 1px, 1px);height: 1px;margin: -1px;overflow: hidden;padding: 0;position: absolute;width: 1px;}#sk-container-id-1 div.sk-estimator {font-family: monospace;background-color: #f0f8ff;border: 1px dotted black;border-radius: 0.25em;box-sizing: border-box;margin-bottom: 0.5em;}#sk-container-id-1 div.sk-estimator:hover {background-color: #d4ebff;}#sk-container-id-1 div.sk-parallel-item::after {content: \"\";width: 100%;border-bottom: 1px solid gray;flex-grow: 1;}#sk-container-id-1 div.sk-label:hover label.sk-toggleable__label {background-color: #d4ebff;}#sk-container-id-1 div.sk-serial::before {content: \"\";position: absolute;border-left: 1px solid gray;box-sizing: border-box;top: 0;bottom: 0;left: 50%;z-index: 0;}#sk-container-id-1 div.sk-serial {display: flex;flex-direction: column;align-items: center;background-color: white;padding-right: 0.2em;padding-left: 0.2em;position: relative;}#sk-container-id-1 div.sk-item {position: relative;z-index: 1;}#sk-container-id-1 div.sk-parallel {display: flex;align-items: stretch;justify-content: center;background-color: white;position: relative;}#sk-container-id-1 div.sk-item::before, #sk-container-id-1 div.sk-parallel-item::before {content: \"\";position: absolute;border-left: 1px solid gray;box-sizing: border-box;top: 0;bottom: 0;left: 50%;z-index: -1;}#sk-container-id-1 div.sk-parallel-item {display: flex;flex-direction: column;z-index: 1;position: relative;background-color: white;}#sk-container-id-1 div.sk-parallel-item:first-child::after {align-self: flex-end;width: 50%;}#sk-container-id-1 div.sk-parallel-item:last-child::after {align-self: flex-start;width: 50%;}#sk-container-id-1 div.sk-parallel-item:only-child::after {width: 0;}#sk-container-id-1 div.sk-dashed-wrapped {border: 1px dashed gray;margin: 0 0.4em 0.5em 0.4em;box-sizing: border-box;padding-bottom: 0.4em;background-color: white;}#sk-container-id-1 div.sk-label label {font-family: monospace;font-weight: bold;display: inline-block;line-height: 1.2em;}#sk-container-id-1 div.sk-label-container {text-align: center;}#sk-container-id-1 div.sk-container {/* jupyter's `normalize.less` sets `[hidden] { display: none; }` but bootstrap.min.css set `[hidden] { display: none !important; }` so we also need the `!important` here to be able to override the default hidden behavior on the sphinx rendered scikit-learn.org. See: https://github.com/scikit-learn/scikit-learn/issues/21755 */display: inline-block !important;position: relative;}#sk-container-id-1 div.sk-text-repr-fallback {display: none;}</style><div id=\"sk-container-id-1\" class=\"sk-top-container\"><div class=\"sk-text-repr-fallback\"><pre>Pipeline(steps=[(&#x27;tfidf&#x27;, TfidfVectorizer()), (&#x27;clf&#x27;, MultinomialNB())])</pre><b>In a Jupyter environment, please rerun this cell to show the HTML representation or trust the notebook. <br />On GitHub, the HTML representation is unable to render, please try loading this page with nbviewer.org.</b></div><div class=\"sk-container\" hidden><div class=\"sk-item sk-dashed-wrapped\"><div class=\"sk-label-container\"><div class=\"sk-label sk-toggleable\"><input class=\"sk-toggleable__control sk-hidden--visually\" id=\"sk-estimator-id-1\" type=\"checkbox\" ><label for=\"sk-estimator-id-1\" class=\"sk-toggleable__label sk-toggleable__label-arrow\">Pipeline</label><div class=\"sk-toggleable__content\"><pre>Pipeline(steps=[(&#x27;tfidf&#x27;, TfidfVectorizer()), (&#x27;clf&#x27;, MultinomialNB())])</pre></div></div></div><div class=\"sk-serial\"><div class=\"sk-item\"><div class=\"sk-estimator sk-toggleable\"><input class=\"sk-toggleable__control sk-hidden--visually\" id=\"sk-estimator-id-2\" type=\"checkbox\" ><label for=\"sk-estimator-id-2\" class=\"sk-toggleable__label sk-toggleable__label-arrow\">TfidfVectorizer</label><div class=\"sk-toggleable__content\"><pre>TfidfVectorizer()</pre></div></div></div><div class=\"sk-item\"><div class=\"sk-estimator sk-toggleable\"><input class=\"sk-toggleable__control sk-hidden--visually\" id=\"sk-estimator-id-3\" type=\"checkbox\" ><label for=\"sk-estimator-id-3\" class=\"sk-toggleable__label sk-toggleable__label-arrow\">MultinomialNB</label><div class=\"sk-toggleable__content\"><pre>MultinomialNB()</pre></div></div></div></div></div></div></div>"
     },
     "execution_count": 25,
     "metadata": {},
     "output_type": "execute_result"
    }
   ],
   "source": [
    "from sklearn.feature_extraction.text import TfidfVectorizer\n",
    "from sklearn.naive_bayes import MultinomialNB\n",
    "from sklearn.pipeline import Pipeline\n",
    "\n",
    "# Create tokenization and modeling pipeline\n",
    "model_0 = Pipeline([\n",
    "    (\"tfidf\", TfidfVectorizer()), # Convert words to numbers using TF-IDF\n",
    "    (\"clf\", MultinomialNB()) # Model the text  (clf = classifier)\n",
    "])\n",
    "\n",
    "# Fit the pipeline to the training data.\n",
    "model_0.fit(train_sentences, train_labels)"
   ],
   "metadata": {
    "collapsed": false,
    "ExecuteTime": {
     "end_time": "2023-07-14T20:44:14.212658Z",
     "start_time": "2023-07-14T20:44:14.051459Z"
    }
   }
  },
  {
   "cell_type": "code",
   "execution_count": 26,
   "outputs": [
    {
     "name": "stdout",
     "output_type": "stream",
     "text": [
      "Our baseline model achieves an accuracy of 79.27%\n"
     ]
    }
   ],
   "source": [
    "# Evaluate our baseline model\n",
    "baseline_score = model_0.score(val_sentences, val_labels)\n",
    "print(f\"Our baseline model achieves an accuracy of {baseline_score*100:.2f}%\")"
   ],
   "metadata": {
    "collapsed": false,
    "ExecuteTime": {
     "end_time": "2023-07-14T20:44:14.881987Z",
     "start_time": "2023-07-14T20:44:14.812972Z"
    }
   }
  },
  {
   "cell_type": "markdown",
   "source": [
    "Results are not bad, the training data consists of 4342 vs 3271 for non-disaster and disaster which is about 42% disaster samples and 58% non-disaster samples. If the model was guessing the result would be around 55%. So the baseline is doing a fair bit better then guessing."
   ],
   "metadata": {
    "collapsed": false
   }
  },
  {
   "cell_type": "code",
   "execution_count": 27,
   "outputs": [
    {
     "data": {
      "text/plain": "array([1, 1, 1, 0, 0, 1, 1, 1, 1, 0, 0, 1, 0, 0, 0, 0, 0, 0, 0, 1])"
     },
     "execution_count": 27,
     "metadata": {},
     "output_type": "execute_result"
    }
   ],
   "source": [
    "# Make predictions\n",
    "baseline_preds = model_0.predict(val_sentences)\n",
    "baseline_preds[:20]"
   ],
   "metadata": {
    "collapsed": false,
    "ExecuteTime": {
     "end_time": "2023-07-14T20:44:16.308853Z",
     "start_time": "2023-07-14T20:44:16.212010Z"
    }
   }
  },
  {
   "cell_type": "markdown",
   "source": [
    "### Creating an evaluation function for our model experiments\n",
    "\n",
    "We could evaluate all of our models predictions every time, however, this will be cumbersome and could easily be fixed with a function\n",
    "\n",
    "Let's create one to compare our model's predictions with the truth labels using the folowing metrics:\n",
    "\n",
    "* Accuracy\n",
    "* Precission (high precision leads to less false positives)\n",
    "* Recall (High recall leads to less false negatives)\n",
    "* F1-Score (combination of precission / recall)\n",
    "\n",
    "For a deep overview of many different evaluation methods, see the SKLearn documentation:\n",
    "\n",
    "https://scikit-learn.org/stable/modules/model_evaluation.html"
   ],
   "metadata": {
    "collapsed": false
   }
  },
  {
   "cell_type": "code",
   "execution_count": 28,
   "outputs": [
    {
     "data": {
      "text/plain": "{'accuracy': 79.26509186351706,\n 'precision': 0.8111390004213173,\n 'recall': 0.7926509186351706,\n 'f1': 0.7862189758049549}"
     },
     "execution_count": 28,
     "metadata": {},
     "output_type": "execute_result"
    }
   ],
   "source": [
    "baseline_results = mlp.table_quality_metrics(y_true=val_labels, y_pred=baseline_preds)\n",
    "baseline_results"
   ],
   "metadata": {
    "collapsed": false,
    "ExecuteTime": {
     "end_time": "2023-07-14T20:44:17.398444Z",
     "start_time": "2023-07-14T20:44:17.340521Z"
    }
   }
  },
  {
   "cell_type": "markdown",
   "source": [
    "The model has a higher precision wich would lead to less false-positives."
   ],
   "metadata": {
    "collapsed": false
   }
  },
  {
   "cell_type": "markdown",
   "source": [
    "# Model 1: Feed forward neural network (Dense model)"
   ],
   "metadata": {
    "collapsed": false
   }
  },
  {
   "cell_type": "code",
   "execution_count": 29,
   "outputs": [],
   "source": [
    "# Build model with the functional API\n",
    "inputs = Input(shape=(1,), dtype=tf.string) # Inputs are 1-dimensional\n",
    "x = text_vectorizer(inputs) # Turn the input text to numbers\n",
    "x = embedding(x) # Create an embedding of the numberized inputs\n",
    "x = GlobalAveragePooling1D()(x) # Condense the feature vector for each token to one vector\n",
    "outputs = Dense(1, activation=\"sigmoid\")(x) # Create the output layer, want binary outputs so use sigmoid activation function\n",
    "\n",
    "model_1 = Model(inputs, outputs, name=\"model_1_dense\")"
   ],
   "metadata": {
    "collapsed": false,
    "ExecuteTime": {
     "end_time": "2023-07-14T20:44:18.914497Z",
     "start_time": "2023-07-14T20:44:18.820328Z"
    }
   }
  },
  {
   "cell_type": "code",
   "execution_count": 30,
   "outputs": [
    {
     "name": "stdout",
     "output_type": "stream",
     "text": [
      "Model: \"model_1_dense\"\n",
      "_________________________________________________________________\n",
      " Layer (type)                Output Shape              Param #   \n",
      "=================================================================\n",
      " input_1 (InputLayer)        [(None, 1)]               0         \n",
      "                                                                 \n",
      " text_vectorization_1 (TextV  (None, 15)               0         \n",
      " ectorization)                                                   \n",
      "                                                                 \n",
      " embedding (Embedding)       (None, 15, 128)           1280000   \n",
      "                                                                 \n",
      " global_average_pooling1d (G  (None, 128)              0         \n",
      " lobalAveragePooling1D)                                          \n",
      "                                                                 \n",
      " dense (Dense)               (None, 1)                 129       \n",
      "                                                                 \n",
      "=================================================================\n",
      "Total params: 1,280,129\n",
      "Trainable params: 1,280,129\n",
      "Non-trainable params: 0\n",
      "_________________________________________________________________\n"
     ]
    }
   ],
   "source": [
    "model_1.summary()"
   ],
   "metadata": {
    "collapsed": false,
    "ExecuteTime": {
     "end_time": "2023-07-14T20:44:19.474627Z",
     "start_time": "2023-07-14T20:44:19.415994Z"
    }
   }
  },
  {
   "cell_type": "code",
   "execution_count": 31,
   "outputs": [],
   "source": [
    "# Compile the model\n",
    "model_1.compile(loss=binary_crossentropy,\n",
    "                optimizer=Adam(),\n",
    "                metrics=['accuracy'])"
   ],
   "metadata": {
    "collapsed": false,
    "ExecuteTime": {
     "end_time": "2023-07-14T20:44:20.332524Z",
     "start_time": "2023-07-14T20:44:20.258316Z"
    }
   }
  },
  {
   "cell_type": "code",
   "execution_count": 32,
   "outputs": [
    {
     "name": "stdout",
     "output_type": "stream",
     "text": [
      "Saving TensorBoard log files to: ./model_logs/model_1_dense/20230714-224421\n",
      "Epoch 1/5\n"
     ]
    },
    {
     "ename": "InvalidArgumentError",
     "evalue": "Cannot assign a device for operation model_1_dense/embedding/embedding_lookup: Could not satisfy explicit device specification '' because the node {{colocation_node model_1_dense/embedding/embedding_lookup}} was colocated with a group of nodes that required incompatible device '/job:localhost/replica:0/task:0/device:GPU:0'. All available devices [/job:localhost/replica:0/task:0/device:CPU:0, /job:localhost/replica:0/task:0/device:GPU:0]. \nColocation Debug Info:\nColocation group had the following types and supported devices: \nRoot Member(assigned_device_name_index_=2 requested_device_name_='/job:localhost/replica:0/task:0/device:GPU:0' assigned_device_name_='/job:localhost/replica:0/task:0/device:GPU:0' resource_device_name_='/job:localhost/replica:0/task:0/device:GPU:0' supported_device_types_=[CPU] possible_devices_=[]\nAssignSubVariableOp: GPU CPU \nRealDiv: GPU CPU \nSqrt: GPU CPU \nAssignVariableOp: GPU CPU \nUnsortedSegmentSum: GPU CPU \nIdentity: GPU CPU \nStridedSlice: CPU \nConst: GPU CPU \nNoOp: GPU CPU \nMul: GPU CPU \nShape: GPU CPU \n_Arg: GPU CPU \nResourceScatterAdd: GPU CPU \nUnique: GPU CPU \nReadVariableOp: GPU CPU \nAddV2: GPU CPU \nResourceGather: GPU CPU \n\nColocation members, user-requested devices, and framework assigned devices, if any:\n  model_1_dense_embedding_embedding_lookup_1404 (_Arg)  framework assigned device=/job:localhost/replica:0/task:0/device:GPU:0\n  adam_adam_update_readvariableop_resource (_Arg)  framework assigned device=/job:localhost/replica:0/task:0/device:GPU:0\n  adam_adam_update_readvariableop_2_resource (_Arg)  framework assigned device=/job:localhost/replica:0/task:0/device:GPU:0\n  model_1_dense/embedding/embedding_lookup (ResourceGather) \n  model_1_dense/embedding/embedding_lookup/Identity (Identity) \n  Adam/Adam/update/Unique (Unique) /job:localhost/replica:0/task:0/device:GPU:0\n  Adam/Adam/update/Shape (Shape) /job:localhost/replica:0/task:0/device:GPU:0\n  Adam/Adam/update/strided_slice/stack (Const) /job:localhost/replica:0/task:0/device:GPU:0\n  Adam/Adam/update/strided_slice/stack_1 (Const) /job:localhost/replica:0/task:0/device:GPU:0\n  Adam/Adam/update/strided_slice/stack_2 (Const) /job:localhost/replica:0/task:0/device:GPU:0\n  Adam/Adam/update/strided_slice (StridedSlice) /job:localhost/replica:0/task:0/device:GPU:0\n  Adam/Adam/update/UnsortedSegmentSum (UnsortedSegmentSum) /job:localhost/replica:0/task:0/device:GPU:0\n  Adam/Adam/update/mul (Mul) /job:localhost/replica:0/task:0/device:GPU:0\n  Adam/Adam/update/ReadVariableOp (ReadVariableOp) \n  Adam/Adam/update/mul_1 (Mul) /job:localhost/replica:0/task:0/device:GPU:0\n  Adam/Adam/update/AssignVariableOp (AssignVariableOp) /job:localhost/replica:0/task:0/device:GPU:0\n  Adam/Adam/update/ResourceScatterAdd (ResourceScatterAdd) /job:localhost/replica:0/task:0/device:GPU:0\n  Adam/Adam/update/ReadVariableOp_1 (ReadVariableOp) \n  Adam/Adam/update/mul_2 (Mul) /job:localhost/replica:0/task:0/device:GPU:0\n  Adam/Adam/update/mul_3 (Mul) /job:localhost/replica:0/task:0/device:GPU:0\n  Adam/Adam/update/ReadVariableOp_2 (ReadVariableOp) \n  Adam/Adam/update/mul_4 (Mul) /job:localhost/replica:0/task:0/device:GPU:0\n  Adam/Adam/update/AssignVariableOp_1 (AssignVariableOp) /job:localhost/replica:0/task:0/device:GPU:0\n  Adam/Adam/update/ResourceScatterAdd_1 (ResourceScatterAdd) /job:localhost/replica:0/task:0/device:GPU:0\n  Adam/Adam/update/ReadVariableOp_3 (ReadVariableOp) \n  Adam/Adam/update/Sqrt (Sqrt) /job:localhost/replica:0/task:0/device:GPU:0\n  Adam/Adam/update/mul_5 (Mul) /job:localhost/replica:0/task:0/device:GPU:0\n  Adam/Adam/update/add (AddV2) /job:localhost/replica:0/task:0/device:GPU:0\n  Adam/Adam/update/truediv (RealDiv) /job:localhost/replica:0/task:0/device:GPU:0\n  Adam/Adam/update/AssignSubVariableOp (AssignSubVariableOp) /job:localhost/replica:0/task:0/device:GPU:0\n  Adam/Adam/update/group_deps/NoOp (NoOp) /job:localhost/replica:0/task:0/device:GPU:0\n  Adam/Adam/update/group_deps/NoOp_1 (NoOp) /job:localhost/replica:0/task:0/device:GPU:0\n  Adam/Adam/update/group_deps (NoOp) /job:localhost/replica:0/task:0/device:GPU:0\n\n\t [[{{node model_1_dense/embedding/embedding_lookup}}]] [Op:__inference_train_function_1676]",
     "output_type": "error",
     "traceback": [
      "\u001B[0;31m---------------------------------------------------------------------------\u001B[0m",
      "\u001B[0;31mInvalidArgumentError\u001B[0m                      Traceback (most recent call last)",
      "Cell \u001B[0;32mIn[32], line 1\u001B[0m\n\u001B[0;32m----> 1\u001B[0m model_1_history \u001B[38;5;241m=\u001B[39m \u001B[43mmodel_1\u001B[49m\u001B[38;5;241;43m.\u001B[39;49m\u001B[43mfit\u001B[49m\u001B[43m(\u001B[49m\u001B[43mx\u001B[49m\u001B[38;5;241;43m=\u001B[39;49m\u001B[43mtrain_sentences\u001B[49m\u001B[43m,\u001B[49m\n\u001B[1;32m      2\u001B[0m \u001B[43m                              \u001B[49m\u001B[43my\u001B[49m\u001B[38;5;241;43m=\u001B[39;49m\u001B[43mtrain_labels\u001B[49m\u001B[43m,\u001B[49m\n\u001B[1;32m      3\u001B[0m \u001B[43m                              \u001B[49m\u001B[43mepochs\u001B[49m\u001B[38;5;241;43m=\u001B[39;49m\u001B[38;5;241;43m5\u001B[39;49m\u001B[43m,\u001B[49m\n\u001B[1;32m      4\u001B[0m \u001B[43m                              \u001B[49m\u001B[43mvalidation_data\u001B[49m\u001B[38;5;241;43m=\u001B[39;49m\u001B[43m(\u001B[49m\u001B[43mval_sentences\u001B[49m\u001B[43m,\u001B[49m\u001B[43m \u001B[49m\u001B[43mval_labels\u001B[49m\u001B[43m)\u001B[49m\u001B[43m,\u001B[49m\n\u001B[1;32m      5\u001B[0m \u001B[43m                              \u001B[49m\u001B[43mcallbacks\u001B[49m\u001B[38;5;241;43m=\u001B[39;49m\u001B[43m[\u001B[49m\u001B[43mmlc\u001B[49m\u001B[38;5;241;43m.\u001B[39;49m\u001B[43mcreate_tensorboard_callback\u001B[49m\u001B[43m(\u001B[49m\u001B[43mexperiment_name\u001B[49m\u001B[38;5;241;43m=\u001B[39;49m\u001B[38;5;124;43m\"\u001B[39;49m\u001B[38;5;124;43mmodel_1_dense\u001B[39;49m\u001B[38;5;124;43m\"\u001B[39;49m\u001B[43m,\u001B[49m\u001B[43m \u001B[49m\u001B[43mdir_name\u001B[49m\u001B[38;5;241;43m=\u001B[39;49m\u001B[38;5;124;43m\"\u001B[39;49m\u001B[38;5;124;43m./model_logs\u001B[39;49m\u001B[38;5;124;43m\"\u001B[39;49m\u001B[43m)\u001B[49m\u001B[43m]\u001B[49m\n\u001B[1;32m      6\u001B[0m \u001B[43m                              \u001B[49m\u001B[43m)\u001B[49m\n",
      "File \u001B[0;32m~/miniforge3/envs/ml/lib/python3.10/site-packages/keras/utils/traceback_utils.py:70\u001B[0m, in \u001B[0;36mfilter_traceback.<locals>.error_handler\u001B[0;34m(*args, **kwargs)\u001B[0m\n\u001B[1;32m     67\u001B[0m     filtered_tb \u001B[38;5;241m=\u001B[39m _process_traceback_frames(e\u001B[38;5;241m.\u001B[39m__traceback__)\n\u001B[1;32m     68\u001B[0m     \u001B[38;5;66;03m# To get the full stack trace, call:\u001B[39;00m\n\u001B[1;32m     69\u001B[0m     \u001B[38;5;66;03m# `tf.debugging.disable_traceback_filtering()`\u001B[39;00m\n\u001B[0;32m---> 70\u001B[0m     \u001B[38;5;28;01mraise\u001B[39;00m e\u001B[38;5;241m.\u001B[39mwith_traceback(filtered_tb) \u001B[38;5;28;01mfrom\u001B[39;00m \u001B[38;5;28;01mNone\u001B[39;00m\n\u001B[1;32m     71\u001B[0m \u001B[38;5;28;01mfinally\u001B[39;00m:\n\u001B[1;32m     72\u001B[0m     \u001B[38;5;28;01mdel\u001B[39;00m filtered_tb\n",
      "File \u001B[0;32m~/miniforge3/envs/ml/lib/python3.10/site-packages/tensorflow/python/eager/execute.py:52\u001B[0m, in \u001B[0;36mquick_execute\u001B[0;34m(op_name, num_outputs, inputs, attrs, ctx, name)\u001B[0m\n\u001B[1;32m     50\u001B[0m \u001B[38;5;28;01mtry\u001B[39;00m:\n\u001B[1;32m     51\u001B[0m   ctx\u001B[38;5;241m.\u001B[39mensure_initialized()\n\u001B[0;32m---> 52\u001B[0m   tensors \u001B[38;5;241m=\u001B[39m pywrap_tfe\u001B[38;5;241m.\u001B[39mTFE_Py_Execute(ctx\u001B[38;5;241m.\u001B[39m_handle, device_name, op_name,\n\u001B[1;32m     53\u001B[0m                                       inputs, attrs, num_outputs)\n\u001B[1;32m     54\u001B[0m \u001B[38;5;28;01mexcept\u001B[39;00m core\u001B[38;5;241m.\u001B[39m_NotOkStatusException \u001B[38;5;28;01mas\u001B[39;00m e:\n\u001B[1;32m     55\u001B[0m   \u001B[38;5;28;01mif\u001B[39;00m name \u001B[38;5;129;01mis\u001B[39;00m \u001B[38;5;129;01mnot\u001B[39;00m \u001B[38;5;28;01mNone\u001B[39;00m:\n",
      "\u001B[0;31mInvalidArgumentError\u001B[0m: Cannot assign a device for operation model_1_dense/embedding/embedding_lookup: Could not satisfy explicit device specification '' because the node {{colocation_node model_1_dense/embedding/embedding_lookup}} was colocated with a group of nodes that required incompatible device '/job:localhost/replica:0/task:0/device:GPU:0'. All available devices [/job:localhost/replica:0/task:0/device:CPU:0, /job:localhost/replica:0/task:0/device:GPU:0]. \nColocation Debug Info:\nColocation group had the following types and supported devices: \nRoot Member(assigned_device_name_index_=2 requested_device_name_='/job:localhost/replica:0/task:0/device:GPU:0' assigned_device_name_='/job:localhost/replica:0/task:0/device:GPU:0' resource_device_name_='/job:localhost/replica:0/task:0/device:GPU:0' supported_device_types_=[CPU] possible_devices_=[]\nAssignSubVariableOp: GPU CPU \nRealDiv: GPU CPU \nSqrt: GPU CPU \nAssignVariableOp: GPU CPU \nUnsortedSegmentSum: GPU CPU \nIdentity: GPU CPU \nStridedSlice: CPU \nConst: GPU CPU \nNoOp: GPU CPU \nMul: GPU CPU \nShape: GPU CPU \n_Arg: GPU CPU \nResourceScatterAdd: GPU CPU \nUnique: GPU CPU \nReadVariableOp: GPU CPU \nAddV2: GPU CPU \nResourceGather: GPU CPU \n\nColocation members, user-requested devices, and framework assigned devices, if any:\n  model_1_dense_embedding_embedding_lookup_1404 (_Arg)  framework assigned device=/job:localhost/replica:0/task:0/device:GPU:0\n  adam_adam_update_readvariableop_resource (_Arg)  framework assigned device=/job:localhost/replica:0/task:0/device:GPU:0\n  adam_adam_update_readvariableop_2_resource (_Arg)  framework assigned device=/job:localhost/replica:0/task:0/device:GPU:0\n  model_1_dense/embedding/embedding_lookup (ResourceGather) \n  model_1_dense/embedding/embedding_lookup/Identity (Identity) \n  Adam/Adam/update/Unique (Unique) /job:localhost/replica:0/task:0/device:GPU:0\n  Adam/Adam/update/Shape (Shape) /job:localhost/replica:0/task:0/device:GPU:0\n  Adam/Adam/update/strided_slice/stack (Const) /job:localhost/replica:0/task:0/device:GPU:0\n  Adam/Adam/update/strided_slice/stack_1 (Const) /job:localhost/replica:0/task:0/device:GPU:0\n  Adam/Adam/update/strided_slice/stack_2 (Const) /job:localhost/replica:0/task:0/device:GPU:0\n  Adam/Adam/update/strided_slice (StridedSlice) /job:localhost/replica:0/task:0/device:GPU:0\n  Adam/Adam/update/UnsortedSegmentSum (UnsortedSegmentSum) /job:localhost/replica:0/task:0/device:GPU:0\n  Adam/Adam/update/mul (Mul) /job:localhost/replica:0/task:0/device:GPU:0\n  Adam/Adam/update/ReadVariableOp (ReadVariableOp) \n  Adam/Adam/update/mul_1 (Mul) /job:localhost/replica:0/task:0/device:GPU:0\n  Adam/Adam/update/AssignVariableOp (AssignVariableOp) /job:localhost/replica:0/task:0/device:GPU:0\n  Adam/Adam/update/ResourceScatterAdd (ResourceScatterAdd) /job:localhost/replica:0/task:0/device:GPU:0\n  Adam/Adam/update/ReadVariableOp_1 (ReadVariableOp) \n  Adam/Adam/update/mul_2 (Mul) /job:localhost/replica:0/task:0/device:GPU:0\n  Adam/Adam/update/mul_3 (Mul) /job:localhost/replica:0/task:0/device:GPU:0\n  Adam/Adam/update/ReadVariableOp_2 (ReadVariableOp) \n  Adam/Adam/update/mul_4 (Mul) /job:localhost/replica:0/task:0/device:GPU:0\n  Adam/Adam/update/AssignVariableOp_1 (AssignVariableOp) /job:localhost/replica:0/task:0/device:GPU:0\n  Adam/Adam/update/ResourceScatterAdd_1 (ResourceScatterAdd) /job:localhost/replica:0/task:0/device:GPU:0\n  Adam/Adam/update/ReadVariableOp_3 (ReadVariableOp) \n  Adam/Adam/update/Sqrt (Sqrt) /job:localhost/replica:0/task:0/device:GPU:0\n  Adam/Adam/update/mul_5 (Mul) /job:localhost/replica:0/task:0/device:GPU:0\n  Adam/Adam/update/add (AddV2) /job:localhost/replica:0/task:0/device:GPU:0\n  Adam/Adam/update/truediv (RealDiv) /job:localhost/replica:0/task:0/device:GPU:0\n  Adam/Adam/update/AssignSubVariableOp (AssignSubVariableOp) /job:localhost/replica:0/task:0/device:GPU:0\n  Adam/Adam/update/group_deps/NoOp (NoOp) /job:localhost/replica:0/task:0/device:GPU:0\n  Adam/Adam/update/group_deps/NoOp_1 (NoOp) /job:localhost/replica:0/task:0/device:GPU:0\n  Adam/Adam/update/group_deps (NoOp) /job:localhost/replica:0/task:0/device:GPU:0\n\n\t [[{{node model_1_dense/embedding/embedding_lookup}}]] [Op:__inference_train_function_1676]"
     ]
    }
   ],
   "source": [
    "model_1_history = model_1.fit(x=train_sentences,\n",
    "                              y=train_labels,\n",
    "                              epochs=5,\n",
    "                              validation_data=(val_sentences, val_labels),\n",
    "                              callbacks=[mlc.create_tensorboard_callback(experiment_name=\"model_1_dense\", dir_name=\"./model_logs\")]\n",
    "                              )"
   ],
   "metadata": {
    "collapsed": false,
    "ExecuteTime": {
     "end_time": "2023-07-14T20:44:21.301410Z",
     "start_time": "2023-07-14T20:44:20.991248Z"
    }
   }
  },
  {
   "cell_type": "code",
   "execution_count": 32,
   "outputs": [
    {
     "data": {
      "text/plain": "<Figure size 1000x600 with 1 Axes>",
      "image/png": "[encoded data removed]"
     },
     "metadata": {},
     "output_type": "display_data"
    },
    {
     "data": {
      "text/plain": "<Figure size 1000x600 with 1 Axes>",
      "image/png": "[encoded data removed]"
     },
     "metadata": {},
     "output_type": "display_data"
    }
   ],
   "source": [
    "mlp.plot_history(model_1_history)"
   ],
   "metadata": {
    "collapsed": false,
    "ExecuteTime": {
     "end_time": "2023-07-12T13:48:00.329868Z",
     "start_time": "2023-07-12T13:48:00.057101Z"
    }
   }
  },
  {
   "cell_type": "code",
   "execution_count": 33,
   "outputs": [
    {
     "name": "stdout",
     "output_type": "stream",
     "text": [
      "24/24 [==============================] - 0s 9ms/step - loss: 0.4809 - accuracy: 0.7835\n"
     ]
    },
    {
     "data": {
      "text/plain": "[0.4809361398220062, 0.7834645509719849]"
     },
     "execution_count": 33,
     "metadata": {},
     "output_type": "execute_result"
    }
   ],
   "source": [
    "# Evaluate the model\n",
    "model_1.evaluate(val_sentences, val_labels)"
   ],
   "metadata": {
    "collapsed": false,
    "ExecuteTime": {
     "end_time": "2023-07-12T13:48:00.634741Z",
     "start_time": "2023-07-12T13:48:00.313590Z"
    }
   }
  },
  {
   "cell_type": "code",
   "execution_count": 34,
   "outputs": [
    {
     "name": "stdout",
     "output_type": "stream",
     "text": [
      "24/24 [==============================] - 0s 4ms/step\n"
     ]
    },
    {
     "data": {
      "text/plain": "array([[3.85779113e-01],\n       [7.37775505e-01],\n       [9.97845411e-01],\n       [1.29810899e-01],\n       [1.06930427e-01],\n       [9.41055655e-01],\n       [8.99662614e-01],\n       [9.91822660e-01],\n       [9.65827942e-01],\n       [2.78519571e-01],\n       [1.10484369e-01],\n       [6.73792779e-01],\n       [4.98846732e-02],\n       [2.13963270e-01],\n       [4.32847161e-03],\n       [1.25860527e-01],\n       [2.25827489e-02],\n       [8.92205238e-02],\n       [2.35289678e-01],\n       [5.16482711e-01],\n       [9.06633198e-01],\n       [3.59350368e-02],\n       [3.99055094e-01],\n       [8.11952725e-02],\n       [9.56498027e-01],\n       [9.98895109e-01],\n       [3.80460098e-02],\n       [8.45771283e-02],\n       [2.43557058e-02],\n       [1.71537712e-01],\n       [5.76249719e-01],\n       [2.44466081e-01],\n       [4.11440790e-01],\n       [1.56514958e-01],\n       [4.72189665e-01],\n       [6.99158385e-02],\n       [9.94458795e-01],\n       [1.53233543e-01],\n       [3.24829705e-02],\n       [9.98300731e-01],\n       [1.62228540e-01],\n       [2.13499740e-02],\n       [2.98536330e-01],\n       [6.03408776e-02],\n       [6.10318244e-01],\n       [9.81648564e-01],\n       [3.12287599e-01],\n       [9.10622716e-01],\n       [1.82277590e-01],\n       [5.72038472e-01],\n       [5.00602648e-02],\n       [4.01578695e-01],\n       [4.53120559e-01],\n       [2.66542211e-02],\n       [1.10498972e-01],\n       [3.57687809e-02],\n       [1.99074581e-01],\n       [9.54410851e-01],\n       [1.08155228e-01],\n       [2.88509065e-03],\n       [1.46332085e-01],\n       [9.66002941e-01],\n       [9.12506342e-01],\n       [1.69294089e-01],\n       [9.27938461e-01],\n       [9.83284295e-01],\n       [7.43676245e-01],\n       [4.00874943e-01],\n       [1.16547242e-01],\n       [1.31857038e-01],\n       [7.68371224e-02],\n       [3.71509604e-02],\n       [9.29016471e-01],\n       [1.19242303e-01],\n       [1.44855678e-01],\n       [3.93232435e-01],\n       [3.74113411e-01],\n       [8.25544357e-01],\n       [2.49239445e-01],\n       [5.82174540e-01],\n       [4.47723776e-01],\n       [2.94691592e-01],\n       [9.95838761e-01],\n       [8.24829489e-02],\n       [1.90741584e-01],\n       [1.05666816e-01],\n       [2.01245509e-02],\n       [9.83875915e-02],\n       [6.46673381e-01],\n       [8.94569099e-01],\n       [9.90935624e-01],\n       [1.11446381e-02],\n       [5.19266248e-01],\n       [2.55361293e-02],\n       [9.83133137e-01],\n       [7.32941568e-01],\n       [8.72392952e-01],\n       [9.74802256e-01],\n       [8.49917293e-01],\n       [9.56953585e-01],\n       [9.99234915e-01],\n       [1.47873431e-01],\n       [1.20659992e-02],\n       [9.08556223e-01],\n       [8.87845755e-01],\n       [7.93109238e-02],\n       [8.52169752e-01],\n       [9.70680714e-01],\n       [5.52281998e-02],\n       [4.49818850e-01],\n       [7.29533255e-01],\n       [3.74072306e-02],\n       [2.10325375e-01],\n       [1.43812999e-01],\n       [1.42669261e-01],\n       [4.71511692e-01],\n       [4.77108210e-01],\n       [7.47073412e-01],\n       [7.49036074e-01],\n       [8.74675736e-02],\n       [9.99768555e-01],\n       [8.42431560e-02],\n       [1.12835355e-01],\n       [8.07206810e-01],\n       [4.48557854e-01],\n       [2.53390193e-01],\n       [7.98644423e-01],\n       [9.89104807e-03],\n       [6.77140206e-02],\n       [7.87856519e-01],\n       [1.01651788e-01],\n       [9.99768555e-01],\n       [9.99815166e-01],\n       [9.98895109e-01],\n       [9.84179854e-01],\n       [9.25330222e-02],\n       [9.72586691e-01],\n       [1.80525884e-01],\n       [2.74222016e-01],\n       [9.00949463e-02],\n       [9.95463550e-01],\n       [3.12610865e-01],\n       [2.13963270e-01],\n       [9.41065609e-01],\n       [2.44615585e-01],\n       [5.85650742e-01],\n       [4.63921800e-02],\n       [6.92582270e-03],\n       [2.07390234e-01],\n       [9.83053625e-01],\n       [2.89395005e-01],\n       [5.98803200e-02],\n       [4.12847459e-01],\n       [1.56293601e-01],\n       [2.42799893e-01],\n       [9.90243137e-01],\n       [8.01289737e-01],\n       [4.43314403e-01],\n       [9.88983691e-01],\n       [2.13984642e-02],\n       [9.74044979e-01],\n       [6.45713210e-02],\n       [2.54968762e-01],\n       [9.91847038e-01],\n       [2.60492474e-01],\n       [7.03462437e-02],\n       [9.98582959e-01],\n       [3.03382188e-01],\n       [9.80765164e-01],\n       [1.92570329e-01],\n       [9.92539227e-01],\n       [8.41638625e-01],\n       [7.88001776e-01],\n       [2.87697688e-02],\n       [9.97554481e-01],\n       [6.35037124e-02],\n       [3.60391378e-01],\n       [3.73902589e-01],\n       [6.93349481e-01],\n       [9.94061053e-01],\n       [1.47574618e-02],\n       [8.33543181e-01],\n       [7.98231661e-01],\n       [9.67162430e-01],\n       [9.70807433e-01],\n       [4.23905432e-01],\n       [9.93360281e-02],\n       [9.99656081e-01],\n       [1.35414265e-02],\n       [3.32693085e-02],\n       [1.05911791e-01],\n       [9.23877001e-01],\n       [8.76339972e-02],\n       [2.82465875e-01],\n       [1.50062246e-02],\n       [9.88266692e-02],\n       [3.49925272e-02],\n       [2.05764920e-01],\n       [7.36160278e-01],\n       [6.37880787e-02],\n       [2.92132646e-01],\n       [8.67257118e-01],\n       [9.74012434e-01],\n       [3.35259318e-01],\n       [1.23267733e-01],\n       [9.99824107e-01],\n       [5.82800031e-01],\n       [9.13217843e-01],\n       [6.65999234e-01],\n       [8.54734182e-01],\n       [2.66747683e-01],\n       [9.83231306e-01],\n       [1.83872469e-02],\n       [1.98663175e-01],\n       [4.87541314e-03],\n       [5.51636377e-03],\n       [9.45174515e-01],\n       [8.13599527e-01],\n       [8.71524692e-01],\n       [1.65503532e-01],\n       [7.10903823e-01],\n       [8.87563676e-02],\n       [2.75914222e-02],\n       [1.56120762e-01],\n       [9.79626715e-01],\n       [1.51512742e-01],\n       [4.94811237e-01],\n       [9.96005833e-01],\n       [6.02552831e-01],\n       [5.81268013e-01],\n       [1.05418511e-01],\n       [2.13791952e-01],\n       [8.21009338e-01],\n       [2.44874507e-01],\n       [5.14322937e-01],\n       [1.50399208e-01],\n       [5.61934710e-01],\n       [3.08858424e-01],\n       [1.39788732e-01],\n       [8.16138461e-02],\n       [3.99380982e-01],\n       [2.27439910e-01],\n       [9.99862552e-01],\n       [9.87395823e-01],\n       [6.70923442e-02],\n       [2.17217654e-02],\n       [8.78891230e-01],\n       [8.57099518e-02],\n       [8.97974893e-02],\n       [4.18654472e-01],\n       [4.03657034e-02],\n       [5.62248826e-01],\n       [9.40658385e-04],\n       [4.37444359e-01],\n       [9.16222334e-01],\n       [2.09362626e-01],\n       [9.72575009e-01],\n       [9.98767376e-01],\n       [2.38258660e-01],\n       [1.69659734e-01],\n       [3.55273485e-01],\n       [3.66149135e-02],\n       [3.57447797e-03],\n       [9.83886659e-01],\n       [9.64932382e-01],\n       [6.97396994e-01],\n       [9.57878768e-01],\n       [5.17071784e-02],\n       [1.58047706e-01],\n       [8.52863584e-03],\n       [1.46859840e-01],\n       [4.08500582e-02],\n       [9.59652007e-01],\n       [9.93408039e-02],\n       [8.97259824e-03],\n       [9.72866774e-01],\n       [1.44407256e-02],\n       [9.79752690e-02],\n       [9.84370768e-01],\n       [4.31540944e-02],\n       [8.68774801e-02],\n       [7.26624113e-03],\n       [9.71254528e-01],\n       [5.97333372e-01],\n       [7.11203933e-01],\n       [6.78378344e-01],\n       [5.75073123e-01],\n       [4.36557718e-02],\n       [9.39909875e-01],\n       [4.82228212e-02],\n       [7.69670784e-01],\n       [3.65202904e-01],\n       [3.68244290e-01],\n       [3.66963565e-01],\n       [1.82806075e-01],\n       [7.32071459e-01],\n       [2.10143685e-01],\n       [6.20901167e-01],\n       [1.46183506e-01],\n       [7.68115938e-01],\n       [4.44064401e-02],\n       [7.51519725e-02],\n       [2.41183877e-01],\n       [9.85121369e-01],\n       [1.71633765e-01],\n       [9.00819898e-02],\n       [3.31133068e-01],\n       [2.12423369e-01],\n       [1.20691516e-01],\n       [2.45547108e-02],\n       [2.74983104e-02],\n       [9.81034219e-01],\n       [3.64942372e-01],\n       [2.43431985e-01],\n       [9.99820054e-01],\n       [4.74091582e-02],\n       [5.98872840e-01],\n       [2.42063895e-01],\n       [4.31897864e-02],\n       [1.58940852e-01],\n       [1.77023768e-01],\n       [1.04205355e-01],\n       [9.27509964e-01],\n       [2.31877193e-01],\n       [9.87954140e-01],\n       [1.04718357e-01],\n       [1.98778436e-02],\n       [9.94451702e-01],\n       [3.00469007e-02],\n       [9.96504307e-01],\n       [1.34953126e-01],\n       [3.74288522e-02],\n       [9.62353885e-01],\n       [4.61405516e-02],\n       [3.44672166e-02],\n       [9.81081963e-01],\n       [5.98942768e-03],\n       [1.93170920e-01],\n       [7.42059231e-01],\n       [8.91803145e-01],\n       [4.89422958e-03],\n       [1.41353413e-01],\n       [9.81912136e-01],\n       [9.69675779e-01],\n       [6.74877465e-01],\n       [4.01814669e-01],\n       [5.64181507e-01],\n       [3.87351364e-01],\n       [5.36010154e-02],\n       [9.76076573e-02],\n       [9.48633850e-02],\n       [6.81357145e-01],\n       [3.33580524e-02],\n       [4.17733908e-01],\n       [4.25463468e-01],\n       [1.21593922e-02],\n       [9.66251075e-01],\n       [9.98895109e-01],\n       [9.92188454e-01],\n       [3.79769243e-02],\n       [3.74966085e-01],\n       [1.30792812e-01],\n       [3.68193418e-01],\n       [7.73477674e-01],\n       [9.87085477e-02],\n       [2.07035393e-02],\n       [6.17684573e-02],\n       [3.87902558e-02],\n       [5.73614120e-01],\n       [1.18189445e-02],\n       [2.12108031e-01],\n       [3.35382782e-02],\n       [3.71827602e-01],\n       [3.94343942e-01],\n       [3.41093987e-01],\n       [1.72361523e-01],\n       [5.40130697e-02],\n       [3.70181471e-01],\n       [7.08467737e-02],\n       [9.97120917e-01],\n       [9.13450837e-01],\n       [4.36287403e-01],\n       [6.48564339e-01],\n       [2.13194750e-02],\n       [5.04046142e-01],\n       [9.90490317e-01],\n       [6.34372771e-01],\n       [1.84637278e-01],\n       [9.83002126e-01],\n       [1.77393273e-01],\n       [9.42339480e-01],\n       [2.73156852e-01],\n       [2.89548039e-02],\n       [5.02680004e-01],\n       [4.19630349e-01],\n       [9.96424735e-01],\n       [1.35954559e-01],\n       [4.10465784e-02],\n       [7.97344521e-02],\n       [9.87085477e-02],\n       [9.98961926e-01],\n       [2.85083931e-02],\n       [6.31200075e-01],\n       [9.72562909e-01],\n       [7.51520023e-02],\n       [9.99768555e-01],\n       [3.44305411e-02],\n       [3.28928202e-01],\n       [5.49148284e-02],\n       [7.58377612e-01],\n       [9.07604277e-01],\n       [5.06819002e-02],\n       [1.55172381e-03],\n       [2.01089814e-01],\n       [9.87158716e-01],\n       [9.08550322e-01],\n       [1.24732040e-01],\n       [4.62516278e-01],\n       [7.20961154e-01],\n       [2.47980449e-02],\n       [9.92283762e-01],\n       [5.08870840e-01],\n       [9.98684943e-01],\n       [9.30473447e-01],\n       [8.55030194e-02],\n       [3.98394078e-01],\n       [1.13816127e-01],\n       [9.27412152e-01],\n       [7.45805442e-01],\n       [3.64403129e-01],\n       [3.54401655e-02],\n       [3.08630288e-01],\n       [4.22656536e-02],\n       [6.57415688e-02],\n       [1.21741898e-01],\n       [3.55138987e-01],\n       [4.49634224e-01],\n       [1.79882452e-01],\n       [9.99270499e-01],\n       [9.86099541e-01],\n       [2.44368628e-01],\n       [7.37775505e-01],\n       [2.19728857e-01],\n       [3.73017080e-02],\n       [3.25381279e-01],\n       [6.66025758e-01],\n       [8.08748230e-02],\n       [2.22590029e-01],\n       [1.43827489e-02],\n       [4.81900960e-01],\n       [2.03969050e-03],\n       [9.56917524e-01],\n       [9.80359077e-01],\n       [9.92978990e-01],\n       [9.73785639e-01],\n       [7.99462318e-01],\n       [1.71535477e-01],\n       [5.17017543e-02],\n       [6.02242172e-01],\n       [9.01595533e-01],\n       [9.98403728e-01],\n       [2.98760878e-03],\n       [1.39932707e-01],\n       [1.61420688e-01],\n       [9.98685420e-01],\n       [9.99291062e-01],\n       [2.46086195e-01],\n       [1.17707253e-01],\n       [9.95936990e-01],\n       [5.79877049e-02],\n       [3.17614436e-01],\n       [9.81732786e-01],\n       [1.25999272e-01],\n       [4.34854999e-02],\n       [9.23552990e-01],\n       [2.92097211e-01],\n       [4.51634228e-01],\n       [9.64963257e-01],\n       [2.19603758e-02],\n       [4.26896140e-02],\n       [9.49783996e-03],\n       [1.60397552e-02],\n       [9.65362787e-02],\n       [9.70072865e-01],\n       [2.38219351e-02],\n       [4.34811682e-01],\n       [5.17931640e-01],\n       [6.39940202e-02],\n       [2.48362198e-01],\n       [6.07496686e-02],\n       [3.66571605e-01],\n       [9.97840762e-01],\n       [5.98214090e-01],\n       [1.41154066e-01],\n       [1.20966882e-01],\n       [1.27435833e-01],\n       [5.89023978e-02],\n       [6.54711723e-01],\n       [2.11934168e-02],\n       [8.89117062e-01],\n       [7.60451972e-01],\n       [5.41689932e-01],\n       [6.36125267e-01],\n       [8.05174410e-01],\n       [8.56395066e-02],\n       [2.76186883e-01],\n       [3.76332641e-01],\n       [8.94329846e-01],\n       [2.41388127e-01],\n       [2.24463105e-01],\n       [3.44913810e-01],\n       [1.36654004e-02],\n       [1.03100225e-01],\n       [3.38498682e-01],\n       [7.83049524e-01],\n       [1.19332083e-01],\n       [9.91973519e-01],\n       [9.09888327e-01],\n       [7.32941568e-01],\n       [9.83007789e-01],\n       [1.41988680e-01],\n       [6.30270913e-02],\n       [9.03852105e-01],\n       [1.83925480e-01],\n       [2.23522428e-02],\n       [1.35188505e-01],\n       [1.13786384e-01],\n       [1.11498614e-03],\n       [8.20181191e-01],\n       [7.71631896e-01],\n       [8.10592771e-01],\n       [9.30211663e-01],\n       [8.98642689e-02],\n       [1.37341037e-01],\n       [6.86193824e-01],\n       [2.12680381e-02],\n       [2.71080106e-01],\n       [1.30031049e-01],\n       [6.25517547e-01],\n       [5.58599770e-01],\n       [5.80230281e-02],\n       [6.48865849e-02],\n       [4.97424811e-01],\n       [1.19577929e-01],\n       [1.13833830e-01],\n       [1.40051723e-01],\n       [2.53429890e-01],\n       [9.98917580e-01],\n       [9.78103876e-01],\n       [3.59022260e-01],\n       [8.21147084e-01],\n       [9.90198135e-01],\n       [1.27855048e-03],\n       [9.62388873e-01],\n       [2.28669897e-01],\n       [4.92049992e-01],\n       [2.42358014e-01],\n       [9.17463899e-02],\n       [1.23601928e-01],\n       [2.90956460e-02],\n       [8.40302259e-02],\n       [8.28033909e-02],\n       [7.13018417e-01],\n       [2.55155742e-01],\n       [9.92481232e-01],\n       [4.83978726e-02],\n       [6.64577246e-01],\n       [5.85129321e-01],\n       [1.62332579e-02],\n       [4.74988669e-02],\n       [9.59577918e-01],\n       [6.89121842e-01],\n       [9.59749281e-01],\n       [2.57699192e-01],\n       [8.34781602e-02],\n       [4.00342703e-01],\n       [3.22213262e-01],\n       [2.99065530e-01],\n       [9.90198135e-01],\n       [1.29404049e-02],\n       [3.93683985e-02],\n       [1.38351351e-01],\n       [9.97012734e-01],\n       [1.79342657e-01],\n       [4.17778976e-02],\n       [8.00061047e-01],\n       [6.99565485e-02],\n       [2.94121448e-02],\n       [1.47083938e-01],\n       [2.18790516e-01],\n       [1.12837270e-01],\n       [3.34949762e-01],\n       [3.80190462e-01],\n       [1.70447528e-01],\n       [7.90490657e-02],\n       [3.42356235e-01],\n       [1.64331328e-02],\n       [9.37828124e-01],\n       [8.01059902e-01],\n       [4.15372968e-01],\n       [2.75275204e-02],\n       [2.10494194e-02],\n       [9.86503720e-01],\n       [6.36136770e-01],\n       [9.99541163e-01],\n       [2.52583355e-01],\n       [8.82090211e-01],\n       [1.06052667e-01],\n       [5.95116854e-01],\n       [6.84900045e-01],\n       [1.98425893e-02],\n       [9.78851438e-01],\n       [9.97421145e-02],\n       [4.92453009e-01],\n       [9.98242736e-01],\n       [1.45791873e-01],\n       [3.41433436e-02],\n       [2.89416879e-01],\n       [1.18787494e-02],\n       [4.66614932e-01],\n       [9.99824107e-01],\n       [2.23308265e-01],\n       [9.31905091e-01],\n       [2.30852500e-01],\n       [7.45528996e-01],\n       [1.99235514e-01],\n       [2.84916013e-01],\n       [1.66114029e-02],\n       [6.30622268e-01],\n       [1.39974523e-02],\n       [1.45609841e-01],\n       [9.52872455e-01],\n       [9.39440191e-01],\n       [9.95656013e-01],\n       [7.66734838e-01],\n       [3.88935320e-02],\n       [3.33825141e-01],\n       [1.24679236e-02],\n       [4.65953231e-01],\n       [3.09072971e-01],\n       [8.74905705e-01],\n       [3.58742811e-02],\n       [7.76944518e-01],\n       [8.16947043e-01],\n       [2.78336644e-01],\n       [1.88257053e-01],\n       [2.24463105e-01],\n       [1.87026545e-01],\n       [3.87073874e-01],\n       [6.38347387e-01],\n       [9.98865724e-01],\n       [6.70412555e-02],\n       [7.43351504e-03],\n       [1.37138674e-02],\n       [2.29636088e-01],\n       [2.20057294e-01],\n       [2.34860070e-02],\n       [8.12319934e-01],\n       [1.01137258e-01],\n       [1.86334625e-01],\n       [2.36141190e-01],\n       [2.04076126e-01],\n       [9.31637466e-01],\n       [1.42091066e-01],\n       [5.22754848e-01],\n       [3.27630907e-01],\n       [1.42343510e-02],\n       [8.76496136e-02],\n       [9.99671817e-01],\n       [8.00132573e-01],\n       [4.14436357e-03],\n       [2.81147778e-01],\n       [1.63236052e-01],\n       [8.52753744e-02],\n       [8.71809006e-01],\n       [4.64258611e-01],\n       [6.20707095e-01],\n       [3.64315540e-01],\n       [1.97953105e-01],\n       [6.19706929e-01],\n       [1.46338671e-01],\n       [4.46972363e-02],\n       [8.89751375e-01],\n       [1.55415297e-01],\n       [3.29973280e-01],\n       [9.74589765e-01],\n       [2.84843594e-01],\n       [3.59936118e-01],\n       [1.11498614e-03],\n       [2.61300623e-01],\n       [8.19188774e-01],\n       [9.99768555e-01],\n       [6.89397156e-01],\n       [4.12169285e-02],\n       [9.91688311e-01],\n       [3.56033564e-01],\n       [8.72906983e-01],\n       [3.56033564e-01],\n       [9.93540227e-01],\n       [1.00471834e-02],\n       [3.71877193e-01],\n       [9.19296667e-02],\n       [9.75753009e-01],\n       [2.46715933e-01],\n       [4.40668613e-01],\n       [5.38654104e-02],\n       [2.73785919e-01],\n       [1.17494114e-01],\n       [2.74125468e-02],\n       [2.45712638e-01],\n       [6.45256191e-02],\n       [8.64329487e-02],\n       [8.40628564e-01],\n       [2.27669943e-02],\n       [1.11530289e-01],\n       [3.14476639e-02],\n       [1.30082462e-02],\n       [1.27327785e-01],\n       [6.44138277e-01],\n       [6.83171228e-02],\n       [5.58086753e-01],\n       [1.26616955e-01],\n       [2.34841287e-01],\n       [8.82807195e-01],\n       [1.51544318e-01],\n       [4.66506258e-02],\n       [5.99395484e-02],\n       [5.75125823e-03],\n       [9.86067593e-01],\n       [1.30082462e-02],\n       [3.67491484e-01],\n       [9.91716921e-01],\n       [9.93249893e-01],\n       [9.98033583e-01],\n       [9.99867678e-01],\n       [9.99477565e-01],\n       [2.03497529e-01],\n       [8.74415636e-02],\n       [2.48809636e-01],\n       [5.54669678e-01],\n       [9.96217787e-01],\n       [5.27130663e-01],\n       [2.15510428e-01],\n       [5.21798909e-01],\n       [6.91546738e-01],\n       [3.07419598e-02],\n       [5.08113857e-03],\n       [1.01748005e-01],\n       [3.36643547e-01],\n       [8.70037638e-03],\n       [6.42689914e-02],\n       [3.92002702e-01],\n       [9.89672780e-01],\n       [2.21145879e-02],\n       [9.15782392e-01],\n       [7.29420125e-01],\n       [8.41890574e-02],\n       [2.79625028e-01],\n       [8.37629437e-02],\n       [7.59558082e-01],\n       [4.24032509e-01],\n       [9.19381063e-03]], dtype=float32)"
     },
     "execution_count": 34,
     "metadata": {},
     "output_type": "execute_result"
    }
   ],
   "source": [
    "# Make some predictions\n",
    "model_1_pred_propbs = model_1.predict(x=val_sentences)\n",
    "model_1_pred_propbs"
   ],
   "metadata": {
    "collapsed": false,
    "ExecuteTime": {
     "end_time": "2023-07-12T13:48:00.892227Z",
     "start_time": "2023-07-12T13:48:00.631082Z"
    }
   }
  },
  {
   "cell_type": "code",
   "execution_count": 35,
   "outputs": [
    {
     "data": {
      "text/plain": "(762, 1)"
     },
     "execution_count": 35,
     "metadata": {},
     "output_type": "execute_result"
    }
   ],
   "source": [
    "model_1_pred_propbs.shape"
   ],
   "metadata": {
    "collapsed": false,
    "ExecuteTime": {
     "end_time": "2023-07-12T13:48:00.955058Z",
     "start_time": "2023-07-12T13:48:00.888973Z"
    }
   }
  },
  {
   "cell_type": "code",
   "execution_count": 36,
   "outputs": [
    {
     "data": {
      "text/plain": "<tf.Tensor: shape=(10,), dtype=float32, numpy=array([0., 1., 1., 0., 0., 1., 1., 1., 1., 0.], dtype=float32)>"
     },
     "execution_count": 36,
     "metadata": {},
     "output_type": "execute_result"
    }
   ],
   "source": [
    "# Convert model prediction probabilities to label format\n",
    "# First squeeze the results so we go from a two dimensional shape (762, 1) to a one dimensional shape (762,)\n",
    "# Then round the results\n",
    "model_1_preds = tf.round(tf.squeeze(model_1_pred_propbs))\n",
    "model_1_preds[:10]"
   ],
   "metadata": {
    "collapsed": false,
    "ExecuteTime": {
     "end_time": "2023-07-12T13:48:01.021025Z",
     "start_time": "2023-07-12T13:48:00.947935Z"
    }
   }
  },
  {
   "cell_type": "code",
   "execution_count": 37,
   "outputs": [
    {
     "data": {
      "text/plain": "{'accuracy': 78.34645669291339,\n 'precision': 0.7884290282979772,\n 'recall': 0.7834645669291339,\n 'f1': 0.7803444000779524}"
     },
     "execution_count": 37,
     "metadata": {},
     "output_type": "execute_result"
    }
   ],
   "source": [
    "# Calculate our model one results\n",
    "# TODO: CREATE BETTER RESULT FORMAT (Dataframe?, NP array?)\n",
    "model_1_results = mlp.table_quality_metrics(y_true=val_labels, y_pred=model_1_preds)\n",
    "model_1_results"
   ],
   "metadata": {
    "collapsed": false,
    "ExecuteTime": {
     "end_time": "2023-07-12T13:48:01.090852Z",
     "start_time": "2023-07-12T13:48:01.018602Z"
    }
   }
  },
  {
   "cell_type": "code",
   "execution_count": 38,
   "outputs": [
    {
     "data": {
      "text/plain": "{'accuracy': 79.26509186351706,\n 'precision': 0.8111390004213173,\n 'recall': 0.7926509186351706,\n 'f1': 0.7862189758049549}"
     },
     "execution_count": 38,
     "metadata": {},
     "output_type": "execute_result"
    }
   ],
   "source": [
    "baseline_results"
   ],
   "metadata": {
    "collapsed": false,
    "ExecuteTime": {
     "end_time": "2023-07-12T13:48:01.169395Z",
     "start_time": "2023-07-12T13:48:01.080895Z"
    }
   }
  },
  {
   "cell_type": "code",
   "execution_count": 39,
   "outputs": [
    {
     "data": {
      "text/plain": "array([False, False, False, False])"
     },
     "execution_count": 39,
     "metadata": {},
     "output_type": "execute_result"
    }
   ],
   "source": [
    "# Comapre the results from both models (order does not have to be the same)\n",
    "# TODO: CREATE FUNCTION\n",
    "import numpy as np\n",
    "np.array(list(model_1_results.values())) > np.array(list(baseline_results.values()))"
   ],
   "metadata": {
    "collapsed": false,
    "ExecuteTime": {
     "end_time": "2023-07-12T13:48:01.243716Z",
     "start_time": "2023-07-12T13:48:01.141177Z"
    }
   }
  },
  {
   "cell_type": "markdown",
   "source": [
    "Visualizing learned embeddings"
   ],
   "metadata": {
    "collapsed": false
   }
  },
  {
   "cell_type": "code",
   "execution_count": 40,
   "outputs": [
    {
     "data": {
      "text/plain": "(10000, ['', '[UNK]', 'the', 'a', 'in', 'to', 'of', 'and', 'i', 'is'])"
     },
     "execution_count": 40,
     "metadata": {},
     "output_type": "execute_result"
    }
   ],
   "source": [
    "# Get the vocabulary from the text verctorization layer\n",
    "words_in_vocab = text_vectorizer.get_vocabulary()\n",
    "len(words_in_vocab), words_in_vocab[:10]"
   ],
   "metadata": {
    "collapsed": false,
    "ExecuteTime": {
     "end_time": "2023-07-12T13:48:01.277661Z",
     "start_time": "2023-07-12T13:48:01.202178Z"
    }
   }
  },
  {
   "cell_type": "code",
   "execution_count": 41,
   "outputs": [
    {
     "name": "stdout",
     "output_type": "stream",
     "text": [
      "Model: \"model_1_dense\"\n",
      "_________________________________________________________________\n",
      " Layer (type)                Output Shape              Param #   \n",
      "=================================================================\n",
      " input_1 (InputLayer)        [(None, 1)]               0         \n",
      "                                                                 \n",
      " text_vectorization_1 (TextV  (None, 15)               0         \n",
      " ectorization)                                                   \n",
      "                                                                 \n",
      " embedding (Embedding)       (None, 15, 128)           1280000   \n",
      "                                                                 \n",
      " global_average_pooling1d (G  (None, 128)              0         \n",
      " lobalAveragePooling1D)                                          \n",
      "                                                                 \n",
      " dense (Dense)               (None, 1)                 129       \n",
      "                                                                 \n",
      "=================================================================\n",
      "Total params: 1,280,129\n",
      "Trainable params: 1,280,129\n",
      "Non-trainable params: 0\n",
      "_________________________________________________________________\n"
     ]
    }
   ],
   "source": [
    "# Model 1 summary\n",
    "model_1.summary()"
   ],
   "metadata": {
    "collapsed": false,
    "ExecuteTime": {
     "end_time": "2023-07-12T13:48:01.353267Z",
     "start_time": "2023-07-12T13:48:01.276086Z"
    }
   }
  },
  {
   "cell_type": "code",
   "execution_count": 42,
   "outputs": [],
   "source": [
    "# Get the weight matrix of the embedding layer\n",
    "# (these are the numerical representations of each token in our training data)\n",
    "embed_weights = model_1.get_layer(name=\"embedding\").get_weights()[0]\n",
    "# Is also the same\n",
    "# embed_weights = embedding.weights"
   ],
   "metadata": {
    "collapsed": false,
    "ExecuteTime": {
     "end_time": "2023-07-12T13:48:01.410126Z",
     "start_time": "2023-07-12T13:48:01.343671Z"
    }
   }
  },
  {
   "cell_type": "markdown",
   "source": [
    "Now we've got the embeddings matrix our model has learned to represent our tokens, let's see how we can visualize it. To do so, TensorFlow has a handy tool called Projector.\n",
    "\n",
    "https://projector.tensorflow.org\n",
    "\n",
    "And TensorFlow also has an incredible guide on word embeddings themselfs."
   ],
   "metadata": {
    "collapsed": false
   }
  },
  {
   "cell_type": "code",
   "execution_count": 43,
   "outputs": [
    {
     "data": {
      "text/plain": "(10000, 128)"
     },
     "execution_count": 43,
     "metadata": {},
     "output_type": "execute_result"
    }
   ],
   "source": [
    "# So for each token (total of 10.000 tokens in our vocabulary) we have a 128 length vector\n",
    "embed_weights.shape"
   ],
   "metadata": {
    "collapsed": false,
    "ExecuteTime": {
     "end_time": "2023-07-12T13:48:01.473581Z",
     "start_time": "2023-07-12T13:48:01.410543Z"
    }
   }
  },
  {
   "cell_type": "code",
   "execution_count": 44,
   "outputs": [],
   "source": [
    "# TODO: Implement as function\n",
    "import io\n",
    "\n",
    "out_v = io.open('./embedding/vectors.tsv', 'w', encoding='utf-8')\n",
    "out_m = io.open('./embedding/metadata.tsv', 'w', encoding='utf-8')\n",
    "\n",
    "for index, word in enumerate(words_in_vocab):\n",
    "  if index == 0:\n",
    "    continue  # skip 0, it's padding.\n",
    "  vec = embed_weights[index]\n",
    "  out_v.write('\\t'.join([str(x) for x in vec]) + \"\\n\")\n",
    "  out_m.write(word + \"\\n\")\n",
    "out_v.close()\n",
    "out_m.close()"
   ],
   "metadata": {
    "collapsed": false,
    "ExecuteTime": {
     "end_time": "2023-07-12T13:48:01.918626Z",
     "start_time": "2023-07-12T13:48:01.472283Z"
    }
   }
  },
  {
   "cell_type": "code",
   "execution_count": 45,
   "outputs": [],
   "source": [
    "# TODO: Implement as function?\n",
    "\n",
    "# try:\n",
    "#   from google.colab import files\n",
    "#   files.download('vectors.tsv')\n",
    "#   files.download('metadata.tsv')\n",
    "# except Exception:\n",
    "#   pass"
   ],
   "metadata": {
    "collapsed": false,
    "ExecuteTime": {
     "end_time": "2023-07-12T13:48:01.978514Z",
     "start_time": "2023-07-12T13:48:01.918903Z"
    }
   }
  },
  {
   "cell_type": "markdown",
   "source": [
    "Recurrent neural networks\n",
    "\n",
    "RNN's are useful for sequence data\n",
    "\n",
    "The premise of a recurrent neural network is to use the representation of a previous input to aid the representation of a later input.\n",
    "\n",
    "If you want an overview of the internals of RNN, see the following:\n",
    "\n",
    "- MIT: Sequence modelling lecture: https://youtu.be/ySEx_Bqxvvo\n",
    "- LSTM Chris Olah: https://colah.github.io/posts/2015-08-Understanding-LSTMs/\n",
    "- Andrej Karpathy's: http://karpathy.github.io/2015/05/21/rnn-effectiveness/"
   ],
   "metadata": {
    "collapsed": false
   }
  },
  {
   "cell_type": "markdown",
   "source": [
    "# Model 2: LSTM\n",
    "\n",
    "LSTM = Long Short Term Memory (one of the most popular LSTM cells)\n",
    "\n",
    "Our structure of an RNN typically looks like this:\n",
    "\n",
    "\n",
    "```\n",
    "Input (TEXT) -> Tokenize -> Embedding -> Layers (RNN's/Dense) -> Output (label probability)\n",
    "```"
   ],
   "metadata": {
    "collapsed": false
   }
  },
  {
   "cell_type": "code",
   "execution_count": 46,
   "outputs": [
    {
     "name": "stdout",
     "output_type": "stream",
     "text": [
      "(None, 15, 128)\n",
      "(None, 15, 64)\n",
      "(None, 64)\n"
     ]
    }
   ],
   "source": [
    "# Create an LSTM model\n",
    "inputs = Input(shape=(1,), dtype=tf.string)\n",
    "x = text_vectorizer(inputs)\n",
    "x = embedding(x)\n",
    "print(x.shape)\n",
    "x = LSTM(units=64, return_sequences=True)(x) # When you're stacking RNN cells together, you need to return_sequences=True\n",
    "print(x.shape)\n",
    "x = LSTM(units=64)(x)\n",
    "print(x.shape)\n",
    "x = Dense(units=64, activation=\"relu\")(x)\n",
    "outputs = Dense(units=1, activation=\"sigmoid\")(x)\n",
    "\n",
    "model_2 = Model(inputs, outputs, name=\"model_2_LSTM\")"
   ],
   "metadata": {
    "collapsed": false,
    "ExecuteTime": {
     "end_time": "2023-07-12T13:48:02.315499Z",
     "start_time": "2023-07-12T13:48:01.978707Z"
    }
   }
  },
  {
   "cell_type": "markdown",
   "source": [
    "The input arguments for the LSTM are (batch, timesteps, feature), so in our case this is (batch=None, timesteps=15, feature=64)"
   ],
   "metadata": {
    "collapsed": false
   }
  },
  {
   "cell_type": "code",
   "execution_count": 47,
   "outputs": [],
   "source": [
    "# Create an LSTM model\n",
    "inputs = Input(shape=(1,), dtype=tf.string)\n",
    "x = text_vectorizer(inputs)\n",
    "x = embedding(x)\n",
    "# print(x.shape)\n",
    "# x = LSTM(units=64, return_sequences=True)(x) # When you're stacking RNN cells together, you need to return_sequences=True\n",
    "# print(x.shape)\n",
    "x = LSTM(units=64)(x)\n",
    "# print(x.shape)\n",
    "# x = Dense(units=64, activation=\"relu\")(x)\n",
    "outputs = Dense(units=1, activation=\"sigmoid\")(x)\n",
    "\n",
    "model_2 = Model(inputs, outputs, name=\"model_2_LSTM\")"
   ],
   "metadata": {
    "collapsed": false,
    "ExecuteTime": {
     "end_time": "2023-07-12T13:48:02.481937Z",
     "start_time": "2023-07-12T13:48:02.315063Z"
    }
   }
  },
  {
   "cell_type": "code",
   "execution_count": 48,
   "outputs": [
    {
     "name": "stdout",
     "output_type": "stream",
     "text": [
      "Model: \"model_2_LSTM\"\n",
      "_________________________________________________________________\n",
      " Layer (type)                Output Shape              Param #   \n",
      "=================================================================\n",
      " input_3 (InputLayer)        [(None, 1)]               0         \n",
      "                                                                 \n",
      " text_vectorization_1 (TextV  (None, 15)               0         \n",
      " ectorization)                                                   \n",
      "                                                                 \n",
      " embedding (Embedding)       (None, 15, 128)           1280000   \n",
      "                                                                 \n",
      " lstm_2 (LSTM)               (None, 64)                49408     \n",
      "                                                                 \n",
      " dense_3 (Dense)             (None, 1)                 65        \n",
      "                                                                 \n",
      "=================================================================\n",
      "Total params: 1,329,473\n",
      "Trainable params: 1,329,473\n",
      "Non-trainable params: 0\n",
      "_________________________________________________________________\n"
     ]
    }
   ],
   "source": [
    "# Get a summary.\n",
    "model_2.summary()"
   ],
   "metadata": {
    "collapsed": false,
    "ExecuteTime": {
     "end_time": "2023-07-12T13:48:02.548702Z",
     "start_time": "2023-07-12T13:48:02.482100Z"
    }
   }
  },
  {
   "cell_type": "code",
   "execution_count": 49,
   "outputs": [],
   "source": [
    "# Compile the model\n",
    "model_2.compile(loss=binary_crossentropy,\n",
    "                optimizer=Adam(),\n",
    "                metrics=[\"accuracy\"])"
   ],
   "metadata": {
    "collapsed": false,
    "ExecuteTime": {
     "end_time": "2023-07-12T13:48:02.626712Z",
     "start_time": "2023-07-12T13:48:02.549674Z"
    }
   }
  },
  {
   "cell_type": "code",
   "execution_count": 50,
   "outputs": [
    {
     "name": "stdout",
     "output_type": "stream",
     "text": [
      "Saving TensorBoard log files to: ./model_logs/model_2_lstm/20230712-154802\n",
      "Epoch 1/5\n",
      "215/215 [==============================] - 7s 26ms/step - loss: 0.2212 - accuracy: 0.9240 - val_loss: 0.6030 - val_accuracy: 0.7795\n",
      "Epoch 2/5\n",
      "215/215 [==============================] - 4s 21ms/step - loss: 0.1577 - accuracy: 0.9404 - val_loss: 0.5930 - val_accuracy: 0.7822\n",
      "Epoch 3/5\n",
      "215/215 [==============================] - 4s 21ms/step - loss: 0.1266 - accuracy: 0.9515 - val_loss: 0.7307 - val_accuracy: 0.7887\n",
      "Epoch 4/5\n",
      "215/215 [==============================] - 4s 20ms/step - loss: 0.1071 - accuracy: 0.9590 - val_loss: 0.7522 - val_accuracy: 0.7822\n",
      "Epoch 5/5\n",
      "215/215 [==============================] - 4s 20ms/step - loss: 0.0900 - accuracy: 0.9645 - val_loss: 0.9932 - val_accuracy: 0.7769\n"
     ]
    }
   ],
   "source": [
    "model_2_history = model_2.fit(\n",
    "    x=train_sentences,\n",
    "    y=train_labels,\n",
    "    epochs=5,\n",
    "    validation_data=(val_sentences, val_labels),\n",
    "    callbacks=mlc.create_tensorboard_callback(\"model_2_lstm\", dir_name=\"./model_logs\")\n",
    ")"
   ],
   "metadata": {
    "collapsed": false,
    "ExecuteTime": {
     "end_time": "2023-07-12T13:48:27.092619Z",
     "start_time": "2023-07-12T13:48:02.614177Z"
    }
   }
  },
  {
   "cell_type": "code",
   "execution_count": 51,
   "outputs": [
    {
     "data": {
      "text/plain": "<Figure size 1000x600 with 1 Axes>",
      "image/png": "[encoded data removed]"
     },
     "metadata": {},
     "output_type": "display_data"
    },
    {
     "data": {
      "text/plain": "<Figure size 1000x600 with 1 Axes>",
      "image/png": "[encoded data removed]"
     },
     "metadata": {},
     "output_type": "display_data"
    }
   ],
   "source": [
    "mlp.plot_history(model_2_history)"
   ],
   "metadata": {
    "collapsed": false,
    "ExecuteTime": {
     "end_time": "2023-07-12T13:48:27.339138Z",
     "start_time": "2023-07-12T13:48:27.047718Z"
    }
   }
  },
  {
   "cell_type": "code",
   "execution_count": 52,
   "outputs": [
    {
     "name": "stdout",
     "output_type": "stream",
     "text": [
      "24/24 [==============================] - 0s 6ms/step\n"
     ]
    },
    {
     "data": {
      "text/plain": "array([[2.9608195e-03],\n       [6.0659558e-01],\n       [9.9978870e-01],\n       [1.2206977e-02],\n       [5.9629558e-04],\n       [9.9909687e-01],\n       [9.7015518e-01],\n       [9.9984205e-01],\n       [9.9975246e-01],\n       [3.8223544e-01]], dtype=float32)"
     },
     "execution_count": 52,
     "metadata": {},
     "output_type": "execute_result"
    }
   ],
   "source": [
    "model_2_pred_props = model_2.predict(val_sentences)\n",
    "model_2_pred_props[:10]"
   ],
   "metadata": {
    "collapsed": false,
    "ExecuteTime": {
     "end_time": "2023-07-12T13:48:27.930818Z",
     "start_time": "2023-07-12T13:48:27.286808Z"
    }
   }
  },
  {
   "cell_type": "code",
   "execution_count": 53,
   "outputs": [
    {
     "data": {
      "text/plain": "<tf.Tensor: shape=(10,), dtype=float32, numpy=array([0., 1., 1., 0., 0., 1., 1., 1., 1., 0.], dtype=float32)>"
     },
     "execution_count": 53,
     "metadata": {},
     "output_type": "execute_result"
    }
   ],
   "source": [
    "# Convert model 2 predictions to labels\n",
    "model_2_preds = tf.squeeze(tf.round(model_2_pred_props))\n",
    "model_2_preds[:10]"
   ],
   "metadata": {
    "collapsed": false,
    "ExecuteTime": {
     "end_time": "2023-07-12T13:48:27.930967Z",
     "start_time": "2023-07-12T13:48:27.724754Z"
    }
   }
  },
  {
   "cell_type": "code",
   "execution_count": 54,
   "outputs": [
    {
     "data": {
      "text/plain": "{'accuracy': 77.69028871391076,\n 'precision': 0.7789562668302826,\n 'recall': 0.7769028871391076,\n 'f1': 0.7747522807746444}"
     },
     "execution_count": 54,
     "metadata": {},
     "output_type": "execute_result"
    }
   ],
   "source": [
    "# Check the results from model_2\n",
    "model_2_results = mlp.table_quality_metrics(val_labels, model_2_preds)\n",
    "model_2_results"
   ],
   "metadata": {
    "collapsed": false,
    "ExecuteTime": {
     "end_time": "2023-07-12T13:48:27.943585Z",
     "start_time": "2023-07-12T13:48:27.787521Z"
    }
   }
  },
  {
   "cell_type": "code",
   "execution_count": 55,
   "outputs": [
    {
     "data": {
      "text/plain": "{'accuracy': 79.26509186351706,\n 'precision': 0.8111390004213173,\n 'recall': 0.7926509186351706,\n 'f1': 0.7862189758049549}"
     },
     "execution_count": 55,
     "metadata": {},
     "output_type": "execute_result"
    }
   ],
   "source": [
    "baseline_results"
   ],
   "metadata": {
    "collapsed": false,
    "ExecuteTime": {
     "end_time": "2023-07-12T13:48:27.944340Z",
     "start_time": "2023-07-12T13:48:27.848551Z"
    }
   }
  },
  {
   "cell_type": "markdown",
   "source": [
    "# Model 3: GRU\n",
    "\n",
    "Another popular effective RNN component is the GRU - Gated Recurrent Unit.\n",
    "\n",
    "The GRU cell (GRU Layer) has similar features to an LSTM cell but has less parameters.\n",
    "\n",
    "https://towardsdatascience.com/understanding-gru-networks-2ef37df6c9be\n",
    "https://towardsdatascience.com/illustrated-guide-to-lstms-and-gru-s-a-step-by-step-explanation-44e9eb85bf21"
   ],
   "metadata": {
    "collapsed": false
   }
  },
  {
   "cell_type": "code",
   "execution_count": 56,
   "outputs": [],
   "source": [
    "# Build an RNN using the GRU cell\n",
    "inputs = Input(shape=(1,), dtype=tf.string)\n",
    "x = text_vectorizer(inputs)\n",
    "x = embedding(x)\n",
    "x = GRU(units=64, return_sequences=False)(x)\n",
    "outputs = Dense(1, activation=\"sigmoid\")(x)\n",
    "model_3 = Model(inputs, outputs, name=\"model_3_gru\")"
   ],
   "metadata": {
    "collapsed": false,
    "ExecuteTime": {
     "end_time": "2023-07-12T13:48:28.121231Z",
     "start_time": "2023-07-12T13:48:27.928354Z"
    }
   }
  },
  {
   "cell_type": "code",
   "execution_count": 57,
   "outputs": [
    {
     "name": "stdout",
     "output_type": "stream",
     "text": [
      "Model: \"model_3_gru\"\n",
      "_________________________________________________________________\n",
      " Layer (type)                Output Shape              Param #   \n",
      "=================================================================\n",
      " input_4 (InputLayer)        [(None, 1)]               0         \n",
      "                                                                 \n",
      " text_vectorization_1 (TextV  (None, 15)               0         \n",
      " ectorization)                                                   \n",
      "                                                                 \n",
      " embedding (Embedding)       (None, 15, 128)           1280000   \n",
      "                                                                 \n",
      " gru (GRU)                   (None, 64)                37248     \n",
      "                                                                 \n",
      " dense_4 (Dense)             (None, 1)                 65        \n",
      "                                                                 \n",
      "=================================================================\n",
      "Total params: 1,317,313\n",
      "Trainable params: 1,317,313\n",
      "Non-trainable params: 0\n",
      "_________________________________________________________________\n"
     ]
    }
   ],
   "source": [
    "model_3.summary()"
   ],
   "metadata": {
    "collapsed": false,
    "ExecuteTime": {
     "end_time": "2023-07-12T13:48:28.301402Z",
     "start_time": "2023-07-12T13:48:28.092563Z"
    }
   }
  },
  {
   "cell_type": "code",
   "execution_count": 58,
   "outputs": [],
   "source": [
    "model_3.compile(loss=binary_crossentropy,\n",
    "                optimizer=Adam(),\n",
    "                metrics=[\"accuracy\"])"
   ],
   "metadata": {
    "collapsed": false,
    "ExecuteTime": {
     "end_time": "2023-07-12T13:48:28.305884Z",
     "start_time": "2023-07-12T13:48:28.152477Z"
    }
   }
  },
  {
   "cell_type": "code",
   "execution_count": 59,
   "outputs": [
    {
     "name": "stdout",
     "output_type": "stream",
     "text": [
      "Saving TensorBoard log files to: ./model_logs/model_3_gru/20230712-154828\n",
      "Epoch 1/5\n",
      "215/215 [==============================] - 7s 26ms/step - loss: 0.1523 - accuracy: 0.9438 - val_loss: 0.7504 - val_accuracy: 0.7795\n",
      "Epoch 2/5\n",
      "215/215 [==============================] - 4s 19ms/step - loss: 0.0834 - accuracy: 0.9702 - val_loss: 0.8027 - val_accuracy: 0.7743\n",
      "Epoch 3/5\n",
      "215/215 [==============================] - 4s 16ms/step - loss: 0.0715 - accuracy: 0.9718 - val_loss: 0.9143 - val_accuracy: 0.7769\n",
      "Epoch 4/5\n",
      "215/215 [==============================] - 3s 15ms/step - loss: 0.0611 - accuracy: 0.9771 - val_loss: 1.0322 - val_accuracy: 0.7717\n",
      "Epoch 5/5\n",
      "215/215 [==============================] - 3s 15ms/step - loss: 0.0534 - accuracy: 0.9778 - val_loss: 1.3208 - val_accuracy: 0.7743\n"
     ]
    }
   ],
   "source": [
    "model_3_history = model_3.fit(x=train_sentences,\n",
    "                              y=train_labels,\n",
    "                              epochs=5,\n",
    "                              validation_data=(val_sentences, val_labels),\n",
    "                              callbacks=[mlc.create_tensorboard_callback(\"model_3_gru\", dir_name=\"./model_logs\")])"
   ],
   "metadata": {
    "collapsed": false,
    "ExecuteTime": {
     "end_time": "2023-07-12T13:48:49.489480Z",
     "start_time": "2023-07-12T13:48:28.222652Z"
    }
   }
  },
  {
   "cell_type": "code",
   "execution_count": 60,
   "outputs": [
    {
     "name": "stdout",
     "output_type": "stream",
     "text": [
      "24/24 [==============================] - 0s 6ms/step\n"
     ]
    },
    {
     "data": {
      "text/plain": "array([[4.0016777e-04],\n       [8.4066832e-01],\n       [9.9989080e-01],\n       [1.8795280e-01],\n       [9.1314447e-05],\n       [9.9991202e-01],\n       [9.9331033e-01],\n       [9.9996924e-01],\n       [9.9993372e-01],\n       [9.9970275e-01]], dtype=float32)"
     },
     "execution_count": 60,
     "metadata": {},
     "output_type": "execute_result"
    }
   ],
   "source": [
    "# Make some predictions\n",
    "model_3_pred_props = model_3.predict(x=val_sentences)\n",
    "model_3_pred_props[:10]"
   ],
   "metadata": {
    "collapsed": false,
    "ExecuteTime": {
     "end_time": "2023-07-12T13:48:50.172312Z",
     "start_time": "2023-07-12T13:48:49.225992Z"
    }
   }
  },
  {
   "cell_type": "code",
   "execution_count": 61,
   "outputs": [
    {
     "data": {
      "text/plain": "<tf.Tensor: shape=(10,), dtype=float32, numpy=array([0., 1., 1., 0., 0., 1., 1., 1., 1., 1.], dtype=float32)>"
     },
     "execution_count": 61,
     "metadata": {},
     "output_type": "execute_result"
    }
   ],
   "source": [
    "# Convert model_3_pred_props, first round the values then squeeze to remove dimensions.\n",
    "model_3_preds = tf.squeeze(tf.round(model_3_pred_props))\n",
    "model_3_preds[:10]"
   ],
   "metadata": {
    "collapsed": false,
    "ExecuteTime": {
     "end_time": "2023-07-12T13:48:50.172641Z",
     "start_time": "2023-07-12T13:48:49.675154Z"
    }
   }
  },
  {
   "cell_type": "code",
   "execution_count": 62,
   "outputs": [
    {
     "data": {
      "text/plain": "{'accuracy': 77.42782152230971,\n 'precision': 0.7759894665484696,\n 'recall': 0.7742782152230971,\n 'f1': 0.7722311836526509}"
     },
     "execution_count": 62,
     "metadata": {},
     "output_type": "execute_result"
    }
   ],
   "source": [
    "# Calculate model 3 results\n",
    "model_3_results = mlp.table_quality_metrics(val_labels, model_3_preds)\n",
    "model_3_results"
   ],
   "metadata": {
    "collapsed": false,
    "ExecuteTime": {
     "end_time": "2023-07-12T13:48:50.176096Z",
     "start_time": "2023-07-12T13:48:49.747103Z"
    }
   }
  },
  {
   "cell_type": "code",
   "execution_count": 63,
   "outputs": [
    {
     "data": {
      "text/plain": "{'accuracy': 77.69028871391076,\n 'precision': 0.7789562668302826,\n 'recall': 0.7769028871391076,\n 'f1': 0.7747522807746444}"
     },
     "execution_count": 63,
     "metadata": {},
     "output_type": "execute_result"
    }
   ],
   "source": [
    "model_2_results"
   ],
   "metadata": {
    "collapsed": false,
    "ExecuteTime": {
     "end_time": "2023-07-12T13:48:50.181657Z",
     "start_time": "2023-07-12T13:48:49.794441Z"
    }
   }
  },
  {
   "cell_type": "code",
   "execution_count": 64,
   "outputs": [
    {
     "data": {
      "text/plain": "<Figure size 1000x600 with 1 Axes>",
      "image/png": "[encoded data removed]"
     },
     "metadata": {},
     "output_type": "display_data"
    },
    {
     "data": {
      "text/plain": "<Figure size 1000x600 with 1 Axes>",
      "image/png": "[encoded data removed]"
     },
     "metadata": {},
     "output_type": "display_data"
    }
   ],
   "source": [
    "mlp.plot_history(model_3_history)"
   ],
   "metadata": {
    "collapsed": false,
    "ExecuteTime": {
     "end_time": "2023-07-12T13:48:50.183417Z",
     "start_time": "2023-07-12T13:48:49.847516Z"
    }
   }
  },
  {
   "cell_type": "markdown",
   "source": [
    "# Model 4: Bidirectional RNN\n",
    "\n",
    "Normal RNN's go from left to right (just like you'd read an English sentence), however, bidirectionals go from right to left as well as left to right."
   ],
   "metadata": {
    "collapsed": false
   }
  },
  {
   "cell_type": "code",
   "execution_count": 65,
   "outputs": [],
   "source": [
    "# Build a bidirectional RNN in TensorFlow\n",
    "\n",
    "inputs = Input(shape=(1,), dtype=tf.string)\n",
    "x = text_vectorizer(inputs)\n",
    "x = embedding(x)\n",
    "x = Bidirectional(layer=LSTM(units=64, return_sequences=False))(x)\n",
    "# x = Bidirectional(layer=GRU(units=64))(x)\n",
    "outputs = Dense(1, activation=\"sigmoid\")(x)\n",
    "\n",
    "model_4 = Model(inputs, outputs, name=\"model_4_bidirectional\")"
   ],
   "metadata": {
    "collapsed": false,
    "ExecuteTime": {
     "end_time": "2023-07-12T13:48:52.065312Z",
     "start_time": "2023-07-12T13:48:50.079541Z"
    }
   }
  },
  {
   "cell_type": "code",
   "execution_count": 66,
   "outputs": [
    {
     "name": "stdout",
     "output_type": "stream",
     "text": [
      "Model: \"model_4_bidirectional\"\n",
      "_________________________________________________________________\n",
      " Layer (type)                Output Shape              Param #   \n",
      "=================================================================\n",
      " input_5 (InputLayer)        [(None, 1)]               0         \n",
      "                                                                 \n",
      " text_vectorization_1 (TextV  (None, 15)               0         \n",
      " ectorization)                                                   \n",
      "                                                                 \n",
      " embedding (Embedding)       (None, 15, 128)           1280000   \n",
      "                                                                 \n",
      " bidirectional (Bidirectiona  (None, 128)              98816     \n",
      " l)                                                              \n",
      "                                                                 \n",
      " dense_5 (Dense)             (None, 1)                 129       \n",
      "                                                                 \n",
      "=================================================================\n",
      "Total params: 1,378,945\n",
      "Trainable params: 1,378,945\n",
      "Non-trainable params: 0\n",
      "_________________________________________________________________\n"
     ]
    }
   ],
   "source": [
    "# Get a summary\n",
    "\n",
    "model_4.summary()"
   ],
   "metadata": {
    "collapsed": false,
    "ExecuteTime": {
     "end_time": "2023-07-12T13:48:52.176619Z",
     "start_time": "2023-07-12T13:48:50.303828Z"
    }
   }
  },
  {
   "cell_type": "code",
   "execution_count": 67,
   "outputs": [],
   "source": [
    "# Compile the model\n",
    "model_4.compile(loss=binary_crossentropy,\n",
    "                optimizer=Adam(),\n",
    "                metrics=[\"accuracy\"])"
   ],
   "metadata": {
    "collapsed": false,
    "ExecuteTime": {
     "end_time": "2023-07-12T13:48:52.178819Z",
     "start_time": "2023-07-12T13:48:50.427854Z"
    }
   }
  },
  {
   "cell_type": "code",
   "execution_count": 68,
   "outputs": [
    {
     "name": "stdout",
     "output_type": "stream",
     "text": [
      "Saving TensorBoard log files to: ./model_logs/model_3_bidirectional/20230712-154850\n",
      "Epoch 1/5\n",
      "215/215 [==============================] - 8s 32ms/step - loss: 0.1068 - accuracy: 0.9696 - val_loss: 0.9050 - val_accuracy: 0.7690\n",
      "Epoch 2/5\n",
      "215/215 [==============================] - 5s 23ms/step - loss: 0.0528 - accuracy: 0.9780 - val_loss: 1.1159 - val_accuracy: 0.7677\n",
      "Epoch 3/5\n",
      "215/215 [==============================] - 5s 22ms/step - loss: 0.0490 - accuracy: 0.9780 - val_loss: 1.3216 - val_accuracy: 0.7703\n",
      "Epoch 4/5\n",
      "215/215 [==============================] - 5s 21ms/step - loss: 0.0453 - accuracy: 0.9800 - val_loss: 1.2146 - val_accuracy: 0.7717\n",
      "Epoch 5/5\n",
      "215/215 [==============================] - 5s 22ms/step - loss: 0.0393 - accuracy: 0.9816 - val_loss: 1.3683 - val_accuracy: 0.7717\n"
     ]
    }
   ],
   "source": [
    "model_4_history = model_4.fit(x=train_sentences,\n",
    "                              y=train_labels,\n",
    "                              epochs=5,\n",
    "                              validation_data=(val_sentences, val_labels),\n",
    "                              callbacks=[mlc.create_tensorboard_callback(\"model_3_bidirectional\", dir_name=\"./model_logs\")])"
   ],
   "metadata": {
    "collapsed": false,
    "ExecuteTime": {
     "end_time": "2023-07-12T13:49:17.804755Z",
     "start_time": "2023-07-12T13:48:50.493642Z"
    }
   }
  },
  {
   "cell_type": "code",
   "execution_count": 69,
   "outputs": [
    {
     "name": "stdout",
     "output_type": "stream",
     "text": [
      "24/24 [==============================] - 1s 9ms/step\n"
     ]
    },
    {
     "data": {
      "text/plain": "{'accuracy': 77.16535433070865,\n 'precision': 0.7741380916586217,\n 'recall': 0.7716535433070866,\n 'f1': 0.7691811868378113}"
     },
     "execution_count": 69,
     "metadata": {},
     "output_type": "execute_result"
    }
   ],
   "source": [
    "# Make predictions abnd calculate results of our bidirectional model.\n",
    "model_4_pred_props = model_4.predict(val_sentences)\n",
    "model_4_preds = tf.squeeze(tf.round(model_4_pred_props))\n",
    "model_4_results = mlp.table_quality_metrics(val_labels, model_4_preds)\n",
    "model_4_results"
   ],
   "metadata": {
    "collapsed": false,
    "ExecuteTime": {
     "end_time": "2023-07-12T13:49:18.710444Z",
     "start_time": "2023-07-12T13:49:17.795812Z"
    }
   }
  },
  {
   "cell_type": "markdown",
   "source": [
    "# Model 5: Conv1D\n",
    "\n",
    "We've used CNN's for images are typically 2D (HxW), however our text data is 1D.\n",
    "\n",
    "Previously we have used Conv2D for our image data, but now we will use Conv1D.\n",
    "The typical structure of a Conv1D model for sequences (in our case, text):\n",
    "\n",
    "```\n",
    "Inputs (text) -> Tokenization -> Embedding -> Layers (Conv1D + Pooling) -> Outputs (Dense layer)\n",
    "```"
   ],
   "metadata": {
    "collapsed": false
   }
  },
  {
   "cell_type": "markdown",
   "source": [
    "For different explanations of parameter values:\n",
    "\n",
    "CNN-Explainer: https://poloclub.github.io/cnn-explainer/\n",
    "Same and Valid: https://stackoverflow.com/questions/37674306/what-is-the-difference-between-same-and-valid-padding-in-tf-nn-max-pool-of-t"
   ],
   "metadata": {
    "collapsed": false
   }
  },
  {
   "cell_type": "code",
   "execution_count": 70,
   "outputs": [
    {
     "data": {
      "text/plain": "(TensorShape([1, 15, 128]), TensorShape([1, 11, 64]), TensorShape([1, 64]))"
     },
     "execution_count": 70,
     "metadata": {},
     "output_type": "execute_result"
    }
   ],
   "source": [
    "# Test out our embedding layer, Conv1D layer and max pooling\n",
    "embedding_text = embedding(text_vectorizer(['this is a test sentence'])) # Turn target sequence into an embedding\n",
    "conv_1d = Conv1D(filters=64,\n",
    "                 kernel_size=5, # this is also referred to as an ngram of 5 (meaning it looks at 5 words at a time)\n",
    "                 strides=1,\n",
    "                 activation=\"relu\",\n",
    "                 padding=\"valid\") # valid = output is smaller due to kernel_size / strides, change to same to pad values before / after the sequence.\n",
    "conv_1d_output = conv_1d(embedding_text) # pass test embedding through conv_1d layer\n",
    "max_pool = GlobalMaxPooling1D()\n",
    "max_pool_output = max_pool(conv_1d_output) # equivalent to \"get the most important feature\" or \"get the feature with the highest value\"\n",
    "\n",
    "embedding_text.shape, conv_1d_output.shape, max_pool_output.shape"
   ],
   "metadata": {
    "collapsed": false,
    "ExecuteTime": {
     "end_time": "2023-07-12T13:49:18.828820Z",
     "start_time": "2023-07-12T13:49:18.580856Z"
    }
   }
  },
  {
   "cell_type": "code",
   "execution_count": 71,
   "outputs": [],
   "source": [
    "# embedding_text"
   ],
   "metadata": {
    "collapsed": false,
    "ExecuteTime": {
     "end_time": "2023-07-12T13:49:18.829296Z",
     "start_time": "2023-07-12T13:49:18.673352Z"
    }
   }
  },
  {
   "cell_type": "code",
   "execution_count": 72,
   "outputs": [],
   "source": [
    "# conv_1d_output"
   ],
   "metadata": {
    "collapsed": false,
    "ExecuteTime": {
     "end_time": "2023-07-12T13:49:19.051145Z",
     "start_time": "2023-07-12T13:49:18.729491Z"
    }
   }
  },
  {
   "cell_type": "code",
   "execution_count": 73,
   "outputs": [],
   "source": [
    "# max_pool_output"
   ],
   "metadata": {
    "collapsed": false,
    "ExecuteTime": {
     "end_time": "2023-07-12T13:49:19.145633Z",
     "start_time": "2023-07-12T13:49:18.782425Z"
    }
   }
  },
  {
   "cell_type": "code",
   "execution_count": 74,
   "outputs": [],
   "source": [
    "# Create 1-dimensional convolutional layer to model sequences\n",
    "\n",
    "inputs = Input(shape=(1,), dtype=tf.string)\n",
    "x = text_vectorizer(inputs)\n",
    "x = embedding(x)\n",
    "x = Conv1D(filters=64,\n",
    "           kernel_size=5, # 5 words at a time.\n",
    "           strides=1,\n",
    "           activation=\"relu\",\n",
    "           padding=\"valid\")(x)\n",
    "# x = Flatten()(x)\n",
    "x = GlobalMaxPooling1D()(x)\n",
    "outputs = Dense(units=1, activation=\"sigmoid\")(x)\n",
    "\n",
    "model_5 = Model(inputs, outputs, name=\"model_4_conv1d\")"
   ],
   "metadata": {
    "collapsed": false,
    "ExecuteTime": {
     "end_time": "2023-07-12T13:49:19.211415Z",
     "start_time": "2023-07-12T13:49:18.836537Z"
    }
   }
  },
  {
   "cell_type": "code",
   "execution_count": 75,
   "outputs": [
    {
     "name": "stdout",
     "output_type": "stream",
     "text": [
      "Model: \"model_4_conv1d\"\n",
      "_________________________________________________________________\n",
      " Layer (type)                Output Shape              Param #   \n",
      "=================================================================\n",
      " input_6 (InputLayer)        [(None, 1)]               0         \n",
      "                                                                 \n",
      " text_vectorization_1 (TextV  (None, 15)               0         \n",
      " ectorization)                                                   \n",
      "                                                                 \n",
      " embedding (Embedding)       (None, 15, 128)           1280000   \n",
      "                                                                 \n",
      " conv1d_1 (Conv1D)           (None, 11, 64)            41024     \n",
      "                                                                 \n",
      " global_max_pooling1d_1 (Glo  (None, 64)               0         \n",
      " balMaxPooling1D)                                                \n",
      "                                                                 \n",
      " dense_6 (Dense)             (None, 1)                 65        \n",
      "                                                                 \n",
      "=================================================================\n",
      "Total params: 1,321,089\n",
      "Trainable params: 1,321,089\n",
      "Non-trainable params: 0\n",
      "_________________________________________________________________\n"
     ]
    }
   ],
   "source": [
    "model_5.summary()"
   ],
   "metadata": {
    "collapsed": false,
    "ExecuteTime": {
     "end_time": "2023-07-12T13:49:19.216751Z",
     "start_time": "2023-07-12T13:49:18.913832Z"
    }
   }
  },
  {
   "cell_type": "code",
   "execution_count": 76,
   "outputs": [],
   "source": [
    "model_5.compile(loss=binary_crossentropy,\n",
    "                optimizer=Adam(),\n",
    "                metrics=[\"accuracy\"])"
   ],
   "metadata": {
    "collapsed": false,
    "ExecuteTime": {
     "end_time": "2023-07-12T13:49:19.288441Z",
     "start_time": "2023-07-12T13:49:18.989514Z"
    }
   }
  },
  {
   "cell_type": "code",
   "execution_count": 77,
   "outputs": [
    {
     "name": "stdout",
     "output_type": "stream",
     "text": [
      "Saving TensorBoard log files to: ./model_logs/model_5_conv1d/20230712-154919\n",
      "Epoch 1/5\n",
      "215/215 [==============================] - 5s 19ms/step - loss: 0.1233 - accuracy: 0.9574 - val_loss: 0.9169 - val_accuracy: 0.7730\n",
      "Epoch 2/5\n",
      "215/215 [==============================] - 3s 12ms/step - loss: 0.0738 - accuracy: 0.9733 - val_loss: 1.1104 - val_accuracy: 0.7638\n",
      "Epoch 3/5\n",
      "215/215 [==============================] - 3s 12ms/step - loss: 0.0597 - accuracy: 0.9768 - val_loss: 1.2118 - val_accuracy: 0.7651\n",
      "Epoch 4/5\n",
      "215/215 [==============================] - 3s 12ms/step - loss: 0.0557 - accuracy: 0.9766 - val_loss: 1.1928 - val_accuracy: 0.7585\n",
      "Epoch 5/5\n",
      "215/215 [==============================] - 3s 12ms/step - loss: 0.0519 - accuracy: 0.9783 - val_loss: 1.2117 - val_accuracy: 0.7585\n"
     ]
    }
   ],
   "source": [
    "model_5_history = model_5.fit(x=train_sentences,\n",
    "                              y=train_labels,\n",
    "                              epochs=5,\n",
    "                              validation_data=(val_sentences, val_labels),\n",
    "                              callbacks=[mlc.create_tensorboard_callback(experiment_name=\"model_5_conv1d\", dir_name=\"./model_logs\")])"
   ],
   "metadata": {
    "collapsed": false,
    "ExecuteTime": {
     "end_time": "2023-07-12T13:49:34.186586Z",
     "start_time": "2023-07-12T13:49:19.051457Z"
    }
   }
  },
  {
   "cell_type": "code",
   "execution_count": 78,
   "outputs": [
    {
     "name": "stdout",
     "output_type": "stream",
     "text": [
      "24/24 [==============================] - 0s 4ms/step\n"
     ]
    },
    {
     "data": {
      "text/plain": "{'accuracy': 75.8530183727034,\n 'precision': 0.7582318952901055,\n 'recall': 0.7585301837270341,\n 'f1': 0.757619206049948}"
     },
     "execution_count": 78,
     "metadata": {},
     "output_type": "execute_result"
    }
   ],
   "source": [
    "model_5_pred_props = model_5.predict(val_sentences)\n",
    "model_5_preds = tf.squeeze(tf.round(model_5_pred_props))\n",
    "model_5_results = mlp.table_quality_metrics(val_labels, model_5_preds)\n",
    "model_5_results"
   ],
   "metadata": {
    "collapsed": false,
    "ExecuteTime": {
     "end_time": "2023-07-12T13:49:34.617236Z",
     "start_time": "2023-07-12T13:49:34.150168Z"
    }
   }
  },
  {
   "cell_type": "markdown",
   "source": [
    "# Model 6: TensorFlow Hub Pretrained Sentence Encode\n",
    "\n",
    "Now we've build a few of our own models, let's try and use transfer learning for NLP, specifically using TensorFlow's Hub's Universal Sentence Encoder\n",
    "\n",
    "https://huggingface.co/docs/transformers/index\n",
    "https://tfhub.dev/google/universal-sentence-encoder/4\n",
    "https://arxiv.org/abs/1803.11175"
   ],
   "metadata": {
    "collapsed": false
   }
  },
  {
   "cell_type": "code",
   "execution_count": 79,
   "outputs": [
    {
     "name": "stdout",
     "output_type": "stream",
     "text": [
      "tf.Tensor(\n",
      "[[-0.01157026  0.0248591   0.02878049 ... -0.00186124  0.02315822\n",
      "  -0.01485022]\n",
      " [ 0.03596691 -0.08579467 -0.01152743 ... -0.03414334  0.02816024\n",
      "  -0.00878946]], shape=(2, 512), dtype=float32)\n"
     ]
    }
   ],
   "source": [
    "embed = hub.load(handle=\"https://tfhub.dev/google/universal-sentence-encoder/4\")\n",
    "embed_samples = embed([sample_sentence, \"When you call the universal sentence encoder on a sentence it turns it into numbers\"])\n",
    "print(embed_samples)"
   ],
   "metadata": {
    "collapsed": false,
    "ExecuteTime": {
     "end_time": "2023-07-12T13:49:37.808407Z",
     "start_time": "2023-07-12T13:49:34.366518Z"
    }
   }
  },
  {
   "cell_type": "code",
   "execution_count": 80,
   "outputs": [],
   "source": [
    "# Create Keras Layer using the USE pretrained layer from TensorFlow Hub\n",
    "sentence_encoder_layer = hub.KerasLayer(handle='https://tfhub.dev/google/universal-sentence-encoder/4',\n",
    "                                        input_shape=[], # Since the input is defined as english text of variable length the layer in itself will make sure it fits\n",
    "                                        dtype=tf.string,\n",
    "                                        trainable=False, # we are doing feature extraction so we do not want to train this layer\n",
    "                                        name='USE'\n",
    "                                      )"
   ],
   "metadata": {
    "collapsed": false,
    "ExecuteTime": {
     "end_time": "2023-07-12T13:49:40.550462Z",
     "start_time": "2023-07-12T13:49:37.776833Z"
    }
   }
  },
  {
   "cell_type": "code",
   "execution_count": 81,
   "outputs": [
    {
     "name": "stdout",
     "output_type": "stream",
     "text": [
      "Model: \"sequential\"\n",
      "_________________________________________________________________\n",
      " Layer (type)                Output Shape              Param #   \n",
      "=================================================================\n",
      " USE (KerasLayer)            (None, 512)               256797824 \n",
      "                                                                 \n",
      " dense_7 (Dense)             (None, 64)                32832     \n",
      "                                                                 \n",
      " dense_8 (Dense)             (None, 1)                 65        \n",
      "                                                                 \n",
      "=================================================================\n",
      "Total params: 256,830,721\n",
      "Trainable params: 32,897\n",
      "Non-trainable params: 256,797,824\n",
      "_________________________________________________________________\n"
     ]
    }
   ],
   "source": [
    "# Create model using the Sequential API\n",
    "model_6 = tf.keras.Sequential([\n",
    "    sentence_encoder_layer,\n",
    "    Dense(units=64, activation='relu'),\n",
    "    Dense(units=1, activation='sigmoid')\n",
    "])\n",
    "\n",
    "model_6.compile(loss=binary_crossentropy,\n",
    "                optimizer=Adam(),\n",
    "                metrics=['accuracy'])\n",
    "\n",
    "model_6.summary()"
   ],
   "metadata": {
    "collapsed": false,
    "ExecuteTime": {
     "end_time": "2023-07-12T13:49:41.061056Z",
     "start_time": "2023-07-12T13:49:40.547513Z"
    }
   }
  },
  {
   "cell_type": "code",
   "execution_count": 82,
   "outputs": [
    {
     "name": "stdout",
     "output_type": "stream",
     "text": [
      "Saving TensorBoard log files to: ./model_logs/model_6_use/20230712-154940\n",
      "Epoch 1/5\n",
      "215/215 [==============================] - 20s 88ms/step - loss: 0.5038 - accuracy: 0.7886 - val_loss: 0.4479 - val_accuracy: 0.7979\n",
      "Epoch 2/5\n",
      "215/215 [==============================] - 15s 70ms/step - loss: 0.4148 - accuracy: 0.8142 - val_loss: 0.4428 - val_accuracy: 0.8123\n",
      "Epoch 3/5\n",
      "215/215 [==============================] - 15s 70ms/step - loss: 0.4012 - accuracy: 0.8219 - val_loss: 0.4335 - val_accuracy: 0.8136\n",
      "Epoch 4/5\n",
      "215/215 [==============================] - 15s 70ms/step - loss: 0.3927 - accuracy: 0.8273 - val_loss: 0.4322 - val_accuracy: 0.8123\n",
      "Epoch 5/5\n",
      "215/215 [==============================] - 14s 66ms/step - loss: 0.3869 - accuracy: 0.8291 - val_loss: 0.4275 - val_accuracy: 0.8123\n"
     ]
    }
   ],
   "source": [
    "# Train a classifier on top of USE pretrained embeddings\n",
    "model_6_history = model_6.fit(x=train_sentences,\n",
    "            y=train_labels,\n",
    "            epochs=5,\n",
    "            validation_data=(val_sentences, val_labels),\n",
    "            callbacks=[mlc.create_tensorboard_callback(\"model_6_use\", dir_name='./model_logs')])"
   ],
   "metadata": {
    "collapsed": false,
    "ExecuteTime": {
     "end_time": "2023-07-12T13:51:00.673587Z",
     "start_time": "2023-07-12T13:49:40.852105Z"
    }
   }
  },
  {
   "cell_type": "code",
   "execution_count": 83,
   "outputs": [
    {
     "data": {
      "text/plain": "<Figure size 1000x600 with 1 Axes>",
      "image/png": "[encoded data removed]"
     },
     "metadata": {},
     "output_type": "display_data"
    },
    {
     "data": {
      "text/plain": "<Figure size 1000x600 with 1 Axes>",
      "image/png": "[encoded data removed]"
     },
     "metadata": {},
     "output_type": "display_data"
    }
   ],
   "source": [
    "mlp.plot_history(model_6_history)"
   ],
   "metadata": {
    "collapsed": false,
    "ExecuteTime": {
     "end_time": "2023-07-12T13:51:00.975666Z",
     "start_time": "2023-07-12T13:51:00.653360Z"
    }
   }
  },
  {
   "cell_type": "code",
   "execution_count": 84,
   "outputs": [
    {
     "name": "stdout",
     "output_type": "stream",
     "text": [
      "24/24 [==============================] - 4s 166ms/step\n"
     ]
    },
    {
     "data": {
      "text/plain": "{'accuracy': 81.23359580052494,\n 'precision': 0.8123900124632475,\n 'recall': 0.8123359580052494,\n 'f1': 0.8117376729557804}"
     },
     "execution_count": 84,
     "metadata": {},
     "output_type": "execute_result"
    }
   ],
   "source": [
    "# Make predictions with the USE TF Hub Model\n",
    "model_6_pred_props = model_6.predict(val_sentences)\n",
    "model_6_preds = tf.squeeze(tf.round(model_6_pred_props))\n",
    "model_6_results = mlp.table_quality_metrics(val_labels, model_6_preds)\n",
    "model_6_results"
   ],
   "metadata": {
    "collapsed": false,
    "ExecuteTime": {
     "end_time": "2023-07-12T13:51:05.404770Z",
     "start_time": "2023-07-12T13:51:00.923397Z"
    }
   }
  },
  {
   "cell_type": "code",
   "execution_count": 85,
   "outputs": [
    {
     "data": {
      "text/plain": "{'accuracy': 79.26509186351706,\n 'precision': 0.8111390004213173,\n 'recall': 0.7926509186351706,\n 'f1': 0.7862189758049549}"
     },
     "execution_count": 85,
     "metadata": {},
     "output_type": "execute_result"
    }
   ],
   "source": [
    "baseline_results"
   ],
   "metadata": {
    "collapsed": false,
    "ExecuteTime": {
     "end_time": "2023-07-12T13:51:05.658622Z",
     "start_time": "2023-07-12T13:51:05.386195Z"
    }
   }
  },
  {
   "cell_type": "markdown",
   "source": [
    "# Model 7: TF Hub Pretrained USE but with 10% of training data\n",
    "\n",
    "Transfer Learning really helps when you don't have a large dataset, to see how our model performs on a smaller dataset, let's replicate model_6 except we'll train it on 10% of the data."
   ],
   "metadata": {
    "collapsed": false
   }
  },
  {
   "cell_type": "code",
   "execution_count": 86,
   "outputs": [],
   "source": [
    "## Model 7: TF Hub Pretrained USE but with 10% of training data\n",
    "# Note: Making data splits like below leads to data leakage (model_7 trained on 10% data, outperforms model_6 trained on 100% of the data). DO NOT MAKE DATA SPLITS WHICH LEAK DATA FROM VALIDATION/TEST SETS INTO TRAING SET (OR VICE VERSA)\n",
    "# train_10_percent = train_df_shuffled[['text', 'target']].sample(frac=.1, random_state=42)\n",
    "# train_sentences_10_percent = train_10_percent['text']\n",
    "# train_labels_10_percent = train_10_percent['target']\n",
    "# len(train_sentences_10_percent), len(train_labels_10_percent)"
   ],
   "metadata": {
    "collapsed": false,
    "ExecuteTime": {
     "end_time": "2023-07-12T13:51:05.664509Z",
     "start_time": "2023-07-12T13:51:05.446835Z"
    }
   }
  },
  {
   "cell_type": "code",
   "execution_count": 87,
   "outputs": [
    {
     "data": {
      "text/plain": "(685,\n 685,\n array(['@mogacola @zamtriossu i screamed after hitting tweet',\n        'Imagine getting flattened by Kurt Zouma',\n        '@Gurmeetramrahim #MSGDoing111WelfareWorks Green S welfare force ke appx 65000 members har time disaster victim ki help ke liye tyar hai....',\n        \"@shakjn @C7 @Magnums im shaking in fear he's gonna hack the planet\",\n        'Somehow find you and I collide http://t.co/Ee8RpOahPk',\n        '@EvaHanderek @MarleyKnysh great times until the bus driver held us hostage in the mall parking lot lmfao',\n        'destroy the free fandom honestly',\n        'Weapons stolen from National Guard Armory in New Albany still missing #Gunsense http://t.co/lKNU8902JE',\n        '@wfaaweather Pete when will the heat wave pass? Is it really going to be mid month? Frisco Boy Scouts have a canoe trip in Okla.',\n        'Patient-reported outcomes in long-term survivors of metastatic colorectal cancer - British Journal of Surgery http://t.co/5Yl4DC1Tqt'],\n       dtype=object),\n array([0, 0, 1, 0, 0, 1, 1, 0, 1, 1]))"
     },
     "execution_count": 87,
     "metadata": {},
     "output_type": "execute_result"
    }
   ],
   "source": [
    "train_10_percent_split = int(.1 * len(train_sentences))\n",
    "train_sentences_10_percent = train_sentences[:train_10_percent_split]\n",
    "train_labels_10_percent = train_labels[:train_10_percent_split]\n",
    "len(train_sentences_10_percent), len(train_labels_10_percent), train_sentences_10_percent[:10], train_labels_10_percent[:10]"
   ],
   "metadata": {
    "collapsed": false,
    "ExecuteTime": {
     "end_time": "2023-07-12T13:51:05.860006Z",
     "start_time": "2023-07-12T13:51:05.504946Z"
    }
   }
  },
  {
   "cell_type": "code",
   "execution_count": 88,
   "outputs": [
    {
     "data": {
      "text/plain": "0    406\n1    279\nName: count, dtype: int64"
     },
     "execution_count": 88,
     "metadata": {},
     "output_type": "execute_result"
    }
   ],
   "source": [
    "# Check the number of targets in our 10 percent dataset\n",
    "pd.Series(train_labels_10_percent).value_counts()"
   ],
   "metadata": {
    "collapsed": false,
    "ExecuteTime": {
     "end_time": "2023-07-12T13:51:06.302995Z",
     "start_time": "2023-07-12T13:51:05.568158Z"
    }
   }
  },
  {
   "cell_type": "code",
   "execution_count": 89,
   "outputs": [
    {
     "data": {
      "text/plain": "target\n0    4342\n1    3271\nName: count, dtype: int64"
     },
     "execution_count": 89,
     "metadata": {},
     "output_type": "execute_result"
    }
   ],
   "source": [
    "# Check the number of each label in the updated training data subset.\n",
    "train_df_shuffled['target'].value_counts()"
   ],
   "metadata": {
    "collapsed": false,
    "ExecuteTime": {
     "end_time": "2023-07-12T13:51:06.304018Z",
     "start_time": "2023-07-12T13:51:05.624245Z"
    }
   }
  },
  {
   "cell_type": "markdown",
   "source": [
    "To recreate a model the same as a previous model you've crfeated you can use the 'tf.keras.models.clone_model()' method."
   ],
   "metadata": {
    "collapsed": false
   }
  },
  {
   "cell_type": "code",
   "execution_count": 90,
   "outputs": [],
   "source": [
    "model_7 = tf.keras.Sequential([\n",
    "    sentence_encoder_layer,\n",
    "    Dense(units=64, activation='relu'),\n",
    "    Dense(units=1, activation='sigmoid')\n",
    "])\n",
    "\n",
    "model_7.compile(loss=binary_crossentropy,\n",
    "                optimizer=Adam(),\n",
    "                metrics=['accuracy'])"
   ],
   "metadata": {
    "collapsed": false,
    "ExecuteTime": {
     "end_time": "2023-07-12T13:51:06.304262Z",
     "start_time": "2023-07-12T13:51:05.683782Z"
    }
   }
  },
  {
   "cell_type": "code",
   "execution_count": 91,
   "outputs": [
    {
     "name": "stdout",
     "output_type": "stream",
     "text": [
      "Saving TensorBoard log files to: ./model_logs/model_7_use_10_percent/20230712-155105\n",
      "Epoch 1/5\n",
      "22/22 [==============================] - 10s 431ms/step - loss: 0.6629 - accuracy: 0.6686 - val_loss: 0.6455 - val_accuracy: 0.7192\n",
      "Epoch 2/5\n",
      "22/22 [==============================] - 5s 219ms/step - loss: 0.5946 - accuracy: 0.7927 - val_loss: 0.5908 - val_accuracy: 0.7533\n",
      "Epoch 3/5\n",
      "22/22 [==============================] - 4s 197ms/step - loss: 0.5212 - accuracy: 0.8117 - val_loss: 0.5374 - val_accuracy: 0.7861\n",
      "Epoch 4/5\n",
      "22/22 [==============================] - 4s 180ms/step - loss: 0.4605 - accuracy: 0.8277 - val_loss: 0.5043 - val_accuracy: 0.7769\n",
      "Epoch 5/5\n",
      "22/22 [==============================] - 4s 170ms/step - loss: 0.4208 - accuracy: 0.8336 - val_loss: 0.4899 - val_accuracy: 0.7690\n"
     ]
    }
   ],
   "source": [
    "# Fit the model using 10% of the training data.\n",
    "model_7_history = model_7.fit(x=train_sentences_10_percent,\n",
    "                              y=train_labels_10_percent,\n",
    "                              epochs=5,\n",
    "                              validation_data=(val_sentences, val_labels),\n",
    "                              callbacks=[mlc.create_tensorboard_callback(experiment_name='model_7_use_10_percent', dir_name='./model_logs')])"
   ],
   "metadata": {
    "collapsed": false,
    "ExecuteTime": {
     "end_time": "2023-07-12T13:51:32.691026Z",
     "start_time": "2023-07-12T13:51:05.817504Z"
    }
   }
  },
  {
   "cell_type": "code",
   "execution_count": 92,
   "outputs": [
    {
     "data": {
      "text/plain": "<Figure size 1000x600 with 1 Axes>",
      "image/png": "[encoded data removed]"
     },
     "metadata": {},
     "output_type": "display_data"
    },
    {
     "data": {
      "text/plain": "<Figure size 1000x600 with 1 Axes>",
      "image/png": "[encoded data removed]"
     },
     "metadata": {},
     "output_type": "display_data"
    }
   ],
   "source": [
    "mlp.plot_history(model_7_history)"
   ],
   "metadata": {
    "collapsed": false,
    "ExecuteTime": {
     "end_time": "2023-07-12T13:51:33.051967Z",
     "start_time": "2023-07-12T13:51:32.659987Z"
    }
   }
  },
  {
   "cell_type": "code",
   "execution_count": 93,
   "outputs": [
    {
     "name": "stdout",
     "output_type": "stream",
     "text": [
      "24/24 [==============================] - 5s 187ms/step\n"
     ]
    },
    {
     "data": {
      "text/plain": "{'accuracy': 76.9028871391076,\n 'precision': 0.769557843731072,\n 'recall': 0.7690288713910761,\n 'f1': 0.7675415573053368}"
     },
     "execution_count": 93,
     "metadata": {},
     "output_type": "execute_result"
    }
   ],
   "source": [
    "# Make some predictions\n",
    "model_7_pred_props = model_7.predict(val_sentences)\n",
    "model_7_preds = tf.squeeze(tf.round(model_7_pred_props))\n",
    "model_7_results = mlp.table_quality_metrics(val_labels, model_7_preds)\n",
    "model_7_results"
   ],
   "metadata": {
    "collapsed": false,
    "ExecuteTime": {
     "end_time": "2023-07-12T13:51:37.934946Z",
     "start_time": "2023-07-12T13:51:32.935565Z"
    }
   }
  },
  {
   "cell_type": "code",
   "execution_count": 94,
   "outputs": [
    {
     "data": {
      "text/plain": "{'accuracy': 79.26509186351706,\n 'precision': 0.8111390004213173,\n 'recall': 0.7926509186351706,\n 'f1': 0.7862189758049549}"
     },
     "execution_count": 94,
     "metadata": {},
     "output_type": "execute_result"
    }
   ],
   "source": [
    "baseline_results"
   ],
   "metadata": {
    "collapsed": false,
    "ExecuteTime": {
     "end_time": "2023-07-12T13:51:38.100101Z",
     "start_time": "2023-07-12T13:51:37.914108Z"
    }
   }
  },
  {
   "cell_type": "markdown",
   "source": [
    "Note: Making data splits like below leads to data leakage (model_7 trained on 10% data, outperforms model_6 trained on 100% of the data). DO NOT MAKE DATA SPLITS WHICH LEAK DATA FROM VALIDATION/TEST SETS INTO TRAING SET (OR VICE VERSA)"
   ],
   "metadata": {
    "collapsed": false
   }
  },
  {
   "cell_type": "code",
   "execution_count": 95,
   "outputs": [
    {
     "name": "stdout",
     "output_type": "stream",
     "text": [
      "http://localhost:6006\n"
     ]
    }
   ],
   "source": [
    "mls.start_tensorboard(dir_name='./model_logs')"
   ],
   "metadata": {
    "collapsed": false,
    "ExecuteTime": {
     "end_time": "2023-07-12T13:51:38.435390Z",
     "start_time": "2023-07-12T13:51:37.984816Z"
    }
   }
  },
  {
   "cell_type": "code",
   "execution_count": 96,
   "outputs": [],
   "source": [
    "mls.stop_tensorboard()"
   ],
   "metadata": {
    "collapsed": false,
    "ExecuteTime": {
     "end_time": "2023-07-12T13:51:38.435795Z",
     "start_time": "2023-07-12T13:51:38.234877Z"
    }
   }
  },
  {
   "cell_type": "markdown",
   "source": [
    "# Comparing the performance of each of our models"
   ],
   "metadata": {
    "collapsed": false
   }
  },
  {
   "cell_type": "code",
   "execution_count": 97,
   "outputs": [
    {
     "data": {
      "text/plain": "                  accuracy  precision    recall        f1\n0_baseline       79.265092   0.811139  0.792651  0.786219\n1_simple_dense   78.346457   0.788429  0.783465  0.780344\n2_lstm           77.690289   0.778956  0.776903  0.774752\n3_gru            77.427822   0.775989  0.774278  0.772231\n4_bidirectional  77.165354   0.774138  0.771654  0.769181\n5_conv1d         75.853018   0.758232  0.758530  0.757619\n6_tf_hub_100     81.233596   0.812390  0.812336  0.811738\n7_tf_hub_10      76.902887   0.769558  0.769029  0.767542",
      "text/html": "<div>\n<style scoped>\n    .dataframe tbody tr th:only-of-type {\n        vertical-align: middle;\n    }\n\n    .dataframe tbody tr th {\n        vertical-align: top;\n    }\n\n    .dataframe thead th {\n        text-align: right;\n    }\n</style>\n<table border=\"1\" class=\"dataframe\">\n  <thead>\n    <tr style=\"text-align: right;\">\n      <th></th>\n      <th>accuracy</th>\n      <th>precision</th>\n      <th>recall</th>\n      <th>f1</th>\n    </tr>\n  </thead>\n  <tbody>\n    <tr>\n      <th>0_baseline</th>\n      <td>79.265092</td>\n      <td>0.811139</td>\n      <td>0.792651</td>\n      <td>0.786219</td>\n    </tr>\n    <tr>\n      <th>1_simple_dense</th>\n      <td>78.346457</td>\n      <td>0.788429</td>\n      <td>0.783465</td>\n      <td>0.780344</td>\n    </tr>\n    <tr>\n      <th>2_lstm</th>\n      <td>77.690289</td>\n      <td>0.778956</td>\n      <td>0.776903</td>\n      <td>0.774752</td>\n    </tr>\n    <tr>\n      <th>3_gru</th>\n      <td>77.427822</td>\n      <td>0.775989</td>\n      <td>0.774278</td>\n      <td>0.772231</td>\n    </tr>\n    <tr>\n      <th>4_bidirectional</th>\n      <td>77.165354</td>\n      <td>0.774138</td>\n      <td>0.771654</td>\n      <td>0.769181</td>\n    </tr>\n    <tr>\n      <th>5_conv1d</th>\n      <td>75.853018</td>\n      <td>0.758232</td>\n      <td>0.758530</td>\n      <td>0.757619</td>\n    </tr>\n    <tr>\n      <th>6_tf_hub_100</th>\n      <td>81.233596</td>\n      <td>0.812390</td>\n      <td>0.812336</td>\n      <td>0.811738</td>\n    </tr>\n    <tr>\n      <th>7_tf_hub_10</th>\n      <td>76.902887</td>\n      <td>0.769558</td>\n      <td>0.769029</td>\n      <td>0.767542</td>\n    </tr>\n  </tbody>\n</table>\n</div>"
     },
     "execution_count": 97,
     "metadata": {},
     "output_type": "execute_result"
    }
   ],
   "source": [
    "# Combine model results into a dataframe\n",
    "# TODO: Turn into function for mlp\n",
    "all_model_results = pd.DataFrame(\n",
    "    {\n",
    "        \"0_baseline\" : baseline_results,\n",
    "        \"1_simple_dense\": model_1_results,\n",
    "        \"2_lstm\": model_2_results,\n",
    "        \"3_gru\": model_3_results,\n",
    "        \"4_bidirectional\": model_4_results,\n",
    "        \"5_conv1d\": model_5_results,\n",
    "        \"6_tf_hub_100\": model_6_results,\n",
    "        \"7_tf_hub_10\": model_7_results\n",
    "    }\n",
    ")\n",
    "\n",
    "all_model_results = all_model_results.transpose()\n",
    "all_model_results"
   ],
   "metadata": {
    "collapsed": false,
    "ExecuteTime": {
     "end_time": "2023-07-12T13:51:38.795361Z",
     "start_time": "2023-07-12T13:51:38.372340Z"
    }
   }
  },
  {
   "cell_type": "code",
   "execution_count": 98,
   "outputs": [],
   "source": [
    "# Reduce accuracy to the same scale as other metrics\n",
    "all_model_results['accuracy'] = all_model_results['accuracy']/100"
   ],
   "metadata": {
    "collapsed": false,
    "ExecuteTime": {
     "end_time": "2023-07-12T13:51:38.799772Z",
     "start_time": "2023-07-12T13:51:38.433485Z"
    }
   }
  },
  {
   "cell_type": "code",
   "execution_count": 99,
   "outputs": [
    {
     "data": {
      "text/plain": "<matplotlib.legend.Legend at 0x457ecb160>"
     },
     "execution_count": 99,
     "metadata": {},
     "output_type": "execute_result"
    },
    {
     "data": {
      "text/plain": "<Figure size 1000x700 with 1 Axes>",
      "image/png": "[encoded data removed]"
     },
     "metadata": {},
     "output_type": "display_data"
    }
   ],
   "source": [
    "# Plot and compare all model results\n",
    "all_model_results.plot(kind='bar', figsize=(10, 7)).legend(bbox_to_anchor=(1.0, 1.0))"
   ],
   "metadata": {
    "collapsed": false,
    "ExecuteTime": {
     "end_time": "2023-07-12T13:51:38.863338Z",
     "start_time": "2023-07-12T13:51:38.495153Z"
    }
   }
  },
  {
   "cell_type": "code",
   "execution_count": 100,
   "outputs": [
    {
     "data": {
      "text/plain": "<Axes: >"
     },
     "execution_count": 100,
     "metadata": {},
     "output_type": "execute_result"
    },
    {
     "data": {
      "text/plain": "<Figure size 1000x700 with 1 Axes>",
      "image/png": "[encoded data removed]"
     },
     "metadata": {},
     "output_type": "display_data"
    }
   ],
   "source": [
    "# Sort model results by f1-score\n",
    "all_model_results.sort_values(by='f1', ascending=False)['f1'].plot(kind='bar', figsize=(10, 7))"
   ],
   "metadata": {
    "collapsed": false,
    "ExecuteTime": {
     "end_time": "2023-07-12T13:51:39.472493Z",
     "start_time": "2023-07-12T13:51:38.697874Z"
    }
   }
  },
  {
   "cell_type": "code",
   "execution_count": 101,
   "outputs": [
    {
     "name": "stdout",
     "output_type": "stream",
     "text": [
      "http://localhost:6006\n"
     ]
    }
   ],
   "source": [
    "mls.start_tensorboard(dir_name='./model_logs')"
   ],
   "metadata": {
    "collapsed": false,
    "ExecuteTime": {
     "end_time": "2023-07-12T13:51:39.472813Z",
     "start_time": "2023-07-12T13:51:38.838706Z"
    }
   }
  },
  {
   "cell_type": "code",
   "execution_count": 102,
   "outputs": [
    {
     "name": "stderr",
     "output_type": "stream",
     "text": [
      "TensorBoard caught SIGTERM; exiting...\n"
     ]
    }
   ],
   "source": [
    "mls.stop_tensorboard()"
   ],
   "metadata": {
    "collapsed": false,
    "ExecuteTime": {
     "end_time": "2023-07-12T14:21:45.628810Z",
     "start_time": "2023-07-12T14:21:45.403682Z"
    }
   }
  },
  {
   "cell_type": "markdown",
   "source": [
    "# Saving and loading a trained model\n",
    "\n",
    "There are two main formats in tensorflow:\n",
    "\n",
    "1. The HDF5 format\n",
    "2. The 'SavedModel' format (this is the default when using TensorFlow)"
   ],
   "metadata": {
    "collapsed": false
   }
  },
  {
   "cell_type": "code",
   "execution_count": 106,
   "outputs": [],
   "source": [
    "# Save TF Hub Sentence Encoder model to HDF5 format\n",
    "model_6.save(filepath=\"./models/model_6.h5\")"
   ],
   "metadata": {
    "collapsed": false,
    "ExecuteTime": {
     "end_time": "2023-07-12T14:28:15.021415Z",
     "start_time": "2023-07-12T14:28:13.301546Z"
    }
   }
  },
  {
   "cell_type": "code",
   "execution_count": 107,
   "outputs": [],
   "source": [
    "# Load model with custom hub-layer, this is required with the HDF5 format.\n",
    "loaded_model_6 = mll.load_model(filepath=\"./models/model_6.h5\",\n",
    "                                            custom_objects={\"KerasLayer\": hub.KerasLayer})"
   ],
   "metadata": {
    "collapsed": false,
    "ExecuteTime": {
     "end_time": "2023-07-12T14:52:46.528968Z",
     "start_time": "2023-07-12T14:52:40.775445Z"
    }
   }
  },
  {
   "cell_type": "code",
   "execution_count": 108,
   "outputs": [
    {
     "name": "stdout",
     "output_type": "stream",
     "text": [
      "24/24 [==============================] - 6s 193ms/step - loss: 0.4275 - accuracy: 0.8123\n"
     ]
    },
    {
     "data": {
      "text/plain": "[0.42754626274108887, 0.8123359680175781]"
     },
     "execution_count": 108,
     "metadata": {},
     "output_type": "execute_result"
    }
   ],
   "source": [
    "# Evaluate the model\n",
    "loaded_model_6.evaluate(val_sentences, val_labels)"
   ],
   "metadata": {
    "collapsed": false,
    "ExecuteTime": {
     "end_time": "2023-07-12T14:56:17.656182Z",
     "start_time": "2023-07-12T14:56:11.807769Z"
    }
   }
  },
  {
   "cell_type": "code",
   "execution_count": 109,
   "outputs": [
    {
     "data": {
      "text/plain": "{'accuracy': 81.23359580052494,\n 'precision': 0.8123900124632475,\n 'recall': 0.8123359580052494,\n 'f1': 0.8117376729557804}"
     },
     "execution_count": 109,
     "metadata": {},
     "output_type": "execute_result"
    }
   ],
   "source": [
    "model_6_results"
   ],
   "metadata": {
    "collapsed": false,
    "ExecuteTime": {
     "end_time": "2023-07-12T14:56:17.753722Z",
     "start_time": "2023-07-12T14:56:17.655539Z"
    }
   }
  },
  {
   "cell_type": "code",
   "execution_count": 110,
   "outputs": [
    {
     "name": "stderr",
     "output_type": "stream",
     "text": [
      "WARNING:absl:Function `_wrapped_model` contains input name(s) USE_input with unsupported characters which will be renamed to use_input in the SavedModel.\n"
     ]
    },
    {
     "name": "stdout",
     "output_type": "stream",
     "text": [
      "INFO:tensorflow:Assets written to: ./models/model_6.tf/assets\n"
     ]
    },
    {
     "name": "stderr",
     "output_type": "stream",
     "text": [
      "INFO:tensorflow:Assets written to: ./models/model_6.tf/assets\n"
     ]
    }
   ],
   "source": [
    "# And now let's save to the Save Model format.\n",
    "mll.save_model(model_6, filepath=\"./models/model_6.tf\", save_format=\"tf\")"
   ],
   "metadata": {
    "collapsed": false,
    "ExecuteTime": {
     "end_time": "2023-07-12T14:58:42.867844Z",
     "start_time": "2023-07-12T14:58:38.581681Z"
    }
   }
  },
  {
   "cell_type": "code",
   "execution_count": 111,
   "outputs": [],
   "source": [
    "# Load model with custom hub-layer, this is required with the HDF5 format.\n",
    "loaded_model_6 = mll.load_model(filepath=\"./models/model_6.tf\",\n",
    "                                            custom_objects={\"KerasLayer\": hub.KerasLayer})"
   ],
   "metadata": {
    "collapsed": false,
    "ExecuteTime": {
     "end_time": "2023-07-12T15:00:09.936726Z",
     "start_time": "2023-07-12T15:00:02.228929Z"
    }
   }
  },
  {
   "cell_type": "code",
   "execution_count": 112,
   "outputs": [
    {
     "name": "stdout",
     "output_type": "stream",
     "text": [
      "24/24 [==============================] - 5s 187ms/step - loss: 0.4275 - accuracy: 0.8123\n"
     ]
    },
    {
     "data": {
      "text/plain": "[0.42754626274108887, 0.8123359680175781]"
     },
     "execution_count": 112,
     "metadata": {},
     "output_type": "execute_result"
    }
   ],
   "source": [
    "# Evaluate the model\n",
    "loaded_model_6.evaluate(val_sentences, val_labels)"
   ],
   "metadata": {
    "collapsed": false,
    "ExecuteTime": {
     "end_time": "2023-07-12T15:00:18.910464Z",
     "start_time": "2023-07-12T15:00:13.586180Z"
    }
   }
  },
  {
   "cell_type": "markdown",
   "source": [
    "# Find the most wrong examples\n",
    "\n",
    "* If our best model still isn't perfect, what examples is it getting wrong.\n",
    "* And of these wrong examples which ones is it getting *most* wrong, those will prediction probability closest to the oposite class).\n",
    "\n",
    "For example if a sample should have a label of 0, but our model prediction probability of 0.999 (really close to 1) and vice versa.\n",
    "\n",
    "This is called Model Driven Data Exploration, using the validation data and prediction probabilities and labels to find the most wrong awnsers and see if the data is wrongly labeled or if the data is just not suitable for the required end-result or if we might have errors in our model.\n"
   ],
   "metadata": {
    "collapsed": false
   }
  },
  {
   "cell_type": "code",
   "execution_count": 136,
   "outputs": [],
   "source": [
    "# Download pretrained model from Google Storage\n",
    "mli.download_file(source='https://storage.googleapis.com/ztm_tf_course/08_model_6_USE_feature_extractor.zip', filepath='./data/08_model_6_USE_feature_extractor.zip')\n",
    "mli.extract_zip(file='./data/08_model_6_USE_feature_extractor.zip', folder='./data')"
   ],
   "metadata": {
    "collapsed": false,
    "ExecuteTime": {
     "end_time": "2023-07-12T19:57:42.608981Z",
     "start_time": "2023-07-12T19:57:06.228602Z"
    }
   }
  },
  {
   "cell_type": "code",
   "execution_count": 137,
   "outputs": [
    {
     "name": "stdout",
     "output_type": "stream",
     "text": [
      "WARNING:tensorflow:SavedModel saved prior to TF 2.5 detected when loading Keras model. Please ensure that you are saving the model with model.save() or tf.keras.models.save_model(), *NOT* tf.saved_model.save(). To confirm, there should be a file named \"keras_metadata.pb\" in the SavedModel directory.\n"
     ]
    },
    {
     "name": "stderr",
     "output_type": "stream",
     "text": [
      "WARNING:tensorflow:SavedModel saved prior to TF 2.5 detected when loading Keras model. Please ensure that you are saving the model with model.save() or tf.keras.models.save_model(), *NOT* tf.saved_model.save(). To confirm, there should be a file named \"keras_metadata.pb\" in the SavedModel directory.\n"
     ]
    }
   ],
   "source": [
    "model_6_pretrained = mll.load_model(filepath='./data/08_model_6_USE_feature_extractor')"
   ],
   "metadata": {
    "collapsed": false,
    "ExecuteTime": {
     "end_time": "2023-07-12T20:24:02.761401Z",
     "start_time": "2023-07-12T20:23:58.012078Z"
    }
   }
  },
  {
   "cell_type": "code",
   "execution_count": 179,
   "outputs": [
    {
     "name": "stdout",
     "output_type": "stream",
     "text": [
      "24/24 [==============================] - 2s 62ms/step\n"
     ]
    }
   ],
   "source": [
    "model_6_pretrained_pred_probs = model_6_pretrained.predict(val_sentences)\n",
    "model_6_pretrained_preds = tf.squeeze(tf.round(model_6_pretrained_pred_probs))"
   ],
   "metadata": {
    "collapsed": false,
    "ExecuteTime": {
     "end_time": "2023-07-13T09:31:56.740346Z",
     "start_time": "2023-07-13T09:31:54.628469Z"
    }
   }
  },
  {
   "cell_type": "code",
   "execution_count": 143,
   "outputs": [
    {
     "data": {
      "text/plain": "                                                text  y_true  y_pred    y_prob\n0  DFR EP016 Monthly Meltdown - On Dnbheaven 2015...       0     0.0  0.159757\n1  FedEx no longer to transport bioterror germs i...       0     1.0  0.747162\n2  Gunmen kill four in El Salvador bus attack: Su...       1     1.0  0.988749\n3  @camilacabello97 Internally and externally scr...       1     0.0  0.196229\n4  Radiation emergency #preparedness starts with ...       1     1.0  0.707808",
      "text/html": "<div>\n<style scoped>\n    .dataframe tbody tr th:only-of-type {\n        vertical-align: middle;\n    }\n\n    .dataframe tbody tr th {\n        vertical-align: top;\n    }\n\n    .dataframe thead th {\n        text-align: right;\n    }\n</style>\n<table border=\"1\" class=\"dataframe\">\n  <thead>\n    <tr style=\"text-align: right;\">\n      <th></th>\n      <th>text</th>\n      <th>y_true</th>\n      <th>y_pred</th>\n      <th>y_prob</th>\n    </tr>\n  </thead>\n  <tbody>\n    <tr>\n      <th>0</th>\n      <td>DFR EP016 Monthly Meltdown - On Dnbheaven 2015...</td>\n      <td>0</td>\n      <td>0.0</td>\n      <td>0.159757</td>\n    </tr>\n    <tr>\n      <th>1</th>\n      <td>FedEx no longer to transport bioterror germs i...</td>\n      <td>0</td>\n      <td>1.0</td>\n      <td>0.747162</td>\n    </tr>\n    <tr>\n      <th>2</th>\n      <td>Gunmen kill four in El Salvador bus attack: Su...</td>\n      <td>1</td>\n      <td>1.0</td>\n      <td>0.988749</td>\n    </tr>\n    <tr>\n      <th>3</th>\n      <td>@camilacabello97 Internally and externally scr...</td>\n      <td>1</td>\n      <td>0.0</td>\n      <td>0.196229</td>\n    </tr>\n    <tr>\n      <th>4</th>\n      <td>Radiation emergency #preparedness starts with ...</td>\n      <td>1</td>\n      <td>1.0</td>\n      <td>0.707808</td>\n    </tr>\n  </tbody>\n</table>\n</div>"
     },
     "execution_count": 143,
     "metadata": {},
     "output_type": "execute_result"
    }
   ],
   "source": [
    "# TODO: Function\n",
    "val_df = pd.DataFrame(\n",
    "    {\n",
    "        \"text\": val_sentences,\n",
    "        \"y_true\": val_labels,\n",
    "        \"y_pred\": model_6_pretrained_preds,\n",
    "        \"y_prob\": tf.squeeze(model_6_pretrained_pred_probs)\n",
    "    })\n",
    "val_df.head()"
   ],
   "metadata": {
    "collapsed": false,
    "ExecuteTime": {
     "end_time": "2023-07-12T20:29:15.370854Z",
     "start_time": "2023-07-12T20:29:15.103772Z"
    }
   }
  },
  {
   "cell_type": "code",
   "execution_count": 148,
   "outputs": [
    {
     "data": {
      "text/plain": "                                                  text  y_true  y_pred   \n31   ? High Skies - Burning Buildings ? http://t.co...       0     1.0  \\\n759  FedEx will no longer transport bioterror patho...       0     1.0   \n628  @noah_anyname That's where the concentration c...       0     1.0   \n209  Ashes 2015: AustraliaÛªs collapse at Trent Br...       0     1.0   \n251  @AshGhebranious civil rights continued in the ...       0     1.0   \n393  @SonofLiberty357 all illuminated by the bright...       0     1.0   \n109  [55436] 1950 LIONEL TRAINS SMOKE LOCOMOTIVES W...       0     1.0   \n49   @madonnamking RSPCA site multiple 7 story high...       0     1.0   \n119  @freefromwolves GodsLove &amp; #thankU brother...       0     1.0   \n344  Air Group is here to the rescue! We have 24/7 ...       0     1.0   \n\n       y_prob  \n31   0.910196  \n759  0.876982  \n628  0.852300  \n209  0.835454  \n251  0.827213  \n393  0.814816  \n109  0.810840  \n49   0.803122  \n119  0.766901  \n344  0.766625  ",
      "text/html": "<div>\n<style scoped>\n    .dataframe tbody tr th:only-of-type {\n        vertical-align: middle;\n    }\n\n    .dataframe tbody tr th {\n        vertical-align: top;\n    }\n\n    .dataframe thead th {\n        text-align: right;\n    }\n</style>\n<table border=\"1\" class=\"dataframe\">\n  <thead>\n    <tr style=\"text-align: right;\">\n      <th></th>\n      <th>text</th>\n      <th>y_true</th>\n      <th>y_pred</th>\n      <th>y_prob</th>\n    </tr>\n  </thead>\n  <tbody>\n    <tr>\n      <th>31</th>\n      <td>? High Skies - Burning Buildings ? http://t.co...</td>\n      <td>0</td>\n      <td>1.0</td>\n      <td>0.910196</td>\n    </tr>\n    <tr>\n      <th>759</th>\n      <td>FedEx will no longer transport bioterror patho...</td>\n      <td>0</td>\n      <td>1.0</td>\n      <td>0.876982</td>\n    </tr>\n    <tr>\n      <th>628</th>\n      <td>@noah_anyname That's where the concentration c...</td>\n      <td>0</td>\n      <td>1.0</td>\n      <td>0.852300</td>\n    </tr>\n    <tr>\n      <th>209</th>\n      <td>Ashes 2015: AustraliaÛªs collapse at Trent Br...</td>\n      <td>0</td>\n      <td>1.0</td>\n      <td>0.835454</td>\n    </tr>\n    <tr>\n      <th>251</th>\n      <td>@AshGhebranious civil rights continued in the ...</td>\n      <td>0</td>\n      <td>1.0</td>\n      <td>0.827213</td>\n    </tr>\n    <tr>\n      <th>393</th>\n      <td>@SonofLiberty357 all illuminated by the bright...</td>\n      <td>0</td>\n      <td>1.0</td>\n      <td>0.814816</td>\n    </tr>\n    <tr>\n      <th>109</th>\n      <td>[55436] 1950 LIONEL TRAINS SMOKE LOCOMOTIVES W...</td>\n      <td>0</td>\n      <td>1.0</td>\n      <td>0.810840</td>\n    </tr>\n    <tr>\n      <th>49</th>\n      <td>@madonnamking RSPCA site multiple 7 story high...</td>\n      <td>0</td>\n      <td>1.0</td>\n      <td>0.803122</td>\n    </tr>\n    <tr>\n      <th>119</th>\n      <td>@freefromwolves GodsLove &amp;amp; #thankU brother...</td>\n      <td>0</td>\n      <td>1.0</td>\n      <td>0.766901</td>\n    </tr>\n    <tr>\n      <th>344</th>\n      <td>Air Group is here to the rescue! We have 24/7 ...</td>\n      <td>0</td>\n      <td>1.0</td>\n      <td>0.766625</td>\n    </tr>\n  </tbody>\n</table>\n</div>"
     },
     "execution_count": 148,
     "metadata": {},
     "output_type": "execute_result"
    }
   ],
   "source": [
    "most_wrong = val_df[val_df['y_true'] != val_df['y_pred']].sort_values(by='y_prob', ascending=False)\n",
    "most_wrong[:10] # False Positives"
   ],
   "metadata": {
    "collapsed": false,
    "ExecuteTime": {
     "end_time": "2023-07-12T20:31:18.776809Z",
     "start_time": "2023-07-12T20:31:18.712522Z"
    }
   }
  },
  {
   "cell_type": "code",
   "execution_count": 149,
   "outputs": [
    {
     "data": {
      "text/plain": "                                                  text  y_true  y_pred   \n536      @DavidVonderhaar At least you were sincere ??       1     0.0  \\\n408  @willienelson We need help! Horses will die!Pl...       1     0.0   \n294  Lucas Duda is Ghost Rider. Not the Nic Cage ve...       1     0.0   \n221  going to redo my nails and watch behind the sc...       1     0.0   \n59   You can never escape me. Bullets don't harm me...       1     0.0   \n411  @SoonerMagic_ I mean I'm a fan but I don't nee...       1     0.0   \n233                    I get to smoke my shit in peace       1     0.0   \n38   Why are you deluged with low self-image? Take ...       1     0.0   \n244  Reddit Will Now QuarantineÛ_ http://t.co/pkUA...       1     0.0   \n23   Ron &amp; Fez - Dave's High School Crush https...       1     0.0   \n\n       y_prob  \n536  0.067303  \n408  0.055076  \n294  0.054603  \n221  0.054597  \n59   0.049637  \n411  0.043918  \n233  0.042087  \n38   0.038998  \n244  0.038949  \n23   0.037186  ",
      "text/html": "<div>\n<style scoped>\n    .dataframe tbody tr th:only-of-type {\n        vertical-align: middle;\n    }\n\n    .dataframe tbody tr th {\n        vertical-align: top;\n    }\n\n    .dataframe thead th {\n        text-align: right;\n    }\n</style>\n<table border=\"1\" class=\"dataframe\">\n  <thead>\n    <tr style=\"text-align: right;\">\n      <th></th>\n      <th>text</th>\n      <th>y_true</th>\n      <th>y_pred</th>\n      <th>y_prob</th>\n    </tr>\n  </thead>\n  <tbody>\n    <tr>\n      <th>536</th>\n      <td>@DavidVonderhaar At least you were sincere ??</td>\n      <td>1</td>\n      <td>0.0</td>\n      <td>0.067303</td>\n    </tr>\n    <tr>\n      <th>408</th>\n      <td>@willienelson We need help! Horses will die!Pl...</td>\n      <td>1</td>\n      <td>0.0</td>\n      <td>0.055076</td>\n    </tr>\n    <tr>\n      <th>294</th>\n      <td>Lucas Duda is Ghost Rider. Not the Nic Cage ve...</td>\n      <td>1</td>\n      <td>0.0</td>\n      <td>0.054603</td>\n    </tr>\n    <tr>\n      <th>221</th>\n      <td>going to redo my nails and watch behind the sc...</td>\n      <td>1</td>\n      <td>0.0</td>\n      <td>0.054597</td>\n    </tr>\n    <tr>\n      <th>59</th>\n      <td>You can never escape me. Bullets don't harm me...</td>\n      <td>1</td>\n      <td>0.0</td>\n      <td>0.049637</td>\n    </tr>\n    <tr>\n      <th>411</th>\n      <td>@SoonerMagic_ I mean I'm a fan but I don't nee...</td>\n      <td>1</td>\n      <td>0.0</td>\n      <td>0.043918</td>\n    </tr>\n    <tr>\n      <th>233</th>\n      <td>I get to smoke my shit in peace</td>\n      <td>1</td>\n      <td>0.0</td>\n      <td>0.042087</td>\n    </tr>\n    <tr>\n      <th>38</th>\n      <td>Why are you deluged with low self-image? Take ...</td>\n      <td>1</td>\n      <td>0.0</td>\n      <td>0.038998</td>\n    </tr>\n    <tr>\n      <th>244</th>\n      <td>Reddit Will Now QuarantineÛ_ http://t.co/pkUA...</td>\n      <td>1</td>\n      <td>0.0</td>\n      <td>0.038949</td>\n    </tr>\n    <tr>\n      <th>23</th>\n      <td>Ron &amp;amp; Fez - Dave's High School Crush https...</td>\n      <td>1</td>\n      <td>0.0</td>\n      <td>0.037186</td>\n    </tr>\n  </tbody>\n</table>\n</div>"
     },
     "execution_count": 149,
     "metadata": {},
     "output_type": "execute_result"
    }
   ],
   "source": [
    "most_wrong[-10:] # False Negatives"
   ],
   "metadata": {
    "collapsed": false,
    "ExecuteTime": {
     "end_time": "2023-07-12T20:31:25.890190Z",
     "start_time": "2023-07-12T20:31:25.816113Z"
    }
   }
  },
  {
   "cell_type": "code",
   "execution_count": 150,
   "outputs": [
    {
     "name": "stdout",
     "output_type": "stream",
     "text": [
      "Target: 0, Pred: 1.0, Prob: 0.9101957678794861\n",
      "Text: \n",
      "? High Skies - Burning Buildings ? http://t.co/uVq41i3Kx2 #nowplaying\n",
      "\n",
      "---\n",
      "Target: 0, Pred: 1.0, Prob: 0.8769821524620056\n",
      "Text: \n",
      "FedEx will no longer transport bioterror pathogens in wake of anthrax lab mishaps http://t.co/lHpgxc4b8J\n",
      "\n",
      "---\n",
      "Target: 0, Pred: 1.0, Prob: 0.8523001074790955\n",
      "Text: \n",
      "@noah_anyname That's where the concentration camps and mass murder come in. \n",
      " \n",
      "EVERY. FUCKING. TIME.\n",
      "\n",
      "---\n",
      "Target: 0, Pred: 1.0, Prob: 0.8354544639587402\n",
      "Text: \n",
      "Ashes 2015: AustraliaÛªs collapse at Trent Bridge among worst in history: England bundled out Australia for 60 ... http://t.co/t5TrhjUAU0\n",
      "\n",
      "---\n",
      "Target: 0, Pred: 1.0, Prob: 0.8272132873535156\n",
      "Text: \n",
      "@AshGhebranious civil rights continued in the 60s. And what about trans-generational trauma? if anything we should listen to the Americans.\n",
      "\n",
      "---\n",
      "Target: 0, Pred: 1.0, Prob: 0.814815878868103\n",
      "Text: \n",
      "@SonofLiberty357 all illuminated by the brightly burning buildings all around the town!\n",
      "\n",
      "---\n",
      "Target: 0, Pred: 1.0, Prob: 0.8108397126197815\n",
      "Text: \n",
      "[55436] 1950 LIONEL TRAINS SMOKE LOCOMOTIVES WITH MAGNE-TRACTION INSTRUCTIONS http://t.co/xEZBs3sq0y http://t.co/C2x0QoKGlY\n",
      "\n",
      "---\n",
      "Target: 0, Pred: 1.0, Prob: 0.8031217455863953\n",
      "Text: \n",
      "@madonnamking RSPCA site multiple 7 story high rise buildings next to low density character residential in an area that floods\n",
      "\n",
      "---\n",
      "Target: 0, Pred: 1.0, Prob: 0.7669008374214172\n",
      "Text: \n",
      "@freefromwolves GodsLove &amp; #thankU brother Danny for RT of NEW VIDEO http://t.co/cybKsXHF7d The Coming Apocalyptic US Earthquake &amp; Tsunami\n",
      "\n",
      "---\n",
      "Target: 0, Pred: 1.0, Prob: 0.7666252255439758\n",
      "Text: \n",
      "Air Group is here to the rescue! We have 24/7 Emergency Service! Learn more about it here - http://t.co/9lyx7zMtHE http://t.co/5PbC96rTMJ\n",
      "\n",
      "---\n"
     ]
    }
   ],
   "source": [
    "# Check the false positives (model predicted 1 but should have been 0)\n",
    "for row in most_wrong[:10].itertuples():\n",
    "    _, text, y_true, y_pred, y_prob = row\n",
    "    print(f\"Target: {y_true}, Pred: {y_pred}, Prob: {y_prob}\")\n",
    "    print(f\"Text: \\n{text}\\n\")\n",
    "    print(\"---\")"
   ],
   "metadata": {
    "collapsed": false,
    "ExecuteTime": {
     "end_time": "2023-07-13T08:52:21.968053Z",
     "start_time": "2023-07-13T08:52:21.881030Z"
    }
   }
  },
  {
   "cell_type": "code",
   "execution_count": 151,
   "outputs": [
    {
     "name": "stdout",
     "output_type": "stream",
     "text": [
      "Target: 1, Pred: 0.0, Prob: 0.06730347126722336\n",
      "Text: \n",
      "@DavidVonderhaar At least you were sincere ??\n",
      "\n",
      "---\n",
      "Target: 1, Pred: 0.0, Prob: 0.05507583171129227\n",
      "Text: \n",
      "@willienelson We need help! Horses will die!Please RT &amp; sign petition!Take a stand &amp; be a voice for them! #gilbert23 https://t.co/e8dl1lNCVu\n",
      "\n",
      "---\n",
      "Target: 1, Pred: 0.0, Prob: 0.05460337549448013\n",
      "Text: \n",
      "Lucas Duda is Ghost Rider. Not the Nic Cage version but an actual 'engulfed in flames' badass. #Mets\n",
      "\n",
      "---\n",
      "Target: 1, Pred: 0.0, Prob: 0.054596975445747375\n",
      "Text: \n",
      "going to redo my nails and watch behind the scenes of desolation of smaug ayyy\n",
      "\n",
      "---\n",
      "Target: 1, Pred: 0.0, Prob: 0.04963728412985802\n",
      "Text: \n",
      "You can never escape me. Bullets don't harm me. Nothing harms me. But I know pain. I know pain. Sometimes I share it. With someone like you.\n",
      "\n",
      "---\n",
      "Target: 1, Pred: 0.0, Prob: 0.04391848295927048\n",
      "Text: \n",
      "@SoonerMagic_ I mean I'm a fan but I don't need a girl sounding off like a damn siren\n",
      "\n",
      "---\n",
      "Target: 1, Pred: 0.0, Prob: 0.04208681359887123\n",
      "Text: \n",
      "I get to smoke my shit in peace\n",
      "\n",
      "---\n",
      "Target: 1, Pred: 0.0, Prob: 0.03899792954325676\n",
      "Text: \n",
      "Why are you deluged with low self-image? Take the quiz: http://t.co/XsPqdOrIqj http://t.co/CQYvFR4UCy\n",
      "\n",
      "---\n",
      "Target: 1, Pred: 0.0, Prob: 0.038949448615312576\n",
      "Text: \n",
      "Reddit Will Now QuarantineÛ_ http://t.co/pkUAMXw6pm #onlinecommunities #reddit #amageddon #freespeech #Business http://t.co/PAWvNJ4sAP\n",
      "\n",
      "---\n",
      "Target: 1, Pred: 0.0, Prob: 0.03718579187989235\n",
      "Text: \n",
      "Ron &amp; Fez - Dave's High School Crush https://t.co/aN3W16c8F6 via @YouTube\n",
      "\n",
      "---\n"
     ]
    }
   ],
   "source": [
    "# Check the false positives (model predicted 1 but should have been 0)\n",
    "for row in most_wrong[-10:].itertuples():\n",
    "    _, text, y_true, y_pred, y_prob = row\n",
    "    print(f\"Target: {y_true}, Pred: {y_pred}, Prob: {y_prob}\")\n",
    "    print(f\"Text: \\n{text}\\n\")\n",
    "    print(\"---\")"
   ],
   "metadata": {
    "collapsed": false,
    "ExecuteTime": {
     "end_time": "2023-07-13T08:54:42.046295Z",
     "start_time": "2023-07-13T08:54:41.962161Z"
    }
   }
  },
  {
   "cell_type": "markdown",
   "source": [
    "# Making predictions on the test dataset"
   ],
   "metadata": {
    "collapsed": false
   }
  },
  {
   "cell_type": "code",
   "execution_count": 171,
   "outputs": [
    {
     "name": "stdout",
     "output_type": "stream",
     "text": [
      "102/102 [==============================] - 5s 50ms/step\n"
     ]
    }
   ],
   "source": [
    "model_6_pretrained_pred_probs_test = model_6_pretrained.predict(test_df['text'].to_numpy())\n",
    "model_6_pretrained_preds_test = tf.squeeze(tf.round(model_6_pretrained_pred_probs_test))"
   ],
   "metadata": {
    "collapsed": false,
    "ExecuteTime": {
     "end_time": "2023-07-13T09:02:03.439915Z",
     "start_time": "2023-07-13T09:01:58.181055Z"
    }
   }
  },
  {
   "cell_type": "code",
   "execution_count": 172,
   "outputs": [],
   "source": [
    "test_df['y_pred'] = model_6_pretrained_preds_test\n",
    "test_df['y_prod'] = tf.squeeze(model_6_pretrained_pred_probs_test)\n",
    "test_df.sort_values(by='y_prod', ascending=False)"
   ],
   "metadata": {
    "collapsed": false,
    "ExecuteTime": {
     "end_time": "2023-07-13T09:02:04.816839Z",
     "start_time": "2023-07-13T09:02:04.721989Z"
    }
   }
  },
  {
   "cell_type": "code",
   "execution_count": 174,
   "outputs": [
    {
     "data": {
      "text/plain": "         id keyword location   \n0         0     NaN      NaN  \\\n1         2     NaN      NaN   \n2         3     NaN      NaN   \n3         9     NaN      NaN   \n4        11     NaN      NaN   \n...     ...     ...      ...   \n3258  10861     NaN      NaN   \n3259  10865     NaN      NaN   \n3260  10868     NaN      NaN   \n3261  10874     NaN      NaN   \n3262  10875     NaN      NaN   \n\n                                                   text  y_pred    y_prod  \n0                    Just happened a terrible car crash     1.0  0.519970  \n1     Heard about #earthquake is different cities, s...     1.0  0.875251  \n2     there is a forest fire at spot pond, geese are...     1.0  0.827833  \n3              Apocalypse lighting. #Spokane #wildfires     1.0  0.933507  \n4         Typhoon Soudelor kills 28 in China and Taiwan     1.0  0.967958  \n...                                                 ...     ...       ...  \n3258  EARTHQUAKE SAFETY LOS ANGELES ÛÒ SAFETY FASTE...     1.0  0.800561  \n3259  Storm in RI worse than last hurricane. My city...     1.0  0.967862  \n3260  Green Line derailment in Chicago http://t.co/U...     1.0  0.915814  \n3261  MEG issues Hazardous Weather Outlook (HWO) htt...     1.0  0.517644  \n3262  #CityofCalgary has activated its Municipal Eme...     1.0  0.672602  \n\n[3263 rows x 6 columns]",
      "text/html": "<div>\n<style scoped>\n    .dataframe tbody tr th:only-of-type {\n        vertical-align: middle;\n    }\n\n    .dataframe tbody tr th {\n        vertical-align: top;\n    }\n\n    .dataframe thead th {\n        text-align: right;\n    }\n</style>\n<table border=\"1\" class=\"dataframe\">\n  <thead>\n    <tr style=\"text-align: right;\">\n      <th></th>\n      <th>id</th>\n      <th>keyword</th>\n      <th>location</th>\n      <th>text</th>\n      <th>y_pred</th>\n      <th>y_prod</th>\n    </tr>\n  </thead>\n  <tbody>\n    <tr>\n      <th>0</th>\n      <td>0</td>\n      <td>NaN</td>\n      <td>NaN</td>\n      <td>Just happened a terrible car crash</td>\n      <td>1.0</td>\n      <td>0.519970</td>\n    </tr>\n    <tr>\n      <th>1</th>\n      <td>2</td>\n      <td>NaN</td>\n      <td>NaN</td>\n      <td>Heard about #earthquake is different cities, s...</td>\n      <td>1.0</td>\n      <td>0.875251</td>\n    </tr>\n    <tr>\n      <th>2</th>\n      <td>3</td>\n      <td>NaN</td>\n      <td>NaN</td>\n      <td>there is a forest fire at spot pond, geese are...</td>\n      <td>1.0</td>\n      <td>0.827833</td>\n    </tr>\n    <tr>\n      <th>3</th>\n      <td>9</td>\n      <td>NaN</td>\n      <td>NaN</td>\n      <td>Apocalypse lighting. #Spokane #wildfires</td>\n      <td>1.0</td>\n      <td>0.933507</td>\n    </tr>\n    <tr>\n      <th>4</th>\n      <td>11</td>\n      <td>NaN</td>\n      <td>NaN</td>\n      <td>Typhoon Soudelor kills 28 in China and Taiwan</td>\n      <td>1.0</td>\n      <td>0.967958</td>\n    </tr>\n    <tr>\n      <th>...</th>\n      <td>...</td>\n      <td>...</td>\n      <td>...</td>\n      <td>...</td>\n      <td>...</td>\n      <td>...</td>\n    </tr>\n    <tr>\n      <th>3258</th>\n      <td>10861</td>\n      <td>NaN</td>\n      <td>NaN</td>\n      <td>EARTHQUAKE SAFETY LOS ANGELES ÛÒ SAFETY FASTE...</td>\n      <td>1.0</td>\n      <td>0.800561</td>\n    </tr>\n    <tr>\n      <th>3259</th>\n      <td>10865</td>\n      <td>NaN</td>\n      <td>NaN</td>\n      <td>Storm in RI worse than last hurricane. My city...</td>\n      <td>1.0</td>\n      <td>0.967862</td>\n    </tr>\n    <tr>\n      <th>3260</th>\n      <td>10868</td>\n      <td>NaN</td>\n      <td>NaN</td>\n      <td>Green Line derailment in Chicago http://t.co/U...</td>\n      <td>1.0</td>\n      <td>0.915814</td>\n    </tr>\n    <tr>\n      <th>3261</th>\n      <td>10874</td>\n      <td>NaN</td>\n      <td>NaN</td>\n      <td>MEG issues Hazardous Weather Outlook (HWO) htt...</td>\n      <td>1.0</td>\n      <td>0.517644</td>\n    </tr>\n    <tr>\n      <th>3262</th>\n      <td>10875</td>\n      <td>NaN</td>\n      <td>NaN</td>\n      <td>#CityofCalgary has activated its Municipal Eme...</td>\n      <td>1.0</td>\n      <td>0.672602</td>\n    </tr>\n  </tbody>\n</table>\n<p>3263 rows × 6 columns</p>\n</div>"
     },
     "execution_count": 174,
     "metadata": {},
     "output_type": "execute_result"
    }
   ],
   "source": [
    "test_df"
   ],
   "metadata": {
    "collapsed": false,
    "ExecuteTime": {
     "end_time": "2023-07-13T09:02:12.953069Z",
     "start_time": "2023-07-13T09:02:12.898022Z"
    }
   }
  },
  {
   "cell_type": "markdown",
   "source": [
    "# The speed/score tradeoff"
   ],
   "metadata": {
    "collapsed": false
   }
  },
  {
   "cell_type": "code",
   "execution_count": 175,
   "outputs": [],
   "source": [
    "# Let's make a function to measure the time of prediction\n",
    "import time\n",
    "def pred_timer(model, samples):\n",
    "    \"\"\"\n",
    "    Times how long  a model takes to make a prediction.\n",
    "\n",
    "    :param model:\n",
    "    :param samples:\n",
    "    :return:\n",
    "    \"\"\"\n",
    "    start_time = time.perf_counter()\n",
    "    model.predict(samples)\n",
    "    end_time = time.perf_counter()\n",
    "    total_time = end_time - start_time # Calculate how long predictions took to make\n",
    "    time_per_pred  = total_time / len(samples)\n",
    "    return total_time, time_per_pred"
   ],
   "metadata": {
    "collapsed": false,
    "ExecuteTime": {
     "end_time": "2023-07-13T09:26:47.174432Z",
     "start_time": "2023-07-13T09:26:46.951675Z"
    }
   }
  },
  {
   "cell_type": "code",
   "execution_count": 176,
   "outputs": [
    {
     "name": "stdout",
     "output_type": "stream",
     "text": [
      "24/24 [==============================] - 2s 64ms/step\n"
     ]
    },
    {
     "data": {
      "text/plain": "(2.101822125026956, 0.0027582967520038797)"
     },
     "execution_count": 176,
     "metadata": {},
     "output_type": "execute_result"
    }
   ],
   "source": [
    "# Calculate TF Hub Sentence Encode time per pred\n",
    "model_6_total_pred_time, model_6_time_per_pred = pred_timer(model=model_6_pretrained,\n",
    "                                                            samples=val_sentences)\n",
    "model_6_total_pred_time, model_6_time_per_pred"
   ],
   "metadata": {
    "collapsed": false,
    "ExecuteTime": {
     "end_time": "2023-07-13T09:28:14.943067Z",
     "start_time": "2023-07-13T09:28:12.807304Z"
    }
   }
  },
  {
   "cell_type": "code",
   "execution_count": 177,
   "outputs": [
    {
     "data": {
      "text/plain": "(0.018806207983288914, 2.4680062970195424e-05)"
     },
     "execution_count": 177,
     "metadata": {},
     "output_type": "execute_result"
    }
   ],
   "source": [
    "# Calculate baseline model times per pred\n",
    "baseline_total_pred_time, baseline_time_per_pred = pred_timer(model=model_0,\n",
    "                                                            samples=val_sentences)\n",
    "baseline_total_pred_time, baseline_time_per_pred"
   ],
   "metadata": {
    "collapsed": false,
    "ExecuteTime": {
     "end_time": "2023-07-13T09:29:16.335015Z",
     "start_time": "2023-07-13T09:29:16.108800Z"
    }
   }
  },
  {
   "cell_type": "code",
   "execution_count": 180,
   "outputs": [
    {
     "data": {
      "text/plain": "{'accuracy': 81.62729658792651,\n 'precision': 0.818446310697231,\n 'recall': 0.8162729658792651,\n 'f1': 0.8148082644367335}"
     },
     "execution_count": 180,
     "metadata": {},
     "output_type": "execute_result"
    }
   ],
   "source": [
    "model_6_pretrained_results = mlp.table_quality_metrics(y_true=val_labels,\n",
    "                                                       y_pred=model_6_pretrained_preds)\n",
    "model_6_pretrained_results"
   ],
   "metadata": {
    "collapsed": false,
    "ExecuteTime": {
     "end_time": "2023-07-13T09:32:02.890741Z",
     "start_time": "2023-07-13T09:32:02.814782Z"
    }
   }
  },
  {
   "cell_type": "code",
   "execution_count": 183,
   "outputs": [
    {
     "data": {
      "text/plain": "Text(0, 0.5, 'F1-Score')"
     },
     "execution_count": 183,
     "metadata": {},
     "output_type": "execute_result"
    },
    {
     "data": {
      "text/plain": "<Figure size 1000x700 with 1 Axes>",
      "image/png": "[encoded data removed]"
     },
     "metadata": {},
     "output_type": "display_data"
    }
   ],
   "source": [
    "import matplotlib.pyplot as plt\n",
    "\n",
    "plt.figure(figsize=(10, 7))\n",
    "plt.scatter(x=baseline_time_per_pred, y=baseline_results[\"f1\"], label=\"baseline\")\n",
    "plt.scatter(x=model_6_time_per_pred, y=model_6_pretrained_results[\"f1\"], label=\"tf_hub_sentence_encoder\")\n",
    "plt.legend()\n",
    "plt.title(\"F1 Score vs Time per pred\")\n",
    "plt.xlabel(\"Time per prediction\")\n",
    "plt.ylabel(\"F1-Score\")"
   ],
   "metadata": {
    "collapsed": false,
    "ExecuteTime": {
     "end_time": "2023-07-13T09:36:14.258772Z",
     "start_time": "2023-07-13T09:36:14.008934Z"
    }
   }
  },
  {
   "cell_type": "code",
   "execution_count": null,
   "outputs": [],
   "source": [],
   "metadata": {
    "collapsed": false
   }
  }
 ],
 "metadata": {
  "kernelspec": {
   "display_name": "Python 3",
   "language": "python",
   "name": "python3"
  },
  "language_info": {
   "codemirror_mode": {
    "name": "ipython",
    "version": 2
   },
   "file_extension": ".py",
   "mimetype": "text/x-python",
   "name": "python",
   "nbconvert_exporter": "python",
   "pygments_lexer": "ipython2",
   "version": "2.7.6"
  },
  "colab": {
   "provenance": [],
   "gpuType": "T4"
  },
  "accelerator": "GPU",
  "gpuClass": "standard"
 },
 "nbformat": 4,
 "nbformat_minor": 0
}
