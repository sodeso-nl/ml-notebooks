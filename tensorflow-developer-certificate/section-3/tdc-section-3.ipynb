{
 "cells": [
  {
   "cell_type": "markdown",
   "metadata": {
    "collapsed": false,
    "jupyter": {
     "outputs_hidden": false
    }
   },
   "source": [
    "# Introduction to Regression with Neural Networks in TensorFlow\n",
    "\n",
    "There are many definitions for a regression problem but in our case, we're going to simplify it: predicting a numerical variable based on some other combination of variables, even shorter... predicting a number."
   ]
  },
  {
   "cell_type": "code",
   "execution_count": 1,
   "metadata": {
    "ExecuteTime": {
     "end_time": "2023-08-31T11:28:45.031270Z",
     "start_time": "2023-08-31T11:28:42.405863Z"
    },
    "colab": {
     "base_uri": "https://localhost:8080/"
    },
    "id": "_omw_sDzWDc5",
    "outputId": "f883e95a-8e27-4371-a62f-8ad5c51c0553"
   },
   "outputs": [
    {
     "name": "stderr",
     "output_type": "stream",
     "text": [
      "2023-09-07 21:55:17.988229: I tensorflow/core/util/port.cc:110] oneDNN custom operations are on. You may see slightly different numerical results due to floating-point round-off errors from different computation orders. To turn them off, set the environment variable `TF_ENABLE_ONEDNN_OPTS=0`.\n",
      "2023-09-07 21:55:18.009529: I tensorflow/core/platform/cpu_feature_guard.cc:182] This TensorFlow binary is optimized to use available CPU instructions in performance-critical operations.\n",
      "To enable the following instructions: AVX2 AVX512F AVX512_VNNI AVX512_BF16 FMA, in other operations, rebuild TensorFlow with the appropriate compiler flags.\n",
      "2023-09-07 21:55:18.404854: W tensorflow/compiler/tf2tensorrt/utils/py_utils.cc:38] TF-TRT Warning: Could not find TensorRT\n"
     ]
    },
    {
     "name": "stdout",
     "output_type": "stream",
     "text": [
      "2.13.0\n"
     ]
    }
   ],
   "source": [
    "# Import TensorFlow\n",
    "\n",
    "import tensorflow as tf\n",
    "print(tf.__version__)"
   ]
  },
  {
   "cell_type": "markdown",
   "metadata": {
    "id": "GJRqicoJW313"
   },
   "source": [
    "## Creating data to view and fit."
   ]
  },
  {
   "cell_type": "code",
   "execution_count": 2,
   "metadata": {
    "ExecuteTime": {
     "end_time": "2023-08-31T11:28:45.874410Z",
     "start_time": "2023-08-31T11:28:45.030022Z"
    },
    "colab": {
     "base_uri": "https://localhost:8080/",
     "height": 286
    },
    "id": "msArWP_iW_cR",
    "outputId": "5c346187-492c-4e61-af2a-37bb66ff85ff"
   },
   "outputs": [
    {
     "data": {
      "text/plain": [
       "<matplotlib.collections.PathCollection at 0x7fae103bd190>"
      ]
     },
     "execution_count": 2,
     "metadata": {},
     "output_type": "execute_result"
    },
    {
     "data": {
      "image/png": "[encoded data removed]",
      "text/plain": [
       "<Figure size 640x480 with 1 Axes>"
      ]
     },
     "metadata": {},
     "output_type": "display_data"
    }
   ],
   "source": [
    "import numpy as np\n",
    "import matplotlib.pyplot as plt\n",
    "\n",
    "# Create features\n",
    "X = np.array([-7.0, -4.0, -1.0, 2.0, 5.0, 8.0, 11.0, 14.0])\n",
    "\n",
    "# Create labels\n",
    "y = np.array([3.0, 6.0, 9.0, 12.0, 15.0, 18.0, 21.0, 24.0])\n",
    "\n",
    "# visualize it\n",
    "plt.scatter(X, y)"
   ]
  },
  {
   "cell_type": "code",
   "execution_count": 3,
   "metadata": {
    "ExecuteTime": {
     "end_time": "2023-08-31T11:28:45.875528Z",
     "start_time": "2023-08-31T11:28:45.872395Z"
    },
    "colab": {
     "base_uri": "https://localhost:8080/"
    },
    "id": "wFDlRij1XbXE",
    "outputId": "4697c8d0-cfe9-46a7-9480-67fb17aa2379"
   },
   "outputs": [
    {
     "data": {
      "text/plain": [
       "array([ True,  True,  True,  True,  True,  True,  True,  True])"
      ]
     },
     "execution_count": 3,
     "metadata": {},
     "output_type": "execute_result"
    }
   ],
   "source": [
    "# The function we want the network to learn.\n",
    "y == X + 10\n"
   ]
  },
  {
   "cell_type": "markdown",
   "metadata": {
    "id": "knGby7WnXrke"
   },
   "source": [
    "## Input and output shapes"
   ]
  },
  {
   "cell_type": "code",
   "execution_count": 4,
   "metadata": {
    "ExecuteTime": {
     "end_time": "2023-08-31T11:28:45.889473Z",
     "start_time": "2023-08-31T11:28:45.884461Z"
    },
    "colab": {
     "base_uri": "https://localhost:8080/"
    },
    "id": "HzycHa2UXy15",
    "outputId": "8e32a458-3f67-4f1d-ba66-1bf3167beac5"
   },
   "outputs": [
    {
     "name": "stderr",
     "output_type": "stream",
     "text": [
      "2023-09-07 21:55:19.096268: I tensorflow/compiler/xla/stream_executor/cuda/cuda_gpu_executor.cc:995] successful NUMA node read from SysFS had negative value (-1), but there must be at least one NUMA node, so returning NUMA node zero. See more at https://github.com/torvalds/linux/blob/v6.0/Documentation/ABI/testing/sysfs-bus-pci#L344-L355\n",
      "2023-09-07 21:55:19.107232: I tensorflow/compiler/xla/stream_executor/cuda/cuda_gpu_executor.cc:995] successful NUMA node read from SysFS had negative value (-1), but there must be at least one NUMA node, so returning NUMA node zero. See more at https://github.com/torvalds/linux/blob/v6.0/Documentation/ABI/testing/sysfs-bus-pci#L344-L355\n",
      "2023-09-07 21:55:19.107319: I tensorflow/compiler/xla/stream_executor/cuda/cuda_gpu_executor.cc:995] successful NUMA node read from SysFS had negative value (-1), but there must be at least one NUMA node, so returning NUMA node zero. See more at https://github.com/torvalds/linux/blob/v6.0/Documentation/ABI/testing/sysfs-bus-pci#L344-L355\n",
      "2023-09-07 21:55:19.108903: I tensorflow/compiler/xla/stream_executor/cuda/cuda_gpu_executor.cc:995] successful NUMA node read from SysFS had negative value (-1), but there must be at least one NUMA node, so returning NUMA node zero. See more at https://github.com/torvalds/linux/blob/v6.0/Documentation/ABI/testing/sysf"
     ]
    },
    {
     "data": {
      "text/plain": [
       "(<tf.Tensor: shape=(3,), dtype=string, numpy=array([b'bedroom', b'bathroom', b'garage'], dtype=object)>,\n",
       " <tf.Tensor: shape=(1,), dtype=int32, numpy=array([939700], dtype=int32)>)"
      ]
     },
     "execution_count": 4,
     "metadata": {},
     "output_type": "execute_result"
    },
    {
     "name": "stderr",
     "output_type": "stream",
     "text": [
      "s-bus-pci#L344-L355\n",
      "2023-09-07 21:55:19.108995: I tensorflow/compiler/xla/stream_executor/cuda/cuda_gpu_executor.cc:995] successful NUMA node read from SysFS had negative value (-1), but there must be at least one NUMA node, so returning NUMA node zero. See more at https://github.com/torvalds/linux/blob/v6.0/Documentation/ABI/testing/sysfs-bus-pci#L344-L355\n",
      "2023-09-07 21:55:19.109054: I tensorflow/compiler/xla/stream_executor/cuda/cuda_gpu_executor.cc:995] successful NUMA node read from SysFS had negative value (-1), but there must be at least one NUMA node, so returning NUMA node zero. See more at https://github.com/torvalds/linux/blob/v6.0/Documentation/ABI/testing/sysfs-bus-pci#L344-L355\n",
      "2023-09-07 21:55:19.150553: I tensorflow/compiler/xla/stream_executor/cuda/cuda_gpu_executor.cc:995] successful NUMA node read from SysFS had negative value (-1), but there must be at least one NUMA node, so returning NUMA node zero. See more at https://github.com/torvalds/linux/blob/v6.0/Documentation/ABI/testing/sysfs-bus-pci#L344-L355\n",
      "2023-09-07 21:55:19.150631: I tensorflow/compiler/xla/stream_executor/cuda/cuda_gpu_executor.cc:995] successful NUMA node read from SysFS had negative value (-1), but there must be at least one NUMA node, so returning NUMA node zero. See more at https://github.com/torvalds/linux/blob/v6.0/Documentation/ABI/testing/sysfs-bus-pci#L344-L355\n",
      "2023-09-07 21:55:19.150691: I tensorflow/compiler/xla/stream_executor/cuda/cuda_gpu_executor.cc:995] successful NUMA node read from SysFS had negative value (-1), but there must be at least one NUMA node, so returning NUMA node zero. See more at https://github.com/torvalds/linux/blob/v6.0/Documentation/ABI/testing/sysfs-bus-pci#L344-L355\n",
      "2023-09-07 21:55:19.150741: I tensorflow/core/common_runtime/gpu/gpu_device.cc:1639] Created device /job:localhost/replica:0/task:0/device:GPU:0 with 882 MB memory:  -> device: 0, name: NVIDIA GeForce RTX 4090, pci bus id: 0000:01:00.0, compute capability: 8.9\n"
     ]
    }
   ],
   "source": [
    "# Create a demo tensor for our housing price prediction problem\n",
    "house_info = tf.constant([\"bedroom\", \"bathroom\", \"garage\"])\n",
    "house_price = tf.constant([939700])\n",
    "house_info, house_price"
   ]
  },
  {
   "cell_type": "code",
   "execution_count": 5,
   "metadata": {
    "ExecuteTime": {
     "end_time": "2023-08-31T11:28:45.889684Z",
     "start_time": "2023-08-31T11:28:45.887511Z"
    },
    "colab": {
     "base_uri": "https://localhost:8080/"
    },
    "id": "yKoRvwH5Y1M_",
    "outputId": "effeb889-6c66-4777-f4b3-dcb5e8919291"
   },
   "outputs": [
    {
     "data": {
      "text/plain": [
       "((), ())"
      ]
     },
     "execution_count": 5,
     "metadata": {},
     "output_type": "execute_result"
    }
   ],
   "source": [
    "input_shape = X[0].shape\n",
    "output_shape = y[0].shape\n",
    "input_shape, output_shape"
   ]
  },
  {
   "cell_type": "code",
   "execution_count": 6,
   "metadata": {
    "ExecuteTime": {
     "end_time": "2023-08-31T11:28:45.959382Z",
     "start_time": "2023-08-31T11:28:45.892134Z"
    },
    "colab": {
     "base_uri": "https://localhost:8080/"
    },
    "id": "FyMfNGRIZLnd",
    "outputId": "a6396a0b-eefb-4ccf-9225-b1298b9e3806"
   },
   "outputs": [
    {
     "data": {
      "text/plain": [
       "(<tf.Tensor: shape=(8,), dtype=float32, numpy=array([-7., -4., -1.,  2.,  5.,  8., 11., 14.], dtype=float32)>,\n",
       " <tf.Tensor: shape=(8,), dtype=float32, numpy=array([ 3.,  6.,  9., 12., 15., 18., 21., 24.], dtype=float32)>)"
      ]
     },
     "execution_count": 6,
     "metadata": {},
     "output_type": "execute_result"
    }
   ],
   "source": [
    "# Turn our NumPY arrays into tensors\n",
    "X = tf.cast(tf.constant(X), dtype=tf.float32)\n",
    "y = tf.cast(tf.constant(y), dtype=tf.float32)\n",
    "X, y"
   ]
  },
  {
   "cell_type": "code",
   "execution_count": 7,
   "metadata": {
    "ExecuteTime": {
     "end_time": "2023-08-31T11:28:46.069545Z",
     "start_time": "2023-08-31T11:28:45.899243Z"
    },
    "colab": {
     "base_uri": "https://localhost:8080/",
     "height": 286
    },
    "id": "42B3f89JaR1o",
    "outputId": "ab643739-4a7a-4395-8f36-8d983995a130"
   },
   "outputs": [
    {
     "data": {
      "text/plain": [
       "<matplotlib.collections.PathCollection at 0x7fae103eb2d0>"
      ]
     },
     "execution_count": 7,
     "metadata": {},
     "output_type": "execute_result"
    },
    {
     "data": {
      "image/png": "[encoded data removed]",
      "text/plain": [
       "<Figure size 640x480 with 1 Axes>"
      ]
     },
     "metadata": {},
     "output_type": "display_data"
    }
   ],
   "source": [
    "plt.scatter(X, y)"
   ]
  },
  {
   "cell_type": "markdown",
   "metadata": {
    "id": "bMmAc9Lhaau6"
   },
   "source": [
    "## Steps in modelling with TensorFlow\n",
    "\n",
    "1. Creating a model - define the input and output layers as well as the hidden layers of a deep learning model.\n",
    "2. Compiling a model - define the loss function (in other words, the function which tells our model how wrong it is) and the optimizer (tells our model how to improve the patterns its learning) and evaluation metrices (what we can use to interpret the performance of our model).\n",
    "3. Fitting a model - letting the model try to find patters between X & Y (features and labels)."
   ]
  },
  {
   "cell_type": "code",
   "execution_count": null,
   "metadata": {
    "ExecuteTime": {
     "end_time": "2023-08-31T11:28:46.070043Z",
     "start_time": "2023-08-31T11:28:46.067456Z"
    },
    "id": "kHd9UZfrehFC"
   },
   "outputs": [],
   "source": []
  },
  {
   "cell_type": "code",
   "execution_count": 8,
   "metadata": {
    "ExecuteTime": {
     "end_time": "2023-08-31T11:28:47.291732Z",
     "start_time": "2023-08-31T11:28:46.071590Z"
    },
    "colab": {
     "base_uri": "https://localhost:8080/"
    },
    "id": "mzW_i-WYadYC",
    "outputId": "8db50aa4-ddd6-4906-fc6e-90872060630a"
   },
   "outputs": [
    {
     "name": "stdout",
     "output_type": "stream",
     "text": [
      "Epoch 1/5\n",
      "1/1 [==============================] - 0s 246ms/step - loss: 21.8108 - mae: 21.8108\n",
      "Epoch 2/5\n",
      "1/1 [==============================] - 0s 2ms/step - loss: 21.4177 - mae: 21.4177\n",
      "Epoch 3/5\n",
      "1/1 [==============================] - 0s 3ms/step - loss: 21.0246 - mae: 21.0246\n",
      "Epoch 4/5\n",
      "1/1 [==============================] - 0s 2ms/step - loss: 20.6314 - mae: 20.6314\n",
      "Epoch 5/5\n",
      "1/1 [==============================] - 0s 2ms/step - loss: 20.2936 - mae: 20.2936\n"
     ]
    },
    {
     "name": "stderr",
     "output_type": "stream",
     "text": [
      "2023-09-07 21:55:19.438890: I tensorflow/compiler/xla/service/service.cc:168] XLA service 0x7fac357ccef0 initialized for platform CUDA (this does not guarantee that XLA will be used). Devices:\n",
      "2023-09-07 21:55:19.438910: I tensorflow/compiler/xla/service/service.cc:176]   StreamExecutor device (0): NVIDIA GeForce RTX 4090, Compute Capability 8.9\n",
      "2023-09-07 21:55:19.475606: I tensorflow/compiler/xla/stream_executor/cuda/cuda_dnn.cc:432] Loaded cuDNN version 8904\n",
      "2023-09-07 21:55:19.508226: I ./tensorflow/compiler/jit/device_compiler.h:186] Compiled cluster using XLA!  This line is logged at most once for the lifetime of the process.\n"
     ]
    },
    {
     "data": {
      "text/plain": [
       "<keras.src.callbacks.History at 0x7fae1046c390>"
      ]
     },
     "execution_count": 8,
     "metadata": {},
     "output_type": "execute_result"
    }
   ],
   "source": [
    "# Set random seed\n",
    "tf.random.set_seed(42)\n",
    "\n",
    "# Create a model using the Sequential API\n",
    "model = tf.keras.Sequential([\n",
    "    tf.keras.layers.Dense(1)\n",
    "])\n",
    "\n",
    "#2. Compile the model\n",
    "\n",
    "model.compile(loss=tf.keras.losses.mae, # mean absolute error\n",
    "              optimizer=tf.keras.optimizers.SGD(), # Stochastic gradient descent.\n",
    "              metrics=[\"mae\"]\n",
    "              )\n",
    "\n",
    "# 3. Fit the model\n",
    "model.fit(tf.expand_dims(X, -1), y, epochs=5)\n"
   ]
  },
  {
   "cell_type": "code",
   "execution_count": 9,
   "metadata": {
    "ExecuteTime": {
     "end_time": "2023-08-31T11:28:47.292585Z",
     "start_time": "2023-08-31T11:28:47.274958Z"
    },
    "colab": {
     "base_uri": "https://localhost:8080/"
    },
    "id": "iU03czOTdx7z",
    "outputId": "c7df438d-41b6-4d76-b6b9-9ca707a232a5"
   },
   "outputs": [
    {
     "data": {
      "text/plain": [
       "(<tf.Tensor: shape=(8,), dtype=float32, numpy=array([-7., -4., -1.,  2.,  5.,  8., 11., 14.], dtype=float32)>,\n",
       " <tf.Tensor: shape=(8,), dtype=float32, numpy=array([ 3.,  6.,  9., 12., 15., 18., 21., 24.], dtype=float32)>)"
      ]
     },
     "execution_count": 9,
     "metadata": {},
     "output_type": "execute_result"
    }
   ],
   "source": [
    "# Check out X and Y\n",
    "X, y"
   ]
  },
  {
   "cell_type": "code",
   "execution_count": 10,
   "metadata": {
    "ExecuteTime": {
     "end_time": "2023-08-31T11:28:47.451850Z",
     "start_time": "2023-08-31T11:28:47.279531Z"
    },
    "colab": {
     "base_uri": "https://localhost:8080/"
    },
    "id": "Fbr9Wy9GgiOi",
    "outputId": "120d2f8b-4d7d-4131-b0a3-49dd5f0889de"
   },
   "outputs": [
    {
     "name": "stdout",
     "output_type": "stream",
     "text": [
      "1/1 [==============================] - 0s 34ms/step\n"
     ]
    },
    {
     "data": {
      "text/plain": [
       "array([[-23.55541]], dtype=float32)"
      ]
     },
     "execution_count": 10,
     "metadata": {},
     "output_type": "execute_result"
    }
   ],
   "source": [
    "# Try and make a prediction using our model\n",
    "model.predict([17.0])"
   ]
  },
  {
   "cell_type": "markdown",
   "metadata": {
    "id": "OCqk1AK9gnKh"
   },
   "source": [
    "### improving model\n",
    "\n",
    "We can improve our model, by altering the steps we took to create a model.\n",
    "\n",
    "1. **Creating a model** - here we might add more layers, increase the number of hidden units (also called neurons) within each of the hidden layers, change the activation function of each layer.\n",
    "2. **Compiling a model** - here we might change the optimization function or perhaps the **learning rate** of said optimizaion function. \n",
    "3. **Fitting a model** - here we might fit a model more **epochs** (leave it training for longer) or on more data (give the model more examples to learn from)."
   ]
  },
  {
   "cell_type": "code",
   "execution_count": 11,
   "metadata": {
    "ExecuteTime": {
     "end_time": "2023-08-31T11:28:48.729784Z",
     "start_time": "2023-08-31T11:28:47.453608Z"
    },
    "colab": {
     "base_uri": "https://localhost:8080/"
    },
    "id": "sOfnNo9OhWLM",
    "outputId": "74d8211e-19ff-4ef1-d8b6-9e10cf68d679"
   },
   "outputs": [
    {
     "name": "stdout",
     "output_type": "stream",
     "text": [
      "Epoch 1/100\n",
      "1/1 [==============================] - 0s 150ms/step - loss: 8.1199 - mae: 8.1199\n",
      "Epoch 2/100\n",
      "1/1 [==============================] - 0s 2ms/step - loss: 7.9874 - mae: 7.9874\n",
      "Epoch 3/100\n",
      "1/1 [==============================] - 0s 2ms/step - loss: 7.8549 - mae: 7.8549\n",
      "Epoch 4/100\n",
      "1/1 [==============================] - 0s 2ms/step - loss: 7.7224 - mae: 7.7224\n",
      "Epoch 5/100\n",
      "1/1 [==============================] - 0s 2ms/step - loss: 7.5899 - mae: 7.5899\n",
      "Epoch 6/100\n",
      "1/1 [==============================] - 0s 2ms/step - loss: 7.4625 - mae: 7.4625\n",
      "Epoch 7/100\n",
      "1/1 [==============================] - 0s 2ms/step - loss: 7.4569 - mae: 7.4569\n",
      "Epoch 8/100\n",
      "1/1 [==============================] - 0s 2ms/step - loss: 7.4513 - mae: 7.4513\n",
      "Epoch 9/100\n",
      "1/1 [==============================] - 0s 2ms/step - loss: 7.4456 - mae: 7.4456\n",
      "Epoch 10/100\n",
      "1/1 [==============================] - 0s 2ms/step - loss: 7.4400 - mae: 7.4400\n",
      "Epoch 11/100\n",
      "1/1 [==============================] - 0s 2ms/step - loss: 7.4344 - mae: 7.4344\n",
      "Epoch 12/100\n",
      "1/1 [==============================] - 0s 2ms/step - loss: 7.4288 - mae: 7.4288\n",
      "Epoch 13/100\n",
      "1/1 [==============================] - 0s 2ms/step - loss: 7.4231 - mae: 7.4231\n",
      "Epoch 14/100\n",
      "1/1 [==============================] - 0s 2ms/step - loss: 7.4175 - mae: 7.4175\n",
      "Epoch 15/100\n",
      "1/1 [==============================] - 0s 2ms/step - loss: 7.4119 - mae: 7.4119\n",
      "Epoch 16/100\n",
      "1/1 [==============================] - 0s 2ms/step - loss: 7.4062 - mae: 7.4062\n",
      "Epoch 17/100\n",
      "1/1 [==============================] - 0s 2ms/step - loss: 7.4006 - mae: 7.4006\n",
      "Epoch 18/100\n",
      "1/1 [==============================] - 0s 2ms/step - loss: 7.3950 - mae: 7.3950\n",
      "Epoch 19/100\n",
      "1/1 [==============================] - 0s 1ms/step - loss: 7.3894 - mae: 7.3894\n",
      "Epoch 20/100\n",
      "1/1 [==============================] - 0s 2ms/step - loss: 7.3837 - mae: 7.3837\n",
      "Epoch 21/100\n",
      "1/1 [==============================] - 0s 1ms/step - loss: 7.3781 - mae: 7.3781\n",
      "Epoch 22/100\n",
      "1/1 [==============================] - 0s 1ms/step - loss: 7.3725 - mae: 7.3725\n",
      "Epoch 23/100\n",
      "1/1 [==============================] - 0s 2ms/step - loss: 7.3669 - mae: 7.3669\n",
      "Epoch 24/100\n",
      "1/1 [==============================] - 0s 2ms/step - loss: 7.3612 - mae: 7.3612\n",
      "Epoch 25/100\n",
      "1/1 [==============================] - 0s 2ms/step - loss: 7.3556 - mae: 7.3556\n",
      "Epoch 26/100\n",
      "1/1 [==============================] - 0s 2ms/step - loss: 7.3500 - mae: 7.3500\n",
      "Epoch 27/100\n",
      "1/1 [==============================] - 0s 2ms/step - loss: 7.3444 - mae: 7.3444\n",
      "Epoch 28/100\n",
      "1/1 [==============================] - 0s 2ms/step - loss: 7.3387 - mae: 7.3387\n",
      "Epoch 29/100\n",
      "1/1 [==============================] - 0s 2ms/step - loss: 7.3331 - mae: 7.3331\n",
      "Epoch 30/100\n",
      "1/1 [==============================] - 0s 2ms/step - loss: 7.3275 - mae: 7.3275\n",
      "Epoch 31/100\n",
      "1/1 [==============================] - 0s 2ms/step - loss: 7.3219 - mae: 7.3219\n",
      "Epoch 32/100\n",
      "1/1 [==============================] - 0s 2ms/step - loss: 7.3163 - mae: 7.3163\n",
      "Epoch 33/100\n",
      "1/1 [==============================] - 0s 2ms/step - loss: 7.3106 - mae: 7.3106\n",
      "Epoch 34/100\n",
      "1/1 [==============================] - 0s 2ms/step - loss: 7.3050 - mae: 7.3050\n",
      "Epoch 35/100\n",
      "1/1 [==============================] - 0s 2ms/step - loss: 7.2994 - mae: 7.2994\n",
      "Epoch 36/100\n",
      "1/1 [==============================] - 0s 2ms/step - loss: 7.2938 - mae: 7.2938\n",
      "Epoch 37/100\n",
      "1/1 [==============================] - 0s 2ms/step - loss: 7.2881 - mae: 7.2881\n",
      "Epoch 38/100\n",
      "1/1 [==============================] - 0s 2ms/step - loss: 7.2825 - mae: 7.2825\n",
      "Epoch 39/100\n",
      "1/1 [==============================] - 0s 2ms/step - loss: 7.2769 - mae: 7.2769\n",
      "Epoch 40/100\n",
      "1/1 [==============================] - 0s 2ms/step - loss: 7.2713 - mae: 7.2713\n",
      "Epoch 41/100\n",
      "1/1 [==============================] - 0s 2ms/step - loss: 7.2656 - mae: 7.2656\n",
      "Epoch 42/100\n",
      "1/1 [==============================] - 0s 2ms/step - loss: 7.2600 - mae: 7.2600\n",
      "Epoch 43/100\n",
      "1/1 [==============================] - 0s 2ms/step - loss: 7.2544 - mae: 7.2544\n",
      "Epoch 44/100\n",
      "1/1 [==============================] - 0s 2ms/step - loss: 7.2488 - mae: 7.2488\n",
      "Epoch 45/100\n",
      "1/1 [==============================] - 0s 2ms/step - loss: 7.2431 - mae: 7.2431\n",
      "Epoch 46/100\n",
      "1/1 [==============================] - 0s 2ms/step - loss: 7.2375 - mae: 7.2375\n",
      "Epoch 47/100\n",
      "1/1 [==============================] - 0s 1ms/step - loss: 7.2319 - mae: 7.2319\n",
      "Epoch 48/100\n",
      "1/1 [==============================] - 0s 2ms/step - loss: 7.2263 - mae: 7.2263\n",
      "Epoch 49/100\n",
      "1/1 [==============================] - 0s 2ms/step - loss: 7.2206 - mae: 7.2206\n",
      "Epoch 50/100\n",
      "1/1 [==============================] - 0s 1ms/step - loss: 7.2150 - mae: 7.2150\n",
      "Epoch 51/100\n",
      "1/1 [==============================] - 0s 1ms/step - loss: 7.2094 - mae: 7.2094\n",
      "Epoch 52/100\n",
      "1/1 [==============================] - 0s 2ms/step - loss: 7.2038 - mae: 7.2038\n",
      "Epoch 53/100\n",
      "1/1 [==============================] - 0s 2ms/step - loss: 7.1981 - mae: 7.1981\n",
      "Epoch 54/100\n",
      "1/1 [==============================] - 0s 1ms/step - loss: 7.1925 - mae: 7.1925\n",
      "Epoch 55/100\n",
      "1/1 [==============================] - 0s 2ms/step - loss: 7.1869 - mae: 7.1869\n",
      "Epoch 56/100\n",
      "1/1 [==============================] - 0s 2ms/step - loss: 7.1813 - mae: 7.1813\n",
      "Epoch 57/100\n",
      "1/1 [==============================] - 0s 2ms/step - loss: 7.1756 - mae: 7.1756\n",
      "Epoch 58/100\n",
      "1/1 [==============================] - 0s 2ms/step - loss: 7.1700 - mae: 7.1700\n",
      "Epoch 59/100\n",
      "1/1 [==============================] - 0s 2ms/step - loss: 7.1644 - mae: 7.1644\n",
      "Epoch 60/100\n",
      "1/1 [==============================] - 0s 2ms/step - loss: 7.1588 - mae: 7.1588\n",
      "Epoch 61/100\n",
      "1/1 [==============================] - 0s 2ms/step - loss: 7.1531 - mae: 7.1531\n",
      "Epoch 62/100\n",
      "1/1 [==============================] - 0s 2ms/step - loss: 7.1475 - mae: 7.1475\n",
      "Epoch 63/100\n",
      "1/1 [==============================] - 0s 2ms/step - loss: 7.1419 - mae: 7.1419\n",
      "Epoch 64/100\n",
      "1/1 [==============================] - 0s 2ms/step - loss: 7.1363 - mae: 7.1363\n",
      "Epoch 65/100\n",
      "1/1 [==============================] - 0s 2ms/step - loss: 7.1306 - mae: 7.1306\n",
      "Epoch 66/100\n",
      "1/1 [==============================] - 0s 2ms/step - loss: 7.1250 - mae: 7.1250\n",
      "Epoch 67/100\n",
      "1/1 [==============================] - 0s 2ms/step - loss: 7.1194 - mae: 7.1194\n",
      "Epoch 68/100\n",
      "1/1 [==============================] - 0s 2ms/step - loss: 7.1138 - mae: 7.1138\n",
      "Epoch 69/100\n",
      "1/1 [==============================] - 0s 2ms/step - loss: 7.1081 - mae: 7.1081\n",
      "Epoch 70/100\n",
      "1/1 [==============================] - 0s 2ms/step - loss: 7.1025 - mae: 7.1025\n",
      "Epoch 71/100\n",
      "1/1 [==============================] - 0s 2ms/step - loss: 7.0969 - mae: 7.0969\n",
      "Epoch 72/100\n",
      "1/1 [==============================] - 0s 2ms/step - loss: 7.0913 - mae: 7.0913\n",
      "Epoch 73/100\n",
      "1/1 [==============================] - 0s 2ms/step - loss: 7.0856 - mae: 7.0856\n",
      "Epoch 74/100\n",
      "1/1 [==============================] - 0s 2ms/step - loss: 7.0800 - mae: 7.0800\n",
      "Epoch 75/100\n",
      "1/1 [==============================] - 0s 2ms/step - loss: 7.0744 - mae: 7.0744\n",
      "Epoch 76/100\n",
      "1/1 [==============================] - 0s 2ms/step - loss: 7.0687 - mae: 7.0687\n",
      "Epoch 77/100\n",
      "1/1 [==============================] - 0s 2ms/step - loss: 7.0631 - mae: 7.0631\n",
      "Epoch 78/100\n",
      "1/1 [==============================] - 0s 2ms/step - loss: 7.0575 - mae: 7.0575\n",
      "Epoch 79/100\n",
      "1/1 [==============================] - 0s 2ms/step - loss: 7.0519 - mae: 7.0519\n",
      "Epoch 80/100\n",
      "1/1 [==============================] - 0s 2ms/step - loss: 7.0463 - mae: 7.0463\n",
      "Epoch 81/100\n",
      "1/1 [==============================] - 0s 2ms/step - loss: 7.0406 - mae: 7.0406\n",
      "Epoch 82/100\n",
      "1/1 [==============================] - 0s 2ms/step - loss: 7.0350 - mae: 7.0350\n",
      "Epoch 83/100\n",
      "1/1 [==============================] - 0s 2ms/step - loss: 7.0294 - mae: 7.0294\n",
      "Epoch 84/100\n",
      "1/1 [==============================] - 0s 2ms/step - loss: 7.0238 - mae: 7.0238\n",
      "Epoch 85/100\n",
      "1/1 [==============================] - 0s 2ms/step - loss: 7.0181 - mae: 7.0181\n",
      "Epoch 86/100\n",
      "1/1 [==============================] - 0s 2ms/step - loss: 7.0125 - mae: 7.0125\n",
      "Epoch 87/100\n",
      "1/1 [==============================] - 0s 2ms/step - loss: 7.0069 - mae: 7.0069\n",
      "Epoch 88/100\n",
      "1/1 [==============================] - 0s 2ms/step - loss: 7.0013 - mae: 7.0013\n",
      "Epoch 89/100\n",
      "1/1 [==============================] - 0s 2ms/step - loss: 6.9956 - mae: 6.9956\n",
      "Epoch 90/100\n",
      "1/1 [==============================] - 0s 2ms/step - loss: 6.9900 - mae: 6.9900\n",
      "Epoch 91/100\n",
      "1/1 [==============================] - 0s 2ms/step - loss: 6.9844 - mae: 6.9844\n",
      "Epoch 92/100\n",
      "1/1 [==============================] - 0s 2ms/step - loss: 6.9788 - mae: 6.9788\n",
      "Epoch 93/100\n",
      "1/1 [==============================] - 0s 1ms/step - loss: 6.9731 - mae: 6.9731\n",
      "Epoch 94/100\n",
      "1/1 [==============================] - 0s 1ms/step - loss: 6.9675 - mae: 6.9675\n",
      "Epoch 95/100\n",
      "1/1 [==============================] - 0s 1ms/step - loss: 6.9619 - mae: 6.9619\n",
      "Epoch 96/100\n",
      "1/1 [==============================] - 0s 1ms/step - loss: 6.9563 - mae: 6.9563\n",
      "Epoch 97/100\n",
      "1/1 [==============================] - 0s 1ms/step - loss: 6.9506 - mae: 6.9506\n",
      "Epoch 98/100\n",
      "1/1 [==============================] - 0s 1ms/step - loss: 6.9450 - mae: 6.9450\n",
      "Epoch 99/100\n",
      "1/1 [==============================] - 0s 2ms/step - loss: 6.9394 - mae: 6.9394\n",
      "Epoch 100/100\n",
      "1/1 [==============================] - 0s 2ms/step - loss: 6.9338 - mae: 6.9338\n"
     ]
    },
    {
     "data": {
      "text/plain": [
       "<keras.src.callbacks.History at 0x7fae10573510>"
      ]
     },
     "execution_count": 11,
     "metadata": {},
     "output_type": "execute_result"
    }
   ],
   "source": [
    "# Let's rebuild our model\n",
    "\n",
    "#1. Create the model\n",
    "model = tf.keras.Sequential([\n",
    "    tf.keras.layers.Dense(1)\n",
    "])\n",
    "\n",
    "# 2. Compile the model\n",
    "model.compile(loss=tf.keras.losses.mae,\n",
    "              optimizer=tf.keras.optimizers.SGD(),\n",
    "              metrics=[\"mae\"])\n",
    "\n",
    "# 3. Fit the model (this time we'll train longer)\n",
    "model.fit(tf.expand_dims(X, -1), y, epochs=100)"
   ]
  },
  {
   "cell_type": "code",
   "execution_count": 12,
   "metadata": {
    "ExecuteTime": {
     "end_time": "2023-08-31T11:28:48.730023Z",
     "start_time": "2023-08-31T11:28:48.536920Z"
    },
    "colab": {
     "base_uri": "https://localhost:8080/"
    },
    "id": "vkOqJ8Zq_USZ",
    "outputId": "523a6239-f35f-4f3a-9338-32811c3e161e"
   },
   "outputs": [
    {
     "data": {
      "text/plain": [
       "(<tf.Tensor: shape=(8,), dtype=float32, numpy=array([-7., -4., -1.,  2.,  5.,  8., 11., 14.], dtype=float32)>,\n",
       " <tf.Tensor: shape=(8,), dtype=float32, numpy=array([ 3.,  6.,  9., 12., 15., 18., 21., 24.], dtype=float32)>)"
      ]
     },
     "execution_count": 12,
     "metadata": {},
     "output_type": "execute_result"
    }
   ],
   "source": [
    "# Remind ourselfves of the data\n",
    "X, y"
   ]
  },
  {
   "cell_type": "code",
   "execution_count": 13,
   "metadata": {
    "ExecuteTime": {
     "end_time": "2023-08-31T11:28:48.812735Z",
     "start_time": "2023-08-31T11:28:48.541656Z"
    },
    "colab": {
     "base_uri": "https://localhost:8080/"
    },
    "id": "hWYBvb6TAUYk",
    "outputId": "69283431-44bf-4a53-d2f0-ea3c99ddcae6"
   },
   "outputs": [
    {
     "name": "stdout",
     "output_type": "stream",
     "text": [
      "1/1 [==============================] - 0s 24ms/step\n"
     ]
    },
    {
     "data": {
      "text/plain": [
       "array([[29.869497]], dtype=float32)"
      ]
     },
     "execution_count": 13,
     "metadata": {},
     "output_type": "execute_result"
    }
   ],
   "source": [
    "# Let's see if our model's prediction has improved\n",
    "model.predict([17.0])"
   ]
  },
  {
   "cell_type": "code",
   "execution_count": 14,
   "metadata": {
    "ExecuteTime": {
     "end_time": "2023-08-31T11:28:50.663177Z",
     "start_time": "2023-08-31T11:28:48.596707Z"
    },
    "colab": {
     "base_uri": "https://localhost:8080/"
    },
    "id": "L5ctm5LPAaSU",
    "outputId": "f9bdacbd-4403-4d62-8307-c6eedc61bbb9"
   },
   "outputs": [
    {
     "name": "stdout",
     "output_type": "stream",
     "text": [
      "Epoch 1/100\n",
      "1/1 [==============================] - 0s 242ms/step - loss: 12.3399 - mae: 12.3399\n",
      "Epoch 2/100\n",
      "1/1 [==============================] - 0s 2ms/step - loss: 11.7866 - mae: 11.7866\n",
      "Epoch 3/100\n",
      "1/1 [==============================] - 0s 2ms/step - loss: 11.2266 - mae: 11.2266\n",
      "Epoch 4/100\n",
      "1/1 [==============================] - 0s 2ms/step - loss: 10.6660 - mae: 10.6660\n",
      "Epoch 5/100\n",
      "1/1 [==============================] - 0s 2ms/step - loss: 10.0855 - mae: 10.0855\n",
      "Epoch 6/100\n",
      "1/1 [==============================] - 0s 2ms/step - loss: 9.4744 - mae: 9.4744\n",
      "Epoch 7/100\n",
      "1/1 [==============================] - 0s 2ms/step - loss: 8.8306 - mae: 8.8306\n",
      "Epoch 8/100\n",
      "1/1 [==============================] - 0s 2ms/step - loss: 8.1573 - mae: 8.1573\n",
      "Epoch 9/100\n",
      "1/1 [==============================] - 0s 2ms/step - loss: 7.4368 - mae: 7.4368\n",
      "Epoch 10/100\n",
      "1/1 [==============================] - 0s 2ms/step - loss: 6.6620 - mae: 6.6620\n",
      "Epoch 11/100\n",
      "1/1 [==============================] - 0s 2ms/step - loss: 5.8291 - mae: 5.8291\n",
      "Epoch 12/100\n",
      "1/1 [==============================] - 0s 2ms/step - loss: 4.9335 - mae: 4.9335\n",
      "Epoch 13/100\n",
      "1/1 [==============================] - 0s 3ms/step - loss: 4.1453 - mae: 4.1453\n",
      "Epoch 14/100\n",
      "1/1 [==============================] - 0s 2ms/step - loss: 4.0567 - mae: 4.0567\n",
      "Epoch 15/100\n",
      "1/1 [==============================] - 0s 3ms/step - loss: 3.9596 - mae: 3.9596\n",
      "Epoch 16/100\n",
      "1/1 [==============================] - 0s 3ms/step - loss: 3.9395 - mae: 3.9395\n",
      "Epoch 17/100\n",
      "1/1 [==============================] - 0s 2ms/step - loss: 3.9338 - mae: 3.9338\n",
      "Epoch 18/100\n",
      "1/1 [==============================] - 0s 2ms/step - loss: 3.9459 - mae: 3.9459\n",
      "Epoch 19/100\n",
      "1/1 [==============================] - 0s 3ms/step - loss: 3.9078 - mae: 3.9078\n",
      "Epoch 20/100\n",
      "1/1 [==============================] - 0s 2ms/step - loss: 3.9523 - mae: 3.9523\n",
      "Epoch 21/100\n",
      "1/1 [==============================] - 0s 2ms/step - loss: 3.8850 - mae: 3.8850\n",
      "Epoch 22/100\n",
      "1/1 [==============================] - 0s 2ms/step - loss: 3.9634 - mae: 3.9634\n",
      "Epoch 23/100\n",
      "1/1 [==============================] - 0s 3ms/step - loss: 3.9004 - mae: 3.9004\n",
      "Epoch 24/100\n",
      "1/1 [==============================] - 0s 2ms/step - loss: 3.9369 - mae: 3.9369\n",
      "Epoch 25/100\n",
      "1/1 [==============================] - 0s 3ms/step - loss: 3.9069 - mae: 3.9069\n",
      "Epoch 26/100\n",
      "1/1 [==============================] - 0s 2ms/step - loss: 3.9108 - mae: 3.9108\n",
      "Epoch 27/100\n",
      "1/1 [==============================] - 0s 3ms/step - loss: 3.9135 - mae: 3.9135\n",
      "Epoch 28/100\n",
      "1/1 [==============================] - 0s 2ms/step - loss: 3.8847 - mae: 3.8847\n",
      "Epoch 29/100\n",
      "1/1 [==============================] - 0s 3ms/step - loss: 3.9201 - mae: 3.9201\n",
      "Epoch 30/100\n",
      "1/1 [==============================] - 0s 2ms/step - loss: 3.8653 - mae: 3.8653\n",
      "Epoch 31/100\n",
      "1/1 [==============================] - 0s 2ms/step - loss: 3.9358 - mae: 3.9358\n",
      "Epoch 32/100\n",
      "1/1 [==============================] - 0s 2ms/step - loss: 3.8686 - mae: 3.8686\n",
      "Epoch 33/100\n",
      "1/1 [==============================] - 0s 2ms/step - loss: 3.9131 - mae: 3.9131\n",
      "Epoch 34/100\n",
      "1/1 [==============================] - 0s 2ms/step - loss: 3.8754 - mae: 3.8754\n",
      "Epoch 35/100\n",
      "1/1 [==============================] - 0s 2ms/step - loss: 3.8866 - mae: 3.8866\n",
      "Epoch 36/100\n"
     ]
    },
    {
     "name": "stderr",
     "output_type": "stream",
     "text": [
      "2023-09-07 21:55:20.233072: I tensorflow/compiler/xla/stream_executor/cuda/cuda_blas.cc:606] TensorFloat-32 will be used for the matrix multiplication. This will only be logged once.\n"
     ]
    },
    {
     "name": "stdout",
     "output_type": "stream",
     "text": [
      "1/1 [==============================] - 0s 3ms/step - loss: 3.8822 - mae: 3.8822\n",
      "Epoch 37/100\n",
      "1/1 [==============================] - 0s 2ms/step - loss: 3.8602 - mae: 3.8602\n",
      "Epoch 38/100\n",
      "1/1 [==============================] - 0s 3ms/step - loss: 3.8942 - mae: 3.8942\n",
      "Epoch 39/100\n",
      "1/1 [==============================] - 0s 2ms/step - loss: 3.8418 - mae: 3.8418\n",
      "Epoch 40/100\n",
      "1/1 [==============================] - 0s 2ms/step - loss: 3.9049 - mae: 3.9049\n",
      "Epoch 41/100\n",
      "1/1 [==============================] - 0s 3ms/step - loss: 3.8381 - mae: 3.8381\n",
      "Epoch 42/100\n",
      "1/1 [==============================] - 0s 2ms/step - loss: 3.8879 - mae: 3.8879\n",
      "Epoch 43/100\n",
      "1/1 [==============================] - 0s 3ms/step - loss: 3.8450 - mae: 3.8450\n",
      "Epoch 44/100\n",
      "1/1 [==============================] - 0s 2ms/step - loss: 3.8612 - mae: 3.8612\n",
      "Epoch 45/100\n",
      "1/1 [==============================] - 0s 2ms/step - loss: 3.8521 - mae: 3.8521\n",
      "Epoch 46/100\n",
      "1/1 [==============================] - 0s 2ms/step - loss: 3.8383 - mae: 3.8383\n",
      "Epoch 47/100\n",
      "1/1 [==============================] - 0s 2ms/step - loss: 3.8680 - mae: 3.8680\n",
      "Epoch 48/100\n",
      "1/1 [==============================] - 0s 2ms/step - loss: 3.8158 - mae: 3.8158\n",
      "Epoch 49/100\n",
      "1/1 [==============================] - 0s 2ms/step - loss: 3.8752 - mae: 3.8752\n",
      "Epoch 50/100\n",
      "1/1 [==============================] - 0s 2ms/step - loss: 3.8087 - mae: 3.8087\n",
      "Epoch 51/100\n",
      "1/1 [==============================] - 0s 2ms/step - loss: 3.8614 - mae: 3.8614\n",
      "Epoch 52/100\n",
      "1/1 [==============================] - 0s 2ms/step - loss: 3.8158 - mae: 3.8158\n",
      "Epoch 53/100\n",
      "1/1 [==============================] - 0s 3ms/step - loss: 3.8344 - mae: 3.8344\n",
      "Epoch 54/100\n",
      "1/1 [==============================] - 0s 2ms/step - loss: 3.8248 - mae: 3.8248\n",
      "Epoch 55/100\n",
      "1/1 [==============================] - 0s 2ms/step - loss: 3.8156 - mae: 3.8156\n",
      "Epoch 56/100\n",
      "1/1 [==============================] - 0s 2ms/step - loss: 3.8391 - mae: 3.8391\n",
      "Epoch 57/100\n",
      "1/1 [==============================] - 0s 2ms/step - loss: 3.7884 - mae: 3.7884\n",
      "Epoch 58/100\n",
      "1/1 [==============================] - 0s 2ms/step - loss: 3.8465 - mae: 3.8465\n",
      "Epoch 59/100\n",
      "1/1 [==============================] - 0s 2ms/step - loss: 3.7804 - mae: 3.7804\n",
      "Epoch 60/100\n",
      "1/1 [==============================] - 0s 2ms/step - loss: 3.8336 - mae: 3.8336\n",
      "Epoch 61/100\n",
      "1/1 [==============================] - 0s 2ms/step - loss: 3.7877 - mae: 3.7877\n",
      "Epoch 62/100\n",
      "1/1 [==============================] - 0s 3ms/step - loss: 3.8065 - mae: 3.8065\n",
      "Epoch 63/100\n",
      "1/1 [==============================] - 0s 2ms/step - loss: 3.8039 - mae: 3.8039\n",
      "Epoch 64/100\n",
      "1/1 [==============================] - 0s 3ms/step - loss: 3.7871 - mae: 3.7871\n",
      "Epoch 65/100\n",
      "1/1 [==============================] - 0s 2ms/step - loss: 3.8115 - mae: 3.8115\n",
      "Epoch 66/100\n",
      "1/1 [==============================] - 0s 2ms/step - loss: 3.7596 - mae: 3.7596\n",
      "Epoch 67/100\n",
      "1/1 [==============================] - 0s 2ms/step - loss: 3.8190 - mae: 3.8190\n",
      "Epoch 68/100\n",
      "1/1 [==============================] - 0s 2ms/step - loss: 3.7532 - mae: 3.7532\n",
      "Epoch 69/100\n",
      "1/1 [==============================] - 0s 2ms/step - loss: 3.8044 - mae: 3.8044\n",
      "Epoch 70/100\n",
      "1/1 [==============================] - 0s 2ms/step - loss: 3.7607 - mae: 3.7607\n",
      "Epoch 71/100\n",
      "1/1 [==============================] - 0s 3ms/step - loss: 3.7835 - mae: 3.7835\n",
      "Epoch 72/100\n",
      "1/1 [==============================] - 0s 2ms/step - loss: 3.7771 - mae: 3.7771\n",
      "Epoch 73/100\n",
      "1/1 [==============================] - 0s 2ms/step - loss: 3.7574 - mae: 3.7574\n",
      "Epoch 74/100\n",
      "1/1 [==============================] - 0s 2ms/step - loss: 3.7847 - mae: 3.7847\n",
      "Epoch 75/100\n",
      "1/1 [==============================] - 0s 2ms/step - loss: 3.7296 - mae: 3.7296\n",
      "Epoch 76/100\n",
      "1/1 [==============================] - 0s 2ms/step - loss: 3.7925 - mae: 3.7925\n",
      "Epoch 77/100\n",
      "1/1 [==============================] - 0s 2ms/step - loss: 3.7269 - mae: 3.7269\n",
      "Epoch 78/100\n",
      "1/1 [==============================] - 0s 2ms/step - loss: 3.7741 - mae: 3.7741\n",
      "Epoch 79/100\n",
      "1/1 [==============================] - 0s 2ms/step - loss: 3.7388 - mae: 3.7388\n",
      "Epoch 80/100\n",
      "1/1 [==============================] - 0s 2ms/step - loss: 3.7543 - mae: 3.7543\n",
      "Epoch 81/100\n",
      "1/1 [==============================] - 0s 2ms/step - loss: 3.7512 - mae: 3.7512\n",
      "Epoch 82/100\n",
      "1/1 [==============================] - 0s 2ms/step - loss: 3.7262 - mae: 3.7262\n",
      "Epoch 83/100\n",
      "1/1 [==============================] - 0s 2ms/step - loss: 3.7592 - mae: 3.7592\n",
      "Epoch 84/100\n",
      "1/1 [==============================] - 0s 2ms/step - loss: 3.6981 - mae: 3.6981\n",
      "Epoch 85/100\n",
      "1/1 [==============================] - 0s 2ms/step - loss: 3.7671 - mae: 3.7671\n",
      "Epoch 86/100\n",
      "1/1 [==============================] - 0s 2ms/step - loss: 3.7017 - mae: 3.7017\n",
      "Epoch 87/100\n",
      "1/1 [==============================] - 0s 2ms/step - loss: 3.7445 - mae: 3.7445\n",
      "Epoch 88/100\n",
      "1/1 [==============================] - 0s 2ms/step - loss: 3.7184 - mae: 3.7184\n",
      "Epoch 89/100\n",
      "1/1 [==============================] - 0s 2ms/step - loss: 3.7221 - mae: 3.7221\n",
      "Epoch 90/100\n",
      "1/1 [==============================] - 0s 2ms/step - loss: 3.7264 - mae: 3.7264\n",
      "Epoch 91/100\n",
      "1/1 [==============================] - 0s 2ms/step - loss: 3.6938 - mae: 3.6938\n",
      "Epoch 92/100\n",
      "1/1 [==============================] - 0s 2ms/step - loss: 3.7344 - mae: 3.7344\n",
      "Epoch 93/100\n",
      "1/1 [==============================] - 0s 2ms/step - loss: 3.6695 - mae: 3.6695\n",
      "Epoch 94/100\n",
      "1/1 [==============================] - 0s 2ms/step - loss: 3.7375 - mae: 3.7375\n",
      "Epoch 95/100\n",
      "1/1 [==============================] - 0s 2ms/step - loss: 3.6775 - mae: 3.6775\n",
      "Epoch 96/100\n",
      "1/1 [==============================] - 0s 2ms/step - loss: 3.7174 - mae: 3.7174\n",
      "Epoch 97/100\n",
      "1/1 [==============================] - 0s 3ms/step - loss: 3.6944 - mae: 3.6944\n",
      "Epoch 98/100\n",
      "1/1 [==============================] - 0s 3ms/step - loss: 3.6886 - mae: 3.6886\n",
      "Epoch 99/100\n",
      "1/1 [==============================] - 0s 2ms/step - loss: 3.7026 - mae: 3.7026\n",
      "Epoch 100/100\n",
      "1/1 [==============================] - 0s 2ms/step - loss: 3.6599 - mae: 3.6599\n"
     ]
    },
    {
     "data": {
      "text/plain": [
       "<keras.src.callbacks.History at 0x7fadec5fee10>"
      ]
     },
     "execution_count": 14,
     "metadata": {},
     "output_type": "execute_result"
    }
   ],
   "source": [
    "# Let's see if we can improve more\n",
    "\n",
    "#1. Create the model this time with an additional layer.\n",
    "model = tf.keras.Sequential([\n",
    "    tf.keras.layers.Dense(100, activation=\"relu\"),\n",
    "    tf.keras.layers.Dense(1),\n",
    "])\n",
    "\n",
    "# 2. Compile the model\n",
    "model.compile(loss=tf.keras.losses.mae,\n",
    "              optimizer=tf.keras.optimizers.SGD(),\n",
    "              metrics=[\"mae\"])\n",
    "\n",
    "# 3. Fit the model (this time we'll train longer)\n",
    "model.fit(tf.expand_dims(X, -1), y, epochs=100)"
   ]
  },
  {
   "cell_type": "code",
   "execution_count": 15,
   "metadata": {
    "ExecuteTime": {
     "end_time": "2023-08-31T11:28:50.858872Z",
     "start_time": "2023-08-31T11:28:50.463700Z"
    },
    "colab": {
     "base_uri": "https://localhost:8080/"
    },
    "id": "uhcDvBqBA3AZ",
    "outputId": "739013b8-b3b5-4302-d191-d84e6a2e892e"
   },
   "outputs": [
    {
     "name": "stdout",
     "output_type": "stream",
     "text": [
      "1/1 [==============================] - 0s 26ms/step\n"
     ]
    },
    {
     "data": {
      "text/plain": [
       "array([[32.833057]], dtype=float32)"
      ]
     },
     "execution_count": 15,
     "metadata": {},
     "output_type": "execute_result"
    }
   ],
   "source": [
    "model.predict([17.0])"
   ]
  },
  {
   "cell_type": "code",
   "execution_count": 16,
   "metadata": {
    "ExecuteTime": {
     "end_time": "2023-08-31T11:28:50.859077Z",
     "start_time": "2023-08-31T11:28:50.639184Z"
    },
    "colab": {
     "base_uri": "https://localhost:8080/"
    },
    "id": "UAgO1yOTCHTR",
    "outputId": "2be94cf6-0552-4f33-d771-53bd9a08fc20"
   },
   "outputs": [
    {
     "data": {
      "text/plain": [
       "(<tf.Tensor: shape=(8,), dtype=float32, numpy=array([-7., -4., -1.,  2.,  5.,  8., 11., 14.], dtype=float32)>,\n",
       " <tf.Tensor: shape=(8,), dtype=float32, numpy=array([ 3.,  6.,  9., 12., 15., 18., 21., 24.], dtype=float32)>)"
      ]
     },
     "execution_count": 16,
     "metadata": {},
     "output_type": "execute_result"
    }
   ],
   "source": [
    "# Remind ourselfves of the data\n",
    "X, y"
   ]
  },
  {
   "cell_type": "code",
   "execution_count": 17,
   "metadata": {
    "ExecuteTime": {
     "end_time": "2023-08-31T11:28:50.884766Z",
     "start_time": "2023-08-31T11:28:50.643791Z"
    },
    "colab": {
     "base_uri": "https://localhost:8080/"
    },
    "id": "0UlBuhnAA64E",
    "outputId": "5b85bf49-0d49-4d73-b11f-62f5a2f240d4"
   },
   "outputs": [
    {
     "name": "stdout",
     "output_type": "stream",
     "text": [
      "1/1 [==============================] - 0s 15ms/step\n"
     ]
    },
    {
     "data": {
      "text/plain": [
       "array([[2.0406964]], dtype=float32)"
      ]
     },
     "execution_count": 17,
     "metadata": {},
     "output_type": "execute_result"
    }
   ],
   "source": [
    "# Let's see if our model's prediction has improved\n",
    "model.predict([-4.0])"
   ]
  },
  {
   "cell_type": "code",
   "execution_count": 18,
   "metadata": {
    "ExecuteTime": {
     "end_time": "2023-08-31T11:28:52.526942Z",
     "start_time": "2023-08-31T11:28:50.686063Z"
    },
    "colab": {
     "base_uri": "https://localhost:8080/"
    },
    "id": "uwLbn_emCJib",
    "outputId": "8c1e4d5b-7dbc-4cdc-aeb7-edd5a7bfd383"
   },
   "outputs": [
    {
     "name": "stderr",
     "output_type": "stream",
     "text": [
      "WARNING:absl:`lr` is deprecated in Keras optimizer, please use `learning_rate` or use the legacy optimizer, e.g.,tf.keras.optimizers.legacy.Adam.\n"
     ]
    },
    {
     "name": "stdout",
     "output_type": "stream",
     "text": [
      "Epoch 1/100\n"
     ]
    },
    {
     "name": "stderr",
     "output_type": "stream",
     "text": [
      "2023-09-07 21:55:20.952560: I tensorflow/compiler/mlir/tensorflow/utils/dump_mlir_util.cc:255] disabling MLIR crash reproducer, set env var `MLIR_CRASH_REPRODUCER_DIRECTORY` to enable.\n"
     ]
    },
    {
     "name": "stdout",
     "output_type": "stream",
     "text": [
      "1/1 [==============================] - 0s 407ms/step - loss: 13.7678 - mae: 13.7678\n",
      "Epoch 2/100\n",
      "1/1 [==============================] - 0s 2ms/step - loss: 13.6940 - mae: 13.6940\n",
      "Epoch 3/100\n",
      "1/1 [==============================] - 0s 2ms/step - loss: 13.6202 - mae: 13.6202\n",
      "Epoch 4/100\n",
      "1/1 [==============================] - 0s 2ms/step - loss: 13.5465 - mae: 13.5465\n",
      "Epoch 5/100\n",
      "1/1 [==============================] - 0s 2ms/step - loss: 13.4728 - mae: 13.4728\n",
      "Epoch 6/100\n",
      "1/1 [==============================] - 0s 2ms/step - loss: 13.3991 - mae: 13.3991\n",
      "Epoch 7/100\n",
      "1/1 [==============================] - 0s 2ms/step - loss: 13.3255 - mae: 13.3255\n",
      "Epoch 8/100\n",
      "1/1 [==============================] - 0s 2ms/step - loss: 13.2519 - mae: 13.2519\n",
      "Epoch 9/100\n",
      "1/1 [==============================] - 0s 2ms/step - loss: 13.1784 - mae: 13.1784\n",
      "Epoch 10/100\n",
      "1/1 [==============================] - 0s 2ms/step - loss: 13.1049 - mae: 13.1049\n",
      "Epoch 11/100\n",
      "1/1 [==============================] - 0s 2ms/step - loss: 13.0314 - mae: 13.0314\n",
      "Epoch 12/100\n",
      "1/1 [==============================] - 0s 2ms/step - loss: 12.9579 - mae: 12.9579\n",
      "Epoch 13/100\n",
      "1/1 [==============================] - 0s 2ms/step - loss: 12.8845 - mae: 12.8845\n",
      "Epoch 14/100\n",
      "1/1 [==============================] - 0s 2ms/step - loss: 12.8112 - mae: 12.8112\n",
      "Epoch 15/100\n",
      "1/1 [==============================] - 0s 2ms/step - loss: 12.7378 - mae: 12.7378\n",
      "Epoch 16/100\n",
      "1/1 [==============================] - 0s 2ms/step - loss: 12.6645 - mae: 12.6645\n",
      "Epoch 17/100\n",
      "1/1 [==============================] - 0s 3ms/step - loss: 12.5912 - mae: 12.5912\n",
      "Epoch 18/100\n",
      "1/1 [==============================] - 0s 2ms/step - loss: 12.5179 - mae: 12.5179\n",
      "Epoch 19/100\n",
      "1/1 [==============================] - 0s 2ms/step - loss: 12.4446 - mae: 12.4446\n",
      "Epoch 20/100\n",
      "1/1 [==============================] - 0s 2ms/step - loss: 12.3714 - mae: 12.3714\n",
      "Epoch 21/100\n",
      "1/1 [==============================] - 0s 2ms/step - loss: 12.2981 - mae: 12.2981\n",
      "Epoch 22/100\n",
      "1/1 [==============================] - 0s 2ms/step - loss: 12.2249 - mae: 12.2249\n",
      "Epoch 23/100\n",
      "1/1 [==============================] - 0s 2ms/step - loss: 12.1516 - mae: 12.1516\n",
      "Epoch 24/100\n",
      "1/1 [==============================] - 0s 2ms/step - loss: 12.0784 - mae: 12.0784\n",
      "Epoch 25/100\n",
      "1/1 [==============================] - 0s 3ms/step - loss: 12.0051 - mae: 12.0051\n",
      "Epoch 26/100\n",
      "1/1 [==============================] - 0s 2ms/step - loss: 11.9318 - mae: 11.9318\n",
      "Epoch 27/100\n",
      "1/1 [==============================] - 0s 2ms/step - loss: 11.8585 - mae: 11.8585\n",
      "Epoch 28/100\n",
      "1/1 [==============================] - 0s 2ms/step - loss: 11.7851 - mae: 11.7851\n",
      "Epoch 29/100\n",
      "1/1 [==============================] - 0s 2ms/step - loss: 11.7117 - mae: 11.7117\n",
      "Epoch 30/100\n",
      "1/1 [==============================] - 0s 2ms/step - loss: 11.6382 - mae: 11.6382\n",
      "Epoch 31/100\n",
      "1/1 [==============================] - 0s 2ms/step - loss: 11.5647 - mae: 11.5647\n",
      "Epoch 32/100\n",
      "1/1 [==============================] - 0s 2ms/step - loss: 11.4911 - mae: 11.4911\n",
      "Epoch 33/100\n",
      "1/1 [==============================] - 0s 2ms/step - loss: 11.4175 - mae: 11.4175\n",
      "Epoch 34/100\n",
      "1/1 [==============================] - 0s 2ms/step - loss: 11.3437 - mae: 11.3437\n",
      "Epoch 35/100\n",
      "1/1 [==============================] - 0s 2ms/step - loss: 11.2699 - mae: 11.2699\n",
      "Epoch 36/100\n",
      "1/1 [==============================] - 0s 2ms/step - loss: 11.1960 - mae: 11.1960\n",
      "Epoch 37/100\n",
      "1/1 [==============================] - 0s 2ms/step - loss: 11.1219 - mae: 11.1219\n",
      "Epoch 38/100\n",
      "1/1 [==============================] - 0s 2ms/step - loss: 11.0478 - mae: 11.0478\n",
      "Epoch 39/100\n",
      "1/1 [==============================] - 0s 2ms/step - loss: 10.9735 - mae: 10.9735\n",
      "Epoch 40/100\n",
      "1/1 [==============================] - 0s 2ms/step - loss: 10.8991 - mae: 10.8991\n",
      "Epoch 41/100\n",
      "1/1 [==============================] - 0s 2ms/step - loss: 10.8245 - mae: 10.8245\n",
      "Epoch 42/100\n",
      "1/1 [==============================] - 0s 2ms/step - loss: 10.7498 - mae: 10.7498\n",
      "Epoch 43/100\n",
      "1/1 [==============================] - 0s 2ms/step - loss: 10.6750 - mae: 10.6750\n",
      "Epoch 44/100\n",
      "1/1 [==============================] - 0s 2ms/step - loss: 10.5999 - mae: 10.5999\n",
      "Epoch 45/100\n",
      "1/1 [==============================] - 0s 2ms/step - loss: 10.5247 - mae: 10.5247\n",
      "Epoch 46/100\n",
      "1/1 [==============================] - 0s 2ms/step - loss: 10.4494 - mae: 10.4494\n",
      "Epoch 47/100\n",
      "1/1 [==============================] - 0s 2ms/step - loss: 10.3738 - mae: 10.3738\n",
      "Epoch 48/100\n",
      "1/1 [==============================] - 0s 2ms/step - loss: 10.2980 - mae: 10.2980\n",
      "Epoch 49/100\n",
      "1/1 [==============================] - 0s 2ms/step - loss: 10.2220 - mae: 10.2220\n",
      "Epoch 50/100\n",
      "1/1 [==============================] - 0s 2ms/step - loss: 10.1458 - mae: 10.1458\n",
      "Epoch 51/100\n",
      "1/1 [==============================] - 0s 2ms/step - loss: 10.0694 - mae: 10.0694\n",
      "Epoch 52/100\n",
      "1/1 [==============================] - 0s 2ms/step - loss: 9.9928 - mae: 9.9928\n",
      "Epoch 53/100\n",
      "1/1 [==============================] - 0s 2ms/step - loss: 9.9159 - mae: 9.9159\n",
      "Epoch 54/100\n",
      "1/1 [==============================] - 0s 2ms/step - loss: 9.8388 - mae: 9.8388\n",
      "Epoch 55/100\n",
      "1/1 [==============================] - 0s 2ms/step - loss: 9.7614 - mae: 9.7614\n",
      "Epoch 56/100\n",
      "1/1 [==============================] - 0s 2ms/step - loss: 9.6838 - mae: 9.6838\n",
      "Epoch 57/100\n",
      "1/1 [==============================] - 0s 2ms/step - loss: 9.6059 - mae: 9.6059\n",
      "Epoch 58/100\n",
      "1/1 [==============================] - 0s 2ms/step - loss: 9.5277 - mae: 9.5277\n",
      "Epoch 59/100\n",
      "1/1 [==============================] - 0s 2ms/step - loss: 9.4493 - mae: 9.4493\n",
      "Epoch 60/100\n",
      "1/1 [==============================] - 0s 2ms/step - loss: 9.3705 - mae: 9.3705\n",
      "Epoch 61/100\n",
      "1/1 [==============================] - 0s 2ms/step - loss: 9.2915 - mae: 9.2915\n",
      "Epoch 62/100\n",
      "1/1 [==============================] - 0s 2ms/step - loss: 9.2122 - mae: 9.2122\n",
      "Epoch 63/100\n",
      "1/1 [==============================] - 0s 2ms/step - loss: 9.1326 - mae: 9.1326\n",
      "Epoch 64/100\n",
      "1/1 [==============================] - 0s 2ms/step - loss: 9.0527 - mae: 9.0527\n",
      "Epoch 65/100\n",
      "1/1 [==============================] - 0s 2ms/step - loss: 8.9724 - mae: 8.9724\n",
      "Epoch 66/100\n",
      "1/1 [==============================] - 0s 2ms/step - loss: 8.8919 - mae: 8.8919\n",
      "Epoch 67/100\n",
      "1/1 [==============================] - 0s 2ms/step - loss: 8.8110 - mae: 8.8110\n",
      "Epoch 68/100\n",
      "1/1 [==============================] - 0s 2ms/step - loss: 8.7297 - mae: 8.7297\n",
      "Epoch 69/100\n",
      "1/1 [==============================] - 0s 2ms/step - loss: 8.6482 - mae: 8.6482\n",
      "Epoch 70/100\n",
      "1/1 [==============================] - 0s 2ms/step - loss: 8.5663 - mae: 8.5663\n",
      "Epoch 71/100\n",
      "1/1 [==============================] - 0s 2ms/step - loss: 8.4840 - mae: 8.4840\n",
      "Epoch 72/100\n",
      "1/1 [==============================] - 0s 2ms/step - loss: 8.4014 - mae: 8.4014\n",
      "Epoch 73/100\n",
      "1/1 [==============================] - 0s 2ms/step - loss: 8.3185 - mae: 8.3185\n",
      "Epoch 74/100\n",
      "1/1 [==============================] - 0s 2ms/step - loss: 8.2352 - mae: 8.2352\n",
      "Epoch 75/100\n",
      "1/1 [==============================] - 0s 2ms/step - loss: 8.1515 - mae: 8.1515\n",
      "Epoch 76/100\n",
      "1/1 [==============================] - 0s 2ms/step - loss: 8.0674 - mae: 8.0674\n",
      "Epoch 77/100\n",
      "1/1 [==============================] - 0s 2ms/step - loss: 7.9830 - mae: 7.9830\n",
      "Epoch 78/100\n",
      "1/1 [==============================] - 0s 2ms/step - loss: 7.8981 - mae: 7.8981\n",
      "Epoch 79/100\n",
      "1/1 [==============================] - 0s 2ms/step - loss: 7.8129 - mae: 7.8129\n",
      "Epoch 80/100\n",
      "1/1 [==============================] - 0s 2ms/step - loss: 7.7273 - mae: 7.7273\n",
      "Epoch 81/100\n",
      "1/1 [==============================] - 0s 2ms/step - loss: 7.6413 - mae: 7.6413\n",
      "Epoch 82/100\n",
      "1/1 [==============================] - 0s 2ms/step - loss: 7.5549 - mae: 7.5549\n",
      "Epoch 83/100\n",
      "1/1 [==============================] - 0s 2ms/step - loss: 7.4681 - mae: 7.4681\n",
      "Epoch 84/100\n",
      "1/1 [==============================] - 0s 1ms/step - loss: 7.3809 - mae: 7.3809\n",
      "Epoch 85/100\n",
      "1/1 [==============================] - 0s 2ms/step - loss: 7.2932 - mae: 7.2932\n",
      "Epoch 86/100\n",
      "1/1 [==============================] - 0s 2ms/step - loss: 7.2052 - mae: 7.2052\n",
      "Epoch 87/100\n",
      "1/1 [==============================] - 0s 2ms/step - loss: 7.1167 - mae: 7.1167\n",
      "Epoch 88/100\n",
      "1/1 [==============================] - 0s 2ms/step - loss: 7.0278 - mae: 7.0278\n",
      "Epoch 89/100\n",
      "1/1 [==============================] - 0s 2ms/step - loss: 6.9384 - mae: 6.9384\n",
      "Epoch 90/100\n",
      "1/1 [==============================] - 0s 2ms/step - loss: 6.8486 - mae: 6.8486\n",
      "Epoch 91/100\n",
      "1/1 [==============================] - 0s 2ms/step - loss: 6.7584 - mae: 6.7584\n",
      "Epoch 92/100\n",
      "1/1 [==============================] - 0s 2ms/step - loss: 6.7234 - mae: 6.7234\n",
      "Epoch 93/100\n",
      "1/1 [==============================] - 0s 2ms/step - loss: 6.7128 - mae: 6.7128\n",
      "Epoch 94/100\n",
      "1/1 [==============================] - 0s 2ms/step - loss: 6.7024 - mae: 6.7024\n",
      "Epoch 95/100\n",
      "1/1 [==============================] - 0s 2ms/step - loss: 6.6922 - mae: 6.6922\n",
      "Epoch 96/100\n",
      "1/1 [==============================] - 0s 2ms/step - loss: 6.6822 - mae: 6.6822\n",
      "Epoch 97/100\n",
      "1/1 [==============================] - 0s 2ms/step - loss: 6.6724 - mae: 6.6724\n",
      "Epoch 98/100\n",
      "1/1 [==============================] - 0s 2ms/step - loss: 6.6627 - mae: 6.6627\n",
      "Epoch 99/100\n",
      "1/1 [==============================] - 0s 2ms/step - loss: 6.6531 - mae: 6.6531\n",
      "Epoch 100/100\n",
      "1/1 [==============================] - 0s 2ms/step - loss: 6.6437 - mae: 6.6437\n"
     ]
    },
    {
     "data": {
      "text/plain": [
       "<keras.src.callbacks.History at 0x7fadec5efd90>"
      ]
     },
     "execution_count": 18,
     "metadata": {},
     "output_type": "execute_result"
    }
   ],
   "source": [
    " # Let's see if we can improve more\n",
    "#1. Create the model this time with an additional layer.\n",
    "model = tf.keras.Sequential([\n",
    "    tf.keras.layers.Dense(50, activation=None),\n",
    "    tf.keras.layers.Dense(1),\n",
    "])\n",
    "# 2. Compile the model\n",
    "model.compile(loss=tf.keras.losses.mae,\n",
    "              optimizer=tf.keras.optimizers.Adam(lr=0.01),\n",
    "              metrics=[\"mae\"])\n",
    "# 3. Fit the model (this time we'll train longer)\n",
    "model.fit(tf.expand_dims(X, -1), y, epochs=100)"
   ]
  },
  {
   "cell_type": "code",
   "execution_count": 19,
   "metadata": {
    "ExecuteTime": {
     "end_time": "2023-08-31T11:28:52.645941Z",
     "start_time": "2023-08-31T11:28:52.365161Z"
    },
    "colab": {
     "base_uri": "https://localhost:8080/"
    },
    "id": "nGawIOdNElYW",
    "outputId": "e4ff48fc-499b-44c8-f62e-1061f3cbf490"
   },
   "outputs": [
    {
     "name": "stdout",
     "output_type": "stream",
     "text": [
      "1/1 [==============================] - 0s 26ms/step\n"
     ]
    },
    {
     "data": {
      "text/plain": [
       "array([[31.453918]], dtype=float32)"
      ]
     },
     "execution_count": 19,
     "metadata": {},
     "output_type": "execute_result"
    }
   ],
   "source": [
    "model.predict([17.0])"
   ]
  },
  {
   "cell_type": "markdown",
   "metadata": {
    "id": "ETqHqN-cE0nE"
   },
   "source": [
    "### Evaluate the model"
   ]
  },
  {
   "cell_type": "markdown",
   "metadata": {
    "id": "aTh1y8P5GF7e"
   },
   "source": [
    "When it comes to evaluation... there are 3 words you should memorize:\n",
    "\n",
    "\"Visualize, visualize, visualize\"\n",
    "\n",
    "It's a good idea to visualize:\n",
    "\n",
    "* The data - what data are we working with? What does it look like?\n",
    "* The model itself - what does our model look like?\n",
    "* The training of a model - how does a model perform while it learns?\n",
    "* The predictions of the model - how do the predictions of a model line up against the ground truth (the original labels)"
   ]
  },
  {
   "cell_type": "code",
   "execution_count": 20,
   "metadata": {
    "ExecuteTime": {
     "end_time": "2023-08-31T11:28:52.646160Z",
     "start_time": "2023-08-31T11:28:52.434892Z"
    },
    "colab": {
     "base_uri": "https://localhost:8080/"
    },
    "id": "lCL2ADmLG58r",
    "outputId": "18a17a24-92cf-425d-d424-5058166710b5"
   },
   "outputs": [
    {
     "data": {
      "text/plain": [
       "<tf.Tensor: shape=(50,), dtype=int32, numpy=\n",
       "array([-100,  -96,  -92,  -88,  -84,  -80,  -76,  -72,  -68,  -64,  -60,\n",
       "        -56,  -52,  -48,  -44,  -40,  -36,  -32,  -28,  -24,  -20,  -16,\n",
       "        -12,   -8,   -4,    0,    4,    8,   12,   16,   20,   24,   28,\n",
       "         32,   36,   40,   44,   48,   52,   56,   60,   64,   68,   72,\n",
       "         76,   80,   84,   88,   92,   96], dtype=int32)>"
      ]
     },
     "execution_count": 20,
     "metadata": {},
     "output_type": "execute_result"
    }
   ],
   "source": [
    "# Make a bigger dataset\n",
    "X = tf.range(-100, 100, 4)\n",
    "X\n",
    "\n"
   ]
  },
  {
   "cell_type": "code",
   "execution_count": 21,
   "metadata": {
    "ExecuteTime": {
     "end_time": "2023-08-31T11:28:52.649009Z",
     "start_time": "2023-08-31T11:28:52.447636Z"
    },
    "colab": {
     "base_uri": "https://localhost:8080/"
    },
    "id": "xIi1DGc0Hhzo",
    "outputId": "8cfdb20d-86d8-4400-feb9-4391d16680b7"
   },
   "outputs": [
    {
     "data": {
      "text/plain": [
       "<tf.Tensor: shape=(50,), dtype=int32, numpy=\n",
       "array([-90, -86, -82, -78, -74, -70, -66, -62, -58, -54, -50, -46, -42,\n",
       "       -38, -34, -30, -26, -22, -18, -14, -10,  -6,  -2,   2,   6,  10,\n",
       "        14,  18,  22,  26,  30,  34,  38,  42,  46,  50,  54,  58,  62,\n",
       "        66,  70,  74,  78,  82,  86,  90,  94,  98, 102, 106], dtype=int32)>"
      ]
     },
     "execution_count": 21,
     "metadata": {},
     "output_type": "execute_result"
    }
   ],
   "source": [
    "# MAke labels for the dataset\n",
    "y = X + 10\n",
    "y"
   ]
  },
  {
   "cell_type": "code",
   "execution_count": 22,
   "metadata": {
    "ExecuteTime": {
     "end_time": "2023-08-31T11:28:52.771649Z",
     "start_time": "2023-08-31T11:28:52.453685Z"
    },
    "colab": {
     "base_uri": "https://localhost:8080/",
     "height": 282
    },
    "id": "xpfcxCKFIeB0",
    "outputId": "bef99b96-1866-4501-c765-0ad8f7466f7d"
   },
   "outputs": [
    {
     "data": {
      "text/plain": [
       "<matplotlib.collections.PathCollection at 0x7fadec297290>"
      ]
     },
     "execution_count": 22,
     "metadata": {},
     "output_type": "execute_result"
    },
    {
     "data": {
      "image/png": "[encoded data removed]",
      "text/plain": [
       "<Figure size 640x480 with 1 Axes>"
      ]
     },
     "metadata": {},
     "output_type": "display_data"
    }
   ],
   "source": [
    "# Visualize the data\n",
    "import matplotlib.pyplot\n",
    "\n",
    "plt.scatter(X, y)"
   ]
  },
  {
   "cell_type": "markdown",
   "metadata": {
    "id": "Mn3UzRUUIlEl"
   },
   "source": [
    "### The 3 sets...\n",
    "\n",
    "* Training set - the model learns from this data, which is typically 70-80% of the total data you have available.\n",
    "* Validation set - the model gets tuned from this data, which is typically 10-15% of the data available.\n",
    "* Test set - the model gets evaluated on this data to test what is has learned, thsi set is typically 10-15% of the total data available.\n"
   ]
  },
  {
   "cell_type": "code",
   "execution_count": 23,
   "metadata": {
    "ExecuteTime": {
     "end_time": "2023-08-31T11:28:52.771854Z",
     "start_time": "2023-08-31T11:28:52.540104Z"
    },
    "colab": {
     "base_uri": "https://localhost:8080/"
    },
    "id": "Ol6w4LgSJ7YA",
    "outputId": "c8f87a50-b4ac-4b19-89f8-0d06813f24bb"
   },
   "outputs": [
    {
     "data": {
      "text/plain": [
       "50"
      ]
     },
     "execution_count": 23,
     "metadata": {},
     "output_type": "execute_result"
    }
   ],
   "source": [
    "# Check the length of how many samples we have\n",
    "len(X)"
   ]
  },
  {
   "cell_type": "code",
   "execution_count": 24,
   "metadata": {
    "ExecuteTime": {
     "end_time": "2023-08-31T11:28:52.771970Z",
     "start_time": "2023-08-31T11:28:52.543590Z"
    },
    "colab": {
     "base_uri": "https://localhost:8080/"
    },
    "id": "A0glXB9KKWmA",
    "outputId": "5589f488-e620-4d38-8482-fecb5a5f35bb"
   },
   "outputs": [
    {
     "data": {
      "text/plain": [
       "(40, 10, 40, 10)"
      ]
     },
     "execution_count": 24,
     "metadata": {},
     "output_type": "execute_result"
    }
   ],
   "source": [
    "# Split the data into train and test sets\n",
    "X_train = X[:40] # first 40 are training samples (80%)\n",
    "y_train = y[:40] \n",
    "\n",
    "X_test = X[40:] # last 10 are testing samples (20%)\n",
    "y_test = y[40:]\n",
    "\n",
    "len(X_train), len(X_test), len(y_train), len(y_test)"
   ]
  },
  {
   "cell_type": "markdown",
   "metadata": {
    "id": "V9wOapwaLBkd"
   },
   "source": [
    "### Visualising the data\n",
    "\n",
    "Now we've got our data in training and test sets... let's visualize it again!"
   ]
  },
  {
   "cell_type": "code",
   "execution_count": 25,
   "metadata": {
    "ExecuteTime": {
     "end_time": "2023-08-31T11:28:52.808841Z",
     "start_time": "2023-08-31T11:28:52.549243Z"
    },
    "colab": {
     "base_uri": "https://localhost:8080/",
     "height": 428
    },
    "id": "xsfUGDgbLccE",
    "outputId": "b146e7eb-627b-4974-95de-834c782b273e"
   },
   "outputs": [
    {
     "data": {
      "image/png": "[encoded data removed]",
      "text/plain": [
       "<Figure size 1000x700 with 1 Axes>"
      ]
     },
     "metadata": {},
     "output_type": "display_data"
    }
   ],
   "source": [
    "plt.figure(figsize=(10, 7))\n",
    "# Plot training data in blue\n",
    "plt.scatter(X_train, y_train, c=\"b\", label=\"Training data\")\n",
    "plt.scatter(X_test, y_test, c=\"g\", label=\"Test data\")\n",
    "plt.legend();\n"
   ]
  },
  {
   "cell_type": "code",
   "execution_count": 26,
   "metadata": {
    "ExecuteTime": {
     "end_time": "2023-08-31T11:30:09.022434Z",
     "start_time": "2023-08-31T11:30:07.170681Z"
    },
    "id": "_bNx2ZDyLs8d"
   },
   "outputs": [
    {
     "name": "stdout",
     "output_type": "stream",
     "text": [
      "Epoch 1/100\n",
      "2/2 [==============================] - 0s 2ms/step - loss: 84.2802 - mae: 84.2802\n",
      "Epoch 2/100\n",
      "2/2 [==============================] - 0s 1ms/step - loss: 48.8247 - mae: 48.8247\n",
      "Epoch 3/100\n",
      "2/2 [==============================] - 0s 1ms/step - loss: 14.3459 - mae: 14.3459\n",
      "Epoch 4/100\n",
      "2/2 [==============================] - 0s 1ms/step - loss: 7.7549 - mae: 7.7549\n",
      "Epoch 5/100\n",
      "2/2 [==============================] - 0s 1ms/step - loss: 9.8264 - mae: 9.8264\n",
      "Epoch 6/100\n",
      "2/2 [==============================] - 0s 1ms/step - loss: 9.1382 - mae: 9.1382\n",
      "Epoch 7/100\n",
      "2/2 [==============================] - 0s 1ms/step - loss: 9.5509 - mae: 9.5509\n",
      "Epoch 8/100\n",
      "2/2 [==============================] - 0s 1ms/step - loss: 9.0379 - mae: 9.0379\n",
      "Epoch 9/100\n",
      "2/2 [==============================] - 0s 1ms/step - loss: 17.7865 - mae: 17.7865\n",
      "Epoch 10/100\n",
      "2/2 [==============================] - 0s 1ms/step - loss: 9.5957 - mae: 9.5957\n",
      "Epoch 11/100\n",
      "2/2 [==============================] - 0s 2ms/step - loss: 8.2118 - mae: 8.2118\n",
      "Epoch 12/100\n",
      "2/2 [==============================] - 0s 1ms/step - loss: 10.2771 - mae: 10.2771\n",
      "Epoch 13/100\n",
      "2/2 [==============================] - 0s 1ms/step - loss: 12.0020 - mae: 12.0020\n",
      "Epoch 14/100\n",
      "2/2 [==============================] - 0s 2ms/step - loss: 14.0199 - mae: 14.0199\n",
      "Epoch 15/100\n",
      "2/2 [==============================] - 0s 1ms/step - loss: 11.4159 - mae: 11.4159\n",
      "Epoch 16/100\n",
      "2/2 [==============================] - 0s 1ms/step - loss: 8.5650 - mae: 8.5650\n",
      "Epoch 17/100\n",
      "2/2 [==============================] - 0s 2ms/step - loss: 13.6676 - mae: 13.6676\n",
      "Epoch 18/100\n",
      "2/2 [==============================] - 0s 1ms/step - loss: 11.4976 - mae: 11.4976\n",
      "Epoch 19/100\n",
      "2/2 [==============================] - 0s 1ms/step - loss: 17.9204 - mae: 17.9204\n",
      "Epoch 20/100\n",
      "2/2 [==============================] - 0s 2ms/step - loss: 15.0551 - mae: 15.0551\n",
      "Epoch 21/100\n",
      "2/2 [==============================] - 0s 1ms/step - loss: 10.9226 - mae: 10.9226\n",
      "Epoch 22/100\n",
      "2/2 [==============================] - 0s 1ms/step - loss: 8.6811 - mae: 8.6811\n",
      "Epoch 23/100\n",
      "2/2 [==============================] - 0s 2ms/step - loss: 9.6907 - mae: 9.6907\n",
      "Epoch 24/100\n",
      "2/2 [==============================] - 0s 1ms/step - loss: 8.5998 - mae: 8.5998\n",
      "Epoch 25/100\n",
      "2/2 [==============================] - 0s 1ms/step - loss: 11.5847 - mae: 11.5847\n",
      "Epoch 26/100\n",
      "2/2 [==============================] - 0s 2ms/step - loss: 15.1909 - mae: 15.1909\n",
      "Epoch 27/100\n",
      "2/2 [==============================] - 0s 1ms/step - loss: 12.0776 - mae: 12.0776\n",
      "Epoch 28/100\n",
      "2/2 [==============================] - 0s 1ms/step - loss: 13.3736 - mae: 13.3736\n",
      "Epoch 29/100\n",
      "2/2 [==============================] - 0s 1ms/step - loss: 9.6245 - mae: 9.6245\n",
      "Epoch 30/100\n",
      "2/2 [==============================] - 0s 1ms/step - loss: 17.1579 - mae: 17.1579\n",
      "Epoch 31/100\n",
      "2/2 [==============================] - 0s 2ms/step - loss: 22.9184 - mae: 22.9184\n",
      "Epoch 32/100\n",
      "2/2 [==============================] - 0s 1ms/step - loss: 7.9386 - mae: 7.9386\n",
      "Epoch 33/100\n",
      "2/2 [==============================] - 0s 2ms/step - loss: 14.1253 - mae: 14.1253\n",
      "Epoch 34/100\n",
      "2/2 [==============================] - 0s 1ms/step - loss: 12.3665 - mae: 12.3665\n",
      "Epoch 35/100\n",
      "2/2 [==============================] - 0s 2ms/step - loss: 8.2914 - mae: 8.2914\n",
      "Epoch 36/100\n",
      "2/2 [==============================] - 0s 1ms/step - loss: 10.5189 - mae: 10.5189\n",
      "Epoch 37/100\n",
      "2/2 [==============================] - 0s 2ms/step - loss: 10.1607 - mae: 10.1607\n",
      "Epoch 38/100\n",
      "2/2 [==============================] - 0s 1ms/step - loss: 11.3651 - mae: 11.3651\n",
      "Epoch 39/100\n",
      "2/2 [==============================] - 0s 1ms/step - loss: 14.7494 - mae: 14.7494\n",
      "Epoch 40/100\n",
      "2/2 [==============================] - 0s 2ms/step - loss: 12.8798 - mae: 12.8798\n",
      "Epoch 41/100\n",
      "2/2 [==============================] - 0s 1ms/step - loss: 9.2678 - mae: 9.2678\n",
      "Epoch 42/100\n",
      "2/2 [==============================] - 0s 1ms/step - loss: 11.0423 - mae: 11.0423\n",
      "Epoch 43/100\n",
      "2/2 [==============================] - 0s 1ms/step - loss: 8.3581 - mae: 8.3581\n",
      "Epoch 44/100\n",
      "2/2 [==============================] - 0s 1ms/step - loss: 13.0909 - mae: 13.0909\n",
      "Epoch 45/100\n",
      "2/2 [==============================] - 0s 1ms/step - loss: 13.6668 - mae: 13.6668\n",
      "Epoch 46/100\n",
      "2/2 [==============================] - 0s 2ms/step - loss: 8.2930 - mae: 8.2930\n",
      "Epoch 47/100\n",
      "2/2 [==============================] - 0s 1ms/step - loss: 8.7571 - mae: 8.7571\n",
      "Epoch 48/100\n",
      "2/2 [==============================] - 0s 1ms/step - loss: 10.0611 - mae: 10.0611\n",
      "Epoch 49/100\n",
      "2/2 [==============================] - 0s 2ms/step - loss: 8.5423 - mae: 8.5423\n",
      "Epoch 50/100\n",
      "2/2 [==============================] - 0s 1ms/step - loss: 9.0492 - mae: 9.0492\n",
      "Epoch 51/100\n",
      "2/2 [==============================] - 0s 1ms/step - loss: 9.4007 - mae: 9.4007\n",
      "Epoch 52/100\n",
      "2/2 [==============================] - 0s 1ms/step - loss: 14.2122 - mae: 14.2122\n",
      "Epoch 53/100\n",
      "2/2 [==============================] - 0s 1ms/step - loss: 14.8828 - mae: 14.8828\n",
      "Epoch 54/100\n",
      "2/2 [==============================] - 0s 1ms/step - loss: 14.8184 - mae: 14.8184\n",
      "Epoch 55/100\n",
      "2/2 [==============================] - 0s 2ms/step - loss: 12.6005 - mae: 12.6005\n",
      "Epoch 56/100\n",
      "2/2 [==============================] - 0s 1ms/step - loss: 7.6040 - mae: 7.6040\n",
      "Epoch 57/100\n",
      "2/2 [==============================] - 0s 1ms/step - loss: 8.8254 - mae: 8.8254\n",
      "Epoch 58/100\n",
      "2/2 [==============================] - 0s 1ms/step - loss: 8.4094 - mae: 8.4094\n",
      "Epoch 59/100\n",
      "2/2 [==============================] - 0s 1ms/step - loss: 9.2086 - mae: 9.2086\n",
      "Epoch 60/100\n",
      "2/2 [==============================] - 0s 1ms/step - loss: 9.1484 - mae: 9.1484\n",
      "Epoch 61/100\n",
      "2/2 [==============================] - 0s 2ms/step - loss: 10.6945 - mae: 10.6945\n",
      "Epoch 62/100\n",
      "2/2 [==============================] - 0s 1ms/step - loss: 7.4547 - mae: 7.4547\n",
      "Epoch 63/100\n",
      "2/2 [==============================] - 0s 1ms/step - loss: 10.5356 - mae: 10.5356\n",
      "Epoch 64/100\n",
      "2/2 [==============================] - 0s 2ms/step - loss: 12.1336 - mae: 12.1336\n",
      "Epoch 65/100\n",
      "2/2 [==============================] - 0s 2ms/step - loss: 9.4678 - mae: 9.4678\n",
      "Epoch 66/100\n",
      "2/2 [==============================] - 0s 1ms/step - loss: 11.5371 - mae: 11.5371\n",
      "Epoch 67/100\n",
      "2/2 [==============================] - 0s 2ms/step - loss: 8.0539 - mae: 8.0539\n",
      "Epoch 68/100\n",
      "2/2 [==============================] - 0s 1ms/step - loss: 8.5838 - mae: 8.5838\n",
      "Epoch 69/100\n",
      "2/2 [==============================] - 0s 1ms/step - loss: 12.2642 - mae: 12.2642\n",
      "Epoch 70/100\n",
      "2/2 [==============================] - 0s 2ms/step - loss: 8.9736 - mae: 8.9736\n",
      "Epoch 71/100\n",
      "2/2 [==============================] - 0s 1ms/step - loss: 9.9478 - mae: 9.9478\n",
      "Epoch 72/100\n",
      "2/2 [==============================] - 0s 1ms/step - loss: 9.9875 - mae: 9.9875\n",
      "Epoch 73/100\n",
      "2/2 [==============================] - 0s 1ms/step - loss: 12.4500 - mae: 12.4500\n",
      "Epoch 74/100\n",
      "2/2 [==============================] - 0s 2ms/step - loss: 10.5981 - mae: 10.5981\n",
      "Epoch 75/100\n",
      "2/2 [==============================] - 0s 1ms/step - loss: 9.6454 - mae: 9.6454\n",
      "Epoch 76/100\n",
      "2/2 [==============================] - 0s 1ms/step - loss: 11.1108 - mae: 11.1108\n",
      "Epoch 77/100\n",
      "2/2 [==============================] - 0s 1ms/step - loss: 8.2932 - mae: 8.2932\n",
      "Epoch 78/100\n",
      "2/2 [==============================] - 0s 2ms/step - loss: 8.9827 - mae: 8.9827\n",
      "Epoch 79/100\n",
      "2/2 [==============================] - 0s 1ms/step - loss: 19.8088 - mae: 19.8088\n",
      "Epoch 80/100\n",
      "2/2 [==============================] - 0s 1ms/step - loss: 17.8193 - mae: 17.8193\n",
      "Epoch 81/100\n",
      "2/2 [==============================] - 0s 1ms/step - loss: 7.1021 - mae: 7.1021\n",
      "Epoch 82/100\n",
      "2/2 [==============================] - 0s 1ms/step - loss: 10.4229 - mae: 10.4229\n",
      "Epoch 83/100\n",
      "2/2 [==============================] - 0s 2ms/step - loss: 9.8454 - mae: 9.8454\n",
      "Epoch 84/100\n",
      "2/2 [==============================] - 0s 1ms/step - loss: 7.9578 - mae: 7.9578\n",
      "Epoch 85/100\n",
      "2/2 [==============================] - 0s 2ms/step - loss: 9.4676 - mae: 9.4676\n",
      "Epoch 86/100\n",
      "2/2 [==============================] - 0s 1ms/step - loss: 9.5110 - mae: 9.5110\n",
      "Epoch 87/100\n",
      "2/2 [==============================] - 0s 1ms/step - loss: 11.4543 - mae: 11.4543\n",
      "Epoch 88/100\n",
      "2/2 [==============================] - 0s 1ms/step - loss: 9.9551 - mae: 9.9551\n",
      "Epoch 89/100\n",
      "2/2 [==============================] - 0s 2ms/step - loss: 7.2719 - mae: 7.2719\n",
      "Epoch 90/100\n",
      "2/2 [==============================] - 0s 1ms/step - loss: 12.7147 - mae: 12.7147\n",
      "Epoch 91/100\n",
      "2/2 [==============================] - 0s 1ms/step - loss: 7.3323 - mae: 7.3323\n",
      "Epoch 92/100\n",
      "2/2 [==============================] - 0s 2ms/step - loss: 7.6966 - mae: 7.6966\n",
      "Epoch 93/100\n",
      "2/2 [==============================] - 0s 1ms/step - loss: 7.1379 - mae: 7.1379\n",
      "Epoch 94/100\n",
      "2/2 [==============================] - 0s 1ms/step - loss: 12.5625 - mae: 12.5625\n",
      "Epoch 95/100\n",
      "2/2 [==============================] - 0s 1ms/step - loss: 9.9405 - mae: 9.9405\n",
      "Epoch 96/100\n",
      "2/2 [==============================] - 0s 1ms/step - loss: 9.1585 - mae: 9.1585\n",
      "Epoch 97/100\n",
      "2/2 [==============================] - 0s 1ms/step - loss: 12.1001 - mae: 12.1001\n",
      "Epoch 98/100\n",
      "2/2 [==============================] - 0s 1ms/step - loss: 9.0853 - mae: 9.0853\n",
      "Epoch 99/100\n",
      "2/2 [==============================] - 0s 1ms/step - loss: 8.5150 - mae: 8.5150\n",
      "Epoch 100/100\n",
      "2/2 [==============================] - 0s 1ms/step - loss: 14.4674 - mae: 14.4674\n"
     ]
    },
    {
     "data": {
      "text/plain": [
       "<keras.src.callbacks.History at 0x7fadec1de210>"
      ]
     },
     "execution_count": 26,
     "metadata": {},
     "output_type": "execute_result"
    }
   ],
   "source": [
    "#Let's have a look at how to build a neural network for this data\n",
    "\n",
    "# 1. Create a model\n",
    "model = tf.keras.Sequential([\n",
    "    tf.keras.layers.Dense(1)\n",
    "])\n",
    "\n",
    "# 2. Compile the model\n",
    "model.compile(loss=tf.keras.losses.mae,\n",
    "              optimizer=tf.keras.optimizers.SGD(),\n",
    "              metrics=\"mae\")\n",
    "\n",
    "# 3. Fit the model\n",
    "model.fit(tf.expand_dims(X_train, -1), y_train, epochs=100)"
   ]
  },
  {
   "cell_type": "code",
   "execution_count": 27,
   "metadata": {
    "ExecuteTime": {
     "end_time": "2023-08-31T11:30:15.669057Z",
     "start_time": "2023-08-31T11:30:15.633989Z"
    },
    "colab": {
     "base_uri": "https://localhost:8080/",
     "height": 317
    },
    "id": "bZo9EIfVNgn_",
    "outputId": "1c416fd1-3b91-4438-879f-a8d381f89384"
   },
   "outputs": [
    {
     "name": "stdout",
     "output_type": "stream",
     "text": [
      "Model: \"sequential_4\"\n",
      "_________________________________________________________________\n",
      " Layer (type)                Output Shape              Param #   \n",
      "=================================================================\n",
      " dense_6 (Dense)             (None, 1)                 2         \n",
      "                                                                 \n",
      "=================================================================\n",
      "Total params: 2 (8.00 Byte)\n",
      "Trainable params: 2 (8.00 Byte)\n",
      "Non-trainable params: 0 (0.00 Byte)\n",
      "_________________________________________________________________\n"
     ]
    }
   ],
   "source": [
    "## Visualizing the model\n",
    "model.summary()"
   ]
  },
  {
   "cell_type": "code",
   "execution_count": 28,
   "metadata": {
    "ExecuteTime": {
     "end_time": "2023-08-31T11:30:17.843724Z",
     "start_time": "2023-08-31T11:30:17.796636Z"
    },
    "id": "KPcKdVgiNvkY"
   },
   "outputs": [],
   "source": [
    "# Let's create a model which build automatically by defining the input_shape argument\n",
    "tf.random.set_seed(42)\n",
    "\n",
    "# Create a model\n",
    "model = tf.keras.Sequential([\n",
    "    tf.keras.layers.Dense(50, input_shape=[1], name=\"input_layer\"),\n",
    "    tf.keras.layers.Dense(1, name=\"output_layer\")\n",
    "], name=\"model_1\")\n",
    "\n",
    "# Compile the model\n",
    "model.compile(loss=tf.keras.losses.mae,\n",
    "              optimizer=tf.keras.optimizers.SGD(),\n",
    "              metrics=\"mae\")"
   ]
  },
  {
   "cell_type": "code",
   "execution_count": 29,
   "metadata": {
    "ExecuteTime": {
     "end_time": "2023-08-31T11:30:26.225240Z",
     "start_time": "2023-08-31T11:30:26.171044Z"
    },
    "colab": {
     "base_uri": "https://localhost:8080/"
    },
    "id": "QBhgvEESO6ID",
    "outputId": "e03bb779-1f4c-4fca-ba51-54d57977e6e9"
   },
   "outputs": [
    {
     "name": "stdout",
     "output_type": "stream",
     "text": [
      "Model: \"model_1\"\n",
      "_________________________________________________________________\n",
      " Layer (type)                Output Shape              Param #   \n",
      "=================================================================\n",
      " input_layer (Dense)         (None, 50)                100       \n",
      "                                                                 \n",
      " output_layer (Dense)        (None, 1)                 51        \n",
      "                                                                 \n",
      "=================================================================\n",
      "Total params: 151 (604.00 Byte)\n",
      "Trainable params: 151 (604.00 Byte)\n",
      "Non-trainable params: 0 (0.00 Byte)\n",
      "_________________________________________________________________\n"
     ]
    }
   ],
   "source": [
    "model.summary()"
   ]
  },
  {
   "cell_type": "markdown",
   "metadata": {
    "id": "zW1rYF11PwDi"
   },
   "source": [
    "* Total params - total number of parameters in the model (input / output)\n",
    "* Trainable parameters - these are the parameters (patterns) the model can update as it trains."
   ]
  },
  {
   "cell_type": "code",
   "execution_count": 30,
   "metadata": {
    "ExecuteTime": {
     "end_time": "2023-08-31T11:30:29.418066Z",
     "start_time": "2023-08-31T11:30:27.717124Z"
    },
    "colab": {
     "base_uri": "https://localhost:8080/"
    },
    "id": "sqJ2CR5GO-Oh",
    "outputId": "ab79f725-a8fb-4d59-c0d3-ef43f92e6964"
   },
   "outputs": [
    {
     "data": {
      "text/plain": [
       "<keras.src.callbacks.History at 0x7fade7f3be10>"
      ]
     },
     "execution_count": 30,
     "metadata": {},
     "output_type": "execute_result"
    }
   ],
   "source": [
    "# Let's fit our model to our training data.\n",
    "model.fit(tf.expand_dims(X_train, -1), y_train, epochs=100, verbose=0)"
   ]
  },
  {
   "cell_type": "markdown",
   "metadata": {
    "id": "cY9yX0NDTKjl"
   },
   "source": [
    "### Visualizing our model's predictions\n",
    "\n",
    "To visualize predictions, it's a good idea to plot them against the ground truth labels.\n",
    "\n",
    "Often you'll see this in the form of 'y_test' or 'y_true' versus 'y_pred' (ground truth versus your model's predictions)"
   ]
  },
  {
   "cell_type": "code",
   "execution_count": 31,
   "metadata": {
    "ExecuteTime": {
     "end_time": "2023-08-31T11:34:26.659973Z",
     "start_time": "2023-08-31T11:34:26.504351Z"
    },
    "colab": {
     "base_uri": "https://localhost:8080/"
    },
    "id": "qwmwCugrVFWr",
    "outputId": "4a9c1e6b-a8a2-4b36-bc13-858671b2c73f"
   },
   "outputs": [
    {
     "name": "stdout",
     "output_type": "stream",
     "text": [
      "WARNING:tensorflow:5 out of the last 6 calls to <function Model.make_predict_function.<locals>.predict_function at 0x7fadbdb9ba60> triggered tf.function retracing. Tracing is expensive and the excessive number of tracings could be due to (1) creating @tf.function repeatedly in a loop, (2) passing tensors with different shapes, (3) passing Python objects instead of tensors. For (1), please define your @tf.function outside of the loop. For (2), @tf.function has reduce_retracing=True option that can avoid unnecessary retracing. For (3), please refer to https://www.tensorflow.org/guide/function#controlling_retracing and https://www.tensorflow.org/api_docs/python/tf/function for  more details.\n"
     ]
    },
    {
     "name": "stderr",
     "output_type": "stream",
     "text": [
      "WARNING:tensorflow:5 out of the last 6 calls to <function Model.make_predict_function.<locals>.predict_function at 0x7fadbdb9ba60> triggered tf.function retracing. Tracing is expensive and the excessive number of tracings could be due to (1) creating @tf.function repeatedly in a loop, (2) passing tensors with different shapes, (3) passing Python objects instead of tensors. For (1), please define your @tf.function outside of the loop. For (2), @tf.function has reduce_retracing=True option that can avoid unnecessary retracing. For (3), please refer to https://www.tensorflow.org/guide/function#controlling_retracing and https://www.tensorflow.org/api_docs/python/tf/function for  more details.\n"
     ]
    },
    {
     "name": "stdout",
     "output_type": "stream",
     "text": [
      "1/1 [==============================] - 0s 19ms/step\n"
     ]
    },
    {
     "data": {
      "text/plain": [
       "array([[ 70.4626  ],\n",
       "       [ 75.04401 ],\n",
       "       [ 79.625404],\n",
       "       [ 84.20681 ],\n",
       "       [ 88.78821 ],\n",
       "       [ 93.369606],\n",
       "       [ 97.95101 ],\n",
       "       [102.53242 ],\n",
       "       [107.11382 ],\n",
       "       [111.69522 ]], dtype=float32)"
      ]
     },
     "execution_count": 31,
     "metadata": {},
     "output_type": "execute_result"
    }
   ],
   "source": [
    "# Make some predictions\n",
    "y_pred = model.predict(tf.expand_dims(X_test, -1))\n",
    "y_pred"
   ]
  },
  {
   "cell_type": "code",
   "execution_count": 32,
   "metadata": {
    "ExecuteTime": {
     "end_time": "2023-08-31T11:35:09.229957Z",
     "start_time": "2023-08-31T11:35:09.180682Z"
    },
    "colab": {
     "base_uri": "https://localhost:8080/"
    },
    "id": "kpOKmPeoVoUo",
    "outputId": "5ea013e9-e875-48af-8571-d6ea7d680b0a"
   },
   "outputs": [
    {
     "data": {
      "text/plain": [
       "<tf.Tensor: shape=(10,), dtype=int32, numpy=array([ 70,  74,  78,  82,  86,  90,  94,  98, 102, 106], dtype=int32)>"
      ]
     },
     "execution_count": 32,
     "metadata": {},
     "output_type": "execute_result"
    }
   ],
   "source": [
    "y_test"
   ]
  },
  {
   "cell_type": "code",
   "execution_count": 33,
   "metadata": {
    "ExecuteTime": {
     "end_time": "2023-08-31T11:35:11.119641Z",
     "start_time": "2023-08-31T11:35:11.074950Z"
    },
    "id": "j5bCFDF6V7CE"
   },
   "outputs": [],
   "source": [
    "# Let's create a plotting function\n",
    "def plot_predictions(train_data=X_train,\n",
    "                     train_labels=y_train,\n",
    "                     test_data=X_test,\n",
    "                     test_labels=y_test,\n",
    "                     predictions=y_pred):\n",
    "  \"\"\"\n",
    "  Plots training data, test data and compares predictions to ground truth labels.\n",
    "  \"\"\"\n",
    "  plt.figure(figsize=(10, 7))\n",
    "  # Plot training data in blue\n",
    "  plt.scatter(train_data, train_labels, c=\"b\", label=\"Training data\")\n",
    "  # Plot testing data in green\n",
    "  plt.scatter(test_data, test_labels, c=\"g\", label=\"Testing data\")\n",
    "  #Plot model's perdictions in red\n",
    "  plt.scatter(test_data, predictions, c=\"r\", label=\"Predictions\")\n",
    "  # Show the legend\n",
    "  plt.legend()"
   ]
  },
  {
   "cell_type": "code",
   "execution_count": 34,
   "metadata": {
    "ExecuteTime": {
     "end_time": "2023-08-31T12:01:39.532521Z",
     "start_time": "2023-08-31T12:01:39.418099Z"
    },
    "colab": {
     "base_uri": "https://localhost:8080/",
     "height": 428
    },
    "id": "DPahur-1YikP",
    "outputId": "0a6d2652-c426-42ce-e0cd-69df5458d9b5"
   },
   "outputs": [
    {
     "data": {
      "image/png": "[encoded data removed]",
      "text/plain": [
       "<Figure size 1000x700 with 1 Axes>"
      ]
     },
     "metadata": {},
     "output_type": "display_data"
    }
   ],
   "source": [
    "plot_predictions(train_data=X_train,\n",
    "                 train_labels=y_train,\n",
    "                 test_data=X_test,\n",
    "                 test_labels=y_test,\n",
    "                 predictions=y_pred)"
   ]
  },
  {
   "cell_type": "markdown",
   "metadata": {
    "id": "HjTieOI5Ylvy"
   },
   "source": [
    "### Evaluating our model's predictions with regression evaluation metrics.\n",
    "\n",
    "Depending on the problem you're working on, there will be different evaluation metrics to evaluate your model's performance.\n",
    "\n",
    "Since we're working on a regression, two of the main metrics:\n",
    "* MAE - mean absolute error, \"on average, how wrong is each of my model's predictions\"\n",
    "* MSE - mean square error, \"square the average errors\""
   ]
  },
  {
   "cell_type": "code",
   "execution_count": 35,
   "metadata": {
    "ExecuteTime": {
     "end_time": "2023-08-31T12:01:41.275469Z",
     "start_time": "2023-08-31T12:01:41.109007Z"
    },
    "colab": {
     "base_uri": "https://localhost:8080/"
    },
    "id": "Xqg_8Xi2dO5I",
    "outputId": "24a66082-b88e-430e-f3cd-4b31e016b333"
   },
   "outputs": [
    {
     "name": "stdout",
     "output_type": "stream",
     "text": [
      "1/1 [==============================] - 0s 50ms/step - loss: 3.0789 - mae: 3.0789\n"
     ]
    },
    {
     "data": {
      "text/plain": [
       "[3.0789108276367188, 3.0789108276367188]"
      ]
     },
     "execution_count": 35,
     "metadata": {},
     "output_type": "execute_result"
    }
   ],
   "source": [
    "# Evaluagte the model on the test \n",
    "model.evaluate(tf.expand_dims(X_test, -1), y_test)"
   ]
  },
  {
   "cell_type": "code",
   "execution_count": 36,
   "metadata": {
    "ExecuteTime": {
     "end_time": "2023-08-31T12:01:41.558264Z",
     "start_time": "2023-08-31T12:01:41.434117Z"
    },
    "colab": {
     "base_uri": "https://localhost:8080/"
    },
    "id": "hZzXSBB2VByJ",
    "outputId": "735bb4a4-9fcb-4dd7-e09d-83e0d9b72bd7"
   },
   "outputs": [
    {
     "data": {
      "text/plain": [
       "<tf.Tensor: shape=(), dtype=float32, numpy=3.0789108>"
      ]
     },
     "execution_count": 36,
     "metadata": {},
     "output_type": "execute_result"
    }
   ],
   "source": [
    "# Calculate the mean absolute error:\n",
    "\n",
    "mae = tf.keras.losses.MAE(\n",
    "    y_true=y_test, \n",
    "    y_pred=tf.squeeze(y_pred))\n",
    "mae"
   ]
  },
  {
   "cell_type": "code",
   "execution_count": 37,
   "metadata": {
    "ExecuteTime": {
     "end_time": "2023-08-31T12:01:41.972134Z",
     "start_time": "2023-08-31T12:01:41.927686Z"
    },
    "colab": {
     "base_uri": "https://localhost:8080/"
    },
    "id": "nost7Avtgr36",
    "outputId": "aab54e8f-dcf3-4821-96a2-cb8094dade64"
   },
   "outputs": [
    {
     "data": {
      "text/plain": [
       "<tf.Tensor: shape=(), dtype=float32, numpy=12.268427>"
      ]
     },
     "execution_count": 37,
     "metadata": {},
     "output_type": "execute_result"
    }
   ],
   "source": [
    "# Calculate the mean square error:\n",
    "\n",
    "mae = tf.keras.losses.MSE(\n",
    "    y_true=y_test, \n",
    "    y_pred=tf.squeeze(y_pred))\n",
    "mae"
   ]
  },
  {
   "cell_type": "code",
   "execution_count": 38,
   "metadata": {
    "ExecuteTime": {
     "end_time": "2023-08-31T12:01:42.293243Z",
     "start_time": "2023-08-31T12:01:42.248596Z"
    },
    "id": "T50x4iMeVo6Y"
   },
   "outputs": [],
   "source": [
    "# Make some functions to re-use MAE and MSE\n",
    "def mae(y_true, y_pred):\n",
    "  return tf.metrics.mean_absolute_error(y_true=y_true, y_pred=tf.squeeze(y_pred))\n",
    "\n",
    "def mse(y_true, y_pred):\n",
    "  return tf.metrics.mean_squared_error(y_true=y_true, y_pred=tf.squeeze(y_pred))"
   ]
  },
  {
   "cell_type": "markdown",
   "metadata": {
    "id": "Kifkk7_zXi36"
   },
   "source": [
    "### Running experiments to improve our model\n",
    "\n",
    "Build a model -> fit it -> evaluate it -> tweak it -> fit it -> evaluate it -> tweak it -> ...\n",
    "\n",
    "1. Get more data - get more example for your model to train on (more opportunities to learn patterns or relationships between features and labels).\n",
    "2. Make your model larger (using a more complex model) - this might come in the form of more layers or more hidden neurons in each layer.\n",
    "3. Train for longer - give your model more of a change to find patterns in the data.\n",
    "\n",
    "Let's do 3 modelling experiments:\n",
    "\n",
    "1. Model_1 - same as the original model, 1 layer, trained for 100 epochs.\n",
    "2. Model_2 - 2 layers, trained for 100 epochs.\n",
    "3. Model_3 - 2 layers, trained for 500 epochs.\n",
    "4. Model_4...\n",
    "5. Model_5...\n",
    "\n",
    "**Build model_1**"
   ]
  },
  {
   "cell_type": "code",
   "execution_count": 39,
   "metadata": {
    "ExecuteTime": {
     "end_time": "2023-08-31T12:01:42.909619Z",
     "start_time": "2023-08-31T12:01:42.866085Z"
    },
    "colab": {
     "base_uri": "https://localhost:8080/"
    },
    "id": "L8oYc4vkXstq",
    "outputId": "a67289a5-2862-4ef2-96c5-f3701d01f9c2"
   },
   "outputs": [
    {
     "data": {
      "text/plain": [
       "(<tf.Tensor: shape=(40,), dtype=int32, numpy=\n",
       " array([-100,  -96,  -92,  -88,  -84,  -80,  -76,  -72,  -68,  -64,  -60,\n",
       "         -56,  -52,  -48,  -44,  -40,  -36,  -32,  -28,  -24,  -20,  -16,\n",
       "         -12,   -8,   -4,    0,    4,    8,   12,   16,   20,   24,   28,\n",
       "          32,   36,   40,   44,   48,   52,   56], dtype=int32)>,\n",
       " <tf.Tensor: shape=(40,), dtype=int32, numpy=\n",
       " array([-90, -86, -82, -78, -74, -70, -66, -62, -58, -54, -50, -46, -42,\n",
       "        -38, -34, -30, -26, -22, -18, -14, -10,  -6,  -2,   2,   6,  10,\n",
       "         14,  18,  22,  26,  30,  34,  38,  42,  46,  50,  54,  58,  62,\n",
       "         66], dtype=int32)>)"
      ]
     },
     "execution_count": 39,
     "metadata": {},
     "output_type": "execute_result"
    }
   ],
   "source": [
    "X_train, y_train"
   ]
  },
  {
   "cell_type": "code",
   "execution_count": 40,
   "metadata": {
    "ExecuteTime": {
     "end_time": "2023-08-31T12:01:44.742618Z",
     "start_time": "2023-08-31T12:01:43.221300Z"
    },
    "colab": {
     "base_uri": "https://localhost:8080/"
    },
    "id": "VGnWkfxaYXT3",
    "outputId": "7418b006-2279-4e5a-cc6d-c1433520ccb8"
   },
   "outputs": [
    {
     "data": {
      "text/plain": [
       "<keras.src.callbacks.History at 0x7fadbdbe01d0>"
      ]
     },
     "execution_count": 40,
     "metadata": {},
     "output_type": "execute_result"
    }
   ],
   "source": [
    "# set random seed\n",
    "tf.random.set_seed(42)\n",
    "\n",
    "# 1. Create the model\n",
    "model_1 = tf.keras.Sequential([\n",
    "    tf.keras.layers.Dense(1, input_shape=[1])\n",
    "])\n",
    "\n",
    "# 2. Compile the model\n",
    "model_1.compile(loss=tf.keras.losses.mae,\n",
    "                optimizer=tf.keras.optimizers.SGD(),\n",
    "                metrics=\"mae\")\n",
    "\n",
    "# 3. Fit the model\n",
    "model_1.fit(X_train, y_train, epochs=100, verbose=0)"
   ]
  },
  {
   "cell_type": "code",
   "execution_count": 41,
   "metadata": {
    "ExecuteTime": {
     "end_time": "2023-08-31T12:01:44.872138Z",
     "start_time": "2023-08-31T12:01:44.696784Z"
    },
    "colab": {
     "base_uri": "https://localhost:8080/",
     "height": 445
    },
    "id": "Pse6AVYqZGwB",
    "outputId": "8746aa0a-f2e5-42ca-8219-14c7ddd10db6"
   },
   "outputs": [
    {
     "name": "stdout",
     "output_type": "stream",
     "text": [
      "WARNING:tensorflow:6 out of the last 7 calls to <function Model.make_predict_function.<locals>.predict_function at 0x7fad93d5e660> triggered tf.function retracing. Tracing is expensive and the excessive number of tracings could be due to (1) creating @tf.function repeatedly in a loop, (2) passing tensors with different shapes, (3) passing Python objects instead of tensors. For (1), please define your @tf.function outside of the loop. For (2), @tf.function has reduce_retracing=True option that can avoid unnecessary retracing. For (3), please refer to https://www.tensorflow.org/guide/function#controlling_retracing and https://www.tensorflow.org/api_docs/python/tf/function for  more details.\n"
     ]
    },
    {
     "name": "stderr",
     "output_type": "stream",
     "text": [
      "WARNING:tensorflow:6 out of the last 7 calls to <function Model.make_predict_function.<locals>.predict_function at 0x7fad93d5e660> triggered tf.function retracing. Tracing is expensive and the excessive number of tracings could be due to (1) creating @tf.function repeatedly in a loop, (2) passing tensors with different shapes, (3) passing Python objects instead of tensors. For (1), please define your @tf.function outside of the loop. For (2), @tf.function has reduce_retracing=True option that can avoid unnecessary retracing. For (3), please refer to https://www.tensorflow.org/guide/function#controlling_retracing and https://www.tensorflow.org/api_docs/python/tf/function for  more details.\n"
     ]
    },
    {
     "name": "stdout",
     "output_type": "stream",
     "text": [
      "1/1 [==============================] - 0s 18ms/step\n"
     ]
    },
    {
     "data": {
      "image/png": "[encoded data removed]",
      "text/plain": [
       "<Figure size 1000x700 with 1 Axes>"
      ]
     },
     "metadata": {},
     "output_type": "display_data"
    }
   ],
   "source": [
    "# Make and plot predictions for model_1\n",
    "y_preds_1 = model_1.predict(X_test)\n",
    "plot_predictions(predictions=y_preds_1)"
   ]
  },
  {
   "cell_type": "code",
   "execution_count": 42,
   "metadata": {
    "ExecuteTime": {
     "end_time": "2023-08-31T12:01:44.890852Z",
     "start_time": "2023-08-31T12:01:44.872923Z"
    },
    "colab": {
     "base_uri": "https://localhost:8080/"
    },
    "id": "gbAsxNIBZuqz",
    "outputId": "8c0161e8-a948-476e-8387-5be90a7595b1"
   },
   "outputs": [
    {
     "data": {
      "text/plain": [
       "(<tf.Tensor: shape=(), dtype=float32, numpy=30.711163>,\n",
       " <tf.Tensor: shape=(), dtype=float32, numpy=953.6621>)"
      ]
     },
     "execution_count": 42,
     "metadata": {},
     "output_type": "execute_result"
    }
   ],
   "source": [
    "# Calculate model_1 evaluation metrics\n",
    "mae_1 = mae(y_test, y_preds_1)\n",
    "mse_1 = mse(y_test, y_preds_1)\n",
    "mae_1, mse_1"
   ]
  },
  {
   "cell_type": "markdown",
   "metadata": {
    "id": "5g-PlloTdAL6"
   },
   "source": [
    "**Build model_2**\n",
    "\n",
    "2. Dense layers, trained for 100 epochs"
   ]
  },
  {
   "cell_type": "code",
   "execution_count": 43,
   "metadata": {
    "ExecuteTime": {
     "end_time": "2023-08-31T12:01:46.621021Z",
     "start_time": "2023-08-31T12:01:44.902307Z"
    },
    "colab": {
     "base_uri": "https://localhost:8080/"
    },
    "id": "3MsEctGqeIk1",
    "outputId": "b1798dd9-c630-4138-d0ac-37ae3dc6ccf6"
   },
   "outputs": [
    {
     "data": {
      "text/plain": [
       "<keras.src.callbacks.History at 0x7fad80789190>"
      ]
     },
     "execution_count": 43,
     "metadata": {},
     "output_type": "execute_result"
    }
   ],
   "source": [
    "# Set random seed\n",
    "tf.random.set_seed(42)\n",
    "\n",
    "# Build model_2\n",
    "model_2 = tf.keras.Sequential([\n",
    "    tf.keras.layers.Dense(10, input_shape=[1]),\n",
    "    tf.keras.layers.Dense(1),\n",
    "])\n",
    "\n",
    "# Compile model_2\n",
    "model_2.compile(loss=tf.keras.losses.mae,\n",
    "                optimizer=tf.keras.optimizers.SGD(),\n",
    "                metrics=\"mse\")\n",
    "\n",
    "# Fit model_2\n",
    "model_2.fit(X_train, y_train, epochs=100, verbose=0)\n"
   ]
  },
  {
   "cell_type": "code",
   "execution_count": 44,
   "metadata": {
    "ExecuteTime": {
     "end_time": "2023-08-31T12:01:46.771295Z",
     "start_time": "2023-08-31T12:01:46.588615Z"
    },
    "colab": {
     "base_uri": "https://localhost:8080/",
     "height": 445
    },
    "id": "n4zAD23nfUIZ",
    "outputId": "100f8bda-5caf-4991-9b17-90117a4e6b98"
   },
   "outputs": [
    {
     "name": "stdout",
     "output_type": "stream",
     "text": [
      "1/1 [==============================] - 0s 20ms/step\n"
     ]
    },
    {
     "data": {
      "image/png": "[encoded data removed]",
      "text/plain": [
       "<Figure size 1000x700 with 1 Axes>"
      ]
     },
     "metadata": {},
     "output_type": "display_data"
    }
   ],
   "source": [
    "# Make and plot predictions of model_2\n",
    "y_preds_2 = model_2.predict(X_test)\n",
    "plot_predictions(predictions=y_preds_2)"
   ]
  },
  {
   "cell_type": "code",
   "execution_count": 45,
   "metadata": {
    "ExecuteTime": {
     "end_time": "2023-08-31T12:01:46.789722Z",
     "start_time": "2023-08-31T12:01:46.768592Z"
    },
    "colab": {
     "base_uri": "https://localhost:8080/"
    },
    "id": "YUgLxW_1hBhy",
    "outputId": "be8a53a8-6f7b-4e7e-a9c7-55eaed2a58f7"
   },
   "outputs": [
    {
     "data": {
      "text/plain": [
       "(<tf.Tensor: shape=(), dtype=float32, numpy=10.078844>,\n",
       " <tf.Tensor: shape=(), dtype=float32, numpy=108.86239>)"
      ]
     },
     "execution_count": 45,
     "metadata": {},
     "output_type": "execute_result"
    }
   ],
   "source": [
    "# Calculate model_2 evaluation metrics\n",
    "mae_2 = mae(y_test, y_preds_2)\n",
    "mse_2 = mse(y_test, y_preds_2)\n",
    "mae_2, mse_2"
   ]
  },
  {
   "cell_type": "markdown",
   "metadata": {
    "id": "F4lY__rRhxH-"
   },
   "source": [
    "**Build model_3**\n",
    "\n",
    "* 2 layers, trained for 500 epochs"
   ]
  },
  {
   "cell_type": "code",
   "execution_count": 46,
   "metadata": {
    "ExecuteTime": {
     "end_time": "2023-08-31T12:01:53.237112Z",
     "start_time": "2023-08-31T12:01:46.804239Z"
    },
    "colab": {
     "base_uri": "https://localhost:8080/"
    },
    "id": "8LkmEvdSh60n",
    "outputId": "9f1b5757-fdb7-468c-8972-645668079cc9"
   },
   "outputs": [
    {
     "data": {
      "text/plain": [
       "<keras.src.callbacks.History at 0x7fad80539dd0>"
      ]
     },
     "execution_count": 46,
     "metadata": {},
     "output_type": "execute_result"
    }
   ],
   "source": [
    "# Set random seed\n",
    "tf.random.set_seed(42)\n",
    "\n",
    "# 1. Build model_3\n",
    "model_3 = tf.keras.Sequential([\n",
    "    tf.keras.layers.Dense(10, input_shape=[1]),\n",
    "    tf.keras.layers.Dense(1)\n",
    "])\n",
    "\n",
    "# 2. Compile model_3\n",
    "model_3.compile(loss=tf.keras.losses.mae,\n",
    "                optimizer=tf.keras.optimizers.SGD(),\n",
    "                metrics=\"mse\")\n",
    "\n",
    "# 3. Fit model\n",
    "model_3.fit(X_train, y_train, epochs=500, verbose=0)"
   ]
  },
  {
   "cell_type": "code",
   "execution_count": 47,
   "metadata": {
    "ExecuteTime": {
     "end_time": "2023-08-31T12:01:53.419461Z",
     "start_time": "2023-08-31T12:01:53.237004Z"
    },
    "colab": {
     "base_uri": "https://localhost:8080/",
     "height": 445
    },
    "id": "DjRZNmtCikZo",
    "outputId": "6dbe75ec-d33c-4d5d-eae7-9d7bc9efd7dd"
   },
   "outputs": [
    {
     "name": "stdout",
     "output_type": "stream",
     "text": [
      "1/1 [==============================] - 0s 20ms/step\n"
     ]
    },
    {
     "data": {
      "image/png": "[encoded data removed]",
      "text/plain": [
       "<Figure size 1000x700 with 1 Axes>"
      ]
     },
     "metadata": {},
     "output_type": "display_data"
    }
   ],
   "source": [
    "# Make and plot predictions of model_2\n",
    "y_preds_3 = model_3.predict(X_test)\n",
    "plot_predictions(predictions=y_preds_3)"
   ]
  },
  {
   "cell_type": "code",
   "execution_count": 48,
   "metadata": {
    "ExecuteTime": {
     "end_time": "2023-08-31T12:01:53.438711Z",
     "start_time": "2023-08-31T12:01:53.418256Z"
    },
    "colab": {
     "base_uri": "https://localhost:8080/"
    },
    "id": "6MHReAteiqFy",
    "outputId": "7ccf2b82-f4b9-4400-c6a5-3214ad0c1119"
   },
   "outputs": [
    {
     "data": {
      "text/plain": [
       "(<tf.Tensor: shape=(), dtype=float32, numpy=68.70297>,\n",
       " <tf.Tensor: shape=(), dtype=float32, numpy=4806.565>)"
      ]
     },
     "execution_count": 48,
     "metadata": {},
     "output_type": "execute_result"
    }
   ],
   "source": [
    "mae_3 = mae(y_true=y_test, y_pred=y_preds_3)\n",
    "mse_3 = mse(y_true=y_test, y_pred=y_preds_3)\n",
    "mae_3, mse_3"
   ]
  },
  {
   "cell_type": "markdown",
   "metadata": {
    "id": "bQM0aTg8tzVY"
   },
   "source": [
    "### Comparing the results of our experiments.\n",
    "\n",
    "We've run a few experiments, let's compare the results"
   ]
  },
  {
   "cell_type": "code",
   "execution_count": 49,
   "metadata": {
    "ExecuteTime": {
     "end_time": "2023-08-31T12:01:53.495649Z",
     "start_time": "2023-08-31T12:01:53.440290Z"
    },
    "colab": {
     "base_uri": "https://localhost:8080/",
     "height": 142
    },
    "id": "F1FvVcaBt_Vk",
    "outputId": "3985d55a-43a7-489e-93c0-ecefe4f6df5e"
   },
   "outputs": [
    {
     "data": {
      "text/html": [
       "<div>\n",
       "<style scoped>\n",
       "    .dataframe tbody tr th:only-of-type {\n",
       "        vertical-align: middle;\n",
       "    }\n",
       "\n",
       "    .dataframe tbody tr th {\n",
       "        vertical-align: top;\n",
       "    }\n",
       "\n",
       "    .dataframe thead th {\n",
       "        text-align: right;\n",
       "    }\n",
       "</style>\n",
       "<table border=\"1\" class=\"dataframe\">\n",
       "  <thead>\n",
       "    <tr style=\"text-align: right;\">\n",
       "      <th></th>\n",
       "      <th>model</th>\n",
       "      <th>mae</th>\n",
       "      <th>mse</th>\n",
       "    </tr>\n",
       "  </thead>\n",
       "  <tbody>\n",
       "    <tr>\n",
       "      <th>0</th>\n",
       "      <td>model_1</td>\n",
       "      <td>30.711163</td>\n",
       "      <td>953.662109</td>\n",
       "    </tr>\n",
       "    <tr>\n",
       "      <th>1</th>\n",
       "      <td>model_2</td>\n",
       "      <td>10.078844</td>\n",
       "      <td>108.862389</td>\n",
       "    </tr>\n",
       "    <tr>\n",
       "      <th>2</th>\n",
       "      <td>model_3</td>\n",
       "      <td>68.702972</td>\n",
       "      <td>4806.564941</td>\n",
       "    </tr>\n",
       "  </tbody>\n",
       "</table>\n",
       "</div>"
      ],
      "text/plain": [
       "     model        mae          mse\n",
       "0  model_1  30.711163   953.662109\n",
       "1  model_2  10.078844   108.862389\n",
       "2  model_3  68.702972  4806.564941"
      ]
     },
     "execution_count": 49,
     "metadata": {},
     "output_type": "execute_result"
    }
   ],
   "source": [
    "# Let's compare our model's results using a pandas DataFrame.\n",
    "import pandas as pd\n",
    "model_results = [[\"model_1\", mae_1.numpy(), mse_1.numpy()],\n",
    "                 [\"model_2\", mae_2.numpy(), mse_2.numpy()],\n",
    "                 [\"model_3\", mae_3.numpy(), mse_3.numpy()]]\n",
    "\n",
    "all_results = pd.DataFrame(model_results, columns=[\"model\", \"mae\", \"mse\"])\n",
    "all_results"
   ]
  },
  {
   "cell_type": "markdown",
   "metadata": {
    "id": "EQ-SHetZhhsg"
   },
   "source": [
    "Looks like model_1 performed the best."
   ]
  },
  {
   "cell_type": "code",
   "execution_count": 50,
   "metadata": {
    "ExecuteTime": {
     "end_time": "2023-08-31T12:01:53.506022Z",
     "start_time": "2023-08-31T12:01:53.443339Z"
    },
    "colab": {
     "base_uri": "https://localhost:8080/"
    },
    "id": "pk4pvrmSgivN",
    "outputId": "ee434a7e-5641-4de9-ba3e-e419a20f8954"
   },
   "outputs": [
    {
     "name": "stdout",
     "output_type": "stream",
     "text": [
      "Model: \"sequential_6\"\n",
      "_________________________________________________________________\n",
      " Layer (type)                Output Shape              Param #   \n",
      "=================================================================\n",
      " dense_8 (Dense)             (None, 10)                20        \n",
      "                                                                 \n",
      " dense_9 (Dense)             (None, 1)                 11        \n",
      "                                                                 \n",
      "=================================================================\n",
      "Total params: 31 (124.00 Byte)\n",
      "Trainable params: 31 (124.00 Byte)\n",
      "Non-trainable params: 0 (0.00 Byte)\n",
      "_________________________________________________________________\n"
     ]
    }
   ],
   "source": [
    "model_2.summary()"
   ]
  },
  {
   "cell_type": "markdown",
   "metadata": {
    "id": "hwweYT_ShQ7K"
   },
   "source": [
    "## Tracking your experiments\n",
    "\n",
    "One really good habit in machine learning modelling is to track the results of your experiments.\n",
    "\n",
    "And when doin so, it can be tedious if you're running lots of experiments.\n",
    "\n",
    "Luckily, there are tools to help us!\n",
    "\n",
    "Resources:\n",
    "\n",
    "As you build more models, you'll want to look into using:\n",
    "\n",
    "* TensorBoard - a component of the TensorFlow library to help track modelling experiments.\n",
    "* Weights & Biases - a tool for tracking all kinds of machine learning experiments (plugs directly into TensorBoard)"
   ]
  },
  {
   "cell_type": "markdown",
   "metadata": {
    "id": "wgprDOgLjTcY"
   },
   "source": [
    "###Saving our models\n",
    "\n",
    "Saving our models allows us to use them outside of Google Colab (or wherever they were trained) such as in a web application or a mobile app."
   ]
  },
  {
   "cell_type": "code",
   "execution_count": 51,
   "metadata": {
    "ExecuteTime": {
     "end_time": "2023-08-31T12:01:53.999955Z",
     "start_time": "2023-08-31T12:01:53.449933Z"
    },
    "colab": {
     "base_uri": "https://localhost:8080/"
    },
    "id": "_fjMU2s3jU1d",
    "outputId": "b189ecf3-d47a-4b07-9a30-8ccd12799d2f"
   },
   "outputs": [
    {
     "name": "stdout",
     "output_type": "stream",
     "text": [
      "INFO:tensorflow:Assets written to: best_model_SavedModel_format/assets\n"
     ]
    },
    {
     "name": "stderr",
     "output_type": "stream",
     "text": [
      "INFO:tensorflow:Assets written to: best_model_SavedModel_format/assets\n"
     ]
    }
   ],
   "source": [
    "# Save model using the SavedModel format\n",
    "model_2.save(\"best_model_SavedModel_format\")"
   ]
  },
  {
   "cell_type": "code",
   "execution_count": 52,
   "metadata": {
    "ExecuteTime": {
     "end_time": "2023-08-31T12:01:54.010484Z",
     "start_time": "2023-08-31T12:01:54.000770Z"
    },
    "id": "ZmcjmH7Lki2w"
   },
   "outputs": [
    {
     "name": "stderr",
     "output_type": "stream",
     "text": [
      "/home/sodeso/anaconda3/envs/ml/lib/python3.11/site-packages/keras/src/engine/training.py:3000: UserWarning: You are saving your model as an HDF5 file via `model.save()`. This file format is considered legacy. We recommend using instead the native Keras format, e.g. `model.save('my_model.keras')`.\n",
      "  saving_api.save_model(\n"
     ]
    }
   ],
   "source": [
    "model_2.save(\"best_model_HDF5_format.h5\")"
   ]
  },
  {
   "cell_type": "markdown",
   "metadata": {
    "id": "Dc7dJIohlq44"
   },
   "source": [
    "## Loading in a saved model"
   ]
  },
  {
   "cell_type": "code",
   "execution_count": 53,
   "metadata": {
    "ExecuteTime": {
     "end_time": "2023-08-31T12:01:54.201360Z",
     "start_time": "2023-08-31T12:01:54.011114Z"
    },
    "colab": {
     "base_uri": "https://localhost:8080/"
    },
    "id": "D7j1ZGLilvM6",
    "outputId": "26c6eeb8-c0d2-476c-8d3c-c06fc7f0d3ab"
   },
   "outputs": [
    {
     "name": "stdout",
     "output_type": "stream",
     "text": [
      "Model: \"sequential_6\"\n",
      "_________________________________________________________________\n",
      " Layer (type)                Output Shape              Param #   \n",
      "=================================================================\n",
      " dense_8 (Dense)             (None, 10)                20        \n",
      "                                                                 \n",
      " dense_9 (Dense)             (None, 1)                 11        \n",
      "                                                                 \n",
      "=================================================================\n",
      "Total params: 31 (124.00 Byte)\n",
      "Trainable params: 31 (124.00 Byte)\n",
      "Non-trainable params: 0 (0.00 Byte)\n",
      "_________________________________________________________________\n"
     ]
    }
   ],
   "source": [
    "# Load in a the SavedModel format model.\n",
    "loaded_SavedModel_format = tf.keras.models.load_model(\"best_model_SavedModel_format\")\n",
    "loaded_SavedModel_format.summary()"
   ]
  },
  {
   "cell_type": "code",
   "execution_count": 54,
   "metadata": {
    "ExecuteTime": {
     "end_time": "2023-08-31T12:01:54.308888Z",
     "start_time": "2023-08-31T12:01:54.199050Z"
    },
    "colab": {
     "base_uri": "https://localhost:8080/"
    },
    "id": "vd6g2detmI9j",
    "outputId": "2f177794-384c-450e-a25d-a4d8a52229c1"
   },
   "outputs": [
    {
     "name": "stdout",
     "output_type": "stream",
     "text": [
      "1/1 [==============================] - 0s 12ms/step\n",
      "1/1 [==============================] - 0s 19ms/step\n"
     ]
    },
    {
     "data": {
      "text/plain": [
       "array([[ True],\n",
       "       [ True],\n",
       "       [ True],\n",
       "       [ True],\n",
       "       [ True],\n",
       "       [ True],\n",
       "       [ True],\n",
       "       [ True],\n",
       "       [ True],\n",
       "       [ True]])"
      ]
     },
     "execution_count": 54,
     "metadata": {},
     "output_type": "execute_result"
    }
   ],
   "source": [
    "# Compare model_2 predictions with SaveModel model predictions\n",
    "model_2_preds = model_2.predict(X_test)\n",
    "loaded_SavedModel_format_preds = loaded_SavedModel_format.predict(X_test)\n",
    "model_2_preds == loaded_SavedModel_format_preds"
   ]
  },
  {
   "cell_type": "code",
   "execution_count": 55,
   "metadata": {
    "ExecuteTime": {
     "end_time": "2023-08-31T12:01:54.349759Z",
     "start_time": "2023-08-31T12:01:54.292924Z"
    },
    "colab": {
     "base_uri": "https://localhost:8080/"
    },
    "id": "kQ2mVEthmuOW",
    "outputId": "03775f9c-e924-4041-d2b5-df5a6dde775e"
   },
   "outputs": [
    {
     "name": "stdout",
     "output_type": "stream",
     "text": [
      "Model: \"sequential_6\"\n",
      "_________________________________________________________________\n",
      " Layer (type)                Output Shape              Param #   \n",
      "=================================================================\n",
      " dense_8 (Dense)             (None, 10)                20        \n",
      "                                                                 \n",
      " dense_9 (Dense)             (None, 1)                 11        \n",
      "                                                                 \n",
      "=================================================================\n",
      "Total params: 31 (124.00 Byte)\n",
      "Trainable params: 31 (124.00 Byte)\n",
      "Non-trainable params: 0 (0.00 Byte)\n",
      "_________________________________________________________________\n"
     ]
    }
   ],
   "source": [
    "# Load in a model using the .h5 format\n",
    "loaded_h5_model = tf.keras.models.load_model(\"best_model_HDF5_format.h5\")\n",
    "loaded_h5_model.summary()"
   ]
  },
  {
   "cell_type": "code",
   "execution_count": 56,
   "metadata": {
    "ExecuteTime": {
     "end_time": "2023-08-31T12:01:54.463852Z",
     "start_time": "2023-08-31T12:01:54.329232Z"
    },
    "colab": {
     "base_uri": "https://localhost:8080/"
    },
    "id": "twAb9c6vnbAr",
    "outputId": "90797f89-d681-48a0-9fd6-5d4c1936b012"
   },
   "outputs": [
    {
     "name": "stdout",
     "output_type": "stream",
     "text": [
      "1/1 [==============================] - 0s 7ms/step\n",
      "1/1 [==============================] - 0s 19ms/step\n"
     ]
    },
    {
     "data": {
      "text/plain": [
       "array([[ True],\n",
       "       [ True],\n",
       "       [ True],\n",
       "       [ True],\n",
       "       [ True],\n",
       "       [ True],\n",
       "       [ True],\n",
       "       [ True],\n",
       "       [ True],\n",
       "       [ True]])"
      ]
     },
     "execution_count": 56,
     "metadata": {},
     "output_type": "execute_result"
    }
   ],
   "source": [
    "model_2_preds = model_2.predict(X_test)\n",
    "loaded_h5_model_preds = loaded_h5_model.predict(X_test)\n",
    "model_2_preds == loaded_h5_model_preds"
   ]
  },
  {
   "cell_type": "code",
   "execution_count": 57,
   "metadata": {
    "ExecuteTime": {
     "end_time": "2023-08-31T12:01:54.463993Z",
     "start_time": "2023-08-31T12:01:54.413133Z"
    },
    "colab": {
     "base_uri": "https://localhost:8080/",
     "height": 17
    },
    "id": "TFT5FKWQnmjK",
    "outputId": "cd11c15a-86ab-4eba-e70d-066f8cb2cc38"
   },
   "outputs": [],
   "source": [
    "#from google.colab import files\n",
    "#files.download(\"best_model_HDF5_format.h5\")"
   ]
  },
  {
   "cell_type": "code",
   "execution_count": 58,
   "metadata": {
    "ExecuteTime": {
     "end_time": "2023-08-31T12:01:54.464049Z",
     "start_time": "2023-08-31T12:01:54.415722Z"
    },
    "id": "HziEWQ6vocxS"
   },
   "outputs": [],
   "source": [
    "# Save a file from Google Colab to Google Drive\n",
    "#!cp /content/best_model_HDF5_format.h5 /content/drive/MyDrive/..."
   ]
  },
  {
   "cell_type": "markdown",
   "metadata": {
    "id": "Vf-6mKj_pYqZ"
   },
   "source": [
    "###A larger example"
   ]
  },
  {
   "cell_type": "code",
   "execution_count": 59,
   "metadata": {
    "ExecuteTime": {
     "end_time": "2023-08-31T12:01:54.464100Z",
     "start_time": "2023-08-31T12:01:54.417590Z"
    },
    "id": "OZEM6aSWpbv1"
   },
   "outputs": [],
   "source": [
    "# Import the required libraries\n",
    "import tensorflow as tf\n",
    "import pandas as pd\n",
    "import matplotlib.pyplot as plt"
   ]
  },
  {
   "cell_type": "code",
   "execution_count": 60,
   "metadata": {
    "ExecuteTime": {
     "end_time": "2023-08-31T12:10:34.944195Z",
     "start_time": "2023-08-31T12:10:34.690521Z"
    },
    "colab": {
     "base_uri": "https://localhost:8080/",
     "height": 411
    },
    "id": "skr5voncqdGF",
    "outputId": "475d3455-7b4d-495d-8f4d-0a7960a2c3d4"
   },
   "outputs": [
    {
     "data": {
      "text/html": [
       "<div>\n",
       "<style scoped>\n",
       "    .dataframe tbody tr th:only-of-type {\n",
       "        vertical-align: middle;\n",
       "    }\n",
       "\n",
       "    .dataframe tbody tr th {\n",
       "        vertical-align: top;\n",
       "    }\n",
       "\n",
       "    .dataframe thead th {\n",
       "        text-align: right;\n",
       "    }\n",
       "</style>\n",
       "<table border=\"1\" class=\"dataframe\">\n",
       "  <thead>\n",
       "    <tr style=\"text-align: right;\">\n",
       "      <th></th>\n",
       "      <th>age</th>\n",
       "      <th>sex</th>\n",
       "      <th>bmi</th>\n",
       "      <th>children</th>\n",
       "      <th>smoker</th>\n",
       "      <th>region</th>\n",
       "      <th>charges</th>\n",
       "    </tr>\n",
       "  </thead>\n",
       "  <tbody>\n",
       "    <tr>\n",
       "      <th>0</th>\n",
       "      <td>19</td>\n",
       "      <td>female</td>\n",
       "      <td>27.900</td>\n",
       "      <td>0</td>\n",
       "      <td>yes</td>\n",
       "      <td>southwest</td>\n",
       "      <td>16884.92400</td>\n",
       "    </tr>\n",
       "    <tr>\n",
       "      <th>1</th>\n",
       "      <td>18</td>\n",
       "      <td>male</td>\n",
       "      <td>33.770</td>\n",
       "      <td>1</td>\n",
       "      <td>no</td>\n",
       "      <td>southeast</td>\n",
       "      <td>1725.55230</td>\n",
       "    </tr>\n",
       "    <tr>\n",
       "      <th>2</th>\n",
       "      <td>28</td>\n",
       "      <td>male</td>\n",
       "      <td>33.000</td>\n",
       "      <td>3</td>\n",
       "      <td>no</td>\n",
       "      <td>southeast</td>\n",
       "      <td>4449.46200</td>\n",
       "    </tr>\n",
       "    <tr>\n",
       "      <th>3</th>\n",
       "      <td>33</td>\n",
       "      <td>male</td>\n",
       "      <td>22.705</td>\n",
       "      <td>0</td>\n",
       "      <td>no</td>\n",
       "      <td>northwest</td>\n",
       "      <td>21984.47061</td>\n",
       "    </tr>\n",
       "    <tr>\n",
       "      <th>4</th>\n",
       "      <td>32</td>\n",
       "      <td>male</td>\n",
       "      <td>28.880</td>\n",
       "      <td>0</td>\n",
       "      <td>no</td>\n",
       "      <td>northwest</td>\n",
       "      <td>3866.85520</td>\n",
       "    </tr>\n",
       "    <tr>\n",
       "      <th>...</th>\n",
       "      <td>...</td>\n",
       "      <td>...</td>\n",
       "      <td>...</td>\n",
       "      <td>...</td>\n",
       "      <td>...</td>\n",
       "      <td>...</td>\n",
       "      <td>...</td>\n",
       "    </tr>\n",
       "    <tr>\n",
       "      <th>1333</th>\n",
       "      <td>50</td>\n",
       "      <td>male</td>\n",
       "      <td>30.970</td>\n",
       "      <td>3</td>\n",
       "      <td>no</td>\n",
       "      <td>northwest</td>\n",
       "      <td>10600.54830</td>\n",
       "    </tr>\n",
       "    <tr>\n",
       "      <th>1334</th>\n",
       "      <td>18</td>\n",
       "      <td>female</td>\n",
       "      <td>31.920</td>\n",
       "      <td>0</td>\n",
       "      <td>no</td>\n",
       "      <td>northeast</td>\n",
       "      <td>2205.98080</td>\n",
       "    </tr>\n",
       "    <tr>\n",
       "      <th>1335</th>\n",
       "      <td>18</td>\n",
       "      <td>female</td>\n",
       "      <td>36.850</td>\n",
       "      <td>0</td>\n",
       "      <td>no</td>\n",
       "      <td>southeast</td>\n",
       "      <td>1629.83350</td>\n",
       "    </tr>\n",
       "    <tr>\n",
       "      <th>1336</th>\n",
       "      <td>21</td>\n",
       "      <td>female</td>\n",
       "      <td>25.800</td>\n",
       "      <td>0</td>\n",
       "      <td>no</td>\n",
       "      <td>southwest</td>\n",
       "      <td>2007.94500</td>\n",
       "    </tr>\n",
       "    <tr>\n",
       "      <th>1337</th>\n",
       "      <td>61</td>\n",
       "      <td>female</td>\n",
       "      <td>29.070</td>\n",
       "      <td>0</td>\n",
       "      <td>yes</td>\n",
       "      <td>northwest</td>\n",
       "      <td>29141.36030</td>\n",
       "    </tr>\n",
       "  </tbody>\n",
       "</table>\n",
       "<p>1338 rows × 7 columns</p>\n",
       "</div>"
      ],
      "text/plain": [
       "      age     sex     bmi  children smoker     region      charges\n",
       "0      19  female  27.900         0    yes  southwest  16884.92400\n",
       "1      18    male  33.770         1     no  southeast   1725.55230\n",
       "2      28    male  33.000         3     no  southeast   4449.46200\n",
       "3      33    male  22.705         0     no  northwest  21984.47061\n",
       "4      32    male  28.880         0     no  northwest   3866.85520\n",
       "...   ...     ...     ...       ...    ...        ...          ...\n",
       "1333   50    male  30.970         3     no  northwest  10600.54830\n",
       "1334   18  female  31.920         0     no  northeast   2205.98080\n",
       "1335   18  female  36.850         0     no  southeast   1629.83350\n",
       "1336   21  female  25.800         0     no  southwest   2007.94500\n",
       "1337   61  female  29.070         0    yes  northwest  29141.36030\n",
       "\n",
       "[1338 rows x 7 columns]"
      ]
     },
     "execution_count": 60,
     "metadata": {},
     "output_type": "execute_result"
    }
   ],
   "source": [
    "# Read in the insurance dataset\n",
    "insurance = pd.read_csv(\"https://raw.githubusercontent.com/stedy/Machine-Learning-with-R-datasets/master/insurance.csv\")\n",
    "insurance"
   ]
  },
  {
   "cell_type": "code",
   "execution_count": 61,
   "metadata": {
    "ExecuteTime": {
     "end_time": "2023-08-31T12:10:44.536928Z",
     "start_time": "2023-08-31T12:10:44.483580Z"
    },
    "colab": {
     "base_uri": "https://localhost:8080/",
     "height": 201
    },
    "id": "IXsyavGEqjjV",
    "outputId": "75063ec1-df5a-41ba-f08f-ad2f313410b9"
   },
   "outputs": [
    {
     "data": {
      "text/html": [
       "<div>\n",
       "<style scoped>\n",
       "    .dataframe tbody tr th:only-of-type {\n",
       "        vertical-align: middle;\n",
       "    }\n",
       "\n",
       "    .dataframe tbody tr th {\n",
       "        vertical-align: top;\n",
       "    }\n",
       "\n",
       "    .dataframe thead th {\n",
       "        text-align: right;\n",
       "    }\n",
       "</style>\n",
       "<table border=\"1\" class=\"dataframe\">\n",
       "  <thead>\n",
       "    <tr style=\"text-align: right;\">\n",
       "      <th></th>\n",
       "      <th>age</th>\n",
       "      <th>bmi</th>\n",
       "      <th>children</th>\n",
       "      <th>charges</th>\n",
       "      <th>sex_female</th>\n",
       "      <th>sex_male</th>\n",
       "      <th>smoker_no</th>\n",
       "      <th>smoker_yes</th>\n",
       "      <th>region_northeast</th>\n",
       "      <th>region_northwest</th>\n",
       "      <th>region_southeast</th>\n",
       "      <th>region_southwest</th>\n",
       "    </tr>\n",
       "  </thead>\n",
       "  <tbody>\n",
       "    <tr>\n",
       "      <th>0</th>\n",
       "      <td>19</td>\n",
       "      <td>27.900</td>\n",
       "      <td>0</td>\n",
       "      <td>16884.92400</td>\n",
       "      <td>True</td>\n",
       "      <td>False</td>\n",
       "      <td>False</td>\n",
       "      <td>True</td>\n",
       "      <td>False</td>\n",
       "      <td>False</td>\n",
       "      <td>False</td>\n",
       "      <td>True</td>\n",
       "    </tr>\n",
       "    <tr>\n",
       "      <th>1</th>\n",
       "      <td>18</td>\n",
       "      <td>33.770</td>\n",
       "      <td>1</td>\n",
       "      <td>1725.55230</td>\n",
       "      <td>False</td>\n",
       "      <td>True</td>\n",
       "      <td>True</td>\n",
       "      <td>False</td>\n",
       "      <td>False</td>\n",
       "      <td>False</td>\n",
       "      <td>True</td>\n",
       "      <td>False</td>\n",
       "    </tr>\n",
       "    <tr>\n",
       "      <th>2</th>\n",
       "      <td>28</td>\n",
       "      <td>33.000</td>\n",
       "      <td>3</td>\n",
       "      <td>4449.46200</td>\n",
       "      <td>False</td>\n",
       "      <td>True</td>\n",
       "      <td>True</td>\n",
       "      <td>False</td>\n",
       "      <td>False</td>\n",
       "      <td>False</td>\n",
       "      <td>True</td>\n",
       "      <td>False</td>\n",
       "    </tr>\n",
       "    <tr>\n",
       "      <th>3</th>\n",
       "      <td>33</td>\n",
       "      <td>22.705</td>\n",
       "      <td>0</td>\n",
       "      <td>21984.47061</td>\n",
       "      <td>False</td>\n",
       "      <td>True</td>\n",
       "      <td>True</td>\n",
       "      <td>False</td>\n",
       "      <td>False</td>\n",
       "      <td>True</td>\n",
       "      <td>False</td>\n",
       "      <td>False</td>\n",
       "    </tr>\n",
       "    <tr>\n",
       "      <th>4</th>\n",
       "      <td>32</td>\n",
       "      <td>28.880</td>\n",
       "      <td>0</td>\n",
       "      <td>3866.85520</td>\n",
       "      <td>False</td>\n",
       "      <td>True</td>\n",
       "      <td>True</td>\n",
       "      <td>False</td>\n",
       "      <td>False</td>\n",
       "      <td>True</td>\n",
       "      <td>False</td>\n",
       "      <td>False</td>\n",
       "    </tr>\n",
       "  </tbody>\n",
       "</table>\n",
       "</div>"
      ],
      "text/plain": [
       "   age     bmi  children      charges  sex_female  sex_male  smoker_no  \\\n",
       "0   19  27.900         0  16884.92400        True     False      False   \n",
       "1   18  33.770         1   1725.55230       False      True       True   \n",
       "2   28  33.000         3   4449.46200       False      True       True   \n",
       "3   33  22.705         0  21984.47061       False      True       True   \n",
       "4   32  28.880         0   3866.85520       False      True       True   \n",
       "\n",
       "   smoker_yes  region_northeast  region_northwest  region_southeast  \\\n",
       "0        True             False             False             False   \n",
       "1       False             False             False              True   \n",
       "2       False             False             False              True   \n",
       "3       False             False              True             False   \n",
       "4       False             False              True             False   \n",
       "\n",
       "   region_southwest  \n",
       "0              True  \n",
       "1             False  \n",
       "2             False  \n",
       "3             False  \n",
       "4             False  "
      ]
     },
     "execution_count": 61,
     "metadata": {},
     "output_type": "execute_result"
    }
   ],
   "source": [
    "# Let's try one-hot encode our DataFrame so it's all numbers.\n",
    "insurance_one_hot = pd.get_dummies(insurance)\n",
    "insurance_one_hot.head()"
   ]
  },
  {
   "cell_type": "code",
   "execution_count": 62,
   "metadata": {
    "ExecuteTime": {
     "end_time": "2023-08-31T12:11:03.655407Z",
     "start_time": "2023-08-31T12:11:03.618563Z"
    },
    "id": "ltu158BpRzA2"
   },
   "outputs": [],
   "source": [
    "# Create X & y values (features and sets)\n",
    "X = insurance_one_hot.drop(\"charges\", axis=1)\n",
    "y = insurance_one_hot[\"charges\"]"
   ]
  },
  {
   "cell_type": "code",
   "execution_count": 63,
   "metadata": {
    "ExecuteTime": {
     "end_time": "2023-08-31T12:17:31.712383Z",
     "start_time": "2023-08-31T12:17:31.651222Z"
    },
    "collapsed": false,
    "jupyter": {
     "outputs_hidden": false
    }
   },
   "outputs": [
    {
     "name": "stdout",
     "output_type": "stream",
     "text": [
      "<class 'pandas.core.frame.DataFrame'>\n",
      "RangeIndex: 1338 entries, 0 to 1337\n",
      "Data columns (total 11 columns):\n",
      " #   Column            Non-Null Count  Dtype  \n",
      "---  ------            --------------  -----  \n",
      " 0   age               1338 non-null   int64  \n",
      " 1   bmi               1338 non-null   float64\n",
      " 2   children          1338 non-null   int64  \n",
      " 3   sex_female        1338 non-null   bool   \n",
      " 4   sex_male          1338 non-null   bool   \n",
      " 5   smoker_no         1338 non-null   bool   \n",
      " 6   smoker_yes        1338 non-null   bool   \n",
      " 7   region_northeast  1338 non-null   bool   \n",
      " 8   region_northwest  1338 non-null   bool   \n",
      " 9   region_southeast  1338 non-null   bool   \n",
      " 10  region_southwest  1338 non-null   bool   \n",
      "dtypes: bool(8), float64(1), int64(2)\n",
      "memory usage: 41.9 KB\n"
     ]
    }
   ],
   "source": [
    "X.info()"
   ]
  },
  {
   "cell_type": "code",
   "execution_count": 65,
   "metadata": {
    "ExecuteTime": {
     "end_time": "2023-08-31T12:24:53.728223Z",
     "start_time": "2023-08-31T12:24:53.697111Z"
    },
    "collapsed": false,
    "jupyter": {
     "outputs_hidden": false
    }
   },
   "outputs": [
    {
     "data": {
      "text/html": [
       "<div>\n",
       "<style scoped>\n",
       "    .dataframe tbody tr th:only-of-type {\n",
       "        vertical-align: middle;\n",
       "    }\n",
       "\n",
       "    .dataframe tbody tr th {\n",
       "        vertical-align: top;\n",
       "    }\n",
       "\n",
       "    .dataframe thead th {\n",
       "        text-align: right;\n",
       "    }\n",
       "</style>\n",
       "<table border=\"1\" class=\"dataframe\">\n",
       "  <thead>\n",
       "    <tr style=\"text-align: right;\">\n",
       "      <th></th>\n",
       "      <th>age</th>\n",
       "      <th>bmi</th>\n",
       "      <th>children</th>\n",
       "      <th>sex_female</th>\n",
       "      <th>sex_male</th>\n",
       "      <th>smoker_no</th>\n",
       "      <th>smoker_yes</th>\n",
       "      <th>region_northeast</th>\n",
       "      <th>region_northwest</th>\n",
       "      <th>region_southeast</th>\n",
       "      <th>region_southwest</th>\n",
       "    </tr>\n",
       "  </thead>\n",
       "  <tbody>\n",
       "    <tr>\n",
       "      <th>0</th>\n",
       "      <td>19.0</td>\n",
       "      <td>27.900</td>\n",
       "      <td>0.0</td>\n",
       "      <td>1.0</td>\n",
       "      <td>0.0</td>\n",
       "      <td>0.0</td>\n",
       "      <td>1.0</td>\n",
       "      <td>0.0</td>\n",
       "      <td>0.0</td>\n",
       "      <td>0.0</td>\n",
       "      <td>1.0</td>\n",
       "    </tr>\n",
       "    <tr>\n",
       "      <th>1</th>\n",
       "      <td>18.0</td>\n",
       "      <td>33.770</td>\n",
       "      <td>1.0</td>\n",
       "      <td>0.0</td>\n",
       "      <td>1.0</td>\n",
       "      <td>1.0</td>\n",
       "      <td>0.0</td>\n",
       "      <td>0.0</td>\n",
       "      <td>0.0</td>\n",
       "      <td>1.0</td>\n",
       "      <td>0.0</td>\n",
       "    </tr>\n",
       "    <tr>\n",
       "      <th>2</th>\n",
       "      <td>28.0</td>\n",
       "      <td>33.000</td>\n",
       "      <td>3.0</td>\n",
       "      <td>0.0</td>\n",
       "      <td>1.0</td>\n",
       "      <td>1.0</td>\n",
       "      <td>0.0</td>\n",
       "      <td>0.0</td>\n",
       "      <td>0.0</td>\n",
       "      <td>1.0</td>\n",
       "      <td>0.0</td>\n",
       "    </tr>\n",
       "    <tr>\n",
       "      <th>3</th>\n",
       "      <td>33.0</td>\n",
       "      <td>22.705</td>\n",
       "      <td>0.0</td>\n",
       "      <td>0.0</td>\n",
       "      <td>1.0</td>\n",
       "      <td>1.0</td>\n",
       "      <td>0.0</td>\n",
       "      <td>0.0</td>\n",
       "      <td>1.0</td>\n",
       "      <td>0.0</td>\n",
       "      <td>0.0</td>\n",
       "    </tr>\n",
       "    <tr>\n",
       "      <th>4</th>\n",
       "      <td>32.0</td>\n",
       "      <td>28.880</td>\n",
       "      <td>0.0</td>\n",
       "      <td>0.0</td>\n",
       "      <td>1.0</td>\n",
       "      <td>1.0</td>\n",
       "      <td>0.0</td>\n",
       "      <td>0.0</td>\n",
       "      <td>1.0</td>\n",
       "      <td>0.0</td>\n",
       "      <td>0.0</td>\n",
       "    </tr>\n",
       "    <tr>\n",
       "      <th>...</th>\n",
       "      <td>...</td>\n",
       "      <td>...</td>\n",
       "      <td>...</td>\n",
       "      <td>...</td>\n",
       "      <td>...</td>\n",
       "      <td>...</td>\n",
       "      <td>...</td>\n",
       "      <td>...</td>\n",
       "      <td>...</td>\n",
       "      <td>...</td>\n",
       "      <td>...</td>\n",
       "    </tr>\n",
       "    <tr>\n",
       "      <th>1333</th>\n",
       "      <td>50.0</td>\n",
       "      <td>30.970</td>\n",
       "      <td>3.0</td>\n",
       "      <td>0.0</td>\n",
       "      <td>1.0</td>\n",
       "      <td>1.0</td>\n",
       "      <td>0.0</td>\n",
       "      <td>0.0</td>\n",
       "      <td>1.0</td>\n",
       "      <td>0.0</td>\n",
       "      <td>0.0</td>\n",
       "    </tr>\n",
       "    <tr>\n",
       "      <th>1334</th>\n",
       "      <td>18.0</td>\n",
       "      <td>31.920</td>\n",
       "      <td>0.0</td>\n",
       "      <td>1.0</td>\n",
       "      <td>0.0</td>\n",
       "      <td>1.0</td>\n",
       "      <td>0.0</td>\n",
       "      <td>1.0</td>\n",
       "      <td>0.0</td>\n",
       "      <td>0.0</td>\n",
       "      <td>0.0</td>\n",
       "    </tr>\n",
       "    <tr>\n",
       "      <th>1335</th>\n",
       "      <td>18.0</td>\n",
       "      <td>36.850</td>\n",
       "      <td>0.0</td>\n",
       "      <td>1.0</td>\n",
       "      <td>0.0</td>\n",
       "      <td>1.0</td>\n",
       "      <td>0.0</td>\n",
       "      <td>0.0</td>\n",
       "      <td>0.0</td>\n",
       "      <td>1.0</td>\n",
       "      <td>0.0</td>\n",
       "    </tr>\n",
       "    <tr>\n",
       "      <th>1336</th>\n",
       "      <td>21.0</td>\n",
       "      <td>25.800</td>\n",
       "      <td>0.0</td>\n",
       "      <td>1.0</td>\n",
       "      <td>0.0</td>\n",
       "      <td>1.0</td>\n",
       "      <td>0.0</td>\n",
       "      <td>0.0</td>\n",
       "      <td>0.0</td>\n",
       "      <td>0.0</td>\n",
       "      <td>1.0</td>\n",
       "    </tr>\n",
       "    <tr>\n",
       "      <th>1337</th>\n",
       "      <td>61.0</td>\n",
       "      <td>29.070</td>\n",
       "      <td>0.0</td>\n",
       "      <td>1.0</td>\n",
       "      <td>0.0</td>\n",
       "      <td>0.0</td>\n",
       "      <td>1.0</td>\n",
       "      <td>0.0</td>\n",
       "      <td>1.0</td>\n",
       "      <td>0.0</td>\n",
       "      <td>0.0</td>\n",
       "    </tr>\n",
       "  </tbody>\n",
       "</table>\n",
       "<p>1338 rows × 11 columns</p>\n",
       "</div>"
      ],
      "text/plain": [
       "       age     bmi  children  sex_female  sex_male  smoker_no  smoker_yes  \\\n",
       "0     19.0  27.900       0.0         1.0       0.0        0.0         1.0   \n",
       "1     18.0  33.770       1.0         0.0       1.0        1.0         0.0   \n",
       "2     28.0  33.000       3.0         0.0       1.0        1.0         0.0   \n",
       "3     33.0  22.705       0.0         0.0       1.0        1.0         0.0   \n",
       "4     32.0  28.880       0.0         0.0       1.0        1.0         0.0   \n",
       "...    ...     ...       ...         ...       ...        ...         ...   \n",
       "1333  50.0  30.970       3.0         0.0       1.0        1.0         0.0   \n",
       "1334  18.0  31.920       0.0         1.0       0.0        1.0         0.0   \n",
       "1335  18.0  36.850       0.0         1.0       0.0        1.0         0.0   \n",
       "1336  21.0  25.800       0.0         1.0       0.0        1.0         0.0   \n",
       "1337  61.0  29.070       0.0         1.0       0.0        0.0         1.0   \n",
       "\n",
       "      region_northeast  region_northwest  region_southeast  region_southwest  \n",
       "0                  0.0               0.0               0.0               1.0  \n",
       "1                  0.0               0.0               1.0               0.0  \n",
       "2                  0.0               0.0               1.0               0.0  \n",
       "3                  0.0               1.0               0.0               0.0  \n",
       "4                  0.0               1.0               0.0               0.0  \n",
       "...                ...               ...               ...               ...  \n",
       "1333               0.0               1.0               0.0               0.0  \n",
       "1334               1.0               0.0               0.0               0.0  \n",
       "1335               0.0               0.0               1.0               0.0  \n",
       "1336               0.0               0.0               0.0               1.0  \n",
       "1337               0.0               1.0               0.0               0.0  \n",
       "\n",
       "[1338 rows x 11 columns]"
      ]
     },
     "execution_count": 65,
     "metadata": {},
     "output_type": "execute_result"
    }
   ],
   "source": [
    "import so_ml_tools as soml\n",
    "\n",
    "# int64 -> float32\n",
    "soml.pd.dataframe.convert_column_to_type(dataframe=X, columns=['age', 'children'], dtype=np.float32)\n",
    "\n",
    "# bool -> float32\n",
    "soml.pd.dataframe.convert_column_to_type(dataframe=X, columns=['sex_female', 'sex_male', 'smoker_no', 'smoker_yes', 'region_northeast', 'region_northwest', 'region_southeast', 'region_southwest'], dtype=np.float32)"
   ]
  },
  {
   "cell_type": "code",
   "execution_count": 66,
   "metadata": {
    "ExecuteTime": {
     "end_time": "2023-08-31T12:24:57.728028Z",
     "start_time": "2023-08-31T12:24:57.686079Z"
    },
    "colab": {
     "base_uri": "https://localhost:8080/",
     "height": 201
    },
    "id": "JZ2-ybWFTxkq",
    "outputId": "3024921b-5586-445a-a6ab-bb15d50e3272"
   },
   "outputs": [
    {
     "data": {
      "text/html": [
       "<div>\n",
       "<style scoped>\n",
       "    .dataframe tbody tr th:only-of-type {\n",
       "        vertical-align: middle;\n",
       "    }\n",
       "\n",
       "    .dataframe tbody tr th {\n",
       "        vertical-align: top;\n",
       "    }\n",
       "\n",
       "    .dataframe thead th {\n",
       "        text-align: right;\n",
       "    }\n",
       "</style>\n",
       "<table border=\"1\" class=\"dataframe\">\n",
       "  <thead>\n",
       "    <tr style=\"text-align: right;\">\n",
       "      <th></th>\n",
       "      <th>age</th>\n",
       "      <th>bmi</th>\n",
       "      <th>children</th>\n",
       "      <th>sex_female</th>\n",
       "      <th>sex_male</th>\n",
       "      <th>smoker_no</th>\n",
       "      <th>smoker_yes</th>\n",
       "      <th>region_northeast</th>\n",
       "      <th>region_northwest</th>\n",
       "      <th>region_southeast</th>\n",
       "      <th>region_southwest</th>\n",
       "    </tr>\n",
       "  </thead>\n",
       "  <tbody>\n",
       "    <tr>\n",
       "      <th>0</th>\n",
       "      <td>19.0</td>\n",
       "      <td>27.900</td>\n",
       "      <td>0.0</td>\n",
       "      <td>1.0</td>\n",
       "      <td>0.0</td>\n",
       "      <td>0.0</td>\n",
       "      <td>1.0</td>\n",
       "      <td>0.0</td>\n",
       "      <td>0.0</td>\n",
       "      <td>0.0</td>\n",
       "      <td>1.0</td>\n",
       "    </tr>\n",
       "    <tr>\n",
       "      <th>1</th>\n",
       "      <td>18.0</td>\n",
       "      <td>33.770</td>\n",
       "      <td>1.0</td>\n",
       "      <td>0.0</td>\n",
       "      <td>1.0</td>\n",
       "      <td>1.0</td>\n",
       "      <td>0.0</td>\n",
       "      <td>0.0</td>\n",
       "      <td>0.0</td>\n",
       "      <td>1.0</td>\n",
       "      <td>0.0</td>\n",
       "    </tr>\n",
       "    <tr>\n",
       "      <th>2</th>\n",
       "      <td>28.0</td>\n",
       "      <td>33.000</td>\n",
       "      <td>3.0</td>\n",
       "      <td>0.0</td>\n",
       "      <td>1.0</td>\n",
       "      <td>1.0</td>\n",
       "      <td>0.0</td>\n",
       "      <td>0.0</td>\n",
       "      <td>0.0</td>\n",
       "      <td>1.0</td>\n",
       "      <td>0.0</td>\n",
       "    </tr>\n",
       "    <tr>\n",
       "      <th>3</th>\n",
       "      <td>33.0</td>\n",
       "      <td>22.705</td>\n",
       "      <td>0.0</td>\n",
       "      <td>0.0</td>\n",
       "      <td>1.0</td>\n",
       "      <td>1.0</td>\n",
       "      <td>0.0</td>\n",
       "      <td>0.0</td>\n",
       "      <td>1.0</td>\n",
       "      <td>0.0</td>\n",
       "      <td>0.0</td>\n",
       "    </tr>\n",
       "    <tr>\n",
       "      <th>4</th>\n",
       "      <td>32.0</td>\n",
       "      <td>28.880</td>\n",
       "      <td>0.0</td>\n",
       "      <td>0.0</td>\n",
       "      <td>1.0</td>\n",
       "      <td>1.0</td>\n",
       "      <td>0.0</td>\n",
       "      <td>0.0</td>\n",
       "      <td>1.0</td>\n",
       "      <td>0.0</td>\n",
       "      <td>0.0</td>\n",
       "    </tr>\n",
       "  </tbody>\n",
       "</table>\n",
       "</div>"
      ],
      "text/plain": [
       "    age     bmi  children  sex_female  sex_male  smoker_no  smoker_yes  \\\n",
       "0  19.0  27.900       0.0         1.0       0.0        0.0         1.0   \n",
       "1  18.0  33.770       1.0         0.0       1.0        1.0         0.0   \n",
       "2  28.0  33.000       3.0         0.0       1.0        1.0         0.0   \n",
       "3  33.0  22.705       0.0         0.0       1.0        1.0         0.0   \n",
       "4  32.0  28.880       0.0         0.0       1.0        1.0         0.0   \n",
       "\n",
       "   region_northeast  region_northwest  region_southeast  region_southwest  \n",
       "0               0.0               0.0               0.0               1.0  \n",
       "1               0.0               0.0               1.0               0.0  \n",
       "2               0.0               0.0               1.0               0.0  \n",
       "3               0.0               1.0               0.0               0.0  \n",
       "4               0.0               1.0               0.0               0.0  "
      ]
     },
     "execution_count": 66,
     "metadata": {},
     "output_type": "execute_result"
    }
   ],
   "source": [
    "# View X\n",
    "X.head()"
   ]
  },
  {
   "cell_type": "code",
   "execution_count": 67,
   "metadata": {
    "ExecuteTime": {
     "end_time": "2023-08-31T12:24:59.555217Z",
     "start_time": "2023-08-31T12:24:59.502829Z"
    },
    "colab": {
     "base_uri": "https://localhost:8080/"
    },
    "id": "hnwf8B-8T3zV",
    "outputId": "fc00c759-7e88-4546-f9dc-e2adea0a5754"
   },
   "outputs": [
    {
     "data": {
      "text/plain": [
       "0    16884.92400\n",
       "1     1725.55230\n",
       "2     4449.46200\n",
       "3    21984.47061\n",
       "4     3866.85520\n",
       "Name: charges, dtype: float64"
      ]
     },
     "execution_count": 67,
     "metadata": {},
     "output_type": "execute_result"
    }
   ],
   "source": [
    "# View y\n",
    "y.head()"
   ]
  },
  {
   "cell_type": "code",
   "execution_count": 68,
   "metadata": {
    "ExecuteTime": {
     "end_time": "2023-08-31T12:25:15.320424Z",
     "start_time": "2023-08-31T12:25:15.279456Z"
    },
    "colab": {
     "base_uri": "https://localhost:8080/"
    },
    "id": "ybgn9AaeTexl",
    "outputId": "7bafca56-f415-4830-b482-e915ee0db978"
   },
   "outputs": [
    {
     "data": {
      "text/plain": [
       "(1338, 1070, 268)"
      ]
     },
     "execution_count": 68,
     "metadata": {},
     "output_type": "execute_result"
    }
   ],
   "source": [
    "# Create training and test sets\n",
    "from sklearn.model_selection import train_test_split\n",
    "X_train, X_test, y_train, y_test = train_test_split(X, y, test_size=0.20, random_state=42)\n",
    "len(X), len(X_train), len(X_test)"
   ]
  },
  {
   "cell_type": "code",
   "execution_count": 69,
   "metadata": {
    "ExecuteTime": {
     "end_time": "2023-08-31T12:26:17.210045Z",
     "start_time": "2023-08-31T12:25:16.625158Z"
    },
    "colab": {
     "base_uri": "https://localhost:8080/"
    },
    "id": "h25VXQpcTgpc",
    "outputId": "41622dcc-3413-478c-ae78-f4a2d663b23c"
   },
   "outputs": [
    {
     "name": "stdout",
     "output_type": "stream",
     "text": [
      "Epoch 1/250\n",
      "34/34 [==============================] - 1s 2ms/step - loss: 13343.1104 - mae: 13343.1104\n",
      "Epoch 2/250\n",
      "34/34 [==============================] - 0s 1ms/step - loss: 13288.5264 - mae: 13288.5264\n",
      "Epoch 3/250\n",
      "34/34 [==============================] - 0s 1ms/step - loss: 12979.4570 - mae: 12979.4570\n",
      "Epoch 4/250\n",
      "34/34 [==============================] - 0s 1ms/step - loss: 12027.9102 - mae: 12027.9102\n",
      "Epoch 5/250\n",
      "34/34 [==============================] - 0s 1ms/step - loss: 10493.5215 - mae: 10493.5215\n",
      "Epoch 6/250\n",
      "34/34 [==============================] - 0s 1ms/step - loss: 9233.0713 - mae: 9233.0713\n",
      "Epoch 7/250\n",
      "34/34 [==============================] - 0s 1ms/step - loss: 8579.3896 - mae: 8579.3896\n",
      "Epoch 8/250\n",
      "34/34 [==============================] - 0s 1ms/step - loss: 8008.4980 - mae: 8008.4980\n",
      "Epoch 9/250\n",
      "34/34 [==============================] - 0s 1ms/step - loss: 7800.6470 - mae: 7800.6470\n",
      "Epoch 10/250\n",
      "34/34 [==============================] - 0s 1ms/step - loss: 7532.5381 - mae: 7532.5381\n",
      "Epoch 11/250\n",
      "34/34 [==============================] - 0s 1ms/step - loss: 7312.8325 - mae: 7312.8325\n",
      "Epoch 12/250\n",
      "34/34 [==============================] - 0s 1ms/step - loss: 7130.0562 - mae: 7130.0562\n",
      "Epoch 13/250\n",
      "34/34 [==============================] - 0s 1ms/step - loss: 6895.7500 - mae: 6895.7500\n",
      "Epoch 14/250\n",
      "34/34 [==============================] - 0s 1ms/step - loss: 6456.8779 - mae: 6456.8779\n",
      "Epoch 15/250\n",
      "34/34 [==============================] - 0s 1ms/step - loss: 6260.4268 - mae: 6260.4268\n",
      "Epoch 16/250\n",
      "34/34 [==============================] - 0s 1ms/step - loss: 5970.7729 - mae: 5970.7729\n",
      "Epoch 17/250\n",
      "34/34 [==============================] - 0s 1ms/step - loss: 5960.4233 - mae: 5960.4233\n",
      "Epoch 18/250\n",
      "34/34 [==============================] - 0s 1ms/step - loss: 5906.1782 - mae: 5906.1782\n",
      "Epoch 19/250\n",
      "34/34 [==============================] - 0s 1ms/step - loss: 5649.0723 - mae: 5649.0723\n",
      "Epoch 20/250\n",
      "34/34 [==============================] - 0s 1ms/step - loss: 5278.7944 - mae: 5278.7944\n",
      "Epoch 21/250\n",
      "34/34 [==============================] - 0s 1ms/step - loss: 5260.4614 - mae: 5260.4614\n",
      "Epoch 22/250\n",
      "34/34 [==============================] - 0s 1ms/step - loss: 5353.0317 - mae: 5353.0317\n",
      "Epoch 23/250\n",
      "34/34 [==============================] - 0s 1ms/step - loss: 5174.5391 - mae: 5174.5391\n",
      "Epoch 24/250\n",
      "34/34 [==============================] - 0s 1ms/step - loss: 5032.1504 - mae: 5032.1504\n",
      "Epoch 25/250\n",
      "34/34 [==============================] - 0s 1ms/step - loss: 5040.1655 - mae: 5040.1655\n",
      "Epoch 26/250\n",
      "34/34 [==============================] - 0s 1ms/step - loss: 5085.4629 - mae: 5085.4629\n",
      "Epoch 27/250\n",
      "34/34 [==============================] - 0s 1ms/step - loss: 4884.1167 - mae: 4884.1167\n",
      "Epoch 28/250\n",
      "34/34 [==============================] - 0s 1ms/step - loss: 4838.1655 - mae: 4838.1655\n",
      "Epoch 29/250\n",
      "34/34 [==============================] - 0s 1ms/step - loss: 4830.3525 - mae: 4830.3525\n",
      "Epoch 30/250\n",
      "34/34 [==============================] - 0s 1ms/step - loss: 4829.4043 - mae: 4829.4043\n",
      "Epoch 31/250\n",
      "34/34 [==============================] - 0s 1ms/step - loss: 4709.2168 - mae: 4709.2168\n",
      "Epoch 32/250\n",
      "34/34 [==============================] - 0s 1ms/step - loss: 4564.0596 - mae: 4564.0596\n",
      "Epoch 33/250\n",
      "34/34 [==============================] - 0s 1ms/step - loss: 4578.4355 - mae: 4578.4355\n",
      "Epoch 34/250\n",
      "34/34 [==============================] - 0s 1ms/step - loss: 4699.7617 - mae: 4699.7617\n",
      "Epoch 35/250\n",
      "34/34 [==============================] - 0s 1ms/step - loss: 4546.9375 - mae: 4546.9375\n",
      "Epoch 36/250\n",
      "34/34 [==============================] - 0s 1ms/step - loss: 4648.1992 - mae: 4648.1992\n",
      "Epoch 37/250\n",
      "34/34 [==============================] - 0s 1ms/step - loss: 4675.3652 - mae: 4675.3652\n",
      "Epoch 38/250\n",
      "34/34 [==============================] - 0s 1ms/step - loss: 4781.7954 - mae: 4781.7954\n",
      "Epoch 39/250\n",
      "34/34 [==============================] - 0s 1ms/step - loss: 4643.5405 - mae: 4643.5405\n",
      "Epoch 40/250\n",
      "34/34 [==============================] - 0s 1ms/step - loss: 4748.2529 - mae: 4748.2529\n",
      "Epoch 41/250\n",
      "34/34 [==============================] - 0s 1ms/step - loss: 4749.8208 - mae: 4749.8208\n",
      "Epoch 42/250\n",
      "34/34 [==============================] - 0s 1ms/step - loss: 4637.1611 - mae: 4637.1611\n",
      "Epoch 43/250\n",
      "34/34 [==============================] - 0s 1ms/step - loss: 4602.7397 - mae: 4602.7397\n",
      "Epoch 44/250\n",
      "34/34 [==============================] - 0s 1ms/step - loss: 4567.8687 - mae: 4567.8687\n",
      "Epoch 45/250\n",
      "34/34 [==============================] - 0s 1ms/step - loss: 4691.8438 - mae: 4691.8438\n",
      "Epoch 46/250\n",
      "34/34 [==============================] - 0s 1ms/step - loss: 4599.7759 - mae: 4599.7759\n",
      "Epoch 47/250\n",
      "34/34 [==============================] - 0s 1ms/step - loss: 4716.2959 - mae: 4716.2959\n",
      "Epoch 48/250\n",
      "34/34 [==============================] - 0s 1ms/step - loss: 4730.3003 - mae: 4730.3003\n",
      "Epoch 49/250\n",
      "34/34 [==============================] - 0s 1ms/step - loss: 4718.8027 - mae: 4718.8027\n",
      "Epoch 50/250\n",
      "34/34 [==============================] - 0s 1ms/step - loss: 4589.7163 - mae: 4589.7163\n",
      "Epoch 51/250\n",
      "34/34 [==============================] - 0s 1ms/step - loss: 4593.7227 - mae: 4593.7227\n",
      "Epoch 52/250\n",
      "34/34 [==============================] - 0s 1ms/step - loss: 4597.1294 - mae: 4597.1294\n",
      "Epoch 53/250\n",
      "34/34 [==============================] - 0s 1ms/step - loss: 4403.1519 - mae: 4403.1519\n",
      "Epoch 54/250\n",
      "34/34 [==============================] - 0s 1ms/step - loss: 4603.8022 - mae: 4603.8022\n",
      "Epoch 55/250\n",
      "34/34 [==============================] - 0s 1ms/step - loss: 4597.6899 - mae: 4597.6899\n",
      "Epoch 56/250\n",
      "34/34 [==============================] - 0s 1ms/step - loss: 4217.4790 - mae: 4217.4790\n",
      "Epoch 57/250\n",
      "34/34 [==============================] - 0s 1ms/step - loss: 4499.0454 - mae: 4499.0454\n",
      "Epoch 58/250\n",
      "34/34 [==============================] - 0s 1ms/step - loss: 4548.2100 - mae: 4548.2100\n",
      "Epoch 59/250\n",
      "34/34 [==============================] - 0s 1ms/step - loss: 4366.6221 - mae: 4366.6221\n",
      "Epoch 60/250\n",
      "34/34 [==============================] - 0s 1ms/step - loss: 4384.9829 - mae: 4384.9829\n",
      "Epoch 61/250\n",
      "34/34 [==============================] - 0s 1ms/step - loss: 4404.1875 - mae: 4404.1875\n",
      "Epoch 62/250\n",
      "34/34 [==============================] - 0s 1ms/step - loss: 4595.6597 - mae: 4595.6597\n",
      "Epoch 63/250\n",
      "34/34 [==============================] - 0s 1ms/step - loss: 4253.2500 - mae: 4253.2500\n",
      "Epoch 64/250\n",
      "34/34 [==============================] - 0s 1ms/step - loss: 4409.1226 - mae: 4409.1226\n",
      "Epoch 65/250\n",
      "34/34 [==============================] - 0s 1ms/step - loss: 4455.7656 - mae: 4455.7656\n",
      "Epoch 66/250\n",
      "34/34 [==============================] - 0s 1ms/step - loss: 4448.8765 - mae: 4448.8765\n",
      "Epoch 67/250\n",
      "34/34 [==============================] - 0s 1ms/step - loss: 4441.7085 - mae: 4441.7085\n",
      "Epoch 68/250\n",
      "34/34 [==============================] - 0s 1ms/step - loss: 4489.4316 - mae: 4489.4316\n",
      "Epoch 69/250\n",
      "34/34 [==============================] - 0s 1ms/step - loss: 4449.4839 - mae: 4449.4839\n",
      "Epoch 70/250\n",
      "34/34 [==============================] - 0s 1ms/step - loss: 4390.5815 - mae: 4390.5815\n",
      "Epoch 71/250\n",
      "34/34 [==============================] - 0s 1ms/step - loss: 4420.4395 - mae: 4420.4395\n",
      "Epoch 72/250\n",
      "34/34 [==============================] - 0s 1ms/step - loss: 4248.6665 - mae: 4248.6665\n",
      "Epoch 73/250\n",
      "34/34 [==============================] - 0s 1ms/step - loss: 4196.6787 - mae: 4196.6787\n",
      "Epoch 74/250\n",
      "34/34 [==============================] - 0s 1ms/step - loss: 4482.0845 - mae: 4482.0845\n",
      "Epoch 75/250\n",
      "34/34 [==============================] - 0s 1ms/step - loss: 4212.1089 - mae: 4212.1089\n",
      "Epoch 76/250\n",
      "34/34 [==============================] - 0s 1ms/step - loss: 4271.4941 - mae: 4271.4941\n",
      "Epoch 77/250\n",
      "34/34 [==============================] - 0s 1ms/step - loss: 4338.4565 - mae: 4338.4565\n",
      "Epoch 78/250\n",
      "34/34 [==============================] - 0s 1ms/step - loss: 4232.3638 - mae: 4232.3638\n",
      "Epoch 79/250\n",
      "34/34 [==============================] - 0s 1ms/step - loss: 4146.3535 - mae: 4146.3535\n",
      "Epoch 80/250\n",
      "34/34 [==============================] - 0s 1ms/step - loss: 4238.7983 - mae: 4238.7983\n",
      "Epoch 81/250\n",
      "34/34 [==============================] - 0s 1ms/step - loss: 4315.4204 - mae: 4315.4204\n",
      "Epoch 82/250\n",
      "34/34 [==============================] - 0s 1ms/step - loss: 4203.3423 - mae: 4203.3423\n",
      "Epoch 83/250\n",
      "34/34 [==============================] - 0s 1ms/step - loss: 4244.9224 - mae: 4244.9224\n",
      "Epoch 84/250\n",
      "34/34 [==============================] - 0s 1ms/step - loss: 4241.3877 - mae: 4241.3877\n",
      "Epoch 85/250\n",
      "34/34 [==============================] - 0s 1ms/step - loss: 4143.1304 - mae: 4143.1304\n",
      "Epoch 86/250\n",
      "34/34 [==============================] - 0s 1ms/step - loss: 4206.6646 - mae: 4206.6646\n",
      "Epoch 87/250\n",
      "34/34 [==============================] - 0s 1ms/step - loss: 4134.9297 - mae: 4134.9297\n",
      "Epoch 88/250\n",
      "34/34 [==============================] - 0s 1ms/step - loss: 4006.5720 - mae: 4006.5720\n",
      "Epoch 89/250\n",
      "34/34 [==============================] - 0s 1ms/step - loss: 4134.7441 - mae: 4134.7441\n",
      "Epoch 90/250\n",
      "34/34 [==============================] - 0s 1ms/step - loss: 4270.8003 - mae: 4270.8003\n",
      "Epoch 91/250\n",
      "34/34 [==============================] - 0s 1ms/step - loss: 4136.8071 - mae: 4136.8071\n",
      "Epoch 92/250\n",
      "34/34 [==============================] - 0s 1ms/step - loss: 4130.7798 - mae: 4130.7798\n",
      "Epoch 93/250\n",
      "34/34 [==============================] - 0s 1ms/step - loss: 4210.3560 - mae: 4210.3560\n",
      "Epoch 94/250\n",
      "34/34 [==============================] - 0s 1ms/step - loss: 4173.1069 - mae: 4173.1069\n",
      "Epoch 95/250\n",
      "34/34 [==============================] - 0s 1ms/step - loss: 3920.9280 - mae: 3920.9280\n",
      "Epoch 96/250\n",
      "34/34 [==============================] - 0s 1ms/step - loss: 4070.5107 - mae: 4070.5107\n",
      "Epoch 97/250\n",
      "34/34 [==============================] - 0s 1ms/step - loss: 3956.8047 - mae: 3956.8047\n",
      "Epoch 98/250\n",
      "34/34 [==============================] - 0s 1ms/step - loss: 4073.6401 - mae: 4073.6401\n",
      "Epoch 99/250\n",
      "34/34 [==============================] - 0s 1ms/step - loss: 3940.3164 - mae: 3940.3164\n",
      "Epoch 100/250\n",
      "34/34 [==============================] - 0s 1ms/step - loss: 3984.8835 - mae: 3984.8835\n",
      "Epoch 101/250\n",
      "34/34 [==============================] - 0s 1ms/step - loss: 3979.1323 - mae: 3979.1323\n",
      "Epoch 102/250\n",
      "34/34 [==============================] - 0s 1ms/step - loss: 3942.5103 - mae: 3942.5103\n",
      "Epoch 103/250\n",
      "34/34 [==============================] - 0s 1ms/step - loss: 3863.6768 - mae: 3863.6768\n",
      "Epoch 104/250\n",
      "34/34 [==============================] - 0s 1ms/step - loss: 3735.6492 - mae: 3735.6492\n",
      "Epoch 105/250\n",
      "34/34 [==============================] - 0s 1ms/step - loss: 3894.2849 - mae: 3894.2849\n",
      "Epoch 106/250\n",
      "34/34 [==============================] - 0s 1ms/step - loss: 3842.0623 - mae: 3842.0623\n",
      "Epoch 107/250\n",
      "34/34 [==============================] - 0s 1ms/step - loss: 3825.0544 - mae: 3825.0544\n",
      "Epoch 108/250\n",
      "34/34 [==============================] - 0s 1ms/step - loss: 3818.3145 - mae: 3818.3145\n",
      "Epoch 109/250\n",
      "34/34 [==============================] - 0s 1ms/step - loss: 3843.7729 - mae: 3843.7729\n",
      "Epoch 110/250\n",
      "34/34 [==============================] - 0s 1ms/step - loss: 3799.1328 - mae: 3799.1328\n",
      "Epoch 111/250\n",
      "34/34 [==============================] - 0s 1ms/step - loss: 3722.8955 - mae: 3722.8955\n",
      "Epoch 112/250\n",
      "34/34 [==============================] - 0s 1ms/step - loss: 3813.6799 - mae: 3813.6799\n",
      "Epoch 113/250\n",
      "34/34 [==============================] - 0s 1ms/step - loss: 3751.8716 - mae: 3751.8716\n",
      "Epoch 114/250\n",
      "34/34 [==============================] - 0s 1ms/step - loss: 3861.3916 - mae: 3861.3916\n",
      "Epoch 115/250\n",
      "34/34 [==============================] - 0s 1ms/step - loss: 3728.2273 - mae: 3728.2273\n",
      "Epoch 116/250\n",
      "34/34 [==============================] - 0s 1ms/step - loss: 3731.8267 - mae: 3731.8267\n",
      "Epoch 117/250\n",
      "34/34 [==============================] - 0s 1ms/step - loss: 3628.6333 - mae: 3628.6333\n",
      "Epoch 118/250\n",
      "34/34 [==============================] - 0s 1ms/step - loss: 3589.3491 - mae: 3589.3491\n",
      "Epoch 119/250\n",
      "34/34 [==============================] - 0s 1ms/step - loss: 3641.8784 - mae: 3641.8784\n",
      "Epoch 120/250\n",
      "34/34 [==============================] - 0s 1ms/step - loss: 3749.2224 - mae: 3749.2224\n",
      "Epoch 121/250\n",
      "34/34 [==============================] - 0s 1ms/step - loss: 3543.9077 - mae: 3543.9077\n",
      "Epoch 122/250\n",
      "34/34 [==============================] - 0s 1ms/step - loss: 3536.5193 - mae: 3536.5193\n",
      "Epoch 123/250\n",
      "34/34 [==============================] - 0s 1ms/step - loss: 3706.0962 - mae: 3706.0962\n",
      "Epoch 124/250\n",
      "34/34 [==============================] - 0s 1ms/step - loss: 3721.6514 - mae: 3721.6514\n",
      "Epoch 125/250\n",
      "34/34 [==============================] - 0s 1ms/step - loss: 3688.8967 - mae: 3688.8967\n",
      "Epoch 126/250\n",
      "34/34 [==============================] - 0s 1ms/step - loss: 3509.8723 - mae: 3509.8723\n",
      "Epoch 127/250\n",
      "34/34 [==============================] - 0s 1ms/step - loss: 3596.5513 - mae: 3596.5513\n",
      "Epoch 128/250\n",
      "34/34 [==============================] - 0s 1ms/step - loss: 3544.4922 - mae: 3544.4922\n",
      "Epoch 129/250\n",
      "34/34 [==============================] - 0s 1ms/step - loss: 3574.9934 - mae: 3574.9934\n",
      "Epoch 130/250\n",
      "34/34 [==============================] - 0s 1ms/step - loss: 3504.4893 - mae: 3504.4893\n",
      "Epoch 131/250\n",
      "34/34 [==============================] - 0s 1ms/step - loss: 3612.0586 - mae: 3612.0586\n",
      "Epoch 132/250\n",
      "34/34 [==============================] - 0s 1ms/step - loss: 3537.0886 - mae: 3537.0886\n",
      "Epoch 133/250\n",
      "34/34 [==============================] - 0s 1ms/step - loss: 3403.9158 - mae: 3403.9158\n",
      "Epoch 134/250\n",
      "34/34 [==============================] - 0s 1ms/step - loss: 3403.8066 - mae: 3403.8066\n",
      "Epoch 135/250\n",
      "34/34 [==============================] - 0s 1ms/step - loss: 3477.4531 - mae: 3477.4531\n",
      "Epoch 136/250\n",
      "34/34 [==============================] - 0s 1ms/step - loss: 3542.9368 - mae: 3542.9368\n",
      "Epoch 137/250\n",
      "34/34 [==============================] - 0s 1ms/step - loss: 3591.7742 - mae: 3591.7742\n",
      "Epoch 138/250\n",
      "34/34 [==============================] - 0s 1ms/step - loss: 3485.1704 - mae: 3485.1704\n",
      "Epoch 139/250\n",
      "34/34 [==============================] - 0s 1ms/step - loss: 3379.9841 - mae: 3379.9841\n",
      "Epoch 140/250\n",
      "34/34 [==============================] - 0s 1ms/step - loss: 3607.8169 - mae: 3607.8169\n",
      "Epoch 141/250\n",
      "34/34 [==============================] - 0s 1ms/step - loss: 3427.4685 - mae: 3427.4685\n",
      "Epoch 142/250\n",
      "34/34 [==============================] - 0s 1ms/step - loss: 3514.3452 - mae: 3514.3452\n",
      "Epoch 143/250\n",
      "34/34 [==============================] - 0s 1ms/step - loss: 3393.6567 - mae: 3393.6567\n",
      "Epoch 144/250\n",
      "34/34 [==============================] - 0s 1ms/step - loss: 3436.7949 - mae: 3436.7949\n",
      "Epoch 145/250\n",
      "34/34 [==============================] - 0s 1ms/step - loss: 3642.6050 - mae: 3642.6050\n",
      "Epoch 146/250\n",
      "34/34 [==============================] - 0s 1ms/step - loss: 3399.4280 - mae: 3399.4280\n",
      "Epoch 147/250\n",
      "34/34 [==============================] - 0s 1ms/step - loss: 3397.1467 - mae: 3397.1467\n",
      "Epoch 148/250\n",
      "34/34 [==============================] - 0s 1ms/step - loss: 3320.3079 - mae: 3320.3079\n",
      "Epoch 149/250\n",
      "34/34 [==============================] - 0s 1ms/step - loss: 3484.0032 - mae: 3484.0032\n",
      "Epoch 150/250\n",
      "34/34 [==============================] - 0s 1ms/step - loss: 3354.9717 - mae: 3354.9717\n",
      "Epoch 151/250\n",
      "34/34 [==============================] - 0s 1ms/step - loss: 3359.4971 - mae: 3359.4971\n",
      "Epoch 152/250\n",
      "34/34 [==============================] - 0s 1ms/step - loss: 3373.0576 - mae: 3373.0576\n",
      "Epoch 153/250\n",
      "34/34 [==============================] - 0s 1ms/step - loss: 3358.6831 - mae: 3358.6831\n",
      "Epoch 154/250\n",
      "34/34 [==============================] - 0s 1ms/step - loss: 3620.9504 - mae: 3620.9504\n",
      "Epoch 155/250\n",
      "34/34 [==============================] - 0s 1ms/step - loss: 3506.0293 - mae: 3506.0293\n",
      "Epoch 156/250\n",
      "34/34 [==============================] - 0s 1ms/step - loss: 3179.1091 - mae: 3179.1091\n",
      "Epoch 157/250\n",
      "34/34 [==============================] - 0s 1ms/step - loss: 3529.7190 - mae: 3529.7190\n",
      "Epoch 158/250\n",
      "34/34 [==============================] - 0s 1ms/step - loss: 3395.1621 - mae: 3395.1621\n",
      "Epoch 159/250\n",
      "34/34 [==============================] - 0s 1ms/step - loss: 3364.9365 - mae: 3364.9365\n",
      "Epoch 160/250\n",
      "34/34 [==============================] - 0s 1ms/step - loss: 3443.3423 - mae: 3443.3423\n",
      "Epoch 161/250\n",
      "34/34 [==============================] - 0s 1ms/step - loss: 3377.3752 - mae: 3377.3752\n",
      "Epoch 162/250\n",
      "34/34 [==============================] - 0s 1ms/step - loss: 3736.9949 - mae: 3736.9949\n",
      "Epoch 163/250\n",
      "34/34 [==============================] - 0s 1ms/step - loss: 3430.3596 - mae: 3430.3596\n",
      "Epoch 164/250\n",
      "34/34 [==============================] - 0s 1ms/step - loss: 3339.7859 - mae: 3339.7859\n",
      "Epoch 165/250\n",
      "34/34 [==============================] - 0s 1ms/step - loss: 3381.7556 - mae: 3381.7556\n",
      "Epoch 166/250\n",
      "34/34 [==============================] - 0s 1ms/step - loss: 3288.1458 - mae: 3288.1458\n",
      "Epoch 167/250\n",
      "34/34 [==============================] - 0s 1ms/step - loss: 3303.8699 - mae: 3303.8699\n",
      "Epoch 168/250\n",
      "34/34 [==============================] - 0s 1ms/step - loss: 3325.0872 - mae: 3325.0872\n",
      "Epoch 169/250\n",
      "34/34 [==============================] - 0s 1ms/step - loss: 3425.6169 - mae: 3425.6169\n",
      "Epoch 170/250\n",
      "34/34 [==============================] - 0s 1ms/step - loss: 3265.3784 - mae: 3265.3784\n",
      "Epoch 171/250\n",
      "34/34 [==============================] - 0s 1ms/step - loss: 3514.5229 - mae: 3514.5229\n",
      "Epoch 172/250\n",
      "34/34 [==============================] - 0s 1ms/step - loss: 3230.1072 - mae: 3230.1072\n",
      "Epoch 173/250\n",
      "34/34 [==============================] - 0s 1ms/step - loss: 3490.0542 - mae: 3490.0542\n",
      "Epoch 174/250\n",
      "34/34 [==============================] - 0s 1ms/step - loss: 3287.9197 - mae: 3287.9197\n",
      "Epoch 175/250\n",
      "34/34 [==============================] - 0s 1ms/step - loss: 3237.0122 - mae: 3237.0122\n",
      "Epoch 176/250\n",
      "34/34 [==============================] - 0s 1ms/step - loss: 3473.4392 - mae: 3473.4392\n",
      "Epoch 177/250\n",
      "34/34 [==============================] - 0s 1ms/step - loss: 3355.9341 - mae: 3355.9341\n",
      "Epoch 178/250\n",
      "34/34 [==============================] - 0s 1ms/step - loss: 3250.9075 - mae: 3250.9075\n",
      "Epoch 179/250\n",
      "34/34 [==============================] - 0s 1ms/step - loss: 3470.9326 - mae: 3470.9326\n",
      "Epoch 180/250\n",
      "34/34 [==============================] - 0s 1ms/step - loss: 3270.7832 - mae: 3270.7832\n",
      "Epoch 181/250\n",
      "34/34 [==============================] - 0s 1ms/step - loss: 3211.7598 - mae: 3211.7598\n",
      "Epoch 182/250\n",
      "34/34 [==============================] - 0s 1ms/step - loss: 3263.2515 - mae: 3263.2515\n",
      "Epoch 183/250\n",
      "34/34 [==============================] - 0s 1ms/step - loss: 3290.6934 - mae: 3290.6934\n",
      "Epoch 184/250\n",
      "34/34 [==============================] - 0s 1ms/step - loss: 3337.7009 - mae: 3337.7009\n",
      "Epoch 185/250\n",
      "34/34 [==============================] - 0s 1ms/step - loss: 3180.4595 - mae: 3180.4595\n",
      "Epoch 186/250\n",
      "34/34 [==============================] - 0s 1ms/step - loss: 3335.1199 - mae: 3335.1199\n",
      "Epoch 187/250\n",
      "34/34 [==============================] - 0s 1ms/step - loss: 3210.0508 - mae: 3210.0508\n",
      "Epoch 188/250\n",
      "34/34 [==============================] - 0s 1ms/step - loss: 3274.3003 - mae: 3274.3003\n",
      "Epoch 189/250\n",
      "34/34 [==============================] - 0s 1ms/step - loss: 3167.6484 - mae: 3167.6484\n",
      "Epoch 190/250\n",
      "34/34 [==============================] - 0s 1ms/step - loss: 3296.8882 - mae: 3296.8882\n",
      "Epoch 191/250\n",
      "34/34 [==============================] - 0s 1ms/step - loss: 3499.4966 - mae: 3499.4966\n",
      "Epoch 192/250\n",
      "34/34 [==============================] - 0s 1ms/step - loss: 3180.8306 - mae: 3180.8306\n",
      "Epoch 193/250\n",
      "34/34 [==============================] - 0s 1ms/step - loss: 3522.3284 - mae: 3522.3284\n",
      "Epoch 194/250\n",
      "34/34 [==============================] - 0s 1ms/step - loss: 3440.0720 - mae: 3440.0720\n",
      "Epoch 195/250\n",
      "34/34 [==============================] - 0s 1ms/step - loss: 3234.2180 - mae: 3234.2180\n",
      "Epoch 196/250\n",
      "34/34 [==============================] - 0s 1ms/step - loss: 3277.9082 - mae: 3277.9082\n",
      "Epoch 197/250\n",
      "34/34 [==============================] - 0s 1ms/step - loss: 3269.9165 - mae: 3269.9165\n",
      "Epoch 198/250\n",
      "34/34 [==============================] - 0s 1ms/step - loss: 3392.7981 - mae: 3392.7981\n",
      "Epoch 199/250\n",
      "34/34 [==============================] - 0s 1ms/step - loss: 3103.4683 - mae: 3103.4683\n",
      "Epoch 200/250\n",
      "34/34 [==============================] - 0s 1ms/step - loss: 3067.0239 - mae: 3067.0239\n",
      "Epoch 201/250\n",
      "34/34 [==============================] - 0s 1ms/step - loss: 3265.2961 - mae: 3265.2961\n",
      "Epoch 202/250\n",
      "34/34 [==============================] - 0s 1ms/step - loss: 3332.2178 - mae: 3332.2178\n",
      "Epoch 203/250\n",
      "34/34 [==============================] - 0s 1ms/step - loss: 3373.9541 - mae: 3373.9541\n",
      "Epoch 204/250\n",
      "34/34 [==============================] - 0s 1ms/step - loss: 3172.4875 - mae: 3172.4875\n",
      "Epoch 205/250\n",
      "34/34 [==============================] - 0s 1ms/step - loss: 3238.5244 - mae: 3238.5244\n",
      "Epoch 206/250\n",
      "34/34 [==============================] - 0s 1ms/step - loss: 3279.8923 - mae: 3279.8923\n",
      "Epoch 207/250\n",
      "34/34 [==============================] - 0s 1ms/step - loss: 3346.4812 - mae: 3346.4812\n",
      "Epoch 208/250\n",
      "34/34 [==============================] - 0s 1ms/step - loss: 3155.3635 - mae: 3155.3635\n",
      "Epoch 209/250\n",
      "34/34 [==============================] - 0s 1ms/step - loss: 3146.9595 - mae: 3146.9595\n",
      "Epoch 210/250\n",
      "34/34 [==============================] - 0s 1ms/step - loss: 3230.4224 - mae: 3230.4224\n",
      "Epoch 211/250\n",
      "34/34 [==============================] - 0s 1ms/step - loss: 3189.6006 - mae: 3189.6006\n",
      "Epoch 212/250\n",
      "34/34 [==============================] - 0s 1ms/step - loss: 3161.0959 - mae: 3161.0959\n",
      "Epoch 213/250\n",
      "34/34 [==============================] - 0s 1ms/step - loss: 3145.8601 - mae: 3145.8601\n",
      "Epoch 214/250\n",
      "34/34 [==============================] - 0s 1ms/step - loss: 3295.2092 - mae: 3295.2092\n",
      "Epoch 215/250\n",
      "34/34 [==============================] - 0s 1ms/step - loss: 3181.6907 - mae: 3181.6907\n",
      "Epoch 216/250\n",
      "34/34 [==============================] - 0s 1ms/step - loss: 3119.0002 - mae: 3119.0002\n",
      "Epoch 217/250\n",
      "34/34 [==============================] - 0s 1ms/step - loss: 3247.5269 - mae: 3247.5269\n",
      "Epoch 218/250\n",
      "34/34 [==============================] - 0s 1ms/step - loss: 3125.5408 - mae: 3125.5408\n",
      "Epoch 219/250\n",
      "34/34 [==============================] - 0s 1ms/step - loss: 3186.1631 - mae: 3186.1631\n",
      "Epoch 220/250\n",
      "34/34 [==============================] - 0s 1ms/step - loss: 3174.8093 - mae: 3174.8093\n",
      "Epoch 221/250\n",
      "34/34 [==============================] - 0s 1ms/step - loss: 3162.4021 - mae: 3162.4021\n",
      "Epoch 222/250\n",
      "34/34 [==============================] - 0s 1ms/step - loss: 3198.1343 - mae: 3198.1343\n",
      "Epoch 223/250\n",
      "34/34 [==============================] - 0s 1ms/step - loss: 3354.4863 - mae: 3354.4863\n",
      "Epoch 224/250\n",
      "34/34 [==============================] - 0s 1ms/step - loss: 3294.8733 - mae: 3294.8733\n",
      "Epoch 225/250\n",
      "34/34 [==============================] - 0s 1ms/step - loss: 3191.0315 - mae: 3191.0315\n",
      "Epoch 226/250\n",
      "34/34 [==============================] - 0s 1ms/step - loss: 3229.1138 - mae: 3229.1138\n",
      "Epoch 227/250\n",
      "34/34 [==============================] - 0s 1ms/step - loss: 3355.1680 - mae: 3355.1680\n",
      "Epoch 228/250\n",
      "34/34 [==============================] - 0s 1ms/step - loss: 3178.4302 - mae: 3178.4302\n",
      "Epoch 229/250\n",
      "34/34 [==============================] - 0s 1ms/step - loss: 3272.8867 - mae: 3272.8867\n",
      "Epoch 230/250\n",
      "34/34 [==============================] - 0s 1ms/step - loss: 3226.0903 - mae: 3226.0903\n",
      "Epoch 231/250\n",
      "34/34 [==============================] - 0s 1ms/step - loss: 3238.0386 - mae: 3238.0386\n",
      "Epoch 232/250\n",
      "34/34 [==============================] - 0s 1ms/step - loss: 3134.7202 - mae: 3134.7202\n",
      "Epoch 233/250\n",
      "34/34 [==============================] - 0s 1ms/step - loss: 3284.6167 - mae: 3284.6167\n",
      "Epoch 234/250\n",
      "34/34 [==============================] - 0s 1ms/step - loss: 3089.7417 - mae: 3089.7417\n",
      "Epoch 235/250\n",
      "34/34 [==============================] - 0s 1ms/step - loss: 3165.4380 - mae: 3165.4380\n",
      "Epoch 236/250\n",
      "34/34 [==============================] - 0s 1ms/step - loss: 3132.9883 - mae: 3132.9883\n",
      "Epoch 237/250\n",
      "34/34 [==============================] - 0s 1ms/step - loss: 3215.8691 - mae: 3215.8691\n",
      "Epoch 238/250\n",
      "34/34 [==============================] - 0s 1ms/step - loss: 3138.6343 - mae: 3138.6343\n",
      "Epoch 239/250\n",
      "34/34 [==============================] - 0s 1ms/step - loss: 3168.4006 - mae: 3168.4006\n",
      "Epoch 240/250\n",
      "34/34 [==============================] - 0s 1ms/step - loss: 3133.5981 - mae: 3133.5981\n",
      "Epoch 241/250\n",
      "34/34 [==============================] - 0s 1ms/step - loss: 3180.8892 - mae: 3180.8892\n",
      "Epoch 242/250\n",
      "34/34 [==============================] - 0s 1ms/step - loss: 3090.7197 - mae: 3090.7197\n",
      "Epoch 243/250\n",
      "34/34 [==============================] - 0s 1ms/step - loss: 2975.8994 - mae: 2975.8994\n",
      "Epoch 244/250\n",
      "34/34 [==============================] - 0s 1ms/step - loss: 3120.8936 - mae: 3120.8936\n",
      "Epoch 245/250\n",
      "34/34 [==============================] - 0s 1ms/step - loss: 3126.2046 - mae: 3126.2046\n",
      "Epoch 246/250\n",
      "34/34 [==============================] - 0s 1ms/step - loss: 3091.3577 - mae: 3091.3577\n",
      "Epoch 247/250\n",
      "34/34 [==============================] - 0s 1ms/step - loss: 3187.0664 - mae: 3187.0664\n",
      "Epoch 248/250\n",
      "34/34 [==============================] - 0s 1ms/step - loss: 3066.3618 - mae: 3066.3618\n",
      "Epoch 249/250\n",
      "34/34 [==============================] - 0s 1ms/step - loss: 3098.2305 - mae: 3098.2305\n",
      "Epoch 250/250\n",
      "34/34 [==============================] - 0s 1ms/step - loss: 3210.3867 - mae: 3210.3867\n"
     ]
    },
    {
     "data": {
      "text/plain": [
       "<keras.src.callbacks.History at 0x7facbc3efb50>"
      ]
     },
     "execution_count": 69,
     "metadata": {},
     "output_type": "execute_result"
    }
   ],
   "source": [
    "tf.random.set_seed(42)\n",
    "\n",
    "# Build a neural network (sort of like model_2 above)\n",
    "insurance_model = tf.keras.Sequential([\n",
    "    tf.keras.layers.Dense(20, input_shape=[11], activation='sigmoid'),\n",
    "    tf.keras.layers.Dropout(0.2),\n",
    "    tf.keras.layers.Dense(10, activation='relu'),\n",
    "    tf.keras.layers.Dropout(0.2),\n",
    "    tf.keras.layers.Dense(5, activation='relu'),\n",
    "    tf.keras.layers.Dense(1)\n",
    "])\n",
    "\n",
    "insurance_model.compile(loss=tf.keras.losses.mae,\n",
    "              optimizer=tf.keras.optimizers.Adam(learning_rate=0.01 ),\n",
    "              metrics=[\"mae\"])\n",
    "\n",
    "insurance_model.fit(x=X_train, y=y_train, epochs=250)"
   ]
  },
  {
   "cell_type": "code",
   "execution_count": 72,
   "metadata": {
    "ExecuteTime": {
     "end_time": "2023-08-31T12:35:23.093024Z",
     "start_time": "2023-08-31T12:35:22.813765Z"
    },
    "colab": {
     "base_uri": "https://localhost:8080/"
    },
    "id": "EMYj09bxta9j",
    "outputId": "3b90d9aa-c967-4ad2-cc62-fcc2ab64634d"
   },
   "outputs": [
    {
     "name": "stdout",
     "output_type": "stream",
     "text": [
      "9/9 [==============================] - 0s 886us/step - loss: 3855.1292 - mae: 3855.1292\n"
     ]
    },
    {
     "data": {
      "text/plain": [
       "[3855.129150390625, 3855.129150390625]"
      ]
     },
     "execution_count": 72,
     "metadata": {},
     "output_type": "execute_result"
    }
   ],
   "source": [
    "# Check the results of the insurance model on the test data\n",
    "insurance_model.evaluate(X_test, y_test)"
   ]
  },
  {
   "cell_type": "code",
   "execution_count": 73,
   "metadata": {
    "ExecuteTime": {
     "end_time": "2023-08-31T12:35:24.756182Z",
     "start_time": "2023-08-31T12:35:24.711476Z"
    },
    "colab": {
     "base_uri": "https://localhost:8080/"
    },
    "id": "7do2SGkFt4zm",
    "outputId": "91ad046f-b8af-4dc3-c0b9-6228d2bd9138"
   },
   "outputs": [
    {
     "data": {
      "text/plain": [
       "(9575.4421, 13346.089736364485)"
      ]
     },
     "execution_count": 73,
     "metadata": {},
     "output_type": "execute_result"
    }
   ],
   "source": [
    "y_train.median(), y_train.mean()"
   ]
  },
  {
   "cell_type": "markdown",
   "metadata": {
    "id": "pvcgC92Lu0Kd"
   },
   "source": [
    "Right now it looks like our model isn't performing too well... Let's try to improve it."
   ]
  },
  {
   "cell_type": "markdown",
   "metadata": {
    "id": "3tTBX1eGu6VQ"
   },
   "source": [
    "Right now it looks like our model isn't performing to weel, let's try and improve it!\n",
    "\n",
    "to (try) improve out model we'll run 2 experiments:\n",
    "\n",
    "1. Add an extra layer with more hidden units\n",
    "2. Use the Adam optimizer.\n",
    "2. Train for longer"
   ]
  },
  {
   "cell_type": "code",
   "execution_count": 74,
   "metadata": {
    "ExecuteTime": {
     "end_time": "2023-08-31T12:35:47.795982Z",
     "start_time": "2023-08-31T12:35:27.718070Z"
    },
    "id": "d5LLia7OP6rQ"
   },
   "outputs": [
    {
     "name": "stdout",
     "output_type": "stream",
     "text": [
      "Epoch 1/100\n",
      "34/34 [==============================] - 1s 916us/step - loss: 13305.3838 - mae: 13305.3838\n",
      "Epoch 2/100\n",
      "34/34 [==============================] - 0s 1ms/step - loss: 13194.6963 - mae: 13194.6963\n",
      "Epoch 3/100\n",
      "34/34 [==============================] - 0s 1ms/step - loss: 12951.5029 - mae: 12951.5029\n",
      "Epoch 4/100\n",
      "34/34 [==============================] - 0s 1ms/step - loss: 12439.9658 - mae: 12439.9658\n",
      "Epoch 5/100\n",
      "34/34 [==============================] - 0s 5ms/step - loss: 11506.5830 - mae: 11506.5830\n",
      "Epoch 6/100\n",
      "34/34 [==============================] - 0s 927us/step - loss: 10126.1484 - mae: 10126.1484\n",
      "Epoch 7/100\n",
      "34/34 [==============================] - 0s 935us/step - loss: 8635.8867 - mae: 8635.8867\n",
      "Epoch 8/100\n",
      "34/34 [==============================] - 0s 914us/step - loss: 7655.1255 - mae: 7655.1255\n",
      "Epoch 9/100\n",
      "34/34 [==============================] - 0s 961us/step - loss: 7423.5225 - mae: 7423.5225\n",
      "Epoch 10/100\n",
      "34/34 [==============================] - 0s 909us/step - loss: 7397.2871 - mae: 7397.2871\n",
      "Epoch 11/100\n",
      "34/34 [==============================] - 0s 929us/step - loss: 7380.0625 - mae: 7380.0625\n",
      "Epoch 12/100\n",
      "34/34 [==============================] - 0s 918us/step - loss: 7359.7070 - mae: 7359.7070\n",
      "Epoch 13/100\n",
      "34/34 [==============================] - 0s 1ms/step - loss: 7341.1069 - mae: 7341.1069\n",
      "Epoch 14/100\n",
      "34/34 [==============================] - 0s 1ms/step - loss: 7320.6904 - mae: 7320.6904\n",
      "Epoch 15/100\n",
      "34/34 [==============================] - 0s 1ms/step - loss: 7303.6597 - mae: 7303.6597\n",
      "Epoch 16/100\n",
      "34/34 [==============================] - 0s 1ms/step - loss: 7283.3574 - mae: 7283.3574\n",
      "Epoch 17/100\n",
      "34/34 [==============================] - 0s 1ms/step - loss: 7264.2881 - mae: 7264.2881\n",
      "Epoch 18/100\n",
      "34/34 [==============================] - 0s 1ms/step - loss: 7243.2812 - mae: 7243.2812\n",
      "Epoch 19/100\n",
      "34/34 [==============================] - 0s 1ms/step - loss: 7222.5015 - mae: 7222.5015\n",
      "Epoch 20/100\n",
      "34/34 [==============================] - 0s 1ms/step - loss: 7200.7720 - mae: 7200.7720\n",
      "Epoch 21/100\n",
      "34/34 [==============================] - 0s 1ms/step - loss: 7184.0703 - mae: 7184.0703\n",
      "Epoch 22/100\n",
      "34/34 [==============================] - 0s 1ms/step - loss: 7157.6650 - mae: 7157.6650\n",
      "Epoch 23/100\n",
      "34/34 [==============================] - 0s 1ms/step - loss: 7134.7700 - mae: 7134.7700\n",
      "Epoch 24/100\n",
      "34/34 [==============================] - 0s 1ms/step - loss: 7110.9346 - mae: 7110.9346\n",
      "Epoch 25/100\n",
      "34/34 [==============================] - 0s 1ms/step - loss: 7093.9429 - mae: 7093.9429\n",
      "Epoch 26/100\n",
      "34/34 [==============================] - 0s 1ms/step - loss: 7064.0244 - mae: 7064.0244\n",
      "Epoch 27/100\n",
      "34/34 [==============================] - 0s 1ms/step - loss: 7036.9463 - mae: 7036.9463\n",
      "Epoch 28/100\n",
      "34/34 [==============================] - 0s 1ms/step - loss: 7010.3564 - mae: 7010.3564\n",
      "Epoch 29/100\n",
      "34/34 [==============================] - 0s 1ms/step - loss: 6983.1460 - mae: 6983.1460\n",
      "Epoch 30/100\n",
      "34/34 [==============================] - 0s 1ms/step - loss: 6958.2881 - mae: 6958.2881\n",
      "Epoch 31/100\n",
      "34/34 [==============================] - 0s 1ms/step - loss: 6928.4429 - mae: 6928.4429\n",
      "Epoch 32/100\n",
      "34/34 [==============================] - 0s 1ms/step - loss: 6901.8315 - mae: 6901.8315\n",
      "Epoch 33/100\n",
      "34/34 [==============================] - 0s 1ms/step - loss: 6871.9692 - mae: 6871.9692\n",
      "Epoch 34/100\n",
      "34/34 [==============================] - 0s 1ms/step - loss: 6842.0679 - mae: 6842.0679\n",
      "Epoch 35/100\n",
      "34/34 [==============================] - 0s 1ms/step - loss: 6810.9497 - mae: 6810.9497\n",
      "Epoch 36/100\n",
      "34/34 [==============================] - 0s 1ms/step - loss: 6778.4941 - mae: 6778.4941\n",
      "Epoch 37/100\n",
      "34/34 [==============================] - 0s 1ms/step - loss: 6744.2881 - mae: 6744.2881\n",
      "Epoch 38/100\n",
      "34/34 [==============================] - 0s 1ms/step - loss: 6714.3379 - mae: 6714.3379\n",
      "Epoch 39/100\n",
      "34/34 [==============================] - 0s 1ms/step - loss: 6678.1079 - mae: 6678.1079\n",
      "Epoch 40/100\n",
      "34/34 [==============================] - 0s 1ms/step - loss: 6645.2578 - mae: 6645.2578\n",
      "Epoch 41/100\n",
      "34/34 [==============================] - 0s 1ms/step - loss: 6613.3228 - mae: 6613.3228\n",
      "Epoch 42/100\n",
      "34/34 [==============================] - 0s 1ms/step - loss: 6586.0522 - mae: 6586.0522\n",
      "Epoch 43/100\n",
      "34/34 [==============================] - 0s 1ms/step - loss: 6556.4458 - mae: 6556.4458\n",
      "Epoch 44/100\n",
      "34/34 [==============================] - 0s 1ms/step - loss: 6533.6924 - mae: 6533.6924\n",
      "Epoch 45/100\n",
      "34/34 [==============================] - 0s 1ms/step - loss: 6516.7896 - mae: 6516.7896\n",
      "Epoch 46/100\n",
      "34/34 [==============================] - 0s 1ms/step - loss: 6500.2861 - mae: 6500.2861\n",
      "Epoch 47/100\n",
      "34/34 [==============================] - 0s 1ms/step - loss: 6484.4150 - mae: 6484.4150\n",
      "Epoch 48/100\n",
      "34/34 [==============================] - 0s 1ms/step - loss: 6469.5073 - mae: 6469.5073\n",
      "Epoch 49/100\n",
      "34/34 [==============================] - 0s 1ms/step - loss: 6457.2231 - mae: 6457.2231\n",
      "Epoch 50/100\n",
      "34/34 [==============================] - 0s 1ms/step - loss: 6444.8535 - mae: 6444.8535\n",
      "Epoch 51/100\n",
      "34/34 [==============================] - 0s 1ms/step - loss: 6432.1270 - mae: 6432.1270\n",
      "Epoch 52/100\n",
      "34/34 [==============================] - 0s 1ms/step - loss: 6422.3989 - mae: 6422.3989\n",
      "Epoch 53/100\n",
      "34/34 [==============================] - 0s 1ms/step - loss: 6408.7246 - mae: 6408.7246\n",
      "Epoch 54/100\n",
      "34/34 [==============================] - 0s 1ms/step - loss: 6396.5288 - mae: 6396.5288\n",
      "Epoch 55/100\n",
      "34/34 [==============================] - 0s 1ms/step - loss: 6384.2983 - mae: 6384.2983\n",
      "Epoch 56/100\n",
      "34/34 [==============================] - 0s 1ms/step - loss: 6371.3110 - mae: 6371.3110\n",
      "Epoch 57/100\n",
      "34/34 [==============================] - 0s 1ms/step - loss: 6360.2754 - mae: 6360.2754\n",
      "Epoch 58/100\n",
      "34/34 [==============================] - 0s 1ms/step - loss: 6347.1509 - mae: 6347.1509\n",
      "Epoch 59/100\n",
      "34/34 [==============================] - 0s 1ms/step - loss: 6334.1890 - mae: 6334.1890\n",
      "Epoch 60/100\n",
      "34/34 [==============================] - 0s 1ms/step - loss: 6324.8770 - mae: 6324.8770\n",
      "Epoch 61/100\n",
      "34/34 [==============================] - 0s 1ms/step - loss: 6308.0815 - mae: 6308.0815\n",
      "Epoch 62/100\n",
      "34/34 [==============================] - 0s 1ms/step - loss: 6296.6665 - mae: 6296.6665\n",
      "Epoch 63/100\n",
      "34/34 [==============================] - 0s 1ms/step - loss: 6280.8511 - mae: 6280.8511\n",
      "Epoch 64/100\n",
      "34/34 [==============================] - 0s 1ms/step - loss: 6266.9829 - mae: 6266.9829\n",
      "Epoch 65/100\n",
      "34/34 [==============================] - 0s 1ms/step - loss: 6251.7295 - mae: 6251.7295\n",
      "Epoch 66/100\n",
      "34/34 [==============================] - 0s 1ms/step - loss: 6237.1250 - mae: 6237.1250\n",
      "Epoch 67/100\n",
      "34/34 [==============================] - 0s 1ms/step - loss: 6226.6782 - mae: 6226.6782\n",
      "Epoch 68/100\n",
      "34/34 [==============================] - 0s 1ms/step - loss: 6208.1304 - mae: 6208.1304\n",
      "Epoch 69/100\n",
      "34/34 [==============================] - 0s 1ms/step - loss: 6193.5566 - mae: 6193.5566\n",
      "Epoch 70/100\n",
      "34/34 [==============================] - 0s 1ms/step - loss: 6175.7793 - mae: 6175.7793\n",
      "Epoch 71/100\n",
      "34/34 [==============================] - 0s 1ms/step - loss: 6159.0703 - mae: 6159.0703\n",
      "Epoch 72/100\n",
      "34/34 [==============================] - 0s 1ms/step - loss: 6143.7847 - mae: 6143.7847\n",
      "Epoch 73/100\n",
      "34/34 [==============================] - 0s 1ms/step - loss: 6130.7656 - mae: 6130.7656\n",
      "Epoch 74/100\n",
      "34/34 [==============================] - 0s 1ms/step - loss: 6108.0547 - mae: 6108.0547\n",
      "Epoch 75/100\n",
      "34/34 [==============================] - 0s 1ms/step - loss: 6091.4365 - mae: 6091.4365\n",
      "Epoch 76/100\n",
      "34/34 [==============================] - 0s 1ms/step - loss: 6079.4487 - mae: 6079.4487\n",
      "Epoch 77/100\n",
      "34/34 [==============================] - 0s 1ms/step - loss: 6051.2676 - mae: 6051.2676\n",
      "Epoch 78/100\n",
      "34/34 [==============================] - 0s 1ms/step - loss: 6033.0864 - mae: 6033.0864\n",
      "Epoch 79/100\n",
      "34/34 [==============================] - 0s 1ms/step - loss: 6012.9644 - mae: 6012.9644\n",
      "Epoch 80/100\n",
      "34/34 [==============================] - 0s 1ms/step - loss: 5991.6631 - mae: 5991.6631\n",
      "Epoch 81/100\n",
      "34/34 [==============================] - 0s 1ms/step - loss: 5970.6421 - mae: 5970.6421\n",
      "Epoch 82/100\n",
      "34/34 [==============================] - 0s 1ms/step - loss: 5949.7925 - mae: 5949.7925\n",
      "Epoch 83/100\n",
      "34/34 [==============================] - 0s 1ms/step - loss: 5926.1245 - mae: 5926.1245\n",
      "Epoch 84/100\n",
      "34/34 [==============================] - 0s 1ms/step - loss: 5898.6577 - mae: 5898.6577\n",
      "Epoch 85/100\n",
      "34/34 [==============================] - 0s 1ms/step - loss: 5879.4844 - mae: 5879.4844\n",
      "Epoch 86/100\n",
      "34/34 [==============================] - 0s 1ms/step - loss: 5850.1299 - mae: 5850.1299\n",
      "Epoch 87/100\n",
      "34/34 [==============================] - 0s 1ms/step - loss: 5822.2446 - mae: 5822.2446\n",
      "Epoch 88/100\n",
      "34/34 [==============================] - 0s 1ms/step - loss: 5797.9634 - mae: 5797.9634\n",
      "Epoch 89/100\n",
      "34/34 [==============================] - 0s 1ms/step - loss: 5766.1143 - mae: 5766.1143\n",
      "Epoch 90/100\n",
      "34/34 [==============================] - 0s 1ms/step - loss: 5735.7695 - mae: 5735.7695\n",
      "Epoch 91/100\n",
      "34/34 [==============================] - 0s 1ms/step - loss: 5709.0430 - mae: 5709.0430\n",
      "Epoch 92/100\n",
      "34/34 [==============================] - 0s 1ms/step - loss: 5669.0073 - mae: 5669.0073\n",
      "Epoch 93/100\n",
      "34/34 [==============================] - 0s 1ms/step - loss: 5640.0527 - mae: 5640.0527\n",
      "Epoch 94/100\n",
      "34/34 [==============================] - 0s 1ms/step - loss: 5609.3823 - mae: 5609.3823\n",
      "Epoch 95/100\n",
      "34/34 [==============================] - 0s 1ms/step - loss: 5568.6079 - mae: 5568.6079\n",
      "Epoch 96/100\n",
      "34/34 [==============================] - 0s 1ms/step - loss: 5530.5200 - mae: 5530.5200\n",
      "Epoch 97/100\n",
      "34/34 [==============================] - 0s 1ms/step - loss: 5491.7627 - mae: 5491.7627\n",
      "Epoch 98/100\n",
      "34/34 [==============================] - 0s 1ms/step - loss: 5445.3608 - mae: 5445.3608\n",
      "Epoch 99/100\n",
      "34/34 [==============================] - 0s 1ms/step - loss: 5401.5708 - mae: 5401.5708\n",
      "Epoch 100/100\n",
      "34/34 [==============================] - 0s 1ms/step - loss: 5360.9077 - mae: 5360.9077\n"
     ]
    },
    {
     "data": {
      "text/plain": [
       "<keras.src.callbacks.History at 0x7facb43332d0>"
      ]
     },
     "execution_count": 74,
     "metadata": {},
     "output_type": "execute_result"
    }
   ],
   "source": [
    "# Set reandom seed\n",
    "tf.random.set_seed(42)\n",
    "\n",
    "# Build the model\n",
    "insurance_model_2 = tf.keras.Sequential([\n",
    "    tf.keras.layers.Dense(100, input_shape=[11]),\n",
    "    tf.keras.layers.Dense(10),\n",
    "    tf.keras.layers.Dense(1)\n",
    "])\n",
    "\n",
    "insurance_model_2.compile(loss=tf.keras.losses.mae,\n",
    "              optimizer=tf.keras.optimizers.Adam(),\n",
    "              metrics=[\"mae\"])\n",
    "\n",
    "insurance_model_2.fit(X_train,y_train, epochs=100)"
   ]
  },
  {
   "cell_type": "code",
   "execution_count": 75,
   "metadata": {
    "ExecuteTime": {
     "end_time": "2023-08-31T12:35:47.958038Z",
     "start_time": "2023-08-31T12:35:47.796409Z"
    },
    "colab": {
     "base_uri": "https://localhost:8080/"
    },
    "id": "CXtTjQq9REaU",
    "outputId": "6cc9dbf2-34ee-46d2-97fa-8f37fcdd2565"
   },
   "outputs": [
    {
     "name": "stdout",
     "output_type": "stream",
     "text": [
      "9/9 [==============================] - 0s 641us/step - loss: 5225.0464 - mae: 5225.0464\n"
     ]
    },
    {
     "data": {
      "text/plain": [
       "[5225.04638671875, 5225.04638671875]"
      ]
     },
     "execution_count": 75,
     "metadata": {},
     "output_type": "execute_result"
    }
   ],
   "source": [
    "insurance_model_2.evaluate(X_test, y_test)"
   ]
  },
  {
   "cell_type": "code",
   "execution_count": 76,
   "metadata": {
    "ExecuteTime": {
     "end_time": "2023-08-31T12:36:21.027728Z",
     "start_time": "2023-08-31T12:35:47.954183Z"
    },
    "id": "jY6y2_dgStvd"
   },
   "outputs": [],
   "source": [
    "tf.random.set_seed(42)\n",
    "\n",
    "# 1. Create the model\n",
    "insurance_model_3 = tf.keras.Sequential([\n",
    "    tf.keras.layers.Dense(100, input_shape=[11]),\n",
    "    tf.keras.layers.Dense(10),\n",
    "    tf.keras.layers.Dense(1)\n",
    "])\n",
    "\n",
    "# 2. Compile the model\n",
    "insurance_model_3.compile(loss=tf.keras.losses.mae,\n",
    "                          optimizer=tf.keras.optimizers.Adam(),\n",
    "                          metrics=[\"mae\"])\n",
    "\n",
    "# 3. Fit the model\n",
    "history = insurance_model_3.fit(X_train, y_train, epochs=200, verbose=0)"
   ]
  },
  {
   "cell_type": "code",
   "execution_count": 77,
   "metadata": {
    "ExecuteTime": {
     "end_time": "2023-08-31T12:36:21.190228Z",
     "start_time": "2023-08-31T12:36:21.030387Z"
    },
    "colab": {
     "base_uri": "https://localhost:8080/"
    },
    "id": "x-6O2ox7U4AL",
    "outputId": "cc3a3ae1-1929-4342-87bd-554be9a5df3f"
   },
   "outputs": [
    {
     "name": "stdout",
     "output_type": "stream",
     "text": [
      "9/9 [==============================] - 0s 687us/step - loss: 3504.8096 - mae: 3504.8096\n"
     ]
    },
    {
     "data": {
      "text/plain": [
       "[3504.8095703125, 3504.8095703125]"
      ]
     },
     "execution_count": 77,
     "metadata": {},
     "output_type": "execute_result"
    }
   ],
   "source": [
    "insurance_model_3.evaluate(X_test, y_test)"
   ]
  },
  {
   "cell_type": "code",
   "execution_count": 78,
   "metadata": {
    "ExecuteTime": {
     "end_time": "2023-08-31T12:36:46.814579Z",
     "start_time": "2023-08-31T12:36:46.686798Z"
    },
    "colab": {
     "base_uri": "https://localhost:8080/",
     "height": 296
    },
    "id": "2_-v05zMVwIi",
    "outputId": "198ed634-42d3-4a7b-f526-94044c570ebe"
   },
   "outputs": [
    {
     "data": {
      "text/plain": [
       "Text(0.5, 0, 'epochs')"
      ]
     },
     "execution_count": 78,
     "metadata": {},
     "output_type": "execute_result"
    },
    {
     "data": {
      "image/png": "[encoded data removed]",
      "text/plain": [
       "<Figure size 640x480 with 1 Axes>"
      ]
     },
     "metadata": {},
     "output_type": "display_data"
    }
   ],
   "source": [
    "# Plot history (also known as loss curve or a training curve)\n",
    "pd.DataFrame(history.history).plot()\n",
    "plt.ylabel(\"loss\")\n",
    "plt.xlabel(\"epochs\")"
   ]
  },
  {
   "cell_type": "markdown",
   "metadata": {
    "id": "Qlh7jaBAaMY2"
   },
   "source": [
    "Preprocessing data (normalization and standardization\n",
    "\n"
   ]
  },
  {
   "cell_type": "code",
   "execution_count": 79,
   "metadata": {
    "ExecuteTime": {
     "end_time": "2023-08-31T12:36:48.743885Z",
     "start_time": "2023-08-31T12:36:48.719293Z"
    },
    "colab": {
     "base_uri": "https://localhost:8080/",
     "height": 419
    },
    "id": "Ww072OKshhxN",
    "outputId": "90aeaf40-b1cf-45eb-a216-3c7657376b87"
   },
   "outputs": [
    {
     "data": {
      "text/html": [
       "<div>\n",
       "<style scoped>\n",
       "    .dataframe tbody tr th:only-of-type {\n",
       "        vertical-align: middle;\n",
       "    }\n",
       "\n",
       "    .dataframe tbody tr th {\n",
       "        vertical-align: top;\n",
       "    }\n",
       "\n",
       "    .dataframe thead th {\n",
       "        text-align: right;\n",
       "    }\n",
       "</style>\n",
       "<table border=\"1\" class=\"dataframe\">\n",
       "  <thead>\n",
       "    <tr style=\"text-align: right;\">\n",
       "      <th></th>\n",
       "      <th>age</th>\n",
       "      <th>bmi</th>\n",
       "      <th>children</th>\n",
       "      <th>sex_female</th>\n",
       "      <th>sex_male</th>\n",
       "      <th>smoker_no</th>\n",
       "      <th>smoker_yes</th>\n",
       "      <th>region_northeast</th>\n",
       "      <th>region_northwest</th>\n",
       "      <th>region_southeast</th>\n",
       "      <th>region_southwest</th>\n",
       "    </tr>\n",
       "  </thead>\n",
       "  <tbody>\n",
       "    <tr>\n",
       "      <th>0</th>\n",
       "      <td>19.0</td>\n",
       "      <td>27.900</td>\n",
       "      <td>0.0</td>\n",
       "      <td>1.0</td>\n",
       "      <td>0.0</td>\n",
       "      <td>0.0</td>\n",
       "      <td>1.0</td>\n",
       "      <td>0.0</td>\n",
       "      <td>0.0</td>\n",
       "      <td>0.0</td>\n",
       "      <td>1.0</td>\n",
       "    </tr>\n",
       "    <tr>\n",
       "      <th>1</th>\n",
       "      <td>18.0</td>\n",
       "      <td>33.770</td>\n",
       "      <td>1.0</td>\n",
       "      <td>0.0</td>\n",
       "      <td>1.0</td>\n",
       "      <td>1.0</td>\n",
       "      <td>0.0</td>\n",
       "      <td>0.0</td>\n",
       "      <td>0.0</td>\n",
       "      <td>1.0</td>\n",
       "      <td>0.0</td>\n",
       "    </tr>\n",
       "    <tr>\n",
       "      <th>2</th>\n",
       "      <td>28.0</td>\n",
       "      <td>33.000</td>\n",
       "      <td>3.0</td>\n",
       "      <td>0.0</td>\n",
       "      <td>1.0</td>\n",
       "      <td>1.0</td>\n",
       "      <td>0.0</td>\n",
       "      <td>0.0</td>\n",
       "      <td>0.0</td>\n",
       "      <td>1.0</td>\n",
       "      <td>0.0</td>\n",
       "    </tr>\n",
       "    <tr>\n",
       "      <th>3</th>\n",
       "      <td>33.0</td>\n",
       "      <td>22.705</td>\n",
       "      <td>0.0</td>\n",
       "      <td>0.0</td>\n",
       "      <td>1.0</td>\n",
       "      <td>1.0</td>\n",
       "      <td>0.0</td>\n",
       "      <td>0.0</td>\n",
       "      <td>1.0</td>\n",
       "      <td>0.0</td>\n",
       "      <td>0.0</td>\n",
       "    </tr>\n",
       "    <tr>\n",
       "      <th>4</th>\n",
       "      <td>32.0</td>\n",
       "      <td>28.880</td>\n",
       "      <td>0.0</td>\n",
       "      <td>0.0</td>\n",
       "      <td>1.0</td>\n",
       "      <td>1.0</td>\n",
       "      <td>0.0</td>\n",
       "      <td>0.0</td>\n",
       "      <td>1.0</td>\n",
       "      <td>0.0</td>\n",
       "      <td>0.0</td>\n",
       "    </tr>\n",
       "    <tr>\n",
       "      <th>...</th>\n",
       "      <td>...</td>\n",
       "      <td>...</td>\n",
       "      <td>...</td>\n",
       "      <td>...</td>\n",
       "      <td>...</td>\n",
       "      <td>...</td>\n",
       "      <td>...</td>\n",
       "      <td>...</td>\n",
       "      <td>...</td>\n",
       "      <td>...</td>\n",
       "      <td>...</td>\n",
       "    </tr>\n",
       "    <tr>\n",
       "      <th>1333</th>\n",
       "      <td>50.0</td>\n",
       "      <td>30.970</td>\n",
       "      <td>3.0</td>\n",
       "      <td>0.0</td>\n",
       "      <td>1.0</td>\n",
       "      <td>1.0</td>\n",
       "      <td>0.0</td>\n",
       "      <td>0.0</td>\n",
       "      <td>1.0</td>\n",
       "      <td>0.0</td>\n",
       "      <td>0.0</td>\n",
       "    </tr>\n",
       "    <tr>\n",
       "      <th>1334</th>\n",
       "      <td>18.0</td>\n",
       "      <td>31.920</td>\n",
       "      <td>0.0</td>\n",
       "      <td>1.0</td>\n",
       "      <td>0.0</td>\n",
       "      <td>1.0</td>\n",
       "      <td>0.0</td>\n",
       "      <td>1.0</td>\n",
       "      <td>0.0</td>\n",
       "      <td>0.0</td>\n",
       "      <td>0.0</td>\n",
       "    </tr>\n",
       "    <tr>\n",
       "      <th>1335</th>\n",
       "      <td>18.0</td>\n",
       "      <td>36.850</td>\n",
       "      <td>0.0</td>\n",
       "      <td>1.0</td>\n",
       "      <td>0.0</td>\n",
       "      <td>1.0</td>\n",
       "      <td>0.0</td>\n",
       "      <td>0.0</td>\n",
       "      <td>0.0</td>\n",
       "      <td>1.0</td>\n",
       "      <td>0.0</td>\n",
       "    </tr>\n",
       "    <tr>\n",
       "      <th>1336</th>\n",
       "      <td>21.0</td>\n",
       "      <td>25.800</td>\n",
       "      <td>0.0</td>\n",
       "      <td>1.0</td>\n",
       "      <td>0.0</td>\n",
       "      <td>1.0</td>\n",
       "      <td>0.0</td>\n",
       "      <td>0.0</td>\n",
       "      <td>0.0</td>\n",
       "      <td>0.0</td>\n",
       "      <td>1.0</td>\n",
       "    </tr>\n",
       "    <tr>\n",
       "      <th>1337</th>\n",
       "      <td>61.0</td>\n",
       "      <td>29.070</td>\n",
       "      <td>0.0</td>\n",
       "      <td>1.0</td>\n",
       "      <td>0.0</td>\n",
       "      <td>0.0</td>\n",
       "      <td>1.0</td>\n",
       "      <td>0.0</td>\n",
       "      <td>1.0</td>\n",
       "      <td>0.0</td>\n",
       "      <td>0.0</td>\n",
       "    </tr>\n",
       "  </tbody>\n",
       "</table>\n",
       "<p>1338 rows × 11 columns</p>\n",
       "</div>"
      ],
      "text/plain": [
       "       age     bmi  children  sex_female  sex_male  smoker_no  smoker_yes  \\\n",
       "0     19.0  27.900       0.0         1.0       0.0        0.0         1.0   \n",
       "1     18.0  33.770       1.0         0.0       1.0        1.0         0.0   \n",
       "2     28.0  33.000       3.0         0.0       1.0        1.0         0.0   \n",
       "3     33.0  22.705       0.0         0.0       1.0        1.0         0.0   \n",
       "4     32.0  28.880       0.0         0.0       1.0        1.0         0.0   \n",
       "...    ...     ...       ...         ...       ...        ...         ...   \n",
       "1333  50.0  30.970       3.0         0.0       1.0        1.0         0.0   \n",
       "1334  18.0  31.920       0.0         1.0       0.0        1.0         0.0   \n",
       "1335  18.0  36.850       0.0         1.0       0.0        1.0         0.0   \n",
       "1336  21.0  25.800       0.0         1.0       0.0        1.0         0.0   \n",
       "1337  61.0  29.070       0.0         1.0       0.0        0.0         1.0   \n",
       "\n",
       "      region_northeast  region_northwest  region_southeast  region_southwest  \n",
       "0                  0.0               0.0               0.0               1.0  \n",
       "1                  0.0               0.0               1.0               0.0  \n",
       "2                  0.0               0.0               1.0               0.0  \n",
       "3                  0.0               1.0               0.0               0.0  \n",
       "4                  0.0               1.0               0.0               0.0  \n",
       "...                ...               ...               ...               ...  \n",
       "1333               0.0               1.0               0.0               0.0  \n",
       "1334               1.0               0.0               0.0               0.0  \n",
       "1335               0.0               0.0               1.0               0.0  \n",
       "1336               0.0               0.0               0.0               1.0  \n",
       "1337               0.0               1.0               0.0               0.0  \n",
       "\n",
       "[1338 rows x 11 columns]"
      ]
     },
     "execution_count": 79,
     "metadata": {},
     "output_type": "execute_result"
    }
   ],
   "source": [
    "X"
   ]
  },
  {
   "cell_type": "code",
   "execution_count": 80,
   "metadata": {
    "ExecuteTime": {
     "end_time": "2023-08-31T12:36:49.200224Z",
     "start_time": "2023-08-31T12:36:49.072547Z"
    },
    "colab": {
     "base_uri": "https://localhost:8080/",
     "height": 282
    },
    "id": "Xig8hPX_iOsO",
    "outputId": "5492366c-7d1f-4b4b-8d94-86426ad1e4eb"
   },
   "outputs": [
    {
     "data": {
      "text/plain": [
       "<Axes: ylabel='Frequency'>"
      ]
     },
     "execution_count": 80,
     "metadata": {},
     "output_type": "execute_result"
    },
    {
     "data": {
      "image/png": "[encoded data removed]",
      "text/plain": [
       "<Figure size 640x480 with 1 Axes>"
      ]
     },
     "metadata": {},
     "output_type": "display_data"
    }
   ],
   "source": [
    "X[\"age\"].plot(kind=\"hist\")"
   ]
  },
  {
   "cell_type": "code",
   "execution_count": 81,
   "metadata": {
    "ExecuteTime": {
     "end_time": "2023-08-31T12:36:50.322879Z",
     "start_time": "2023-08-31T12:36:50.229980Z"
    },
    "colab": {
     "base_uri": "https://localhost:8080/",
     "height": 282
    },
    "id": "m9wipi3UiTS9",
    "outputId": "41513ef8-fc08-410f-d172-9db5ba1c01e9"
   },
   "outputs": [
    {
     "data": {
      "text/plain": [
       "<Axes: ylabel='Frequency'>"
      ]
     },
     "execution_count": 81,
     "metadata": {},
     "output_type": "execute_result"
    },
    {
     "data": {
      "image/png": "[encoded data removed]",
      "text/plain": [
       "<Figure size 640x480 with 1 Axes>"
      ]
     },
     "metadata": {},
     "output_type": "display_data"
    }
   ],
   "source": [
    "X[\"bmi\"].plot(kind=\"hist\")"
   ]
  },
  {
   "cell_type": "code",
   "execution_count": 82,
   "metadata": {
    "ExecuteTime": {
     "end_time": "2023-08-31T12:36:51.338239Z",
     "start_time": "2023-08-31T12:36:51.235477Z"
    },
    "colab": {
     "base_uri": "https://localhost:8080/",
     "height": 285
    },
    "id": "nxK6rmjHDODi",
    "outputId": "22658fb3-b1da-4bbf-bec7-8120e70652b2"
   },
   "outputs": [
    {
     "data": {
      "text/plain": [
       "<Axes: ylabel='Frequency'>"
      ]
     },
     "execution_count": 82,
     "metadata": {},
     "output_type": "execute_result"
    },
    {
     "data": {
      "image/png": "[encoded data removed]",
      "text/plain": [
       "<Figure size 640x480 with 1 Axes>"
      ]
     },
     "metadata": {},
     "output_type": "display_data"
    }
   ],
   "source": [
    "X[\"children\"].plot(kind=\"hist\")"
   ]
  },
  {
   "cell_type": "code",
   "execution_count": 83,
   "metadata": {
    "ExecuteTime": {
     "end_time": "2023-08-31T12:36:52.008008Z",
     "start_time": "2023-08-31T12:36:51.522248Z"
    },
    "colab": {
     "base_uri": "https://localhost:8080/",
     "height": 419
    },
    "id": "stSgqq62Djzd",
    "outputId": "d1625dff-1d83-4610-af08-8e82b5180c4a"
   },
   "outputs": [
    {
     "data": {
      "text/html": [
       "<div>\n",
       "<style scoped>\n",
       "    .dataframe tbody tr th:only-of-type {\n",
       "        vertical-align: middle;\n",
       "    }\n",
       "\n",
       "    .dataframe tbody tr th {\n",
       "        vertical-align: top;\n",
       "    }\n",
       "\n",
       "    .dataframe thead th {\n",
       "        text-align: right;\n",
       "    }\n",
       "</style>\n",
       "<table border=\"1\" class=\"dataframe\">\n",
       "  <thead>\n",
       "    <tr style=\"text-align: right;\">\n",
       "      <th></th>\n",
       "      <th>age</th>\n",
       "      <th>sex</th>\n",
       "      <th>bmi</th>\n",
       "      <th>children</th>\n",
       "      <th>smoker</th>\n",
       "      <th>region</th>\n",
       "      <th>charges</th>\n",
       "    </tr>\n",
       "  </thead>\n",
       "  <tbody>\n",
       "    <tr>\n",
       "      <th>0</th>\n",
       "      <td>19</td>\n",
       "      <td>female</td>\n",
       "      <td>27.900</td>\n",
       "      <td>0</td>\n",
       "      <td>yes</td>\n",
       "      <td>southwest</td>\n",
       "      <td>16884.92400</td>\n",
       "    </tr>\n",
       "    <tr>\n",
       "      <th>1</th>\n",
       "      <td>18</td>\n",
       "      <td>male</td>\n",
       "      <td>33.770</td>\n",
       "      <td>1</td>\n",
       "      <td>no</td>\n",
       "      <td>southeast</td>\n",
       "      <td>1725.55230</td>\n",
       "    </tr>\n",
       "    <tr>\n",
       "      <th>2</th>\n",
       "      <td>28</td>\n",
       "      <td>male</td>\n",
       "      <td>33.000</td>\n",
       "      <td>3</td>\n",
       "      <td>no</td>\n",
       "      <td>southeast</td>\n",
       "      <td>4449.46200</td>\n",
       "    </tr>\n",
       "    <tr>\n",
       "      <th>3</th>\n",
       "      <td>33</td>\n",
       "      <td>male</td>\n",
       "      <td>22.705</td>\n",
       "      <td>0</td>\n",
       "      <td>no</td>\n",
       "      <td>northwest</td>\n",
       "      <td>21984.47061</td>\n",
       "    </tr>\n",
       "    <tr>\n",
       "      <th>4</th>\n",
       "      <td>32</td>\n",
       "      <td>male</td>\n",
       "      <td>28.880</td>\n",
       "      <td>0</td>\n",
       "      <td>no</td>\n",
       "      <td>northwest</td>\n",
       "      <td>3866.85520</td>\n",
       "    </tr>\n",
       "    <tr>\n",
       "      <th>...</th>\n",
       "      <td>...</td>\n",
       "      <td>...</td>\n",
       "      <td>...</td>\n",
       "      <td>...</td>\n",
       "      <td>...</td>\n",
       "      <td>...</td>\n",
       "      <td>...</td>\n",
       "    </tr>\n",
       "    <tr>\n",
       "      <th>1333</th>\n",
       "      <td>50</td>\n",
       "      <td>male</td>\n",
       "      <td>30.970</td>\n",
       "      <td>3</td>\n",
       "      <td>no</td>\n",
       "      <td>northwest</td>\n",
       "      <td>10600.54830</td>\n",
       "    </tr>\n",
       "    <tr>\n",
       "      <th>1334</th>\n",
       "      <td>18</td>\n",
       "      <td>female</td>\n",
       "      <td>31.920</td>\n",
       "      <td>0</td>\n",
       "      <td>no</td>\n",
       "      <td>northeast</td>\n",
       "      <td>2205.98080</td>\n",
       "    </tr>\n",
       "    <tr>\n",
       "      <th>1335</th>\n",
       "      <td>18</td>\n",
       "      <td>female</td>\n",
       "      <td>36.850</td>\n",
       "      <td>0</td>\n",
       "      <td>no</td>\n",
       "      <td>southeast</td>\n",
       "      <td>1629.83350</td>\n",
       "    </tr>\n",
       "    <tr>\n",
       "      <th>1336</th>\n",
       "      <td>21</td>\n",
       "      <td>female</td>\n",
       "      <td>25.800</td>\n",
       "      <td>0</td>\n",
       "      <td>no</td>\n",
       "      <td>southwest</td>\n",
       "      <td>2007.94500</td>\n",
       "    </tr>\n",
       "    <tr>\n",
       "      <th>1337</th>\n",
       "      <td>61</td>\n",
       "      <td>female</td>\n",
       "      <td>29.070</td>\n",
       "      <td>0</td>\n",
       "      <td>yes</td>\n",
       "      <td>northwest</td>\n",
       "      <td>29141.36030</td>\n",
       "    </tr>\n",
       "  </tbody>\n",
       "</table>\n",
       "<p>1338 rows × 7 columns</p>\n",
       "</div>"
      ],
      "text/plain": [
       "      age     sex     bmi  children smoker     region      charges\n",
       "0      19  female  27.900         0    yes  southwest  16884.92400\n",
       "1      18    male  33.770         1     no  southeast   1725.55230\n",
       "2      28    male  33.000         3     no  southeast   4449.46200\n",
       "3      33    male  22.705         0     no  northwest  21984.47061\n",
       "4      32    male  28.880         0     no  northwest   3866.85520\n",
       "...   ...     ...     ...       ...    ...        ...          ...\n",
       "1333   50    male  30.970         3     no  northwest  10600.54830\n",
       "1334   18  female  31.920         0     no  northeast   2205.98080\n",
       "1335   18  female  36.850         0     no  southeast   1629.83350\n",
       "1336   21  female  25.800         0     no  southwest   2007.94500\n",
       "1337   61  female  29.070         0    yes  northwest  29141.36030\n",
       "\n",
       "[1338 rows x 7 columns]"
      ]
     },
     "execution_count": 83,
     "metadata": {},
     "output_type": "execute_result"
    }
   ],
   "source": [
    "import pandas as pd\n",
    "import matplotlib.pyplot as plt\n",
    "import tensorflow as tf\n",
    "\n",
    "insurance = pd.read_csv(\"https://raw.githubusercontent.com/stedy/Machine-Learning-with-R-datasets/master/insurance.csv\")\n",
    "insurance"
   ]
  },
  {
   "cell_type": "markdown",
   "metadata": {
    "id": "QsRdvFoGL-eN"
   },
   "source": [
    "To prepare our data, we can borrow a few classes from SciKit learn."
   ]
  },
  {
   "cell_type": "code",
   "execution_count": 84,
   "metadata": {
    "ExecuteTime": {
     "end_time": "2023-08-31T12:36:53.260820Z",
     "start_time": "2023-08-31T12:36:53.213904Z"
    },
    "id": "K-6Iusw4L4v8"
   },
   "outputs": [],
   "source": [
    "from sklearn.compose import make_column_transformer\n",
    "from sklearn.preprocessing import MinMaxScaler, OneHotEncoder\n",
    "from sklearn.model_selection import train_test_split\n",
    "\n",
    "# Create a column transformer.\n",
    "ct = make_column_transformer(\n",
    "    (MinMaxScaler(), [\"age\", \"bmi\", \"children\"]), # turn all values in these columns between 0 and 1\n",
    "    (OneHotEncoder(handle_unknown=\"ignore\"), [\"sex\", \"smoker\", \"region\"])\n",
    ")\n",
    "\n",
    "# Create X and y values.\n",
    "X = insurance.drop(\"charges\", axis=1)\n",
    "y = insurance[\"charges\"]\n",
    "\n",
    "# Build our train and test sats\n",
    "X_train, X_test, y_train, y_test = train_test_split(X, y, test_size=0.2, random_state=42)\n",
    "\n",
    "# Fit the column transformer to our training data\n",
    "ct.fit(X_train)\n",
    "\n",
    "# Transform training and test data with normalization (MinMAxScalar, and OneHotEncoder)\n",
    "X_train_normal = ct.transform(X_train)\n",
    "X_test_normal = ct.transform(X_test)\n"
   ]
  },
  {
   "cell_type": "code",
   "execution_count": 85,
   "metadata": {
    "ExecuteTime": {
     "end_time": "2023-08-31T12:36:54.627530Z",
     "start_time": "2023-08-31T12:36:54.588075Z"
    },
    "colab": {
     "base_uri": "https://localhost:8080/"
    },
    "id": "FtndHt0rN-qo",
    "outputId": "9144eda2-1a2b-44ef-fa8c-d567f0016fb2"
   },
   "outputs": [
    {
     "data": {
      "text/plain": [
       "age                19\n",
       "sex            female\n",
       "bmi              27.9\n",
       "children            0\n",
       "smoker            yes\n",
       "region      southwest\n",
       "Name: 0, dtype: object"
      ]
     },
     "execution_count": 85,
     "metadata": {},
     "output_type": "execute_result"
    }
   ],
   "source": [
    "# What does our data look like now?\n",
    "X_train.loc[0]"
   ]
  },
  {
   "cell_type": "code",
   "execution_count": 86,
   "metadata": {
    "ExecuteTime": {
     "end_time": "2023-08-31T12:36:55.723229Z",
     "start_time": "2023-08-31T12:36:55.633552Z"
    },
    "colab": {
     "base_uri": "https://localhost:8080/"
    },
    "id": "7Jrve-ffOCM1",
    "outputId": "76323555-9959-42cf-e5bf-e0403e79d66a"
   },
   "outputs": [
    {
     "data": {
      "text/plain": [
       "array([0.60869565, 0.10734463, 0.4       , 1.        , 0.        ,\n",
       "       1.        , 0.        , 0.        , 1.        , 0.        ,\n",
       "       0.        ])"
      ]
     },
     "execution_count": 86,
     "metadata": {},
     "output_type": "execute_result"
    }
   ],
   "source": [
    "X_train_normal[0]"
   ]
  },
  {
   "cell_type": "markdown",
   "metadata": {
    "id": "fXZNyn7BO0zC"
   },
   "source": [
    "Beautiful! Our data has been normalized and on hot encoded. Now let's build a neural network model on it and see how it goes."
   ]
  },
  {
   "cell_type": "code",
   "execution_count": 87,
   "metadata": {
    "ExecuteTime": {
     "end_time": "2023-08-31T12:37:32.516626Z",
     "start_time": "2023-08-31T12:37:01.178158Z"
    },
    "colab": {
     "base_uri": "https://localhost:8080/"
    },
    "id": "qAdUVOm5OEPR",
    "outputId": "a77b9be6-36fd-4728-bd30-723a3d57f754"
   },
   "outputs": [
    {
     "data": {
      "text/plain": [
       "<keras.src.callbacks.History at 0x7fac7c2d9dd0>"
      ]
     },
     "execution_count": 87,
     "metadata": {},
     "output_type": "execute_result"
    }
   ],
   "source": [
    "tf.random.set_seed(42)\n",
    "\n",
    "# Create a model\n",
    "insurance_model_4 = tf.keras.Sequential([\n",
    "    tf.keras.layers.Dense(100, input_shape=[11]),\n",
    "    tf.keras.layers.Dense(10),\n",
    "    tf.keras.layers.Dense(1)\n",
    "])\n",
    "\n",
    "insurance_model_4.compile(loss=tf.keras.losses.mae,\n",
    "                        optimizer=tf.keras.optimizers.Adam(),\n",
    "                        metrics=[\"mae\"])\n",
    "\n",
    "insurance_model_4.fit(X_train_normal, y_train, epochs=200, verbose=0)"
   ]
  },
  {
   "cell_type": "code",
   "execution_count": 88,
   "metadata": {
    "ExecuteTime": {
     "end_time": "2023-08-31T12:37:38.233876Z",
     "start_time": "2023-08-31T12:37:38.058853Z"
    },
    "colab": {
     "base_uri": "https://localhost:8080/"
    },
    "id": "4MkHLmsuQ9zU",
    "outputId": "439c1324-4e44-456e-fa5a-ca255457926a"
   },
   "outputs": [
    {
     "name": "stdout",
     "output_type": "stream",
     "text": [
      "9/9 [==============================] - 0s 679us/step - loss: 3168.7258 - mae: 3168.7258\n"
     ]
    },
    {
     "data": {
      "text/plain": [
       "[3168.725830078125, 3168.725830078125]"
      ]
     },
     "execution_count": 88,
     "metadata": {},
     "output_type": "execute_result"
    }
   ],
   "source": [
    "insurance_model_4.evaluate(X_test_normal, y_test)"
   ]
  }
 ],
 "metadata": {
  "colab": {
   "provenance": []
  },
  "kernelspec": {
   "display_name": "Python 3 (ipykernel)",
   "language": "python",
   "name": "python3"
  },
  "language_info": {
   "codemirror_mode": {
    "name": "ipython",
    "version": 3
   },
   "file_extension": ".py",
   "mimetype": "text/x-python",
   "name": "python",
   "nbconvert_exporter": "python",
   "pygments_lexer": "ipython3",
   "version": "3.11.4"
  }
 },
 "nbformat": 4,
 "nbformat_minor": 4
}
