{
 "nbformat": 4,
 "nbformat_minor": 0,
 "metadata": {
  "colab": {
   "provenance": []
  },
  "kernelspec": {
   "name": "python3",
   "language": "python",
   "display_name": "Python 3 (ipykernel)"
  },
  "language_info": {
   "name": "python"
  }
 },
 "cells": [
  {
   "cell_type": "markdown",
   "source": [
    "# Introduction to Regression with Neural Networks in TensorFlow\n",
    "\n",
    "There are many definitions for a regression problem but in our case, we're going to simplify it: predicting a numerical variable based on some other combination of variables, even shorter... predicting a number."
   ],
   "metadata": {
    "collapsed": false
   }
  },
  {
   "cell_type": "code",
   "source": [
    "# Import TensorFlow\n",
    "\n",
    "import tensorflow as tf\n",
    "print(tf.__version__)"
   ],
   "metadata": {
    "colab": {
     "base_uri": "https://localhost:8080/"
    },
    "id": "_omw_sDzWDc5",
    "outputId": "f883e95a-8e27-4371-a62f-8ad5c51c0553",
    "ExecuteTime": {
     "end_time": "2023-08-31T11:28:45.031270Z",
     "start_time": "2023-08-31T11:28:42.405863Z"
    }
   },
   "execution_count": 1,
   "outputs": [
    {
     "name": "stdout",
     "output_type": "stream",
     "text": [
      "2.12.0\n"
     ]
    }
   ]
  },
  {
   "cell_type": "markdown",
   "source": [
    "## Creating data to view and fit."
   ],
   "metadata": {
    "id": "GJRqicoJW313"
   }
  },
  {
   "cell_type": "code",
   "source": [
    "import numpy as np\n",
    "import matplotlib.pyplot as plt\n",
    "\n",
    "# Create features\n",
    "X = np.array([-7.0, -4.0, -1.0, 2.0, 5.0, 8.0, 11.0, 14.0])\n",
    "\n",
    "# Create labels\n",
    "y = np.array([3.0, 6.0, 9.0, 12.0, 15.0, 18.0, 21.0, 24.0])\n",
    "\n",
    "# visualize it\n",
    "plt.scatter(X, y)"
   ],
   "metadata": {
    "colab": {
     "base_uri": "https://localhost:8080/",
     "height": 286
    },
    "id": "msArWP_iW_cR",
    "outputId": "5c346187-492c-4e61-af2a-37bb66ff85ff",
    "ExecuteTime": {
     "end_time": "2023-08-31T11:28:45.874410Z",
     "start_time": "2023-08-31T11:28:45.030022Z"
    }
   },
   "execution_count": 2,
   "outputs": [
    {
     "data": {
      "text/plain": "<matplotlib.collections.PathCollection at 0x2ca784ee0>"
     },
     "execution_count": 2,
     "metadata": {},
     "output_type": "execute_result"
    },
    {
     "data": {
      "text/plain": "<Figure size 640x480 with 1 Axes>",
      "image/png": "[encoded data removed]"
     },
     "metadata": {},
     "output_type": "display_data"
    }
   ]
  },
  {
   "cell_type": "code",
   "source": [
    "# The function we want the network to learn.\n",
    "y == X + 10\n"
   ],
   "metadata": {
    "colab": {
     "base_uri": "https://localhost:8080/"
    },
    "id": "wFDlRij1XbXE",
    "outputId": "4697c8d0-cfe9-46a7-9480-67fb17aa2379",
    "ExecuteTime": {
     "end_time": "2023-08-31T11:28:45.875528Z",
     "start_time": "2023-08-31T11:28:45.872395Z"
    }
   },
   "execution_count": 3,
   "outputs": [
    {
     "data": {
      "text/plain": "array([ True,  True,  True,  True,  True,  True,  True,  True])"
     },
     "execution_count": 3,
     "metadata": {},
     "output_type": "execute_result"
    }
   ]
  },
  {
   "cell_type": "markdown",
   "source": [
    "## Input and output shapes"
   ],
   "metadata": {
    "id": "knGby7WnXrke"
   }
  },
  {
   "cell_type": "code",
   "source": [
    "# Create a demo tensor for our housing price prediction problem\n",
    "house_info = tf.constant([\"bedroom\", \"bathroom\", \"garage\"])\n",
    "house_price = tf.constant([939700])\n",
    "house_info, house_price"
   ],
   "metadata": {
    "colab": {
     "base_uri": "https://localhost:8080/"
    },
    "id": "HzycHa2UXy15",
    "outputId": "8e32a458-3f67-4f1d-ba66-1bf3167beac5",
    "ExecuteTime": {
     "end_time": "2023-08-31T11:28:45.889473Z",
     "start_time": "2023-08-31T11:28:45.884461Z"
    }
   },
   "execution_count": 4,
   "outputs": [
    {
     "name": "stdout",
     "output_type": "stream",
     "text": [
      "Metal device set to: Apple M1 Max\n"
     ]
    },
    {
     "data": {
      "text/plain": "(<tf.Tensor: shape=(3,), dtype=string, numpy=array([b'bedroom', b'bathroom', b'garage'], dtype=object)>,\n <tf.Tensor: shape=(1,), dtype=int32, numpy=array([939700], dtype=int32)>)"
     },
     "execution_count": 4,
     "metadata": {},
     "output_type": "execute_result"
    }
   ]
  },
  {
   "cell_type": "code",
   "source": [
    "input_shape = X[0].shape\n",
    "output_shape = y[0].shape\n",
    "input_shape, output_shape"
   ],
   "metadata": {
    "colab": {
     "base_uri": "https://localhost:8080/"
    },
    "id": "yKoRvwH5Y1M_",
    "outputId": "effeb889-6c66-4777-f4b3-dcb5e8919291",
    "ExecuteTime": {
     "end_time": "2023-08-31T11:28:45.889684Z",
     "start_time": "2023-08-31T11:28:45.887511Z"
    }
   },
   "execution_count": 5,
   "outputs": [
    {
     "data": {
      "text/plain": "((), ())"
     },
     "execution_count": 5,
     "metadata": {},
     "output_type": "execute_result"
    }
   ]
  },
  {
   "cell_type": "code",
   "source": [
    "# Turn our NumPY arrays into tensors\n",
    "X = tf.cast(tf.constant(X), dtype=tf.float32)\n",
    "y = tf.cast(tf.constant(y), dtype=tf.float32)\n",
    "X, y"
   ],
   "metadata": {
    "colab": {
     "base_uri": "https://localhost:8080/"
    },
    "id": "FyMfNGRIZLnd",
    "outputId": "a6396a0b-eefb-4ccf-9225-b1298b9e3806",
    "ExecuteTime": {
     "end_time": "2023-08-31T11:28:45.959382Z",
     "start_time": "2023-08-31T11:28:45.892134Z"
    }
   },
   "execution_count": 6,
   "outputs": [
    {
     "data": {
      "text/plain": "(<tf.Tensor: shape=(8,), dtype=float32, numpy=array([-7., -4., -1.,  2.,  5.,  8., 11., 14.], dtype=float32)>,\n <tf.Tensor: shape=(8,), dtype=float32, numpy=array([ 3.,  6.,  9., 12., 15., 18., 21., 24.], dtype=float32)>)"
     },
     "execution_count": 6,
     "metadata": {},
     "output_type": "execute_result"
    }
   ]
  },
  {
   "cell_type": "code",
   "source": [
    "plt.scatter(X, y)"
   ],
   "metadata": {
    "colab": {
     "base_uri": "https://localhost:8080/",
     "height": 286
    },
    "id": "42B3f89JaR1o",
    "outputId": "ab643739-4a7a-4395-8f36-8d983995a130",
    "ExecuteTime": {
     "end_time": "2023-08-31T11:28:46.069545Z",
     "start_time": "2023-08-31T11:28:45.899243Z"
    }
   },
   "execution_count": 7,
   "outputs": [
    {
     "data": {
      "text/plain": "<matplotlib.collections.PathCollection at 0x2ca85e500>"
     },
     "execution_count": 7,
     "metadata": {},
     "output_type": "execute_result"
    },
    {
     "data": {
      "text/plain": "<Figure size 640x480 with 1 Axes>",
      "image/png": "[encoded data removed]"
     },
     "metadata": {},
     "output_type": "display_data"
    }
   ]
  },
  {
   "cell_type": "markdown",
   "source": [
    "## Steps in modelling with TensorFlow\n",
    "\n",
    "1. Creating a model - define the input and output layers as well as the hidden layers of a deep learning model.\n",
    "2. Compiling a model - define the loss function (in other words, the function which tells our model how wrong it is) and the optimizer (tells our model how to improve the patterns its learning) and evaluation metrices (what we can use to interpret the performance of our model).\n",
    "3. Fitting a model - letting the model try to find patters between X & Y (features and labels)."
   ],
   "metadata": {
    "id": "bMmAc9Lhaau6"
   }
  },
  {
   "cell_type": "code",
   "source": [],
   "metadata": {
    "id": "kHd9UZfrehFC",
    "ExecuteTime": {
     "end_time": "2023-08-31T11:28:46.070043Z",
     "start_time": "2023-08-31T11:28:46.067456Z"
    }
   },
   "execution_count": 7,
   "outputs": []
  },
  {
   "cell_type": "code",
   "source": [
    "# Set random seed\n",
    "tf.random.set_seed(42)\n",
    "\n",
    "# Create a model using the Sequential API\n",
    "model = tf.keras.Sequential([\n",
    "    tf.keras.layers.Dense(1)\n",
    "])\n",
    "\n",
    "#2. Compile the model\n",
    "\n",
    "model.compile(loss=tf.keras.losses.mae, # mean absolute error\n",
    "              optimizer=tf.keras.optimizers.SGD(), # Stochastic gradient descent.\n",
    "              metrics=[\"mae\"]\n",
    "              )\n",
    "\n",
    "# 3. Fit the model\n",
    "model.fit(tf.expand_dims(X, -1), y, epochs=5)\n"
   ],
   "metadata": {
    "colab": {
     "base_uri": "https://localhost:8080/"
    },
    "id": "mzW_i-WYadYC",
    "outputId": "8db50aa4-ddd6-4906-fc6e-90872060630a",
    "ExecuteTime": {
     "end_time": "2023-08-31T11:28:47.291732Z",
     "start_time": "2023-08-31T11:28:46.071590Z"
    }
   },
   "execution_count": 8,
   "outputs": [
    {
     "name": "stderr",
     "output_type": "stream",
     "text": [
      "WARNING:absl:At this time, the v2.11+ optimizer `tf.keras.optimizers.SGD` runs slowly on M1/M2 Macs, please use the legacy Keras optimizer instead, located at `tf.keras.optimizers.legacy.SGD`.\n",
      "WARNING:absl:There is a known slowdown when using v2.11+ Keras optimizers on M1/M2 Macs. Falling back to the legacy Keras optimizer, i.e., `tf.keras.optimizers.legacy.SGD`.\n"
     ]
    },
    {
     "name": "stdout",
     "output_type": "stream",
     "text": [
      "Epoch 1/5\n"
     ]
    },
    {
     "name": "stderr",
     "output_type": "stream",
     "text": [
      "2023-08-31 13:28:46.151711: W tensorflow/tsl/platform/profile_utils/cpu_utils.cc:128] Failed to get CPU frequency: 0 Hz\n"
     ]
    },
    {
     "name": "stdout",
     "output_type": "stream",
     "text": [
      "1/1 [==============================] - 1s 1s/step - loss: 16.6267 - mae: 16.6267\n",
      "Epoch 2/5\n",
      "1/1 [==============================] - 0s 8ms/step - loss: 16.3454 - mae: 16.3454\n",
      "Epoch 3/5\n",
      "1/1 [==============================] - 0s 7ms/step - loss: 16.0642 - mae: 16.0642\n",
      "Epoch 4/5\n",
      "1/1 [==============================] - 0s 7ms/step - loss: 15.7829 - mae: 15.7829\n",
      "Epoch 5/5\n",
      "1/1 [==============================] - 0s 7ms/step - loss: 15.5017 - mae: 15.5017\n"
     ]
    },
    {
     "data": {
      "text/plain": "<keras.callbacks.History at 0x2cc82ee30>"
     },
     "execution_count": 8,
     "metadata": {},
     "output_type": "execute_result"
    }
   ]
  },
  {
   "cell_type": "code",
   "source": [
    "# Check out X and Y\n",
    "X, y"
   ],
   "metadata": {
    "colab": {
     "base_uri": "https://localhost:8080/"
    },
    "id": "iU03czOTdx7z",
    "outputId": "c7df438d-41b6-4d76-b6b9-9ca707a232a5",
    "ExecuteTime": {
     "end_time": "2023-08-31T11:28:47.292585Z",
     "start_time": "2023-08-31T11:28:47.274958Z"
    }
   },
   "execution_count": 9,
   "outputs": [
    {
     "data": {
      "text/plain": "(<tf.Tensor: shape=(8,), dtype=float32, numpy=array([-7., -4., -1.,  2.,  5.,  8., 11., 14.], dtype=float32)>,\n <tf.Tensor: shape=(8,), dtype=float32, numpy=array([ 3.,  6.,  9., 12., 15., 18., 21., 24.], dtype=float32)>)"
     },
     "execution_count": 9,
     "metadata": {},
     "output_type": "execute_result"
    }
   ]
  },
  {
   "cell_type": "code",
   "source": [
    "# Try and make a prediction using our model\n",
    "model.predict([17.0])"
   ],
   "metadata": {
    "colab": {
     "base_uri": "https://localhost:8080/"
    },
    "id": "Fbr9Wy9GgiOi",
    "outputId": "120d2f8b-4d7d-4131-b0a3-49dd5f0889de",
    "ExecuteTime": {
     "end_time": "2023-08-31T11:28:47.451850Z",
     "start_time": "2023-08-31T11:28:47.279531Z"
    }
   },
   "execution_count": 10,
   "outputs": [
    {
     "name": "stdout",
     "output_type": "stream",
     "text": [
      "1/1 [==============================] - 0s 67ms/step\n"
     ]
    },
    {
     "data": {
      "text/plain": "array([[-8.053012]], dtype=float32)"
     },
     "execution_count": 10,
     "metadata": {},
     "output_type": "execute_result"
    }
   ]
  },
  {
   "cell_type": "markdown",
   "source": [
    "### improving model\n",
    "\n",
    "We can improve our model, by altering the steps we took to create a model.\n",
    "\n",
    "1. **Creating a model** - here we might add more layers, increase the number of hidden units (also called neurons) within each of the hidden layers, change the activation function of each layer.\n",
    "2. **Compiling a model** - here we might change the optimization function or perhaps the **learning rate** of said optimizaion function. \n",
    "3. **Fitting a model** - here we might fit a model more **epochs** (leave it training for longer) or on more data (give the model more examples to learn from)."
   ],
   "metadata": {
    "id": "OCqk1AK9gnKh"
   }
  },
  {
   "cell_type": "code",
   "source": [
    "# Let's rebuild our model\n",
    "\n",
    "#1. Create the model\n",
    "model = tf.keras.Sequential([\n",
    "    tf.keras.layers.Dense(1)\n",
    "])\n",
    "\n",
    "# 2. Compile the model\n",
    "model.compile(loss=tf.keras.losses.mae,\n",
    "              optimizer=tf.keras.optimizers.SGD(),\n",
    "              metrics=[\"mae\"])\n",
    "\n",
    "# 3. Fit the model (this time we'll train longer)\n",
    "model.fit(tf.expand_dims(X, -1), y, epochs=100)"
   ],
   "metadata": {
    "colab": {
     "base_uri": "https://localhost:8080/"
    },
    "id": "sOfnNo9OhWLM",
    "outputId": "74d8211e-19ff-4ef1-d8b6-9e10cf68d679",
    "ExecuteTime": {
     "end_time": "2023-08-31T11:28:48.729784Z",
     "start_time": "2023-08-31T11:28:47.453608Z"
    }
   },
   "execution_count": 11,
   "outputs": [
    {
     "name": "stderr",
     "output_type": "stream",
     "text": [
      "WARNING:absl:At this time, the v2.11+ optimizer `tf.keras.optimizers.SGD` runs slowly on M1/M2 Macs, please use the legacy Keras optimizer instead, located at `tf.keras.optimizers.legacy.SGD`.\n",
      "WARNING:absl:There is a known slowdown when using v2.11+ Keras optimizers on M1/M2 Macs. Falling back to the legacy Keras optimizer, i.e., `tf.keras.optimizers.legacy.SGD`.\n"
     ]
    },
    {
     "name": "stdout",
     "output_type": "stream",
     "text": [
      "Epoch 1/100\n",
      "1/1 [==============================] - 0s 163ms/step - loss: 11.9062 - mae: 11.9062\n",
      "Epoch 2/100\n",
      "1/1 [==============================] - 0s 13ms/step - loss: 11.7737 - mae: 11.7737\n",
      "Epoch 3/100\n",
      "1/1 [==============================] - 0s 7ms/step - loss: 11.6412 - mae: 11.6412\n",
      "Epoch 4/100\n",
      "1/1 [==============================] - 0s 8ms/step - loss: 11.5087 - mae: 11.5087\n",
      "Epoch 5/100\n",
      "1/1 [==============================] - 0s 7ms/step - loss: 11.3762 - mae: 11.3762\n",
      "Epoch 6/100\n",
      "1/1 [==============================] - 0s 7ms/step - loss: 11.2437 - mae: 11.2437\n",
      "Epoch 7/100\n",
      "1/1 [==============================] - 0s 7ms/step - loss: 11.1112 - mae: 11.1112\n",
      "Epoch 8/100\n",
      "1/1 [==============================] - 0s 6ms/step - loss: 10.9787 - mae: 10.9787\n",
      "Epoch 9/100\n",
      "1/1 [==============================] - 0s 8ms/step - loss: 10.8462 - mae: 10.8462\n",
      "Epoch 10/100\n",
      "1/1 [==============================] - 0s 7ms/step - loss: 10.7137 - mae: 10.7137\n",
      "Epoch 11/100\n",
      "1/1 [==============================] - 0s 7ms/step - loss: 10.5812 - mae: 10.5812\n",
      "Epoch 12/100\n",
      "1/1 [==============================] - 0s 8ms/step - loss: 10.4487 - mae: 10.4487\n",
      "Epoch 13/100\n",
      "1/1 [==============================] - 0s 7ms/step - loss: 10.3162 - mae: 10.3162\n",
      "Epoch 14/100\n",
      "1/1 [==============================] - 0s 7ms/step - loss: 10.1837 - mae: 10.1837\n",
      "Epoch 15/100\n",
      "1/1 [==============================] - 0s 7ms/step - loss: 10.0512 - mae: 10.0512\n",
      "Epoch 16/100\n",
      "1/1 [==============================] - 0s 7ms/step - loss: 9.9187 - mae: 9.9187\n",
      "Epoch 17/100\n",
      "1/1 [==============================] - 0s 6ms/step - loss: 9.7862 - mae: 9.7862\n",
      "Epoch 18/100\n",
      "1/1 [==============================] - 0s 7ms/step - loss: 9.6537 - mae: 9.6537\n",
      "Epoch 19/100\n",
      "1/1 [==============================] - 0s 7ms/step - loss: 9.5212 - mae: 9.5212\n",
      "Epoch 20/100\n",
      "1/1 [==============================] - 0s 8ms/step - loss: 9.3887 - mae: 9.3887\n",
      "Epoch 21/100\n",
      "1/1 [==============================] - 0s 7ms/step - loss: 9.2562 - mae: 9.2562\n",
      "Epoch 22/100\n",
      "1/1 [==============================] - 0s 7ms/step - loss: 9.1237 - mae: 9.1237\n",
      "Epoch 23/100\n",
      "1/1 [==============================] - 0s 8ms/step - loss: 8.9912 - mae: 8.9912\n",
      "Epoch 24/100\n",
      "1/1 [==============================] - 0s 7ms/step - loss: 8.8587 - mae: 8.8587\n",
      "Epoch 25/100\n",
      "1/1 [==============================] - 0s 7ms/step - loss: 8.7262 - mae: 8.7262\n",
      "Epoch 26/100\n",
      "1/1 [==============================] - 0s 7ms/step - loss: 8.5937 - mae: 8.5937\n",
      "Epoch 27/100\n",
      "1/1 [==============================] - 0s 7ms/step - loss: 8.4612 - mae: 8.4612\n",
      "Epoch 28/100\n",
      "1/1 [==============================] - 0s 7ms/step - loss: 8.3287 - mae: 8.3287\n",
      "Epoch 29/100\n",
      "1/1 [==============================] - 0s 7ms/step - loss: 8.1962 - mae: 8.1962\n",
      "Epoch 30/100\n",
      "1/1 [==============================] - 0s 8ms/step - loss: 8.0637 - mae: 8.0637\n",
      "Epoch 31/100\n",
      "1/1 [==============================] - 0s 7ms/step - loss: 7.9312 - mae: 7.9312\n",
      "Epoch 32/100\n",
      "1/1 [==============================] - 0s 7ms/step - loss: 7.7987 - mae: 7.7987\n",
      "Epoch 33/100\n",
      "1/1 [==============================] - 0s 7ms/step - loss: 7.6662 - mae: 7.6662\n",
      "Epoch 34/100\n",
      "1/1 [==============================] - 0s 7ms/step - loss: 7.5337 - mae: 7.5337\n",
      "Epoch 35/100\n",
      "1/1 [==============================] - 0s 7ms/step - loss: 7.4012 - mae: 7.4012\n",
      "Epoch 36/100\n",
      "1/1 [==============================] - 0s 8ms/step - loss: 7.2687 - mae: 7.2687\n",
      "Epoch 37/100\n",
      "1/1 [==============================] - 0s 8ms/step - loss: 7.2300 - mae: 7.2300\n",
      "Epoch 38/100\n",
      "1/1 [==============================] - 0s 6ms/step - loss: 7.2244 - mae: 7.2244\n",
      "Epoch 39/100\n",
      "1/1 [==============================] - 0s 8ms/step - loss: 7.2188 - mae: 7.2188\n",
      "Epoch 40/100\n",
      "1/1 [==============================] - 0s 7ms/step - loss: 7.2131 - mae: 7.2131\n",
      "Epoch 41/100\n",
      "1/1 [==============================] - 0s 7ms/step - loss: 7.2075 - mae: 7.2075\n",
      "Epoch 42/100\n",
      "1/1 [==============================] - 0s 7ms/step - loss: 7.2019 - mae: 7.2019\n",
      "Epoch 43/100\n",
      "1/1 [==============================] - 0s 6ms/step - loss: 7.1962 - mae: 7.1962\n",
      "Epoch 44/100\n",
      "1/1 [==============================] - 0s 7ms/step - loss: 7.1906 - mae: 7.1906\n",
      "Epoch 45/100\n",
      "1/1 [==============================] - 0s 7ms/step - loss: 7.1850 - mae: 7.1850\n",
      "Epoch 46/100\n",
      "1/1 [==============================] - 0s 6ms/step - loss: 7.1794 - mae: 7.1794\n",
      "Epoch 47/100\n",
      "1/1 [==============================] - 0s 7ms/step - loss: 7.1738 - mae: 7.1738\n",
      "Epoch 48/100\n",
      "1/1 [==============================] - 0s 7ms/step - loss: 7.1681 - mae: 7.1681\n",
      "Epoch 49/100\n",
      "1/1 [==============================] - 0s 7ms/step - loss: 7.1625 - mae: 7.1625\n",
      "Epoch 50/100\n",
      "1/1 [==============================] - 0s 7ms/step - loss: 7.1569 - mae: 7.1569\n",
      "Epoch 51/100\n",
      "1/1 [==============================] - 0s 7ms/step - loss: 7.1512 - mae: 7.1512\n",
      "Epoch 52/100\n",
      "1/1 [==============================] - 0s 8ms/step - loss: 7.1456 - mae: 7.1456\n",
      "Epoch 53/100\n",
      "1/1 [==============================] - 0s 8ms/step - loss: 7.1400 - mae: 7.1400\n",
      "Epoch 54/100\n",
      "1/1 [==============================] - 0s 7ms/step - loss: 7.1344 - mae: 7.1344\n",
      "Epoch 55/100\n",
      "1/1 [==============================] - 0s 7ms/step - loss: 7.1287 - mae: 7.1287\n",
      "Epoch 56/100\n",
      "1/1 [==============================] - 0s 7ms/step - loss: 7.1231 - mae: 7.1231\n",
      "Epoch 57/100\n",
      "1/1 [==============================] - 0s 7ms/step - loss: 7.1175 - mae: 7.1175\n",
      "Epoch 58/100\n",
      "1/1 [==============================] - 0s 8ms/step - loss: 7.1119 - mae: 7.1119\n",
      "Epoch 59/100\n",
      "1/1 [==============================] - 0s 6ms/step - loss: 7.1063 - mae: 7.1063\n",
      "Epoch 60/100\n",
      "1/1 [==============================] - 0s 7ms/step - loss: 7.1006 - mae: 7.1006\n",
      "Epoch 61/100\n",
      "1/1 [==============================] - 0s 7ms/step - loss: 7.0950 - mae: 7.0950\n",
      "Epoch 62/100\n",
      "1/1 [==============================] - 0s 7ms/step - loss: 7.0894 - mae: 7.0894\n",
      "Epoch 63/100\n",
      "1/1 [==============================] - 0s 7ms/step - loss: 7.0837 - mae: 7.0837\n",
      "Epoch 64/100\n",
      "1/1 [==============================] - 0s 7ms/step - loss: 7.0781 - mae: 7.0781\n",
      "Epoch 65/100\n",
      "1/1 [==============================] - 0s 8ms/step - loss: 7.0725 - mae: 7.0725\n",
      "Epoch 66/100\n",
      "1/1 [==============================] - 0s 7ms/step - loss: 7.0669 - mae: 7.0669\n",
      "Epoch 67/100\n",
      "1/1 [==============================] - 0s 7ms/step - loss: 7.0613 - mae: 7.0613\n",
      "Epoch 68/100\n",
      "1/1 [==============================] - 0s 7ms/step - loss: 7.0556 - mae: 7.0556\n",
      "Epoch 69/100\n",
      "1/1 [==============================] - 0s 7ms/step - loss: 7.0500 - mae: 7.0500\n",
      "Epoch 70/100\n",
      "1/1 [==============================] - 0s 7ms/step - loss: 7.0444 - mae: 7.0444\n",
      "Epoch 71/100\n",
      "1/1 [==============================] - 0s 7ms/step - loss: 7.0388 - mae: 7.0388\n",
      "Epoch 72/100\n",
      "1/1 [==============================] - 0s 7ms/step - loss: 7.0331 - mae: 7.0331\n",
      "Epoch 73/100\n",
      "1/1 [==============================] - 0s 7ms/step - loss: 7.0275 - mae: 7.0275\n",
      "Epoch 74/100\n",
      "1/1 [==============================] - 0s 8ms/step - loss: 7.0219 - mae: 7.0219\n",
      "Epoch 75/100\n",
      "1/1 [==============================] - 0s 7ms/step - loss: 7.0163 - mae: 7.0163\n",
      "Epoch 76/100\n",
      "1/1 [==============================] - 0s 7ms/step - loss: 7.0106 - mae: 7.0106\n",
      "Epoch 77/100\n",
      "1/1 [==============================] - 0s 7ms/step - loss: 7.0050 - mae: 7.0050\n",
      "Epoch 78/100\n",
      "1/1 [==============================] - 0s 7ms/step - loss: 6.9994 - mae: 6.9994\n",
      "Epoch 79/100\n",
      "1/1 [==============================] - 0s 8ms/step - loss: 6.9938 - mae: 6.9938\n",
      "Epoch 80/100\n",
      "1/1 [==============================] - 0s 7ms/step - loss: 6.9881 - mae: 6.9881\n",
      "Epoch 81/100\n",
      "1/1 [==============================] - 0s 7ms/step - loss: 6.9825 - mae: 6.9825\n",
      "Epoch 82/100\n",
      "1/1 [==============================] - 0s 7ms/step - loss: 6.9769 - mae: 6.9769\n",
      "Epoch 83/100\n",
      "1/1 [==============================] - 0s 8ms/step - loss: 6.9713 - mae: 6.9713\n",
      "Epoch 84/100\n",
      "1/1 [==============================] - 0s 7ms/step - loss: 6.9656 - mae: 6.9656\n",
      "Epoch 85/100\n",
      "1/1 [==============================] - 0s 7ms/step - loss: 6.9600 - mae: 6.9600\n",
      "Epoch 86/100\n",
      "1/1 [==============================] - 0s 7ms/step - loss: 6.9544 - mae: 6.9544\n",
      "Epoch 87/100\n",
      "1/1 [==============================] - 0s 7ms/step - loss: 6.9488 - mae: 6.9488\n",
      "Epoch 88/100\n",
      "1/1 [==============================] - 0s 7ms/step - loss: 6.9431 - mae: 6.9431\n",
      "Epoch 89/100\n",
      "1/1 [==============================] - 0s 7ms/step - loss: 6.9375 - mae: 6.9375\n",
      "Epoch 90/100\n",
      "1/1 [==============================] - 0s 6ms/step - loss: 6.9319 - mae: 6.9319\n",
      "Epoch 91/100\n",
      "1/1 [==============================] - 0s 8ms/step - loss: 6.9263 - mae: 6.9263\n",
      "Epoch 92/100\n",
      "1/1 [==============================] - 0s 7ms/step - loss: 6.9206 - mae: 6.9206\n",
      "Epoch 93/100\n",
      "1/1 [==============================] - 0s 7ms/step - loss: 6.9150 - mae: 6.9150\n",
      "Epoch 94/100\n",
      "1/1 [==============================] - 0s 8ms/step - loss: 6.9094 - mae: 6.9094\n",
      "Epoch 95/100\n",
      "1/1 [==============================] - 0s 7ms/step - loss: 6.9037 - mae: 6.9037\n",
      "Epoch 96/100\n",
      "1/1 [==============================] - 0s 6ms/step - loss: 6.8981 - mae: 6.8981\n",
      "Epoch 97/100\n",
      "1/1 [==============================] - 0s 7ms/step - loss: 6.8925 - mae: 6.8925\n",
      "Epoch 98/100\n",
      "1/1 [==============================] - 0s 6ms/step - loss: 6.8869 - mae: 6.8869\n",
      "Epoch 99/100\n",
      "1/1 [==============================] - 0s 7ms/step - loss: 6.8813 - mae: 6.8813\n",
      "Epoch 100/100\n",
      "1/1 [==============================] - 0s 8ms/step - loss: 6.8756 - mae: 6.8756\n"
     ]
    },
    {
     "data": {
      "text/plain": "<keras.callbacks.History at 0x2cd18d000>"
     },
     "execution_count": 11,
     "metadata": {},
     "output_type": "execute_result"
    }
   ]
  },
  {
   "cell_type": "code",
   "source": [
    "# Remind ourselfves of the data\n",
    "X, y"
   ],
   "metadata": {
    "colab": {
     "base_uri": "https://localhost:8080/"
    },
    "id": "vkOqJ8Zq_USZ",
    "outputId": "523a6239-f35f-4f3a-9338-32811c3e161e",
    "ExecuteTime": {
     "end_time": "2023-08-31T11:28:48.730023Z",
     "start_time": "2023-08-31T11:28:48.536920Z"
    }
   },
   "execution_count": 12,
   "outputs": [
    {
     "data": {
      "text/plain": "(<tf.Tensor: shape=(8,), dtype=float32, numpy=array([-7., -4., -1.,  2.,  5.,  8., 11., 14.], dtype=float32)>,\n <tf.Tensor: shape=(8,), dtype=float32, numpy=array([ 3.,  6.,  9., 12., 15., 18., 21., 24.], dtype=float32)>)"
     },
     "execution_count": 12,
     "metadata": {},
     "output_type": "execute_result"
    }
   ]
  },
  {
   "cell_type": "code",
   "source": [
    "# Let's see if our model's prediction has improved\n",
    "model.predict([17.0])"
   ],
   "metadata": {
    "colab": {
     "base_uri": "https://localhost:8080/"
    },
    "id": "hWYBvb6TAUYk",
    "outputId": "69283431-44bf-4a53-d2f0-ea3c99ddcae6",
    "ExecuteTime": {
     "end_time": "2023-08-31T11:28:48.812735Z",
     "start_time": "2023-08-31T11:28:48.541656Z"
    }
   },
   "execution_count": 13,
   "outputs": [
    {
     "name": "stdout",
     "output_type": "stream",
     "text": [
      "1/1 [==============================] - 0s 31ms/step\n"
     ]
    },
    {
     "data": {
      "text/plain": "array([[30.001423]], dtype=float32)"
     },
     "execution_count": 13,
     "metadata": {},
     "output_type": "execute_result"
    }
   ]
  },
  {
   "cell_type": "code",
   "source": [
    "# Let's see if we can improve more\n",
    "\n",
    "#1. Create the model this time with an additional layer.\n",
    "model = tf.keras.Sequential([\n",
    "    tf.keras.layers.Dense(100, activation=\"relu\"),\n",
    "    tf.keras.layers.Dense(1),\n",
    "])\n",
    "\n",
    "# 2. Compile the model\n",
    "model.compile(loss=tf.keras.losses.mae,\n",
    "              optimizer=tf.keras.optimizers.SGD(),\n",
    "              metrics=[\"mae\"])\n",
    "\n",
    "# 3. Fit the model (this time we'll train longer)\n",
    "model.fit(tf.expand_dims(X, -1), y, epochs=100)"
   ],
   "metadata": {
    "colab": {
     "base_uri": "https://localhost:8080/"
    },
    "id": "L5ctm5LPAaSU",
    "outputId": "f9bdacbd-4403-4d62-8307-c6eedc61bbb9",
    "ExecuteTime": {
     "end_time": "2023-08-31T11:28:50.663177Z",
     "start_time": "2023-08-31T11:28:48.596707Z"
    }
   },
   "execution_count": 14,
   "outputs": [
    {
     "name": "stderr",
     "output_type": "stream",
     "text": [
      "WARNING:absl:At this time, the v2.11+ optimizer `tf.keras.optimizers.SGD` runs slowly on M1/M2 Macs, please use the legacy Keras optimizer instead, located at `tf.keras.optimizers.legacy.SGD`.\n",
      "WARNING:absl:There is a known slowdown when using v2.11+ Keras optimizers on M1/M2 Macs. Falling back to the legacy Keras optimizer, i.e., `tf.keras.optimizers.legacy.SGD`.\n"
     ]
    },
    {
     "name": "stdout",
     "output_type": "stream",
     "text": [
      "Epoch 1/100\n",
      "1/1 [==============================] - 1s 917ms/step - loss: 13.6017 - mae: 13.6017\n",
      "Epoch 2/100\n",
      "1/1 [==============================] - 0s 7ms/step - loss: 13.1099 - mae: 13.1099\n",
      "Epoch 3/100\n",
      "1/1 [==============================] - 0s 7ms/step - loss: 12.6208 - mae: 12.6208\n",
      "Epoch 4/100\n",
      "1/1 [==============================] - 0s 8ms/step - loss: 12.1386 - mae: 12.1386\n",
      "Epoch 5/100\n",
      "1/1 [==============================] - 0s 8ms/step - loss: 11.6554 - mae: 11.6554\n",
      "Epoch 6/100\n",
      "1/1 [==============================] - 0s 8ms/step - loss: 11.1748 - mae: 11.1748\n",
      "Epoch 7/100\n",
      "1/1 [==============================] - 0s 7ms/step - loss: 10.6836 - mae: 10.6836\n",
      "Epoch 8/100\n",
      "1/1 [==============================] - 0s 7ms/step - loss: 10.1720 - mae: 10.1720\n",
      "Epoch 9/100\n",
      "1/1 [==============================] - 0s 8ms/step - loss: 9.6486 - mae: 9.6486\n",
      "Epoch 10/100\n",
      "1/1 [==============================] - 0s 8ms/step - loss: 9.0978 - mae: 9.0978\n",
      "Epoch 11/100\n",
      "1/1 [==============================] - 0s 8ms/step - loss: 8.5137 - mae: 8.5137\n",
      "Epoch 12/100\n",
      "1/1 [==============================] - 0s 8ms/step - loss: 7.9008 - mae: 7.9008\n",
      "Epoch 13/100\n",
      "1/1 [==============================] - 0s 7ms/step - loss: 7.2419 - mae: 7.2419\n",
      "Epoch 14/100\n",
      "1/1 [==============================] - 0s 8ms/step - loss: 6.5680 - mae: 6.5680\n",
      "Epoch 15/100\n",
      "1/1 [==============================] - 0s 8ms/step - loss: 5.8492 - mae: 5.8492\n",
      "Epoch 16/100\n",
      "1/1 [==============================] - 0s 7ms/step - loss: 5.0640 - mae: 5.0640\n",
      "Epoch 17/100\n",
      "1/1 [==============================] - 0s 7ms/step - loss: 4.2048 - mae: 4.2048\n",
      "Epoch 18/100\n",
      "1/1 [==============================] - 0s 7ms/step - loss: 3.9003 - mae: 3.9003\n",
      "Epoch 19/100\n",
      "1/1 [==============================] - 0s 7ms/step - loss: 3.9520 - mae: 3.9520\n",
      "Epoch 20/100\n",
      "1/1 [==============================] - 0s 8ms/step - loss: 3.8938 - mae: 3.8938\n",
      "Epoch 21/100\n",
      "1/1 [==============================] - 0s 8ms/step - loss: 3.9536 - mae: 3.9536\n",
      "Epoch 22/100\n",
      "1/1 [==============================] - 0s 7ms/step - loss: 3.9014 - mae: 3.9014\n",
      "Epoch 23/100\n",
      "1/1 [==============================] - 0s 7ms/step - loss: 3.9287 - mae: 3.9287\n",
      "Epoch 24/100\n",
      "1/1 [==============================] - 0s 8ms/step - loss: 3.9078 - mae: 3.9078\n",
      "Epoch 25/100\n",
      "1/1 [==============================] - 0s 8ms/step - loss: 3.9037 - mae: 3.9037\n",
      "Epoch 26/100\n",
      "1/1 [==============================] - 0s 7ms/step - loss: 3.9142 - mae: 3.9142\n",
      "Epoch 27/100\n",
      "1/1 [==============================] - 0s 7ms/step - loss: 3.8784 - mae: 3.8784\n",
      "Epoch 28/100\n",
      "1/1 [==============================] - 0s 8ms/step - loss: 3.9258 - mae: 3.9258\n",
      "Epoch 29/100\n",
      "1/1 [==============================] - 0s 8ms/step - loss: 3.8646 - mae: 3.8646\n",
      "Epoch 30/100\n",
      "1/1 [==============================] - 0s 7ms/step - loss: 3.9312 - mae: 3.9312\n",
      "Epoch 31/100\n",
      "1/1 [==============================] - 0s 8ms/step - loss: 3.8710 - mae: 3.8710\n",
      "Epoch 32/100\n",
      "1/1 [==============================] - 0s 8ms/step - loss: 3.9060 - mae: 3.9060\n",
      "Epoch 33/100\n",
      "1/1 [==============================] - 0s 8ms/step - loss: 3.8776 - mae: 3.8776\n",
      "Epoch 34/100\n",
      "1/1 [==============================] - 0s 7ms/step - loss: 3.8807 - mae: 3.8807\n",
      "Epoch 35/100\n",
      "1/1 [==============================] - 0s 8ms/step - loss: 3.8842 - mae: 3.8842\n",
      "Epoch 36/100\n",
      "1/1 [==============================] - 0s 7ms/step - loss: 3.8588 - mae: 3.8588\n",
      "Epoch 37/100\n",
      "1/1 [==============================] - 0s 8ms/step - loss: 3.8994 - mae: 3.8994\n",
      "Epoch 38/100\n",
      "1/1 [==============================] - 0s 7ms/step - loss: 3.8372 - mae: 3.8372\n",
      "Epoch 39/100\n",
      "1/1 [==============================] - 0s 8ms/step - loss: 3.9063 - mae: 3.9063\n",
      "Epoch 40/100\n",
      "1/1 [==============================] - 0s 7ms/step - loss: 3.8417 - mae: 3.8417\n",
      "Epoch 41/100\n",
      "1/1 [==============================] - 0s 7ms/step - loss: 3.8819 - mae: 3.8819\n",
      "Epoch 42/100\n",
      "1/1 [==============================] - 0s 8ms/step - loss: 3.8485 - mae: 3.8485\n",
      "Epoch 43/100\n",
      "1/1 [==============================] - 0s 7ms/step - loss: 3.8563 - mae: 3.8563\n",
      "Epoch 44/100\n",
      "1/1 [==============================] - 0s 7ms/step - loss: 3.8571 - mae: 3.8571\n",
      "Epoch 45/100\n",
      "1/1 [==============================] - 0s 7ms/step - loss: 3.8382 - mae: 3.8382\n",
      "Epoch 46/100\n",
      "1/1 [==============================] - 0s 8ms/step - loss: 3.8707 - mae: 3.8707\n",
      "Epoch 47/100\n",
      "1/1 [==============================] - 0s 8ms/step - loss: 3.8123 - mae: 3.8123\n",
      "Epoch 48/100\n",
      "1/1 [==============================] - 0s 8ms/step - loss: 3.8778 - mae: 3.8778\n",
      "Epoch 49/100\n",
      "1/1 [==============================] - 0s 9ms/step - loss: 3.8136 - mae: 3.8136\n",
      "Epoch 50/100\n",
      "1/1 [==============================] - 0s 7ms/step - loss: 3.8565 - mae: 3.8565\n",
      "Epoch 51/100\n",
      "1/1 [==============================] - 0s 7ms/step - loss: 3.8206 - mae: 3.8206\n",
      "Epoch 52/100\n",
      "1/1 [==============================] - 0s 8ms/step - loss: 3.8308 - mae: 3.8308\n",
      "Epoch 53/100\n",
      "1/1 [==============================] - 0s 8ms/step - loss: 3.8361 - mae: 3.8361\n",
      "Epoch 54/100\n",
      "1/1 [==============================] - 0s 7ms/step - loss: 3.8122 - mae: 3.8122\n",
      "Epoch 55/100\n",
      "1/1 [==============================] - 0s 8ms/step - loss: 3.8432 - mae: 3.8432\n",
      "Epoch 56/100\n",
      "1/1 [==============================] - 0s 8ms/step - loss: 3.7860 - mae: 3.7860\n",
      "Epoch 57/100\n",
      "1/1 [==============================] - 0s 7ms/step - loss: 3.8505 - mae: 3.8505\n",
      "Epoch 58/100\n",
      "1/1 [==============================] - 0s 7ms/step - loss: 3.7866 - mae: 3.7866\n",
      "Epoch 59/100\n",
      "1/1 [==============================] - 0s 7ms/step - loss: 3.8298 - mae: 3.8298\n",
      "Epoch 60/100\n",
      "1/1 [==============================] - 0s 7ms/step - loss: 3.7938 - mae: 3.7938\n",
      "Epoch 61/100\n",
      "1/1 [==============================] - 0s 8ms/step - loss: 3.8098 - mae: 3.8098\n",
      "Epoch 62/100\n",
      "1/1 [==============================] - 0s 7ms/step - loss: 3.8094 - mae: 3.8094\n",
      "Epoch 63/100\n",
      "1/1 [==============================] - 0s 8ms/step - loss: 3.7849 - mae: 3.7849\n",
      "Epoch 64/100\n",
      "1/1 [==============================] - 0s 7ms/step - loss: 3.8168 - mae: 3.8168\n",
      "Epoch 65/100\n",
      "1/1 [==============================] - 0s 7ms/step - loss: 3.7584 - mae: 3.7584\n",
      "Epoch 66/100\n",
      "1/1 [==============================] - 0s 7ms/step - loss: 3.8243 - mae: 3.8243\n",
      "Epoch 67/100\n",
      "1/1 [==============================] - 0s 7ms/step - loss: 3.7607 - mae: 3.7607\n",
      "Epoch 68/100\n",
      "1/1 [==============================] - 0s 8ms/step - loss: 3.8019 - mae: 3.8019\n",
      "Epoch 69/100\n",
      "1/1 [==============================] - 0s 8ms/step - loss: 3.7719 - mae: 3.7719\n",
      "Epoch 70/100\n",
      "1/1 [==============================] - 0s 7ms/step - loss: 3.7830 - mae: 3.7830\n",
      "Epoch 71/100\n",
      "1/1 [==============================] - 0s 7ms/step - loss: 3.7839 - mae: 3.7839\n",
      "Epoch 72/100\n",
      "1/1 [==============================] - 0s 7ms/step - loss: 3.7563 - mae: 3.7563\n",
      "Epoch 73/100\n",
      "1/1 [==============================] - 0s 7ms/step - loss: 3.7914 - mae: 3.7914\n",
      "Epoch 74/100\n",
      "1/1 [==============================] - 0s 7ms/step - loss: 3.7295 - mae: 3.7295\n",
      "Epoch 75/100\n",
      "1/1 [==============================] - 0s 8ms/step - loss: 3.7991 - mae: 3.7991\n",
      "Epoch 76/100\n",
      "1/1 [==============================] - 0s 7ms/step - loss: 3.7358 - mae: 3.7358\n",
      "Epoch 77/100\n",
      "1/1 [==============================] - 0s 7ms/step - loss: 3.7746 - mae: 3.7746\n",
      "Epoch 78/100\n",
      "1/1 [==============================] - 0s 8ms/step - loss: 3.7517 - mae: 3.7517\n",
      "Epoch 79/100\n",
      "1/1 [==============================] - 0s 7ms/step - loss: 3.7534 - mae: 3.7534\n",
      "Epoch 80/100\n",
      "1/1 [==============================] - 0s 8ms/step - loss: 3.7593 - mae: 3.7593\n",
      "Epoch 81/100\n",
      "1/1 [==============================] - 0s 7ms/step - loss: 3.7264 - mae: 3.7264\n",
      "Epoch 82/100\n",
      "1/1 [==============================] - 0s 8ms/step - loss: 3.7671 - mae: 3.7671\n",
      "Epoch 83/100\n",
      "1/1 [==============================] - 0s 7ms/step - loss: 3.7043 - mae: 3.7043\n",
      "Epoch 84/100\n",
      "1/1 [==============================] - 0s 7ms/step - loss: 3.7689 - mae: 3.7689\n",
      "Epoch 85/100\n",
      "1/1 [==============================] - 0s 7ms/step - loss: 3.7120 - mae: 3.7120\n",
      "Epoch 86/100\n",
      "1/1 [==============================] - 0s 8ms/step - loss: 3.7496 - mae: 3.7496\n",
      "Epoch 87/100\n",
      "1/1 [==============================] - 0s 7ms/step - loss: 3.7280 - mae: 3.7280\n",
      "Epoch 88/100\n",
      "1/1 [==============================] - 0s 8ms/step - loss: 3.7224 - mae: 3.7224\n",
      "Epoch 89/100\n",
      "1/1 [==============================] - 0s 7ms/step - loss: 3.7359 - mae: 3.7359\n",
      "Epoch 90/100\n",
      "1/1 [==============================] - 0s 7ms/step - loss: 3.6951 - mae: 3.6951\n",
      "Epoch 91/100\n",
      "1/1 [==============================] - 0s 8ms/step - loss: 3.7439 - mae: 3.7439\n",
      "Epoch 92/100\n",
      "1/1 [==============================] - 0s 8ms/step - loss: 3.6813 - mae: 3.6813\n",
      "Epoch 93/100\n",
      "1/1 [==============================] - 0s 8ms/step - loss: 3.7373 - mae: 3.7373\n",
      "Epoch 94/100\n",
      "1/1 [==============================] - 0s 8ms/step - loss: 3.6941 - mae: 3.6941\n",
      "Epoch 95/100\n",
      "1/1 [==============================] - 0s 7ms/step - loss: 3.7176 - mae: 3.7176\n",
      "Epoch 96/100\n",
      "1/1 [==============================] - 0s 8ms/step - loss: 3.7054 - mae: 3.7054\n",
      "Epoch 97/100\n",
      "1/1 [==============================] - 0s 7ms/step - loss: 3.6901 - mae: 3.6901\n",
      "Epoch 98/100\n",
      "1/1 [==============================] - 0s 7ms/step - loss: 3.7134 - mae: 3.7134\n",
      "Epoch 99/100\n",
      "1/1 [==============================] - 0s 8ms/step - loss: 3.6624 - mae: 3.6624\n",
      "Epoch 100/100\n",
      "1/1 [==============================] - 0s 8ms/step - loss: 3.7216 - mae: 3.7216\n"
     ]
    },
    {
     "data": {
      "text/plain": "<keras.callbacks.History at 0x2cf594760>"
     },
     "execution_count": 14,
     "metadata": {},
     "output_type": "execute_result"
    }
   ]
  },
  {
   "cell_type": "code",
   "source": [
    "model.predict([17.0])"
   ],
   "metadata": {
    "colab": {
     "base_uri": "https://localhost:8080/"
    },
    "id": "uhcDvBqBA3AZ",
    "outputId": "739013b8-b3b5-4302-d191-d84e6a2e892e",
    "ExecuteTime": {
     "end_time": "2023-08-31T11:28:50.858872Z",
     "start_time": "2023-08-31T11:28:50.463700Z"
    }
   },
   "execution_count": 15,
   "outputs": [
    {
     "name": "stdout",
     "output_type": "stream",
     "text": [
      "1/1 [==============================] - 0s 148ms/step\n"
     ]
    },
    {
     "data": {
      "text/plain": "array([[32.055614]], dtype=float32)"
     },
     "execution_count": 15,
     "metadata": {},
     "output_type": "execute_result"
    }
   ]
  },
  {
   "cell_type": "code",
   "source": [
    "# Remind ourselfves of the data\n",
    "X, y"
   ],
   "metadata": {
    "colab": {
     "base_uri": "https://localhost:8080/"
    },
    "id": "UAgO1yOTCHTR",
    "outputId": "2be94cf6-0552-4f33-d771-53bd9a08fc20",
    "ExecuteTime": {
     "end_time": "2023-08-31T11:28:50.859077Z",
     "start_time": "2023-08-31T11:28:50.639184Z"
    }
   },
   "execution_count": 16,
   "outputs": [
    {
     "data": {
      "text/plain": "(<tf.Tensor: shape=(8,), dtype=float32, numpy=array([-7., -4., -1.,  2.,  5.,  8., 11., 14.], dtype=float32)>,\n <tf.Tensor: shape=(8,), dtype=float32, numpy=array([ 3.,  6.,  9., 12., 15., 18., 21., 24.], dtype=float32)>)"
     },
     "execution_count": 16,
     "metadata": {},
     "output_type": "execute_result"
    }
   ]
  },
  {
   "cell_type": "code",
   "source": [
    "# Let's see if our model's prediction has improved\n",
    "model.predict([-4.0])"
   ],
   "metadata": {
    "colab": {
     "base_uri": "https://localhost:8080/"
    },
    "id": "0UlBuhnAA64E",
    "outputId": "5b85bf49-0d49-4d73-b11f-62f5a2f240d4",
    "ExecuteTime": {
     "end_time": "2023-08-31T11:28:50.884766Z",
     "start_time": "2023-08-31T11:28:50.643791Z"
    }
   },
   "execution_count": 17,
   "outputs": [
    {
     "name": "stdout",
     "output_type": "stream",
     "text": [
      "1/1 [==============================] - 0s 16ms/step\n"
     ]
    },
    {
     "data": {
      "text/plain": "array([[2.0068521]], dtype=float32)"
     },
     "execution_count": 17,
     "metadata": {},
     "output_type": "execute_result"
    }
   ]
  },
  {
   "cell_type": "code",
   "source": [
    " # Let's see if we can improve more\n",
    "#1. Create the model this time with an additional layer.\n",
    "model = tf.keras.Sequential([\n",
    "    tf.keras.layers.Dense(50, activation=None),\n",
    "    tf.keras.layers.Dense(1),\n",
    "])\n",
    "# 2. Compile the model\n",
    "model.compile(loss=tf.keras.losses.mae,\n",
    "              optimizer=tf.keras.optimizers.Adam(lr=0.01),\n",
    "              metrics=[\"mae\"])\n",
    "# 3. Fit the model (this time we'll train longer)\n",
    "model.fit(tf.expand_dims(X, -1), y, epochs=100)"
   ],
   "metadata": {
    "colab": {
     "base_uri": "https://localhost:8080/"
    },
    "id": "uwLbn_emCJib",
    "outputId": "8c1e4d5b-7dbc-4cdc-aeb7-edd5a7bfd383",
    "ExecuteTime": {
     "end_time": "2023-08-31T11:28:52.526942Z",
     "start_time": "2023-08-31T11:28:50.686063Z"
    }
   },
   "execution_count": 18,
   "outputs": [
    {
     "name": "stderr",
     "output_type": "stream",
     "text": [
      "WARNING:absl:At this time, the v2.11+ optimizer `tf.keras.optimizers.Adam` runs slowly on M1/M2 Macs, please use the legacy Keras optimizer instead, located at `tf.keras.optimizers.legacy.Adam`.\n",
      "WARNING:absl:`lr` is deprecated in Keras optimizer, please use `learning_rate` or use the legacy optimizer, e.g.,tf.keras.optimizers.legacy.Adam.\n",
      "WARNING:absl:There is a known slowdown when using v2.11+ Keras optimizers on M1/M2 Macs. Falling back to the legacy Keras optimizer, i.e., `tf.keras.optimizers.legacy.Adam`.\n"
     ]
    },
    {
     "name": "stdout",
     "output_type": "stream",
     "text": [
      "Epoch 1/100\n",
      "1/1 [==============================] - 1s 679ms/step - loss: 11.3272 - mae: 11.3272\n",
      "Epoch 2/100\n",
      "1/1 [==============================] - 0s 8ms/step - loss: 11.2584 - mae: 11.2584\n",
      "Epoch 3/100\n",
      "1/1 [==============================] - 0s 8ms/step - loss: 11.1896 - mae: 11.1896\n",
      "Epoch 4/100\n",
      "1/1 [==============================] - 0s 9ms/step - loss: 11.1206 - mae: 11.1206\n",
      "Epoch 5/100\n",
      "1/1 [==============================] - 0s 8ms/step - loss: 11.0516 - mae: 11.0516\n",
      "Epoch 6/100\n",
      "1/1 [==============================] - 0s 8ms/step - loss: 10.9824 - mae: 10.9824\n",
      "Epoch 7/100\n",
      "1/1 [==============================] - 0s 8ms/step - loss: 10.9130 - mae: 10.9130\n",
      "Epoch 8/100\n",
      "1/1 [==============================] - 0s 8ms/step - loss: 10.8436 - mae: 10.8436\n",
      "Epoch 9/100\n",
      "1/1 [==============================] - 0s 7ms/step - loss: 10.7739 - mae: 10.7739\n",
      "Epoch 10/100\n",
      "1/1 [==============================] - 0s 7ms/step - loss: 10.7041 - mae: 10.7041\n",
      "Epoch 11/100\n",
      "1/1 [==============================] - 0s 8ms/step - loss: 10.6341 - mae: 10.6341\n",
      "Epoch 12/100\n",
      "1/1 [==============================] - 0s 8ms/step - loss: 10.5639 - mae: 10.5639\n",
      "Epoch 13/100\n",
      "1/1 [==============================] - 0s 7ms/step - loss: 10.4935 - mae: 10.4935\n",
      "Epoch 14/100\n",
      "1/1 [==============================] - 0s 8ms/step - loss: 10.4230 - mae: 10.4230\n",
      "Epoch 15/100\n",
      "1/1 [==============================] - 0s 8ms/step - loss: 10.3522 - mae: 10.3522\n",
      "Epoch 16/100\n",
      "1/1 [==============================] - 0s 7ms/step - loss: 10.2812 - mae: 10.2812\n",
      "Epoch 17/100\n",
      "1/1 [==============================] - 0s 8ms/step - loss: 10.2099 - mae: 10.2099\n",
      "Epoch 18/100\n",
      "1/1 [==============================] - 0s 8ms/step - loss: 10.1385 - mae: 10.1385\n",
      "Epoch 19/100\n",
      "1/1 [==============================] - 0s 8ms/step - loss: 10.0668 - mae: 10.0668\n",
      "Epoch 20/100\n",
      "1/1 [==============================] - 0s 7ms/step - loss: 9.9948 - mae: 9.9948\n",
      "Epoch 21/100\n",
      "1/1 [==============================] - 0s 9ms/step - loss: 9.9226 - mae: 9.9226\n",
      "Epoch 22/100\n",
      "1/1 [==============================] - 0s 7ms/step - loss: 9.8502 - mae: 9.8502\n",
      "Epoch 23/100\n",
      "1/1 [==============================] - 0s 8ms/step - loss: 9.7774 - mae: 9.7774\n",
      "Epoch 24/100\n",
      "1/1 [==============================] - 0s 8ms/step - loss: 9.7044 - mae: 9.7044\n",
      "Epoch 25/100\n",
      "1/1 [==============================] - 0s 10ms/step - loss: 9.6311 - mae: 9.6311\n",
      "Epoch 26/100\n",
      "1/1 [==============================] - 0s 8ms/step - loss: 9.5575 - mae: 9.5575\n",
      "Epoch 27/100\n",
      "1/1 [==============================] - 0s 8ms/step - loss: 9.4837 - mae: 9.4837\n",
      "Epoch 28/100\n",
      "1/1 [==============================] - 0s 7ms/step - loss: 9.4095 - mae: 9.4095\n",
      "Epoch 29/100\n",
      "1/1 [==============================] - 0s 8ms/step - loss: 9.3350 - mae: 9.3350\n",
      "Epoch 30/100\n",
      "1/1 [==============================] - 0s 9ms/step - loss: 9.2601 - mae: 9.2601\n",
      "Epoch 31/100\n",
      "1/1 [==============================] - 0s 8ms/step - loss: 9.1850 - mae: 9.1850\n",
      "Epoch 32/100\n",
      "1/1 [==============================] - 0s 8ms/step - loss: 9.1095 - mae: 9.1095\n",
      "Epoch 33/100\n",
      "1/1 [==============================] - 0s 8ms/step - loss: 9.0336 - mae: 9.0336\n",
      "Epoch 34/100\n",
      "1/1 [==============================] - 0s 8ms/step - loss: 8.9574 - mae: 8.9574\n",
      "Epoch 35/100\n",
      "1/1 [==============================] - 0s 9ms/step - loss: 8.8808 - mae: 8.8808\n",
      "Epoch 36/100\n",
      "1/1 [==============================] - 0s 7ms/step - loss: 8.8039 - mae: 8.8039\n",
      "Epoch 37/100\n",
      "1/1 [==============================] - 0s 7ms/step - loss: 8.7266 - mae: 8.7266\n",
      "Epoch 38/100\n",
      "1/1 [==============================] - 0s 7ms/step - loss: 8.6489 - mae: 8.6489\n",
      "Epoch 39/100\n",
      "1/1 [==============================] - 0s 7ms/step - loss: 8.5708 - mae: 8.5708\n",
      "Epoch 40/100\n",
      "1/1 [==============================] - 0s 7ms/step - loss: 8.4923 - mae: 8.4923\n",
      "Epoch 41/100\n",
      "1/1 [==============================] - 0s 7ms/step - loss: 8.4134 - mae: 8.4134\n",
      "Epoch 42/100\n",
      "1/1 [==============================] - 0s 8ms/step - loss: 8.3342 - mae: 8.3342\n",
      "Epoch 43/100\n",
      "1/1 [==============================] - 0s 7ms/step - loss: 8.2545 - mae: 8.2545\n",
      "Epoch 44/100\n",
      "1/1 [==============================] - 0s 8ms/step - loss: 8.1744 - mae: 8.1744\n",
      "Epoch 45/100\n",
      "1/1 [==============================] - 0s 8ms/step - loss: 8.0938 - mae: 8.0938\n",
      "Epoch 46/100\n",
      "1/1 [==============================] - 0s 7ms/step - loss: 8.0128 - mae: 8.0128\n",
      "Epoch 47/100\n",
      "1/1 [==============================] - 0s 8ms/step - loss: 7.9314 - mae: 7.9314\n",
      "Epoch 48/100\n",
      "1/1 [==============================] - 0s 7ms/step - loss: 7.8496 - mae: 7.8496\n",
      "Epoch 49/100\n",
      "1/1 [==============================] - 0s 7ms/step - loss: 7.7673 - mae: 7.7673\n",
      "Epoch 50/100\n",
      "1/1 [==============================] - 0s 7ms/step - loss: 7.6846 - mae: 7.6846\n",
      "Epoch 51/100\n",
      "1/1 [==============================] - 0s 9ms/step - loss: 7.6014 - mae: 7.6014\n",
      "Epoch 52/100\n",
      "1/1 [==============================] - 0s 8ms/step - loss: 7.5177 - mae: 7.5177\n",
      "Epoch 53/100\n",
      "1/1 [==============================] - 0s 8ms/step - loss: 7.4335 - mae: 7.4335\n",
      "Epoch 54/100\n",
      "1/1 [==============================] - 0s 8ms/step - loss: 7.3489 - mae: 7.3489\n",
      "Epoch 55/100\n",
      "1/1 [==============================] - 0s 8ms/step - loss: 7.2638 - mae: 7.2638\n",
      "Epoch 56/100\n",
      "1/1 [==============================] - 0s 8ms/step - loss: 7.1782 - mae: 7.1782\n",
      "Epoch 57/100\n",
      "1/1 [==============================] - 0s 7ms/step - loss: 7.0922 - mae: 7.0922\n",
      "Epoch 58/100\n",
      "1/1 [==============================] - 0s 8ms/step - loss: 7.0321 - mae: 7.0321\n",
      "Epoch 59/100\n",
      "1/1 [==============================] - 0s 8ms/step - loss: 7.0224 - mae: 7.0224\n",
      "Epoch 60/100\n",
      "1/1 [==============================] - 0s 8ms/step - loss: 7.0128 - mae: 7.0128\n",
      "Epoch 61/100\n",
      "1/1 [==============================] - 0s 8ms/step - loss: 7.0035 - mae: 7.0035\n",
      "Epoch 62/100\n",
      "1/1 [==============================] - 0s 8ms/step - loss: 6.9943 - mae: 6.9943\n",
      "Epoch 63/100\n",
      "1/1 [==============================] - 0s 7ms/step - loss: 6.9852 - mae: 6.9852\n",
      "Epoch 64/100\n",
      "1/1 [==============================] - 0s 9ms/step - loss: 6.9763 - mae: 6.9763\n",
      "Epoch 65/100\n",
      "1/1 [==============================] - 0s 8ms/step - loss: 6.9674 - mae: 6.9674\n",
      "Epoch 66/100\n",
      "1/1 [==============================] - 0s 7ms/step - loss: 6.9587 - mae: 6.9587\n",
      "Epoch 67/100\n",
      "1/1 [==============================] - 0s 8ms/step - loss: 6.9501 - mae: 6.9501\n",
      "Epoch 68/100\n",
      "1/1 [==============================] - 0s 8ms/step - loss: 6.9415 - mae: 6.9415\n",
      "Epoch 69/100\n",
      "1/1 [==============================] - 0s 8ms/step - loss: 6.9330 - mae: 6.9330\n",
      "Epoch 70/100\n",
      "1/1 [==============================] - 0s 7ms/step - loss: 6.9246 - mae: 6.9246\n",
      "Epoch 71/100\n",
      "1/1 [==============================] - 0s 8ms/step - loss: 6.9162 - mae: 6.9162\n",
      "Epoch 72/100\n",
      "1/1 [==============================] - 0s 9ms/step - loss: 6.9078 - mae: 6.9078\n",
      "Epoch 73/100\n",
      "1/1 [==============================] - 0s 8ms/step - loss: 6.9137 - mae: 6.9137\n",
      "Epoch 74/100\n",
      "1/1 [==============================] - 0s 7ms/step - loss: 6.9166 - mae: 6.9166\n",
      "Epoch 75/100\n",
      "1/1 [==============================] - 0s 7ms/step - loss: 6.9135 - mae: 6.9135\n",
      "Epoch 76/100\n",
      "1/1 [==============================] - 0s 7ms/step - loss: 6.9050 - mae: 6.9050\n",
      "Epoch 77/100\n",
      "1/1 [==============================] - 0s 8ms/step - loss: 6.8917 - mae: 6.8917\n",
      "Epoch 78/100\n",
      "1/1 [==============================] - 0s 7ms/step - loss: 6.8741 - mae: 6.8741\n",
      "Epoch 79/100\n",
      "1/1 [==============================] - 0s 8ms/step - loss: 6.8578 - mae: 6.8578\n",
      "Epoch 80/100\n",
      "1/1 [==============================] - 0s 8ms/step - loss: 6.8515 - mae: 6.8515\n",
      "Epoch 81/100\n",
      "1/1 [==============================] - 0s 14ms/step - loss: 6.8450 - mae: 6.8450\n",
      "Epoch 82/100\n",
      "1/1 [==============================] - 0s 8ms/step - loss: 6.8384 - mae: 6.8384\n",
      "Epoch 83/100\n",
      "1/1 [==============================] - 0s 7ms/step - loss: 6.8316 - mae: 6.8316\n",
      "Epoch 84/100\n",
      "1/1 [==============================] - 0s 8ms/step - loss: 6.8247 - mae: 6.8247\n",
      "Epoch 85/100\n",
      "1/1 [==============================] - 0s 8ms/step - loss: 6.8177 - mae: 6.8177\n",
      "Epoch 86/100\n",
      "1/1 [==============================] - 0s 7ms/step - loss: 6.8106 - mae: 6.8106\n",
      "Epoch 87/100\n",
      "1/1 [==============================] - 0s 7ms/step - loss: 6.8033 - mae: 6.8033\n",
      "Epoch 88/100\n",
      "1/1 [==============================] - 0s 8ms/step - loss: 6.7960 - mae: 6.7960\n",
      "Epoch 89/100\n",
      "1/1 [==============================] - 0s 8ms/step - loss: 6.7886 - mae: 6.7886\n",
      "Epoch 90/100\n",
      "1/1 [==============================] - 0s 8ms/step - loss: 6.7812 - mae: 6.7812\n",
      "Epoch 91/100\n",
      "1/1 [==============================] - 0s 8ms/step - loss: 6.7736 - mae: 6.7736\n",
      "Epoch 92/100\n",
      "1/1 [==============================] - 0s 7ms/step - loss: 6.7660 - mae: 6.7660\n",
      "Epoch 93/100\n",
      "1/1 [==============================] - 0s 8ms/step - loss: 6.7583 - mae: 6.7583\n",
      "Epoch 94/100\n",
      "1/1 [==============================] - 0s 7ms/step - loss: 6.7505 - mae: 6.7505\n",
      "Epoch 95/100\n",
      "1/1 [==============================] - 0s 8ms/step - loss: 6.7427 - mae: 6.7427\n",
      "Epoch 96/100\n",
      "1/1 [==============================] - 0s 8ms/step - loss: 6.7348 - mae: 6.7348\n",
      "Epoch 97/100\n",
      "1/1 [==============================] - 0s 8ms/step - loss: 6.7268 - mae: 6.7268\n",
      "Epoch 98/100\n",
      "1/1 [==============================] - 0s 8ms/step - loss: 6.7188 - mae: 6.7188\n",
      "Epoch 99/100\n",
      "1/1 [==============================] - 0s 7ms/step - loss: 6.7107 - mae: 6.7107\n",
      "Epoch 100/100\n",
      "1/1 [==============================] - 0s 8ms/step - loss: 6.7026 - mae: 6.7026\n"
     ]
    },
    {
     "data": {
      "text/plain": "<keras.callbacks.History at 0x2d15c5ba0>"
     },
     "execution_count": 18,
     "metadata": {},
     "output_type": "execute_result"
    }
   ]
  },
  {
   "cell_type": "code",
   "source": [
    "model.predict([17.0])"
   ],
   "metadata": {
    "colab": {
     "base_uri": "https://localhost:8080/"
    },
    "id": "nGawIOdNElYW",
    "outputId": "e4ff48fc-499b-44c8-f62e-1061f3cbf490",
    "ExecuteTime": {
     "end_time": "2023-08-31T11:28:52.645941Z",
     "start_time": "2023-08-31T11:28:52.365161Z"
    }
   },
   "execution_count": 19,
   "outputs": [
    {
     "name": "stdout",
     "output_type": "stream",
     "text": [
      "1/1 [==============================] - 0s 46ms/step\n"
     ]
    },
    {
     "data": {
      "text/plain": "array([[31.447367]], dtype=float32)"
     },
     "execution_count": 19,
     "metadata": {},
     "output_type": "execute_result"
    }
   ]
  },
  {
   "cell_type": "markdown",
   "source": [
    "### Evaluate the model"
   ],
   "metadata": {
    "id": "ETqHqN-cE0nE"
   }
  },
  {
   "cell_type": "markdown",
   "source": [
    "When it comes to evaluation... there are 3 words you should memorize:\n",
    "\n",
    "\"Visualize, visualize, visualize\"\n",
    "\n",
    "It's a good idea to visualize:\n",
    "\n",
    "* The data - what data are we working with? What does it look like?\n",
    "* The model itself - what does our model look like?\n",
    "* The training of a model - how does a model perform while it learns?\n",
    "* The predictions of the model - how do the predictions of a model line up against the ground truth (the original labels)"
   ],
   "metadata": {
    "id": "aTh1y8P5GF7e"
   }
  },
  {
   "cell_type": "code",
   "source": [
    "# Make a bigger dataset\n",
    "X = tf.range(-100, 100, 4)\n",
    "X\n",
    "\n"
   ],
   "metadata": {
    "colab": {
     "base_uri": "https://localhost:8080/"
    },
    "id": "lCL2ADmLG58r",
    "outputId": "18a17a24-92cf-425d-d424-5058166710b5",
    "ExecuteTime": {
     "end_time": "2023-08-31T11:28:52.646160Z",
     "start_time": "2023-08-31T11:28:52.434892Z"
    }
   },
   "execution_count": 20,
   "outputs": [
    {
     "data": {
      "text/plain": "<tf.Tensor: shape=(50,), dtype=int32, numpy=\narray([-100,  -96,  -92,  -88,  -84,  -80,  -76,  -72,  -68,  -64,  -60,\n        -56,  -52,  -48,  -44,  -40,  -36,  -32,  -28,  -24,  -20,  -16,\n        -12,   -8,   -4,    0,    4,    8,   12,   16,   20,   24,   28,\n         32,   36,   40,   44,   48,   52,   56,   60,   64,   68,   72,\n         76,   80,   84,   88,   92,   96], dtype=int32)>"
     },
     "execution_count": 20,
     "metadata": {},
     "output_type": "execute_result"
    }
   ]
  },
  {
   "cell_type": "code",
   "source": [
    "# MAke labels for the dataset\n",
    "y = X + 10\n",
    "y"
   ],
   "metadata": {
    "colab": {
     "base_uri": "https://localhost:8080/"
    },
    "id": "xIi1DGc0Hhzo",
    "outputId": "8cfdb20d-86d8-4400-feb9-4391d16680b7",
    "ExecuteTime": {
     "end_time": "2023-08-31T11:28:52.649009Z",
     "start_time": "2023-08-31T11:28:52.447636Z"
    }
   },
   "execution_count": 21,
   "outputs": [
    {
     "data": {
      "text/plain": "<tf.Tensor: shape=(50,), dtype=int32, numpy=\narray([-90, -86, -82, -78, -74, -70, -66, -62, -58, -54, -50, -46, -42,\n       -38, -34, -30, -26, -22, -18, -14, -10,  -6,  -2,   2,   6,  10,\n        14,  18,  22,  26,  30,  34,  38,  42,  46,  50,  54,  58,  62,\n        66,  70,  74,  78,  82,  86,  90,  94,  98, 102, 106], dtype=int32)>"
     },
     "execution_count": 21,
     "metadata": {},
     "output_type": "execute_result"
    }
   ]
  },
  {
   "cell_type": "code",
   "source": [
    "# Visualize the data\n",
    "import matplotlib.pyplot\n",
    "\n",
    "plt.scatter(X, y)"
   ],
   "metadata": {
    "colab": {
     "base_uri": "https://localhost:8080/",
     "height": 282
    },
    "id": "xpfcxCKFIeB0",
    "outputId": "bef99b96-1866-4501-c765-0ad8f7466f7d",
    "ExecuteTime": {
     "end_time": "2023-08-31T11:28:52.771649Z",
     "start_time": "2023-08-31T11:28:52.453685Z"
    }
   },
   "execution_count": 22,
   "outputs": [
    {
     "data": {
      "text/plain": "<matplotlib.collections.PathCollection at 0x2d15fab60>"
     },
     "execution_count": 22,
     "metadata": {},
     "output_type": "execute_result"
    },
    {
     "data": {
      "text/plain": "<Figure size 640x480 with 1 Axes>",
      "image/png": "[encoded data removed]"
     },
     "metadata": {},
     "output_type": "display_data"
    }
   ]
  },
  {
   "cell_type": "markdown",
   "source": [
    "### The 3 sets...\n",
    "\n",
    "* Training set - the model learns from this data, which is typically 70-80% of the total data you have available.\n",
    "* Validation set - the model gets tuned from this data, which is typically 10-15% of the data available.\n",
    "* Test set - the model gets evaluated on this data to test what is has learned, thsi set is typically 10-15% of the total data available.\n"
   ],
   "metadata": {
    "id": "Mn3UzRUUIlEl"
   }
  },
  {
   "cell_type": "code",
   "source": [
    "# Check the length of how many samples we have\n",
    "len(X)"
   ],
   "metadata": {
    "colab": {
     "base_uri": "https://localhost:8080/"
    },
    "id": "Ol6w4LgSJ7YA",
    "outputId": "c8f87a50-b4ac-4b19-89f8-0d06813f24bb",
    "ExecuteTime": {
     "end_time": "2023-08-31T11:28:52.771854Z",
     "start_time": "2023-08-31T11:28:52.540104Z"
    }
   },
   "execution_count": 23,
   "outputs": [
    {
     "data": {
      "text/plain": "50"
     },
     "execution_count": 23,
     "metadata": {},
     "output_type": "execute_result"
    }
   ]
  },
  {
   "cell_type": "code",
   "source": [
    "# Split the data into train and test sets\n",
    "X_train = X[:40] # first 40 are training samples (80%)\n",
    "y_train = y[:40] \n",
    "\n",
    "X_test = X[40:] # last 10 are testing samples (20%)\n",
    "y_test = y[40:]\n",
    "\n",
    "len(X_train), len(X_test), len(y_train), len(y_test)"
   ],
   "metadata": {
    "colab": {
     "base_uri": "https://localhost:8080/"
    },
    "id": "A0glXB9KKWmA",
    "outputId": "5589f488-e620-4d38-8482-fecb5a5f35bb",
    "ExecuteTime": {
     "end_time": "2023-08-31T11:28:52.771970Z",
     "start_time": "2023-08-31T11:28:52.543590Z"
    }
   },
   "execution_count": 24,
   "outputs": [
    {
     "data": {
      "text/plain": "(40, 10, 40, 10)"
     },
     "execution_count": 24,
     "metadata": {},
     "output_type": "execute_result"
    }
   ]
  },
  {
   "cell_type": "markdown",
   "source": [
    "### Visualising the data\n",
    "\n",
    "Now we've got our data in training and test sets... let's visualize it again!"
   ],
   "metadata": {
    "id": "V9wOapwaLBkd"
   }
  },
  {
   "cell_type": "code",
   "source": [
    "plt.figure(figsize=(10, 7))\n",
    "# Plot training data in blue\n",
    "plt.scatter(X_train, y_train, c=\"b\", label=\"Training data\")\n",
    "plt.scatter(X_test, y_test, c=\"g\", label=\"Test data\")\n",
    "plt.legend();\n"
   ],
   "metadata": {
    "colab": {
     "base_uri": "https://localhost:8080/",
     "height": 428
    },
    "id": "xsfUGDgbLccE",
    "outputId": "b146e7eb-627b-4974-95de-834c782b273e",
    "ExecuteTime": {
     "end_time": "2023-08-31T11:28:52.808841Z",
     "start_time": "2023-08-31T11:28:52.549243Z"
    }
   },
   "execution_count": 25,
   "outputs": [
    {
     "data": {
      "text/plain": "<Figure size 1000x700 with 1 Axes>",
      "image/png": "[encoded data removed]"
     },
     "metadata": {},
     "output_type": "display_data"
    }
   ]
  },
  {
   "cell_type": "code",
   "source": [
    "#Let's have a look at how to build a neural network for this data\n",
    "\n",
    "# 1. Create a model\n",
    "model = tf.keras.Sequential([\n",
    "    tf.keras.layers.Dense(1)\n",
    "])\n",
    "\n",
    "# 2. Compile the model\n",
    "model.compile(loss=tf.keras.losses.mae,\n",
    "              optimizer=tf.keras.optimizers.SGD(),\n",
    "              metrics=\"mae\")\n",
    "\n",
    "# 3. Fit the model\n",
    "model.fit(tf.expand_dims(X_train, -1), y_train, epochs=100)"
   ],
   "metadata": {
    "id": "_bNx2ZDyLs8d",
    "ExecuteTime": {
     "end_time": "2023-08-31T11:30:09.022434Z",
     "start_time": "2023-08-31T11:30:07.170681Z"
    }
   },
   "execution_count": 30,
   "outputs": [
    {
     "name": "stderr",
     "output_type": "stream",
     "text": [
      "WARNING:absl:At this time, the v2.11+ optimizer `tf.keras.optimizers.SGD` runs slowly on M1/M2 Macs, please use the legacy Keras optimizer instead, located at `tf.keras.optimizers.legacy.SGD`.\n",
      "WARNING:absl:There is a known slowdown when using v2.11+ Keras optimizers on M1/M2 Macs. Falling back to the legacy Keras optimizer, i.e., `tf.keras.optimizers.legacy.SGD`.\n"
     ]
    },
    {
     "name": "stdout",
     "output_type": "stream",
     "text": [
      "Epoch 1/100\n",
      "2/2 [==============================] - 0s 26ms/step - loss: 10.2821 - mae: 10.2821\n",
      "Epoch 2/100\n",
      "2/2 [==============================] - 0s 8ms/step - loss: 9.1455 - mae: 9.1455\n",
      "Epoch 3/100\n",
      "2/2 [==============================] - 0s 8ms/step - loss: 7.9873 - mae: 7.9873\n",
      "Epoch 4/100\n",
      "2/2 [==============================] - 0s 7ms/step - loss: 7.9931 - mae: 7.9931\n",
      "Epoch 5/100\n",
      "2/2 [==============================] - 0s 12ms/step - loss: 10.1554 - mae: 10.1554\n",
      "Epoch 6/100\n",
      "2/2 [==============================] - 0s 8ms/step - loss: 9.4184 - mae: 9.4184\n",
      "Epoch 7/100\n",
      "2/2 [==============================] - 0s 7ms/step - loss: 8.5594 - mae: 8.5594\n",
      "Epoch 8/100\n",
      "2/2 [==============================] - 0s 8ms/step - loss: 9.0360 - mae: 9.0360\n",
      "Epoch 9/100\n",
      "2/2 [==============================] - 0s 8ms/step - loss: 18.7382 - mae: 18.7382\n",
      "Epoch 10/100\n",
      "2/2 [==============================] - 0s 7ms/step - loss: 10.1014 - mae: 10.1014\n",
      "Epoch 11/100\n",
      "2/2 [==============================] - 0s 7ms/step - loss: 8.3884 - mae: 8.3884\n",
      "Epoch 12/100\n",
      "2/2 [==============================] - 0s 8ms/step - loss: 10.6521 - mae: 10.6521\n",
      "Epoch 13/100\n",
      "2/2 [==============================] - 0s 7ms/step - loss: 9.7883 - mae: 9.7883\n",
      "Epoch 14/100\n",
      "2/2 [==============================] - 0s 7ms/step - loss: 15.9970 - mae: 15.9970\n",
      "Epoch 15/100\n",
      "2/2 [==============================] - 0s 7ms/step - loss: 11.4078 - mae: 11.4078\n",
      "Epoch 16/100\n",
      "2/2 [==============================] - 0s 6ms/step - loss: 8.5301 - mae: 8.5301\n",
      "Epoch 17/100\n",
      "2/2 [==============================] - 0s 7ms/step - loss: 13.6218 - mae: 13.6218\n",
      "Epoch 18/100\n",
      "2/2 [==============================] - 0s 7ms/step - loss: 11.4487 - mae: 11.4487\n",
      "Epoch 19/100\n",
      "2/2 [==============================] - 0s 8ms/step - loss: 17.9170 - mae: 17.9170\n",
      "Epoch 20/100\n",
      "2/2 [==============================] - 0s 7ms/step - loss: 15.0516 - mae: 15.0516\n",
      "Epoch 21/100\n",
      "2/2 [==============================] - 0s 7ms/step - loss: 11.0214 - mae: 11.0214\n",
      "Epoch 22/100\n",
      "2/2 [==============================] - 0s 6ms/step - loss: 8.1543 - mae: 8.1543\n",
      "Epoch 23/100\n",
      "2/2 [==============================] - 0s 7ms/step - loss: 9.5018 - mae: 9.5018\n",
      "Epoch 24/100\n",
      "2/2 [==============================] - 0s 7ms/step - loss: 7.6550 - mae: 7.6550\n",
      "Epoch 25/100\n",
      "2/2 [==============================] - 0s 6ms/step - loss: 13.1724 - mae: 13.1724\n",
      "Epoch 26/100\n",
      "2/2 [==============================] - 0s 7ms/step - loss: 16.4232 - mae: 16.4232\n",
      "Epoch 27/100\n",
      "2/2 [==============================] - 0s 9ms/step - loss: 13.1663 - mae: 13.1663\n",
      "Epoch 28/100\n",
      "2/2 [==============================] - 0s 10ms/step - loss: 14.2577 - mae: 14.2577\n",
      "Epoch 29/100\n",
      "2/2 [==============================] - 0s 7ms/step - loss: 10.0619 - mae: 10.0619\n",
      "Epoch 30/100\n",
      "2/2 [==============================] - 0s 8ms/step - loss: 16.3481 - mae: 16.3481\n",
      "Epoch 31/100\n",
      "2/2 [==============================] - 0s 8ms/step - loss: 23.6319 - mae: 23.6319\n",
      "Epoch 32/100\n",
      "2/2 [==============================] - 0s 7ms/step - loss: 7.6121 - mae: 7.6121\n",
      "Epoch 33/100\n",
      "2/2 [==============================] - 0s 7ms/step - loss: 9.3123 - mae: 9.3123\n",
      "Epoch 34/100\n",
      "2/2 [==============================] - 0s 6ms/step - loss: 13.7173 - mae: 13.7173\n",
      "Epoch 35/100\n",
      "2/2 [==============================] - 0s 7ms/step - loss: 11.1250 - mae: 11.1250\n",
      "Epoch 36/100\n",
      "2/2 [==============================] - 0s 8ms/step - loss: 13.3258 - mae: 13.3258\n",
      "Epoch 37/100\n",
      "2/2 [==============================] - 0s 7ms/step - loss: 9.4653 - mae: 9.4653\n",
      "Epoch 38/100\n",
      "2/2 [==============================] - 0s 8ms/step - loss: 10.1252 - mae: 10.1252\n",
      "Epoch 39/100\n",
      "2/2 [==============================] - 0s 7ms/step - loss: 10.1767 - mae: 10.1767\n",
      "Epoch 40/100\n",
      "2/2 [==============================] - 0s 7ms/step - loss: 10.9136 - mae: 10.9136\n",
      "Epoch 41/100\n",
      "2/2 [==============================] - 0s 7ms/step - loss: 7.9039 - mae: 7.9039\n",
      "Epoch 42/100\n",
      "2/2 [==============================] - 0s 7ms/step - loss: 10.0794 - mae: 10.0794\n",
      "Epoch 43/100\n",
      "2/2 [==============================] - 0s 7ms/step - loss: 8.6912 - mae: 8.6912\n",
      "Epoch 44/100\n",
      "2/2 [==============================] - 0s 6ms/step - loss: 12.1906 - mae: 12.1906\n",
      "Epoch 45/100\n",
      "2/2 [==============================] - 0s 7ms/step - loss: 13.7988 - mae: 13.7988\n",
      "Epoch 46/100\n",
      "2/2 [==============================] - 0s 6ms/step - loss: 8.4664 - mae: 8.4664\n",
      "Epoch 47/100\n",
      "2/2 [==============================] - 0s 7ms/step - loss: 9.1220 - mae: 9.1220\n",
      "Epoch 48/100\n",
      "2/2 [==============================] - 0s 7ms/step - loss: 10.6058 - mae: 10.6058\n",
      "Epoch 49/100\n",
      "2/2 [==============================] - 0s 6ms/step - loss: 7.7400 - mae: 7.7400\n",
      "Epoch 50/100\n",
      "2/2 [==============================] - 0s 7ms/step - loss: 9.5284 - mae: 9.5284\n",
      "Epoch 51/100\n",
      "2/2 [==============================] - 0s 6ms/step - loss: 9.1499 - mae: 9.1499\n",
      "Epoch 52/100\n",
      "2/2 [==============================] - 0s 7ms/step - loss: 16.3500 - mae: 16.3500\n",
      "Epoch 53/100\n",
      "2/2 [==============================] - 0s 6ms/step - loss: 14.1289 - mae: 14.1289\n",
      "Epoch 54/100\n",
      "2/2 [==============================] - 0s 7ms/step - loss: 21.1325 - mae: 21.1325\n",
      "Epoch 55/100\n",
      "2/2 [==============================] - 0s 6ms/step - loss: 16.3827 - mae: 16.3827\n",
      "Epoch 56/100\n",
      "2/2 [==============================] - 0s 6ms/step - loss: 9.9823 - mae: 9.9823\n",
      "Epoch 57/100\n",
      "2/2 [==============================] - 0s 6ms/step - loss: 9.9485 - mae: 9.9485\n",
      "Epoch 58/100\n",
      "2/2 [==============================] - 0s 6ms/step - loss: 9.2091 - mae: 9.2091\n",
      "Epoch 59/100\n",
      "2/2 [==============================] - 0s 7ms/step - loss: 8.4133 - mae: 8.4133\n",
      "Epoch 60/100\n",
      "2/2 [==============================] - 0s 7ms/step - loss: 9.4762 - mae: 9.4762\n",
      "Epoch 61/100\n",
      "2/2 [==============================] - 0s 6ms/step - loss: 11.4212 - mae: 11.4212\n",
      "Epoch 62/100\n",
      "2/2 [==============================] - 0s 6ms/step - loss: 11.6898 - mae: 11.6898\n",
      "Epoch 63/100\n",
      "2/2 [==============================] - 0s 7ms/step - loss: 7.0735 - mae: 7.0735\n",
      "Epoch 64/100\n",
      "2/2 [==============================] - 0s 7ms/step - loss: 16.9704 - mae: 16.9704\n",
      "Epoch 65/100\n",
      "2/2 [==============================] - 0s 6ms/step - loss: 12.4595 - mae: 12.4595\n",
      "Epoch 66/100\n",
      "2/2 [==============================] - 0s 7ms/step - loss: 13.0201 - mae: 13.0201\n",
      "Epoch 67/100\n",
      "2/2 [==============================] - 0s 6ms/step - loss: 8.0553 - mae: 8.0553\n",
      "Epoch 68/100\n",
      "2/2 [==============================] - 0s 6ms/step - loss: 10.1868 - mae: 10.1868\n",
      "Epoch 69/100\n",
      "2/2 [==============================] - 0s 7ms/step - loss: 12.3654 - mae: 12.3654\n",
      "Epoch 70/100\n",
      "2/2 [==============================] - 0s 7ms/step - loss: 9.0399 - mae: 9.0399\n",
      "Epoch 71/100\n",
      "2/2 [==============================] - 0s 7ms/step - loss: 10.0259 - mae: 10.0259\n",
      "Epoch 72/100\n",
      "2/2 [==============================] - 0s 7ms/step - loss: 10.0408 - mae: 10.0408\n",
      "Epoch 73/100\n",
      "2/2 [==============================] - 0s 8ms/step - loss: 12.6010 - mae: 12.6010\n",
      "Epoch 74/100\n",
      "2/2 [==============================] - 0s 8ms/step - loss: 10.3833 - mae: 10.3833\n",
      "Epoch 75/100\n",
      "2/2 [==============================] - 0s 7ms/step - loss: 9.7118 - mae: 9.7118\n",
      "Epoch 76/100\n",
      "2/2 [==============================] - 0s 7ms/step - loss: 11.2122 - mae: 11.2122\n",
      "Epoch 77/100\n",
      "2/2 [==============================] - 0s 7ms/step - loss: 8.3538 - mae: 8.3538\n",
      "Epoch 78/100\n",
      "2/2 [==============================] - 0s 7ms/step - loss: 9.1132 - mae: 9.1132\n",
      "Epoch 79/100\n",
      "2/2 [==============================] - 0s 6ms/step - loss: 19.5109 - mae: 19.5109\n",
      "Epoch 80/100\n",
      "2/2 [==============================] - 0s 8ms/step - loss: 14.8809 - mae: 14.8809\n",
      "Epoch 81/100\n",
      "2/2 [==============================] - 0s 7ms/step - loss: 9.0060 - mae: 9.0060\n",
      "Epoch 82/100\n",
      "2/2 [==============================] - 0s 7ms/step - loss: 13.0079 - mae: 13.0079\n",
      "Epoch 83/100\n",
      "2/2 [==============================] - 0s 7ms/step - loss: 7.9176 - mae: 7.9176\n",
      "Epoch 84/100\n",
      "2/2 [==============================] - 0s 7ms/step - loss: 7.6823 - mae: 7.6823\n",
      "Epoch 85/100\n",
      "2/2 [==============================] - 0s 7ms/step - loss: 10.0318 - mae: 10.0318\n",
      "Epoch 86/100\n",
      "2/2 [==============================] - 0s 6ms/step - loss: 9.2401 - mae: 9.2401\n",
      "Epoch 87/100\n",
      "2/2 [==============================] - 0s 6ms/step - loss: 12.0219 - mae: 12.0219\n",
      "Epoch 88/100\n",
      "2/2 [==============================] - 0s 6ms/step - loss: 10.6396 - mae: 10.6396\n",
      "Epoch 89/100\n",
      "2/2 [==============================] - 0s 7ms/step - loss: 7.2596 - mae: 7.2596\n",
      "Epoch 90/100\n",
      "2/2 [==============================] - 0s 6ms/step - loss: 12.7803 - mae: 12.7803\n",
      "Epoch 91/100\n",
      "2/2 [==============================] - 0s 6ms/step - loss: 7.4644 - mae: 7.4644\n",
      "Epoch 92/100\n",
      "2/2 [==============================] - 0s 7ms/step - loss: 6.7472 - mae: 6.7472\n",
      "Epoch 93/100\n",
      "2/2 [==============================] - 0s 7ms/step - loss: 11.9308 - mae: 11.9308\n",
      "Epoch 94/100\n",
      "2/2 [==============================] - 0s 7ms/step - loss: 8.8652 - mae: 8.8652\n",
      "Epoch 95/100\n",
      "2/2 [==============================] - 0s 7ms/step - loss: 7.7070 - mae: 7.7070\n",
      "Epoch 96/100\n",
      "2/2 [==============================] - 0s 8ms/step - loss: 6.7419 - mae: 6.7419\n",
      "Epoch 97/100\n",
      "2/2 [==============================] - 0s 7ms/step - loss: 8.6143 - mae: 8.6143\n",
      "Epoch 98/100\n",
      "2/2 [==============================] - 0s 7ms/step - loss: 9.3929 - mae: 9.3929\n",
      "Epoch 99/100\n",
      "2/2 [==============================] - 0s 7ms/step - loss: 9.1276 - mae: 9.1276\n",
      "Epoch 100/100\n",
      "2/2 [==============================] - 0s 7ms/step - loss: 10.4875 - mae: 10.4875\n"
     ]
    },
    {
     "data": {
      "text/plain": "<keras.callbacks.History at 0x2d811f1c0>"
     },
     "execution_count": 30,
     "metadata": {},
     "output_type": "execute_result"
    }
   ]
  },
  {
   "cell_type": "code",
   "source": [
    "## Visualizing the model\n",
    "model.summary()"
   ],
   "metadata": {
    "colab": {
     "base_uri": "https://localhost:8080/",
     "height": 317
    },
    "id": "bZo9EIfVNgn_",
    "outputId": "1c416fd1-3b91-4438-879f-a8d381f89384",
    "ExecuteTime": {
     "end_time": "2023-08-31T11:30:15.669057Z",
     "start_time": "2023-08-31T11:30:15.633989Z"
    }
   },
   "execution_count": 31,
   "outputs": [
    {
     "name": "stdout",
     "output_type": "stream",
     "text": [
      "Model: \"sequential_6\"\n",
      "_________________________________________________________________\n",
      " Layer (type)                Output Shape              Param #   \n",
      "=================================================================\n",
      " dense_8 (Dense)             (None, 1)                 2         \n",
      "                                                                 \n",
      "=================================================================\n",
      "Total params: 2\n",
      "Trainable params: 2\n",
      "Non-trainable params: 0\n",
      "_________________________________________________________________\n"
     ]
    }
   ]
  },
  {
   "cell_type": "code",
   "source": [
    "# Let's create a model which build automatically by defining the input_shape argument\n",
    "tf.random.set_seed(42)\n",
    "\n",
    "# Create a model\n",
    "model = tf.keras.Sequential([\n",
    "    tf.keras.layers.Dense(50, input_shape=[1], name=\"input_layer\"),\n",
    "    tf.keras.layers.Dense(1, name=\"output_layer\")\n",
    "], name=\"model_1\")\n",
    "\n",
    "# Compile the model\n",
    "model.compile(loss=tf.keras.losses.mae,\n",
    "              optimizer=tf.keras.optimizers.SGD(),\n",
    "              metrics=\"mae\")"
   ],
   "metadata": {
    "id": "KPcKdVgiNvkY",
    "ExecuteTime": {
     "end_time": "2023-08-31T11:30:17.843724Z",
     "start_time": "2023-08-31T11:30:17.796636Z"
    }
   },
   "execution_count": 32,
   "outputs": [
    {
     "name": "stderr",
     "output_type": "stream",
     "text": [
      "WARNING:absl:At this time, the v2.11+ optimizer `tf.keras.optimizers.SGD` runs slowly on M1/M2 Macs, please use the legacy Keras optimizer instead, located at `tf.keras.optimizers.legacy.SGD`.\n",
      "WARNING:absl:There is a known slowdown when using v2.11+ Keras optimizers on M1/M2 Macs. Falling back to the legacy Keras optimizer, i.e., `tf.keras.optimizers.legacy.SGD`.\n"
     ]
    }
   ]
  },
  {
   "cell_type": "code",
   "source": [
    "model.summary()"
   ],
   "metadata": {
    "colab": {
     "base_uri": "https://localhost:8080/"
    },
    "id": "QBhgvEESO6ID",
    "outputId": "e03bb779-1f4c-4fca-ba51-54d57977e6e9",
    "ExecuteTime": {
     "end_time": "2023-08-31T11:30:26.225240Z",
     "start_time": "2023-08-31T11:30:26.171044Z"
    }
   },
   "execution_count": 33,
   "outputs": [
    {
     "name": "stdout",
     "output_type": "stream",
     "text": [
      "Model: \"model_1\"\n",
      "_________________________________________________________________\n",
      " Layer (type)                Output Shape              Param #   \n",
      "=================================================================\n",
      " input_layer (Dense)         (None, 50)                100       \n",
      "                                                                 \n",
      " output_layer (Dense)        (None, 1)                 51        \n",
      "                                                                 \n",
      "=================================================================\n",
      "Total params: 151\n",
      "Trainable params: 151\n",
      "Non-trainable params: 0\n",
      "_________________________________________________________________\n"
     ]
    }
   ]
  },
  {
   "cell_type": "markdown",
   "source": [
    "* Total params - total number of parameters in the model (input / output)\n",
    "* Trainable parameters - these are the parameters (patterns) the model can update as it trains."
   ],
   "metadata": {
    "id": "zW1rYF11PwDi"
   }
  },
  {
   "cell_type": "code",
   "source": [
    "# Let's fit our model to our training data.\n",
    "model.fit(tf.expand_dims(X_train, -1), y_train, epochs=100, verbose=0)"
   ],
   "metadata": {
    "colab": {
     "base_uri": "https://localhost:8080/"
    },
    "id": "sqJ2CR5GO-Oh",
    "outputId": "ab79f725-a8fb-4d59-c0d3-ef43f92e6964",
    "ExecuteTime": {
     "end_time": "2023-08-31T11:30:29.418066Z",
     "start_time": "2023-08-31T11:30:27.717124Z"
    }
   },
   "execution_count": 34,
   "outputs": [
    {
     "data": {
      "text/plain": "<keras.callbacks.History at 0x2d86ee4d0>"
     },
     "execution_count": 34,
     "metadata": {},
     "output_type": "execute_result"
    }
   ]
  },
  {
   "cell_type": "markdown",
   "source": [
    "### Visualizing our model's predictions\n",
    "\n",
    "To visualize predictions, it's a good idea to plot them against the ground truth labels.\n",
    "\n",
    "Often you'll see this in the form of 'y_test' or 'y_true' versus 'y_pred' (ground truth versus your model's predictions)"
   ],
   "metadata": {
    "id": "cY9yX0NDTKjl"
   }
  },
  {
   "cell_type": "code",
   "source": [
    "# Make some predictions\n",
    "y_pred = model.predict(tf.expand_dims(X_test, -1))\n",
    "y_pred"
   ],
   "metadata": {
    "colab": {
     "base_uri": "https://localhost:8080/"
    },
    "id": "qwmwCugrVFWr",
    "outputId": "4a9c1e6b-a8a2-4b36-bc13-858671b2c73f",
    "ExecuteTime": {
     "end_time": "2023-08-31T11:34:26.659973Z",
     "start_time": "2023-08-31T11:34:26.504351Z"
    }
   },
   "execution_count": 36,
   "outputs": [
    {
     "name": "stdout",
     "output_type": "stream",
     "text": [
      "WARNING:tensorflow:5 out of the last 6 calls to <function Model.make_predict_function.<locals>.predict_function at 0x2d8552dd0> triggered tf.function retracing. Tracing is expensive and the excessive number of tracings could be due to (1) creating @tf.function repeatedly in a loop, (2) passing tensors with different shapes, (3) passing Python objects instead of tensors. For (1), please define your @tf.function outside of the loop. For (2), @tf.function has reduce_retracing=True option that can avoid unnecessary retracing. For (3), please refer to https://www.tensorflow.org/guide/function#controlling_retracing and https://www.tensorflow.org/api_docs/python/tf/function for  more details.\n"
     ]
    },
    {
     "name": "stderr",
     "output_type": "stream",
     "text": [
      "WARNING:tensorflow:5 out of the last 6 calls to <function Model.make_predict_function.<locals>.predict_function at 0x2d8552dd0> triggered tf.function retracing. Tracing is expensive and the excessive number of tracings could be due to (1) creating @tf.function repeatedly in a loop, (2) passing tensors with different shapes, (3) passing Python objects instead of tensors. For (1), please define your @tf.function outside of the loop. For (2), @tf.function has reduce_retracing=True option that can avoid unnecessary retracing. For (3), please refer to https://www.tensorflow.org/guide/function#controlling_retracing and https://www.tensorflow.org/api_docs/python/tf/function for  more details.\n"
     ]
    },
    {
     "name": "stdout",
     "output_type": "stream",
     "text": [
      "1/1 [==============================] - 0s 107ms/step\n"
     ]
    },
    {
     "data": {
      "text/plain": "array([[ 69.55497 ],\n       [ 74.07955 ],\n       [ 78.604126],\n       [ 83.12871 ],\n       [ 87.65328 ],\n       [ 92.177864],\n       [ 96.70243 ],\n       [101.227   ],\n       [105.75159 ],\n       [110.27616 ]], dtype=float32)"
     },
     "execution_count": 36,
     "metadata": {},
     "output_type": "execute_result"
    }
   ]
  },
  {
   "cell_type": "code",
   "source": [
    "y_test"
   ],
   "metadata": {
    "colab": {
     "base_uri": "https://localhost:8080/"
    },
    "id": "kpOKmPeoVoUo",
    "outputId": "5ea013e9-e875-48af-8571-d6ea7d680b0a",
    "ExecuteTime": {
     "end_time": "2023-08-31T11:35:09.229957Z",
     "start_time": "2023-08-31T11:35:09.180682Z"
    }
   },
   "execution_count": 37,
   "outputs": [
    {
     "data": {
      "text/plain": "<tf.Tensor: shape=(10,), dtype=int32, numpy=array([ 70,  74,  78,  82,  86,  90,  94,  98, 102, 106], dtype=int32)>"
     },
     "execution_count": 37,
     "metadata": {},
     "output_type": "execute_result"
    }
   ]
  },
  {
   "cell_type": "code",
   "source": [
    "# Let's create a plotting function\n",
    "def plot_predictions(train_data=X_train,\n",
    "                     train_labels=y_train,\n",
    "                     test_data=X_test,\n",
    "                     test_labels=y_test,\n",
    "                     predictions=y_pred):\n",
    "  \"\"\"\n",
    "  Plots training data, test data and compares predictions to ground truth labels.\n",
    "  \"\"\"\n",
    "  plt.figure(figsize=(10, 7))\n",
    "  # Plot training data in blue\n",
    "  plt.scatter(train_data, train_labels, c=\"b\", label=\"Training data\")\n",
    "  # Plot testing data in green\n",
    "  plt.scatter(test_data, test_labels, c=\"g\", label=\"Testing data\")\n",
    "  #Plot model's perdictions in red\n",
    "  plt.scatter(test_data, predictions, c=\"r\", label=\"Predictions\")\n",
    "  # Show the legend\n",
    "  plt.legend()"
   ],
   "metadata": {
    "id": "j5bCFDF6V7CE",
    "ExecuteTime": {
     "end_time": "2023-08-31T11:35:11.119641Z",
     "start_time": "2023-08-31T11:35:11.074950Z"
    }
   },
   "execution_count": 38,
   "outputs": []
  },
  {
   "cell_type": "code",
   "source": [
    "plot_predictions(train_data=X_train,\n",
    "                 train_labels=y_train,\n",
    "                 test_data=X_test,\n",
    "                 test_labels=y_test,\n",
    "                 predictions=y_pred)"
   ],
   "metadata": {
    "colab": {
     "base_uri": "https://localhost:8080/",
     "height": 428
    },
    "id": "DPahur-1YikP",
    "outputId": "0a6d2652-c426-42ce-e0cd-69df5458d9b5",
    "ExecuteTime": {
     "end_time": "2023-08-31T12:01:39.532521Z",
     "start_time": "2023-08-31T12:01:39.418099Z"
    }
   },
   "execution_count": 41,
   "outputs": [
    {
     "data": {
      "text/plain": "<Figure size 1000x700 with 1 Axes>",
      "image/png": "[encoded data removed]"
     },
     "metadata": {},
     "output_type": "display_data"
    }
   ]
  },
  {
   "cell_type": "markdown",
   "source": [
    "### Evaluating our model's predictions with regression evaluation metrics.\n",
    "\n",
    "Depending on the problem you're working on, there will be different evaluation metrics to evaluate your model's performance.\n",
    "\n",
    "Since we're working on a regression, two of the main metrics:\n",
    "* MAE - mean absolute error, \"on average, how wrong is each of my model's predictions\"\n",
    "* MSE - mean square error, \"square the average errors\""
   ],
   "metadata": {
    "id": "HjTieOI5Ylvy"
   }
  },
  {
   "cell_type": "code",
   "source": [
    "# Evaluagte the model on the test \n",
    "model.evaluate(tf.expand_dims(X_test, -1), y_test)"
   ],
   "metadata": {
    "colab": {
     "base_uri": "https://localhost:8080/"
    },
    "id": "Xqg_8Xi2dO5I",
    "outputId": "24a66082-b88e-430e-f3cd-4b31e016b333",
    "ExecuteTime": {
     "end_time": "2023-08-31T12:01:41.275469Z",
     "start_time": "2023-08-31T12:01:41.109007Z"
    }
   },
   "execution_count": 42,
   "outputs": [
    {
     "name": "stdout",
     "output_type": "stream",
     "text": [
      "1/1 [==============================] - 0s 135ms/step - loss: 2.0046 - mae: 2.0046\n"
     ]
    },
    {
     "data": {
      "text/plain": "[2.0045738220214844, 2.0045738220214844]"
     },
     "execution_count": 42,
     "metadata": {},
     "output_type": "execute_result"
    }
   ]
  },
  {
   "cell_type": "code",
   "source": [
    "# Calculate the mean absolute error:\n",
    "\n",
    "mae = tf.keras.losses.MAE(\n",
    "    y_true=y_test, \n",
    "    y_pred=tf.squeeze(y_pred))\n",
    "mae"
   ],
   "metadata": {
    "colab": {
     "base_uri": "https://localhost:8080/"
    },
    "id": "hZzXSBB2VByJ",
    "outputId": "735bb4a4-9fcb-4dd7-e09d-83e0d9b72bd7",
    "ExecuteTime": {
     "end_time": "2023-08-31T12:01:41.558264Z",
     "start_time": "2023-08-31T12:01:41.434117Z"
    }
   },
   "execution_count": 43,
   "outputs": [
    {
     "data": {
      "text/plain": "<tf.Tensor: shape=(), dtype=float32, numpy=2.0045738>"
     },
     "execution_count": 43,
     "metadata": {},
     "output_type": "execute_result"
    }
   ]
  },
  {
   "cell_type": "code",
   "source": [
    "# Calculate the mean square error:\n",
    "\n",
    "mae = tf.keras.losses.MSE(\n",
    "    y_true=y_test, \n",
    "    y_pred=tf.squeeze(y_pred))\n",
    "mae"
   ],
   "metadata": {
    "colab": {
     "base_uri": "https://localhost:8080/"
    },
    "id": "nost7Avtgr36",
    "outputId": "aab54e8f-dcf3-4821-96a2-cb8094dade64",
    "ExecuteTime": {
     "end_time": "2023-08-31T12:01:41.972134Z",
     "start_time": "2023-08-31T12:01:41.927686Z"
    }
   },
   "execution_count": 44,
   "outputs": [
    {
     "data": {
      "text/plain": "<tf.Tensor: shape=(), dtype=float32, numpy=5.939637>"
     },
     "execution_count": 44,
     "metadata": {},
     "output_type": "execute_result"
    }
   ]
  },
  {
   "cell_type": "code",
   "source": [
    "# Make some functions to re-use MAE and MSE\n",
    "def mae(y_true, y_pred):\n",
    "  return tf.metrics.mean_absolute_error(y_true=y_true, y_pred=tf.squeeze(y_pred))\n",
    "\n",
    "def mse(y_true, y_pred):\n",
    "  return tf.metrics.mean_squared_error(y_true=y_true, y_pred=tf.squeeze(y_pred))"
   ],
   "metadata": {
    "id": "T50x4iMeVo6Y",
    "ExecuteTime": {
     "end_time": "2023-08-31T12:01:42.293243Z",
     "start_time": "2023-08-31T12:01:42.248596Z"
    }
   },
   "execution_count": 45,
   "outputs": []
  },
  {
   "cell_type": "markdown",
   "source": [
    "### Running experiments to improve our model\n",
    "\n",
    "Build a model -> fit it -> evaluate it -> tweak it -> fit it -> evaluate it -> tweak it -> ...\n",
    "\n",
    "1. Get more data - get more example for your model to train on (more opportunities to learn patterns or relationships between features and labels).\n",
    "2. Make your model larger (using a more complex model) - this might come in the form of more layers or more hidden neurons in each layer.\n",
    "3. Train for longer - give your model more of a change to find patterns in the data.\n",
    "\n",
    "Let's do 3 modelling experiments:\n",
    "\n",
    "1. Model_1 - same as the original model, 1 layer, trained for 100 epochs.\n",
    "2. Model_2 - 2 layers, trained for 100 epochs.\n",
    "3. Model_3 - 2 layers, trained for 500 epochs.\n",
    "4. Model_4...\n",
    "5. Model_5...\n",
    "\n",
    "**Build model_1**"
   ],
   "metadata": {
    "id": "Kifkk7_zXi36"
   }
  },
  {
   "cell_type": "code",
   "source": [
    "X_train, y_train"
   ],
   "metadata": {
    "colab": {
     "base_uri": "https://localhost:8080/"
    },
    "id": "L8oYc4vkXstq",
    "outputId": "a67289a5-2862-4ef2-96c5-f3701d01f9c2",
    "ExecuteTime": {
     "end_time": "2023-08-31T12:01:42.909619Z",
     "start_time": "2023-08-31T12:01:42.866085Z"
    }
   },
   "execution_count": 46,
   "outputs": [
    {
     "data": {
      "text/plain": "(<tf.Tensor: shape=(40,), dtype=int32, numpy=\n array([-100,  -96,  -92,  -88,  -84,  -80,  -76,  -72,  -68,  -64,  -60,\n         -56,  -52,  -48,  -44,  -40,  -36,  -32,  -28,  -24,  -20,  -16,\n         -12,   -8,   -4,    0,    4,    8,   12,   16,   20,   24,   28,\n          32,   36,   40,   44,   48,   52,   56], dtype=int32)>,\n <tf.Tensor: shape=(40,), dtype=int32, numpy=\n array([-90, -86, -82, -78, -74, -70, -66, -62, -58, -54, -50, -46, -42,\n        -38, -34, -30, -26, -22, -18, -14, -10,  -6,  -2,   2,   6,  10,\n         14,  18,  22,  26,  30,  34,  38,  42,  46,  50,  54,  58,  62,\n         66], dtype=int32)>)"
     },
     "execution_count": 46,
     "metadata": {},
     "output_type": "execute_result"
    }
   ]
  },
  {
   "cell_type": "code",
   "source": [
    "# set random seed\n",
    "tf.random.set_seed(42)\n",
    "\n",
    "# 1. Create the model\n",
    "model_1 = tf.keras.Sequential([\n",
    "    tf.keras.layers.Dense(1, input_shape=[1])\n",
    "])\n",
    "\n",
    "# 2. Compile the model\n",
    "model_1.compile(loss=tf.keras.losses.mae,\n",
    "                optimizer=tf.keras.optimizers.SGD(),\n",
    "                metrics=\"mae\")\n",
    "\n",
    "# 3. Fit the model\n",
    "model_1.fit(X_train, y_train, epochs=100, verbose=0)"
   ],
   "metadata": {
    "colab": {
     "base_uri": "https://localhost:8080/"
    },
    "id": "VGnWkfxaYXT3",
    "outputId": "7418b006-2279-4e5a-cc6d-c1433520ccb8",
    "ExecuteTime": {
     "end_time": "2023-08-31T12:01:44.742618Z",
     "start_time": "2023-08-31T12:01:43.221300Z"
    }
   },
   "execution_count": 47,
   "outputs": [
    {
     "name": "stderr",
     "output_type": "stream",
     "text": [
      "WARNING:absl:At this time, the v2.11+ optimizer `tf.keras.optimizers.SGD` runs slowly on M1/M2 Macs, please use the legacy Keras optimizer instead, located at `tf.keras.optimizers.legacy.SGD`.\n",
      "WARNING:absl:There is a known slowdown when using v2.11+ Keras optimizers on M1/M2 Macs. Falling back to the legacy Keras optimizer, i.e., `tf.keras.optimizers.legacy.SGD`.\n"
     ]
    },
    {
     "data": {
      "text/plain": "<keras.callbacks.History at 0x2da931000>"
     },
     "execution_count": 47,
     "metadata": {},
     "output_type": "execute_result"
    }
   ]
  },
  {
   "cell_type": "code",
   "source": [
    "# Make and plot predictions for model_1\n",
    "y_preds_1 = model_1.predict(X_test)\n",
    "plot_predictions(predictions=y_preds_1)"
   ],
   "metadata": {
    "colab": {
     "base_uri": "https://localhost:8080/",
     "height": 445
    },
    "id": "Pse6AVYqZGwB",
    "outputId": "8746aa0a-f2e5-42ca-8219-14c7ddd10db6",
    "ExecuteTime": {
     "end_time": "2023-08-31T12:01:44.872138Z",
     "start_time": "2023-08-31T12:01:44.696784Z"
    }
   },
   "execution_count": 48,
   "outputs": [
    {
     "name": "stdout",
     "output_type": "stream",
     "text": [
      "WARNING:tensorflow:6 out of the last 7 calls to <function Model.make_predict_function.<locals>.predict_function at 0x2da1c3eb0> triggered tf.function retracing. Tracing is expensive and the excessive number of tracings could be due to (1) creating @tf.function repeatedly in a loop, (2) passing tensors with different shapes, (3) passing Python objects instead of tensors. For (1), please define your @tf.function outside of the loop. For (2), @tf.function has reduce_retracing=True option that can avoid unnecessary retracing. For (3), please refer to https://www.tensorflow.org/guide/function#controlling_retracing and https://www.tensorflow.org/api_docs/python/tf/function for  more details.\n"
     ]
    },
    {
     "name": "stderr",
     "output_type": "stream",
     "text": [
      "WARNING:tensorflow:6 out of the last 7 calls to <function Model.make_predict_function.<locals>.predict_function at 0x2da1c3eb0> triggered tf.function retracing. Tracing is expensive and the excessive number of tracings could be due to (1) creating @tf.function repeatedly in a loop, (2) passing tensors with different shapes, (3) passing Python objects instead of tensors. For (1), please define your @tf.function outside of the loop. For (2), @tf.function has reduce_retracing=True option that can avoid unnecessary retracing. For (3), please refer to https://www.tensorflow.org/guide/function#controlling_retracing and https://www.tensorflow.org/api_docs/python/tf/function for  more details.\n"
     ]
    },
    {
     "name": "stdout",
     "output_type": "stream",
     "text": [
      "1/1 [==============================] - 0s 28ms/step\n"
     ]
    },
    {
     "data": {
      "text/plain": "<Figure size 1000x700 with 1 Axes>",
      "image/png": "[encoded data removed]"
     },
     "metadata": {},
     "output_type": "display_data"
    }
   ]
  },
  {
   "cell_type": "code",
   "source": [
    "# Calculate model_1 evaluation metrics\n",
    "mae_1 = mae(y_test, y_preds_1)\n",
    "mse_1 = mse(y_test, y_preds_1)\n",
    "mae_1, mse_1"
   ],
   "metadata": {
    "colab": {
     "base_uri": "https://localhost:8080/"
    },
    "id": "gbAsxNIBZuqz",
    "outputId": "8c0161e8-a948-476e-8387-5be90a7595b1",
    "ExecuteTime": {
     "end_time": "2023-08-31T12:01:44.890852Z",
     "start_time": "2023-08-31T12:01:44.872923Z"
    }
   },
   "execution_count": 49,
   "outputs": [
    {
     "data": {
      "text/plain": "(<tf.Tensor: shape=(), dtype=float32, numpy=30.659632>,\n <tf.Tensor: shape=(), dtype=float32, numpy=950.45917>)"
     },
     "execution_count": 49,
     "metadata": {},
     "output_type": "execute_result"
    }
   ]
  },
  {
   "cell_type": "markdown",
   "source": [
    "**Build model_2**\n",
    "\n",
    "2. Dense layers, trained for 100 epochs"
   ],
   "metadata": {
    "id": "5g-PlloTdAL6"
   }
  },
  {
   "cell_type": "code",
   "source": [
    "# Set random seed\n",
    "tf.random.set_seed(42)\n",
    "\n",
    "# Build model_2\n",
    "model_2 = tf.keras.Sequential([\n",
    "    tf.keras.layers.Dense(10, input_shape=[1]),\n",
    "    tf.keras.layers.Dense(1),\n",
    "])\n",
    "\n",
    "# Compile model_2\n",
    "model_2.compile(loss=tf.keras.losses.mae,\n",
    "                optimizer=tf.keras.optimizers.SGD(),\n",
    "                metrics=\"mse\")\n",
    "\n",
    "# Fit model_2\n",
    "model_2.fit(X_train, y_train, epochs=100, verbose=0)\n"
   ],
   "metadata": {
    "colab": {
     "base_uri": "https://localhost:8080/"
    },
    "id": "3MsEctGqeIk1",
    "outputId": "b1798dd9-c630-4138-d0ac-37ae3dc6ccf6",
    "ExecuteTime": {
     "end_time": "2023-08-31T12:01:46.621021Z",
     "start_time": "2023-08-31T12:01:44.902307Z"
    }
   },
   "execution_count": 50,
   "outputs": [
    {
     "name": "stderr",
     "output_type": "stream",
     "text": [
      "WARNING:absl:At this time, the v2.11+ optimizer `tf.keras.optimizers.SGD` runs slowly on M1/M2 Macs, please use the legacy Keras optimizer instead, located at `tf.keras.optimizers.legacy.SGD`.\n",
      "WARNING:absl:There is a known slowdown when using v2.11+ Keras optimizers on M1/M2 Macs. Falling back to the legacy Keras optimizer, i.e., `tf.keras.optimizers.legacy.SGD`.\n"
     ]
    },
    {
     "data": {
      "text/plain": "<keras.callbacks.History at 0x2db16a1d0>"
     },
     "execution_count": 50,
     "metadata": {},
     "output_type": "execute_result"
    }
   ]
  },
  {
   "cell_type": "code",
   "source": [
    "# Make and plot predictions of model_2\n",
    "y_preds_2 = model_2.predict(X_test)\n",
    "plot_predictions(predictions=y_preds_2)"
   ],
   "metadata": {
    "colab": {
     "base_uri": "https://localhost:8080/",
     "height": 445
    },
    "id": "n4zAD23nfUIZ",
    "outputId": "100f8bda-5caf-4991-9b17-90117a4e6b98",
    "ExecuteTime": {
     "end_time": "2023-08-31T12:01:46.771295Z",
     "start_time": "2023-08-31T12:01:46.588615Z"
    }
   },
   "execution_count": 51,
   "outputs": [
    {
     "name": "stdout",
     "output_type": "stream",
     "text": [
      "1/1 [==============================] - 0s 34ms/step\n"
     ]
    },
    {
     "data": {
      "text/plain": "<Figure size 1000x700 with 1 Axes>",
      "image/png": "[encoded data removed]"
     },
     "metadata": {},
     "output_type": "display_data"
    }
   ]
  },
  {
   "cell_type": "code",
   "source": [
    "# Calculate model_2 evaluation metrics\n",
    "mae_2 = mae(y_test, y_preds_2)\n",
    "mse_2 = mse(y_test, y_preds_2)\n",
    "mae_2, mse_2"
   ],
   "metadata": {
    "colab": {
     "base_uri": "https://localhost:8080/"
    },
    "id": "YUgLxW_1hBhy",
    "outputId": "be8a53a8-6f7b-4e7e-a9c7-55eaed2a58f7",
    "ExecuteTime": {
     "end_time": "2023-08-31T12:01:46.789722Z",
     "start_time": "2023-08-31T12:01:46.768592Z"
    }
   },
   "execution_count": 52,
   "outputs": [
    {
     "data": {
      "text/plain": "(<tf.Tensor: shape=(), dtype=float32, numpy=30.09027>,\n <tf.Tensor: shape=(), dtype=float32, numpy=937.1006>)"
     },
     "execution_count": 52,
     "metadata": {},
     "output_type": "execute_result"
    }
   ]
  },
  {
   "cell_type": "markdown",
   "source": [
    "**Build model_3**\n",
    "\n",
    "* 2 layers, trained for 500 epochs"
   ],
   "metadata": {
    "id": "F4lY__rRhxH-"
   }
  },
  {
   "cell_type": "code",
   "source": [
    "# Set random seed\n",
    "tf.random.set_seed(42)\n",
    "\n",
    "# 1. Build model_3\n",
    "model_3 = tf.keras.Sequential([\n",
    "    tf.keras.layers.Dense(10, input_shape=[1]),\n",
    "    tf.keras.layers.Dense(1)\n",
    "])\n",
    "\n",
    "# 2. Compile model_3\n",
    "model_3.compile(loss=tf.keras.losses.mae,\n",
    "                optimizer=tf.keras.optimizers.SGD(),\n",
    "                metrics=\"mse\")\n",
    "\n",
    "# 3. Fit model\n",
    "model_3.fit(X_train, y_train, epochs=500, verbose=0)"
   ],
   "metadata": {
    "colab": {
     "base_uri": "https://localhost:8080/"
    },
    "id": "8LkmEvdSh60n",
    "outputId": "9f1b5757-fdb7-468c-8972-645668079cc9",
    "ExecuteTime": {
     "end_time": "2023-08-31T12:01:53.237112Z",
     "start_time": "2023-08-31T12:01:46.804239Z"
    }
   },
   "execution_count": 53,
   "outputs": [
    {
     "name": "stderr",
     "output_type": "stream",
     "text": [
      "WARNING:absl:At this time, the v2.11+ optimizer `tf.keras.optimizers.SGD` runs slowly on M1/M2 Macs, please use the legacy Keras optimizer instead, located at `tf.keras.optimizers.legacy.SGD`.\n",
      "WARNING:absl:There is a known slowdown when using v2.11+ Keras optimizers on M1/M2 Macs. Falling back to the legacy Keras optimizer, i.e., `tf.keras.optimizers.legacy.SGD`.\n"
     ]
    },
    {
     "data": {
      "text/plain": "<keras.callbacks.History at 0x2db2fbfa0>"
     },
     "execution_count": 53,
     "metadata": {},
     "output_type": "execute_result"
    }
   ]
  },
  {
   "cell_type": "code",
   "source": [
    "# Make and plot predictions of model_2\n",
    "y_preds_3 = model_3.predict(X_test)\n",
    "plot_predictions(predictions=y_preds_3)"
   ],
   "metadata": {
    "colab": {
     "base_uri": "https://localhost:8080/",
     "height": 445
    },
    "id": "DjRZNmtCikZo",
    "outputId": "6dbe75ec-d33c-4d5d-eae7-9d7bc9efd7dd",
    "ExecuteTime": {
     "end_time": "2023-08-31T12:01:53.419461Z",
     "start_time": "2023-08-31T12:01:53.237004Z"
    }
   },
   "execution_count": 54,
   "outputs": [
    {
     "name": "stdout",
     "output_type": "stream",
     "text": [
      "1/1 [==============================] - 0s 30ms/step\n"
     ]
    },
    {
     "data": {
      "text/plain": "<Figure size 1000x700 with 1 Axes>",
      "image/png": "[encoded data removed]"
     },
     "metadata": {},
     "output_type": "display_data"
    }
   ]
  },
  {
   "cell_type": "code",
   "source": [
    "mae_3 = mae(y_true=y_test, y_pred=y_preds_3)\n",
    "mse_3 = mse(y_true=y_test, y_pred=y_preds_3)\n",
    "mae_3, mse_3"
   ],
   "metadata": {
    "colab": {
     "base_uri": "https://localhost:8080/"
    },
    "id": "6MHReAteiqFy",
    "outputId": "7ccf2b82-f4b9-4400-c6a5-3214ad0c1119",
    "ExecuteTime": {
     "end_time": "2023-08-31T12:01:53.438711Z",
     "start_time": "2023-08-31T12:01:53.418256Z"
    }
   },
   "execution_count": 55,
   "outputs": [
    {
     "data": {
      "text/plain": "(<tf.Tensor: shape=(), dtype=float32, numpy=67.45522>,\n <tf.Tensor: shape=(), dtype=float32, numpy=4633.7764>)"
     },
     "execution_count": 55,
     "metadata": {},
     "output_type": "execute_result"
    }
   ]
  },
  {
   "cell_type": "markdown",
   "source": [
    "### Comparing the results of our experiments.\n",
    "\n",
    "We've run a few experiments, let's compare the results"
   ],
   "metadata": {
    "id": "bQM0aTg8tzVY"
   }
  },
  {
   "cell_type": "code",
   "source": [
    "# Let's compare our model's results using a pandas DataFrame.\n",
    "import pandas as pd\n",
    "model_results = [[\"model_1\", mae_1.numpy(), mse_1.numpy()],\n",
    "                 [\"model_2\", mae_2.numpy(), mse_2.numpy()],\n",
    "                 [\"model_3\", mae_3.numpy(), mse_3.numpy()]]\n",
    "\n",
    "all_results = pd.DataFrame(model_results, columns=[\"model\", \"mae\", \"mse\"])\n",
    "all_results"
   ],
   "metadata": {
    "colab": {
     "base_uri": "https://localhost:8080/",
     "height": 142
    },
    "id": "F1FvVcaBt_Vk",
    "outputId": "3985d55a-43a7-489e-93c0-ecefe4f6df5e",
    "ExecuteTime": {
     "end_time": "2023-08-31T12:01:53.495649Z",
     "start_time": "2023-08-31T12:01:53.440290Z"
    }
   },
   "execution_count": 56,
   "outputs": [
    {
     "data": {
      "text/plain": "     model        mae          mse\n0  model_1  30.659632   950.459167\n1  model_2  30.090269   937.100586\n2  model_3  67.455223  4633.776367",
      "text/html": "<div>\n<style scoped>\n    .dataframe tbody tr th:only-of-type {\n        vertical-align: middle;\n    }\n\n    .dataframe tbody tr th {\n        vertical-align: top;\n    }\n\n    .dataframe thead th {\n        text-align: right;\n    }\n</style>\n<table border=\"1\" class=\"dataframe\">\n  <thead>\n    <tr style=\"text-align: right;\">\n      <th></th>\n      <th>model</th>\n      <th>mae</th>\n      <th>mse</th>\n    </tr>\n  </thead>\n  <tbody>\n    <tr>\n      <th>0</th>\n      <td>model_1</td>\n      <td>30.659632</td>\n      <td>950.459167</td>\n    </tr>\n    <tr>\n      <th>1</th>\n      <td>model_2</td>\n      <td>30.090269</td>\n      <td>937.100586</td>\n    </tr>\n    <tr>\n      <th>2</th>\n      <td>model_3</td>\n      <td>67.455223</td>\n      <td>4633.776367</td>\n    </tr>\n  </tbody>\n</table>\n</div>"
     },
     "execution_count": 56,
     "metadata": {},
     "output_type": "execute_result"
    }
   ]
  },
  {
   "cell_type": "markdown",
   "source": [
    "Looks like model_1 performed the best."
   ],
   "metadata": {
    "id": "EQ-SHetZhhsg"
   }
  },
  {
   "cell_type": "code",
   "source": [
    "model_2.summary()"
   ],
   "metadata": {
    "colab": {
     "base_uri": "https://localhost:8080/"
    },
    "id": "pk4pvrmSgivN",
    "outputId": "ee434a7e-5641-4de9-ba3e-e419a20f8954",
    "ExecuteTime": {
     "end_time": "2023-08-31T12:01:53.506022Z",
     "start_time": "2023-08-31T12:01:53.443339Z"
    }
   },
   "execution_count": 57,
   "outputs": [
    {
     "name": "stdout",
     "output_type": "stream",
     "text": [
      "Model: \"sequential_8\"\n",
      "_________________________________________________________________\n",
      " Layer (type)                Output Shape              Param #   \n",
      "=================================================================\n",
      " dense_10 (Dense)            (None, 10)                20        \n",
      "                                                                 \n",
      " dense_11 (Dense)            (None, 1)                 11        \n",
      "                                                                 \n",
      "=================================================================\n",
      "Total params: 31\n",
      "Trainable params: 31\n",
      "Non-trainable params: 0\n",
      "_________________________________________________________________\n"
     ]
    }
   ]
  },
  {
   "cell_type": "markdown",
   "source": [
    "## Tracking your experiments\n",
    "\n",
    "One really good habit in machine learning modelling is to track the results of your experiments.\n",
    "\n",
    "And when doin so, it can be tedious if you're running lots of experiments.\n",
    "\n",
    "Luckily, there are tools to help us!\n",
    "\n",
    "Resources:\n",
    "\n",
    "As you build more models, you'll want to look into using:\n",
    "\n",
    "* TensorBoard - a component of the TensorFlow library to help track modelling experiments.\n",
    "* Weights & Biases - a tool for tracking all kinds of machine learning experiments (plugs directly into TensorBoard)"
   ],
   "metadata": {
    "id": "hwweYT_ShQ7K"
   }
  },
  {
   "cell_type": "markdown",
   "source": [
    "###Saving our models\n",
    "\n",
    "Saving our models allows us to use them outside of Google Colab (or wherever they were trained) such as in a web application or a mobile app."
   ],
   "metadata": {
    "id": "wgprDOgLjTcY"
   }
  },
  {
   "cell_type": "code",
   "source": [
    "# Save model using the SavedModel format\n",
    "model_2.save(\"best_model_SavedModel_format\")"
   ],
   "metadata": {
    "colab": {
     "base_uri": "https://localhost:8080/"
    },
    "id": "_fjMU2s3jU1d",
    "outputId": "b189ecf3-d47a-4b07-9a30-8ccd12799d2f",
    "ExecuteTime": {
     "end_time": "2023-08-31T12:01:53.999955Z",
     "start_time": "2023-08-31T12:01:53.449933Z"
    }
   },
   "execution_count": 58,
   "outputs": [
    {
     "name": "stdout",
     "output_type": "stream",
     "text": [
      "INFO:tensorflow:Assets written to: best_model_SavedModel_format/assets\n"
     ]
    },
    {
     "name": "stderr",
     "output_type": "stream",
     "text": [
      "INFO:tensorflow:Assets written to: best_model_SavedModel_format/assets\n"
     ]
    }
   ]
  },
  {
   "cell_type": "code",
   "source": [
    "model_2.save(\"best_model_HDF5_format.h5\")"
   ],
   "metadata": {
    "id": "ZmcjmH7Lki2w",
    "ExecuteTime": {
     "end_time": "2023-08-31T12:01:54.010484Z",
     "start_time": "2023-08-31T12:01:54.000770Z"
    }
   },
   "execution_count": 59,
   "outputs": []
  },
  {
   "cell_type": "markdown",
   "source": [
    "## Loading in a saved model"
   ],
   "metadata": {
    "id": "Dc7dJIohlq44"
   }
  },
  {
   "cell_type": "code",
   "source": [
    "# Load in a the SavedModel format model.\n",
    "loaded_SavedModel_format = tf.keras.models.load_model(\"best_model_SavedModel_format\")\n",
    "loaded_SavedModel_format.summary()"
   ],
   "metadata": {
    "colab": {
     "base_uri": "https://localhost:8080/"
    },
    "id": "D7j1ZGLilvM6",
    "outputId": "26c6eeb8-c0d2-476c-8d3c-c06fc7f0d3ab",
    "ExecuteTime": {
     "end_time": "2023-08-31T12:01:54.201360Z",
     "start_time": "2023-08-31T12:01:54.011114Z"
    }
   },
   "execution_count": 60,
   "outputs": [
    {
     "name": "stdout",
     "output_type": "stream",
     "text": [
      "Model: \"sequential_8\"\n",
      "_________________________________________________________________\n",
      " Layer (type)                Output Shape              Param #   \n",
      "=================================================================\n",
      " dense_10 (Dense)            (None, 10)                20        \n",
      "                                                                 \n",
      " dense_11 (Dense)            (None, 1)                 11        \n",
      "                                                                 \n",
      "=================================================================\n",
      "Total params: 31\n",
      "Trainable params: 31\n",
      "Non-trainable params: 0\n",
      "_________________________________________________________________\n"
     ]
    }
   ]
  },
  {
   "cell_type": "code",
   "source": [
    "# Compare model_2 predictions with SaveModel model predictions\n",
    "model_2_preds = model_2.predict(X_test)\n",
    "loaded_SavedModel_format_preds = loaded_SavedModel_format.predict(X_test)\n",
    "model_2_preds == loaded_SavedModel_format_preds"
   ],
   "metadata": {
    "colab": {
     "base_uri": "https://localhost:8080/"
    },
    "id": "vd6g2detmI9j",
    "outputId": "2f177794-384c-450e-a25d-a4d8a52229c1",
    "ExecuteTime": {
     "end_time": "2023-08-31T12:01:54.308888Z",
     "start_time": "2023-08-31T12:01:54.199050Z"
    }
   },
   "execution_count": 61,
   "outputs": [
    {
     "name": "stdout",
     "output_type": "stream",
     "text": [
      "1/1 [==============================] - 0s 19ms/step\n",
      "1/1 [==============================] - 0s 30ms/step\n"
     ]
    },
    {
     "data": {
      "text/plain": "array([[ True],\n       [ True],\n       [ True],\n       [ True],\n       [ True],\n       [ True],\n       [ True],\n       [ True],\n       [ True],\n       [ True]])"
     },
     "execution_count": 61,
     "metadata": {},
     "output_type": "execute_result"
    }
   ]
  },
  {
   "cell_type": "code",
   "source": [
    "# Load in a model using the .h5 format\n",
    "loaded_h5_model = tf.keras.models.load_model(\"best_model_HDF5_format.h5\")\n",
    "loaded_h5_model.summary()"
   ],
   "metadata": {
    "colab": {
     "base_uri": "https://localhost:8080/"
    },
    "id": "kQ2mVEthmuOW",
    "outputId": "03775f9c-e924-4041-d2b5-df5a6dde775e",
    "ExecuteTime": {
     "end_time": "2023-08-31T12:01:54.349759Z",
     "start_time": "2023-08-31T12:01:54.292924Z"
    }
   },
   "execution_count": 62,
   "outputs": [
    {
     "name": "stdout",
     "output_type": "stream",
     "text": [
      "Model: \"sequential_8\"\n",
      "_________________________________________________________________\n",
      " Layer (type)                Output Shape              Param #   \n",
      "=================================================================\n",
      " dense_10 (Dense)            (None, 10)                20        \n",
      "                                                                 \n",
      " dense_11 (Dense)            (None, 1)                 11        \n",
      "                                                                 \n",
      "=================================================================\n",
      "Total params: 31\n",
      "Trainable params: 31\n",
      "Non-trainable params: 0\n",
      "_________________________________________________________________\n"
     ]
    }
   ]
  },
  {
   "cell_type": "code",
   "source": [
    "model_2_preds = model_2.predict(X_test)\n",
    "loaded_h5_model_preds = loaded_h5_model.predict(X_test)\n",
    "model_2_preds == loaded_h5_model_preds"
   ],
   "metadata": {
    "colab": {
     "base_uri": "https://localhost:8080/"
    },
    "id": "twAb9c6vnbAr",
    "outputId": "90797f89-d681-48a0-9fd6-5d4c1936b012",
    "ExecuteTime": {
     "end_time": "2023-08-31T12:01:54.463852Z",
     "start_time": "2023-08-31T12:01:54.329232Z"
    }
   },
   "execution_count": 63,
   "outputs": [
    {
     "name": "stdout",
     "output_type": "stream",
     "text": [
      "1/1 [==============================] - 0s 10ms/step\n",
      "1/1 [==============================] - 0s 30ms/step\n"
     ]
    },
    {
     "data": {
      "text/plain": "array([[ True],\n       [ True],\n       [ True],\n       [ True],\n       [ True],\n       [ True],\n       [ True],\n       [ True],\n       [ True],\n       [ True]])"
     },
     "execution_count": 63,
     "metadata": {},
     "output_type": "execute_result"
    }
   ]
  },
  {
   "cell_type": "code",
   "source": [
    "#from google.colab import files\n",
    "#files.download(\"best_model_HDF5_format.h5\")"
   ],
   "metadata": {
    "colab": {
     "base_uri": "https://localhost:8080/",
     "height": 17
    },
    "id": "TFT5FKWQnmjK",
    "outputId": "cd11c15a-86ab-4eba-e70d-066f8cb2cc38",
    "ExecuteTime": {
     "end_time": "2023-08-31T12:01:54.463993Z",
     "start_time": "2023-08-31T12:01:54.413133Z"
    }
   },
   "execution_count": 64,
   "outputs": []
  },
  {
   "cell_type": "code",
   "source": [
    "# Save a file from Google Colab to Google Drive\n",
    "#!cp /content/best_model_HDF5_format.h5 /content/drive/MyDrive/..."
   ],
   "metadata": {
    "id": "HziEWQ6vocxS",
    "ExecuteTime": {
     "end_time": "2023-08-31T12:01:54.464049Z",
     "start_time": "2023-08-31T12:01:54.415722Z"
    }
   },
   "execution_count": 65,
   "outputs": []
  },
  {
   "cell_type": "markdown",
   "source": [
    "###A larger example"
   ],
   "metadata": {
    "id": "Vf-6mKj_pYqZ"
   }
  },
  {
   "cell_type": "code",
   "source": [
    "# Import the required libraries\n",
    "import tensorflow as tf\n",
    "import pandas as pd\n",
    "import matplotlib.pyplot as plt"
   ],
   "metadata": {
    "id": "OZEM6aSWpbv1",
    "ExecuteTime": {
     "end_time": "2023-08-31T12:01:54.464100Z",
     "start_time": "2023-08-31T12:01:54.417590Z"
    }
   },
   "execution_count": 66,
   "outputs": []
  },
  {
   "cell_type": "code",
   "source": [
    "# Read in the insurance dataset\n",
    "insurance = pd.read_csv(\"https://raw.githubusercontent.com/stedy/Machine-Learning-with-R-datasets/master/insurance.csv\")\n",
    "insurance"
   ],
   "metadata": {
    "colab": {
     "base_uri": "https://localhost:8080/",
     "height": 411
    },
    "id": "skr5voncqdGF",
    "outputId": "475d3455-7b4d-495d-8f4d-0a7960a2c3d4",
    "ExecuteTime": {
     "end_time": "2023-08-31T12:10:34.944195Z",
     "start_time": "2023-08-31T12:10:34.690521Z"
    }
   },
   "execution_count": 83,
   "outputs": [
    {
     "data": {
      "text/plain": "      age     sex     bmi  children smoker     region      charges\n0      19  female  27.900         0    yes  southwest  16884.92400\n1      18    male  33.770         1     no  southeast   1725.55230\n2      28    male  33.000         3     no  southeast   4449.46200\n3      33    male  22.705         0     no  northwest  21984.47061\n4      32    male  28.880         0     no  northwest   3866.85520\n...   ...     ...     ...       ...    ...        ...          ...\n1333   50    male  30.970         3     no  northwest  10600.54830\n1334   18  female  31.920         0     no  northeast   2205.98080\n1335   18  female  36.850         0     no  southeast   1629.83350\n1336   21  female  25.800         0     no  southwest   2007.94500\n1337   61  female  29.070         0    yes  northwest  29141.36030\n\n[1338 rows x 7 columns]",
      "text/html": "<div>\n<style scoped>\n    .dataframe tbody tr th:only-of-type {\n        vertical-align: middle;\n    }\n\n    .dataframe tbody tr th {\n        vertical-align: top;\n    }\n\n    .dataframe thead th {\n        text-align: right;\n    }\n</style>\n<table border=\"1\" class=\"dataframe\">\n  <thead>\n    <tr style=\"text-align: right;\">\n      <th></th>\n      <th>age</th>\n      <th>sex</th>\n      <th>bmi</th>\n      <th>children</th>\n      <th>smoker</th>\n      <th>region</th>\n      <th>charges</th>\n    </tr>\n  </thead>\n  <tbody>\n    <tr>\n      <th>0</th>\n      <td>19</td>\n      <td>female</td>\n      <td>27.900</td>\n      <td>0</td>\n      <td>yes</td>\n      <td>southwest</td>\n      <td>16884.92400</td>\n    </tr>\n    <tr>\n      <th>1</th>\n      <td>18</td>\n      <td>male</td>\n      <td>33.770</td>\n      <td>1</td>\n      <td>no</td>\n      <td>southeast</td>\n      <td>1725.55230</td>\n    </tr>\n    <tr>\n      <th>2</th>\n      <td>28</td>\n      <td>male</td>\n      <td>33.000</td>\n      <td>3</td>\n      <td>no</td>\n      <td>southeast</td>\n      <td>4449.46200</td>\n    </tr>\n    <tr>\n      <th>3</th>\n      <td>33</td>\n      <td>male</td>\n      <td>22.705</td>\n      <td>0</td>\n      <td>no</td>\n      <td>northwest</td>\n      <td>21984.47061</td>\n    </tr>\n    <tr>\n      <th>4</th>\n      <td>32</td>\n      <td>male</td>\n      <td>28.880</td>\n      <td>0</td>\n      <td>no</td>\n      <td>northwest</td>\n      <td>3866.85520</td>\n    </tr>\n    <tr>\n      <th>...</th>\n      <td>...</td>\n      <td>...</td>\n      <td>...</td>\n      <td>...</td>\n      <td>...</td>\n      <td>...</td>\n      <td>...</td>\n    </tr>\n    <tr>\n      <th>1333</th>\n      <td>50</td>\n      <td>male</td>\n      <td>30.970</td>\n      <td>3</td>\n      <td>no</td>\n      <td>northwest</td>\n      <td>10600.54830</td>\n    </tr>\n    <tr>\n      <th>1334</th>\n      <td>18</td>\n      <td>female</td>\n      <td>31.920</td>\n      <td>0</td>\n      <td>no</td>\n      <td>northeast</td>\n      <td>2205.98080</td>\n    </tr>\n    <tr>\n      <th>1335</th>\n      <td>18</td>\n      <td>female</td>\n      <td>36.850</td>\n      <td>0</td>\n      <td>no</td>\n      <td>southeast</td>\n      <td>1629.83350</td>\n    </tr>\n    <tr>\n      <th>1336</th>\n      <td>21</td>\n      <td>female</td>\n      <td>25.800</td>\n      <td>0</td>\n      <td>no</td>\n      <td>southwest</td>\n      <td>2007.94500</td>\n    </tr>\n    <tr>\n      <th>1337</th>\n      <td>61</td>\n      <td>female</td>\n      <td>29.070</td>\n      <td>0</td>\n      <td>yes</td>\n      <td>northwest</td>\n      <td>29141.36030</td>\n    </tr>\n  </tbody>\n</table>\n<p>1338 rows × 7 columns</p>\n</div>"
     },
     "execution_count": 83,
     "metadata": {},
     "output_type": "execute_result"
    }
   ]
  },
  {
   "cell_type": "code",
   "source": [
    "# Let's try one-hot encode our DataFrame so it's all numbers.\n",
    "insurance_one_hot = pd.get_dummies(insurance)\n",
    "insurance_one_hot.head()"
   ],
   "metadata": {
    "colab": {
     "base_uri": "https://localhost:8080/",
     "height": 201
    },
    "id": "IXsyavGEqjjV",
    "outputId": "75063ec1-df5a-41ba-f08f-ad2f313410b9",
    "ExecuteTime": {
     "end_time": "2023-08-31T12:10:44.536928Z",
     "start_time": "2023-08-31T12:10:44.483580Z"
    }
   },
   "execution_count": 84,
   "outputs": [
    {
     "data": {
      "text/plain": "   age     bmi  children      charges  sex_female  sex_male  smoker_no  \\\n0   19  27.900         0  16884.92400        True     False      False   \n1   18  33.770         1   1725.55230       False      True       True   \n2   28  33.000         3   4449.46200       False      True       True   \n3   33  22.705         0  21984.47061       False      True       True   \n4   32  28.880         0   3866.85520       False      True       True   \n\n   smoker_yes  region_northeast  region_northwest  region_southeast  \\\n0        True             False             False             False   \n1       False             False             False              True   \n2       False             False             False              True   \n3       False             False              True             False   \n4       False             False              True             False   \n\n   region_southwest  \n0              True  \n1             False  \n2             False  \n3             False  \n4             False  ",
      "text/html": "<div>\n<style scoped>\n    .dataframe tbody tr th:only-of-type {\n        vertical-align: middle;\n    }\n\n    .dataframe tbody tr th {\n        vertical-align: top;\n    }\n\n    .dataframe thead th {\n        text-align: right;\n    }\n</style>\n<table border=\"1\" class=\"dataframe\">\n  <thead>\n    <tr style=\"text-align: right;\">\n      <th></th>\n      <th>age</th>\n      <th>bmi</th>\n      <th>children</th>\n      <th>charges</th>\n      <th>sex_female</th>\n      <th>sex_male</th>\n      <th>smoker_no</th>\n      <th>smoker_yes</th>\n      <th>region_northeast</th>\n      <th>region_northwest</th>\n      <th>region_southeast</th>\n      <th>region_southwest</th>\n    </tr>\n  </thead>\n  <tbody>\n    <tr>\n      <th>0</th>\n      <td>19</td>\n      <td>27.900</td>\n      <td>0</td>\n      <td>16884.92400</td>\n      <td>True</td>\n      <td>False</td>\n      <td>False</td>\n      <td>True</td>\n      <td>False</td>\n      <td>False</td>\n      <td>False</td>\n      <td>True</td>\n    </tr>\n    <tr>\n      <th>1</th>\n      <td>18</td>\n      <td>33.770</td>\n      <td>1</td>\n      <td>1725.55230</td>\n      <td>False</td>\n      <td>True</td>\n      <td>True</td>\n      <td>False</td>\n      <td>False</td>\n      <td>False</td>\n      <td>True</td>\n      <td>False</td>\n    </tr>\n    <tr>\n      <th>2</th>\n      <td>28</td>\n      <td>33.000</td>\n      <td>3</td>\n      <td>4449.46200</td>\n      <td>False</td>\n      <td>True</td>\n      <td>True</td>\n      <td>False</td>\n      <td>False</td>\n      <td>False</td>\n      <td>True</td>\n      <td>False</td>\n    </tr>\n    <tr>\n      <th>3</th>\n      <td>33</td>\n      <td>22.705</td>\n      <td>0</td>\n      <td>21984.47061</td>\n      <td>False</td>\n      <td>True</td>\n      <td>True</td>\n      <td>False</td>\n      <td>False</td>\n      <td>True</td>\n      <td>False</td>\n      <td>False</td>\n    </tr>\n    <tr>\n      <th>4</th>\n      <td>32</td>\n      <td>28.880</td>\n      <td>0</td>\n      <td>3866.85520</td>\n      <td>False</td>\n      <td>True</td>\n      <td>True</td>\n      <td>False</td>\n      <td>False</td>\n      <td>True</td>\n      <td>False</td>\n      <td>False</td>\n    </tr>\n  </tbody>\n</table>\n</div>"
     },
     "execution_count": 84,
     "metadata": {},
     "output_type": "execute_result"
    }
   ]
  },
  {
   "cell_type": "code",
   "source": [
    "# Create X & y values (features and sets)\n",
    "X = insurance_one_hot.drop(\"charges\", axis=1)\n",
    "y = insurance_one_hot[\"charges\"]"
   ],
   "metadata": {
    "id": "ltu158BpRzA2",
    "ExecuteTime": {
     "end_time": "2023-08-31T12:11:03.655407Z",
     "start_time": "2023-08-31T12:11:03.618563Z"
    }
   },
   "execution_count": 86,
   "outputs": []
  },
  {
   "cell_type": "code",
   "execution_count": 99,
   "outputs": [
    {
     "name": "stdout",
     "output_type": "stream",
     "text": [
      "<class 'pandas.core.frame.DataFrame'>\n",
      "RangeIndex: 1338 entries, 0 to 1337\n",
      "Data columns (total 11 columns):\n",
      " #   Column            Non-Null Count  Dtype  \n",
      "---  ------            --------------  -----  \n",
      " 0   age               1338 non-null   float32\n",
      " 1   bmi               1338 non-null   float64\n",
      " 2   children          1338 non-null   float32\n",
      " 3   sex_female        1338 non-null   bool   \n",
      " 4   sex_male          1338 non-null   bool   \n",
      " 5   smoker_no         1338 non-null   bool   \n",
      " 6   smoker_yes        1338 non-null   bool   \n",
      " 7   region_northeast  1338 non-null   bool   \n",
      " 8   region_northwest  1338 non-null   bool   \n",
      " 9   region_southeast  1338 non-null   bool   \n",
      " 10  region_southwest  1338 non-null   bool   \n",
      "dtypes: bool(8), float32(2), float64(1)\n",
      "memory usage: 31.5 KB\n"
     ]
    }
   ],
   "source": [
    "X.info()"
   ],
   "metadata": {
    "collapsed": false,
    "ExecuteTime": {
     "end_time": "2023-08-31T12:17:31.712383Z",
     "start_time": "2023-08-31T12:17:31.651222Z"
    }
   }
  },
  {
   "cell_type": "code",
   "execution_count": 107,
   "outputs": [
    {
     "ename": "TypeError",
     "evalue": "convert_column_to_type() got an unexpected keyword argument 'columns'",
     "output_type": "error",
     "traceback": [
      "\u001B[0;31m---------------------------------------------------------------------------\u001B[0m",
      "\u001B[0;31mTypeError\u001B[0m                                 Traceback (most recent call last)",
      "Cell \u001B[0;32mIn[107], line 4\u001B[0m\n\u001B[1;32m      1\u001B[0m \u001B[38;5;28;01mimport\u001B[39;00m \u001B[38;5;21;01mso_ml_tools\u001B[39;00m \u001B[38;5;28;01mas\u001B[39;00m \u001B[38;5;21;01msoml\u001B[39;00m\n\u001B[1;32m      3\u001B[0m \u001B[38;5;66;03m# int64 -> float32\u001B[39;00m\n\u001B[0;32m----> 4\u001B[0m \u001B[43msoml\u001B[49m\u001B[38;5;241;43m.\u001B[39;49m\u001B[43mpandas\u001B[49m\u001B[38;5;241;43m.\u001B[39;49m\u001B[43mdataframe\u001B[49m\u001B[38;5;241;43m.\u001B[39;49m\u001B[43mconvert_column_to_type\u001B[49m\u001B[43m(\u001B[49m\u001B[43mdataframe\u001B[49m\u001B[38;5;241;43m=\u001B[39;49m\u001B[43mX\u001B[49m\u001B[43m,\u001B[49m\u001B[43m \u001B[49m\u001B[43mcolumns\u001B[49m\u001B[38;5;241;43m=\u001B[39;49m\u001B[43m[\u001B[49m\u001B[38;5;124;43m'\u001B[39;49m\u001B[38;5;124;43mage\u001B[39;49m\u001B[38;5;124;43m'\u001B[39;49m\u001B[43m,\u001B[49m\u001B[43m \u001B[49m\u001B[38;5;124;43m'\u001B[39;49m\u001B[38;5;124;43mchildren\u001B[39;49m\u001B[38;5;124;43m'\u001B[39;49m\u001B[43m]\u001B[49m\u001B[43m,\u001B[49m\u001B[43m \u001B[49m\u001B[43mdtype\u001B[49m\u001B[38;5;241;43m=\u001B[39;49m\u001B[43mnp\u001B[49m\u001B[38;5;241;43m.\u001B[39;49m\u001B[43mfloat32\u001B[49m\u001B[43m)\u001B[49m\n\u001B[1;32m      6\u001B[0m \u001B[38;5;66;03m# bool -> float32\u001B[39;00m\n\u001B[1;32m      7\u001B[0m soml\u001B[38;5;241m.\u001B[39mpandas\u001B[38;5;241m.\u001B[39mdataframe\u001B[38;5;241m.\u001B[39mconvert_column_to_type(dataframe\u001B[38;5;241m=\u001B[39mX, columns\u001B[38;5;241m=\u001B[39m[\u001B[38;5;124m'\u001B[39m\u001B[38;5;124msex_female\u001B[39m\u001B[38;5;124m'\u001B[39m, \u001B[38;5;124m'\u001B[39m\u001B[38;5;124msex_male\u001B[39m\u001B[38;5;124m'\u001B[39m, \u001B[38;5;124m'\u001B[39m\u001B[38;5;124msmoker_no\u001B[39m\u001B[38;5;124m'\u001B[39m, \u001B[38;5;124m'\u001B[39m\u001B[38;5;124msmoker_yes\u001B[39m\u001B[38;5;124m'\u001B[39m, \u001B[38;5;124m'\u001B[39m\u001B[38;5;124mregion_northeast\u001B[39m\u001B[38;5;124m'\u001B[39m, \u001B[38;5;124m'\u001B[39m\u001B[38;5;124mregion_northwest\u001B[39m\u001B[38;5;124m'\u001B[39m, \u001B[38;5;124m'\u001B[39m\u001B[38;5;124mregion_southeast\u001B[39m\u001B[38;5;124m'\u001B[39m, \u001B[38;5;124m'\u001B[39m\u001B[38;5;124mregion_southwest\u001B[39m\u001B[38;5;124m'\u001B[39m], dtype\u001B[38;5;241m=\u001B[39mnp\u001B[38;5;241m.\u001B[39mfloat32)\n",
      "\u001B[0;31mTypeError\u001B[0m: convert_column_to_type() got an unexpected keyword argument 'columns'"
     ]
    }
   ],
   "source": [
    "import so_ml_tools as soml\n",
    "\n",
    "# int64 -> float32\n",
    "soml.pandas.dataframe.convert_column_to_type(dataframe=X, columns=['age', 'children'], dtype=np.float32)\n",
    "\n",
    "# bool -> float32\n",
    "soml.pandas.dataframe.convert_column_to_type(dataframe=X, columns=['sex_female', 'sex_male', 'smoker_no', 'smoker_yes', 'region_northeast', 'region_northwest', 'region_southeast', 'region_southwest'], dtype=np.float32)"
   ],
   "metadata": {
    "collapsed": false,
    "ExecuteTime": {
     "end_time": "2023-08-31T12:24:53.728223Z",
     "start_time": "2023-08-31T12:24:53.697111Z"
    }
   }
  },
  {
   "cell_type": "code",
   "source": [
    "# View X\n",
    "X.head()"
   ],
   "metadata": {
    "colab": {
     "base_uri": "https://localhost:8080/",
     "height": 201
    },
    "id": "JZ2-ybWFTxkq",
    "outputId": "3024921b-5586-445a-a6ab-bb15d50e3272",
    "ExecuteTime": {
     "end_time": "2023-08-31T12:24:57.728028Z",
     "start_time": "2023-08-31T12:24:57.686079Z"
    }
   },
   "execution_count": 108,
   "outputs": [
    {
     "data": {
      "text/plain": "    age     bmi  children  sex_female  sex_male  smoker_no  smoker_yes  \\\n0  19.0  27.900       0.0         1.0       0.0        0.0         1.0   \n1  18.0  33.770       1.0         0.0       1.0        1.0         0.0   \n2  28.0  33.000       3.0         0.0       1.0        1.0         0.0   \n3  33.0  22.705       0.0         0.0       1.0        1.0         0.0   \n4  32.0  28.880       0.0         0.0       1.0        1.0         0.0   \n\n   region_northeast  region_northwest  region_southeast  region_southwest  \n0               0.0               0.0               0.0               1.0  \n1               0.0               0.0               1.0               0.0  \n2               0.0               0.0               1.0               0.0  \n3               0.0               1.0               0.0               0.0  \n4               0.0               1.0               0.0               0.0  ",
      "text/html": "<div>\n<style scoped>\n    .dataframe tbody tr th:only-of-type {\n        vertical-align: middle;\n    }\n\n    .dataframe tbody tr th {\n        vertical-align: top;\n    }\n\n    .dataframe thead th {\n        text-align: right;\n    }\n</style>\n<table border=\"1\" class=\"dataframe\">\n  <thead>\n    <tr style=\"text-align: right;\">\n      <th></th>\n      <th>age</th>\n      <th>bmi</th>\n      <th>children</th>\n      <th>sex_female</th>\n      <th>sex_male</th>\n      <th>smoker_no</th>\n      <th>smoker_yes</th>\n      <th>region_northeast</th>\n      <th>region_northwest</th>\n      <th>region_southeast</th>\n      <th>region_southwest</th>\n    </tr>\n  </thead>\n  <tbody>\n    <tr>\n      <th>0</th>\n      <td>19.0</td>\n      <td>27.900</td>\n      <td>0.0</td>\n      <td>1.0</td>\n      <td>0.0</td>\n      <td>0.0</td>\n      <td>1.0</td>\n      <td>0.0</td>\n      <td>0.0</td>\n      <td>0.0</td>\n      <td>1.0</td>\n    </tr>\n    <tr>\n      <th>1</th>\n      <td>18.0</td>\n      <td>33.770</td>\n      <td>1.0</td>\n      <td>0.0</td>\n      <td>1.0</td>\n      <td>1.0</td>\n      <td>0.0</td>\n      <td>0.0</td>\n      <td>0.0</td>\n      <td>1.0</td>\n      <td>0.0</td>\n    </tr>\n    <tr>\n      <th>2</th>\n      <td>28.0</td>\n      <td>33.000</td>\n      <td>3.0</td>\n      <td>0.0</td>\n      <td>1.0</td>\n      <td>1.0</td>\n      <td>0.0</td>\n      <td>0.0</td>\n      <td>0.0</td>\n      <td>1.0</td>\n      <td>0.0</td>\n    </tr>\n    <tr>\n      <th>3</th>\n      <td>33.0</td>\n      <td>22.705</td>\n      <td>0.0</td>\n      <td>0.0</td>\n      <td>1.0</td>\n      <td>1.0</td>\n      <td>0.0</td>\n      <td>0.0</td>\n      <td>1.0</td>\n      <td>0.0</td>\n      <td>0.0</td>\n    </tr>\n    <tr>\n      <th>4</th>\n      <td>32.0</td>\n      <td>28.880</td>\n      <td>0.0</td>\n      <td>0.0</td>\n      <td>1.0</td>\n      <td>1.0</td>\n      <td>0.0</td>\n      <td>0.0</td>\n      <td>1.0</td>\n      <td>0.0</td>\n      <td>0.0</td>\n    </tr>\n  </tbody>\n</table>\n</div>"
     },
     "execution_count": 108,
     "metadata": {},
     "output_type": "execute_result"
    }
   ]
  },
  {
   "cell_type": "code",
   "source": [
    "# View y\n",
    "y.head()"
   ],
   "metadata": {
    "colab": {
     "base_uri": "https://localhost:8080/"
    },
    "id": "hnwf8B-8T3zV",
    "outputId": "fc00c759-7e88-4546-f9dc-e2adea0a5754",
    "ExecuteTime": {
     "end_time": "2023-08-31T12:24:59.555217Z",
     "start_time": "2023-08-31T12:24:59.502829Z"
    }
   },
   "execution_count": 109,
   "outputs": [
    {
     "data": {
      "text/plain": "0    16884.92400\n1     1725.55230\n2     4449.46200\n3    21984.47061\n4     3866.85520\nName: charges, dtype: float64"
     },
     "execution_count": 109,
     "metadata": {},
     "output_type": "execute_result"
    }
   ]
  },
  {
   "cell_type": "code",
   "source": [
    "# Create training and test sets\n",
    "from sklearn.model_selection import train_test_split\n",
    "X_train, X_test, y_train, y_test = train_test_split(X, y, test_size=0.20, random_state=42)\n",
    "len(X), len(X_train), len(X_test)"
   ],
   "metadata": {
    "colab": {
     "base_uri": "https://localhost:8080/"
    },
    "id": "ybgn9AaeTexl",
    "outputId": "7bafca56-f415-4830-b482-e915ee0db978",
    "ExecuteTime": {
     "end_time": "2023-08-31T12:25:15.320424Z",
     "start_time": "2023-08-31T12:25:15.279456Z"
    }
   },
   "execution_count": 110,
   "outputs": [
    {
     "data": {
      "text/plain": "(1338, 1070, 268)"
     },
     "execution_count": 110,
     "metadata": {},
     "output_type": "execute_result"
    }
   ]
  },
  {
   "cell_type": "code",
   "source": [
    "tf.random.set_seed(42)\n",
    "\n",
    "# Build a neural network (sort of like model_2 above)\n",
    "insurance_model = tf.keras.Sequential([\n",
    "    tf.keras.layers.Dense(20, input_shape=[11], activation='sigmoid'),\n",
    "    tf.keras.layers.Dropout(0.2),\n",
    "    tf.keras.layers.Dense(10, activation='relu'),\n",
    "    tf.keras.layers.Dropout(0.2),\n",
    "    tf.keras.layers.Dense(5, activation='relu'),\n",
    "    tf.keras.layers.Dense(1)\n",
    "])\n",
    "\n",
    "insurance_model.compile(loss=tf.keras.losses.mae,\n",
    "              optimizer=tf.keras.optimizers.Adam(learning_rate=0.01 ),\n",
    "              metrics=[\"mae\"])\n",
    "\n",
    "insurance_model.fit(x=X_train, y=y_train, epochs=250)"
   ],
   "metadata": {
    "id": "h25VXQpcTgpc",
    "colab": {
     "base_uri": "https://localhost:8080/"
    },
    "outputId": "41622dcc-3413-478c-ae78-f4a2d663b23c",
    "ExecuteTime": {
     "end_time": "2023-08-31T12:26:17.210045Z",
     "start_time": "2023-08-31T12:25:16.625158Z"
    }
   },
   "execution_count": 111,
   "outputs": [
    {
     "name": "stderr",
     "output_type": "stream",
     "text": [
      "WARNING:absl:At this time, the v2.11+ optimizer `tf.keras.optimizers.Adam` runs slowly on M1/M2 Macs, please use the legacy Keras optimizer instead, located at `tf.keras.optimizers.legacy.Adam`.\n",
      "WARNING:absl:There is a known slowdown when using v2.11+ Keras optimizers on M1/M2 Macs. Falling back to the legacy Keras optimizer, i.e., `tf.keras.optimizers.legacy.Adam`.\n"
     ]
    },
    {
     "name": "stdout",
     "output_type": "stream",
     "text": [
      "Epoch 1/250\n",
      "34/34 [==============================] - 1s 9ms/step - loss: 13340.6172 - mae: 13340.6172\n",
      "Epoch 2/250\n",
      "34/34 [==============================] - 0s 7ms/step - loss: 13260.9854 - mae: 13260.9854\n",
      "Epoch 3/250\n",
      "34/34 [==============================] - 0s 7ms/step - loss: 12850.1748 - mae: 12850.1748\n",
      "Epoch 4/250\n",
      "34/34 [==============================] - 0s 7ms/step - loss: 11682.0713 - mae: 11682.0713\n",
      "Epoch 5/250\n",
      "34/34 [==============================] - 0s 7ms/step - loss: 9899.0723 - mae: 9899.0723\n",
      "Epoch 6/250\n",
      "34/34 [==============================] - 0s 7ms/step - loss: 8670.2588 - mae: 8670.2588\n",
      "Epoch 7/250\n",
      "34/34 [==============================] - 0s 7ms/step - loss: 7895.0625 - mae: 7895.0625\n",
      "Epoch 8/250\n",
      "34/34 [==============================] - 0s 7ms/step - loss: 7484.5093 - mae: 7484.5093\n",
      "Epoch 9/250\n",
      "34/34 [==============================] - 0s 7ms/step - loss: 7115.6089 - mae: 7115.6089\n",
      "Epoch 10/250\n",
      "34/34 [==============================] - 0s 7ms/step - loss: 6713.6172 - mae: 6713.6172\n",
      "Epoch 11/250\n",
      "34/34 [==============================] - 0s 7ms/step - loss: 6243.3564 - mae: 6243.3564\n",
      "Epoch 12/250\n",
      "34/34 [==============================] - 0s 7ms/step - loss: 5730.1514 - mae: 5730.1514\n",
      "Epoch 13/250\n",
      "34/34 [==============================] - 0s 7ms/step - loss: 5277.1182 - mae: 5277.1182\n",
      "Epoch 14/250\n",
      "34/34 [==============================] - 0s 7ms/step - loss: 5015.2661 - mae: 5015.2661\n",
      "Epoch 15/250\n",
      "34/34 [==============================] - 0s 7ms/step - loss: 5030.5381 - mae: 5030.5381\n",
      "Epoch 16/250\n",
      "34/34 [==============================] - 0s 7ms/step - loss: 4692.7988 - mae: 4692.7988\n",
      "Epoch 17/250\n",
      "34/34 [==============================] - 0s 7ms/step - loss: 4728.7681 - mae: 4728.7681\n",
      "Epoch 18/250\n",
      "34/34 [==============================] - 0s 7ms/step - loss: 4499.9502 - mae: 4499.9502\n",
      "Epoch 19/250\n",
      "34/34 [==============================] - 0s 7ms/step - loss: 4369.9932 - mae: 4369.9932\n",
      "Epoch 20/250\n",
      "34/34 [==============================] - 0s 7ms/step - loss: 4550.4624 - mae: 4550.4624\n",
      "Epoch 21/250\n",
      "34/34 [==============================] - 0s 7ms/step - loss: 4391.5684 - mae: 4391.5684\n",
      "Epoch 22/250\n",
      "34/34 [==============================] - 0s 7ms/step - loss: 4489.9512 - mae: 4489.9512\n",
      "Epoch 23/250\n",
      "34/34 [==============================] - 0s 7ms/step - loss: 4389.2070 - mae: 4389.2070\n",
      "Epoch 24/250\n",
      "34/34 [==============================] - 0s 7ms/step - loss: 4420.5161 - mae: 4420.5161\n",
      "Epoch 25/250\n",
      "34/34 [==============================] - 0s 7ms/step - loss: 4248.8657 - mae: 4248.8657\n",
      "Epoch 26/250\n",
      "34/34 [==============================] - 0s 7ms/step - loss: 4298.1377 - mae: 4298.1377\n",
      "Epoch 27/250\n",
      "34/34 [==============================] - 0s 7ms/step - loss: 4205.2637 - mae: 4205.2637\n",
      "Epoch 28/250\n",
      "34/34 [==============================] - 0s 7ms/step - loss: 4176.9746 - mae: 4176.9746\n",
      "Epoch 29/250\n",
      "34/34 [==============================] - 0s 7ms/step - loss: 4195.3716 - mae: 4195.3716\n",
      "Epoch 30/250\n",
      "34/34 [==============================] - 0s 7ms/step - loss: 4091.8074 - mae: 4091.8074\n",
      "Epoch 31/250\n",
      "34/34 [==============================] - 0s 7ms/step - loss: 4004.8533 - mae: 4004.8533\n",
      "Epoch 32/250\n",
      "34/34 [==============================] - 0s 7ms/step - loss: 4158.1919 - mae: 4158.1919\n",
      "Epoch 33/250\n",
      "34/34 [==============================] - 0s 7ms/step - loss: 3999.9392 - mae: 3999.9392\n",
      "Epoch 34/250\n",
      "34/34 [==============================] - 0s 7ms/step - loss: 3965.2915 - mae: 3965.2915\n",
      "Epoch 35/250\n",
      "34/34 [==============================] - 0s 7ms/step - loss: 4049.8752 - mae: 4049.8752\n",
      "Epoch 36/250\n",
      "34/34 [==============================] - 0s 7ms/step - loss: 3940.9822 - mae: 3940.9822\n",
      "Epoch 37/250\n",
      "34/34 [==============================] - 0s 7ms/step - loss: 3917.4124 - mae: 3917.4124\n",
      "Epoch 38/250\n",
      "34/34 [==============================] - 0s 7ms/step - loss: 3961.1023 - mae: 3961.1023\n",
      "Epoch 39/250\n",
      "34/34 [==============================] - 0s 7ms/step - loss: 3936.3533 - mae: 3936.3533\n",
      "Epoch 40/250\n",
      "34/34 [==============================] - 0s 7ms/step - loss: 4031.3823 - mae: 4031.3823\n",
      "Epoch 41/250\n",
      "34/34 [==============================] - 0s 7ms/step - loss: 3935.4756 - mae: 3935.4756\n",
      "Epoch 42/250\n",
      "34/34 [==============================] - 0s 7ms/step - loss: 3835.1138 - mae: 3835.1138\n",
      "Epoch 43/250\n",
      "34/34 [==============================] - 0s 7ms/step - loss: 3898.7344 - mae: 3898.7344\n",
      "Epoch 44/250\n",
      "34/34 [==============================] - 0s 7ms/step - loss: 3843.3562 - mae: 3843.3562\n",
      "Epoch 45/250\n",
      "34/34 [==============================] - 0s 7ms/step - loss: 3795.0110 - mae: 3795.0110\n",
      "Epoch 46/250\n",
      "34/34 [==============================] - 0s 7ms/step - loss: 3724.1560 - mae: 3724.1560\n",
      "Epoch 47/250\n",
      "34/34 [==============================] - 0s 7ms/step - loss: 3819.6658 - mae: 3819.6658\n",
      "Epoch 48/250\n",
      "34/34 [==============================] - 0s 7ms/step - loss: 3815.5178 - mae: 3815.5178\n",
      "Epoch 49/250\n",
      "34/34 [==============================] - 0s 7ms/step - loss: 3676.8291 - mae: 3676.8291\n",
      "Epoch 50/250\n",
      "34/34 [==============================] - 0s 7ms/step - loss: 3636.4773 - mae: 3636.4773\n",
      "Epoch 51/250\n",
      "34/34 [==============================] - 0s 7ms/step - loss: 3773.5237 - mae: 3773.5237\n",
      "Epoch 52/250\n",
      "34/34 [==============================] - 0s 7ms/step - loss: 3532.7646 - mae: 3532.7646\n",
      "Epoch 53/250\n",
      "34/34 [==============================] - 0s 7ms/step - loss: 3589.4729 - mae: 3589.4729\n",
      "Epoch 54/250\n",
      "34/34 [==============================] - 0s 7ms/step - loss: 3435.8862 - mae: 3435.8862\n",
      "Epoch 55/250\n",
      "34/34 [==============================] - 0s 7ms/step - loss: 3482.7124 - mae: 3482.7124\n",
      "Epoch 56/250\n",
      "34/34 [==============================] - 0s 7ms/step - loss: 3443.4790 - mae: 3443.4790\n",
      "Epoch 57/250\n",
      "34/34 [==============================] - 0s 7ms/step - loss: 3527.4607 - mae: 3527.4607\n",
      "Epoch 58/250\n",
      "34/34 [==============================] - 0s 7ms/step - loss: 3496.4199 - mae: 3496.4199\n",
      "Epoch 59/250\n",
      "34/34 [==============================] - 0s 7ms/step - loss: 3252.1614 - mae: 3252.1614\n",
      "Epoch 60/250\n",
      "34/34 [==============================] - 0s 8ms/step - loss: 3570.2373 - mae: 3570.2373\n",
      "Epoch 61/250\n",
      "34/34 [==============================] - 0s 7ms/step - loss: 3419.8032 - mae: 3419.8032\n",
      "Epoch 62/250\n",
      "34/34 [==============================] - 0s 7ms/step - loss: 3335.3027 - mae: 3335.3027\n",
      "Epoch 63/250\n",
      "34/34 [==============================] - 0s 7ms/step - loss: 3421.2856 - mae: 3421.2856\n",
      "Epoch 64/250\n",
      "34/34 [==============================] - 0s 7ms/step - loss: 3300.9934 - mae: 3300.9934\n",
      "Epoch 65/250\n",
      "34/34 [==============================] - 0s 7ms/step - loss: 3253.2175 - mae: 3253.2175\n",
      "Epoch 66/250\n",
      "34/34 [==============================] - 0s 7ms/step - loss: 3234.6543 - mae: 3234.6543\n",
      "Epoch 67/250\n",
      "34/34 [==============================] - 0s 7ms/step - loss: 3672.7263 - mae: 3672.7263\n",
      "Epoch 68/250\n",
      "34/34 [==============================] - 0s 7ms/step - loss: 3259.5283 - mae: 3259.5283\n",
      "Epoch 69/250\n",
      "34/34 [==============================] - 0s 7ms/step - loss: 3241.3015 - mae: 3241.3015\n",
      "Epoch 70/250\n",
      "34/34 [==============================] - 0s 7ms/step - loss: 3488.2554 - mae: 3488.2554\n",
      "Epoch 71/250\n",
      "34/34 [==============================] - 0s 7ms/step - loss: 3523.1709 - mae: 3523.1709\n",
      "Epoch 72/250\n",
      "34/34 [==============================] - 0s 7ms/step - loss: 3311.4526 - mae: 3311.4526\n",
      "Epoch 73/250\n",
      "34/34 [==============================] - 0s 7ms/step - loss: 3227.6387 - mae: 3227.6387\n",
      "Epoch 74/250\n",
      "34/34 [==============================] - 0s 7ms/step - loss: 3082.6882 - mae: 3082.6882\n",
      "Epoch 75/250\n",
      "34/34 [==============================] - 0s 7ms/step - loss: 3111.6125 - mae: 3111.6125\n",
      "Epoch 76/250\n",
      "34/34 [==============================] - 0s 8ms/step - loss: 3188.7776 - mae: 3188.7776\n",
      "Epoch 77/250\n",
      "34/34 [==============================] - 0s 7ms/step - loss: 3132.1250 - mae: 3132.1250\n",
      "Epoch 78/250\n",
      "34/34 [==============================] - 0s 8ms/step - loss: 3102.9495 - mae: 3102.9495\n",
      "Epoch 79/250\n",
      "34/34 [==============================] - 0s 7ms/step - loss: 3117.9626 - mae: 3117.9626\n",
      "Epoch 80/250\n",
      "34/34 [==============================] - 0s 7ms/step - loss: 3113.0764 - mae: 3113.0764\n",
      "Epoch 81/250\n",
      "34/34 [==============================] - 0s 7ms/step - loss: 3056.2000 - mae: 3056.2000\n",
      "Epoch 82/250\n",
      "34/34 [==============================] - 0s 7ms/step - loss: 3098.5859 - mae: 3098.5859\n",
      "Epoch 83/250\n",
      "34/34 [==============================] - 0s 7ms/step - loss: 3129.3494 - mae: 3129.3494\n",
      "Epoch 84/250\n",
      "34/34 [==============================] - 0s 7ms/step - loss: 3015.7715 - mae: 3015.7715\n",
      "Epoch 85/250\n",
      "34/34 [==============================] - 0s 7ms/step - loss: 3032.5640 - mae: 3032.5640\n",
      "Epoch 86/250\n",
      "34/34 [==============================] - 0s 7ms/step - loss: 3032.1860 - mae: 3032.1860\n",
      "Epoch 87/250\n",
      "34/34 [==============================] - 0s 7ms/step - loss: 3030.6880 - mae: 3030.6880\n",
      "Epoch 88/250\n",
      "34/34 [==============================] - 0s 7ms/step - loss: 3046.6951 - mae: 3046.6951\n",
      "Epoch 89/250\n",
      "34/34 [==============================] - 0s 7ms/step - loss: 2879.1721 - mae: 2879.1721\n",
      "Epoch 90/250\n",
      "34/34 [==============================] - 0s 7ms/step - loss: 2981.5442 - mae: 2981.5442\n",
      "Epoch 91/250\n",
      "34/34 [==============================] - 0s 7ms/step - loss: 2860.4712 - mae: 2860.4712\n",
      "Epoch 92/250\n",
      "34/34 [==============================] - 0s 7ms/step - loss: 3029.7925 - mae: 3029.7925\n",
      "Epoch 93/250\n",
      "34/34 [==============================] - 0s 7ms/step - loss: 2912.6292 - mae: 2912.6292\n",
      "Epoch 94/250\n",
      "34/34 [==============================] - 0s 7ms/step - loss: 2975.2148 - mae: 2975.2148\n",
      "Epoch 95/250\n",
      "34/34 [==============================] - 0s 7ms/step - loss: 3056.1829 - mae: 3056.1829\n",
      "Epoch 96/250\n",
      "34/34 [==============================] - 0s 7ms/step - loss: 2977.4883 - mae: 2977.4883\n",
      "Epoch 97/250\n",
      "34/34 [==============================] - 0s 7ms/step - loss: 2900.4907 - mae: 2900.4907\n",
      "Epoch 98/250\n",
      "34/34 [==============================] - 0s 7ms/step - loss: 2813.5142 - mae: 2813.5142\n",
      "Epoch 99/250\n",
      "34/34 [==============================] - 0s 7ms/step - loss: 2856.4758 - mae: 2856.4758\n",
      "Epoch 100/250\n",
      "34/34 [==============================] - 0s 7ms/step - loss: 2953.2881 - mae: 2953.2881\n",
      "Epoch 101/250\n",
      "34/34 [==============================] - 0s 7ms/step - loss: 2931.1262 - mae: 2931.1262\n",
      "Epoch 102/250\n",
      "34/34 [==============================] - 0s 7ms/step - loss: 2949.0139 - mae: 2949.0139\n",
      "Epoch 103/250\n",
      "34/34 [==============================] - 0s 7ms/step - loss: 2857.6169 - mae: 2857.6169\n",
      "Epoch 104/250\n",
      "34/34 [==============================] - 0s 7ms/step - loss: 2878.5884 - mae: 2878.5884\n",
      "Epoch 105/250\n",
      "34/34 [==============================] - 0s 7ms/step - loss: 2845.6936 - mae: 2845.6936\n",
      "Epoch 106/250\n",
      "34/34 [==============================] - 0s 7ms/step - loss: 2960.4980 - mae: 2960.4980\n",
      "Epoch 107/250\n",
      "34/34 [==============================] - 0s 7ms/step - loss: 2862.7239 - mae: 2862.7239\n",
      "Epoch 108/250\n",
      "34/34 [==============================] - 0s 7ms/step - loss: 3029.1555 - mae: 3029.1555\n",
      "Epoch 109/250\n",
      "34/34 [==============================] - 0s 7ms/step - loss: 2951.9634 - mae: 2951.9634\n",
      "Epoch 110/250\n",
      "34/34 [==============================] - 0s 7ms/step - loss: 3029.9521 - mae: 3029.9521\n",
      "Epoch 111/250\n",
      "34/34 [==============================] - 0s 7ms/step - loss: 2942.6785 - mae: 2942.6785\n",
      "Epoch 112/250\n",
      "34/34 [==============================] - 0s 7ms/step - loss: 2796.4983 - mae: 2796.4983\n",
      "Epoch 113/250\n",
      "34/34 [==============================] - 0s 7ms/step - loss: 2839.7000 - mae: 2839.7000\n",
      "Epoch 114/250\n",
      "34/34 [==============================] - 0s 7ms/step - loss: 2902.7212 - mae: 2902.7212\n",
      "Epoch 115/250\n",
      "34/34 [==============================] - 0s 7ms/step - loss: 2791.3228 - mae: 2791.3228\n",
      "Epoch 116/250\n",
      "34/34 [==============================] - 0s 7ms/step - loss: 2812.9121 - mae: 2812.9121\n",
      "Epoch 117/250\n",
      "34/34 [==============================] - 0s 7ms/step - loss: 2877.9958 - mae: 2877.9958\n",
      "Epoch 118/250\n",
      "34/34 [==============================] - 0s 7ms/step - loss: 2874.0620 - mae: 2874.0620\n",
      "Epoch 119/250\n",
      "34/34 [==============================] - 0s 7ms/step - loss: 2846.5259 - mae: 2846.5259\n",
      "Epoch 120/250\n",
      "34/34 [==============================] - 0s 7ms/step - loss: 2888.5720 - mae: 2888.5720\n",
      "Epoch 121/250\n",
      "34/34 [==============================] - 0s 7ms/step - loss: 2816.7727 - mae: 2816.7727\n",
      "Epoch 122/250\n",
      "34/34 [==============================] - 0s 7ms/step - loss: 2811.2031 - mae: 2811.2031\n",
      "Epoch 123/250\n",
      "34/34 [==============================] - 0s 7ms/step - loss: 2812.5139 - mae: 2812.5139\n",
      "Epoch 124/250\n",
      "34/34 [==============================] - 0s 7ms/step - loss: 2741.9836 - mae: 2741.9836\n",
      "Epoch 125/250\n",
      "34/34 [==============================] - 0s 7ms/step - loss: 2688.3137 - mae: 2688.3137\n",
      "Epoch 126/250\n",
      "34/34 [==============================] - 0s 7ms/step - loss: 2789.2979 - mae: 2789.2979\n",
      "Epoch 127/250\n",
      "34/34 [==============================] - 0s 7ms/step - loss: 2784.7961 - mae: 2784.7961\n",
      "Epoch 128/250\n",
      "34/34 [==============================] - 0s 7ms/step - loss: 2775.9712 - mae: 2775.9712\n",
      "Epoch 129/250\n",
      "34/34 [==============================] - 0s 7ms/step - loss: 2657.0981 - mae: 2657.0981\n",
      "Epoch 130/250\n",
      "34/34 [==============================] - 0s 7ms/step - loss: 2770.0776 - mae: 2770.0776\n",
      "Epoch 131/250\n",
      "34/34 [==============================] - 0s 7ms/step - loss: 2720.3250 - mae: 2720.3250\n",
      "Epoch 132/250\n",
      "34/34 [==============================] - 0s 7ms/step - loss: 2710.9111 - mae: 2710.9111\n",
      "Epoch 133/250\n",
      "34/34 [==============================] - 0s 7ms/step - loss: 2740.7778 - mae: 2740.7778\n",
      "Epoch 134/250\n",
      "34/34 [==============================] - 0s 7ms/step - loss: 2675.2256 - mae: 2675.2256\n",
      "Epoch 135/250\n",
      "34/34 [==============================] - 0s 7ms/step - loss: 2670.3396 - mae: 2670.3396\n",
      "Epoch 136/250\n",
      "34/34 [==============================] - 0s 7ms/step - loss: 2769.9109 - mae: 2769.9109\n",
      "Epoch 137/250\n",
      "34/34 [==============================] - 0s 7ms/step - loss: 2704.8257 - mae: 2704.8257\n",
      "Epoch 138/250\n",
      "34/34 [==============================] - 0s 7ms/step - loss: 2664.6355 - mae: 2664.6355\n",
      "Epoch 139/250\n",
      "34/34 [==============================] - 0s 7ms/step - loss: 2607.2949 - mae: 2607.2949\n",
      "Epoch 140/250\n",
      "34/34 [==============================] - 0s 6ms/step - loss: 2774.0261 - mae: 2774.0261\n",
      "Epoch 141/250\n",
      "34/34 [==============================] - 0s 7ms/step - loss: 2730.7883 - mae: 2730.7883\n",
      "Epoch 142/250\n",
      "34/34 [==============================] - 0s 7ms/step - loss: 2628.8147 - mae: 2628.8147\n",
      "Epoch 143/250\n",
      "34/34 [==============================] - 0s 7ms/step - loss: 2739.2839 - mae: 2739.2839\n",
      "Epoch 144/250\n",
      "34/34 [==============================] - 0s 7ms/step - loss: 2616.9724 - mae: 2616.9724\n",
      "Epoch 145/250\n",
      "34/34 [==============================] - 0s 7ms/step - loss: 2677.9482 - mae: 2677.9482\n",
      "Epoch 146/250\n",
      "34/34 [==============================] - 0s 7ms/step - loss: 2585.0505 - mae: 2585.0505\n",
      "Epoch 147/250\n",
      "34/34 [==============================] - 0s 7ms/step - loss: 2648.4014 - mae: 2648.4014\n",
      "Epoch 148/250\n",
      "34/34 [==============================] - 0s 7ms/step - loss: 2561.5918 - mae: 2561.5918\n",
      "Epoch 149/250\n",
      "34/34 [==============================] - 0s 7ms/step - loss: 2534.5825 - mae: 2534.5825\n",
      "Epoch 150/250\n",
      "34/34 [==============================] - 0s 7ms/step - loss: 2542.5190 - mae: 2542.5190\n",
      "Epoch 151/250\n",
      "34/34 [==============================] - 0s 7ms/step - loss: 2629.7708 - mae: 2629.7708\n",
      "Epoch 152/250\n",
      "34/34 [==============================] - 0s 7ms/step - loss: 2597.2058 - mae: 2597.2058\n",
      "Epoch 153/250\n",
      "34/34 [==============================] - 0s 7ms/step - loss: 2661.3342 - mae: 2661.3342\n",
      "Epoch 154/250\n",
      "34/34 [==============================] - 0s 7ms/step - loss: 2631.9980 - mae: 2631.9980\n",
      "Epoch 155/250\n",
      "34/34 [==============================] - 0s 7ms/step - loss: 2542.3560 - mae: 2542.3560\n",
      "Epoch 156/250\n",
      "34/34 [==============================] - 0s 7ms/step - loss: 2691.7488 - mae: 2691.7488\n",
      "Epoch 157/250\n",
      "34/34 [==============================] - 0s 7ms/step - loss: 2772.3445 - mae: 2772.3445\n",
      "Epoch 158/250\n",
      "34/34 [==============================] - 0s 7ms/step - loss: 2607.6299 - mae: 2607.6299\n",
      "Epoch 159/250\n",
      "34/34 [==============================] - 0s 7ms/step - loss: 2624.0554 - mae: 2624.0554\n",
      "Epoch 160/250\n",
      "34/34 [==============================] - 0s 7ms/step - loss: 2561.7869 - mae: 2561.7869\n",
      "Epoch 161/250\n",
      "34/34 [==============================] - 0s 7ms/step - loss: 2597.2437 - mae: 2597.2437\n",
      "Epoch 162/250\n",
      "34/34 [==============================] - 0s 7ms/step - loss: 2611.1594 - mae: 2611.1594\n",
      "Epoch 163/250\n",
      "34/34 [==============================] - 0s 7ms/step - loss: 2612.7903 - mae: 2612.7903\n",
      "Epoch 164/250\n",
      "34/34 [==============================] - 0s 7ms/step - loss: 2629.2070 - mae: 2629.2070\n",
      "Epoch 165/250\n",
      "34/34 [==============================] - 0s 7ms/step - loss: 2370.5034 - mae: 2370.5034\n",
      "Epoch 166/250\n",
      "34/34 [==============================] - 0s 7ms/step - loss: 2625.4568 - mae: 2625.4568\n",
      "Epoch 167/250\n",
      "34/34 [==============================] - 0s 7ms/step - loss: 2553.6467 - mae: 2553.6467\n",
      "Epoch 168/250\n",
      "34/34 [==============================] - 0s 7ms/step - loss: 2544.9866 - mae: 2544.9866\n",
      "Epoch 169/250\n",
      "34/34 [==============================] - 0s 7ms/step - loss: 2631.1545 - mae: 2631.1545\n",
      "Epoch 170/250\n",
      "34/34 [==============================] - 0s 7ms/step - loss: 2598.9629 - mae: 2598.9629\n",
      "Epoch 171/250\n",
      "34/34 [==============================] - 0s 7ms/step - loss: 2462.3584 - mae: 2462.3584\n",
      "Epoch 172/250\n",
      "34/34 [==============================] - 0s 7ms/step - loss: 2598.4385 - mae: 2598.4385\n",
      "Epoch 173/250\n",
      "34/34 [==============================] - 0s 7ms/step - loss: 2591.7070 - mae: 2591.7070\n",
      "Epoch 174/250\n",
      "34/34 [==============================] - 0s 7ms/step - loss: 2478.3098 - mae: 2478.3098\n",
      "Epoch 175/250\n",
      "34/34 [==============================] - 0s 7ms/step - loss: 2438.2485 - mae: 2438.2485\n",
      "Epoch 176/250\n",
      "34/34 [==============================] - 0s 7ms/step - loss: 2627.4568 - mae: 2627.4568\n",
      "Epoch 177/250\n",
      "34/34 [==============================] - 0s 7ms/step - loss: 2484.8955 - mae: 2484.8955\n",
      "Epoch 178/250\n",
      "34/34 [==============================] - 0s 7ms/step - loss: 2490.8689 - mae: 2490.8689\n",
      "Epoch 179/250\n",
      "34/34 [==============================] - 0s 7ms/step - loss: 2403.6248 - mae: 2403.6248\n",
      "Epoch 180/250\n",
      "34/34 [==============================] - 0s 7ms/step - loss: 2472.7637 - mae: 2472.7637\n",
      "Epoch 181/250\n",
      "34/34 [==============================] - 0s 7ms/step - loss: 2470.7327 - mae: 2470.7327\n",
      "Epoch 182/250\n",
      "34/34 [==============================] - 0s 7ms/step - loss: 2486.7126 - mae: 2486.7126\n",
      "Epoch 183/250\n",
      "34/34 [==============================] - 0s 7ms/step - loss: 2432.0566 - mae: 2432.0566\n",
      "Epoch 184/250\n",
      "34/34 [==============================] - 0s 7ms/step - loss: 2549.2297 - mae: 2549.2297\n",
      "Epoch 185/250\n",
      "34/34 [==============================] - 0s 7ms/step - loss: 2553.9485 - mae: 2553.9485\n",
      "Epoch 186/250\n",
      "34/34 [==============================] - 0s 7ms/step - loss: 2466.8281 - mae: 2466.8281\n",
      "Epoch 187/250\n",
      "34/34 [==============================] - 0s 7ms/step - loss: 2532.2102 - mae: 2532.2102\n",
      "Epoch 188/250\n",
      "34/34 [==============================] - 0s 7ms/step - loss: 2585.7056 - mae: 2585.7056\n",
      "Epoch 189/250\n",
      "34/34 [==============================] - 0s 7ms/step - loss: 2372.3501 - mae: 2372.3501\n",
      "Epoch 190/250\n",
      "34/34 [==============================] - 0s 7ms/step - loss: 2518.8379 - mae: 2518.8379\n",
      "Epoch 191/250\n",
      "34/34 [==============================] - 0s 7ms/step - loss: 2464.7236 - mae: 2464.7236\n",
      "Epoch 192/250\n",
      "34/34 [==============================] - 0s 7ms/step - loss: 2404.4124 - mae: 2404.4124\n",
      "Epoch 193/250\n",
      "34/34 [==============================] - 0s 8ms/step - loss: 2355.9614 - mae: 2355.9614\n",
      "Epoch 194/250\n",
      "34/34 [==============================] - 0s 7ms/step - loss: 2386.6128 - mae: 2386.6128\n",
      "Epoch 195/250\n",
      "34/34 [==============================] - 0s 7ms/step - loss: 2489.8115 - mae: 2489.8115\n",
      "Epoch 196/250\n",
      "34/34 [==============================] - 0s 7ms/step - loss: 2498.8708 - mae: 2498.8708\n",
      "Epoch 197/250\n",
      "34/34 [==============================] - 0s 7ms/step - loss: 2462.1887 - mae: 2462.1887\n",
      "Epoch 198/250\n",
      "34/34 [==============================] - 0s 7ms/step - loss: 2503.7266 - mae: 2503.7266\n",
      "Epoch 199/250\n",
      "34/34 [==============================] - 0s 8ms/step - loss: 2465.0452 - mae: 2465.0452\n",
      "Epoch 200/250\n",
      "34/34 [==============================] - 0s 7ms/step - loss: 2499.7368 - mae: 2499.7368\n",
      "Epoch 201/250\n",
      "34/34 [==============================] - 0s 7ms/step - loss: 2557.7493 - mae: 2557.7493\n",
      "Epoch 202/250\n",
      "34/34 [==============================] - 0s 8ms/step - loss: 2380.6304 - mae: 2380.6304\n",
      "Epoch 203/250\n",
      "34/34 [==============================] - 0s 7ms/step - loss: 2411.3145 - mae: 2411.3145\n",
      "Epoch 204/250\n",
      "34/34 [==============================] - 0s 7ms/step - loss: 2558.2156 - mae: 2558.2156\n",
      "Epoch 205/250\n",
      "34/34 [==============================] - 0s 7ms/step - loss: 2516.7839 - mae: 2516.7839\n",
      "Epoch 206/250\n",
      "34/34 [==============================] - 0s 7ms/step - loss: 2493.0315 - mae: 2493.0315\n",
      "Epoch 207/250\n",
      "34/34 [==============================] - 0s 8ms/step - loss: 2466.3240 - mae: 2466.3240\n",
      "Epoch 208/250\n",
      "34/34 [==============================] - 0s 8ms/step - loss: 2434.8660 - mae: 2434.8660\n",
      "Epoch 209/250\n",
      "34/34 [==============================] - 0s 8ms/step - loss: 2415.1909 - mae: 2415.1909\n",
      "Epoch 210/250\n",
      "34/34 [==============================] - 0s 7ms/step - loss: 2439.9895 - mae: 2439.9895\n",
      "Epoch 211/250\n",
      "34/34 [==============================] - 0s 7ms/step - loss: 2448.6775 - mae: 2448.6775\n",
      "Epoch 212/250\n",
      "34/34 [==============================] - 0s 7ms/step - loss: 2463.2173 - mae: 2463.2173\n",
      "Epoch 213/250\n",
      "34/34 [==============================] - 0s 7ms/step - loss: 2400.7473 - mae: 2400.7473\n",
      "Epoch 214/250\n",
      "34/34 [==============================] - 0s 7ms/step - loss: 2397.8315 - mae: 2397.8315\n",
      "Epoch 215/250\n",
      "34/34 [==============================] - 0s 7ms/step - loss: 2402.4009 - mae: 2402.4009\n",
      "Epoch 216/250\n",
      "34/34 [==============================] - 0s 7ms/step - loss: 2506.5586 - mae: 2506.5586\n",
      "Epoch 217/250\n",
      "34/34 [==============================] - 0s 7ms/step - loss: 2421.9453 - mae: 2421.9453\n",
      "Epoch 218/250\n",
      "34/34 [==============================] - 0s 7ms/step - loss: 2396.4924 - mae: 2396.4924\n",
      "Epoch 219/250\n",
      "34/34 [==============================] - 0s 7ms/step - loss: 2480.1406 - mae: 2480.1406\n",
      "Epoch 220/250\n",
      "34/34 [==============================] - 0s 7ms/step - loss: 2444.0896 - mae: 2444.0896\n",
      "Epoch 221/250\n",
      "34/34 [==============================] - 0s 7ms/step - loss: 2444.5942 - mae: 2444.5942\n",
      "Epoch 222/250\n",
      "34/34 [==============================] - 0s 7ms/step - loss: 2454.3506 - mae: 2454.3506\n",
      "Epoch 223/250\n",
      "34/34 [==============================] - 0s 7ms/step - loss: 2338.5562 - mae: 2338.5562\n",
      "Epoch 224/250\n",
      "34/34 [==============================] - 0s 7ms/step - loss: 2377.6633 - mae: 2377.6633\n",
      "Epoch 225/250\n",
      "34/34 [==============================] - 0s 7ms/step - loss: 2371.0071 - mae: 2371.0071\n",
      "Epoch 226/250\n",
      "34/34 [==============================] - 0s 7ms/step - loss: 2448.7803 - mae: 2448.7803\n",
      "Epoch 227/250\n",
      "34/34 [==============================] - 0s 7ms/step - loss: 2387.8870 - mae: 2387.8870\n",
      "Epoch 228/250\n",
      "34/34 [==============================] - 0s 7ms/step - loss: 2402.4126 - mae: 2402.4126\n",
      "Epoch 229/250\n",
      "34/34 [==============================] - 0s 7ms/step - loss: 2365.8762 - mae: 2365.8762\n",
      "Epoch 230/250\n",
      "34/34 [==============================] - 0s 7ms/step - loss: 2395.3035 - mae: 2395.3035\n",
      "Epoch 231/250\n",
      "34/34 [==============================] - 0s 7ms/step - loss: 2415.5642 - mae: 2415.5642\n",
      "Epoch 232/250\n",
      "34/34 [==============================] - 0s 7ms/step - loss: 2339.5896 - mae: 2339.5896\n",
      "Epoch 233/250\n",
      "34/34 [==============================] - 0s 6ms/step - loss: 2511.6440 - mae: 2511.6440\n",
      "Epoch 234/250\n",
      "34/34 [==============================] - 0s 7ms/step - loss: 2287.2295 - mae: 2287.2295\n",
      "Epoch 235/250\n",
      "34/34 [==============================] - 0s 8ms/step - loss: 2413.8899 - mae: 2413.8899\n",
      "Epoch 236/250\n",
      "34/34 [==============================] - 0s 8ms/step - loss: 2439.9099 - mae: 2439.9099\n",
      "Epoch 237/250\n",
      "34/34 [==============================] - 0s 8ms/step - loss: 2460.4673 - mae: 2460.4673\n",
      "Epoch 238/250\n",
      "34/34 [==============================] - 0s 7ms/step - loss: 2364.8240 - mae: 2364.8240\n",
      "Epoch 239/250\n",
      "34/34 [==============================] - 0s 7ms/step - loss: 2484.0095 - mae: 2484.0095\n",
      "Epoch 240/250\n",
      "34/34 [==============================] - 0s 7ms/step - loss: 2429.9700 - mae: 2429.9700\n",
      "Epoch 241/250\n",
      "34/34 [==============================] - 0s 7ms/step - loss: 2414.3198 - mae: 2414.3198\n",
      "Epoch 242/250\n",
      "34/34 [==============================] - 0s 7ms/step - loss: 2360.6582 - mae: 2360.6582\n",
      "Epoch 243/250\n",
      "34/34 [==============================] - 0s 8ms/step - loss: 2375.6519 - mae: 2375.6519\n",
      "Epoch 244/250\n",
      "34/34 [==============================] - 0s 7ms/step - loss: 2369.2126 - mae: 2369.2126\n",
      "Epoch 245/250\n",
      "34/34 [==============================] - 0s 8ms/step - loss: 2292.5286 - mae: 2292.5286\n",
      "Epoch 246/250\n",
      "34/34 [==============================] - 0s 7ms/step - loss: 2327.7549 - mae: 2327.7549\n",
      "Epoch 247/250\n",
      "34/34 [==============================] - 0s 8ms/step - loss: 2346.7942 - mae: 2346.7942\n",
      "Epoch 248/250\n",
      "34/34 [==============================] - 0s 8ms/step - loss: 2231.1357 - mae: 2231.1357\n",
      "Epoch 249/250\n",
      "34/34 [==============================] - 0s 7ms/step - loss: 2287.7629 - mae: 2287.7629\n",
      "Epoch 250/250\n",
      "34/34 [==============================] - 0s 7ms/step - loss: 2393.1140 - mae: 2393.1140\n"
     ]
    },
    {
     "data": {
      "text/plain": "<keras.callbacks.History at 0x2e09fb8b0>"
     },
     "execution_count": 111,
     "metadata": {},
     "output_type": "execute_result"
    }
   ]
  },
  {
   "cell_type": "code",
   "source": [
    "# Check the results of the insurance model on the test data\n",
    "insurance_model.evaluate(X_test, y_test)"
   ],
   "metadata": {
    "colab": {
     "base_uri": "https://localhost:8080/"
    },
    "id": "EMYj09bxta9j",
    "outputId": "3b90d9aa-c967-4ad2-cc62-fcc2ab64634d",
    "ExecuteTime": {
     "end_time": "2023-08-31T12:35:23.093024Z",
     "start_time": "2023-08-31T12:35:22.813765Z"
    }
   },
   "execution_count": 112,
   "outputs": [
    {
     "name": "stdout",
     "output_type": "stream",
     "text": [
      "9/9 [==============================] - 0s 18ms/step - loss: 3592.5193 - mae: 3592.5193\n"
     ]
    },
    {
     "data": {
      "text/plain": "[3592.519287109375, 3592.519287109375]"
     },
     "execution_count": 112,
     "metadata": {},
     "output_type": "execute_result"
    }
   ]
  },
  {
   "cell_type": "code",
   "source": [
    "y_train.median(), y_train.mean()"
   ],
   "metadata": {
    "colab": {
     "base_uri": "https://localhost:8080/"
    },
    "id": "7do2SGkFt4zm",
    "outputId": "91ad046f-b8af-4dc3-c0b9-6228d2bd9138",
    "ExecuteTime": {
     "end_time": "2023-08-31T12:35:24.756182Z",
     "start_time": "2023-08-31T12:35:24.711476Z"
    }
   },
   "execution_count": 113,
   "outputs": [
    {
     "data": {
      "text/plain": "(9575.4421, 13346.089736364485)"
     },
     "execution_count": 113,
     "metadata": {},
     "output_type": "execute_result"
    }
   ]
  },
  {
   "cell_type": "markdown",
   "source": [
    "Right now it looks like our model isn't performing too well... Let's try to improve it."
   ],
   "metadata": {
    "id": "pvcgC92Lu0Kd"
   }
  },
  {
   "cell_type": "markdown",
   "source": [
    "Right now it looks like our model isn't performing to weel, let's try and improve it!\n",
    "\n",
    "to (try) improve out model we'll run 2 experiments:\n",
    "\n",
    "1. Add an extra layer with more hidden units\n",
    "2. Use the Adam optimizer.\n",
    "2. Train for longer"
   ],
   "metadata": {
    "id": "3tTBX1eGu6VQ"
   }
  },
  {
   "cell_type": "code",
   "source": [
    "# Set reandom seed\n",
    "tf.random.set_seed(42)\n",
    "\n",
    "# Build the model\n",
    "insurance_model_2 = tf.keras.Sequential([\n",
    "    tf.keras.layers.Dense(100, input_shape=[11]),\n",
    "    tf.keras.layers.Dense(10),\n",
    "    tf.keras.layers.Dense(1)\n",
    "])\n",
    "\n",
    "insurance_model_2.compile(loss=tf.keras.losses.mae,\n",
    "              optimizer=tf.keras.optimizers.Adam(),\n",
    "              metrics=[\"mae\"])\n",
    "\n",
    "insurance_model_2.fit(X_train,y_train, epochs=100)"
   ],
   "metadata": {
    "id": "d5LLia7OP6rQ",
    "ExecuteTime": {
     "end_time": "2023-08-31T12:35:47.795982Z",
     "start_time": "2023-08-31T12:35:27.718070Z"
    }
   },
   "execution_count": 114,
   "outputs": [
    {
     "name": "stderr",
     "output_type": "stream",
     "text": [
      "WARNING:absl:At this time, the v2.11+ optimizer `tf.keras.optimizers.Adam` runs slowly on M1/M2 Macs, please use the legacy Keras optimizer instead, located at `tf.keras.optimizers.legacy.Adam`.\n",
      "WARNING:absl:There is a known slowdown when using v2.11+ Keras optimizers on M1/M2 Macs. Falling back to the legacy Keras optimizer, i.e., `tf.keras.optimizers.legacy.Adam`.\n"
     ]
    },
    {
     "name": "stdout",
     "output_type": "stream",
     "text": [
      "Epoch 1/100\n",
      "34/34 [==============================] - 0s 7ms/step - loss: 13266.3926 - mae: 13266.3926\n",
      "Epoch 2/100\n",
      "34/34 [==============================] - 0s 6ms/step - loss: 13091.4160 - mae: 13091.4160\n",
      "Epoch 3/100\n",
      "34/34 [==============================] - 0s 6ms/step - loss: 12718.5830 - mae: 12718.5830\n",
      "Epoch 4/100\n",
      "34/34 [==============================] - 0s 6ms/step - loss: 11995.5791 - mae: 11995.5791\n",
      "Epoch 5/100\n",
      "34/34 [==============================] - 0s 6ms/step - loss: 10820.5703 - mae: 10820.5703\n",
      "Epoch 6/100\n",
      "34/34 [==============================] - 0s 6ms/step - loss: 9375.2002 - mae: 9375.2002\n",
      "Epoch 7/100\n",
      "34/34 [==============================] - 0s 5ms/step - loss: 8100.6084 - mae: 8100.6084\n",
      "Epoch 8/100\n",
      "34/34 [==============================] - 0s 6ms/step - loss: 7527.1885 - mae: 7527.1885\n",
      "Epoch 9/100\n",
      "34/34 [==============================] - 0s 6ms/step - loss: 7437.2256 - mae: 7437.2256\n",
      "Epoch 10/100\n",
      "34/34 [==============================] - 0s 6ms/step - loss: 7417.6196 - mae: 7417.6196\n",
      "Epoch 11/100\n",
      "34/34 [==============================] - 0s 6ms/step - loss: 7398.6758 - mae: 7398.6758\n",
      "Epoch 12/100\n",
      "34/34 [==============================] - 0s 6ms/step - loss: 7376.3301 - mae: 7376.3301\n",
      "Epoch 13/100\n",
      "34/34 [==============================] - 0s 6ms/step - loss: 7355.7466 - mae: 7355.7466\n",
      "Epoch 14/100\n",
      "34/34 [==============================] - 0s 6ms/step - loss: 7333.0093 - mae: 7333.0093\n",
      "Epoch 15/100\n",
      "34/34 [==============================] - 0s 6ms/step - loss: 7313.6719 - mae: 7313.6719\n",
      "Epoch 16/100\n",
      "34/34 [==============================] - 0s 6ms/step - loss: 7291.1865 - mae: 7291.1865\n",
      "Epoch 17/100\n",
      "34/34 [==============================] - 0s 6ms/step - loss: 7270.6929 - mae: 7270.6929\n",
      "Epoch 18/100\n",
      "34/34 [==============================] - 0s 7ms/step - loss: 7246.8560 - mae: 7246.8560\n",
      "Epoch 19/100\n",
      "34/34 [==============================] - 0s 6ms/step - loss: 7224.0288 - mae: 7224.0288\n",
      "Epoch 20/100\n",
      "34/34 [==============================] - 0s 6ms/step - loss: 7200.1089 - mae: 7200.1089\n",
      "Epoch 21/100\n",
      "34/34 [==============================] - 0s 6ms/step - loss: 7180.7563 - mae: 7180.7563\n",
      "Epoch 22/100\n",
      "34/34 [==============================] - 0s 6ms/step - loss: 7152.5464 - mae: 7152.5464\n",
      "Epoch 23/100\n",
      "34/34 [==============================] - 0s 6ms/step - loss: 7126.8169 - mae: 7126.8169\n",
      "Epoch 24/100\n",
      "34/34 [==============================] - 0s 6ms/step - loss: 7101.5547 - mae: 7101.5547\n",
      "Epoch 25/100\n",
      "34/34 [==============================] - 0s 6ms/step - loss: 7082.2900 - mae: 7082.2900\n",
      "Epoch 26/100\n",
      "34/34 [==============================] - 0s 6ms/step - loss: 7050.2368 - mae: 7050.2368\n",
      "Epoch 27/100\n",
      "34/34 [==============================] - 0s 6ms/step - loss: 7020.6826 - mae: 7020.6826\n",
      "Epoch 28/100\n",
      "34/34 [==============================] - 0s 6ms/step - loss: 6991.7656 - mae: 6991.7656\n",
      "Epoch 29/100\n",
      "34/34 [==============================] - 0s 6ms/step - loss: 6963.0913 - mae: 6963.0913\n",
      "Epoch 30/100\n",
      "34/34 [==============================] - 0s 6ms/step - loss: 6934.2866 - mae: 6934.2866\n",
      "Epoch 31/100\n",
      "34/34 [==============================] - 0s 6ms/step - loss: 6902.5615 - mae: 6902.5615\n",
      "Epoch 32/100\n",
      "34/34 [==============================] - 0s 6ms/step - loss: 6873.6426 - mae: 6873.6426\n",
      "Epoch 33/100\n",
      "34/34 [==============================] - 0s 6ms/step - loss: 6841.1572 - mae: 6841.1572\n",
      "Epoch 34/100\n",
      "34/34 [==============================] - 0s 6ms/step - loss: 6809.5200 - mae: 6809.5200\n",
      "Epoch 35/100\n",
      "34/34 [==============================] - 0s 6ms/step - loss: 6773.9404 - mae: 6773.9404\n",
      "Epoch 36/100\n",
      "34/34 [==============================] - 0s 6ms/step - loss: 6739.0156 - mae: 6739.0156\n",
      "Epoch 37/100\n",
      "34/34 [==============================] - 0s 6ms/step - loss: 6701.8848 - mae: 6701.8848\n",
      "Epoch 38/100\n",
      "34/34 [==============================] - 0s 5ms/step - loss: 6670.5483 - mae: 6670.5483\n",
      "Epoch 39/100\n",
      "34/34 [==============================] - 0s 6ms/step - loss: 6632.6182 - mae: 6632.6182\n",
      "Epoch 40/100\n",
      "34/34 [==============================] - 0s 5ms/step - loss: 6597.7656 - mae: 6597.7656\n",
      "Epoch 41/100\n",
      "34/34 [==============================] - 0s 6ms/step - loss: 6566.6211 - mae: 6566.6211\n",
      "Epoch 42/100\n",
      "34/34 [==============================] - 0s 6ms/step - loss: 6542.5391 - mae: 6542.5391\n",
      "Epoch 43/100\n",
      "34/34 [==============================] - 0s 5ms/step - loss: 6515.1768 - mae: 6515.1768\n",
      "Epoch 44/100\n",
      "34/34 [==============================] - 0s 6ms/step - loss: 6494.8740 - mae: 6494.8740\n",
      "Epoch 45/100\n",
      "34/34 [==============================] - 0s 5ms/step - loss: 6484.0962 - mae: 6484.0962\n",
      "Epoch 46/100\n",
      "34/34 [==============================] - 0s 6ms/step - loss: 6466.7354 - mae: 6466.7354\n",
      "Epoch 47/100\n",
      "34/34 [==============================] - 0s 6ms/step - loss: 6449.6460 - mae: 6449.6460\n",
      "Epoch 48/100\n",
      "34/34 [==============================] - 0s 6ms/step - loss: 6435.8774 - mae: 6435.8774\n",
      "Epoch 49/100\n",
      "34/34 [==============================] - 0s 6ms/step - loss: 6422.6650 - mae: 6422.6650\n",
      "Epoch 50/100\n",
      "34/34 [==============================] - 0s 6ms/step - loss: 6408.9253 - mae: 6408.9253\n",
      "Epoch 51/100\n",
      "34/34 [==============================] - 0s 5ms/step - loss: 6395.5981 - mae: 6395.5981\n",
      "Epoch 52/100\n",
      "34/34 [==============================] - 0s 6ms/step - loss: 6383.8545 - mae: 6383.8545\n",
      "Epoch 53/100\n",
      "34/34 [==============================] - 0s 6ms/step - loss: 6369.2021 - mae: 6369.2021\n",
      "Epoch 54/100\n",
      "34/34 [==============================] - 0s 6ms/step - loss: 6355.3301 - mae: 6355.3301\n",
      "Epoch 55/100\n",
      "34/34 [==============================] - 0s 6ms/step - loss: 6341.5977 - mae: 6341.5977\n",
      "Epoch 56/100\n",
      "34/34 [==============================] - 0s 6ms/step - loss: 6327.5742 - mae: 6327.5742\n",
      "Epoch 57/100\n",
      "34/34 [==============================] - 0s 6ms/step - loss: 6314.1309 - mae: 6314.1309\n",
      "Epoch 58/100\n",
      "34/34 [==============================] - 0s 6ms/step - loss: 6299.8130 - mae: 6299.8130\n",
      "Epoch 59/100\n",
      "34/34 [==============================] - 0s 6ms/step - loss: 6284.3906 - mae: 6284.3906\n",
      "Epoch 60/100\n",
      "34/34 [==============================] - 0s 6ms/step - loss: 6273.9346 - mae: 6273.9346\n",
      "Epoch 61/100\n",
      "34/34 [==============================] - 0s 6ms/step - loss: 6253.8716 - mae: 6253.8716\n",
      "Epoch 62/100\n",
      "34/34 [==============================] - 0s 6ms/step - loss: 6240.9902 - mae: 6240.9902\n",
      "Epoch 63/100\n",
      "34/34 [==============================] - 0s 6ms/step - loss: 6222.3267 - mae: 6222.3267\n",
      "Epoch 64/100\n",
      "34/34 [==============================] - 0s 6ms/step - loss: 6204.7632 - mae: 6204.7632\n",
      "Epoch 65/100\n",
      "34/34 [==============================] - 0s 6ms/step - loss: 6187.3872 - mae: 6187.3872\n",
      "Epoch 66/100\n",
      "34/34 [==============================] - 0s 6ms/step - loss: 6169.8721 - mae: 6169.8721\n",
      "Epoch 67/100\n",
      "34/34 [==============================] - 0s 6ms/step - loss: 6156.9702 - mae: 6156.9702\n",
      "Epoch 68/100\n",
      "34/34 [==============================] - 0s 6ms/step - loss: 6133.9292 - mae: 6133.9292\n",
      "Epoch 69/100\n",
      "34/34 [==============================] - 0s 6ms/step - loss: 6116.7617 - mae: 6116.7617\n",
      "Epoch 70/100\n",
      "34/34 [==============================] - 0s 6ms/step - loss: 6095.7812 - mae: 6095.7812\n",
      "Epoch 71/100\n",
      "34/34 [==============================] - 0s 6ms/step - loss: 6075.8022 - mae: 6075.8022\n",
      "Epoch 72/100\n",
      "34/34 [==============================] - 0s 6ms/step - loss: 6055.7949 - mae: 6055.7949\n",
      "Epoch 73/100\n",
      "34/34 [==============================] - 0s 6ms/step - loss: 6041.6343 - mae: 6041.6343\n",
      "Epoch 74/100\n",
      "34/34 [==============================] - 0s 6ms/step - loss: 6011.9785 - mae: 6011.9785\n",
      "Epoch 75/100\n",
      "34/34 [==============================] - 0s 6ms/step - loss: 5989.0410 - mae: 5989.0410\n",
      "Epoch 76/100\n",
      "34/34 [==============================] - 0s 6ms/step - loss: 5975.6616 - mae: 5975.6616\n",
      "Epoch 77/100\n",
      "34/34 [==============================] - 0s 6ms/step - loss: 5942.1543 - mae: 5942.1543\n",
      "Epoch 78/100\n",
      "34/34 [==============================] - 0s 6ms/step - loss: 5917.7383 - mae: 5917.7383\n",
      "Epoch 79/100\n",
      "34/34 [==============================] - 0s 6ms/step - loss: 5892.1035 - mae: 5892.1035\n",
      "Epoch 80/100\n",
      "34/34 [==============================] - 0s 6ms/step - loss: 5863.7271 - mae: 5863.7271\n",
      "Epoch 81/100\n",
      "34/34 [==============================] - 0s 6ms/step - loss: 5837.3096 - mae: 5837.3096\n",
      "Epoch 82/100\n",
      "34/34 [==============================] - 0s 6ms/step - loss: 5807.5151 - mae: 5807.5151\n",
      "Epoch 83/100\n",
      "34/34 [==============================] - 0s 6ms/step - loss: 5778.7305 - mae: 5778.7305\n",
      "Epoch 84/100\n",
      "34/34 [==============================] - 0s 6ms/step - loss: 5744.3291 - mae: 5744.3291\n",
      "Epoch 85/100\n",
      "34/34 [==============================] - 0s 6ms/step - loss: 5717.9995 - mae: 5717.9995\n",
      "Epoch 86/100\n",
      "34/34 [==============================] - 0s 6ms/step - loss: 5682.3008 - mae: 5682.3008\n",
      "Epoch 87/100\n",
      "34/34 [==============================] - 0s 6ms/step - loss: 5643.7925 - mae: 5643.7925\n",
      "Epoch 88/100\n",
      "34/34 [==============================] - 0s 6ms/step - loss: 5607.9717 - mae: 5607.9717\n",
      "Epoch 89/100\n",
      "34/34 [==============================] - 0s 6ms/step - loss: 5567.2261 - mae: 5567.2261\n",
      "Epoch 90/100\n",
      "34/34 [==============================] - 0s 6ms/step - loss: 5525.0029 - mae: 5525.0029\n",
      "Epoch 91/100\n",
      "34/34 [==============================] - 0s 6ms/step - loss: 5488.6343 - mae: 5488.6343\n",
      "Epoch 92/100\n",
      "34/34 [==============================] - 0s 6ms/step - loss: 5436.7349 - mae: 5436.7349\n",
      "Epoch 93/100\n",
      "34/34 [==============================] - 0s 6ms/step - loss: 5393.4741 - mae: 5393.4741\n",
      "Epoch 94/100\n",
      "34/34 [==============================] - 0s 6ms/step - loss: 5345.4160 - mae: 5345.4160\n",
      "Epoch 95/100\n",
      "34/34 [==============================] - 0s 6ms/step - loss: 5293.2773 - mae: 5293.2773\n",
      "Epoch 96/100\n",
      "34/34 [==============================] - 0s 6ms/step - loss: 5245.4385 - mae: 5245.4385\n",
      "Epoch 97/100\n",
      "34/34 [==============================] - 0s 6ms/step - loss: 5189.8330 - mae: 5189.8330\n",
      "Epoch 98/100\n",
      "34/34 [==============================] - 0s 6ms/step - loss: 5125.6968 - mae: 5125.6968\n",
      "Epoch 99/100\n",
      "34/34 [==============================] - 0s 6ms/step - loss: 5065.8442 - mae: 5065.8442\n",
      "Epoch 100/100\n",
      "34/34 [==============================] - 0s 6ms/step - loss: 5007.4541 - mae: 5007.4541\n"
     ]
    },
    {
     "data": {
      "text/plain": "<keras.callbacks.History at 0x2e0611d80>"
     },
     "execution_count": 114,
     "metadata": {},
     "output_type": "execute_result"
    }
   ]
  },
  {
   "cell_type": "code",
   "source": [
    "insurance_model_2.evaluate(X_test, y_test)"
   ],
   "metadata": {
    "colab": {
     "base_uri": "https://localhost:8080/"
    },
    "id": "CXtTjQq9REaU",
    "outputId": "6cc9dbf2-34ee-46d2-97fa-8f37fcdd2565",
    "ExecuteTime": {
     "end_time": "2023-08-31T12:35:47.958038Z",
     "start_time": "2023-08-31T12:35:47.796409Z"
    }
   },
   "execution_count": 115,
   "outputs": [
    {
     "name": "stdout",
     "output_type": "stream",
     "text": [
      "9/9 [==============================] - 0s 6ms/step - loss: 4877.0630 - mae: 4877.0630\n"
     ]
    },
    {
     "data": {
      "text/plain": "[4877.06298828125, 4877.06298828125]"
     },
     "execution_count": 115,
     "metadata": {},
     "output_type": "execute_result"
    }
   ]
  },
  {
   "cell_type": "code",
   "source": [
    "tf.random.set_seed(42)\n",
    "\n",
    "# 1. Create the model\n",
    "insurance_model_3 = tf.keras.Sequential([\n",
    "    tf.keras.layers.Dense(100, input_shape=[11]),\n",
    "    tf.keras.layers.Dense(10),\n",
    "    tf.keras.layers.Dense(1)\n",
    "])\n",
    "\n",
    "# 2. Compile the model\n",
    "insurance_model_3.compile(loss=tf.keras.losses.mae,\n",
    "                          optimizer=tf.keras.optimizers.Adam(),\n",
    "                          metrics=[\"mae\"])\n",
    "\n",
    "# 3. Fit the model\n",
    "history = insurance_model_3.fit(X_train, y_train, epochs=200, verbose=0)"
   ],
   "metadata": {
    "id": "jY6y2_dgStvd",
    "ExecuteTime": {
     "end_time": "2023-08-31T12:36:21.027728Z",
     "start_time": "2023-08-31T12:35:47.954183Z"
    }
   },
   "execution_count": 116,
   "outputs": [
    {
     "name": "stderr",
     "output_type": "stream",
     "text": [
      "WARNING:absl:At this time, the v2.11+ optimizer `tf.keras.optimizers.Adam` runs slowly on M1/M2 Macs, please use the legacy Keras optimizer instead, located at `tf.keras.optimizers.legacy.Adam`.\n",
      "WARNING:absl:There is a known slowdown when using v2.11+ Keras optimizers on M1/M2 Macs. Falling back to the legacy Keras optimizer, i.e., `tf.keras.optimizers.legacy.Adam`.\n"
     ]
    }
   ]
  },
  {
   "cell_type": "code",
   "source": [
    "insurance_model_3.evaluate(X_test, y_test)"
   ],
   "metadata": {
    "colab": {
     "base_uri": "https://localhost:8080/"
    },
    "id": "x-6O2ox7U4AL",
    "outputId": "cc3a3ae1-1929-4342-87bd-554be9a5df3f",
    "ExecuteTime": {
     "end_time": "2023-08-31T12:36:21.190228Z",
     "start_time": "2023-08-31T12:36:21.030387Z"
    }
   },
   "execution_count": 117,
   "outputs": [
    {
     "name": "stdout",
     "output_type": "stream",
     "text": [
      "9/9 [==============================] - 0s 6ms/step - loss: 3492.3118 - mae: 3492.3118\n"
     ]
    },
    {
     "data": {
      "text/plain": "[3492.311767578125, 3492.311767578125]"
     },
     "execution_count": 117,
     "metadata": {},
     "output_type": "execute_result"
    }
   ]
  },
  {
   "cell_type": "code",
   "source": [
    "# Plot history (also known as loss curve or a training curve)\n",
    "pd.DataFrame(history.history).plot()\n",
    "plt.ylabel(\"loss\")\n",
    "plt.xlabel(\"epochs\")"
   ],
   "metadata": {
    "colab": {
     "base_uri": "https://localhost:8080/",
     "height": 296
    },
    "id": "2_-v05zMVwIi",
    "outputId": "198ed634-42d3-4a7b-f526-94044c570ebe",
    "ExecuteTime": {
     "end_time": "2023-08-31T12:36:46.814579Z",
     "start_time": "2023-08-31T12:36:46.686798Z"
    }
   },
   "execution_count": 118,
   "outputs": [
    {
     "data": {
      "text/plain": "Text(0.5, 0, 'epochs')"
     },
     "execution_count": 118,
     "metadata": {},
     "output_type": "execute_result"
    },
    {
     "data": {
      "text/plain": "<Figure size 640x480 with 1 Axes>",
      "image/png": "[encoded data removed]"
     },
     "metadata": {},
     "output_type": "display_data"
    }
   ]
  },
  {
   "cell_type": "markdown",
   "source": [
    "Preprocessing data (normalization and standardization\n",
    "\n"
   ],
   "metadata": {
    "id": "Qlh7jaBAaMY2"
   }
  },
  {
   "cell_type": "code",
   "source": [
    "X"
   ],
   "metadata": {
    "colab": {
     "base_uri": "https://localhost:8080/",
     "height": 419
    },
    "id": "Ww072OKshhxN",
    "outputId": "90aeaf40-b1cf-45eb-a216-3c7657376b87",
    "ExecuteTime": {
     "end_time": "2023-08-31T12:36:48.743885Z",
     "start_time": "2023-08-31T12:36:48.719293Z"
    }
   },
   "execution_count": 119,
   "outputs": [
    {
     "data": {
      "text/plain": "       age     bmi  children  sex_female  sex_male  smoker_no  smoker_yes  \\\n0     19.0  27.900       0.0         1.0       0.0        0.0         1.0   \n1     18.0  33.770       1.0         0.0       1.0        1.0         0.0   \n2     28.0  33.000       3.0         0.0       1.0        1.0         0.0   \n3     33.0  22.705       0.0         0.0       1.0        1.0         0.0   \n4     32.0  28.880       0.0         0.0       1.0        1.0         0.0   \n...    ...     ...       ...         ...       ...        ...         ...   \n1333  50.0  30.970       3.0         0.0       1.0        1.0         0.0   \n1334  18.0  31.920       0.0         1.0       0.0        1.0         0.0   \n1335  18.0  36.850       0.0         1.0       0.0        1.0         0.0   \n1336  21.0  25.800       0.0         1.0       0.0        1.0         0.0   \n1337  61.0  29.070       0.0         1.0       0.0        0.0         1.0   \n\n      region_northeast  region_northwest  region_southeast  region_southwest  \n0                  0.0               0.0               0.0               1.0  \n1                  0.0               0.0               1.0               0.0  \n2                  0.0               0.0               1.0               0.0  \n3                  0.0               1.0               0.0               0.0  \n4                  0.0               1.0               0.0               0.0  \n...                ...               ...               ...               ...  \n1333               0.0               1.0               0.0               0.0  \n1334               1.0               0.0               0.0               0.0  \n1335               0.0               0.0               1.0               0.0  \n1336               0.0               0.0               0.0               1.0  \n1337               0.0               1.0               0.0               0.0  \n\n[1338 rows x 11 columns]",
      "text/html": "<div>\n<style scoped>\n    .dataframe tbody tr th:only-of-type {\n        vertical-align: middle;\n    }\n\n    .dataframe tbody tr th {\n        vertical-align: top;\n    }\n\n    .dataframe thead th {\n        text-align: right;\n    }\n</style>\n<table border=\"1\" class=\"dataframe\">\n  <thead>\n    <tr style=\"text-align: right;\">\n      <th></th>\n      <th>age</th>\n      <th>bmi</th>\n      <th>children</th>\n      <th>sex_female</th>\n      <th>sex_male</th>\n      <th>smoker_no</th>\n      <th>smoker_yes</th>\n      <th>region_northeast</th>\n      <th>region_northwest</th>\n      <th>region_southeast</th>\n      <th>region_southwest</th>\n    </tr>\n  </thead>\n  <tbody>\n    <tr>\n      <th>0</th>\n      <td>19.0</td>\n      <td>27.900</td>\n      <td>0.0</td>\n      <td>1.0</td>\n      <td>0.0</td>\n      <td>0.0</td>\n      <td>1.0</td>\n      <td>0.0</td>\n      <td>0.0</td>\n      <td>0.0</td>\n      <td>1.0</td>\n    </tr>\n    <tr>\n      <th>1</th>\n      <td>18.0</td>\n      <td>33.770</td>\n      <td>1.0</td>\n      <td>0.0</td>\n      <td>1.0</td>\n      <td>1.0</td>\n      <td>0.0</td>\n      <td>0.0</td>\n      <td>0.0</td>\n      <td>1.0</td>\n      <td>0.0</td>\n    </tr>\n    <tr>\n      <th>2</th>\n      <td>28.0</td>\n      <td>33.000</td>\n      <td>3.0</td>\n      <td>0.0</td>\n      <td>1.0</td>\n      <td>1.0</td>\n      <td>0.0</td>\n      <td>0.0</td>\n      <td>0.0</td>\n      <td>1.0</td>\n      <td>0.0</td>\n    </tr>\n    <tr>\n      <th>3</th>\n      <td>33.0</td>\n      <td>22.705</td>\n      <td>0.0</td>\n      <td>0.0</td>\n      <td>1.0</td>\n      <td>1.0</td>\n      <td>0.0</td>\n      <td>0.0</td>\n      <td>1.0</td>\n      <td>0.0</td>\n      <td>0.0</td>\n    </tr>\n    <tr>\n      <th>4</th>\n      <td>32.0</td>\n      <td>28.880</td>\n      <td>0.0</td>\n      <td>0.0</td>\n      <td>1.0</td>\n      <td>1.0</td>\n      <td>0.0</td>\n      <td>0.0</td>\n      <td>1.0</td>\n      <td>0.0</td>\n      <td>0.0</td>\n    </tr>\n    <tr>\n      <th>...</th>\n      <td>...</td>\n      <td>...</td>\n      <td>...</td>\n      <td>...</td>\n      <td>...</td>\n      <td>...</td>\n      <td>...</td>\n      <td>...</td>\n      <td>...</td>\n      <td>...</td>\n      <td>...</td>\n    </tr>\n    <tr>\n      <th>1333</th>\n      <td>50.0</td>\n      <td>30.970</td>\n      <td>3.0</td>\n      <td>0.0</td>\n      <td>1.0</td>\n      <td>1.0</td>\n      <td>0.0</td>\n      <td>0.0</td>\n      <td>1.0</td>\n      <td>0.0</td>\n      <td>0.0</td>\n    </tr>\n    <tr>\n      <th>1334</th>\n      <td>18.0</td>\n      <td>31.920</td>\n      <td>0.0</td>\n      <td>1.0</td>\n      <td>0.0</td>\n      <td>1.0</td>\n      <td>0.0</td>\n      <td>1.0</td>\n      <td>0.0</td>\n      <td>0.0</td>\n      <td>0.0</td>\n    </tr>\n    <tr>\n      <th>1335</th>\n      <td>18.0</td>\n      <td>36.850</td>\n      <td>0.0</td>\n      <td>1.0</td>\n      <td>0.0</td>\n      <td>1.0</td>\n      <td>0.0</td>\n      <td>0.0</td>\n      <td>0.0</td>\n      <td>1.0</td>\n      <td>0.0</td>\n    </tr>\n    <tr>\n      <th>1336</th>\n      <td>21.0</td>\n      <td>25.800</td>\n      <td>0.0</td>\n      <td>1.0</td>\n      <td>0.0</td>\n      <td>1.0</td>\n      <td>0.0</td>\n      <td>0.0</td>\n      <td>0.0</td>\n      <td>0.0</td>\n      <td>1.0</td>\n    </tr>\n    <tr>\n      <th>1337</th>\n      <td>61.0</td>\n      <td>29.070</td>\n      <td>0.0</td>\n      <td>1.0</td>\n      <td>0.0</td>\n      <td>0.0</td>\n      <td>1.0</td>\n      <td>0.0</td>\n      <td>1.0</td>\n      <td>0.0</td>\n      <td>0.0</td>\n    </tr>\n  </tbody>\n</table>\n<p>1338 rows × 11 columns</p>\n</div>"
     },
     "execution_count": 119,
     "metadata": {},
     "output_type": "execute_result"
    }
   ]
  },
  {
   "cell_type": "code",
   "source": [
    "X[\"age\"].plot(kind=\"hist\")"
   ],
   "metadata": {
    "colab": {
     "base_uri": "https://localhost:8080/",
     "height": 282
    },
    "id": "Xig8hPX_iOsO",
    "outputId": "5492366c-7d1f-4b4b-8d94-86426ad1e4eb",
    "ExecuteTime": {
     "end_time": "2023-08-31T12:36:49.200224Z",
     "start_time": "2023-08-31T12:36:49.072547Z"
    }
   },
   "execution_count": 120,
   "outputs": [
    {
     "data": {
      "text/plain": "<Axes: ylabel='Frequency'>"
     },
     "execution_count": 120,
     "metadata": {},
     "output_type": "execute_result"
    },
    {
     "data": {
      "text/plain": "<Figure size 640x480 with 1 Axes>",
      "image/png": "[encoded data removed]"
     },
     "metadata": {},
     "output_type": "display_data"
    }
   ]
  },
  {
   "cell_type": "code",
   "source": [
    "X[\"bmi\"].plot(kind=\"hist\")"
   ],
   "metadata": {
    "colab": {
     "base_uri": "https://localhost:8080/",
     "height": 282
    },
    "id": "m9wipi3UiTS9",
    "outputId": "41513ef8-fc08-410f-d172-9db5ba1c01e9",
    "ExecuteTime": {
     "end_time": "2023-08-31T12:36:50.322879Z",
     "start_time": "2023-08-31T12:36:50.229980Z"
    }
   },
   "execution_count": 121,
   "outputs": [
    {
     "data": {
      "text/plain": "<Axes: ylabel='Frequency'>"
     },
     "execution_count": 121,
     "metadata": {},
     "output_type": "execute_result"
    },
    {
     "data": {
      "text/plain": "<Figure size 640x480 with 1 Axes>",
      "image/png": "[encoded data removed]"
     },
     "metadata": {},
     "output_type": "display_data"
    }
   ]
  },
  {
   "cell_type": "code",
   "source": [
    "X[\"children\"].plot(kind=\"hist\")"
   ],
   "metadata": {
    "colab": {
     "base_uri": "https://localhost:8080/",
     "height": 285
    },
    "id": "nxK6rmjHDODi",
    "outputId": "22658fb3-b1da-4bbf-bec7-8120e70652b2",
    "ExecuteTime": {
     "end_time": "2023-08-31T12:36:51.338239Z",
     "start_time": "2023-08-31T12:36:51.235477Z"
    }
   },
   "execution_count": 122,
   "outputs": [
    {
     "data": {
      "text/plain": "<Axes: ylabel='Frequency'>"
     },
     "execution_count": 122,
     "metadata": {},
     "output_type": "execute_result"
    },
    {
     "data": {
      "text/plain": "<Figure size 640x480 with 1 Axes>",
      "image/png": "[encoded data removed]"
     },
     "metadata": {},
     "output_type": "display_data"
    }
   ]
  },
  {
   "cell_type": "code",
   "source": [
    "import pandas as pd\n",
    "import matplotlib.pyplot as plt\n",
    "import tensorflow as tf\n",
    "\n",
    "insurance = pd.read_csv(\"https://raw.githubusercontent.com/stedy/Machine-Learning-with-R-datasets/master/insurance.csv\")\n",
    "insurance"
   ],
   "metadata": {
    "colab": {
     "base_uri": "https://localhost:8080/",
     "height": 419
    },
    "id": "stSgqq62Djzd",
    "outputId": "d1625dff-1d83-4610-af08-8e82b5180c4a",
    "ExecuteTime": {
     "end_time": "2023-08-31T12:36:52.008008Z",
     "start_time": "2023-08-31T12:36:51.522248Z"
    }
   },
   "execution_count": 123,
   "outputs": [
    {
     "data": {
      "text/plain": "      age     sex     bmi  children smoker     region      charges\n0      19  female  27.900         0    yes  southwest  16884.92400\n1      18    male  33.770         1     no  southeast   1725.55230\n2      28    male  33.000         3     no  southeast   4449.46200\n3      33    male  22.705         0     no  northwest  21984.47061\n4      32    male  28.880         0     no  northwest   3866.85520\n...   ...     ...     ...       ...    ...        ...          ...\n1333   50    male  30.970         3     no  northwest  10600.54830\n1334   18  female  31.920         0     no  northeast   2205.98080\n1335   18  female  36.850         0     no  southeast   1629.83350\n1336   21  female  25.800         0     no  southwest   2007.94500\n1337   61  female  29.070         0    yes  northwest  29141.36030\n\n[1338 rows x 7 columns]",
      "text/html": "<div>\n<style scoped>\n    .dataframe tbody tr th:only-of-type {\n        vertical-align: middle;\n    }\n\n    .dataframe tbody tr th {\n        vertical-align: top;\n    }\n\n    .dataframe thead th {\n        text-align: right;\n    }\n</style>\n<table border=\"1\" class=\"dataframe\">\n  <thead>\n    <tr style=\"text-align: right;\">\n      <th></th>\n      <th>age</th>\n      <th>sex</th>\n      <th>bmi</th>\n      <th>children</th>\n      <th>smoker</th>\n      <th>region</th>\n      <th>charges</th>\n    </tr>\n  </thead>\n  <tbody>\n    <tr>\n      <th>0</th>\n      <td>19</td>\n      <td>female</td>\n      <td>27.900</td>\n      <td>0</td>\n      <td>yes</td>\n      <td>southwest</td>\n      <td>16884.92400</td>\n    </tr>\n    <tr>\n      <th>1</th>\n      <td>18</td>\n      <td>male</td>\n      <td>33.770</td>\n      <td>1</td>\n      <td>no</td>\n      <td>southeast</td>\n      <td>1725.55230</td>\n    </tr>\n    <tr>\n      <th>2</th>\n      <td>28</td>\n      <td>male</td>\n      <td>33.000</td>\n      <td>3</td>\n      <td>no</td>\n      <td>southeast</td>\n      <td>4449.46200</td>\n    </tr>\n    <tr>\n      <th>3</th>\n      <td>33</td>\n      <td>male</td>\n      <td>22.705</td>\n      <td>0</td>\n      <td>no</td>\n      <td>northwest</td>\n      <td>21984.47061</td>\n    </tr>\n    <tr>\n      <th>4</th>\n      <td>32</td>\n      <td>male</td>\n      <td>28.880</td>\n      <td>0</td>\n      <td>no</td>\n      <td>northwest</td>\n      <td>3866.85520</td>\n    </tr>\n    <tr>\n      <th>...</th>\n      <td>...</td>\n      <td>...</td>\n      <td>...</td>\n      <td>...</td>\n      <td>...</td>\n      <td>...</td>\n      <td>...</td>\n    </tr>\n    <tr>\n      <th>1333</th>\n      <td>50</td>\n      <td>male</td>\n      <td>30.970</td>\n      <td>3</td>\n      <td>no</td>\n      <td>northwest</td>\n      <td>10600.54830</td>\n    </tr>\n    <tr>\n      <th>1334</th>\n      <td>18</td>\n      <td>female</td>\n      <td>31.920</td>\n      <td>0</td>\n      <td>no</td>\n      <td>northeast</td>\n      <td>2205.98080</td>\n    </tr>\n    <tr>\n      <th>1335</th>\n      <td>18</td>\n      <td>female</td>\n      <td>36.850</td>\n      <td>0</td>\n      <td>no</td>\n      <td>southeast</td>\n      <td>1629.83350</td>\n    </tr>\n    <tr>\n      <th>1336</th>\n      <td>21</td>\n      <td>female</td>\n      <td>25.800</td>\n      <td>0</td>\n      <td>no</td>\n      <td>southwest</td>\n      <td>2007.94500</td>\n    </tr>\n    <tr>\n      <th>1337</th>\n      <td>61</td>\n      <td>female</td>\n      <td>29.070</td>\n      <td>0</td>\n      <td>yes</td>\n      <td>northwest</td>\n      <td>29141.36030</td>\n    </tr>\n  </tbody>\n</table>\n<p>1338 rows × 7 columns</p>\n</div>"
     },
     "execution_count": 123,
     "metadata": {},
     "output_type": "execute_result"
    }
   ]
  },
  {
   "cell_type": "markdown",
   "source": [
    "To prepare our data, we can borrow a few classes from SciKit learn."
   ],
   "metadata": {
    "id": "QsRdvFoGL-eN"
   }
  },
  {
   "cell_type": "code",
   "source": [
    "from sklearn.compose import make_column_transformer\n",
    "from sklearn.preprocessing import MinMaxScaler, OneHotEncoder\n",
    "from sklearn.model_selection import train_test_split\n",
    "\n",
    "# Create a column transformer.\n",
    "ct = make_column_transformer(\n",
    "    (MinMaxScaler(), [\"age\", \"bmi\", \"children\"]), # turn all values in these columns between 0 and 1\n",
    "    (OneHotEncoder(handle_unknown=\"ignore\"), [\"sex\", \"smoker\", \"region\"])\n",
    ")\n",
    "\n",
    "# Create X and y values.\n",
    "X = insurance.drop(\"charges\", axis=1)\n",
    "y = insurance[\"charges\"]\n",
    "\n",
    "# Build our train and test sats\n",
    "X_train, X_test, y_train, y_test = train_test_split(X, y, test_size=0.2, random_state=42)\n",
    "\n",
    "# Fit the column transformer to our training data\n",
    "ct.fit(X_train)\n",
    "\n",
    "# Transform training and test data with normalization (MinMAxScalar, and OneHotEncoder)\n",
    "X_train_normal = ct.transform(X_train)\n",
    "X_test_normal = ct.transform(X_test)\n"
   ],
   "metadata": {
    "id": "K-6Iusw4L4v8",
    "ExecuteTime": {
     "end_time": "2023-08-31T12:36:53.260820Z",
     "start_time": "2023-08-31T12:36:53.213904Z"
    }
   },
   "execution_count": 124,
   "outputs": []
  },
  {
   "cell_type": "code",
   "source": [
    "# What does our data look like now?\n",
    "X_train.loc[0]"
   ],
   "metadata": {
    "colab": {
     "base_uri": "https://localhost:8080/"
    },
    "id": "FtndHt0rN-qo",
    "outputId": "9144eda2-1a2b-44ef-fa8c-d567f0016fb2",
    "ExecuteTime": {
     "end_time": "2023-08-31T12:36:54.627530Z",
     "start_time": "2023-08-31T12:36:54.588075Z"
    }
   },
   "execution_count": 125,
   "outputs": [
    {
     "data": {
      "text/plain": "age                19\nsex            female\nbmi              27.9\nchildren            0\nsmoker            yes\nregion      southwest\nName: 0, dtype: object"
     },
     "execution_count": 125,
     "metadata": {},
     "output_type": "execute_result"
    }
   ]
  },
  {
   "cell_type": "code",
   "source": [
    "X_train_normal[0]"
   ],
   "metadata": {
    "colab": {
     "base_uri": "https://localhost:8080/"
    },
    "id": "7Jrve-ffOCM1",
    "outputId": "76323555-9959-42cf-e5bf-e0403e79d66a",
    "ExecuteTime": {
     "end_time": "2023-08-31T12:36:55.723229Z",
     "start_time": "2023-08-31T12:36:55.633552Z"
    }
   },
   "execution_count": 126,
   "outputs": [
    {
     "data": {
      "text/plain": "array([0.60869565, 0.10734463, 0.4       , 1.        , 0.        ,\n       1.        , 0.        , 0.        , 1.        , 0.        ,\n       0.        ])"
     },
     "execution_count": 126,
     "metadata": {},
     "output_type": "execute_result"
    }
   ]
  },
  {
   "cell_type": "markdown",
   "source": [
    "Beautiful! Our data has been normalized and on hot encoded. Now let's build a neural network model on it and see how it goes."
   ],
   "metadata": {
    "id": "fXZNyn7BO0zC"
   }
  },
  {
   "cell_type": "code",
   "source": [
    "tf.random.set_seed(42)\n",
    "\n",
    "# Create a model\n",
    "insurance_model_4 = tf.keras.Sequential([\n",
    "    tf.keras.layers.Dense(100, input_shape=[11]),\n",
    "    tf.keras.layers.Dense(10),\n",
    "    tf.keras.layers.Dense(1)\n",
    "])\n",
    "\n",
    "insurance_model_4.compile(loss=tf.keras.losses.mae,\n",
    "                        optimizer=tf.keras.optimizers.Adam(),\n",
    "                        metrics=[\"mae\"])\n",
    "\n",
    "insurance_model_4.fit(X_train_normal, y_train, epochs=200, verbose=0)"
   ],
   "metadata": {
    "colab": {
     "base_uri": "https://localhost:8080/"
    },
    "id": "qAdUVOm5OEPR",
    "outputId": "a77b9be6-36fd-4728-bd30-723a3d57f754",
    "ExecuteTime": {
     "end_time": "2023-08-31T12:37:32.516626Z",
     "start_time": "2023-08-31T12:37:01.178158Z"
    }
   },
   "execution_count": 127,
   "outputs": [
    {
     "name": "stderr",
     "output_type": "stream",
     "text": [
      "WARNING:absl:At this time, the v2.11+ optimizer `tf.keras.optimizers.Adam` runs slowly on M1/M2 Macs, please use the legacy Keras optimizer instead, located at `tf.keras.optimizers.legacy.Adam`.\n",
      "WARNING:absl:There is a known slowdown when using v2.11+ Keras optimizers on M1/M2 Macs. Falling back to the legacy Keras optimizer, i.e., `tf.keras.optimizers.legacy.Adam`.\n"
     ]
    },
    {
     "data": {
      "text/plain": "<keras.callbacks.History at 0x2e04888e0>"
     },
     "execution_count": 127,
     "metadata": {},
     "output_type": "execute_result"
    }
   ]
  },
  {
   "cell_type": "code",
   "source": [
    "insurance_model_4.evaluate(X_test_normal, y_test)"
   ],
   "metadata": {
    "colab": {
     "base_uri": "https://localhost:8080/"
    },
    "id": "4MkHLmsuQ9zU",
    "outputId": "439c1324-4e44-456e-fa5a-ca255457926a",
    "ExecuteTime": {
     "end_time": "2023-08-31T12:37:38.233876Z",
     "start_time": "2023-08-31T12:37:38.058853Z"
    }
   },
   "execution_count": 128,
   "outputs": [
    {
     "name": "stdout",
     "output_type": "stream",
     "text": [
      "9/9 [==============================] - 0s 6ms/step - loss: 3168.7361 - mae: 3168.7361\n"
     ]
    },
    {
     "data": {
      "text/plain": "[3168.736083984375, 3168.736083984375]"
     },
     "execution_count": 128,
     "metadata": {},
     "output_type": "execute_result"
    }
   ]
  }
 ]
}
