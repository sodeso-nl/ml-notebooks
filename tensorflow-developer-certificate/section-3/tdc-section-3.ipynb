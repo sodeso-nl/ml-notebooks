{
 "nbformat": 4,
 "nbformat_minor": 0,
 "metadata": {
  "colab": {
   "provenance": []
  },
  "kernelspec": {
   "name": "python3",
   "language": "python",
   "display_name": "Python 3 (ipykernel)"
  },
  "language_info": {
   "name": "python"
  }
 },
 "cells": [
  {
   "cell_type": "markdown",
   "source": [
    "# Introduction to Regression with Neural Networks in TensorFlow\n",
    "\n",
    "There are many definitions for a regression problem but in our case, we're going to simplify it: predicting a numerical variable based on some other combination of variables, even shorter... predicting a number."
   ],
   "metadata": {
    "collapsed": false
   }
  },
  {
   "cell_type": "code",
   "source": [
    "# Import TensorFlow\n",
    "\n",
    "import tensorflow as tf\n",
    "print(tf.__version__)"
   ],
   "metadata": {
    "colab": {
     "base_uri": "https://localhost:8080/"
    },
    "id": "_omw_sDzWDc5",
    "outputId": "f883e95a-8e27-4371-a62f-8ad5c51c0553",
    "ExecuteTime": {
     "end_time": "2023-07-13T14:06:24.924452Z",
     "start_time": "2023-07-13T14:06:04.418951Z"
    }
   },
   "execution_count": 1,
   "outputs": [
    {
     "name": "stdout",
     "output_type": "stream",
     "text": [
      "2.12.0\n"
     ]
    }
   ]
  },
  {
   "cell_type": "markdown",
   "source": [
    "## Creating data to view and fit."
   ],
   "metadata": {
    "id": "GJRqicoJW313"
   }
  },
  {
   "cell_type": "code",
   "source": [
    "import numpy as np\n",
    "import matplotlib.pyplot as plt\n",
    "\n",
    "# Create features\n",
    "X = np.array([-7.0, -4.0, -1.0, 2.0, 5.0, 8.0, 11.0, 14.0])\n",
    "\n",
    "# Create labels\n",
    "y = np.array([3.0, 6.0, 9.0, 12.0, 15.0, 18.0, 21.0, 24.0])\n",
    "\n",
    "# visualize it\n",
    "plt.scatter(X, y)"
   ],
   "metadata": {
    "colab": {
     "base_uri": "https://localhost:8080/",
     "height": 286
    },
    "id": "msArWP_iW_cR",
    "outputId": "5c346187-492c-4e61-af2a-37bb66ff85ff",
    "ExecuteTime": {
     "end_time": "2023-07-13T13:42:11.711041Z",
     "start_time": "2023-07-13T13:42:11.131916Z"
    }
   },
   "execution_count": 2,
   "outputs": [
    {
     "data": {
      "text/plain": "<matplotlib.collections.PathCollection at 0x126756140>"
     },
     "execution_count": 2,
     "metadata": {},
     "output_type": "execute_result"
    },
    {
     "data": {
      "text/plain": "<Figure size 640x480 with 1 Axes>",
      "image/png": "[encoded data removed]"
     },
     "metadata": {},
     "output_type": "display_data"
    }
   ]
  },
  {
   "cell_type": "code",
   "source": [
    "# The function we want the network to learn.\n",
    "y == X + 10\n"
   ],
   "metadata": {
    "colab": {
     "base_uri": "https://localhost:8080/"
    },
    "id": "wFDlRij1XbXE",
    "outputId": "4697c8d0-cfe9-46a7-9480-67fb17aa2379",
    "ExecuteTime": {
     "end_time": "2023-07-13T13:42:12.701889Z",
     "start_time": "2023-07-13T13:42:12.665146Z"
    }
   },
   "execution_count": 3,
   "outputs": [
    {
     "data": {
      "text/plain": "array([ True,  True,  True,  True,  True,  True,  True,  True])"
     },
     "execution_count": 3,
     "metadata": {},
     "output_type": "execute_result"
    }
   ]
  },
  {
   "cell_type": "markdown",
   "source": [
    "## Input and output shapes"
   ],
   "metadata": {
    "id": "knGby7WnXrke"
   }
  },
  {
   "cell_type": "code",
   "source": [
    "# Create a demo tensor for our housing price prediction problem\n",
    "house_info = tf.constant([\"bedroom\", \"bathroom\", \"garage\"])\n",
    "house_price = tf.constant([939700])\n",
    "house_info, house_price"
   ],
   "metadata": {
    "colab": {
     "base_uri": "https://localhost:8080/"
    },
    "id": "HzycHa2UXy15",
    "outputId": "8e32a458-3f67-4f1d-ba66-1bf3167beac5",
    "ExecuteTime": {
     "end_time": "2023-07-13T13:42:13.704312Z",
     "start_time": "2023-07-13T13:42:13.666417Z"
    }
   },
   "execution_count": 4,
   "outputs": [
    {
     "ename": "AttributeError",
     "evalue": "module 'tensorflow' has no attribute 'constant'",
     "output_type": "error",
     "traceback": [
      "\u001B[0;31m---------------------------------------------------------------------------\u001B[0m",
      "\u001B[0;31mAttributeError\u001B[0m                            Traceback (most recent call last)",
      "Cell \u001B[0;32mIn[4], line 2\u001B[0m\n\u001B[1;32m      1\u001B[0m \u001B[38;5;66;03m# Create a demo tensor for our housing price prediction problem\u001B[39;00m\n\u001B[0;32m----> 2\u001B[0m house_info \u001B[38;5;241m=\u001B[39m \u001B[43mtf\u001B[49m\u001B[38;5;241;43m.\u001B[39;49m\u001B[43mconstant\u001B[49m([\u001B[38;5;124m\"\u001B[39m\u001B[38;5;124mbedroom\u001B[39m\u001B[38;5;124m\"\u001B[39m, \u001B[38;5;124m\"\u001B[39m\u001B[38;5;124mbathroom\u001B[39m\u001B[38;5;124m\"\u001B[39m, \u001B[38;5;124m\"\u001B[39m\u001B[38;5;124mgarage\u001B[39m\u001B[38;5;124m\"\u001B[39m])\n\u001B[1;32m      3\u001B[0m house_price \u001B[38;5;241m=\u001B[39m tf\u001B[38;5;241m.\u001B[39mconstant([\u001B[38;5;241m939700\u001B[39m])\n\u001B[1;32m      4\u001B[0m house_info, house_price\n",
      "\u001B[0;31mAttributeError\u001B[0m: module 'tensorflow' has no attribute 'constant'"
     ]
    }
   ]
  },
  {
   "cell_type": "code",
   "source": [
    "input_shape = X[0].shape\n",
    "output_shape = y[0].shape\n",
    "input_shape, output_shape"
   ],
   "metadata": {
    "colab": {
     "base_uri": "https://localhost:8080/"
    },
    "id": "yKoRvwH5Y1M_",
    "outputId": "effeb889-6c66-4777-f4b3-dcb5e8919291"
   },
   "execution_count": null,
   "outputs": [
    {
     "output_type": "execute_result",
     "data": {
      "text/plain": [
       "((), ())"
      ]
     },
     "metadata": {},
     "execution_count": 5
    }
   ]
  },
  {
   "cell_type": "code",
   "source": [
    "# Turn our NumPY arrays into tensors\n",
    "X = tf.cast(tf.constant(X), dtype=tf.float32)\n",
    "y = tf.cast(tf.constant(y), dtype=tf.float32)\n",
    "X, y"
   ],
   "metadata": {
    "colab": {
     "base_uri": "https://localhost:8080/"
    },
    "id": "FyMfNGRIZLnd",
    "outputId": "a6396a0b-eefb-4ccf-9225-b1298b9e3806"
   },
   "execution_count": null,
   "outputs": [
    {
     "output_type": "execute_result",
     "data": {
      "text/plain": [
       "(<tf.Tensor: shape=(8,), dtype=float32, numpy=array([-7., -4., -1.,  2.,  5.,  8., 11., 14.], dtype=float32)>,\n",
       " <tf.Tensor: shape=(8,), dtype=float32, numpy=array([ 3.,  6.,  9., 12., 15., 18., 21., 24.], dtype=float32)>)"
      ]
     },
     "metadata": {},
     "execution_count": 6
    }
   ]
  },
  {
   "cell_type": "code",
   "source": [
    "plt.scatter(X, y)"
   ],
   "metadata": {
    "colab": {
     "base_uri": "https://localhost:8080/",
     "height": 286
    },
    "id": "42B3f89JaR1o",
    "outputId": "ab643739-4a7a-4395-8f36-8d983995a130"
   },
   "execution_count": null,
   "outputs": [
    {
     "output_type": "execute_result",
     "data": {
      "text/plain": [
       "<matplotlib.collections.PathCollection at 0x7fb119e9db80>"
      ]
     },
     "metadata": {},
     "execution_count": 7
    },
    {
     "output_type": "display_data",
     "data": {
      "text/plain": [
       "<Figure size 432x288 with 1 Axes>"
      ],
      "image/png": "[encoded data removed]"
     },
     "metadata": {
      "needs_background": "light"
     }
    }
   ]
  },
  {
   "cell_type": "markdown",
   "source": [
    "## Steps in modelling with TensorFlow\n",
    "\n",
    "1. Creating a model - define the input and output layers as well as the hidden layers of a deep learning model.\n",
    "2. Compiling a model - define the loss function (in other words, the function which tells our model how wrong it is) and the optimizer (tells our model how to improve the patterns its learning) and evaluation metrices (what we can use to interpret the performance of our model).\n",
    "3. Fitting a model - letting the model try to find patters between X & Y (features and labels)."
   ],
   "metadata": {
    "id": "bMmAc9Lhaau6"
   }
  },
  {
   "cell_type": "code",
   "source": [],
   "metadata": {
    "id": "kHd9UZfrehFC"
   },
   "execution_count": null,
   "outputs": []
  },
  {
   "cell_type": "code",
   "source": [
    "# Set random seed\n",
    "tf.random.set_seed(42)\n",
    "\n",
    "# Create a model using the Sequential API\n",
    "model = tf.keras.Sequential([\n",
    "    tf.keras.layers.Dense(1)\n",
    "])\n",
    "\n",
    "#2. Compile the model\n",
    "\n",
    "model.compile(loss=tf.keras.losses.mae, # mean absolute error\n",
    "              optimizer=tf.keras.optimizers.SGD(), # Stochastic gradient descent.\n",
    "              metrics=[\"mae\"]\n",
    "              )\n",
    "\n",
    "# 3. Fit the model\n",
    "model.fit(tf.expand_dims(X, -1), y, epochs=5)\n"
   ],
   "metadata": {
    "colab": {
     "base_uri": "https://localhost:8080/"
    },
    "id": "mzW_i-WYadYC",
    "outputId": "8db50aa4-ddd6-4906-fc6e-90872060630a"
   },
   "execution_count": null,
   "outputs": [
    {
     "output_type": "stream",
     "name": "stdout",
     "text": [
      "Epoch 1/5\n",
      "1/1 [==============================] - 1s 642ms/step - loss: 9.3876 - mae: 9.3876\n",
      "Epoch 2/5\n",
      "1/1 [==============================] - 0s 13ms/step - loss: 9.2551 - mae: 9.2551\n",
      "Epoch 3/5\n",
      "1/1 [==============================] - 0s 15ms/step - loss: 9.1226 - mae: 9.1226\n",
      "Epoch 4/5\n",
      "1/1 [==============================] - 0s 13ms/step - loss: 8.9901 - mae: 8.9901\n",
      "Epoch 5/5\n",
      "1/1 [==============================] - 0s 15ms/step - loss: 8.8576 - mae: 8.8576\n"
     ]
    },
    {
     "output_type": "execute_result",
     "data": {
      "text/plain": [
       "<keras.callbacks.History at 0x7fb119d33e20>"
      ]
     },
     "metadata": {},
     "execution_count": 8
    }
   ]
  },
  {
   "cell_type": "code",
   "source": [
    "# Check out X and Y\n",
    "X, y"
   ],
   "metadata": {
    "colab": {
     "base_uri": "https://localhost:8080/"
    },
    "id": "iU03czOTdx7z",
    "outputId": "c7df438d-41b6-4d76-b6b9-9ca707a232a5"
   },
   "execution_count": null,
   "outputs": [
    {
     "output_type": "execute_result",
     "data": {
      "text/plain": [
       "(<tf.Tensor: shape=(8,), dtype=float32, numpy=array([-7., -4., -1.,  2.,  5.,  8., 11., 14.], dtype=float32)>,\n",
       " <tf.Tensor: shape=(8,), dtype=float32, numpy=array([ 3.,  6.,  9., 12., 15., 18., 21., 24.], dtype=float32)>)"
      ]
     },
     "metadata": {},
     "execution_count": 9
    }
   ]
  },
  {
   "cell_type": "code",
   "source": [
    "# Try and make a prediction using our model\n",
    "model.predict([17.0])"
   ],
   "metadata": {
    "colab": {
     "base_uri": "https://localhost:8080/"
    },
    "id": "Fbr9Wy9GgiOi",
    "outputId": "120d2f8b-4d7d-4131-b0a3-49dd5f0889de"
   },
   "execution_count": null,
   "outputs": [
    {
     "output_type": "stream",
     "name": "stdout",
     "text": [
      "1/1 [==============================] - 0s 103ms/step\n"
     ]
    },
    {
     "output_type": "execute_result",
     "data": {
      "text/plain": [
       "array([[22.999641]], dtype=float32)"
      ]
     },
     "metadata": {},
     "execution_count": 10
    }
   ]
  },
  {
   "cell_type": "markdown",
   "source": [
    "### improving model\n",
    "\n",
    "We can improve our model, by altering the steps we took to create a model.\n",
    "\n",
    "1. **Creating a model** - here we might add more layers, increase the number of hidden units (also called neurons) within each of the hidden layers, change the activation function of each layer.\n",
    "2. **Compiling a model** - here we might change the optimization function or perhaps the **learning rate** of said optimizaion function. \n",
    "3. **Fitting a model** - here we might fit a model more **epochs** (leave it training for longer) or on more data (give the model more examples to learn from)."
   ],
   "metadata": {
    "id": "OCqk1AK9gnKh"
   }
  },
  {
   "cell_type": "code",
   "source": [
    "# Let's rebuild our model\n",
    "\n",
    "#1. Create the model\n",
    "model = tf.keras.Sequential([\n",
    "    tf.keras.layers.Dense(1)\n",
    "])\n",
    "\n",
    "# 2. Compile the model\n",
    "model.compile(loss=tf.keras.losses.mae,\n",
    "              optimizer=tf.keras.optimizers.SGD(),\n",
    "              metrics=[\"mae\"])\n",
    "\n",
    "# 3. Fit the model (this time we'll train longer)\n",
    "model.fit(tf.expand_dims(X, -1), y, epochs=100)"
   ],
   "metadata": {
    "colab": {
     "base_uri": "https://localhost:8080/"
    },
    "id": "sOfnNo9OhWLM",
    "outputId": "74d8211e-19ff-4ef1-d8b6-9e10cf68d679"
   },
   "execution_count": null,
   "outputs": [
    {
     "output_type": "stream",
     "name": "stdout",
     "text": [
      "Epoch 1/100\n",
      "1/1 [==============================] - 1s 603ms/step - loss: 10.7607 - mae: 10.7607\n",
      "Epoch 2/100\n",
      "1/1 [==============================] - 0s 13ms/step - loss: 10.6282 - mae: 10.6282\n",
      "Epoch 3/100\n",
      "1/1 [==============================] - 0s 15ms/step - loss: 10.4957 - mae: 10.4957\n",
      "Epoch 4/100\n",
      "1/1 [==============================] - 0s 13ms/step - loss: 10.3632 - mae: 10.3632\n",
      "Epoch 5/100\n",
      "1/1 [==============================] - 0s 16ms/step - loss: 10.2307 - mae: 10.2307\n",
      "Epoch 6/100\n",
      "1/1 [==============================] - 0s 11ms/step - loss: 10.0982 - mae: 10.0982\n",
      "Epoch 7/100\n",
      "1/1 [==============================] - 0s 13ms/step - loss: 9.9657 - mae: 9.9657\n",
      "Epoch 8/100\n",
      "1/1 [==============================] - 0s 15ms/step - loss: 9.8332 - mae: 9.8332\n",
      "Epoch 9/100\n",
      "1/1 [==============================] - 0s 14ms/step - loss: 9.7007 - mae: 9.7007\n",
      "Epoch 10/100\n",
      "1/1 [==============================] - 0s 11ms/step - loss: 9.5682 - mae: 9.5682\n",
      "Epoch 11/100\n",
      "1/1 [==============================] - 0s 11ms/step - loss: 9.4357 - mae: 9.4357\n",
      "Epoch 12/100\n",
      "1/1 [==============================] - 0s 11ms/step - loss: 9.3032 - mae: 9.3032\n",
      "Epoch 13/100\n",
      "1/1 [==============================] - 0s 11ms/step - loss: 9.1707 - mae: 9.1707\n",
      "Epoch 14/100\n",
      "1/1 [==============================] - 0s 11ms/step - loss: 9.0382 - mae: 9.0382\n",
      "Epoch 15/100\n",
      "1/1 [==============================] - 0s 10ms/step - loss: 8.9057 - mae: 8.9057\n",
      "Epoch 16/100\n",
      "1/1 [==============================] - 0s 15ms/step - loss: 8.7732 - mae: 8.7732\n",
      "Epoch 17/100\n",
      "1/1 [==============================] - 0s 10ms/step - loss: 8.6407 - mae: 8.6407\n",
      "Epoch 18/100\n",
      "1/1 [==============================] - 0s 12ms/step - loss: 8.5082 - mae: 8.5082\n",
      "Epoch 19/100\n",
      "1/1 [==============================] - 0s 12ms/step - loss: 8.3757 - mae: 8.3757\n",
      "Epoch 20/100\n",
      "1/1 [==============================] - 0s 17ms/step - loss: 8.2432 - mae: 8.2432\n",
      "Epoch 21/100\n",
      "1/1 [==============================] - 0s 10ms/step - loss: 8.1107 - mae: 8.1107\n",
      "Epoch 22/100\n",
      "1/1 [==============================] - 0s 11ms/step - loss: 7.9782 - mae: 7.9782\n",
      "Epoch 23/100\n",
      "1/1 [==============================] - 0s 12ms/step - loss: 7.8457 - mae: 7.8457\n",
      "Epoch 24/100\n",
      "1/1 [==============================] - 0s 11ms/step - loss: 7.7132 - mae: 7.7132\n",
      "Epoch 25/100\n",
      "1/1 [==============================] - 0s 13ms/step - loss: 7.5807 - mae: 7.5807\n",
      "Epoch 26/100\n",
      "1/1 [==============================] - 0s 11ms/step - loss: 7.4482 - mae: 7.4482\n",
      "Epoch 27/100\n",
      "1/1 [==============================] - 0s 12ms/step - loss: 7.3157 - mae: 7.3157\n",
      "Epoch 28/100\n",
      "1/1 [==============================] - 0s 11ms/step - loss: 7.2975 - mae: 7.2975\n",
      "Epoch 29/100\n",
      "1/1 [==============================] - 0s 16ms/step - loss: 7.2919 - mae: 7.2919\n",
      "Epoch 30/100\n",
      "1/1 [==============================] - 0s 15ms/step - loss: 7.2863 - mae: 7.2863\n",
      "Epoch 31/100\n",
      "1/1 [==============================] - 0s 17ms/step - loss: 7.2806 - mae: 7.2806\n",
      "Epoch 32/100\n",
      "1/1 [==============================] - 0s 14ms/step - loss: 7.2750 - mae: 7.2750\n",
      "Epoch 33/100\n",
      "1/1 [==============================] - 0s 13ms/step - loss: 7.2694 - mae: 7.2694\n",
      "Epoch 34/100\n",
      "1/1 [==============================] - 0s 12ms/step - loss: 7.2638 - mae: 7.2638\n",
      "Epoch 35/100\n",
      "1/1 [==============================] - 0s 10ms/step - loss: 7.2581 - mae: 7.2581\n",
      "Epoch 36/100\n",
      "1/1 [==============================] - 0s 12ms/step - loss: 7.2525 - mae: 7.2525\n",
      "Epoch 37/100\n",
      "1/1 [==============================] - 0s 14ms/step - loss: 7.2469 - mae: 7.2469\n",
      "Epoch 38/100\n",
      "1/1 [==============================] - 0s 11ms/step - loss: 7.2413 - mae: 7.2413\n",
      "Epoch 39/100\n",
      "1/1 [==============================] - 0s 15ms/step - loss: 7.2356 - mae: 7.2356\n",
      "Epoch 40/100\n",
      "1/1 [==============================] - 0s 15ms/step - loss: 7.2300 - mae: 7.2300\n",
      "Epoch 41/100\n",
      "1/1 [==============================] - 0s 11ms/step - loss: 7.2244 - mae: 7.2244\n",
      "Epoch 42/100\n",
      "1/1 [==============================] - 0s 10ms/step - loss: 7.2188 - mae: 7.2188\n",
      "Epoch 43/100\n",
      "1/1 [==============================] - 0s 10ms/step - loss: 7.2131 - mae: 7.2131\n",
      "Epoch 44/100\n",
      "1/1 [==============================] - 0s 11ms/step - loss: 7.2075 - mae: 7.2075\n",
      "Epoch 45/100\n",
      "1/1 [==============================] - 0s 11ms/step - loss: 7.2019 - mae: 7.2019\n",
      "Epoch 46/100\n",
      "1/1 [==============================] - 0s 10ms/step - loss: 7.1962 - mae: 7.1962\n",
      "Epoch 47/100\n",
      "1/1 [==============================] - 0s 11ms/step - loss: 7.1906 - mae: 7.1906\n",
      "Epoch 48/100\n",
      "1/1 [==============================] - 0s 11ms/step - loss: 7.1850 - mae: 7.1850\n",
      "Epoch 49/100\n",
      "1/1 [==============================] - 0s 11ms/step - loss: 7.1794 - mae: 7.1794\n",
      "Epoch 50/100\n",
      "1/1 [==============================] - 0s 11ms/step - loss: 7.1738 - mae: 7.1738\n",
      "Epoch 51/100\n",
      "1/1 [==============================] - 0s 10ms/step - loss: 7.1681 - mae: 7.1681\n",
      "Epoch 52/100\n",
      "1/1 [==============================] - 0s 12ms/step - loss: 7.1625 - mae: 7.1625\n",
      "Epoch 53/100\n",
      "1/1 [==============================] - 0s 11ms/step - loss: 7.1569 - mae: 7.1569\n",
      "Epoch 54/100\n",
      "1/1 [==============================] - 0s 11ms/step - loss: 7.1513 - mae: 7.1513\n",
      "Epoch 55/100\n",
      "1/1 [==============================] - 0s 11ms/step - loss: 7.1456 - mae: 7.1456\n",
      "Epoch 56/100\n",
      "1/1 [==============================] - 0s 12ms/step - loss: 7.1400 - mae: 7.1400\n",
      "Epoch 57/100\n",
      "1/1 [==============================] - 0s 11ms/step - loss: 7.1344 - mae: 7.1344\n",
      "Epoch 58/100\n",
      "1/1 [==============================] - 0s 12ms/step - loss: 7.1288 - mae: 7.1288\n",
      "Epoch 59/100\n",
      "1/1 [==============================] - 0s 11ms/step - loss: 7.1231 - mae: 7.1231\n",
      "Epoch 60/100\n",
      "1/1 [==============================] - 0s 11ms/step - loss: 7.1175 - mae: 7.1175\n",
      "Epoch 61/100\n",
      "1/1 [==============================] - 0s 10ms/step - loss: 7.1119 - mae: 7.1119\n",
      "Epoch 62/100\n",
      "1/1 [==============================] - 0s 11ms/step - loss: 7.1063 - mae: 7.1063\n",
      "Epoch 63/100\n",
      "1/1 [==============================] - 0s 11ms/step - loss: 7.1006 - mae: 7.1006\n",
      "Epoch 64/100\n",
      "1/1 [==============================] - 0s 11ms/step - loss: 7.0950 - mae: 7.0950\n",
      "Epoch 65/100\n",
      "1/1 [==============================] - 0s 11ms/step - loss: 7.0894 - mae: 7.0894\n",
      "Epoch 66/100\n",
      "1/1 [==============================] - 0s 13ms/step - loss: 7.0838 - mae: 7.0838\n",
      "Epoch 67/100\n",
      "1/1 [==============================] - 0s 12ms/step - loss: 7.0781 - mae: 7.0781\n",
      "Epoch 68/100\n",
      "1/1 [==============================] - 0s 12ms/step - loss: 7.0725 - mae: 7.0725\n",
      "Epoch 69/100\n",
      "1/1 [==============================] - 0s 11ms/step - loss: 7.0669 - mae: 7.0669\n",
      "Epoch 70/100\n",
      "1/1 [==============================] - 0s 12ms/step - loss: 7.0613 - mae: 7.0613\n",
      "Epoch 71/100\n",
      "1/1 [==============================] - 0s 11ms/step - loss: 7.0556 - mae: 7.0556\n",
      "Epoch 72/100\n",
      "1/1 [==============================] - 0s 12ms/step - loss: 7.0500 - mae: 7.0500\n",
      "Epoch 73/100\n",
      "1/1 [==============================] - 0s 12ms/step - loss: 7.0444 - mae: 7.0444\n",
      "Epoch 74/100\n",
      "1/1 [==============================] - 0s 12ms/step - loss: 7.0388 - mae: 7.0388\n",
      "Epoch 75/100\n",
      "1/1 [==============================] - 0s 12ms/step - loss: 7.0331 - mae: 7.0331\n",
      "Epoch 76/100\n",
      "1/1 [==============================] - 0s 13ms/step - loss: 7.0275 - mae: 7.0275\n",
      "Epoch 77/100\n",
      "1/1 [==============================] - 0s 12ms/step - loss: 7.0219 - mae: 7.0219\n",
      "Epoch 78/100\n",
      "1/1 [==============================] - 0s 15ms/step - loss: 7.0163 - mae: 7.0163\n",
      "Epoch 79/100\n",
      "1/1 [==============================] - 0s 12ms/step - loss: 7.0106 - mae: 7.0106\n",
      "Epoch 80/100\n",
      "1/1 [==============================] - 0s 11ms/step - loss: 7.0050 - mae: 7.0050\n",
      "Epoch 81/100\n",
      "1/1 [==============================] - 0s 11ms/step - loss: 6.9994 - mae: 6.9994\n",
      "Epoch 82/100\n",
      "1/1 [==============================] - 0s 11ms/step - loss: 6.9938 - mae: 6.9938\n",
      "Epoch 83/100\n",
      "1/1 [==============================] - 0s 11ms/step - loss: 6.9881 - mae: 6.9881\n",
      "Epoch 84/100\n",
      "1/1 [==============================] - 0s 11ms/step - loss: 6.9825 - mae: 6.9825\n",
      "Epoch 85/100\n",
      "1/1 [==============================] - 0s 12ms/step - loss: 6.9769 - mae: 6.9769\n",
      "Epoch 86/100\n",
      "1/1 [==============================] - 0s 12ms/step - loss: 6.9713 - mae: 6.9713\n",
      "Epoch 87/100\n",
      "1/1 [==============================] - 0s 11ms/step - loss: 6.9656 - mae: 6.9656\n",
      "Epoch 88/100\n",
      "1/1 [==============================] - 0s 9ms/step - loss: 6.9600 - mae: 6.9600\n",
      "Epoch 89/100\n",
      "1/1 [==============================] - 0s 13ms/step - loss: 6.9544 - mae: 6.9544\n",
      "Epoch 90/100\n",
      "1/1 [==============================] - 0s 30ms/step - loss: 6.9488 - mae: 6.9488\n",
      "Epoch 91/100\n",
      "1/1 [==============================] - 0s 21ms/step - loss: 6.9431 - mae: 6.9431\n",
      "Epoch 92/100\n",
      "1/1 [==============================] - 0s 18ms/step - loss: 6.9375 - mae: 6.9375\n",
      "Epoch 93/100\n",
      "1/1 [==============================] - 0s 12ms/step - loss: 6.9319 - mae: 6.9319\n",
      "Epoch 94/100\n",
      "1/1 [==============================] - 0s 11ms/step - loss: 6.9263 - mae: 6.9263\n",
      "Epoch 95/100\n",
      "1/1 [==============================] - 0s 12ms/step - loss: 6.9206 - mae: 6.9206\n",
      "Epoch 96/100\n",
      "1/1 [==============================] - 0s 12ms/step - loss: 6.9150 - mae: 6.9150\n",
      "Epoch 97/100\n",
      "1/1 [==============================] - 0s 11ms/step - loss: 6.9094 - mae: 6.9094\n",
      "Epoch 98/100\n",
      "1/1 [==============================] - 0s 16ms/step - loss: 6.9038 - mae: 6.9038\n",
      "Epoch 99/100\n",
      "1/1 [==============================] - 0s 15ms/step - loss: 6.8981 - mae: 6.8981\n",
      "Epoch 100/100\n",
      "1/1 [==============================] - 0s 15ms/step - loss: 6.8925 - mae: 6.8925\n"
     ]
    },
    {
     "output_type": "execute_result",
     "data": {
      "text/plain": [
       "<keras.callbacks.History at 0x7fb11a640ee0>"
      ]
     },
     "metadata": {},
     "execution_count": 11
    }
   ]
  },
  {
   "cell_type": "code",
   "source": [
    "# Remind ourselfves of the data\n",
    "X, y"
   ],
   "metadata": {
    "colab": {
     "base_uri": "https://localhost:8080/"
    },
    "id": "vkOqJ8Zq_USZ",
    "outputId": "523a6239-f35f-4f3a-9338-32811c3e161e"
   },
   "execution_count": null,
   "outputs": [
    {
     "output_type": "execute_result",
     "data": {
      "text/plain": [
       "(<tf.Tensor: shape=(8,), dtype=float32, numpy=array([-7., -4., -1.,  2.,  5.,  8., 11., 14.], dtype=float32)>,\n",
       " <tf.Tensor: shape=(8,), dtype=float32, numpy=array([ 3.,  6.,  9., 12., 15., 18., 21., 24.], dtype=float32)>)"
      ]
     },
     "metadata": {},
     "execution_count": 12
    }
   ]
  },
  {
   "cell_type": "code",
   "source": [
    "# Let's see if our model's prediction has improved\n",
    "model.predict([17.0])"
   ],
   "metadata": {
    "colab": {
     "base_uri": "https://localhost:8080/"
    },
    "id": "hWYBvb6TAUYk",
    "outputId": "69283431-44bf-4a53-d2f0-ea3c99ddcae6"
   },
   "execution_count": null,
   "outputs": [
    {
     "output_type": "stream",
     "name": "stdout",
     "text": [
      "1/1 [==============================] - 0s 241ms/step\n"
     ]
    },
    {
     "output_type": "execute_result",
     "data": {
      "text/plain": [
       "array([[30.187614]], dtype=float32)"
      ]
     },
     "metadata": {},
     "execution_count": 13
    }
   ]
  },
  {
   "cell_type": "code",
   "source": [
    "# Let's see if we can improve more\n",
    "\n",
    "#1. Create the model this time with an additional layer.\n",
    "model = tf.keras.Sequential([\n",
    "    tf.keras.layers.Dense(100, activation=\"relu\"),\n",
    "    tf.keras.layers.Dense(1),\n",
    "])\n",
    "\n",
    "# 2. Compile the model\n",
    "model.compile(loss=tf.keras.losses.mae,\n",
    "              optimizer=tf.keras.optimizers.SGD(),\n",
    "              metrics=[\"mae\"])\n",
    "\n",
    "# 3. Fit the model (this time we'll train longer)\n",
    "model.fit(tf.expand_dims(X, -1), y, epochs=100)"
   ],
   "metadata": {
    "colab": {
     "base_uri": "https://localhost:8080/"
    },
    "id": "L5ctm5LPAaSU",
    "outputId": "f9bdacbd-4403-4d62-8307-c6eedc61bbb9"
   },
   "execution_count": null,
   "outputs": [
    {
     "output_type": "stream",
     "name": "stdout",
     "text": [
      "Epoch 1/100\n",
      "1/1 [==============================] - 2s 2s/step - loss: 12.9988 - mae: 12.9988\n",
      "Epoch 2/100\n",
      "1/1 [==============================] - 0s 14ms/step - loss: 12.4329 - mae: 12.4329\n",
      "Epoch 3/100\n",
      "1/1 [==============================] - 0s 11ms/step - loss: 11.8650 - mae: 11.8650\n",
      "Epoch 4/100\n",
      "1/1 [==============================] - 0s 11ms/step - loss: 11.3083 - mae: 11.3083\n",
      "Epoch 5/100\n",
      "1/1 [==============================] - 0s 14ms/step - loss: 10.7430 - mae: 10.7430\n",
      "Epoch 6/100\n",
      "1/1 [==============================] - 0s 11ms/step - loss: 10.1606 - mae: 10.1606\n",
      "Epoch 7/100\n",
      "1/1 [==============================] - 0s 11ms/step - loss: 9.5541 - mae: 9.5541\n",
      "Epoch 8/100\n",
      "1/1 [==============================] - 0s 12ms/step - loss: 8.9138 - mae: 8.9138\n",
      "Epoch 9/100\n",
      "1/1 [==============================] - 0s 10ms/step - loss: 8.2350 - mae: 8.2350\n",
      "Epoch 10/100\n",
      "1/1 [==============================] - 0s 11ms/step - loss: 7.5095 - mae: 7.5095\n",
      "Epoch 11/100\n",
      "1/1 [==============================] - 0s 13ms/step - loss: 6.7352 - mae: 6.7352\n",
      "Epoch 12/100\n",
      "1/1 [==============================] - 0s 13ms/step - loss: 5.9155 - mae: 5.9155\n",
      "Epoch 13/100\n",
      "1/1 [==============================] - 0s 11ms/step - loss: 5.0693 - mae: 5.0693\n",
      "Epoch 14/100\n",
      "1/1 [==============================] - 0s 13ms/step - loss: 4.1881 - mae: 4.1881\n",
      "Epoch 15/100\n",
      "1/1 [==============================] - 0s 13ms/step - loss: 4.0947 - mae: 4.0947\n",
      "Epoch 16/100\n",
      "1/1 [==============================] - 0s 12ms/step - loss: 3.9993 - mae: 3.9993\n",
      "Epoch 17/100\n",
      "1/1 [==============================] - 0s 16ms/step - loss: 3.9014 - mae: 3.9014\n",
      "Epoch 18/100\n",
      "1/1 [==============================] - 0s 12ms/step - loss: 3.9707 - mae: 3.9707\n",
      "Epoch 19/100\n",
      "1/1 [==============================] - 0s 12ms/step - loss: 3.9107 - mae: 3.9107\n",
      "Epoch 20/100\n",
      "1/1 [==============================] - 0s 13ms/step - loss: 3.9571 - mae: 3.9571\n",
      "Epoch 21/100\n",
      "1/1 [==============================] - 0s 11ms/step - loss: 3.9170 - mae: 3.9170\n",
      "Epoch 22/100\n",
      "1/1 [==============================] - 0s 22ms/step - loss: 3.9315 - mae: 3.9315\n",
      "Epoch 23/100\n",
      "1/1 [==============================] - 0s 29ms/step - loss: 3.9234 - mae: 3.9234\n",
      "Epoch 24/100\n",
      "1/1 [==============================] - 0s 34ms/step - loss: 3.9057 - mae: 3.9057\n",
      "Epoch 25/100\n",
      "1/1 [==============================] - 0s 14ms/step - loss: 3.9300 - mae: 3.9300\n",
      "Epoch 26/100\n",
      "1/1 [==============================] - 0s 10ms/step - loss: 3.8827 - mae: 3.8827\n",
      "Epoch 27/100\n",
      "1/1 [==============================] - 0s 14ms/step - loss: 3.9457 - mae: 3.9457\n",
      "Epoch 28/100\n",
      "1/1 [==============================] - 0s 10ms/step - loss: 3.8786 - mae: 3.8786\n",
      "Epoch 29/100\n",
      "1/1 [==============================] - 0s 12ms/step - loss: 3.9351 - mae: 3.9351\n",
      "Epoch 30/100\n",
      "1/1 [==============================] - 0s 11ms/step - loss: 3.8851 - mae: 3.8851\n",
      "Epoch 31/100\n",
      "1/1 [==============================] - 0s 12ms/step - loss: 3.9092 - mae: 3.9092\n",
      "Epoch 32/100\n",
      "1/1 [==============================] - 0s 13ms/step - loss: 3.8918 - mae: 3.8918\n",
      "Epoch 33/100\n",
      "1/1 [==============================] - 0s 13ms/step - loss: 3.8833 - mae: 3.8833\n",
      "Epoch 34/100\n",
      "1/1 [==============================] - 0s 11ms/step - loss: 3.9016 - mae: 3.9016\n",
      "Epoch 35/100\n",
      "1/1 [==============================] - 0s 12ms/step - loss: 3.8657 - mae: 3.8657\n",
      "Epoch 36/100\n",
      "1/1 [==============================] - 0s 13ms/step - loss: 3.9144 - mae: 3.9144\n",
      "Epoch 37/100\n",
      "1/1 [==============================] - 0s 11ms/step - loss: 3.8476 - mae: 3.8476\n",
      "Epoch 38/100\n",
      "1/1 [==============================] - 0s 39ms/step - loss: 3.9120 - mae: 3.9120\n",
      "Epoch 39/100\n",
      "1/1 [==============================] - 0s 12ms/step - loss: 3.8544 - mae: 3.8544\n",
      "Epoch 40/100\n",
      "1/1 [==============================] - 0s 12ms/step - loss: 3.8859 - mae: 3.8859\n",
      "Epoch 41/100\n",
      "1/1 [==============================] - 0s 35ms/step - loss: 3.8614 - mae: 3.8614\n",
      "Epoch 42/100\n",
      "1/1 [==============================] - 0s 25ms/step - loss: 3.8633 - mae: 3.8633\n",
      "Epoch 43/100\n",
      "1/1 [==============================] - 0s 18ms/step - loss: 3.8774 - mae: 3.8774\n",
      "Epoch 44/100\n",
      "1/1 [==============================] - 0s 27ms/step - loss: 3.8418 - mae: 3.8418\n",
      "Epoch 45/100\n",
      "1/1 [==============================] - 0s 17ms/step - loss: 3.8843 - mae: 3.8843\n",
      "Epoch 46/100\n",
      "1/1 [==============================] - 0s 21ms/step - loss: 3.8179 - mae: 3.8179\n",
      "Epoch 47/100\n",
      "1/1 [==============================] - 0s 25ms/step - loss: 3.8876 - mae: 3.8876\n",
      "Epoch 48/100\n",
      "1/1 [==============================] - 0s 29ms/step - loss: 3.8250 - mae: 3.8250\n",
      "Epoch 49/100\n",
      "1/1 [==============================] - 0s 30ms/step - loss: 3.8613 - mae: 3.8613\n",
      "Epoch 50/100\n",
      "1/1 [==============================] - 0s 21ms/step - loss: 3.8355 - mae: 3.8355\n",
      "Epoch 51/100\n",
      "1/1 [==============================] - 0s 20ms/step - loss: 3.8432 - mae: 3.8432\n",
      "Epoch 52/100\n",
      "1/1 [==============================] - 0s 22ms/step - loss: 3.8483 - mae: 3.8483\n",
      "Epoch 53/100\n",
      "1/1 [==============================] - 0s 13ms/step - loss: 3.8166 - mae: 3.8166\n",
      "Epoch 54/100\n",
      "1/1 [==============================] - 0s 14ms/step - loss: 3.8554 - mae: 3.8554\n",
      "Epoch 55/100\n",
      "1/1 [==============================] - 0s 13ms/step - loss: 3.7898 - mae: 3.7898\n",
      "Epoch 56/100\n",
      "1/1 [==============================] - 0s 27ms/step - loss: 3.8628 - mae: 3.8628\n",
      "Epoch 57/100\n",
      "1/1 [==============================] - 0s 43ms/step - loss: 3.7965 - mae: 3.7965\n",
      "Epoch 58/100\n",
      "1/1 [==============================] - 0s 33ms/step - loss: 3.8392 - mae: 3.8392\n",
      "Epoch 59/100\n",
      "1/1 [==============================] - 0s 29ms/step - loss: 3.8128 - mae: 3.8128\n",
      "Epoch 60/100\n",
      "1/1 [==============================] - 0s 23ms/step - loss: 3.8171 - mae: 3.8171\n",
      "Epoch 61/100\n",
      "1/1 [==============================] - 0s 14ms/step - loss: 3.8202 - mae: 3.8202\n",
      "Epoch 62/100\n",
      "1/1 [==============================] - 0s 17ms/step - loss: 3.7902 - mae: 3.7902\n",
      "Epoch 63/100\n",
      "1/1 [==============================] - 0s 15ms/step - loss: 3.8275 - mae: 3.8275\n",
      "Epoch 64/100\n",
      "1/1 [==============================] - 0s 14ms/step - loss: 3.7633 - mae: 3.7633\n",
      "Epoch 65/100\n",
      "1/1 [==============================] - 0s 20ms/step - loss: 3.8352 - mae: 3.8352\n",
      "Epoch 66/100\n",
      "1/1 [==============================] - 0s 33ms/step - loss: 3.7719 - mae: 3.7719\n",
      "Epoch 67/100\n",
      "1/1 [==============================] - 0s 25ms/step - loss: 3.8170 - mae: 3.8170\n",
      "Epoch 68/100\n",
      "1/1 [==============================] - 0s 18ms/step - loss: 3.7856 - mae: 3.7856\n",
      "Epoch 69/100\n",
      "1/1 [==============================] - 0s 25ms/step - loss: 3.7898 - mae: 3.7898\n",
      "Epoch 70/100\n",
      "1/1 [==============================] - 0s 16ms/step - loss: 3.7931 - mae: 3.7931\n",
      "Epoch 71/100\n",
      "1/1 [==============================] - 0s 13ms/step - loss: 3.7626 - mae: 3.7626\n",
      "Epoch 72/100\n",
      "1/1 [==============================] - 0s 12ms/step - loss: 3.8008 - mae: 3.8008\n",
      "Epoch 73/100\n",
      "1/1 [==============================] - 0s 13ms/step - loss: 3.7354 - mae: 3.7354\n",
      "Epoch 74/100\n",
      "1/1 [==============================] - 0s 12ms/step - loss: 3.8101 - mae: 3.8101\n",
      "Epoch 75/100\n",
      "1/1 [==============================] - 0s 13ms/step - loss: 3.7520 - mae: 3.7520\n",
      "Epoch 76/100\n",
      "1/1 [==============================] - 0s 10ms/step - loss: 3.7884 - mae: 3.7884\n",
      "Epoch 77/100\n",
      "1/1 [==============================] - 0s 10ms/step - loss: 3.7596 - mae: 3.7596\n",
      "Epoch 78/100\n",
      "1/1 [==============================] - 0s 15ms/step - loss: 3.7608 - mae: 3.7608\n",
      "Epoch 79/100\n",
      "1/1 [==============================] - 0s 14ms/step - loss: 3.7674 - mae: 3.7674\n",
      "Epoch 80/100\n",
      "1/1 [==============================] - 0s 14ms/step - loss: 3.7335 - mae: 3.7335\n",
      "Epoch 81/100\n",
      "1/1 [==============================] - 0s 11ms/step - loss: 3.7753 - mae: 3.7753\n",
      "Epoch 82/100\n",
      "1/1 [==============================] - 0s 13ms/step - loss: 3.7118 - mae: 3.7118\n",
      "Epoch 83/100\n",
      "1/1 [==============================] - 0s 14ms/step - loss: 3.7863 - mae: 3.7863\n",
      "Epoch 84/100\n",
      "1/1 [==============================] - 0s 13ms/step - loss: 3.7268 - mae: 3.7268\n",
      "Epoch 85/100\n",
      "1/1 [==============================] - 0s 12ms/step - loss: 3.7585 - mae: 3.7585\n",
      "Epoch 86/100\n",
      "1/1 [==============================] - 0s 11ms/step - loss: 3.7346 - mae: 3.7346\n",
      "Epoch 87/100\n",
      "1/1 [==============================] - 0s 11ms/step - loss: 3.7309 - mae: 3.7309\n",
      "Epoch 88/100\n",
      "1/1 [==============================] - 0s 12ms/step - loss: 3.7425 - mae: 3.7425\n",
      "Epoch 89/100\n",
      "1/1 [==============================] - 0s 13ms/step - loss: 3.7033 - mae: 3.7033\n",
      "Epoch 90/100\n",
      "1/1 [==============================] - 0s 14ms/step - loss: 3.7513 - mae: 3.7513\n",
      "Epoch 91/100\n",
      "1/1 [==============================] - 0s 12ms/step - loss: 3.6945 - mae: 3.6945\n",
      "Epoch 92/100\n",
      "1/1 [==============================] - 0s 13ms/step - loss: 3.7556 - mae: 3.7556\n",
      "Epoch 93/100\n",
      "1/1 [==============================] - 0s 12ms/step - loss: 3.7024 - mae: 3.7024\n",
      "Epoch 94/100\n",
      "1/1 [==============================] - 0s 12ms/step - loss: 3.7275 - mae: 3.7275\n",
      "Epoch 95/100\n",
      "1/1 [==============================] - 0s 12ms/step - loss: 3.7104 - mae: 3.7104\n",
      "Epoch 96/100\n",
      "1/1 [==============================] - 0s 31ms/step - loss: 3.6994 - mae: 3.6994\n",
      "Epoch 97/100\n",
      "1/1 [==============================] - 0s 20ms/step - loss: 3.7189 - mae: 3.7189\n",
      "Epoch 98/100\n",
      "1/1 [==============================] - 0s 22ms/step - loss: 3.6716 - mae: 3.6716\n",
      "Epoch 99/100\n",
      "1/1 [==============================] - 0s 11ms/step - loss: 3.7360 - mae: 3.7360\n",
      "Epoch 100/100\n",
      "1/1 [==============================] - 0s 12ms/step - loss: 3.6711 - mae: 3.6711\n"
     ]
    },
    {
     "output_type": "execute_result",
     "data": {
      "text/plain": [
       "<keras.callbacks.History at 0x7fb11a5f30a0>"
      ]
     },
     "metadata": {},
     "execution_count": 14
    }
   ]
  },
  {
   "cell_type": "code",
   "source": [
    "model.predict([17.0])"
   ],
   "metadata": {
    "colab": {
     "base_uri": "https://localhost:8080/"
    },
    "id": "uhcDvBqBA3AZ",
    "outputId": "739013b8-b3b5-4302-d191-d84e6a2e892e"
   },
   "execution_count": null,
   "outputs": [
    {
     "output_type": "stream",
     "name": "stdout",
     "text": [
      "1/1 [==============================] - 0s 150ms/step\n"
     ]
    },
    {
     "output_type": "execute_result",
     "data": {
      "text/plain": [
       "array([[31.20282]], dtype=float32)"
      ]
     },
     "metadata": {},
     "execution_count": 15
    }
   ]
  },
  {
   "cell_type": "code",
   "source": [
    "# Remind ourselfves of the data\n",
    "X, y"
   ],
   "metadata": {
    "colab": {
     "base_uri": "https://localhost:8080/"
    },
    "id": "UAgO1yOTCHTR",
    "outputId": "2be94cf6-0552-4f33-d771-53bd9a08fc20"
   },
   "execution_count": null,
   "outputs": [
    {
     "output_type": "execute_result",
     "data": {
      "text/plain": [
       "(<tf.Tensor: shape=(8,), dtype=float32, numpy=array([-7., -4., -1.,  2.,  5.,  8., 11., 14.], dtype=float32)>,\n",
       " <tf.Tensor: shape=(8,), dtype=float32, numpy=array([ 3.,  6.,  9., 12., 15., 18., 21., 24.], dtype=float32)>)"
      ]
     },
     "metadata": {},
     "execution_count": 16
    }
   ]
  },
  {
   "cell_type": "code",
   "source": [
    "# Let's see if our model's prediction has improved\n",
    "model.predict([-4.0])"
   ],
   "metadata": {
    "colab": {
     "base_uri": "https://localhost:8080/"
    },
    "id": "0UlBuhnAA64E",
    "outputId": "5b85bf49-0d49-4d73-b11f-62f5a2f240d4"
   },
   "execution_count": null,
   "outputs": [
    {
     "output_type": "stream",
     "name": "stdout",
     "text": [
      "1/1 [==============================] - 0s 46ms/step\n"
     ]
    },
    {
     "output_type": "execute_result",
     "data": {
      "text/plain": [
       "array([[2.089021]], dtype=float32)"
      ]
     },
     "metadata": {},
     "execution_count": 17
    }
   ]
  },
  {
   "cell_type": "code",
   "source": [
    " # Let's see if we can improve more\n",
    "#1. Create the model this time with an additional layer.\n",
    "model = tf.keras.Sequential([\n",
    "    tf.keras.layers.Dense(50, activation=None),\n",
    "    tf.keras.layers.Dense(1),\n",
    "])\n",
    "# 2. Compile the model\n",
    "model.compile(loss=tf.keras.losses.mae,\n",
    "              optimizer=tf.keras.optimizers.Adam(lr=0.01),\n",
    "              metrics=[\"mae\"])\n",
    "# 3. Fit the model (this time we'll train longer)\n",
    "model.fit(tf.expand_dims(X, -1), y, epochs=100)"
   ],
   "metadata": {
    "colab": {
     "base_uri": "https://localhost:8080/"
    },
    "id": "uwLbn_emCJib",
    "outputId": "8c1e4d5b-7dbc-4cdc-aeb7-edd5a7bfd383"
   },
   "execution_count": null,
   "outputs": [
    {
     "output_type": "stream",
     "name": "stderr",
     "text": [
      "WARNING:absl:`lr` is deprecated, please use `learning_rate` instead, or use the legacy optimizer, e.g.,tf.keras.optimizers.legacy.Adam.\n"
     ]
    },
    {
     "output_type": "stream",
     "name": "stdout",
     "text": [
      "Epoch 1/100\n",
      "1/1 [==============================] - 1s 1s/step - loss: 14.1453 - mae: 14.1453\n",
      "Epoch 2/100\n",
      "1/1 [==============================] - 0s 13ms/step - loss: 14.0786 - mae: 14.0786\n",
      "Epoch 3/100\n",
      "1/1 [==============================] - 0s 15ms/step - loss: 14.0119 - mae: 14.0119\n",
      "Epoch 4/100\n",
      "1/1 [==============================] - 0s 23ms/step - loss: 13.9452 - mae: 13.9452\n",
      "Epoch 5/100\n",
      "1/1 [==============================] - 0s 23ms/step - loss: 13.8785 - mae: 13.8785\n",
      "Epoch 6/100\n",
      "1/1 [==============================] - 0s 15ms/step - loss: 13.8119 - mae: 13.8119\n",
      "Epoch 7/100\n",
      "1/1 [==============================] - 0s 17ms/step - loss: 13.7453 - mae: 13.7453\n",
      "Epoch 8/100\n",
      "1/1 [==============================] - 0s 13ms/step - loss: 13.6786 - mae: 13.6786\n",
      "Epoch 9/100\n",
      "1/1 [==============================] - 0s 19ms/step - loss: 13.6120 - mae: 13.6120\n",
      "Epoch 10/100\n",
      "1/1 [==============================] - 0s 13ms/step - loss: 13.5454 - mae: 13.5454\n",
      "Epoch 11/100\n",
      "1/1 [==============================] - 0s 12ms/step - loss: 13.4788 - mae: 13.4788\n",
      "Epoch 12/100\n",
      "1/1 [==============================] - 0s 11ms/step - loss: 13.4121 - mae: 13.4121\n",
      "Epoch 13/100\n",
      "1/1 [==============================] - 0s 15ms/step - loss: 13.3455 - mae: 13.3455\n",
      "Epoch 14/100\n",
      "1/1 [==============================] - 0s 14ms/step - loss: 13.2788 - mae: 13.2788\n",
      "Epoch 15/100\n",
      "1/1 [==============================] - 0s 36ms/step - loss: 13.2120 - mae: 13.2120\n",
      "Epoch 16/100\n",
      "1/1 [==============================] - 0s 23ms/step - loss: 13.1453 - mae: 13.1453\n",
      "Epoch 17/100\n",
      "1/1 [==============================] - 0s 17ms/step - loss: 13.0785 - mae: 13.0785\n",
      "Epoch 18/100\n",
      "1/1 [==============================] - 0s 17ms/step - loss: 13.0116 - mae: 13.0116\n",
      "Epoch 19/100\n",
      "1/1 [==============================] - 0s 10ms/step - loss: 12.9447 - mae: 12.9447\n",
      "Epoch 20/100\n",
      "1/1 [==============================] - 0s 10ms/step - loss: 12.8777 - mae: 12.8777\n",
      "Epoch 21/100\n",
      "1/1 [==============================] - 0s 12ms/step - loss: 12.8106 - mae: 12.8106\n",
      "Epoch 22/100\n",
      "1/1 [==============================] - 0s 15ms/step - loss: 12.7434 - mae: 12.7434\n",
      "Epoch 23/100\n",
      "1/1 [==============================] - 0s 16ms/step - loss: 12.6761 - mae: 12.6761\n",
      "Epoch 24/100\n",
      "1/1 [==============================] - 0s 11ms/step - loss: 12.6088 - mae: 12.6088\n",
      "Epoch 25/100\n",
      "1/1 [==============================] - 0s 12ms/step - loss: 12.5413 - mae: 12.5413\n",
      "Epoch 26/100\n",
      "1/1 [==============================] - 0s 12ms/step - loss: 12.4737 - mae: 12.4737\n",
      "Epoch 27/100\n",
      "1/1 [==============================] - 0s 11ms/step - loss: 12.4059 - mae: 12.4059\n",
      "Epoch 28/100\n",
      "1/1 [==============================] - 0s 13ms/step - loss: 12.3380 - mae: 12.3380\n",
      "Epoch 29/100\n",
      "1/1 [==============================] - 0s 11ms/step - loss: 12.2700 - mae: 12.2700\n",
      "Epoch 30/100\n",
      "1/1 [==============================] - 0s 15ms/step - loss: 12.2019 - mae: 12.2019\n",
      "Epoch 31/100\n",
      "1/1 [==============================] - 0s 12ms/step - loss: 12.1335 - mae: 12.1335\n",
      "Epoch 32/100\n",
      "1/1 [==============================] - 0s 12ms/step - loss: 12.0651 - mae: 12.0651\n",
      "Epoch 33/100\n",
      "1/1 [==============================] - 0s 13ms/step - loss: 11.9964 - mae: 11.9964\n",
      "Epoch 34/100\n",
      "1/1 [==============================] - 0s 30ms/step - loss: 11.9276 - mae: 11.9276\n",
      "Epoch 35/100\n",
      "1/1 [==============================] - 0s 23ms/step - loss: 11.8586 - mae: 11.8586\n",
      "Epoch 36/100\n",
      "1/1 [==============================] - 0s 20ms/step - loss: 11.7894 - mae: 11.7894\n",
      "Epoch 37/100\n",
      "1/1 [==============================] - 0s 21ms/step - loss: 11.7201 - mae: 11.7201\n",
      "Epoch 38/100\n",
      "1/1 [==============================] - 0s 21ms/step - loss: 11.6505 - mae: 11.6505\n",
      "Epoch 39/100\n",
      "1/1 [==============================] - 0s 20ms/step - loss: 11.5807 - mae: 11.5807\n",
      "Epoch 40/100\n",
      "1/1 [==============================] - 0s 17ms/step - loss: 11.5108 - mae: 11.5108\n",
      "Epoch 41/100\n",
      "1/1 [==============================] - 0s 14ms/step - loss: 11.4405 - mae: 11.4405\n",
      "Epoch 42/100\n",
      "1/1 [==============================] - 0s 13ms/step - loss: 11.3701 - mae: 11.3701\n",
      "Epoch 43/100\n",
      "1/1 [==============================] - 0s 11ms/step - loss: 11.2995 - mae: 11.2995\n",
      "Epoch 44/100\n",
      "1/1 [==============================] - 0s 11ms/step - loss: 11.2286 - mae: 11.2286\n",
      "Epoch 45/100\n",
      "1/1 [==============================] - 0s 11ms/step - loss: 11.1574 - mae: 11.1574\n",
      "Epoch 46/100\n",
      "1/1 [==============================] - 0s 12ms/step - loss: 11.0860 - mae: 11.0860\n",
      "Epoch 47/100\n",
      "1/1 [==============================] - 0s 12ms/step - loss: 11.0144 - mae: 11.0144\n",
      "Epoch 48/100\n",
      "1/1 [==============================] - 0s 12ms/step - loss: 10.9425 - mae: 10.9425\n",
      "Epoch 49/100\n",
      "1/1 [==============================] - 0s 14ms/step - loss: 10.8703 - mae: 10.8703\n",
      "Epoch 50/100\n",
      "1/1 [==============================] - 0s 13ms/step - loss: 10.7978 - mae: 10.7978\n",
      "Epoch 51/100\n",
      "1/1 [==============================] - 0s 25ms/step - loss: 10.7250 - mae: 10.7250\n",
      "Epoch 52/100\n",
      "1/1 [==============================] - 0s 22ms/step - loss: 10.6520 - mae: 10.6520\n",
      "Epoch 53/100\n",
      "1/1 [==============================] - 0s 23ms/step - loss: 10.5786 - mae: 10.5786\n",
      "Epoch 54/100\n",
      "1/1 [==============================] - 0s 21ms/step - loss: 10.5049 - mae: 10.5049\n",
      "Epoch 55/100\n",
      "1/1 [==============================] - 0s 30ms/step - loss: 10.4310 - mae: 10.4310\n",
      "Epoch 56/100\n",
      "1/1 [==============================] - 0s 20ms/step - loss: 10.3567 - mae: 10.3567\n",
      "Epoch 57/100\n",
      "1/1 [==============================] - 0s 19ms/step - loss: 10.2820 - mae: 10.2820\n",
      "Epoch 58/100\n",
      "1/1 [==============================] - 0s 23ms/step - loss: 10.2071 - mae: 10.2071\n",
      "Epoch 59/100\n",
      "1/1 [==============================] - 0s 36ms/step - loss: 10.1317 - mae: 10.1317\n",
      "Epoch 60/100\n",
      "1/1 [==============================] - 0s 39ms/step - loss: 10.0561 - mae: 10.0561\n",
      "Epoch 61/100\n",
      "1/1 [==============================] - 0s 21ms/step - loss: 9.9801 - mae: 9.9801\n",
      "Epoch 62/100\n",
      "1/1 [==============================] - 0s 21ms/step - loss: 9.9037 - mae: 9.9037\n",
      "Epoch 63/100\n",
      "1/1 [==============================] - 0s 19ms/step - loss: 9.8269 - mae: 9.8269\n",
      "Epoch 64/100\n",
      "1/1 [==============================] - 0s 18ms/step - loss: 9.7498 - mae: 9.7498\n",
      "Epoch 65/100\n",
      "1/1 [==============================] - 0s 12ms/step - loss: 9.6723 - mae: 9.6723\n",
      "Epoch 66/100\n",
      "1/1 [==============================] - 0s 14ms/step - loss: 9.5944 - mae: 9.5944\n",
      "Epoch 67/100\n",
      "1/1 [==============================] - 0s 14ms/step - loss: 9.5160 - mae: 9.5160\n",
      "Epoch 68/100\n",
      "1/1 [==============================] - 0s 15ms/step - loss: 9.4373 - mae: 9.4373\n",
      "Epoch 69/100\n",
      "1/1 [==============================] - 0s 18ms/step - loss: 9.3582 - mae: 9.3582\n",
      "Epoch 70/100\n",
      "1/1 [==============================] - 0s 16ms/step - loss: 9.2787 - mae: 9.2787\n",
      "Epoch 71/100\n",
      "1/1 [==============================] - 0s 21ms/step - loss: 9.1987 - mae: 9.1987\n",
      "Epoch 72/100\n",
      "1/1 [==============================] - 0s 19ms/step - loss: 9.1183 - mae: 9.1183\n",
      "Epoch 73/100\n",
      "1/1 [==============================] - 0s 25ms/step - loss: 9.0375 - mae: 9.0375\n",
      "Epoch 74/100\n",
      "1/1 [==============================] - 0s 36ms/step - loss: 8.9562 - mae: 8.9562\n",
      "Epoch 75/100\n",
      "1/1 [==============================] - 0s 26ms/step - loss: 8.8745 - mae: 8.8745\n",
      "Epoch 76/100\n",
      "1/1 [==============================] - 0s 27ms/step - loss: 8.7923 - mae: 8.7923\n",
      "Epoch 77/100\n",
      "1/1 [==============================] - 0s 16ms/step - loss: 8.7096 - mae: 8.7096\n",
      "Epoch 78/100\n",
      "1/1 [==============================] - 0s 18ms/step - loss: 8.6265 - mae: 8.6265\n",
      "Epoch 79/100\n",
      "1/1 [==============================] - 0s 29ms/step - loss: 8.5429 - mae: 8.5429\n",
      "Epoch 80/100\n",
      "1/1 [==============================] - 0s 18ms/step - loss: 8.4588 - mae: 8.4588\n",
      "Epoch 81/100\n",
      "1/1 [==============================] - 0s 15ms/step - loss: 8.3743 - mae: 8.3743\n",
      "Epoch 82/100\n",
      "1/1 [==============================] - 0s 13ms/step - loss: 8.2892 - mae: 8.2892\n",
      "Epoch 83/100\n",
      "1/1 [==============================] - 0s 25ms/step - loss: 8.2036 - mae: 8.2036\n",
      "Epoch 84/100\n",
      "1/1 [==============================] - 0s 18ms/step - loss: 8.1176 - mae: 8.1176\n",
      "Epoch 85/100\n",
      "1/1 [==============================] - 0s 12ms/step - loss: 8.0310 - mae: 8.0310\n",
      "Epoch 86/100\n",
      "1/1 [==============================] - 0s 12ms/step - loss: 7.9439 - mae: 7.9439\n",
      "Epoch 87/100\n",
      "1/1 [==============================] - 0s 12ms/step - loss: 7.8563 - mae: 7.8563\n",
      "Epoch 88/100\n",
      "1/1 [==============================] - 0s 14ms/step - loss: 7.7681 - mae: 7.7681\n",
      "Epoch 89/100\n",
      "1/1 [==============================] - 0s 19ms/step - loss: 7.6794 - mae: 7.6794\n",
      "Epoch 90/100\n",
      "1/1 [==============================] - 0s 14ms/step - loss: 7.5902 - mae: 7.5902\n",
      "Epoch 91/100\n",
      "1/1 [==============================] - 0s 15ms/step - loss: 7.5004 - mae: 7.5004\n",
      "Epoch 92/100\n",
      "1/1 [==============================] - 0s 20ms/step - loss: 7.4100 - mae: 7.4100\n",
      "Epoch 93/100\n",
      "1/1 [==============================] - 0s 16ms/step - loss: 7.3191 - mae: 7.3191\n",
      "Epoch 94/100\n",
      "1/1 [==============================] - 0s 15ms/step - loss: 7.2276 - mae: 7.2276\n",
      "Epoch 95/100\n",
      "1/1 [==============================] - 0s 15ms/step - loss: 7.1356 - mae: 7.1356\n",
      "Epoch 96/100\n",
      "1/1 [==============================] - 0s 15ms/step - loss: 7.0430 - mae: 7.0430\n",
      "Epoch 97/100\n",
      "1/1 [==============================] - 0s 28ms/step - loss: 6.9497 - mae: 6.9497\n",
      "Epoch 98/100\n",
      "1/1 [==============================] - 0s 22ms/step - loss: 6.8560 - mae: 6.8560\n",
      "Epoch 99/100\n",
      "1/1 [==============================] - 0s 21ms/step - loss: 6.7616 - mae: 6.7616\n",
      "Epoch 100/100\n",
      "1/1 [==============================] - 0s 11ms/step - loss: 6.6666 - mae: 6.6666\n"
     ]
    },
    {
     "output_type": "execute_result",
     "data": {
      "text/plain": [
       "<keras.callbacks.History at 0x7fb119f802b0>"
      ]
     },
     "metadata": {},
     "execution_count": 18
    }
   ]
  },
  {
   "cell_type": "code",
   "source": [
    "model.predict([17.0])"
   ],
   "metadata": {
    "colab": {
     "base_uri": "https://localhost:8080/"
    },
    "id": "nGawIOdNElYW",
    "outputId": "e4ff48fc-499b-44c8-f62e-1061f3cbf490"
   },
   "execution_count": null,
   "outputs": [
    {
     "output_type": "stream",
     "name": "stdout",
     "text": [
      "1/1 [==============================] - 0s 295ms/step\n"
     ]
    },
    {
     "output_type": "execute_result",
     "data": {
      "text/plain": [
       "array([[29.206833]], dtype=float32)"
      ]
     },
     "metadata": {},
     "execution_count": 19
    }
   ]
  },
  {
   "cell_type": "markdown",
   "source": [
    "### Evaluate the model"
   ],
   "metadata": {
    "id": "ETqHqN-cE0nE"
   }
  },
  {
   "cell_type": "markdown",
   "source": [
    "When it comes to evaluation... there are 3 words you should memorize:\n",
    "\n",
    "\"Visualize, visualize, visualize\"\n",
    "\n",
    "It's a good idea to visualize:\n",
    "\n",
    "* The data - what data are we working with? What does it look like?\n",
    "* The model itself - what does our model look like?\n",
    "* The training of a model - how does a model perform while it learns?\n",
    "* The predictions of the model - how do the predictions of a model line up against the ground truth (the original labels)"
   ],
   "metadata": {
    "id": "aTh1y8P5GF7e"
   }
  },
  {
   "cell_type": "code",
   "source": [
    "# Make a bigger dataset\n",
    "X = tf.range(-100, 100, 4)\n",
    "X\n",
    "\n"
   ],
   "metadata": {
    "colab": {
     "base_uri": "https://localhost:8080/"
    },
    "id": "lCL2ADmLG58r",
    "outputId": "18a17a24-92cf-425d-d424-5058166710b5"
   },
   "execution_count": null,
   "outputs": [
    {
     "output_type": "execute_result",
     "data": {
      "text/plain": [
       "<tf.Tensor: shape=(50,), dtype=int32, numpy=\n",
       "array([-100,  -96,  -92,  -88,  -84,  -80,  -76,  -72,  -68,  -64,  -60,\n",
       "        -56,  -52,  -48,  -44,  -40,  -36,  -32,  -28,  -24,  -20,  -16,\n",
       "        -12,   -8,   -4,    0,    4,    8,   12,   16,   20,   24,   28,\n",
       "         32,   36,   40,   44,   48,   52,   56,   60,   64,   68,   72,\n",
       "         76,   80,   84,   88,   92,   96], dtype=int32)>"
      ]
     },
     "metadata": {},
     "execution_count": 20
    }
   ]
  },
  {
   "cell_type": "code",
   "source": [
    "# MAke labels for the dataset\n",
    "y = X + 10\n",
    "y"
   ],
   "metadata": {
    "colab": {
     "base_uri": "https://localhost:8080/"
    },
    "id": "xIi1DGc0Hhzo",
    "outputId": "8cfdb20d-86d8-4400-feb9-4391d16680b7"
   },
   "execution_count": null,
   "outputs": [
    {
     "output_type": "execute_result",
     "data": {
      "text/plain": [
       "<tf.Tensor: shape=(50,), dtype=int32, numpy=\n",
       "array([-90, -86, -82, -78, -74, -70, -66, -62, -58, -54, -50, -46, -42,\n",
       "       -38, -34, -30, -26, -22, -18, -14, -10,  -6,  -2,   2,   6,  10,\n",
       "        14,  18,  22,  26,  30,  34,  38,  42,  46,  50,  54,  58,  62,\n",
       "        66,  70,  74,  78,  82,  86,  90,  94,  98, 102, 106], dtype=int32)>"
      ]
     },
     "metadata": {},
     "execution_count": 21
    }
   ]
  },
  {
   "cell_type": "code",
   "source": [
    "# Visualize the data\n",
    "import matplotlib.pyplot\n",
    "\n",
    "plt.scatter(X, y)"
   ],
   "metadata": {
    "colab": {
     "base_uri": "https://localhost:8080/",
     "height": 282
    },
    "id": "xpfcxCKFIeB0",
    "outputId": "bef99b96-1866-4501-c765-0ad8f7466f7d"
   },
   "execution_count": null,
   "outputs": [
    {
     "output_type": "execute_result",
     "data": {
      "text/plain": [
       "<matplotlib.collections.PathCollection at 0x7fb11946fb50>"
      ]
     },
     "metadata": {},
     "execution_count": 22
    },
    {
     "output_type": "display_data",
     "data": {
      "text/plain": [
       "<Figure size 432x288 with 1 Axes>"
      ],
      "image/png": "[encoded data removed]"
     },
     "metadata": {
      "needs_background": "light"
     }
    }
   ]
  },
  {
   "cell_type": "markdown",
   "source": [
    "### The 3 sets...\n",
    "\n",
    "* Training set - the model learns from this data, which is typically 70-80% of the total data you have available.\n",
    "* Validation set - the model gets tuned from this data, which is typically 10-15% of the data available.\n",
    "* Test set - the model gets evaluated on this data to test what is has learned, thsi set is typically 10-15% of the total data available.\n"
   ],
   "metadata": {
    "id": "Mn3UzRUUIlEl"
   }
  },
  {
   "cell_type": "code",
   "source": [
    "# Check the length of how many samples we have\n",
    "len(X)"
   ],
   "metadata": {
    "colab": {
     "base_uri": "https://localhost:8080/"
    },
    "id": "Ol6w4LgSJ7YA",
    "outputId": "c8f87a50-b4ac-4b19-89f8-0d06813f24bb"
   },
   "execution_count": null,
   "outputs": [
    {
     "output_type": "execute_result",
     "data": {
      "text/plain": [
       "50"
      ]
     },
     "metadata": {},
     "execution_count": 23
    }
   ]
  },
  {
   "cell_type": "code",
   "source": [
    "# Split the data into train and test sets\n",
    "X_train = X[:40] # first 40 are training samples (80%)\n",
    "y_train = y[:40] \n",
    "\n",
    "X_test = X[40:] # last 10 are testing samples (20%)\n",
    "y_test = y[40:]\n",
    "\n",
    "len(X_train), len(X_test), len(y_train), len(y_test)"
   ],
   "metadata": {
    "colab": {
     "base_uri": "https://localhost:8080/"
    },
    "id": "A0glXB9KKWmA",
    "outputId": "5589f488-e620-4d38-8482-fecb5a5f35bb"
   },
   "execution_count": null,
   "outputs": [
    {
     "output_type": "execute_result",
     "data": {
      "text/plain": [
       "(40, 10, 40, 10)"
      ]
     },
     "metadata": {},
     "execution_count": 24
    }
   ]
  },
  {
   "cell_type": "markdown",
   "source": [
    "### Visualising the data\n",
    "\n",
    "Now we've got our data in training and test sets... let's visualize it again!"
   ],
   "metadata": {
    "id": "V9wOapwaLBkd"
   }
  },
  {
   "cell_type": "code",
   "source": [
    "plt.figure(figsize=(10, 7))\n",
    "# Plot training data in blue\n",
    "plt.scatter(X_train, y_train, c=\"b\", label=\"Training data\")\n",
    "plt.scatter(X_test, y_test, c=\"g\", label=\"Test data\")\n",
    "plt.legend();\n"
   ],
   "metadata": {
    "colab": {
     "base_uri": "https://localhost:8080/",
     "height": 428
    },
    "id": "xsfUGDgbLccE",
    "outputId": "b146e7eb-627b-4974-95de-834c782b273e"
   },
   "execution_count": null,
   "outputs": [
    {
     "output_type": "display_data",
     "data": {
      "text/plain": [
       "<Figure size 720x504 with 1 Axes>"
      ],
      "image/png": "[encoded data removed]"
     },
     "metadata": {
      "needs_background": "light"
     }
    }
   ]
  },
  {
   "cell_type": "code",
   "source": [
    "#Let's have a look at how to build a neural network for this data\n",
    "\n",
    "# 1. Create a model\n",
    "model = tf.keras.Sequential([\n",
    "    tf.keras.layers.Dense(1)\n",
    "])\n",
    "\n",
    "# 2. Compile the model\n",
    "model.compile(loss=tf.keras.losses.mae,\n",
    "              optimizer=tf.keras.optimizers.SGD(),\n",
    "              metrics=\"mae\")\n",
    "\n",
    "# 3. Fit the model\n",
    "# model.fit(tf.expand_dims(X_train, -1), y_train, epochs=100)"
   ],
   "metadata": {
    "id": "_bNx2ZDyLs8d"
   },
   "execution_count": null,
   "outputs": []
  },
  {
   "cell_type": "code",
   "source": [
    "## Visualizing the model\n",
    "model.summary()"
   ],
   "metadata": {
    "colab": {
     "base_uri": "https://localhost:8080/",
     "height": 317
    },
    "id": "bZo9EIfVNgn_",
    "outputId": "1c416fd1-3b91-4438-879f-a8d381f89384"
   },
   "execution_count": null,
   "outputs": [
    {
     "output_type": "error",
     "ename": "ValueError",
     "evalue": "ignored",
     "traceback": [
      "\u001B[0;31m---------------------------------------------------------------------------\u001B[0m",
      "\u001B[0;31mValueError\u001B[0m                                Traceback (most recent call last)",
      "\u001B[0;32m<ipython-input-28-57a350a5c6c4>\u001B[0m in \u001B[0;36m<module>\u001B[0;34m\u001B[0m\n\u001B[1;32m      1\u001B[0m \u001B[0;31m## Visualizing the model\u001B[0m\u001B[0;34m\u001B[0m\u001B[0;34m\u001B[0m\u001B[0;34m\u001B[0m\u001B[0m\n\u001B[0;32m----> 2\u001B[0;31m \u001B[0mmodel\u001B[0m\u001B[0;34m.\u001B[0m\u001B[0msummary\u001B[0m\u001B[0;34m(\u001B[0m\u001B[0;34m)\u001B[0m\u001B[0;34m\u001B[0m\u001B[0;34m\u001B[0m\u001B[0m\n\u001B[0m",
      "\u001B[0;32m/usr/local/lib/python3.8/dist-packages/keras/engine/training.py\u001B[0m in \u001B[0;36msummary\u001B[0;34m(self, line_length, positions, print_fn, expand_nested, show_trainable, layer_range)\u001B[0m\n\u001B[1;32m   3290\u001B[0m         \"\"\"\n\u001B[1;32m   3291\u001B[0m         \u001B[0;32mif\u001B[0m \u001B[0;32mnot\u001B[0m \u001B[0mself\u001B[0m\u001B[0;34m.\u001B[0m\u001B[0mbuilt\u001B[0m\u001B[0;34m:\u001B[0m\u001B[0;34m\u001B[0m\u001B[0;34m\u001B[0m\u001B[0m\n\u001B[0;32m-> 3292\u001B[0;31m             raise ValueError(\n\u001B[0m\u001B[1;32m   3293\u001B[0m                 \u001B[0;34m\"This model has not yet been built. \"\u001B[0m\u001B[0;34m\u001B[0m\u001B[0;34m\u001B[0m\u001B[0m\n\u001B[1;32m   3294\u001B[0m                 \u001B[0;34m\"Build the model first by calling `build()` or by calling \"\u001B[0m\u001B[0;34m\u001B[0m\u001B[0;34m\u001B[0m\u001B[0m\n",
      "\u001B[0;31mValueError\u001B[0m: This model has not yet been built. Build the model first by calling `build()` or by calling the model on a batch of data."
     ]
    }
   ]
  },
  {
   "cell_type": "code",
   "source": [
    "# Let's create a model which build automatically by defining the input_shape argument\n",
    "tf.random.set_seed(42)\n",
    "\n",
    "# Create a model\n",
    "model = tf.keras.Sequential([\n",
    "    tf.keras.layers.Dense(50, input_shape=[1], name=\"input_layer\"),\n",
    "    tf.keras.layers.Dense(1, name=\"output_layer\")\n",
    "], name=\"model_1\")\n",
    "\n",
    "# Compile the model\n",
    "model.compile(loss=tf.keras.losses.mae,\n",
    "              optimizer=tf.keras.optimizers.SGD(),\n",
    "              metrics=\"mae\")"
   ],
   "metadata": {
    "id": "KPcKdVgiNvkY"
   },
   "execution_count": null,
   "outputs": []
  },
  {
   "cell_type": "code",
   "source": [
    "model.summary()"
   ],
   "metadata": {
    "colab": {
     "base_uri": "https://localhost:8080/"
    },
    "id": "QBhgvEESO6ID",
    "outputId": "e03bb779-1f4c-4fca-ba51-54d57977e6e9"
   },
   "execution_count": null,
   "outputs": [
    {
     "output_type": "stream",
     "name": "stdout",
     "text": [
      "Model: \"model_1\"\n",
      "_________________________________________________________________\n",
      " Layer (type)                Output Shape              Param #   \n",
      "=================================================================\n",
      " input_layer (Dense)         (None, 50)                100       \n",
      "                                                                 \n",
      " output_layer (Dense)        (None, 1)                 51        \n",
      "                                                                 \n",
      "=================================================================\n",
      "Total params: 151\n",
      "Trainable params: 151\n",
      "Non-trainable params: 0\n",
      "_________________________________________________________________\n"
     ]
    }
   ]
  },
  {
   "cell_type": "markdown",
   "source": [
    "* Total params - total number of parameters in the model (input / output)\n",
    "* Trainable parameters - these are the parameters (patterns) the model can update as it trains."
   ],
   "metadata": {
    "id": "zW1rYF11PwDi"
   }
  },
  {
   "cell_type": "code",
   "source": [
    "# Let's fit our model to our training data.\n",
    "model.fit(tf.expand_dims(X_train, -1), y_train, epochs=100, verbose=0)"
   ],
   "metadata": {
    "colab": {
     "base_uri": "https://localhost:8080/"
    },
    "id": "sqJ2CR5GO-Oh",
    "outputId": "ab79f725-a8fb-4d59-c0d3-ef43f92e6964"
   },
   "execution_count": null,
   "outputs": [
    {
     "output_type": "execute_result",
     "data": {
      "text/plain": [
       "<keras.callbacks.History at 0x7fb1059453d0>"
      ]
     },
     "metadata": {},
     "execution_count": 31
    }
   ]
  },
  {
   "cell_type": "code",
   "source": [
    "from tensorflow.keras.utils import plot_model\n",
    "plot_model(model=model, show_shapes=True)"
   ],
   "metadata": {
    "colab": {
     "base_uri": "https://localhost:8080/",
     "height": 312
    },
    "id": "m36BmY6HS0jz",
    "outputId": "bc383b11-a299-4301-f3f4-2d90a617f18f"
   },
   "execution_count": null,
   "outputs": [
    {
     "output_type": "execute_result",
     "data": {
      "image/png": "[encoded data removed]",
      "text/plain": [
       "<IPython.core.display.Image object>"
      ]
     },
     "metadata": {},
     "execution_count": 32
    }
   ]
  },
  {
   "cell_type": "markdown",
   "source": [
    "### Visualizing our model's predictions\n",
    "\n",
    "To visualize predictions, it's a good idea to plot them against the ground truth labels.\n",
    "\n",
    "Often you'll see this in the form of 'y_test' or 'y_true' versus 'y_pred' (ground truth versus your model's predictions)"
   ],
   "metadata": {
    "id": "cY9yX0NDTKjl"
   }
  },
  {
   "cell_type": "code",
   "source": [
    "# Make some predictions\n",
    "y_pred = model.predict(tf.expand_dims(X_test, -1))\n",
    "y_pred"
   ],
   "metadata": {
    "colab": {
     "base_uri": "https://localhost:8080/"
    },
    "id": "qwmwCugrVFWr",
    "outputId": "4a9c1e6b-a8a2-4b36-bc13-858671b2c73f"
   },
   "execution_count": null,
   "outputs": [
    {
     "output_type": "stream",
     "name": "stderr",
     "text": [
      "WARNING:tensorflow:5 out of the last 6 calls to <function Model.make_predict_function.<locals>.predict_function at 0x7fb119baf670> triggered tf.function retracing. Tracing is expensive and the excessive number of tracings could be due to (1) creating @tf.function repeatedly in a loop, (2) passing tensors with different shapes, (3) passing Python objects instead of tensors. For (1), please define your @tf.function outside of the loop. For (2), @tf.function has reduce_retracing=True option that can avoid unnecessary retracing. For (3), please refer to https://www.tensorflow.org/guide/function#controlling_retracing and https://www.tensorflow.org/api_docs/python/tf/function for  more details.\n"
     ]
    },
    {
     "output_type": "stream",
     "name": "stdout",
     "text": [
      "1/1 [==============================] - 0s 74ms/step\n"
     ]
    },
    {
     "output_type": "execute_result",
     "data": {
      "text/plain": [
       "array([[ 75.78374 ],\n",
       "       [ 80.718796],\n",
       "       [ 85.65386 ],\n",
       "       [ 90.58893 ],\n",
       "       [ 95.52399 ],\n",
       "       [100.45905 ],\n",
       "       [105.39411 ],\n",
       "       [110.32918 ],\n",
       "       [115.26424 ],\n",
       "       [120.1993  ]], dtype=float32)"
      ]
     },
     "metadata": {},
     "execution_count": 33
    }
   ]
  },
  {
   "cell_type": "code",
   "source": [
    "y_test"
   ],
   "metadata": {
    "colab": {
     "base_uri": "https://localhost:8080/"
    },
    "id": "kpOKmPeoVoUo",
    "outputId": "5ea013e9-e875-48af-8571-d6ea7d680b0a"
   },
   "execution_count": null,
   "outputs": [
    {
     "output_type": "execute_result",
     "data": {
      "text/plain": [
       "<tf.Tensor: shape=(10,), dtype=int32, numpy=array([ 70,  74,  78,  82,  86,  90,  94,  98, 102, 106], dtype=int32)>"
      ]
     },
     "metadata": {},
     "execution_count": 34
    }
   ]
  },
  {
   "cell_type": "code",
   "source": [
    "# Let's create a plotting function\n",
    "def plot_predictions(train_data=X_train,\n",
    "                     train_labels=y_train,\n",
    "                     test_data=X_test,\n",
    "                     test_labels=y_test,\n",
    "                     predictions=y_pred):\n",
    "  \"\"\"\n",
    "  Plots training data, test data and compares predictions to ground truth labels.\n",
    "  \"\"\"\n",
    "  plt.figure(figsize=(10, 7))\n",
    "  # Plot training data in blue\n",
    "  plt.scatter(train_data, train_labels, c=\"b\", label=\"Training data\")\n",
    "  # Plot testing data in green\n",
    "  plt.scatter(test_data, test_labels, c=\"g\", label=\"Testing data\")\n",
    "  #Plot model's perdictions in red\n",
    "  plt.scatter(test_data, predictions, c=\"r\", label=\"Predictions\")\n",
    "  # Show the legend\n",
    "  plt.legend();"
   ],
   "metadata": {
    "id": "j5bCFDF6V7CE"
   },
   "execution_count": null,
   "outputs": []
  },
  {
   "cell_type": "code",
   "source": [
    "plot_predictions(train_data=X_train,\n",
    "                 train_labels=y_train,\n",
    "                 test_data=X_test,\n",
    "                 test_labels=y_test,\n",
    "                 predictions=y_pred)"
   ],
   "metadata": {
    "colab": {
     "base_uri": "https://localhost:8080/",
     "height": 428
    },
    "id": "DPahur-1YikP",
    "outputId": "0a6d2652-c426-42ce-e0cd-69df5458d9b5"
   },
   "execution_count": null,
   "outputs": [
    {
     "output_type": "display_data",
     "data": {
      "text/plain": [
       "<Figure size 720x504 with 1 Axes>"
      ],
      "image/png": "[encoded data removed]"
     },
     "metadata": {
      "needs_background": "light"
     }
    }
   ]
  },
  {
   "cell_type": "markdown",
   "source": [
    "### Evaluating our model's predictions with regression evaluation metrics.\n",
    "\n",
    "Depending on the problem you're working on, there will be different evaluation metrics to evaluate your model's performance.\n",
    "\n",
    "Since we're working on a regression, two of the main metrics:\n",
    "* MAE - mean absolute error, \"on average, how wrong is each of my model's predictions\"\n",
    "* MSE - mean square error, \"square the average errors\""
   ],
   "metadata": {
    "id": "HjTieOI5Ylvy"
   }
  },
  {
   "cell_type": "code",
   "source": [
    "# Evaluagte the model on the test \n",
    "model.evaluate(tf.expand_dims(X_test, -1), y_test)"
   ],
   "metadata": {
    "colab": {
     "base_uri": "https://localhost:8080/"
    },
    "id": "Xqg_8Xi2dO5I",
    "outputId": "24a66082-b88e-430e-f3cd-4b31e016b333"
   },
   "execution_count": null,
   "outputs": [
    {
     "output_type": "stream",
     "name": "stdout",
     "text": [
      "1/1 [==============================] - 0s 191ms/step - loss: 9.9915 - mae: 9.9915\n"
     ]
    },
    {
     "output_type": "execute_result",
     "data": {
      "text/plain": [
       "[9.991519927978516, 9.991519927978516]"
      ]
     },
     "metadata": {},
     "execution_count": 37
    }
   ]
  },
  {
   "cell_type": "code",
   "source": [
    "# Calculate the mean absolute error:\n",
    "\n",
    "mae = tf.keras.losses.MAE(\n",
    "    y_true=y_test, \n",
    "    y_pred=tf.squeeze(y_pred))\n",
    "mae"
   ],
   "metadata": {
    "colab": {
     "base_uri": "https://localhost:8080/"
    },
    "id": "hZzXSBB2VByJ",
    "outputId": "735bb4a4-9fcb-4dd7-e09d-83e0d9b72bd7"
   },
   "execution_count": null,
   "outputs": [
    {
     "output_type": "execute_result",
     "data": {
      "text/plain": [
       "<tf.Tensor: shape=(), dtype=float32, numpy=9.991519>"
      ]
     },
     "metadata": {},
     "execution_count": 38
    }
   ]
  },
  {
   "cell_type": "code",
   "source": [
    "# Calculate the mean square error:\n",
    "\n",
    "mae = tf.keras.losses.MSE(\n",
    "    y_true=y_test, \n",
    "    y_pred=tf.squeeze(y_pred))\n",
    "mae"
   ],
   "metadata": {
    "colab": {
     "base_uri": "https://localhost:8080/"
    },
    "id": "nost7Avtgr36",
    "outputId": "aab54e8f-dcf3-4821-96a2-cb8094dade64"
   },
   "execution_count": null,
   "outputs": [
    {
     "output_type": "execute_result",
     "data": {
      "text/plain": [
       "<tf.Tensor: shape=(), dtype=float32, numpy=107.04378>"
      ]
     },
     "metadata": {},
     "execution_count": 39
    }
   ]
  },
  {
   "cell_type": "code",
   "source": [
    "# Make some functions to re-use MAE and MSE\n",
    "def mae(y_true, y_pred):\n",
    "  return tf.metrics.mean_absolute_error(y_true=y_true, y_pred=tf.squeeze(y_pred))\n",
    "\n",
    "def mse(y_true, y_pred):\n",
    "  return tf.metrics.mean_squared_error(y_true=y_true, y_pred=tf.squeeze(y_pred))"
   ],
   "metadata": {
    "id": "T50x4iMeVo6Y"
   },
   "execution_count": null,
   "outputs": []
  },
  {
   "cell_type": "markdown",
   "source": [
    "### Running experiments to improve our model\n",
    "\n",
    "Build a model -> fit it -> evaluate it -> tweak it -> fit it -> evaluate it -> tweak it -> ...\n",
    "\n",
    "1. Get more data - get more example for your model to train on (more opportunities to learn patterns or relationships between features and labels).\n",
    "2. Make your model larger (using a more complex model) - this might come in the form of more layers or more hidden neurons in each layer.\n",
    "3. Train for longer - give your model more of a change to find patterns in the data.\n",
    "\n",
    "Let's do 3 modelling experiments:\n",
    "\n",
    "1. Model_1 - same as the original model, 1 layer, trained for 100 epochs.\n",
    "2. Model_2 - 2 layers, trained for 100 epochs.\n",
    "3. Model_3 - 2 layers, trained for 500 epochs.\n",
    "4. Model_4...\n",
    "5. Model_5...\n",
    "\n",
    "**Build model_1**"
   ],
   "metadata": {
    "id": "Kifkk7_zXi36"
   }
  },
  {
   "cell_type": "code",
   "source": [
    "X_train, y_train"
   ],
   "metadata": {
    "colab": {
     "base_uri": "https://localhost:8080/"
    },
    "id": "L8oYc4vkXstq",
    "outputId": "a67289a5-2862-4ef2-96c5-f3701d01f9c2"
   },
   "execution_count": null,
   "outputs": [
    {
     "output_type": "execute_result",
     "data": {
      "text/plain": [
       "(<tf.Tensor: shape=(40,), dtype=int32, numpy=\n",
       " array([-100,  -96,  -92,  -88,  -84,  -80,  -76,  -72,  -68,  -64,  -60,\n",
       "         -56,  -52,  -48,  -44,  -40,  -36,  -32,  -28,  -24,  -20,  -16,\n",
       "         -12,   -8,   -4,    0,    4,    8,   12,   16,   20,   24,   28,\n",
       "          32,   36,   40,   44,   48,   52,   56], dtype=int32)>,\n",
       " <tf.Tensor: shape=(40,), dtype=int32, numpy=\n",
       " array([-90, -86, -82, -78, -74, -70, -66, -62, -58, -54, -50, -46, -42,\n",
       "        -38, -34, -30, -26, -22, -18, -14, -10,  -6,  -2,   2,   6,  10,\n",
       "         14,  18,  22,  26,  30,  34,  38,  42,  46,  50,  54,  58,  62,\n",
       "         66], dtype=int32)>)"
      ]
     },
     "metadata": {},
     "execution_count": 55
    }
   ]
  },
  {
   "cell_type": "code",
   "source": [
    "# set random seed\n",
    "tf.random.set_seed(42)\n",
    "\n",
    "# 1. Create the model\n",
    "model_1 = tf.keras.Sequential([\n",
    "    tf.keras.layers.Dense(1, input_shape=[1])\n",
    "])\n",
    "\n",
    "# 2. Compile the model\n",
    "model_1.compile(loss=tf.keras.losses.mae,\n",
    "                optimizer=tf.keras.optimizers.SGD(),\n",
    "                metrics=\"mae\")\n",
    "\n",
    "# 3. Fit the model\n",
    "model_1.fit(X_train, y_train, epochs=100, verbose=0)"
   ],
   "metadata": {
    "colab": {
     "base_uri": "https://localhost:8080/"
    },
    "id": "VGnWkfxaYXT3",
    "outputId": "7418b006-2279-4e5a-cc6d-c1433520ccb8"
   },
   "execution_count": null,
   "outputs": [
    {
     "output_type": "execute_result",
     "data": {
      "text/plain": [
       "<keras.callbacks.History at 0x7fb124431cd0>"
      ]
     },
     "metadata": {},
     "execution_count": 98
    }
   ]
  },
  {
   "cell_type": "code",
   "source": [
    "# Make and plot predictions for model_1\n",
    "y_preds_1 = model_1.predict(X_test)\n",
    "plot_predictions(predictions=y_preds_1)"
   ],
   "metadata": {
    "colab": {
     "base_uri": "https://localhost:8080/",
     "height": 445
    },
    "id": "Pse6AVYqZGwB",
    "outputId": "8746aa0a-f2e5-42ca-8219-14c7ddd10db6"
   },
   "execution_count": null,
   "outputs": [
    {
     "output_type": "stream",
     "name": "stdout",
     "text": [
      "1/1 [==============================] - 0s 87ms/step\n"
     ]
    },
    {
     "output_type": "display_data",
     "data": {
      "text/plain": [
       "<Figure size 720x504 with 1 Axes>"
      ],
      "image/png": "[encoded data removed]"
     },
     "metadata": {
      "needs_background": "light"
     }
    }
   ]
  },
  {
   "cell_type": "code",
   "source": [
    "# Calculate model_1 evaluation metrics\n",
    "mae_1 = mae(y_test, y_preds_1)\n",
    "mse_1 = mse(y_test, y_preds_1)\n",
    "mae_1, mse_1"
   ],
   "metadata": {
    "colab": {
     "base_uri": "https://localhost:8080/"
    },
    "id": "gbAsxNIBZuqz",
    "outputId": "8c0161e8-a948-476e-8387-5be90a7595b1"
   },
   "execution_count": null,
   "outputs": [
    {
     "output_type": "execute_result",
     "data": {
      "text/plain": [
       "(<tf.Tensor: shape=(), dtype=float32, numpy=8.670043>,\n",
       " <tf.Tensor: shape=(), dtype=float32, numpy=81.70686>)"
      ]
     },
     "metadata": {},
     "execution_count": 100
    }
   ]
  },
  {
   "cell_type": "markdown",
   "source": [
    "**Build model_2**\n",
    "\n",
    "2. Dense layers, trained for 100 epochs"
   ],
   "metadata": {
    "id": "5g-PlloTdAL6"
   }
  },
  {
   "cell_type": "code",
   "source": [
    "# Set random seed\n",
    "tf.random.set_seed(42)\n",
    "\n",
    "# Build model_2\n",
    "model_2 = tf.keras.Sequential([\n",
    "    tf.keras.layers.Dense(10, input_shape=[1]),\n",
    "    tf.keras.layers.Dense(1),\n",
    "])\n",
    "\n",
    "# Compile model_2\n",
    "model_2.compile(loss=tf.keras.losses.mae,\n",
    "                optimizer=tf.keras.optimizers.SGD(),\n",
    "                metrics=\"mse\")\n",
    "\n",
    "# Fit model_2\n",
    "model_2.fit(X_train, y_train, epochs=100, verbose=0)\n"
   ],
   "metadata": {
    "colab": {
     "base_uri": "https://localhost:8080/"
    },
    "id": "3MsEctGqeIk1",
    "outputId": "b1798dd9-c630-4138-d0ac-37ae3dc6ccf6"
   },
   "execution_count": null,
   "outputs": [
    {
     "output_type": "execute_result",
     "data": {
      "text/plain": [
       "<keras.callbacks.History at 0x7fb123e596a0>"
      ]
     },
     "metadata": {},
     "execution_count": 95
    }
   ]
  },
  {
   "cell_type": "code",
   "source": [
    "# Make and plot predictions of model_2\n",
    "y_preds_2 = model_2.predict(X_test)\n",
    "plot_predictions(predictions=y_preds_2)"
   ],
   "metadata": {
    "colab": {
     "base_uri": "https://localhost:8080/",
     "height": 445
    },
    "id": "n4zAD23nfUIZ",
    "outputId": "100f8bda-5caf-4991-9b17-90117a4e6b98"
   },
   "execution_count": null,
   "outputs": [
    {
     "output_type": "stream",
     "name": "stdout",
     "text": [
      "1/1 [==============================] - 0s 61ms/step\n"
     ]
    },
    {
     "output_type": "display_data",
     "data": {
      "text/plain": [
       "<Figure size 720x504 with 1 Axes>"
      ],
      "image/png": "[encoded data removed]"
     },
     "metadata": {
      "needs_background": "light"
     }
    }
   ]
  },
  {
   "cell_type": "code",
   "source": [
    "# Calculate model_2 evaluation metrics\n",
    "mae_2 = mae(y_test, y_preds_2)\n",
    "mse_2 = mse(y_test, y_preds_2)\n",
    "mae_2, mse_2"
   ],
   "metadata": {
    "colab": {
     "base_uri": "https://localhost:8080/"
    },
    "id": "YUgLxW_1hBhy",
    "outputId": "be8a53a8-6f7b-4e7e-a9c7-55eaed2a58f7"
   },
   "execution_count": null,
   "outputs": [
    {
     "output_type": "execute_result",
     "data": {
      "text/plain": [
       "(<tf.Tensor: shape=(), dtype=float32, numpy=17.697622>,\n",
       " <tf.Tensor: shape=(), dtype=float32, numpy=327.8411>)"
      ]
     },
     "metadata": {},
     "execution_count": 86
    }
   ]
  },
  {
   "cell_type": "markdown",
   "source": [
    "**Build model_3**\n",
    "\n",
    "* 2 layers, trained for 500 epochs"
   ],
   "metadata": {
    "id": "F4lY__rRhxH-"
   }
  },
  {
   "cell_type": "code",
   "source": [
    "# Set random seed\n",
    "tf.random.set_seed(42)\n",
    "\n",
    "# 1. Build model_3\n",
    "model_3 = tf.keras.Sequential([\n",
    "    tf.keras.layers.Dense(10, input_shape=[1]),\n",
    "    tf.keras.layers.Dense(1)\n",
    "])\n",
    "\n",
    "# 2. Compile model_3\n",
    "model_3.compile(loss=tf.keras.losses.mae,\n",
    "                optimizer=tf.keras.optimizers.SGD(),\n",
    "                metrics=\"mse\")\n",
    "\n",
    "# 3. Fit model\n",
    "model_3.fit(X_train, y_train, epochs=500, verbose=0)"
   ],
   "metadata": {
    "colab": {
     "base_uri": "https://localhost:8080/"
    },
    "id": "8LkmEvdSh60n",
    "outputId": "9f1b5757-fdb7-468c-8972-645668079cc9"
   },
   "execution_count": null,
   "outputs": [
    {
     "output_type": "execute_result",
     "data": {
      "text/plain": [
       "<keras.callbacks.History at 0x7fb120d3c760>"
      ]
     },
     "metadata": {},
     "execution_count": 87
    }
   ]
  },
  {
   "cell_type": "code",
   "source": [
    "# Make and plot predictions of model_2\n",
    "y_preds_3 = model_3.predict(X_test)\n",
    "plot_predictions(predictions=y_preds_3)"
   ],
   "metadata": {
    "colab": {
     "base_uri": "https://localhost:8080/",
     "height": 445
    },
    "id": "DjRZNmtCikZo",
    "outputId": "6dbe75ec-d33c-4d5d-eae7-9d7bc9efd7dd"
   },
   "execution_count": null,
   "outputs": [
    {
     "output_type": "stream",
     "name": "stdout",
     "text": [
      "1/1 [==============================] - 0s 65ms/step\n"
     ]
    },
    {
     "output_type": "display_data",
     "data": {
      "text/plain": [
       "<Figure size 720x504 with 1 Axes>"
      ],
      "image/png": "[encoded data removed]"
     },
     "metadata": {
      "needs_background": "light"
     }
    }
   ]
  },
  {
   "cell_type": "code",
   "source": [
    "mae_3 = mae(y_true=y_test, y_pred=y_preds_3)\n",
    "mse_3 = mse(y_true=y_test, y_pred=y_preds_3)\n",
    "mae_3, mse_3"
   ],
   "metadata": {
    "colab": {
     "base_uri": "https://localhost:8080/"
    },
    "id": "6MHReAteiqFy",
    "outputId": "7ccf2b82-f4b9-4400-c6a5-3214ad0c1119"
   },
   "execution_count": null,
   "outputs": [
    {
     "output_type": "execute_result",
     "data": {
      "text/plain": [
       "(<tf.Tensor: shape=(), dtype=float32, numpy=68.16467>,\n",
       " <tf.Tensor: shape=(), dtype=float32, numpy=4731.4043>)"
      ]
     },
     "metadata": {},
     "execution_count": 89
    }
   ]
  },
  {
   "cell_type": "markdown",
   "source": [
    "### Comparing the results of our experiments.\n",
    "\n",
    "We've run a few experiments, let's compare the results"
   ],
   "metadata": {
    "id": "bQM0aTg8tzVY"
   }
  },
  {
   "cell_type": "code",
   "source": [
    "# Let's compare our model's results using a pandas DataFrame.\n",
    "import pandas as pd\n",
    "model_results = [[\"model_1\", mae_1.numpy(), mse_1.numpy()],\n",
    "                 [\"model_2\", mae_2.numpy(), mse_2.numpy()],\n",
    "                 [\"model_3\", mae_3.numpy(), mse_3.numpy()]]\n",
    "\n",
    "all_results = pd.DataFrame(model_results, columns=[\"model\", \"mae\", \"mse\"])\n",
    "all_results"
   ],
   "metadata": {
    "colab": {
     "base_uri": "https://localhost:8080/",
     "height": 142
    },
    "id": "F1FvVcaBt_Vk",
    "outputId": "3985d55a-43a7-489e-93c0-ecefe4f6df5e"
   },
   "execution_count": null,
   "outputs": [
    {
     "output_type": "execute_result",
     "data": {
      "text/plain": [
       "     model        mae          mse\n",
       "0  model_1   8.670043    81.706863\n",
       "1  model_2  17.697622   327.841095\n",
       "2  model_3  68.164673  4731.404297"
      ],
      "text/html": [
       "\n",
       "  <div id=\"df-186bcbc1-590c-44c9-852c-6a62d94a8fee\">\n",
       "    <div class=\"colab-df-container\">\n",
       "      <div>\n",
       "<style scoped>\n",
       "    .dataframe tbody tr th:only-of-type {\n",
       "        vertical-align: middle;\n",
       "    }\n",
       "\n",
       "    .dataframe tbody tr th {\n",
       "        vertical-align: top;\n",
       "    }\n",
       "\n",
       "    .dataframe thead th {\n",
       "        text-align: right;\n",
       "    }\n",
       "</style>\n",
       "<table border=\"1\" class=\"dataframe\">\n",
       "  <thead>\n",
       "    <tr style=\"text-align: right;\">\n",
       "      <th></th>\n",
       "      <th>model</th>\n",
       "      <th>mae</th>\n",
       "      <th>mse</th>\n",
       "    </tr>\n",
       "  </thead>\n",
       "  <tbody>\n",
       "    <tr>\n",
       "      <th>0</th>\n",
       "      <td>model_1</td>\n",
       "      <td>8.670043</td>\n",
       "      <td>81.706863</td>\n",
       "    </tr>\n",
       "    <tr>\n",
       "      <th>1</th>\n",
       "      <td>model_2</td>\n",
       "      <td>17.697622</td>\n",
       "      <td>327.841095</td>\n",
       "    </tr>\n",
       "    <tr>\n",
       "      <th>2</th>\n",
       "      <td>model_3</td>\n",
       "      <td>68.164673</td>\n",
       "      <td>4731.404297</td>\n",
       "    </tr>\n",
       "  </tbody>\n",
       "</table>\n",
       "</div>\n",
       "      <button class=\"colab-df-convert\" onclick=\"convertToInteractive('df-186bcbc1-590c-44c9-852c-6a62d94a8fee')\"\n",
       "              title=\"Convert this dataframe to an interactive table.\"\n",
       "              style=\"display:none;\">\n",
       "        \n",
       "  <svg xmlns=\"http://www.w3.org/2000/svg\" height=\"24px\"viewBox=\"0 0 24 24\"\n",
       "       width=\"24px\">\n",
       "    <path d=\"M0 0h24v24H0V0z\" fill=\"none\"/>\n",
       "    <path d=\"M18.56 5.44l.94 2.06.94-2.06 2.06-.94-2.06-.94-.94-2.06-.94 2.06-2.06.94zm-11 1L8.5 8.5l.94-2.06 2.06-.94-2.06-.94L8.5 2.5l-.94 2.06-2.06.94zm10 10l.94 2.06.94-2.06 2.06-.94-2.06-.94-.94-2.06-.94 2.06-2.06.94z\"/><path d=\"M17.41 7.96l-1.37-1.37c-.4-.4-.92-.59-1.43-.59-.52 0-1.04.2-1.43.59L10.3 9.45l-7.72 7.72c-.78.78-.78 2.05 0 2.83L4 21.41c.39.39.9.59 1.41.59.51 0 1.02-.2 1.41-.59l7.78-7.78 2.81-2.81c.8-.78.8-2.07 0-2.86zM5.41 20L4 18.59l7.72-7.72 1.47 1.35L5.41 20z\"/>\n",
       "  </svg>\n",
       "      </button>\n",
       "      \n",
       "  <style>\n",
       "    .colab-df-container {\n",
       "      display:flex;\n",
       "      flex-wrap:wrap;\n",
       "      gap: 12px;\n",
       "    }\n",
       "\n",
       "    .colab-df-convert {\n",
       "      background-color: #E8F0FE;\n",
       "      border: none;\n",
       "      border-radius: 50%;\n",
       "      cursor: pointer;\n",
       "      display: none;\n",
       "      fill: #1967D2;\n",
       "      height: 32px;\n",
       "      padding: 0 0 0 0;\n",
       "      width: 32px;\n",
       "    }\n",
       "\n",
       "    .colab-df-convert:hover {\n",
       "      background-color: #E2EBFA;\n",
       "      box-shadow: 0px 1px 2px rgba(60, 64, 67, 0.3), 0px 1px 3px 1px rgba(60, 64, 67, 0.15);\n",
       "      fill: #174EA6;\n",
       "    }\n",
       "\n",
       "    [theme=dark] .colab-df-convert {\n",
       "      background-color: #3B4455;\n",
       "      fill: #D2E3FC;\n",
       "    }\n",
       "\n",
       "    [theme=dark] .colab-df-convert:hover {\n",
       "      background-color: #434B5C;\n",
       "      box-shadow: 0px 1px 3px 1px rgba(0, 0, 0, 0.15);\n",
       "      filter: drop-shadow(0px 1px 2px rgba(0, 0, 0, 0.3));\n",
       "      fill: #FFFFFF;\n",
       "    }\n",
       "  </style>\n",
       "\n",
       "      <script>\n",
       "        const buttonEl =\n",
       "          document.querySelector('#df-186bcbc1-590c-44c9-852c-6a62d94a8fee button.colab-df-convert');\n",
       "        buttonEl.style.display =\n",
       "          google.colab.kernel.accessAllowed ? 'block' : 'none';\n",
       "\n",
       "        async function convertToInteractive(key) {\n",
       "          const element = document.querySelector('#df-186bcbc1-590c-44c9-852c-6a62d94a8fee');\n",
       "          const dataTable =\n",
       "            await google.colab.kernel.invokeFunction('convertToInteractive',\n",
       "                                                     [key], {});\n",
       "          if (!dataTable) return;\n",
       "\n",
       "          const docLinkHtml = 'Like what you see? Visit the ' +\n",
       "            '<a target=\"_blank\" href=https://colab.research.google.com/notebooks/data_table.ipynb>data table notebook</a>'\n",
       "            + ' to learn more about interactive tables.';\n",
       "          element.innerHTML = '';\n",
       "          dataTable['output_type'] = 'display_data';\n",
       "          await google.colab.output.renderOutput(dataTable, element);\n",
       "          const docLink = document.createElement('div');\n",
       "          docLink.innerHTML = docLinkHtml;\n",
       "          element.appendChild(docLink);\n",
       "        }\n",
       "      </script>\n",
       "    </div>\n",
       "  </div>\n",
       "  "
      ]
     },
     "metadata": {},
     "execution_count": 101
    }
   ]
  },
  {
   "cell_type": "markdown",
   "source": [
    "Looks like model_1 performed the best."
   ],
   "metadata": {
    "id": "EQ-SHetZhhsg"
   }
  },
  {
   "cell_type": "code",
   "source": [
    "model_2.summary()"
   ],
   "metadata": {
    "colab": {
     "base_uri": "https://localhost:8080/"
    },
    "id": "pk4pvrmSgivN",
    "outputId": "ee434a7e-5641-4de9-ba3e-e419a20f8954"
   },
   "execution_count": null,
   "outputs": [
    {
     "output_type": "stream",
     "name": "stdout",
     "text": [
      "Model: \"sequential_14\"\n",
      "_________________________________________________________________\n",
      " Layer (type)                Output Shape              Param #   \n",
      "=================================================================\n",
      " dense_21 (Dense)            (None, 10)                20        \n",
      "                                                                 \n",
      " dense_22 (Dense)            (None, 1)                 11        \n",
      "                                                                 \n",
      "=================================================================\n",
      "Total params: 31\n",
      "Trainable params: 31\n",
      "Non-trainable params: 0\n",
      "_________________________________________________________________\n"
     ]
    }
   ]
  },
  {
   "cell_type": "markdown",
   "source": [
    "## Tracking your experiments\n",
    "\n",
    "One really good habit in machine learning modelling is to track the results of your experiments.\n",
    "\n",
    "And when doin so, it can be tedious if you're running lots of experiments.\n",
    "\n",
    "Luckily, there are tools to help us!\n",
    "\n",
    "Resources:\n",
    "\n",
    "As you build more models, you'll want to look into using:\n",
    "\n",
    "* TensorBoard - a component of the TensorFlow library to help track modelling experiments.\n",
    "* Weights & Biases - a tool for tracking all kinds of machine learning experiments (plugs directly into TensorBoard)"
   ],
   "metadata": {
    "id": "hwweYT_ShQ7K"
   }
  },
  {
   "cell_type": "markdown",
   "source": [
    "###Saving our models\n",
    "\n",
    "Saving our models allows us to use them outside of Google Colab (or wherever they were trained) such as in a web application or a mobile app."
   ],
   "metadata": {
    "id": "wgprDOgLjTcY"
   }
  },
  {
   "cell_type": "code",
   "source": [
    "# Save model using the SavedModel format\n",
    "model_2.save(\"best_model_SavedModel_format\")"
   ],
   "metadata": {
    "colab": {
     "base_uri": "https://localhost:8080/"
    },
    "id": "_fjMU2s3jU1d",
    "outputId": "b189ecf3-d47a-4b07-9a30-8ccd12799d2f"
   },
   "execution_count": null,
   "outputs": [
    {
     "output_type": "stream",
     "name": "stderr",
     "text": [
      "WARNING:absl:Found untraced functions such as _update_step_xla while saving (showing 1 of 1). These functions will not be directly callable after loading.\n"
     ]
    }
   ]
  },
  {
   "cell_type": "code",
   "source": [
    "model_2.save(\"best_model_HDF5_format.h5\")"
   ],
   "metadata": {
    "id": "ZmcjmH7Lki2w"
   },
   "execution_count": null,
   "outputs": []
  },
  {
   "cell_type": "markdown",
   "source": [
    "## Loading in a saved model"
   ],
   "metadata": {
    "id": "Dc7dJIohlq44"
   }
  },
  {
   "cell_type": "code",
   "source": [
    "# Load in a the SavedModel format model.\n",
    "loaded_SavedModel_format = tf.keras.models.load_model(\"best_model_SavedModel_format\")\n",
    "loaded_SavedModel_format.summary()"
   ],
   "metadata": {
    "colab": {
     "base_uri": "https://localhost:8080/"
    },
    "id": "D7j1ZGLilvM6",
    "outputId": "26c6eeb8-c0d2-476c-8d3c-c06fc7f0d3ab"
   },
   "execution_count": null,
   "outputs": [
    {
     "output_type": "stream",
     "name": "stdout",
     "text": [
      "Model: \"sequential_22\"\n",
      "_________________________________________________________________\n",
      " Layer (type)                Output Shape              Param #   \n",
      "=================================================================\n",
      " dense_35 (Dense)            (None, 10)                20        \n",
      "                                                                 \n",
      " dense_36 (Dense)            (None, 1)                 11        \n",
      "                                                                 \n",
      "=================================================================\n",
      "Total params: 31\n",
      "Trainable params: 31\n",
      "Non-trainable params: 0\n",
      "_________________________________________________________________\n"
     ]
    }
   ]
  },
  {
   "cell_type": "code",
   "source": [
    "# Compare model_2 predictions with SaveModel model predictions\n",
    "model_2_preds = model_2.predict(X_test)\n",
    "loaded_SavedModel_format_preds = loaded_SavedModel_format.predict(X_test)\n",
    "model_2_preds == loaded_SavedModel_format_preds"
   ],
   "metadata": {
    "colab": {
     "base_uri": "https://localhost:8080/"
    },
    "id": "vd6g2detmI9j",
    "outputId": "2f177794-384c-450e-a25d-a4d8a52229c1"
   },
   "execution_count": null,
   "outputs": [
    {
     "output_type": "stream",
     "name": "stdout",
     "text": [
      "1/1 [==============================] - 0s 68ms/step\n",
      "1/1 [==============================] - 0s 97ms/step\n"
     ]
    },
    {
     "output_type": "execute_result",
     "data": {
      "text/plain": [
       "array([[ True],\n",
       "       [ True],\n",
       "       [ True],\n",
       "       [ True],\n",
       "       [ True],\n",
       "       [ True],\n",
       "       [ True],\n",
       "       [ True],\n",
       "       [ True],\n",
       "       [ True]])"
      ]
     },
     "metadata": {},
     "execution_count": 105
    }
   ]
  },
  {
   "cell_type": "code",
   "source": [
    "# Load in a model using the .h5 format\n",
    "loaded_h5_model = tf.keras.models.load_model(\"best_model_HDF5_format.h5\")\n",
    "loaded_h5_model.summary()"
   ],
   "metadata": {
    "colab": {
     "base_uri": "https://localhost:8080/"
    },
    "id": "kQ2mVEthmuOW",
    "outputId": "03775f9c-e924-4041-d2b5-df5a6dde775e"
   },
   "execution_count": null,
   "outputs": [
    {
     "output_type": "stream",
     "name": "stdout",
     "text": [
      "Model: \"sequential_22\"\n",
      "_________________________________________________________________\n",
      " Layer (type)                Output Shape              Param #   \n",
      "=================================================================\n",
      " dense_35 (Dense)            (None, 10)                20        \n",
      "                                                                 \n",
      " dense_36 (Dense)            (None, 1)                 11        \n",
      "                                                                 \n",
      "=================================================================\n",
      "Total params: 31\n",
      "Trainable params: 31\n",
      "Non-trainable params: 0\n",
      "_________________________________________________________________\n"
     ]
    }
   ]
  },
  {
   "cell_type": "code",
   "source": [
    "model_2_preds = model_2.predict(X_test)\n",
    "loaded_h5_model_preds = loaded_h5_model.predict(X_test)\n",
    "model_2_preds == loaded_h5_model_preds"
   ],
   "metadata": {
    "colab": {
     "base_uri": "https://localhost:8080/"
    },
    "id": "twAb9c6vnbAr",
    "outputId": "90797f89-d681-48a0-9fd6-5d4c1936b012"
   },
   "execution_count": null,
   "outputs": [
    {
     "output_type": "stream",
     "name": "stdout",
     "text": [
      "1/1 [==============================] - 0s 44ms/step\n",
      "1/1 [==============================] - 0s 100ms/step\n"
     ]
    },
    {
     "output_type": "execute_result",
     "data": {
      "text/plain": [
       "array([[ True],\n",
       "       [ True],\n",
       "       [ True],\n",
       "       [ True],\n",
       "       [ True],\n",
       "       [ True],\n",
       "       [ True],\n",
       "       [ True],\n",
       "       [ True],\n",
       "       [ True]])"
      ]
     },
     "metadata": {},
     "execution_count": 108
    }
   ]
  },
  {
   "cell_type": "code",
   "source": [
    "#from google.colab import files\n",
    "#files.download(\"best_model_HDF5_format.h5\")"
   ],
   "metadata": {
    "colab": {
     "base_uri": "https://localhost:8080/",
     "height": 17
    },
    "id": "TFT5FKWQnmjK",
    "outputId": "cd11c15a-86ab-4eba-e70d-066f8cb2cc38"
   },
   "execution_count": null,
   "outputs": [
    {
     "output_type": "display_data",
     "data": {
      "text/plain": [
       "<IPython.core.display.Javascript object>"
      ],
      "application/javascript": [
       "\n",
       "    async function download(id, filename, size) {\n",
       "      if (!google.colab.kernel.accessAllowed) {\n",
       "        return;\n",
       "      }\n",
       "      const div = document.createElement('div');\n",
       "      const label = document.createElement('label');\n",
       "      label.textContent = `Downloading \"${filename}\": `;\n",
       "      div.appendChild(label);\n",
       "      const progress = document.createElement('progress');\n",
       "      progress.max = size;\n",
       "      div.appendChild(progress);\n",
       "      document.body.appendChild(div);\n",
       "\n",
       "      const buffers = [];\n",
       "      let downloaded = 0;\n",
       "\n",
       "      const channel = await google.colab.kernel.comms.open(id);\n",
       "      // Send a message to notify the kernel that we're ready.\n",
       "      channel.send({})\n",
       "\n",
       "      for await (const message of channel.messages) {\n",
       "        // Send a message to notify the kernel that we're ready.\n",
       "        channel.send({})\n",
       "        if (message.buffers) {\n",
       "          for (const buffer of message.buffers) {\n",
       "            buffers.push(buffer);\n",
       "            downloaded += buffer.byteLength;\n",
       "            progress.value = downloaded;\n",
       "          }\n",
       "        }\n",
       "      }\n",
       "      const blob = new Blob(buffers, {type: 'application/binary'});\n",
       "      const a = document.createElement('a');\n",
       "      a.href = window.URL.createObjectURL(blob);\n",
       "      a.download = filename;\n",
       "      div.appendChild(a);\n",
       "      a.click();\n",
       "      div.remove();\n",
       "    }\n",
       "  "
      ]
     },
     "metadata": {}
    },
    {
     "output_type": "display_data",
     "data": {
      "text/plain": [
       "<IPython.core.display.Javascript object>"
      ],
      "application/javascript": [
       "download(\"download_f40f0e82-0132-4cb3-96a1-ac9ef1817979\", \"best_model_HDF5_format.h5\", 22120)"
      ]
     },
     "metadata": {}
    }
   ]
  },
  {
   "cell_type": "code",
   "source": [
    "# Save a file from Google Colab to Google Drive\n",
    "#!cp /content/best_model_HDF5_format.h5 /content/drive/MyDrive/..."
   ],
   "metadata": {
    "id": "HziEWQ6vocxS"
   },
   "execution_count": null,
   "outputs": []
  },
  {
   "cell_type": "markdown",
   "source": [
    "###A larger example"
   ],
   "metadata": {
    "id": "Vf-6mKj_pYqZ"
   }
  },
  {
   "cell_type": "code",
   "source": [
    "# Import the required libraries\n",
    "import tensorflow as tf\n",
    "import pandas as pd\n",
    "import matplotlib.pyplot as plt"
   ],
   "metadata": {
    "id": "OZEM6aSWpbv1"
   },
   "execution_count": null,
   "outputs": []
  },
  {
   "cell_type": "code",
   "source": [
    "# Read in the insurance dataset\n",
    "insurance = pd.read_csv(\"https://raw.githubusercontent.com/stedy/Machine-Learning-with-R-datasets/master/insurance.csv\")\n",
    "insurance"
   ],
   "metadata": {
    "colab": {
     "base_uri": "https://localhost:8080/",
     "height": 411
    },
    "id": "skr5voncqdGF",
    "outputId": "475d3455-7b4d-495d-8f4d-0a7960a2c3d4"
   },
   "execution_count": null,
   "outputs": [
    {
     "output_type": "execute_result",
     "data": {
      "text/plain": [
       "      age     sex     bmi  children smoker     region      charges\n",
       "0      19  female  27.900         0    yes  southwest  16884.92400\n",
       "1      18    male  33.770         1     no  southeast   1725.55230\n",
       "2      28    male  33.000         3     no  southeast   4449.46200\n",
       "3      33    male  22.705         0     no  northwest  21984.47061\n",
       "4      32    male  28.880         0     no  northwest   3866.85520\n",
       "...   ...     ...     ...       ...    ...        ...          ...\n",
       "1333   50    male  30.970         3     no  northwest  10600.54830\n",
       "1334   18  female  31.920         0     no  northeast   2205.98080\n",
       "1335   18  female  36.850         0     no  southeast   1629.83350\n",
       "1336   21  female  25.800         0     no  southwest   2007.94500\n",
       "1337   61  female  29.070         0    yes  northwest  29141.36030\n",
       "\n",
       "[1338 rows x 7 columns]"
      ],
      "text/html": [
       "\n",
       "  <div id=\"df-46fa1102-a6a8-421f-8bc4-fc75e01f4c40\">\n",
       "    <div class=\"colab-df-container\">\n",
       "      <div>\n",
       "<style scoped>\n",
       "    .dataframe tbody tr th:only-of-type {\n",
       "        vertical-align: middle;\n",
       "    }\n",
       "\n",
       "    .dataframe tbody tr th {\n",
       "        vertical-align: top;\n",
       "    }\n",
       "\n",
       "    .dataframe thead th {\n",
       "        text-align: right;\n",
       "    }\n",
       "</style>\n",
       "<table border=\"1\" class=\"dataframe\">\n",
       "  <thead>\n",
       "    <tr style=\"text-align: right;\">\n",
       "      <th></th>\n",
       "      <th>age</th>\n",
       "      <th>sex</th>\n",
       "      <th>bmi</th>\n",
       "      <th>children</th>\n",
       "      <th>smoker</th>\n",
       "      <th>region</th>\n",
       "      <th>charges</th>\n",
       "    </tr>\n",
       "  </thead>\n",
       "  <tbody>\n",
       "    <tr>\n",
       "      <th>0</th>\n",
       "      <td>19</td>\n",
       "      <td>female</td>\n",
       "      <td>27.900</td>\n",
       "      <td>0</td>\n",
       "      <td>yes</td>\n",
       "      <td>southwest</td>\n",
       "      <td>16884.92400</td>\n",
       "    </tr>\n",
       "    <tr>\n",
       "      <th>1</th>\n",
       "      <td>18</td>\n",
       "      <td>male</td>\n",
       "      <td>33.770</td>\n",
       "      <td>1</td>\n",
       "      <td>no</td>\n",
       "      <td>southeast</td>\n",
       "      <td>1725.55230</td>\n",
       "    </tr>\n",
       "    <tr>\n",
       "      <th>2</th>\n",
       "      <td>28</td>\n",
       "      <td>male</td>\n",
       "      <td>33.000</td>\n",
       "      <td>3</td>\n",
       "      <td>no</td>\n",
       "      <td>southeast</td>\n",
       "      <td>4449.46200</td>\n",
       "    </tr>\n",
       "    <tr>\n",
       "      <th>3</th>\n",
       "      <td>33</td>\n",
       "      <td>male</td>\n",
       "      <td>22.705</td>\n",
       "      <td>0</td>\n",
       "      <td>no</td>\n",
       "      <td>northwest</td>\n",
       "      <td>21984.47061</td>\n",
       "    </tr>\n",
       "    <tr>\n",
       "      <th>4</th>\n",
       "      <td>32</td>\n",
       "      <td>male</td>\n",
       "      <td>28.880</td>\n",
       "      <td>0</td>\n",
       "      <td>no</td>\n",
       "      <td>northwest</td>\n",
       "      <td>3866.85520</td>\n",
       "    </tr>\n",
       "    <tr>\n",
       "      <th>...</th>\n",
       "      <td>...</td>\n",
       "      <td>...</td>\n",
       "      <td>...</td>\n",
       "      <td>...</td>\n",
       "      <td>...</td>\n",
       "      <td>...</td>\n",
       "      <td>...</td>\n",
       "    </tr>\n",
       "    <tr>\n",
       "      <th>1333</th>\n",
       "      <td>50</td>\n",
       "      <td>male</td>\n",
       "      <td>30.970</td>\n",
       "      <td>3</td>\n",
       "      <td>no</td>\n",
       "      <td>northwest</td>\n",
       "      <td>10600.54830</td>\n",
       "    </tr>\n",
       "    <tr>\n",
       "      <th>1334</th>\n",
       "      <td>18</td>\n",
       "      <td>female</td>\n",
       "      <td>31.920</td>\n",
       "      <td>0</td>\n",
       "      <td>no</td>\n",
       "      <td>northeast</td>\n",
       "      <td>2205.98080</td>\n",
       "    </tr>\n",
       "    <tr>\n",
       "      <th>1335</th>\n",
       "      <td>18</td>\n",
       "      <td>female</td>\n",
       "      <td>36.850</td>\n",
       "      <td>0</td>\n",
       "      <td>no</td>\n",
       "      <td>southeast</td>\n",
       "      <td>1629.83350</td>\n",
       "    </tr>\n",
       "    <tr>\n",
       "      <th>1336</th>\n",
       "      <td>21</td>\n",
       "      <td>female</td>\n",
       "      <td>25.800</td>\n",
       "      <td>0</td>\n",
       "      <td>no</td>\n",
       "      <td>southwest</td>\n",
       "      <td>2007.94500</td>\n",
       "    </tr>\n",
       "    <tr>\n",
       "      <th>1337</th>\n",
       "      <td>61</td>\n",
       "      <td>female</td>\n",
       "      <td>29.070</td>\n",
       "      <td>0</td>\n",
       "      <td>yes</td>\n",
       "      <td>northwest</td>\n",
       "      <td>29141.36030</td>\n",
       "    </tr>\n",
       "  </tbody>\n",
       "</table>\n",
       "<p>1338 rows × 7 columns</p>\n",
       "</div>\n",
       "      <button class=\"colab-df-convert\" onclick=\"convertToInteractive('df-46fa1102-a6a8-421f-8bc4-fc75e01f4c40')\"\n",
       "              title=\"Convert this dataframe to an interactive table.\"\n",
       "              style=\"display:none;\">\n",
       "        \n",
       "  <svg xmlns=\"http://www.w3.org/2000/svg\" height=\"24px\"viewBox=\"0 0 24 24\"\n",
       "       width=\"24px\">\n",
       "    <path d=\"M0 0h24v24H0V0z\" fill=\"none\"/>\n",
       "    <path d=\"M18.56 5.44l.94 2.06.94-2.06 2.06-.94-2.06-.94-.94-2.06-.94 2.06-2.06.94zm-11 1L8.5 8.5l.94-2.06 2.06-.94-2.06-.94L8.5 2.5l-.94 2.06-2.06.94zm10 10l.94 2.06.94-2.06 2.06-.94-2.06-.94-.94-2.06-.94 2.06-2.06.94z\"/><path d=\"M17.41 7.96l-1.37-1.37c-.4-.4-.92-.59-1.43-.59-.52 0-1.04.2-1.43.59L10.3 9.45l-7.72 7.72c-.78.78-.78 2.05 0 2.83L4 21.41c.39.39.9.59 1.41.59.51 0 1.02-.2 1.41-.59l7.78-7.78 2.81-2.81c.8-.78.8-2.07 0-2.86zM5.41 20L4 18.59l7.72-7.72 1.47 1.35L5.41 20z\"/>\n",
       "  </svg>\n",
       "      </button>\n",
       "      \n",
       "  <style>\n",
       "    .colab-df-container {\n",
       "      display:flex;\n",
       "      flex-wrap:wrap;\n",
       "      gap: 12px;\n",
       "    }\n",
       "\n",
       "    .colab-df-convert {\n",
       "      background-color: #E8F0FE;\n",
       "      border: none;\n",
       "      border-radius: 50%;\n",
       "      cursor: pointer;\n",
       "      display: none;\n",
       "      fill: #1967D2;\n",
       "      height: 32px;\n",
       "      padding: 0 0 0 0;\n",
       "      width: 32px;\n",
       "    }\n",
       "\n",
       "    .colab-df-convert:hover {\n",
       "      background-color: #E2EBFA;\n",
       "      box-shadow: 0px 1px 2px rgba(60, 64, 67, 0.3), 0px 1px 3px 1px rgba(60, 64, 67, 0.15);\n",
       "      fill: #174EA6;\n",
       "    }\n",
       "\n",
       "    [theme=dark] .colab-df-convert {\n",
       "      background-color: #3B4455;\n",
       "      fill: #D2E3FC;\n",
       "    }\n",
       "\n",
       "    [theme=dark] .colab-df-convert:hover {\n",
       "      background-color: #434B5C;\n",
       "      box-shadow: 0px 1px 3px 1px rgba(0, 0, 0, 0.15);\n",
       "      filter: drop-shadow(0px 1px 2px rgba(0, 0, 0, 0.3));\n",
       "      fill: #FFFFFF;\n",
       "    }\n",
       "  </style>\n",
       "\n",
       "      <script>\n",
       "        const buttonEl =\n",
       "          document.querySelector('#df-46fa1102-a6a8-421f-8bc4-fc75e01f4c40 button.colab-df-convert');\n",
       "        buttonEl.style.display =\n",
       "          google.colab.kernel.accessAllowed ? 'block' : 'none';\n",
       "\n",
       "        async function convertToInteractive(key) {\n",
       "          const element = document.querySelector('#df-46fa1102-a6a8-421f-8bc4-fc75e01f4c40');\n",
       "          const dataTable =\n",
       "            await google.colab.kernel.invokeFunction('convertToInteractive',\n",
       "                                                     [key], {});\n",
       "          if (!dataTable) return;\n",
       "\n",
       "          const docLinkHtml = 'Like what you see? Visit the ' +\n",
       "            '<a target=\"_blank\" href=https://colab.research.google.com/notebooks/data_table.ipynb>data table notebook</a>'\n",
       "            + ' to learn more about interactive tables.';\n",
       "          element.innerHTML = '';\n",
       "          dataTable['output_type'] = 'display_data';\n",
       "          await google.colab.output.renderOutput(dataTable, element);\n",
       "          const docLink = document.createElement('div');\n",
       "          docLink.innerHTML = docLinkHtml;\n",
       "          element.appendChild(docLink);\n",
       "        }\n",
       "      </script>\n",
       "    </div>\n",
       "  </div>\n",
       "  "
      ]
     },
     "metadata": {},
     "execution_count": 3
    }
   ]
  },
  {
   "cell_type": "code",
   "source": [
    "# Let's try one-hot encode our DataFrame so it's all numbers.\n",
    "insurance_one_hot = pd.get_dummies(insurance)\n",
    "insurance_one_hot.head()"
   ],
   "metadata": {
    "colab": {
     "base_uri": "https://localhost:8080/",
     "height": 201
    },
    "id": "IXsyavGEqjjV",
    "outputId": "75063ec1-df5a-41ba-f08f-ad2f313410b9"
   },
   "execution_count": null,
   "outputs": [
    {
     "output_type": "execute_result",
     "data": {
      "text/plain": [
       "   age     bmi  children      charges  sex_female  sex_male  smoker_no  \\\n",
       "0   19  27.900         0  16884.92400           1         0          0   \n",
       "1   18  33.770         1   1725.55230           0         1          1   \n",
       "2   28  33.000         3   4449.46200           0         1          1   \n",
       "3   33  22.705         0  21984.47061           0         1          1   \n",
       "4   32  28.880         0   3866.85520           0         1          1   \n",
       "\n",
       "   smoker_yes  region_northeast  region_northwest  region_southeast  \\\n",
       "0           1                 0                 0                 0   \n",
       "1           0                 0                 0                 1   \n",
       "2           0                 0                 0                 1   \n",
       "3           0                 0                 1                 0   \n",
       "4           0                 0                 1                 0   \n",
       "\n",
       "   region_southwest  \n",
       "0                 1  \n",
       "1                 0  \n",
       "2                 0  \n",
       "3                 0  \n",
       "4                 0  "
      ],
      "text/html": [
       "\n",
       "  <div id=\"df-9ca9c22f-2c35-49d3-b155-77fcfaee8526\">\n",
       "    <div class=\"colab-df-container\">\n",
       "      <div>\n",
       "<style scoped>\n",
       "    .dataframe tbody tr th:only-of-type {\n",
       "        vertical-align: middle;\n",
       "    }\n",
       "\n",
       "    .dataframe tbody tr th {\n",
       "        vertical-align: top;\n",
       "    }\n",
       "\n",
       "    .dataframe thead th {\n",
       "        text-align: right;\n",
       "    }\n",
       "</style>\n",
       "<table border=\"1\" class=\"dataframe\">\n",
       "  <thead>\n",
       "    <tr style=\"text-align: right;\">\n",
       "      <th></th>\n",
       "      <th>age</th>\n",
       "      <th>bmi</th>\n",
       "      <th>children</th>\n",
       "      <th>charges</th>\n",
       "      <th>sex_female</th>\n",
       "      <th>sex_male</th>\n",
       "      <th>smoker_no</th>\n",
       "      <th>smoker_yes</th>\n",
       "      <th>region_northeast</th>\n",
       "      <th>region_northwest</th>\n",
       "      <th>region_southeast</th>\n",
       "      <th>region_southwest</th>\n",
       "    </tr>\n",
       "  </thead>\n",
       "  <tbody>\n",
       "    <tr>\n",
       "      <th>0</th>\n",
       "      <td>19</td>\n",
       "      <td>27.900</td>\n",
       "      <td>0</td>\n",
       "      <td>16884.92400</td>\n",
       "      <td>1</td>\n",
       "      <td>0</td>\n",
       "      <td>0</td>\n",
       "      <td>1</td>\n",
       "      <td>0</td>\n",
       "      <td>0</td>\n",
       "      <td>0</td>\n",
       "      <td>1</td>\n",
       "    </tr>\n",
       "    <tr>\n",
       "      <th>1</th>\n",
       "      <td>18</td>\n",
       "      <td>33.770</td>\n",
       "      <td>1</td>\n",
       "      <td>1725.55230</td>\n",
       "      <td>0</td>\n",
       "      <td>1</td>\n",
       "      <td>1</td>\n",
       "      <td>0</td>\n",
       "      <td>0</td>\n",
       "      <td>0</td>\n",
       "      <td>1</td>\n",
       "      <td>0</td>\n",
       "    </tr>\n",
       "    <tr>\n",
       "      <th>2</th>\n",
       "      <td>28</td>\n",
       "      <td>33.000</td>\n",
       "      <td>3</td>\n",
       "      <td>4449.46200</td>\n",
       "      <td>0</td>\n",
       "      <td>1</td>\n",
       "      <td>1</td>\n",
       "      <td>0</td>\n",
       "      <td>0</td>\n",
       "      <td>0</td>\n",
       "      <td>1</td>\n",
       "      <td>0</td>\n",
       "    </tr>\n",
       "    <tr>\n",
       "      <th>3</th>\n",
       "      <td>33</td>\n",
       "      <td>22.705</td>\n",
       "      <td>0</td>\n",
       "      <td>21984.47061</td>\n",
       "      <td>0</td>\n",
       "      <td>1</td>\n",
       "      <td>1</td>\n",
       "      <td>0</td>\n",
       "      <td>0</td>\n",
       "      <td>1</td>\n",
       "      <td>0</td>\n",
       "      <td>0</td>\n",
       "    </tr>\n",
       "    <tr>\n",
       "      <th>4</th>\n",
       "      <td>32</td>\n",
       "      <td>28.880</td>\n",
       "      <td>0</td>\n",
       "      <td>3866.85520</td>\n",
       "      <td>0</td>\n",
       "      <td>1</td>\n",
       "      <td>1</td>\n",
       "      <td>0</td>\n",
       "      <td>0</td>\n",
       "      <td>1</td>\n",
       "      <td>0</td>\n",
       "      <td>0</td>\n",
       "    </tr>\n",
       "  </tbody>\n",
       "</table>\n",
       "</div>\n",
       "      <button class=\"colab-df-convert\" onclick=\"convertToInteractive('df-9ca9c22f-2c35-49d3-b155-77fcfaee8526')\"\n",
       "              title=\"Convert this dataframe to an interactive table.\"\n",
       "              style=\"display:none;\">\n",
       "        \n",
       "  <svg xmlns=\"http://www.w3.org/2000/svg\" height=\"24px\"viewBox=\"0 0 24 24\"\n",
       "       width=\"24px\">\n",
       "    <path d=\"M0 0h24v24H0V0z\" fill=\"none\"/>\n",
       "    <path d=\"M18.56 5.44l.94 2.06.94-2.06 2.06-.94-2.06-.94-.94-2.06-.94 2.06-2.06.94zm-11 1L8.5 8.5l.94-2.06 2.06-.94-2.06-.94L8.5 2.5l-.94 2.06-2.06.94zm10 10l.94 2.06.94-2.06 2.06-.94-2.06-.94-.94-2.06-.94 2.06-2.06.94z\"/><path d=\"M17.41 7.96l-1.37-1.37c-.4-.4-.92-.59-1.43-.59-.52 0-1.04.2-1.43.59L10.3 9.45l-7.72 7.72c-.78.78-.78 2.05 0 2.83L4 21.41c.39.39.9.59 1.41.59.51 0 1.02-.2 1.41-.59l7.78-7.78 2.81-2.81c.8-.78.8-2.07 0-2.86zM5.41 20L4 18.59l7.72-7.72 1.47 1.35L5.41 20z\"/>\n",
       "  </svg>\n",
       "      </button>\n",
       "      \n",
       "  <style>\n",
       "    .colab-df-container {\n",
       "      display:flex;\n",
       "      flex-wrap:wrap;\n",
       "      gap: 12px;\n",
       "    }\n",
       "\n",
       "    .colab-df-convert {\n",
       "      background-color: #E8F0FE;\n",
       "      border: none;\n",
       "      border-radius: 50%;\n",
       "      cursor: pointer;\n",
       "      display: none;\n",
       "      fill: #1967D2;\n",
       "      height: 32px;\n",
       "      padding: 0 0 0 0;\n",
       "      width: 32px;\n",
       "    }\n",
       "\n",
       "    .colab-df-convert:hover {\n",
       "      background-color: #E2EBFA;\n",
       "      box-shadow: 0px 1px 2px rgba(60, 64, 67, 0.3), 0px 1px 3px 1px rgba(60, 64, 67, 0.15);\n",
       "      fill: #174EA6;\n",
       "    }\n",
       "\n",
       "    [theme=dark] .colab-df-convert {\n",
       "      background-color: #3B4455;\n",
       "      fill: #D2E3FC;\n",
       "    }\n",
       "\n",
       "    [theme=dark] .colab-df-convert:hover {\n",
       "      background-color: #434B5C;\n",
       "      box-shadow: 0px 1px 3px 1px rgba(0, 0, 0, 0.15);\n",
       "      filter: drop-shadow(0px 1px 2px rgba(0, 0, 0, 0.3));\n",
       "      fill: #FFFFFF;\n",
       "    }\n",
       "  </style>\n",
       "\n",
       "      <script>\n",
       "        const buttonEl =\n",
       "          document.querySelector('#df-9ca9c22f-2c35-49d3-b155-77fcfaee8526 button.colab-df-convert');\n",
       "        buttonEl.style.display =\n",
       "          google.colab.kernel.accessAllowed ? 'block' : 'none';\n",
       "\n",
       "        async function convertToInteractive(key) {\n",
       "          const element = document.querySelector('#df-9ca9c22f-2c35-49d3-b155-77fcfaee8526');\n",
       "          const dataTable =\n",
       "            await google.colab.kernel.invokeFunction('convertToInteractive',\n",
       "                                                     [key], {});\n",
       "          if (!dataTable) return;\n",
       "\n",
       "          const docLinkHtml = 'Like what you see? Visit the ' +\n",
       "            '<a target=\"_blank\" href=https://colab.research.google.com/notebooks/data_table.ipynb>data table notebook</a>'\n",
       "            + ' to learn more about interactive tables.';\n",
       "          element.innerHTML = '';\n",
       "          dataTable['output_type'] = 'display_data';\n",
       "          await google.colab.output.renderOutput(dataTable, element);\n",
       "          const docLink = document.createElement('div');\n",
       "          docLink.innerHTML = docLinkHtml;\n",
       "          element.appendChild(docLink);\n",
       "        }\n",
       "      </script>\n",
       "    </div>\n",
       "  </div>\n",
       "  "
      ]
     },
     "metadata": {},
     "execution_count": 4
    }
   ]
  },
  {
   "cell_type": "code",
   "source": [
    "# Create X & y values (features and sets)\n",
    "# y_labels = tf.constant(insurance_one_hot[\"charges\"].to_numpy())\n",
    "# y_labels\n",
    "\n",
    "# y_train = y_labels[1070:]\n",
    "# y_test = y_labels[:1070]\n",
    "\n",
    "# X_data = insurance_one_hot.loc[:, insurance_one_hot.columns != 'charges']\n",
    "# X_train = X_data[1070:]\n",
    "# X_test = X_data[:1070]\n",
    "\n",
    "# tf.size(y_train), tf.size(y_test)"
   ],
   "metadata": {
    "id": "8pVSjxW-ssyy"
   },
   "execution_count": null,
   "outputs": []
  },
  {
   "cell_type": "code",
   "source": [
    "# Create X & y values (features and sets)\n",
    "X = insurance_one_hot.drop(\"charges\", axis=1)\n",
    "y = insurance_one_hot[\"charges\"]"
   ],
   "metadata": {
    "id": "ltu158BpRzA2"
   },
   "execution_count": null,
   "outputs": []
  },
  {
   "cell_type": "code",
   "source": [
    "# View X\n",
    "X.head()"
   ],
   "metadata": {
    "colab": {
     "base_uri": "https://localhost:8080/",
     "height": 201
    },
    "id": "JZ2-ybWFTxkq",
    "outputId": "3024921b-5586-445a-a6ab-bb15d50e3272"
   },
   "execution_count": null,
   "outputs": [
    {
     "output_type": "execute_result",
     "data": {
      "text/plain": [
       "   age     bmi  children  sex_female  sex_male  smoker_no  smoker_yes  \\\n",
       "0   19  27.900         0           1         0          0           1   \n",
       "1   18  33.770         1           0         1          1           0   \n",
       "2   28  33.000         3           0         1          1           0   \n",
       "3   33  22.705         0           0         1          1           0   \n",
       "4   32  28.880         0           0         1          1           0   \n",
       "\n",
       "   region_northeast  region_northwest  region_southeast  region_southwest  \n",
       "0                 0                 0                 0                 1  \n",
       "1                 0                 0                 1                 0  \n",
       "2                 0                 0                 1                 0  \n",
       "3                 0                 1                 0                 0  \n",
       "4                 0                 1                 0                 0  "
      ],
      "text/html": [
       "\n",
       "  <div id=\"df-8ae1c837-36bf-4ece-b509-92c53bdf532e\">\n",
       "    <div class=\"colab-df-container\">\n",
       "      <div>\n",
       "<style scoped>\n",
       "    .dataframe tbody tr th:only-of-type {\n",
       "        vertical-align: middle;\n",
       "    }\n",
       "\n",
       "    .dataframe tbody tr th {\n",
       "        vertical-align: top;\n",
       "    }\n",
       "\n",
       "    .dataframe thead th {\n",
       "        text-align: right;\n",
       "    }\n",
       "</style>\n",
       "<table border=\"1\" class=\"dataframe\">\n",
       "  <thead>\n",
       "    <tr style=\"text-align: right;\">\n",
       "      <th></th>\n",
       "      <th>age</th>\n",
       "      <th>bmi</th>\n",
       "      <th>children</th>\n",
       "      <th>sex_female</th>\n",
       "      <th>sex_male</th>\n",
       "      <th>smoker_no</th>\n",
       "      <th>smoker_yes</th>\n",
       "      <th>region_northeast</th>\n",
       "      <th>region_northwest</th>\n",
       "      <th>region_southeast</th>\n",
       "      <th>region_southwest</th>\n",
       "    </tr>\n",
       "  </thead>\n",
       "  <tbody>\n",
       "    <tr>\n",
       "      <th>0</th>\n",
       "      <td>19</td>\n",
       "      <td>27.900</td>\n",
       "      <td>0</td>\n",
       "      <td>1</td>\n",
       "      <td>0</td>\n",
       "      <td>0</td>\n",
       "      <td>1</td>\n",
       "      <td>0</td>\n",
       "      <td>0</td>\n",
       "      <td>0</td>\n",
       "      <td>1</td>\n",
       "    </tr>\n",
       "    <tr>\n",
       "      <th>1</th>\n",
       "      <td>18</td>\n",
       "      <td>33.770</td>\n",
       "      <td>1</td>\n",
       "      <td>0</td>\n",
       "      <td>1</td>\n",
       "      <td>1</td>\n",
       "      <td>0</td>\n",
       "      <td>0</td>\n",
       "      <td>0</td>\n",
       "      <td>1</td>\n",
       "      <td>0</td>\n",
       "    </tr>\n",
       "    <tr>\n",
       "      <th>2</th>\n",
       "      <td>28</td>\n",
       "      <td>33.000</td>\n",
       "      <td>3</td>\n",
       "      <td>0</td>\n",
       "      <td>1</td>\n",
       "      <td>1</td>\n",
       "      <td>0</td>\n",
       "      <td>0</td>\n",
       "      <td>0</td>\n",
       "      <td>1</td>\n",
       "      <td>0</td>\n",
       "    </tr>\n",
       "    <tr>\n",
       "      <th>3</th>\n",
       "      <td>33</td>\n",
       "      <td>22.705</td>\n",
       "      <td>0</td>\n",
       "      <td>0</td>\n",
       "      <td>1</td>\n",
       "      <td>1</td>\n",
       "      <td>0</td>\n",
       "      <td>0</td>\n",
       "      <td>1</td>\n",
       "      <td>0</td>\n",
       "      <td>0</td>\n",
       "    </tr>\n",
       "    <tr>\n",
       "      <th>4</th>\n",
       "      <td>32</td>\n",
       "      <td>28.880</td>\n",
       "      <td>0</td>\n",
       "      <td>0</td>\n",
       "      <td>1</td>\n",
       "      <td>1</td>\n",
       "      <td>0</td>\n",
       "      <td>0</td>\n",
       "      <td>1</td>\n",
       "      <td>0</td>\n",
       "      <td>0</td>\n",
       "    </tr>\n",
       "  </tbody>\n",
       "</table>\n",
       "</div>\n",
       "      <button class=\"colab-df-convert\" onclick=\"convertToInteractive('df-8ae1c837-36bf-4ece-b509-92c53bdf532e')\"\n",
       "              title=\"Convert this dataframe to an interactive table.\"\n",
       "              style=\"display:none;\">\n",
       "        \n",
       "  <svg xmlns=\"http://www.w3.org/2000/svg\" height=\"24px\"viewBox=\"0 0 24 24\"\n",
       "       width=\"24px\">\n",
       "    <path d=\"M0 0h24v24H0V0z\" fill=\"none\"/>\n",
       "    <path d=\"M18.56 5.44l.94 2.06.94-2.06 2.06-.94-2.06-.94-.94-2.06-.94 2.06-2.06.94zm-11 1L8.5 8.5l.94-2.06 2.06-.94-2.06-.94L8.5 2.5l-.94 2.06-2.06.94zm10 10l.94 2.06.94-2.06 2.06-.94-2.06-.94-.94-2.06-.94 2.06-2.06.94z\"/><path d=\"M17.41 7.96l-1.37-1.37c-.4-.4-.92-.59-1.43-.59-.52 0-1.04.2-1.43.59L10.3 9.45l-7.72 7.72c-.78.78-.78 2.05 0 2.83L4 21.41c.39.39.9.59 1.41.59.51 0 1.02-.2 1.41-.59l7.78-7.78 2.81-2.81c.8-.78.8-2.07 0-2.86zM5.41 20L4 18.59l7.72-7.72 1.47 1.35L5.41 20z\"/>\n",
       "  </svg>\n",
       "      </button>\n",
       "      \n",
       "  <style>\n",
       "    .colab-df-container {\n",
       "      display:flex;\n",
       "      flex-wrap:wrap;\n",
       "      gap: 12px;\n",
       "    }\n",
       "\n",
       "    .colab-df-convert {\n",
       "      background-color: #E8F0FE;\n",
       "      border: none;\n",
       "      border-radius: 50%;\n",
       "      cursor: pointer;\n",
       "      display: none;\n",
       "      fill: #1967D2;\n",
       "      height: 32px;\n",
       "      padding: 0 0 0 0;\n",
       "      width: 32px;\n",
       "    }\n",
       "\n",
       "    .colab-df-convert:hover {\n",
       "      background-color: #E2EBFA;\n",
       "      box-shadow: 0px 1px 2px rgba(60, 64, 67, 0.3), 0px 1px 3px 1px rgba(60, 64, 67, 0.15);\n",
       "      fill: #174EA6;\n",
       "    }\n",
       "\n",
       "    [theme=dark] .colab-df-convert {\n",
       "      background-color: #3B4455;\n",
       "      fill: #D2E3FC;\n",
       "    }\n",
       "\n",
       "    [theme=dark] .colab-df-convert:hover {\n",
       "      background-color: #434B5C;\n",
       "      box-shadow: 0px 1px 3px 1px rgba(0, 0, 0, 0.15);\n",
       "      filter: drop-shadow(0px 1px 2px rgba(0, 0, 0, 0.3));\n",
       "      fill: #FFFFFF;\n",
       "    }\n",
       "  </style>\n",
       "\n",
       "      <script>\n",
       "        const buttonEl =\n",
       "          document.querySelector('#df-8ae1c837-36bf-4ece-b509-92c53bdf532e button.colab-df-convert');\n",
       "        buttonEl.style.display =\n",
       "          google.colab.kernel.accessAllowed ? 'block' : 'none';\n",
       "\n",
       "        async function convertToInteractive(key) {\n",
       "          const element = document.querySelector('#df-8ae1c837-36bf-4ece-b509-92c53bdf532e');\n",
       "          const dataTable =\n",
       "            await google.colab.kernel.invokeFunction('convertToInteractive',\n",
       "                                                     [key], {});\n",
       "          if (!dataTable) return;\n",
       "\n",
       "          const docLinkHtml = 'Like what you see? Visit the ' +\n",
       "            '<a target=\"_blank\" href=https://colab.research.google.com/notebooks/data_table.ipynb>data table notebook</a>'\n",
       "            + ' to learn more about interactive tables.';\n",
       "          element.innerHTML = '';\n",
       "          dataTable['output_type'] = 'display_data';\n",
       "          await google.colab.output.renderOutput(dataTable, element);\n",
       "          const docLink = document.createElement('div');\n",
       "          docLink.innerHTML = docLinkHtml;\n",
       "          element.appendChild(docLink);\n",
       "        }\n",
       "      </script>\n",
       "    </div>\n",
       "  </div>\n",
       "  "
      ]
     },
     "metadata": {},
     "execution_count": 6
    }
   ]
  },
  {
   "cell_type": "code",
   "source": [
    "# View y\n",
    "y.head()"
   ],
   "metadata": {
    "colab": {
     "base_uri": "https://localhost:8080/"
    },
    "id": "hnwf8B-8T3zV",
    "outputId": "fc00c759-7e88-4546-f9dc-e2adea0a5754"
   },
   "execution_count": null,
   "outputs": [
    {
     "output_type": "execute_result",
     "data": {
      "text/plain": [
       "0    16884.92400\n",
       "1     1725.55230\n",
       "2     4449.46200\n",
       "3    21984.47061\n",
       "4     3866.85520\n",
       "Name: charges, dtype: float64"
      ]
     },
     "metadata": {},
     "execution_count": 7
    }
   ]
  },
  {
   "cell_type": "code",
   "source": [
    "# Create training and test sets\n",
    "from sklearn.model_selection import train_test_split\n",
    "X_train, X_test, y_train, y_test = train_test_split(X, y, test_size=0.20, random_state=42)\n",
    "len(X), len(X_train), len(X_test)"
   ],
   "metadata": {
    "colab": {
     "base_uri": "https://localhost:8080/"
    },
    "id": "ybgn9AaeTexl",
    "outputId": "7bafca56-f415-4830-b482-e915ee0db978"
   },
   "execution_count": null,
   "outputs": [
    {
     "output_type": "execute_result",
     "data": {
      "text/plain": [
       "(1338, 1070, 268)"
      ]
     },
     "metadata": {},
     "execution_count": 8
    }
   ]
  },
  {
   "cell_type": "code",
   "source": [
    "tf.random.set_seed(42)\n",
    "\n",
    "# Build a neural network (sort of like model_2 above)\n",
    "insurance_model = tf.keras.Sequential([\n",
    "    tf.keras.layers.Dense(20, input_shape=[11], activation='sigmoid'),\n",
    "    tf.keras.layers.Dropout(0.2),\n",
    "    tf.keras.layers.Dense(10, activation='relu'),\n",
    "    tf.keras.layers.Dropout(0.2),\n",
    "    tf.keras.layers.Dense(5, activation='relu'),\n",
    "    tf.keras.layers.Dense(1)\n",
    "])\n",
    "\n",
    "insurance_model.compile(loss=tf.keras.losses.mae,\n",
    "              optimizer=tf.keras.optimizers.Adam(learning_rate=0.01 ),\n",
    "              metrics=[\"mae\"])\n",
    "\n",
    "insurance_model.fit(x=X_train, y=y_train, epochs=250)"
   ],
   "metadata": {
    "id": "h25VXQpcTgpc",
    "colab": {
     "base_uri": "https://localhost:8080/"
    },
    "outputId": "41622dcc-3413-478c-ae78-f4a2d663b23c"
   },
   "execution_count": null,
   "outputs": [
    {
     "output_type": "stream",
     "name": "stdout",
     "text": [
      "Epoch 1/250\n",
      "34/34 [==============================] - 1s 2ms/step - loss: 13332.2480 - mae: 13332.2480\n",
      "Epoch 2/250\n",
      "34/34 [==============================] - 0s 2ms/step - loss: 13102.3320 - mae: 13102.3320\n",
      "Epoch 3/250\n",
      "34/34 [==============================] - 0s 2ms/step - loss: 12084.2725 - mae: 12084.2725\n",
      "Epoch 4/250\n",
      "34/34 [==============================] - 0s 2ms/step - loss: 10085.9834 - mae: 10085.9834\n",
      "Epoch 5/250\n",
      "34/34 [==============================] - 0s 2ms/step - loss: 8712.7441 - mae: 8712.7441\n",
      "Epoch 6/250\n",
      "34/34 [==============================] - 0s 2ms/step - loss: 8007.1196 - mae: 8007.1196\n",
      "Epoch 7/250\n",
      "34/34 [==============================] - 0s 2ms/step - loss: 7600.7012 - mae: 7600.7012\n",
      "Epoch 8/250\n",
      "34/34 [==============================] - 0s 2ms/step - loss: 7142.8374 - mae: 7142.8374\n",
      "Epoch 9/250\n",
      "34/34 [==============================] - 0s 2ms/step - loss: 6722.6167 - mae: 6722.6167\n",
      "Epoch 10/250\n",
      "34/34 [==============================] - 0s 2ms/step - loss: 6403.5078 - mae: 6403.5078\n",
      "Epoch 11/250\n",
      "34/34 [==============================] - 0s 2ms/step - loss: 5828.3135 - mae: 5828.3135\n",
      "Epoch 12/250\n",
      "34/34 [==============================] - 0s 2ms/step - loss: 5683.2627 - mae: 5683.2627\n",
      "Epoch 13/250\n",
      "34/34 [==============================] - 0s 2ms/step - loss: 5117.8779 - mae: 5117.8779\n",
      "Epoch 14/250\n",
      "34/34 [==============================] - 0s 2ms/step - loss: 5032.0474 - mae: 5032.0474\n",
      "Epoch 15/250\n",
      "34/34 [==============================] - 0s 2ms/step - loss: 4678.5444 - mae: 4678.5444\n",
      "Epoch 16/250\n",
      "34/34 [==============================] - 0s 2ms/step - loss: 4597.1265 - mae: 4597.1265\n",
      "Epoch 17/250\n",
      "34/34 [==============================] - 0s 2ms/step - loss: 4724.8965 - mae: 4724.8965\n",
      "Epoch 18/250\n",
      "34/34 [==============================] - 0s 2ms/step - loss: 4865.2119 - mae: 4865.2119\n",
      "Epoch 19/250\n",
      "34/34 [==============================] - 0s 2ms/step - loss: 4565.7246 - mae: 4565.7246\n",
      "Epoch 20/250\n",
      "34/34 [==============================] - 0s 2ms/step - loss: 4491.6602 - mae: 4491.6602\n",
      "Epoch 21/250\n",
      "34/34 [==============================] - 0s 2ms/step - loss: 4581.9702 - mae: 4581.9702\n",
      "Epoch 22/250\n",
      "34/34 [==============================] - 0s 2ms/step - loss: 4584.2573 - mae: 4584.2573\n",
      "Epoch 23/250\n",
      "34/34 [==============================] - 0s 2ms/step - loss: 4553.3643 - mae: 4553.3643\n",
      "Epoch 24/250\n",
      "34/34 [==============================] - 0s 2ms/step - loss: 4369.7129 - mae: 4369.7129\n",
      "Epoch 25/250\n",
      "34/34 [==============================] - 0s 2ms/step - loss: 4416.0200 - mae: 4416.0200\n",
      "Epoch 26/250\n",
      "34/34 [==============================] - 0s 2ms/step - loss: 4491.3691 - mae: 4491.3691\n",
      "Epoch 27/250\n",
      "34/34 [==============================] - 0s 2ms/step - loss: 4267.0483 - mae: 4267.0483\n",
      "Epoch 28/250\n",
      "34/34 [==============================] - 0s 2ms/step - loss: 4391.4380 - mae: 4391.4380\n",
      "Epoch 29/250\n",
      "34/34 [==============================] - 0s 2ms/step - loss: 4404.4917 - mae: 4404.4917\n",
      "Epoch 30/250\n",
      "34/34 [==============================] - 0s 2ms/step - loss: 4580.6406 - mae: 4580.6406\n",
      "Epoch 31/250\n",
      "34/34 [==============================] - 0s 2ms/step - loss: 4407.0679 - mae: 4407.0679\n",
      "Epoch 32/250\n",
      "34/34 [==============================] - 0s 2ms/step - loss: 4126.8169 - mae: 4126.8169\n",
      "Epoch 33/250\n",
      "34/34 [==============================] - 0s 2ms/step - loss: 4251.5903 - mae: 4251.5903\n",
      "Epoch 34/250\n",
      "34/34 [==============================] - 0s 2ms/step - loss: 4308.9370 - mae: 4308.9370\n",
      "Epoch 35/250\n",
      "34/34 [==============================] - 0s 2ms/step - loss: 4242.2080 - mae: 4242.2080\n",
      "Epoch 36/250\n",
      "34/34 [==============================] - 0s 2ms/step - loss: 4411.5913 - mae: 4411.5913\n",
      "Epoch 37/250\n",
      "34/34 [==============================] - 0s 2ms/step - loss: 4207.0254 - mae: 4207.0254\n",
      "Epoch 38/250\n",
      "34/34 [==============================] - 0s 2ms/step - loss: 4264.1543 - mae: 4264.1543\n",
      "Epoch 39/250\n",
      "34/34 [==============================] - 0s 2ms/step - loss: 4096.9185 - mae: 4096.9185\n",
      "Epoch 40/250\n",
      "34/34 [==============================] - 0s 2ms/step - loss: 4325.9087 - mae: 4325.9087\n",
      "Epoch 41/250\n",
      "34/34 [==============================] - 0s 2ms/step - loss: 4248.1660 - mae: 4248.1660\n",
      "Epoch 42/250\n",
      "34/34 [==============================] - 0s 2ms/step - loss: 4059.5906 - mae: 4059.5906\n",
      "Epoch 43/250\n",
      "34/34 [==============================] - 0s 2ms/step - loss: 3989.2556 - mae: 3989.2556\n",
      "Epoch 44/250\n",
      "34/34 [==============================] - 0s 2ms/step - loss: 4210.7080 - mae: 4210.7080\n",
      "Epoch 45/250\n",
      "34/34 [==============================] - 0s 2ms/step - loss: 4036.2378 - mae: 4036.2378\n",
      "Epoch 46/250\n",
      "34/34 [==============================] - 0s 2ms/step - loss: 3915.7722 - mae: 3915.7722\n",
      "Epoch 47/250\n",
      "34/34 [==============================] - 0s 2ms/step - loss: 3953.6150 - mae: 3953.6150\n",
      "Epoch 48/250\n",
      "34/34 [==============================] - 0s 2ms/step - loss: 4062.0459 - mae: 4062.0459\n",
      "Epoch 49/250\n",
      "34/34 [==============================] - 0s 2ms/step - loss: 3959.3850 - mae: 3959.3850\n",
      "Epoch 50/250\n",
      "34/34 [==============================] - 0s 2ms/step - loss: 3774.0359 - mae: 3774.0359\n",
      "Epoch 51/250\n",
      "34/34 [==============================] - 0s 2ms/step - loss: 4148.9424 - mae: 4148.9424\n",
      "Epoch 52/250\n",
      "34/34 [==============================] - 0s 2ms/step - loss: 3715.6826 - mae: 3715.6826\n",
      "Epoch 53/250\n",
      "34/34 [==============================] - 0s 2ms/step - loss: 3927.5781 - mae: 3927.5781\n",
      "Epoch 54/250\n",
      "34/34 [==============================] - 0s 2ms/step - loss: 3994.5972 - mae: 3994.5972\n",
      "Epoch 55/250\n",
      "34/34 [==============================] - 0s 2ms/step - loss: 4261.6343 - mae: 4261.6343\n",
      "Epoch 56/250\n",
      "34/34 [==============================] - 0s 2ms/step - loss: 3932.6360 - mae: 3932.6360\n",
      "Epoch 57/250\n",
      "34/34 [==============================] - 0s 2ms/step - loss: 3973.3999 - mae: 3973.3999\n",
      "Epoch 58/250\n",
      "34/34 [==============================] - 0s 2ms/step - loss: 3843.0459 - mae: 3843.0459\n",
      "Epoch 59/250\n",
      "34/34 [==============================] - 0s 2ms/step - loss: 3853.9731 - mae: 3853.9731\n",
      "Epoch 60/250\n",
      "34/34 [==============================] - 0s 2ms/step - loss: 3730.8943 - mae: 3730.8943\n",
      "Epoch 61/250\n",
      "34/34 [==============================] - 0s 2ms/step - loss: 3704.7085 - mae: 3704.7085\n",
      "Epoch 62/250\n",
      "34/34 [==============================] - 0s 2ms/step - loss: 3825.0137 - mae: 3825.0137\n",
      "Epoch 63/250\n",
      "34/34 [==============================] - 0s 2ms/step - loss: 3771.7515 - mae: 3771.7515\n",
      "Epoch 64/250\n",
      "34/34 [==============================] - 0s 2ms/step - loss: 3662.7720 - mae: 3662.7720\n",
      "Epoch 65/250\n",
      "34/34 [==============================] - 0s 2ms/step - loss: 3695.3875 - mae: 3695.3875\n",
      "Epoch 66/250\n",
      "34/34 [==============================] - 0s 2ms/step - loss: 3806.0012 - mae: 3806.0012\n",
      "Epoch 67/250\n",
      "34/34 [==============================] - 0s 2ms/step - loss: 3702.0869 - mae: 3702.0869\n",
      "Epoch 68/250\n",
      "34/34 [==============================] - 0s 2ms/step - loss: 3669.0640 - mae: 3669.0640\n",
      "Epoch 69/250\n",
      "34/34 [==============================] - 0s 2ms/step - loss: 3769.5325 - mae: 3769.5325\n",
      "Epoch 70/250\n",
      "34/34 [==============================] - 0s 2ms/step - loss: 3683.2971 - mae: 3683.2971\n",
      "Epoch 71/250\n",
      "34/34 [==============================] - 0s 2ms/step - loss: 3747.9519 - mae: 3747.9519\n",
      "Epoch 72/250\n",
      "34/34 [==============================] - 0s 2ms/step - loss: 3498.1128 - mae: 3498.1128\n",
      "Epoch 73/250\n",
      "34/34 [==============================] - 0s 2ms/step - loss: 3744.3149 - mae: 3744.3149\n",
      "Epoch 74/250\n",
      "34/34 [==============================] - 0s 2ms/step - loss: 3787.2991 - mae: 3787.2991\n",
      "Epoch 75/250\n",
      "34/34 [==============================] - 0s 2ms/step - loss: 3734.9844 - mae: 3734.9844\n",
      "Epoch 76/250\n",
      "34/34 [==============================] - 0s 2ms/step - loss: 3731.0083 - mae: 3731.0083\n",
      "Epoch 77/250\n",
      "34/34 [==============================] - 0s 2ms/step - loss: 3676.9722 - mae: 3676.9722\n",
      "Epoch 78/250\n",
      "34/34 [==============================] - 0s 2ms/step - loss: 3568.7756 - mae: 3568.7756\n",
      "Epoch 79/250\n",
      "34/34 [==============================] - 0s 2ms/step - loss: 3469.8359 - mae: 3469.8359\n",
      "Epoch 80/250\n",
      "34/34 [==============================] - 0s 7ms/step - loss: 3611.1592 - mae: 3611.1592\n",
      "Epoch 81/250\n",
      "34/34 [==============================] - 0s 9ms/step - loss: 3584.1228 - mae: 3584.1228\n",
      "Epoch 82/250\n",
      "34/34 [==============================] - 0s 6ms/step - loss: 3430.0190 - mae: 3430.0190\n",
      "Epoch 83/250\n",
      "34/34 [==============================] - 0s 3ms/step - loss: 3692.4290 - mae: 3692.4290\n",
      "Epoch 84/250\n",
      "34/34 [==============================] - 0s 2ms/step - loss: 3666.6838 - mae: 3666.6838\n",
      "Epoch 85/250\n",
      "34/34 [==============================] - 0s 2ms/step - loss: 3616.4761 - mae: 3616.4761\n",
      "Epoch 86/250\n",
      "34/34 [==============================] - 0s 2ms/step - loss: 3688.6919 - mae: 3688.6919\n",
      "Epoch 87/250\n",
      "34/34 [==============================] - 0s 2ms/step - loss: 3879.2200 - mae: 3879.2200\n",
      "Epoch 88/250\n",
      "34/34 [==============================] - 0s 3ms/step - loss: 3766.8071 - mae: 3766.8071\n",
      "Epoch 89/250\n",
      "34/34 [==============================] - 0s 2ms/step - loss: 3626.7937 - mae: 3626.7937\n",
      "Epoch 90/250\n",
      "34/34 [==============================] - 0s 2ms/step - loss: 3480.8638 - mae: 3480.8638\n",
      "Epoch 91/250\n",
      "34/34 [==============================] - 0s 2ms/step - loss: 3475.7556 - mae: 3475.7556\n",
      "Epoch 92/250\n",
      "34/34 [==============================] - 0s 2ms/step - loss: 3435.7422 - mae: 3435.7422\n",
      "Epoch 93/250\n",
      "34/34 [==============================] - 0s 2ms/step - loss: 3644.2788 - mae: 3644.2788\n",
      "Epoch 94/250\n",
      "34/34 [==============================] - 0s 2ms/step - loss: 3589.0630 - mae: 3589.0630\n",
      "Epoch 95/250\n",
      "34/34 [==============================] - 0s 2ms/step - loss: 3570.0515 - mae: 3570.0515\n",
      "Epoch 96/250\n",
      "34/34 [==============================] - 0s 2ms/step - loss: 3780.8008 - mae: 3780.8008\n",
      "Epoch 97/250\n",
      "34/34 [==============================] - 0s 3ms/step - loss: 3439.9321 - mae: 3439.9321\n",
      "Epoch 98/250\n",
      "34/34 [==============================] - 0s 3ms/step - loss: 3487.2400 - mae: 3487.2400\n",
      "Epoch 99/250\n",
      "34/34 [==============================] - 0s 3ms/step - loss: 3464.4153 - mae: 3464.4153\n",
      "Epoch 100/250\n",
      "34/34 [==============================] - 0s 3ms/step - loss: 3503.7034 - mae: 3503.7034\n",
      "Epoch 101/250\n",
      "34/34 [==============================] - 0s 3ms/step - loss: 3672.7068 - mae: 3672.7068\n",
      "Epoch 102/250\n",
      "34/34 [==============================] - 0s 3ms/step - loss: 3507.1792 - mae: 3507.1792\n",
      "Epoch 103/250\n",
      "34/34 [==============================] - 0s 3ms/step - loss: 3707.6116 - mae: 3707.6116\n",
      "Epoch 104/250\n",
      "34/34 [==============================] - 0s 3ms/step - loss: 3658.0549 - mae: 3658.0549\n",
      "Epoch 105/250\n",
      "34/34 [==============================] - 0s 3ms/step - loss: 3482.4529 - mae: 3482.4529\n",
      "Epoch 106/250\n",
      "34/34 [==============================] - 0s 3ms/step - loss: 3586.4199 - mae: 3586.4199\n",
      "Epoch 107/250\n",
      "34/34 [==============================] - 0s 3ms/step - loss: 3614.6787 - mae: 3614.6787\n",
      "Epoch 108/250\n",
      "34/34 [==============================] - 0s 3ms/step - loss: 3449.8032 - mae: 3449.8032\n",
      "Epoch 109/250\n",
      "34/34 [==============================] - 0s 3ms/step - loss: 3581.5439 - mae: 3581.5439\n",
      "Epoch 110/250\n",
      "34/34 [==============================] - 0s 3ms/step - loss: 3374.9658 - mae: 3374.9658\n",
      "Epoch 111/250\n",
      "34/34 [==============================] - 0s 3ms/step - loss: 3444.3931 - mae: 3444.3931\n",
      "Epoch 112/250\n",
      "34/34 [==============================] - 0s 3ms/step - loss: 3413.7063 - mae: 3413.7063\n",
      "Epoch 113/250\n",
      "34/34 [==============================] - 0s 3ms/step - loss: 3492.9768 - mae: 3492.9768\n",
      "Epoch 114/250\n",
      "34/34 [==============================] - 0s 3ms/step - loss: 3667.4863 - mae: 3667.4863\n",
      "Epoch 115/250\n",
      "34/34 [==============================] - 0s 3ms/step - loss: 3538.1868 - mae: 3538.1868\n",
      "Epoch 116/250\n",
      "34/34 [==============================] - 0s 3ms/step - loss: 3281.3071 - mae: 3281.3071\n",
      "Epoch 117/250\n",
      "34/34 [==============================] - 0s 3ms/step - loss: 3656.6760 - mae: 3656.6760\n",
      "Epoch 118/250\n",
      "34/34 [==============================] - 0s 3ms/step - loss: 3365.4597 - mae: 3365.4597\n",
      "Epoch 119/250\n",
      "34/34 [==============================] - 0s 3ms/step - loss: 3722.8445 - mae: 3722.8445\n",
      "Epoch 120/250\n",
      "34/34 [==============================] - 0s 3ms/step - loss: 3612.1807 - mae: 3612.1807\n",
      "Epoch 121/250\n",
      "34/34 [==============================] - 0s 3ms/step - loss: 3670.2766 - mae: 3670.2766\n",
      "Epoch 122/250\n",
      "34/34 [==============================] - 0s 3ms/step - loss: 3667.3887 - mae: 3667.3887\n",
      "Epoch 123/250\n",
      "34/34 [==============================] - 0s 3ms/step - loss: 3601.8735 - mae: 3601.8735\n",
      "Epoch 124/250\n",
      "34/34 [==============================] - 0s 2ms/step - loss: 3506.1733 - mae: 3506.1733\n",
      "Epoch 125/250\n",
      "34/34 [==============================] - 0s 3ms/step - loss: 3484.7642 - mae: 3484.7642\n",
      "Epoch 126/250\n",
      "34/34 [==============================] - 0s 3ms/step - loss: 3563.9597 - mae: 3563.9597\n",
      "Epoch 127/250\n",
      "34/34 [==============================] - 0s 3ms/step - loss: 3495.5771 - mae: 3495.5771\n",
      "Epoch 128/250\n",
      "34/34 [==============================] - 0s 3ms/step - loss: 3616.2744 - mae: 3616.2744\n",
      "Epoch 129/250\n",
      "34/34 [==============================] - 0s 2ms/step - loss: 3497.6750 - mae: 3497.6750\n",
      "Epoch 130/250\n",
      "34/34 [==============================] - 0s 2ms/step - loss: 3380.7795 - mae: 3380.7795\n",
      "Epoch 131/250\n",
      "34/34 [==============================] - 0s 2ms/step - loss: 3599.8804 - mae: 3599.8804\n",
      "Epoch 132/250\n",
      "34/34 [==============================] - 0s 2ms/step - loss: 3460.6055 - mae: 3460.6055\n",
      "Epoch 133/250\n",
      "34/34 [==============================] - 0s 2ms/step - loss: 3556.5144 - mae: 3556.5144\n",
      "Epoch 134/250\n",
      "34/34 [==============================] - 0s 2ms/step - loss: 3609.2170 - mae: 3609.2170\n",
      "Epoch 135/250\n",
      "34/34 [==============================] - 0s 2ms/step - loss: 3654.8872 - mae: 3654.8872\n",
      "Epoch 136/250\n",
      "34/34 [==============================] - 0s 2ms/step - loss: 3494.5740 - mae: 3494.5740\n",
      "Epoch 137/250\n",
      "34/34 [==============================] - 0s 2ms/step - loss: 3457.5505 - mae: 3457.5505\n",
      "Epoch 138/250\n",
      "34/34 [==============================] - 0s 2ms/step - loss: 3581.6028 - mae: 3581.6028\n",
      "Epoch 139/250\n",
      "34/34 [==============================] - 0s 2ms/step - loss: 3450.2256 - mae: 3450.2256\n",
      "Epoch 140/250\n",
      "34/34 [==============================] - 0s 2ms/step - loss: 3560.2139 - mae: 3560.2139\n",
      "Epoch 141/250\n",
      "34/34 [==============================] - 0s 2ms/step - loss: 3622.0952 - mae: 3622.0952\n",
      "Epoch 142/250\n",
      "34/34 [==============================] - 0s 2ms/step - loss: 3423.9285 - mae: 3423.9285\n",
      "Epoch 143/250\n",
      "34/34 [==============================] - 0s 2ms/step - loss: 3527.6511 - mae: 3527.6511\n",
      "Epoch 144/250\n",
      "34/34 [==============================] - 0s 2ms/step - loss: 3443.6494 - mae: 3443.6494\n",
      "Epoch 145/250\n",
      "34/34 [==============================] - 0s 2ms/step - loss: 3484.5630 - mae: 3484.5630\n",
      "Epoch 146/250\n",
      "34/34 [==============================] - 0s 2ms/step - loss: 3361.5894 - mae: 3361.5894\n",
      "Epoch 147/250\n",
      "34/34 [==============================] - 0s 2ms/step - loss: 3497.1230 - mae: 3497.1230\n",
      "Epoch 148/250\n",
      "34/34 [==============================] - 0s 2ms/step - loss: 3573.5969 - mae: 3573.5969\n",
      "Epoch 149/250\n",
      "34/34 [==============================] - 0s 2ms/step - loss: 3500.9258 - mae: 3500.9258\n",
      "Epoch 150/250\n",
      "34/34 [==============================] - 0s 2ms/step - loss: 3414.4307 - mae: 3414.4307\n",
      "Epoch 151/250\n",
      "34/34 [==============================] - 0s 2ms/step - loss: 3348.3743 - mae: 3348.3743\n",
      "Epoch 152/250\n",
      "34/34 [==============================] - 0s 2ms/step - loss: 3537.3784 - mae: 3537.3784\n",
      "Epoch 153/250\n",
      "34/34 [==============================] - 0s 2ms/step - loss: 3425.4231 - mae: 3425.4231\n",
      "Epoch 154/250\n",
      "34/34 [==============================] - 0s 2ms/step - loss: 3470.0127 - mae: 3470.0127\n",
      "Epoch 155/250\n",
      "34/34 [==============================] - 0s 2ms/step - loss: 3569.3899 - mae: 3569.3899\n",
      "Epoch 156/250\n",
      "34/34 [==============================] - 0s 2ms/step - loss: 3651.2146 - mae: 3651.2146\n",
      "Epoch 157/250\n",
      "34/34 [==============================] - 0s 2ms/step - loss: 3413.1604 - mae: 3413.1604\n",
      "Epoch 158/250\n",
      "34/34 [==============================] - 0s 2ms/step - loss: 3399.5557 - mae: 3399.5557\n",
      "Epoch 159/250\n",
      "34/34 [==============================] - 0s 2ms/step - loss: 3493.8962 - mae: 3493.8962\n",
      "Epoch 160/250\n",
      "34/34 [==============================] - 0s 2ms/step - loss: 3451.3484 - mae: 3451.3484\n",
      "Epoch 161/250\n",
      "34/34 [==============================] - 0s 2ms/step - loss: 3622.6655 - mae: 3622.6655\n",
      "Epoch 162/250\n",
      "34/34 [==============================] - 0s 2ms/step - loss: 3752.8723 - mae: 3752.8723\n",
      "Epoch 163/250\n",
      "34/34 [==============================] - 0s 2ms/step - loss: 3566.7786 - mae: 3566.7786\n",
      "Epoch 164/250\n",
      "34/34 [==============================] - 0s 2ms/step - loss: 3744.7991 - mae: 3744.7991\n",
      "Epoch 165/250\n",
      "34/34 [==============================] - 0s 2ms/step - loss: 3685.4153 - mae: 3685.4153\n",
      "Epoch 166/250\n",
      "34/34 [==============================] - 0s 2ms/step - loss: 3511.9902 - mae: 3511.9902\n",
      "Epoch 167/250\n",
      "34/34 [==============================] - 0s 2ms/step - loss: 3498.4377 - mae: 3498.4377\n",
      "Epoch 168/250\n",
      "34/34 [==============================] - 0s 2ms/step - loss: 3441.4941 - mae: 3441.4941\n",
      "Epoch 169/250\n",
      "34/34 [==============================] - 0s 2ms/step - loss: 3423.7690 - mae: 3423.7690\n",
      "Epoch 170/250\n",
      "34/34 [==============================] - 0s 2ms/step - loss: 3626.2527 - mae: 3626.2527\n",
      "Epoch 171/250\n",
      "34/34 [==============================] - 0s 2ms/step - loss: 3582.7605 - mae: 3582.7605\n",
      "Epoch 172/250\n",
      "34/34 [==============================] - 0s 2ms/step - loss: 3288.0703 - mae: 3288.0703\n",
      "Epoch 173/250\n",
      "34/34 [==============================] - 0s 2ms/step - loss: 3611.6428 - mae: 3611.6428\n",
      "Epoch 174/250\n",
      "34/34 [==============================] - 0s 2ms/step - loss: 3401.1655 - mae: 3401.1655\n",
      "Epoch 175/250\n",
      "34/34 [==============================] - 0s 2ms/step - loss: 3477.6550 - mae: 3477.6550\n",
      "Epoch 176/250\n",
      "34/34 [==============================] - 0s 2ms/step - loss: 3500.8892 - mae: 3500.8892\n",
      "Epoch 177/250\n",
      "34/34 [==============================] - 0s 2ms/step - loss: 3572.2910 - mae: 3572.2910\n",
      "Epoch 178/250\n",
      "34/34 [==============================] - 0s 2ms/step - loss: 3441.8918 - mae: 3441.8918\n",
      "Epoch 179/250\n",
      "34/34 [==============================] - 0s 2ms/step - loss: 3472.7791 - mae: 3472.7791\n",
      "Epoch 180/250\n",
      "34/34 [==============================] - 0s 2ms/step - loss: 3391.5842 - mae: 3391.5842\n",
      "Epoch 181/250\n",
      "34/34 [==============================] - 0s 2ms/step - loss: 3551.8423 - mae: 3551.8423\n",
      "Epoch 182/250\n",
      "34/34 [==============================] - 0s 2ms/step - loss: 3470.2163 - mae: 3470.2163\n",
      "Epoch 183/250\n",
      "34/34 [==============================] - 0s 2ms/step - loss: 3379.7615 - mae: 3379.7615\n",
      "Epoch 184/250\n",
      "34/34 [==============================] - 0s 2ms/step - loss: 3453.2883 - mae: 3453.2883\n",
      "Epoch 185/250\n",
      "34/34 [==============================] - 0s 2ms/step - loss: 3585.0215 - mae: 3585.0215\n",
      "Epoch 186/250\n",
      "34/34 [==============================] - 0s 2ms/step - loss: 3462.0984 - mae: 3462.0984\n",
      "Epoch 187/250\n",
      "34/34 [==============================] - 0s 2ms/step - loss: 3413.9280 - mae: 3413.9280\n",
      "Epoch 188/250\n",
      "34/34 [==============================] - 0s 2ms/step - loss: 3454.1392 - mae: 3454.1392\n",
      "Epoch 189/250\n",
      "34/34 [==============================] - 0s 2ms/step - loss: 3482.1304 - mae: 3482.1304\n",
      "Epoch 190/250\n",
      "34/34 [==============================] - 0s 2ms/step - loss: 3391.1379 - mae: 3391.1379\n",
      "Epoch 191/250\n",
      "34/34 [==============================] - 0s 2ms/step - loss: 3490.0781 - mae: 3490.0781\n",
      "Epoch 192/250\n",
      "34/34 [==============================] - 0s 2ms/step - loss: 3503.5786 - mae: 3503.5786\n",
      "Epoch 193/250\n",
      "34/34 [==============================] - 0s 2ms/step - loss: 3512.0654 - mae: 3512.0654\n",
      "Epoch 194/250\n",
      "34/34 [==============================] - 0s 2ms/step - loss: 3572.6636 - mae: 3572.6636\n",
      "Epoch 195/250\n",
      "34/34 [==============================] - 0s 2ms/step - loss: 3335.6924 - mae: 3335.6924\n",
      "Epoch 196/250\n",
      "34/34 [==============================] - 0s 2ms/step - loss: 3528.4587 - mae: 3528.4587\n",
      "Epoch 197/250\n",
      "34/34 [==============================] - 0s 2ms/step - loss: 3462.5332 - mae: 3462.5332\n",
      "Epoch 198/250\n",
      "34/34 [==============================] - 0s 2ms/step - loss: 3333.5486 - mae: 3333.5486\n",
      "Epoch 199/250\n",
      "34/34 [==============================] - 0s 2ms/step - loss: 3516.1228 - mae: 3516.1228\n",
      "Epoch 200/250\n",
      "34/34 [==============================] - 0s 2ms/step - loss: 3383.4351 - mae: 3383.4351\n",
      "Epoch 201/250\n",
      "34/34 [==============================] - 0s 2ms/step - loss: 3475.2981 - mae: 3475.2981\n",
      "Epoch 202/250\n",
      "34/34 [==============================] - 0s 2ms/step - loss: 3389.5415 - mae: 3389.5415\n",
      "Epoch 203/250\n",
      "34/34 [==============================] - 0s 2ms/step - loss: 3444.1511 - mae: 3444.1511\n",
      "Epoch 204/250\n",
      "34/34 [==============================] - 0s 2ms/step - loss: 3670.6482 - mae: 3670.6482\n",
      "Epoch 205/250\n",
      "34/34 [==============================] - 0s 2ms/step - loss: 3364.8921 - mae: 3364.8921\n",
      "Epoch 206/250\n",
      "34/34 [==============================] - 0s 2ms/step - loss: 3462.1182 - mae: 3462.1182\n",
      "Epoch 207/250\n",
      "34/34 [==============================] - 0s 2ms/step - loss: 3449.0613 - mae: 3449.0613\n",
      "Epoch 208/250\n",
      "34/34 [==============================] - 0s 2ms/step - loss: 3377.6057 - mae: 3377.6057\n",
      "Epoch 209/250\n",
      "34/34 [==============================] - 0s 2ms/step - loss: 3397.8013 - mae: 3397.8013\n",
      "Epoch 210/250\n",
      "34/34 [==============================] - 0s 2ms/step - loss: 3266.1355 - mae: 3266.1355\n",
      "Epoch 211/250\n",
      "34/34 [==============================] - 0s 2ms/step - loss: 3442.4080 - mae: 3442.4080\n",
      "Epoch 212/250\n",
      "34/34 [==============================] - 0s 2ms/step - loss: 3406.1011 - mae: 3406.1011\n",
      "Epoch 213/250\n",
      "34/34 [==============================] - 0s 2ms/step - loss: 3296.2373 - mae: 3296.2373\n",
      "Epoch 214/250\n",
      "34/34 [==============================] - 0s 2ms/step - loss: 3425.1562 - mae: 3425.1562\n",
      "Epoch 215/250\n",
      "34/34 [==============================] - 0s 2ms/step - loss: 3337.8469 - mae: 3337.8469\n",
      "Epoch 216/250\n",
      "34/34 [==============================] - 0s 2ms/step - loss: 3374.4380 - mae: 3374.4380\n",
      "Epoch 217/250\n",
      "34/34 [==============================] - 0s 2ms/step - loss: 3330.0356 - mae: 3330.0356\n",
      "Epoch 218/250\n",
      "34/34 [==============================] - 0s 2ms/step - loss: 3296.7891 - mae: 3296.7891\n",
      "Epoch 219/250\n",
      "34/34 [==============================] - 0s 2ms/step - loss: 3472.0842 - mae: 3472.0842\n",
      "Epoch 220/250\n",
      "34/34 [==============================] - 0s 2ms/step - loss: 3463.5046 - mae: 3463.5046\n",
      "Epoch 221/250\n",
      "34/34 [==============================] - 0s 2ms/step - loss: 3325.7246 - mae: 3325.7246\n",
      "Epoch 222/250\n",
      "34/34 [==============================] - 0s 2ms/step - loss: 3381.2466 - mae: 3381.2466\n",
      "Epoch 223/250\n",
      "34/34 [==============================] - 0s 2ms/step - loss: 3301.0703 - mae: 3301.0703\n",
      "Epoch 224/250\n",
      "34/34 [==============================] - 0s 2ms/step - loss: 3438.3613 - mae: 3438.3613\n",
      "Epoch 225/250\n",
      "34/34 [==============================] - 0s 2ms/step - loss: 3561.4414 - mae: 3561.4414\n",
      "Epoch 226/250\n",
      "34/34 [==============================] - 0s 2ms/step - loss: 3452.8967 - mae: 3452.8967\n",
      "Epoch 227/250\n",
      "34/34 [==============================] - 0s 2ms/step - loss: 3495.4734 - mae: 3495.4734\n",
      "Epoch 228/250\n",
      "34/34 [==============================] - 0s 2ms/step - loss: 3489.3149 - mae: 3489.3149\n",
      "Epoch 229/250\n",
      "34/34 [==============================] - 0s 2ms/step - loss: 3331.8123 - mae: 3331.8123\n",
      "Epoch 230/250\n",
      "34/34 [==============================] - 0s 2ms/step - loss: 3388.9951 - mae: 3388.9951\n",
      "Epoch 231/250\n",
      "34/34 [==============================] - 0s 2ms/step - loss: 3399.8845 - mae: 3399.8845\n",
      "Epoch 232/250\n",
      "34/34 [==============================] - 0s 2ms/step - loss: 3393.1370 - mae: 3393.1370\n",
      "Epoch 233/250\n",
      "34/34 [==============================] - 0s 2ms/step - loss: 3216.9375 - mae: 3216.9375\n",
      "Epoch 234/250\n",
      "34/34 [==============================] - 0s 2ms/step - loss: 3580.8364 - mae: 3580.8364\n",
      "Epoch 235/250\n",
      "34/34 [==============================] - 0s 2ms/step - loss: 3572.2747 - mae: 3572.2747\n",
      "Epoch 236/250\n",
      "34/34 [==============================] - 0s 2ms/step - loss: 3353.1821 - mae: 3353.1821\n",
      "Epoch 237/250\n",
      "34/34 [==============================] - 0s 2ms/step - loss: 3353.6284 - mae: 3353.6284\n",
      "Epoch 238/250\n",
      "34/34 [==============================] - 0s 2ms/step - loss: 3419.7100 - mae: 3419.7100\n",
      "Epoch 239/250\n",
      "34/34 [==============================] - 0s 2ms/step - loss: 3340.2224 - mae: 3340.2224\n",
      "Epoch 240/250\n",
      "34/34 [==============================] - 0s 2ms/step - loss: 3466.7830 - mae: 3466.7830\n",
      "Epoch 241/250\n",
      "34/34 [==============================] - 0s 2ms/step - loss: 3354.3784 - mae: 3354.3784\n",
      "Epoch 242/250\n",
      "34/34 [==============================] - 0s 2ms/step - loss: 3515.4265 - mae: 3515.4265\n",
      "Epoch 243/250\n",
      "34/34 [==============================] - 0s 2ms/step - loss: 3358.6030 - mae: 3358.6030\n",
      "Epoch 244/250\n",
      "34/34 [==============================] - 0s 2ms/step - loss: 3402.2637 - mae: 3402.2637\n",
      "Epoch 245/250\n",
      "34/34 [==============================] - 0s 2ms/step - loss: 3504.4331 - mae: 3504.4331\n",
      "Epoch 246/250\n",
      "34/34 [==============================] - 0s 2ms/step - loss: 3318.3345 - mae: 3318.3345\n",
      "Epoch 247/250\n",
      "34/34 [==============================] - 0s 2ms/step - loss: 3372.3052 - mae: 3372.3052\n",
      "Epoch 248/250\n",
      "34/34 [==============================] - 0s 2ms/step - loss: 3468.6118 - mae: 3468.6118\n",
      "Epoch 249/250\n",
      "34/34 [==============================] - 0s 2ms/step - loss: 3378.9146 - mae: 3378.9146\n",
      "Epoch 250/250\n",
      "34/34 [==============================] - 0s 2ms/step - loss: 3408.9934 - mae: 3408.9934\n"
     ]
    },
    {
     "output_type": "execute_result",
     "data": {
      "text/plain": [
       "<keras.callbacks.History at 0x7ff455834a30>"
      ]
     },
     "metadata": {},
     "execution_count": 11
    }
   ]
  },
  {
   "cell_type": "code",
   "source": [
    "# Check the results of the insurance model on the test data\n",
    "insurance_model.evaluate(X_test, y_test)"
   ],
   "metadata": {
    "colab": {
     "base_uri": "https://localhost:8080/"
    },
    "id": "EMYj09bxta9j",
    "outputId": "3b90d9aa-c967-4ad2-cc62-fcc2ab64634d"
   },
   "execution_count": null,
   "outputs": [
    {
     "output_type": "stream",
     "name": "stdout",
     "text": [
      "9/9 [==============================] - 0s 2ms/step - loss: 1899.6351 - mae: 1899.6351\n"
     ]
    },
    {
     "output_type": "execute_result",
     "data": {
      "text/plain": [
       "[1899.6351318359375, 1899.6351318359375]"
      ]
     },
     "metadata": {},
     "execution_count": 12
    }
   ]
  },
  {
   "cell_type": "code",
   "source": [
    "y_train.median(), y_train.mean()"
   ],
   "metadata": {
    "colab": {
     "base_uri": "https://localhost:8080/"
    },
    "id": "7do2SGkFt4zm",
    "outputId": "91ad046f-b8af-4dc3-c0b9-6228d2bd9138"
   },
   "execution_count": null,
   "outputs": [
    {
     "output_type": "execute_result",
     "data": {
      "text/plain": [
       "(9575.4421, 13346.089736364485)"
      ]
     },
     "metadata": {},
     "execution_count": 15
    }
   ]
  },
  {
   "cell_type": "markdown",
   "source": [
    "Right now it looks like our model isn't performing too well... Let's try to improve it."
   ],
   "metadata": {
    "id": "pvcgC92Lu0Kd"
   }
  },
  {
   "cell_type": "markdown",
   "source": [
    "Right now it looks like our model isn't performing to weel, let's try and improve it!\n",
    "\n",
    "to (try) improve out model we'll run 2 experiments:\n",
    "\n",
    "1. Add an extra layer with more hidden units\n",
    "2. Use the Adam optimizer.\n",
    "2. Train for longer"
   ],
   "metadata": {
    "id": "3tTBX1eGu6VQ"
   }
  },
  {
   "cell_type": "code",
   "source": [
    "# Set reandom seed\n",
    "tf.random.set_seed(42)\n",
    "\n",
    "# Build the model\n",
    "insurance_model_2 = tf.keras.Sequential([\n",
    "    tf.keras.layers.Dense(100, input_shape=[11]),\n",
    "    tf.keras.layers.Dense(10),\n",
    "    tf.keras.layers.Dense(1)\n",
    "])\n",
    "\n",
    "insurance_model_2.compile(loss=tf.keras.losses.mae,\n",
    "              optimizer=tf.keras.optimizers.Adam(),\n",
    "              metrics=[\"mae\"])\n",
    "\n",
    "insurance_model_2.fit(X_train,y_train, epochs=100)"
   ],
   "metadata": {
    "id": "d5LLia7OP6rQ"
   },
   "execution_count": null,
   "outputs": []
  },
  {
   "cell_type": "code",
   "source": [
    "insurance_model_2.evaluate(X_test, y_test)"
   ],
   "metadata": {
    "colab": {
     "base_uri": "https://localhost:8080/"
    },
    "id": "CXtTjQq9REaU",
    "outputId": "6cc9dbf2-34ee-46d2-97fa-8f37fcdd2565"
   },
   "execution_count": null,
   "outputs": [
    {
     "output_type": "stream",
     "name": "stdout",
     "text": [
      "9/9 [==============================] - 0s 4ms/step - loss: 4744.3037 - mae: 4744.3037\n"
     ]
    },
    {
     "output_type": "execute_result",
     "data": {
      "text/plain": [
       "[4744.3037109375, 4744.3037109375]"
      ]
     },
     "metadata": {},
     "execution_count": 21
    }
   ]
  },
  {
   "cell_type": "code",
   "source": [
    "tf.random.set_seed(42)\n",
    "\n",
    "# 1. Create the model\n",
    "insurance_model_3 = tf.keras.Sequential([\n",
    "    tf.keras.layers.Dense(100, input_shape=[11]),\n",
    "    tf.keras.layers.Dense(10),\n",
    "    tf.keras.layers.Dense(1)\n",
    "])\n",
    "\n",
    "# 2. Compile the model\n",
    "insurance_model_3.compile(loss=tf.keras.losses.mae,\n",
    "                          optimizer=tf.keras.optimizers.Adam(),\n",
    "                          metrics=[\"mae\"])\n",
    "\n",
    "# 3. Fit the model\n",
    "history = insurance_model_3.fit(X_train, y_train, epochs=200, verbose=0)"
   ],
   "metadata": {
    "id": "jY6y2_dgStvd"
   },
   "execution_count": null,
   "outputs": []
  },
  {
   "cell_type": "code",
   "source": [
    "insurance_model_3.evaluate(X_test, y_test)"
   ],
   "metadata": {
    "colab": {
     "base_uri": "https://localhost:8080/"
    },
    "id": "x-6O2ox7U4AL",
    "outputId": "cc3a3ae1-1929-4342-87bd-554be9a5df3f"
   },
   "execution_count": null,
   "outputs": [
    {
     "output_type": "stream",
     "name": "stdout",
     "text": [
      "9/9 [==============================] - 0s 2ms/step - loss: 3480.1685 - mae: 3480.1685\n"
     ]
    },
    {
     "output_type": "execute_result",
     "data": {
      "text/plain": [
       "[3480.16845703125, 3480.16845703125]"
      ]
     },
     "metadata": {},
     "execution_count": 24
    }
   ]
  },
  {
   "cell_type": "code",
   "source": [
    "# Plot history (also known as loss curve or a training curve)\n",
    "pd.DataFrame(history.history).plot()\n",
    "plt.ylabel(\"loss\")\n",
    "plt.xlabel(\"epochs\")"
   ],
   "metadata": {
    "colab": {
     "base_uri": "https://localhost:8080/",
     "height": 296
    },
    "id": "2_-v05zMVwIi",
    "outputId": "198ed634-42d3-4a7b-f526-94044c570ebe"
   },
   "execution_count": null,
   "outputs": [
    {
     "output_type": "execute_result",
     "data": {
      "text/plain": [
       "Text(0.5, 0, 'epochs')"
      ]
     },
     "metadata": {},
     "execution_count": 28
    },
    {
     "output_type": "display_data",
     "data": {
      "text/plain": [
       "<Figure size 432x288 with 1 Axes>"
      ],
      "image/png": "[encoded data removed]"
     },
     "metadata": {
      "needs_background": "light"
     }
    }
   ]
  },
  {
   "cell_type": "markdown",
   "source": [
    "Preprocessing data (normalization and standardization\n",
    "\n"
   ],
   "metadata": {
    "id": "Qlh7jaBAaMY2"
   }
  },
  {
   "cell_type": "code",
   "source": [
    "X"
   ],
   "metadata": {
    "colab": {
     "base_uri": "https://localhost:8080/",
     "height": 419
    },
    "id": "Ww072OKshhxN",
    "outputId": "90aeaf40-b1cf-45eb-a216-3c7657376b87"
   },
   "execution_count": null,
   "outputs": [
    {
     "output_type": "execute_result",
     "data": {
      "text/plain": [
       "      age     bmi  children  sex_female  sex_male  smoker_no  smoker_yes  \\\n",
       "0      19  27.900         0           1         0          0           1   \n",
       "1      18  33.770         1           0         1          1           0   \n",
       "2      28  33.000         3           0         1          1           0   \n",
       "3      33  22.705         0           0         1          1           0   \n",
       "4      32  28.880         0           0         1          1           0   \n",
       "...   ...     ...       ...         ...       ...        ...         ...   \n",
       "1333   50  30.970         3           0         1          1           0   \n",
       "1334   18  31.920         0           1         0          1           0   \n",
       "1335   18  36.850         0           1         0          1           0   \n",
       "1336   21  25.800         0           1         0          1           0   \n",
       "1337   61  29.070         0           1         0          0           1   \n",
       "\n",
       "      region_northeast  region_northwest  region_southeast  region_southwest  \n",
       "0                    0                 0                 0                 1  \n",
       "1                    0                 0                 1                 0  \n",
       "2                    0                 0                 1                 0  \n",
       "3                    0                 1                 0                 0  \n",
       "4                    0                 1                 0                 0  \n",
       "...                ...               ...               ...               ...  \n",
       "1333                 0                 1                 0                 0  \n",
       "1334                 1                 0                 0                 0  \n",
       "1335                 0                 0                 1                 0  \n",
       "1336                 0                 0                 0                 1  \n",
       "1337                 0                 1                 0                 0  \n",
       "\n",
       "[1338 rows x 11 columns]"
      ],
      "text/html": [
       "\n",
       "  <div id=\"df-8a09e76a-d429-4dbf-a656-621cd3f666a2\">\n",
       "    <div class=\"colab-df-container\">\n",
       "      <div>\n",
       "<style scoped>\n",
       "    .dataframe tbody tr th:only-of-type {\n",
       "        vertical-align: middle;\n",
       "    }\n",
       "\n",
       "    .dataframe tbody tr th {\n",
       "        vertical-align: top;\n",
       "    }\n",
       "\n",
       "    .dataframe thead th {\n",
       "        text-align: right;\n",
       "    }\n",
       "</style>\n",
       "<table border=\"1\" class=\"dataframe\">\n",
       "  <thead>\n",
       "    <tr style=\"text-align: right;\">\n",
       "      <th></th>\n",
       "      <th>age</th>\n",
       "      <th>bmi</th>\n",
       "      <th>children</th>\n",
       "      <th>sex_female</th>\n",
       "      <th>sex_male</th>\n",
       "      <th>smoker_no</th>\n",
       "      <th>smoker_yes</th>\n",
       "      <th>region_northeast</th>\n",
       "      <th>region_northwest</th>\n",
       "      <th>region_southeast</th>\n",
       "      <th>region_southwest</th>\n",
       "    </tr>\n",
       "  </thead>\n",
       "  <tbody>\n",
       "    <tr>\n",
       "      <th>0</th>\n",
       "      <td>19</td>\n",
       "      <td>27.900</td>\n",
       "      <td>0</td>\n",
       "      <td>1</td>\n",
       "      <td>0</td>\n",
       "      <td>0</td>\n",
       "      <td>1</td>\n",
       "      <td>0</td>\n",
       "      <td>0</td>\n",
       "      <td>0</td>\n",
       "      <td>1</td>\n",
       "    </tr>\n",
       "    <tr>\n",
       "      <th>1</th>\n",
       "      <td>18</td>\n",
       "      <td>33.770</td>\n",
       "      <td>1</td>\n",
       "      <td>0</td>\n",
       "      <td>1</td>\n",
       "      <td>1</td>\n",
       "      <td>0</td>\n",
       "      <td>0</td>\n",
       "      <td>0</td>\n",
       "      <td>1</td>\n",
       "      <td>0</td>\n",
       "    </tr>\n",
       "    <tr>\n",
       "      <th>2</th>\n",
       "      <td>28</td>\n",
       "      <td>33.000</td>\n",
       "      <td>3</td>\n",
       "      <td>0</td>\n",
       "      <td>1</td>\n",
       "      <td>1</td>\n",
       "      <td>0</td>\n",
       "      <td>0</td>\n",
       "      <td>0</td>\n",
       "      <td>1</td>\n",
       "      <td>0</td>\n",
       "    </tr>\n",
       "    <tr>\n",
       "      <th>3</th>\n",
       "      <td>33</td>\n",
       "      <td>22.705</td>\n",
       "      <td>0</td>\n",
       "      <td>0</td>\n",
       "      <td>1</td>\n",
       "      <td>1</td>\n",
       "      <td>0</td>\n",
       "      <td>0</td>\n",
       "      <td>1</td>\n",
       "      <td>0</td>\n",
       "      <td>0</td>\n",
       "    </tr>\n",
       "    <tr>\n",
       "      <th>4</th>\n",
       "      <td>32</td>\n",
       "      <td>28.880</td>\n",
       "      <td>0</td>\n",
       "      <td>0</td>\n",
       "      <td>1</td>\n",
       "      <td>1</td>\n",
       "      <td>0</td>\n",
       "      <td>0</td>\n",
       "      <td>1</td>\n",
       "      <td>0</td>\n",
       "      <td>0</td>\n",
       "    </tr>\n",
       "    <tr>\n",
       "      <th>...</th>\n",
       "      <td>...</td>\n",
       "      <td>...</td>\n",
       "      <td>...</td>\n",
       "      <td>...</td>\n",
       "      <td>...</td>\n",
       "      <td>...</td>\n",
       "      <td>...</td>\n",
       "      <td>...</td>\n",
       "      <td>...</td>\n",
       "      <td>...</td>\n",
       "      <td>...</td>\n",
       "    </tr>\n",
       "    <tr>\n",
       "      <th>1333</th>\n",
       "      <td>50</td>\n",
       "      <td>30.970</td>\n",
       "      <td>3</td>\n",
       "      <td>0</td>\n",
       "      <td>1</td>\n",
       "      <td>1</td>\n",
       "      <td>0</td>\n",
       "      <td>0</td>\n",
       "      <td>1</td>\n",
       "      <td>0</td>\n",
       "      <td>0</td>\n",
       "    </tr>\n",
       "    <tr>\n",
       "      <th>1334</th>\n",
       "      <td>18</td>\n",
       "      <td>31.920</td>\n",
       "      <td>0</td>\n",
       "      <td>1</td>\n",
       "      <td>0</td>\n",
       "      <td>1</td>\n",
       "      <td>0</td>\n",
       "      <td>1</td>\n",
       "      <td>0</td>\n",
       "      <td>0</td>\n",
       "      <td>0</td>\n",
       "    </tr>\n",
       "    <tr>\n",
       "      <th>1335</th>\n",
       "      <td>18</td>\n",
       "      <td>36.850</td>\n",
       "      <td>0</td>\n",
       "      <td>1</td>\n",
       "      <td>0</td>\n",
       "      <td>1</td>\n",
       "      <td>0</td>\n",
       "      <td>0</td>\n",
       "      <td>0</td>\n",
       "      <td>1</td>\n",
       "      <td>0</td>\n",
       "    </tr>\n",
       "    <tr>\n",
       "      <th>1336</th>\n",
       "      <td>21</td>\n",
       "      <td>25.800</td>\n",
       "      <td>0</td>\n",
       "      <td>1</td>\n",
       "      <td>0</td>\n",
       "      <td>1</td>\n",
       "      <td>0</td>\n",
       "      <td>0</td>\n",
       "      <td>0</td>\n",
       "      <td>0</td>\n",
       "      <td>1</td>\n",
       "    </tr>\n",
       "    <tr>\n",
       "      <th>1337</th>\n",
       "      <td>61</td>\n",
       "      <td>29.070</td>\n",
       "      <td>0</td>\n",
       "      <td>1</td>\n",
       "      <td>0</td>\n",
       "      <td>0</td>\n",
       "      <td>1</td>\n",
       "      <td>0</td>\n",
       "      <td>1</td>\n",
       "      <td>0</td>\n",
       "      <td>0</td>\n",
       "    </tr>\n",
       "  </tbody>\n",
       "</table>\n",
       "<p>1338 rows × 11 columns</p>\n",
       "</div>\n",
       "      <button class=\"colab-df-convert\" onclick=\"convertToInteractive('df-8a09e76a-d429-4dbf-a656-621cd3f666a2')\"\n",
       "              title=\"Convert this dataframe to an interactive table.\"\n",
       "              style=\"display:none;\">\n",
       "        \n",
       "  <svg xmlns=\"http://www.w3.org/2000/svg\" height=\"24px\"viewBox=\"0 0 24 24\"\n",
       "       width=\"24px\">\n",
       "    <path d=\"M0 0h24v24H0V0z\" fill=\"none\"/>\n",
       "    <path d=\"M18.56 5.44l.94 2.06.94-2.06 2.06-.94-2.06-.94-.94-2.06-.94 2.06-2.06.94zm-11 1L8.5 8.5l.94-2.06 2.06-.94-2.06-.94L8.5 2.5l-.94 2.06-2.06.94zm10 10l.94 2.06.94-2.06 2.06-.94-2.06-.94-.94-2.06-.94 2.06-2.06.94z\"/><path d=\"M17.41 7.96l-1.37-1.37c-.4-.4-.92-.59-1.43-.59-.52 0-1.04.2-1.43.59L10.3 9.45l-7.72 7.72c-.78.78-.78 2.05 0 2.83L4 21.41c.39.39.9.59 1.41.59.51 0 1.02-.2 1.41-.59l7.78-7.78 2.81-2.81c.8-.78.8-2.07 0-2.86zM5.41 20L4 18.59l7.72-7.72 1.47 1.35L5.41 20z\"/>\n",
       "  </svg>\n",
       "      </button>\n",
       "      \n",
       "  <style>\n",
       "    .colab-df-container {\n",
       "      display:flex;\n",
       "      flex-wrap:wrap;\n",
       "      gap: 12px;\n",
       "    }\n",
       "\n",
       "    .colab-df-convert {\n",
       "      background-color: #E8F0FE;\n",
       "      border: none;\n",
       "      border-radius: 50%;\n",
       "      cursor: pointer;\n",
       "      display: none;\n",
       "      fill: #1967D2;\n",
       "      height: 32px;\n",
       "      padding: 0 0 0 0;\n",
       "      width: 32px;\n",
       "    }\n",
       "\n",
       "    .colab-df-convert:hover {\n",
       "      background-color: #E2EBFA;\n",
       "      box-shadow: 0px 1px 2px rgba(60, 64, 67, 0.3), 0px 1px 3px 1px rgba(60, 64, 67, 0.15);\n",
       "      fill: #174EA6;\n",
       "    }\n",
       "\n",
       "    [theme=dark] .colab-df-convert {\n",
       "      background-color: #3B4455;\n",
       "      fill: #D2E3FC;\n",
       "    }\n",
       "\n",
       "    [theme=dark] .colab-df-convert:hover {\n",
       "      background-color: #434B5C;\n",
       "      box-shadow: 0px 1px 3px 1px rgba(0, 0, 0, 0.15);\n",
       "      filter: drop-shadow(0px 1px 2px rgba(0, 0, 0, 0.3));\n",
       "      fill: #FFFFFF;\n",
       "    }\n",
       "  </style>\n",
       "\n",
       "      <script>\n",
       "        const buttonEl =\n",
       "          document.querySelector('#df-8a09e76a-d429-4dbf-a656-621cd3f666a2 button.colab-df-convert');\n",
       "        buttonEl.style.display =\n",
       "          google.colab.kernel.accessAllowed ? 'block' : 'none';\n",
       "\n",
       "        async function convertToInteractive(key) {\n",
       "          const element = document.querySelector('#df-8a09e76a-d429-4dbf-a656-621cd3f666a2');\n",
       "          const dataTable =\n",
       "            await google.colab.kernel.invokeFunction('convertToInteractive',\n",
       "                                                     [key], {});\n",
       "          if (!dataTable) return;\n",
       "\n",
       "          const docLinkHtml = 'Like what you see? Visit the ' +\n",
       "            '<a target=\"_blank\" href=https://colab.research.google.com/notebooks/data_table.ipynb>data table notebook</a>'\n",
       "            + ' to learn more about interactive tables.';\n",
       "          element.innerHTML = '';\n",
       "          dataTable['output_type'] = 'display_data';\n",
       "          await google.colab.output.renderOutput(dataTable, element);\n",
       "          const docLink = document.createElement('div');\n",
       "          docLink.innerHTML = docLinkHtml;\n",
       "          element.appendChild(docLink);\n",
       "        }\n",
       "      </script>\n",
       "    </div>\n",
       "  </div>\n",
       "  "
      ]
     },
     "metadata": {},
     "execution_count": 29
    }
   ]
  },
  {
   "cell_type": "code",
   "source": [
    "X[\"age\"].plot(kind=\"hist\")"
   ],
   "metadata": {
    "colab": {
     "base_uri": "https://localhost:8080/",
     "height": 282
    },
    "id": "Xig8hPX_iOsO",
    "outputId": "5492366c-7d1f-4b4b-8d94-86426ad1e4eb"
   },
   "execution_count": null,
   "outputs": [
    {
     "output_type": "execute_result",
     "data": {
      "text/plain": [
       "<AxesSubplot:ylabel='Frequency'>"
      ]
     },
     "metadata": {},
     "execution_count": 32
    },
    {
     "output_type": "display_data",
     "data": {
      "text/plain": [
       "<Figure size 432x288 with 1 Axes>"
      ],
      "image/png": "[encoded data removed]"
     },
     "metadata": {
      "needs_background": "light"
     }
    }
   ]
  },
  {
   "cell_type": "code",
   "source": [
    "X[\"bmi\"].plot(kind=\"hist\")"
   ],
   "metadata": {
    "colab": {
     "base_uri": "https://localhost:8080/",
     "height": 282
    },
    "id": "m9wipi3UiTS9",
    "outputId": "41513ef8-fc08-410f-d172-9db5ba1c01e9"
   },
   "execution_count": null,
   "outputs": [
    {
     "output_type": "execute_result",
     "data": {
      "text/plain": [
       "<AxesSubplot:ylabel='Frequency'>"
      ]
     },
     "metadata": {},
     "execution_count": 33
    },
    {
     "output_type": "display_data",
     "data": {
      "text/plain": [
       "<Figure size 432x288 with 1 Axes>"
      ],
      "image/png": "[encoded data removed]"
     },
     "metadata": {
      "needs_background": "light"
     }
    }
   ]
  },
  {
   "cell_type": "code",
   "source": [
    "X[\"children\"].plot(kind=\"hist\")"
   ],
   "metadata": {
    "colab": {
     "base_uri": "https://localhost:8080/",
     "height": 285
    },
    "id": "nxK6rmjHDODi",
    "outputId": "22658fb3-b1da-4bbf-bec7-8120e70652b2"
   },
   "execution_count": null,
   "outputs": [
    {
     "output_type": "execute_result",
     "data": {
      "text/plain": [
       "<AxesSubplot:ylabel='Frequency'>"
      ]
     },
     "metadata": {},
     "execution_count": 34
    },
    {
     "output_type": "display_data",
     "data": {
      "text/plain": [
       "<Figure size 432x288 with 1 Axes>"
      ],
      "image/png": "[encoded data removed]"
     },
     "metadata": {
      "needs_background": "light"
     }
    }
   ]
  },
  {
   "cell_type": "code",
   "source": [
    "import pandas as pd\n",
    "import matplotlib.pyplot as plt\n",
    "import tensorflow as tf\n",
    "\n",
    "insurance = pd.read_csv(\"https://raw.githubusercontent.com/stedy/Machine-Learning-with-R-datasets/master/insurance.csv\")\n",
    "insurance"
   ],
   "metadata": {
    "colab": {
     "base_uri": "https://localhost:8080/",
     "height": 419
    },
    "id": "stSgqq62Djzd",
    "outputId": "d1625dff-1d83-4610-af08-8e82b5180c4a"
   },
   "execution_count": null,
   "outputs": [
    {
     "output_type": "execute_result",
     "data": {
      "text/plain": [
       "      age     sex     bmi  children smoker     region      charges\n",
       "0      19  female  27.900         0    yes  southwest  16884.92400\n",
       "1      18    male  33.770         1     no  southeast   1725.55230\n",
       "2      28    male  33.000         3     no  southeast   4449.46200\n",
       "3      33    male  22.705         0     no  northwest  21984.47061\n",
       "4      32    male  28.880         0     no  northwest   3866.85520\n",
       "...   ...     ...     ...       ...    ...        ...          ...\n",
       "1333   50    male  30.970         3     no  northwest  10600.54830\n",
       "1334   18  female  31.920         0     no  northeast   2205.98080\n",
       "1335   18  female  36.850         0     no  southeast   1629.83350\n",
       "1336   21  female  25.800         0     no  southwest   2007.94500\n",
       "1337   61  female  29.070         0    yes  northwest  29141.36030\n",
       "\n",
       "[1338 rows x 7 columns]"
      ],
      "text/html": [
       "\n",
       "  <div id=\"df-96705d1f-80e6-40be-979a-b71215597d10\">\n",
       "    <div class=\"colab-df-container\">\n",
       "      <div>\n",
       "<style scoped>\n",
       "    .dataframe tbody tr th:only-of-type {\n",
       "        vertical-align: middle;\n",
       "    }\n",
       "\n",
       "    .dataframe tbody tr th {\n",
       "        vertical-align: top;\n",
       "    }\n",
       "\n",
       "    .dataframe thead th {\n",
       "        text-align: right;\n",
       "    }\n",
       "</style>\n",
       "<table border=\"1\" class=\"dataframe\">\n",
       "  <thead>\n",
       "    <tr style=\"text-align: right;\">\n",
       "      <th></th>\n",
       "      <th>age</th>\n",
       "      <th>sex</th>\n",
       "      <th>bmi</th>\n",
       "      <th>children</th>\n",
       "      <th>smoker</th>\n",
       "      <th>region</th>\n",
       "      <th>charges</th>\n",
       "    </tr>\n",
       "  </thead>\n",
       "  <tbody>\n",
       "    <tr>\n",
       "      <th>0</th>\n",
       "      <td>19</td>\n",
       "      <td>female</td>\n",
       "      <td>27.900</td>\n",
       "      <td>0</td>\n",
       "      <td>yes</td>\n",
       "      <td>southwest</td>\n",
       "      <td>16884.92400</td>\n",
       "    </tr>\n",
       "    <tr>\n",
       "      <th>1</th>\n",
       "      <td>18</td>\n",
       "      <td>male</td>\n",
       "      <td>33.770</td>\n",
       "      <td>1</td>\n",
       "      <td>no</td>\n",
       "      <td>southeast</td>\n",
       "      <td>1725.55230</td>\n",
       "    </tr>\n",
       "    <tr>\n",
       "      <th>2</th>\n",
       "      <td>28</td>\n",
       "      <td>male</td>\n",
       "      <td>33.000</td>\n",
       "      <td>3</td>\n",
       "      <td>no</td>\n",
       "      <td>southeast</td>\n",
       "      <td>4449.46200</td>\n",
       "    </tr>\n",
       "    <tr>\n",
       "      <th>3</th>\n",
       "      <td>33</td>\n",
       "      <td>male</td>\n",
       "      <td>22.705</td>\n",
       "      <td>0</td>\n",
       "      <td>no</td>\n",
       "      <td>northwest</td>\n",
       "      <td>21984.47061</td>\n",
       "    </tr>\n",
       "    <tr>\n",
       "      <th>4</th>\n",
       "      <td>32</td>\n",
       "      <td>male</td>\n",
       "      <td>28.880</td>\n",
       "      <td>0</td>\n",
       "      <td>no</td>\n",
       "      <td>northwest</td>\n",
       "      <td>3866.85520</td>\n",
       "    </tr>\n",
       "    <tr>\n",
       "      <th>...</th>\n",
       "      <td>...</td>\n",
       "      <td>...</td>\n",
       "      <td>...</td>\n",
       "      <td>...</td>\n",
       "      <td>...</td>\n",
       "      <td>...</td>\n",
       "      <td>...</td>\n",
       "    </tr>\n",
       "    <tr>\n",
       "      <th>1333</th>\n",
       "      <td>50</td>\n",
       "      <td>male</td>\n",
       "      <td>30.970</td>\n",
       "      <td>3</td>\n",
       "      <td>no</td>\n",
       "      <td>northwest</td>\n",
       "      <td>10600.54830</td>\n",
       "    </tr>\n",
       "    <tr>\n",
       "      <th>1334</th>\n",
       "      <td>18</td>\n",
       "      <td>female</td>\n",
       "      <td>31.920</td>\n",
       "      <td>0</td>\n",
       "      <td>no</td>\n",
       "      <td>northeast</td>\n",
       "      <td>2205.98080</td>\n",
       "    </tr>\n",
       "    <tr>\n",
       "      <th>1335</th>\n",
       "      <td>18</td>\n",
       "      <td>female</td>\n",
       "      <td>36.850</td>\n",
       "      <td>0</td>\n",
       "      <td>no</td>\n",
       "      <td>southeast</td>\n",
       "      <td>1629.83350</td>\n",
       "    </tr>\n",
       "    <tr>\n",
       "      <th>1336</th>\n",
       "      <td>21</td>\n",
       "      <td>female</td>\n",
       "      <td>25.800</td>\n",
       "      <td>0</td>\n",
       "      <td>no</td>\n",
       "      <td>southwest</td>\n",
       "      <td>2007.94500</td>\n",
       "    </tr>\n",
       "    <tr>\n",
       "      <th>1337</th>\n",
       "      <td>61</td>\n",
       "      <td>female</td>\n",
       "      <td>29.070</td>\n",
       "      <td>0</td>\n",
       "      <td>yes</td>\n",
       "      <td>northwest</td>\n",
       "      <td>29141.36030</td>\n",
       "    </tr>\n",
       "  </tbody>\n",
       "</table>\n",
       "<p>1338 rows × 7 columns</p>\n",
       "</div>\n",
       "      <button class=\"colab-df-convert\" onclick=\"convertToInteractive('df-96705d1f-80e6-40be-979a-b71215597d10')\"\n",
       "              title=\"Convert this dataframe to an interactive table.\"\n",
       "              style=\"display:none;\">\n",
       "        \n",
       "  <svg xmlns=\"http://www.w3.org/2000/svg\" height=\"24px\"viewBox=\"0 0 24 24\"\n",
       "       width=\"24px\">\n",
       "    <path d=\"M0 0h24v24H0V0z\" fill=\"none\"/>\n",
       "    <path d=\"M18.56 5.44l.94 2.06.94-2.06 2.06-.94-2.06-.94-.94-2.06-.94 2.06-2.06.94zm-11 1L8.5 8.5l.94-2.06 2.06-.94-2.06-.94L8.5 2.5l-.94 2.06-2.06.94zm10 10l.94 2.06.94-2.06 2.06-.94-2.06-.94-.94-2.06-.94 2.06-2.06.94z\"/><path d=\"M17.41 7.96l-1.37-1.37c-.4-.4-.92-.59-1.43-.59-.52 0-1.04.2-1.43.59L10.3 9.45l-7.72 7.72c-.78.78-.78 2.05 0 2.83L4 21.41c.39.39.9.59 1.41.59.51 0 1.02-.2 1.41-.59l7.78-7.78 2.81-2.81c.8-.78.8-2.07 0-2.86zM5.41 20L4 18.59l7.72-7.72 1.47 1.35L5.41 20z\"/>\n",
       "  </svg>\n",
       "      </button>\n",
       "      \n",
       "  <style>\n",
       "    .colab-df-container {\n",
       "      display:flex;\n",
       "      flex-wrap:wrap;\n",
       "      gap: 12px;\n",
       "    }\n",
       "\n",
       "    .colab-df-convert {\n",
       "      background-color: #E8F0FE;\n",
       "      border: none;\n",
       "      border-radius: 50%;\n",
       "      cursor: pointer;\n",
       "      display: none;\n",
       "      fill: #1967D2;\n",
       "      height: 32px;\n",
       "      padding: 0 0 0 0;\n",
       "      width: 32px;\n",
       "    }\n",
       "\n",
       "    .colab-df-convert:hover {\n",
       "      background-color: #E2EBFA;\n",
       "      box-shadow: 0px 1px 2px rgba(60, 64, 67, 0.3), 0px 1px 3px 1px rgba(60, 64, 67, 0.15);\n",
       "      fill: #174EA6;\n",
       "    }\n",
       "\n",
       "    [theme=dark] .colab-df-convert {\n",
       "      background-color: #3B4455;\n",
       "      fill: #D2E3FC;\n",
       "    }\n",
       "\n",
       "    [theme=dark] .colab-df-convert:hover {\n",
       "      background-color: #434B5C;\n",
       "      box-shadow: 0px 1px 3px 1px rgba(0, 0, 0, 0.15);\n",
       "      filter: drop-shadow(0px 1px 2px rgba(0, 0, 0, 0.3));\n",
       "      fill: #FFFFFF;\n",
       "    }\n",
       "  </style>\n",
       "\n",
       "      <script>\n",
       "        const buttonEl =\n",
       "          document.querySelector('#df-96705d1f-80e6-40be-979a-b71215597d10 button.colab-df-convert');\n",
       "        buttonEl.style.display =\n",
       "          google.colab.kernel.accessAllowed ? 'block' : 'none';\n",
       "\n",
       "        async function convertToInteractive(key) {\n",
       "          const element = document.querySelector('#df-96705d1f-80e6-40be-979a-b71215597d10');\n",
       "          const dataTable =\n",
       "            await google.colab.kernel.invokeFunction('convertToInteractive',\n",
       "                                                     [key], {});\n",
       "          if (!dataTable) return;\n",
       "\n",
       "          const docLinkHtml = 'Like what you see? Visit the ' +\n",
       "            '<a target=\"_blank\" href=https://colab.research.google.com/notebooks/data_table.ipynb>data table notebook</a>'\n",
       "            + ' to learn more about interactive tables.';\n",
       "          element.innerHTML = '';\n",
       "          dataTable['output_type'] = 'display_data';\n",
       "          await google.colab.output.renderOutput(dataTable, element);\n",
       "          const docLink = document.createElement('div');\n",
       "          docLink.innerHTML = docLinkHtml;\n",
       "          element.appendChild(docLink);\n",
       "        }\n",
       "      </script>\n",
       "    </div>\n",
       "  </div>\n",
       "  "
      ]
     },
     "metadata": {},
     "execution_count": 35
    }
   ]
  },
  {
   "cell_type": "markdown",
   "source": [
    "To prepare our data, we can borrow a few classes from SciKit learn."
   ],
   "metadata": {
    "id": "QsRdvFoGL-eN"
   }
  },
  {
   "cell_type": "code",
   "source": [
    "from sklearn.compose import make_column_transformer\n",
    "from sklearn.preprocessing import MinMaxScaler, OneHotEncoder\n",
    "from sklearn.model_selection import train_test_split\n",
    "\n",
    "# Create a column transformer.\n",
    "ct = make_column_transformer(\n",
    "    (MinMaxScaler(), [\"age\", \"bmi\", \"children\"]), # turn all values in these columns between 0 and 1\n",
    "    (OneHotEncoder(handle_unknown=\"ignore\"), [\"sex\", \"smoker\", \"region\"])\n",
    ")\n",
    "\n",
    "# Create X and y values.\n",
    "X = insurance.drop(\"charges\", axis=1)\n",
    "y = insurance[\"charges\"]\n",
    "\n",
    "# Build our train and test sats\n",
    "X_train, X_test, y_train, y_test = train_test_split(X, y, test_size=0.2, random_state=42)\n",
    "\n",
    "# Fit the column transformer to our training data\n",
    "ct.fit(X_train)\n",
    "\n",
    "# Transform training and test data with normalization (MinMAxScalar, and OneHotEncoder)\n",
    "X_train_normal = ct.transform(X_train)\n",
    "X_test_normal = ct.transform(X_test)\n"
   ],
   "metadata": {
    "id": "K-6Iusw4L4v8"
   },
   "execution_count": null,
   "outputs": []
  },
  {
   "cell_type": "code",
   "source": [
    "# What does our data look like now?\n",
    "X_train.loc[0]"
   ],
   "metadata": {
    "colab": {
     "base_uri": "https://localhost:8080/"
    },
    "id": "FtndHt0rN-qo",
    "outputId": "9144eda2-1a2b-44ef-fa8c-d567f0016fb2"
   },
   "execution_count": null,
   "outputs": [
    {
     "output_type": "execute_result",
     "data": {
      "text/plain": [
       "age                19\n",
       "sex            female\n",
       "bmi              27.9\n",
       "children            0\n",
       "smoker            yes\n",
       "region      southwest\n",
       "Name: 0, dtype: object"
      ]
     },
     "metadata": {},
     "execution_count": 38
    }
   ]
  },
  {
   "cell_type": "code",
   "source": [
    "X_train_normal[0]"
   ],
   "metadata": {
    "colab": {
     "base_uri": "https://localhost:8080/"
    },
    "id": "7Jrve-ffOCM1",
    "outputId": "76323555-9959-42cf-e5bf-e0403e79d66a"
   },
   "execution_count": null,
   "outputs": [
    {
     "output_type": "execute_result",
     "data": {
      "text/plain": [
       "array([0.60869565, 0.10734463, 0.4       , 1.        , 0.        ,\n",
       "       1.        , 0.        , 0.        , 1.        , 0.        ,\n",
       "       0.        ])"
      ]
     },
     "metadata": {},
     "execution_count": 41
    }
   ]
  },
  {
   "cell_type": "markdown",
   "source": [
    "Beautiful! Our data has been normalized and on hot encoded. Now let's build a neural network model on it and see how it goes."
   ],
   "metadata": {
    "id": "fXZNyn7BO0zC"
   }
  },
  {
   "cell_type": "code",
   "source": [],
   "metadata": {
    "colab": {
     "base_uri": "https://localhost:8080/",
     "height": 283
    },
    "id": "-LJ-XPzwPzEG",
    "outputId": "0bdb1dd9-2fca-439b-f8a6-e724d8dd69d3"
   },
   "execution_count": null,
   "outputs": [
    {
     "output_type": "error",
     "ename": "AttributeError",
     "evalue": "ignored",
     "traceback": [
      "\u001B[0;31m---------------------------------------------------------------------------\u001B[0m",
      "\u001B[0;31mAttributeError\u001B[0m                            Traceback (most recent call last)",
      "\u001B[0;32m<ipython-input-48-a322843af617>\u001B[0m in \u001B[0;36m<module>\u001B[0;34m\u001B[0m\n\u001B[0;32m----> 1\u001B[0;31m \u001B[0mX_train\u001B[0m\u001B[0;34m.\u001B[0m\u001B[0mnumpy\u001B[0m\u001B[0;34m\u001B[0m\u001B[0;34m\u001B[0m\u001B[0m\n\u001B[0m",
      "\u001B[0;32m/usr/local/lib/python3.8/dist-packages/pandas/core/generic.py\u001B[0m in \u001B[0;36m__getattr__\u001B[0;34m(self, name)\u001B[0m\n\u001B[1;32m   5485\u001B[0m         ):\n\u001B[1;32m   5486\u001B[0m             \u001B[0;32mreturn\u001B[0m \u001B[0mself\u001B[0m\u001B[0;34m[\u001B[0m\u001B[0mname\u001B[0m\u001B[0;34m]\u001B[0m\u001B[0;34m\u001B[0m\u001B[0;34m\u001B[0m\u001B[0m\n\u001B[0;32m-> 5487\u001B[0;31m         \u001B[0;32mreturn\u001B[0m \u001B[0mobject\u001B[0m\u001B[0;34m.\u001B[0m\u001B[0m__getattribute__\u001B[0m\u001B[0;34m(\u001B[0m\u001B[0mself\u001B[0m\u001B[0;34m,\u001B[0m \u001B[0mname\u001B[0m\u001B[0;34m)\u001B[0m\u001B[0;34m\u001B[0m\u001B[0;34m\u001B[0m\u001B[0m\n\u001B[0m\u001B[1;32m   5488\u001B[0m \u001B[0;34m\u001B[0m\u001B[0m\n\u001B[1;32m   5489\u001B[0m     \u001B[0;32mdef\u001B[0m \u001B[0m__setattr__\u001B[0m\u001B[0;34m(\u001B[0m\u001B[0mself\u001B[0m\u001B[0;34m,\u001B[0m \u001B[0mname\u001B[0m\u001B[0;34m:\u001B[0m \u001B[0mstr\u001B[0m\u001B[0;34m,\u001B[0m \u001B[0mvalue\u001B[0m\u001B[0;34m)\u001B[0m \u001B[0;34m->\u001B[0m \u001B[0;32mNone\u001B[0m\u001B[0;34m:\u001B[0m\u001B[0;34m\u001B[0m\u001B[0;34m\u001B[0m\u001B[0m\n",
      "\u001B[0;31mAttributeError\u001B[0m: 'DataFrame' object has no attribute 'numpy'"
     ]
    }
   ]
  },
  {
   "cell_type": "code",
   "source": [
    "tf.random.set_seed(42)\n",
    "\n",
    "# Create a model\n",
    "insurance_model_4 = tf.keras.Sequential([\n",
    "    tf.keras.layers.Dense(100, input_shape=[11]),\n",
    "    tf.keras.layers.Dense(10),\n",
    "    tf.keras.layers.Dense(1)\n",
    "])\n",
    "\n",
    "insurance_model_4.compile(loss=tf.keras.losses.mae,\n",
    "                        optimizer=tf.keras.optimizers.Adam(),\n",
    "                        metrics=[\"mae\"])\n",
    "\n",
    "insurance_model_4.fit(X_train_normal, y_train, epochs=200, verbose=0)"
   ],
   "metadata": {
    "colab": {
     "base_uri": "https://localhost:8080/"
    },
    "id": "qAdUVOm5OEPR",
    "outputId": "a77b9be6-36fd-4728-bd30-723a3d57f754"
   },
   "execution_count": null,
   "outputs": [
    {
     "output_type": "execute_result",
     "data": {
      "text/plain": [
       "<keras.callbacks.History at 0x7efbcbcebc70>"
      ]
     },
     "metadata": {},
     "execution_count": 54
    }
   ]
  },
  {
   "cell_type": "code",
   "source": [
    "insurance_model_4.evaluate(X_test_normal, y_test)"
   ],
   "metadata": {
    "colab": {
     "base_uri": "https://localhost:8080/"
    },
    "id": "4MkHLmsuQ9zU",
    "outputId": "439c1324-4e44-456e-fa5a-ca255457926a"
   },
   "execution_count": null,
   "outputs": [
    {
     "output_type": "stream",
     "name": "stdout",
     "text": [
      "9/9 [==============================] - 0s 3ms/step - loss: 3440.1262 - mae: 3440.1262\n"
     ]
    },
    {
     "output_type": "execute_result",
     "data": {
      "text/plain": [
       "[3440.126220703125, 3440.126220703125]"
      ]
     },
     "metadata": {},
     "execution_count": 55
    }
   ]
  },
  {
   "cell_type": "code",
   "source": [],
   "metadata": {
    "id": "OsSTv1XAREwK"
   },
   "execution_count": null,
   "outputs": []
  }
 ]
}
