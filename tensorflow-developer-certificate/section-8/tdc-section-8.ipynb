{
 "cells": [
  {
   "cell_type": "code",
   "execution_count": 1,
   "metadata": {
    "ExecuteTime": {
     "end_time": "2023-09-01T18:40:37.840470Z",
     "start_time": "2023-09-01T18:40:36.310215Z"
    },
    "colab": {
     "base_uri": "https://localhost:8080/"
    },
    "id": "tCrnhZPwJpuO",
    "outputId": "46c2f5e8-2503-49b9-b37c-e6f5cd92f615"
   },
   "outputs": [
    {
     "name": "stderr",
     "output_type": "stream",
     "text": [
      "2024-01-30 16:20:36.823088: E tensorflow/compiler/xla/stream_executor/cuda/cuda_dnn.cc:9342] Unable to register cuDNN factory: Attempting to register factory for plugin cuDNN when one has already been registered\n",
      "2024-01-30 16:20:36.823109: E tensorflow/compiler/xla/stream_executor/cuda/cuda_fft.cc:609] Unable to register cuFFT factory: Attempting to register factory for plugin cuFFT when one has already been registered\n",
      "2024-01-30 16:20:36.823127: E tensorflow/compiler/xla/stream_executor/cuda/cuda_blas.cc:1518] Unable to register cuBLAS factory: Attempting to register factory for plugin cuBLAS when one has already been registered\n"
     ]
    }
   ],
   "source": [
    "%load_ext autoreload\n",
    "%autoreload 2\n",
    "    \n",
    "import so_ml_tools as soml\n",
    "\n",
    "import tensorflow as tf\n",
    "import matplotlib.pyplot as plt\n",
    "\n",
    "from keras import Sequential, Model\n",
    "from keras.optimizers import Adam\n",
    "from keras.layers import Dense, RandomFlip, RandomZoom, RandomHeight, \\\n",
    "    RandomWidth, RandomRotation, Input, GlobalAveragePooling2D\n",
    "from keras.losses import categorical_crossentropy\n",
    "from keras.utils import image_dataset_from_directory"
   ]
  },
  {
   "cell_type": "markdown",
   "metadata": {
    "collapsed": false,
    "id": "pRQzfEq4JpuP",
    "jupyter": {
     "outputs_hidden": false
    }
   },
   "source": [
    "## Transfer learning with TensorFlow Part 3: Scaling up (Food vision mini)\n",
    "\n",
    "We've seen the power of transfer learning feature extraction and fine-tuning, now it's time to scale up to all of the classes in Food101 (101 total classes of food).\n",
    "\n",
    "Our goal is to beat the original Food101 paper with 10% of the training (leveraging our power of deep learning)."
   ]
  },
  {
   "cell_type": "markdown",
   "metadata": {
    "collapsed": false,
    "id": "bpCxfi9WJpuP",
    "jupyter": {
     "outputs_hidden": false
    }
   },
   "source": [
    "## 101 Food Classes: working with less data\n",
    "\n",
    "The data we're downloading comes from the origial food 101-dataset but has been preprocessed using the image_data_modification notebook - https://github.com/mrdbourke/tensorflow-deep-learning/blob/main/extras/image_data_modification.ipynb"
   ]
  },
  {
   "cell_type": "code",
   "execution_count": 2,
   "metadata": {
    "ExecuteTime": {
     "end_time": "2023-09-01T18:42:24.880500Z",
     "start_time": "2023-09-01T18:41:30.199591Z"
    },
    "id": "1Hx8GhzqJpuP"
   },
   "outputs": [
    {
     "name": "stdout",
     "output_type": "stream",
     "text": [
      "Download of https://storage.googleapis.com/ztm_tf_course/food_vision/101_food_classes_10_percent.zip skipped, file ./101_food_classes_10_percent.zip exists.\n",
      "Extraction of ./101_food_classes_10_percent.zip started.\n",
      "Extraction of ./101_food_classes_10_percent.zip completed.\n"
     ]
    }
   ],
   "source": [
    "soml.util.io.download_file(source='https://storage.googleapis.com/ztm_tf_course/food_vision/101_food_classes_10_percent.zip', filepath='./101_food_classes_10_percent.zip')\n",
    "soml.util.io.extract_zip(filepath='./101_food_classes_10_percent.zip', folder='./data')\n",
    "\n",
    "train_dir = './data/101_food_classes_10_percent/train'\n",
    "test_dir = './data/101_food_classes_10_percent/test'"
   ]
  },
  {
   "cell_type": "code",
   "execution_count": 3,
   "metadata": {
    "ExecuteTime": {
     "end_time": "2023-09-01T18:43:02.392842Z",
     "start_time": "2023-09-01T18:43:02.318243Z"
    },
    "colab": {
     "base_uri": "https://localhost:8080/"
    },
    "id": "c3dxX7WdJpuP",
    "outputId": "d7feec79-1ee1-406f-ed34-233a89228a5a"
   },
   "outputs": [
    {
     "name": "stdout",
     "output_type": "stream",
     "text": [
      "There are 2 directories, and 0 in ./data/101_food_classes_10_percent\n",
      "There are 101 directories, and 0 in ./data/101_food_classes_10_percent/test\n",
      "There are 0 directories, and 250 in ./data/101_food_classes_10_percent/test/fish_and_chips\n",
      "There are 0 directories, and 250 in ./data/101_food_classes_10_percent/test/poutine\n",
      "There are 0 directories, and 250 in ./data/101_food_classes_10_percent/test/caprese_salad\n",
      "There are 0 directories, and 250 in ./data/101_food_classes_10_percent/test/gnocchi\n",
      "There are 0 directories, and 250 in ./data/101_food_classes_10_percent/test/omelette\n",
      "There are 0 directories, and 250 in ./data/101_food_classes_10_percent/test/bread_pudding\n",
      "There are 0 directories, and 250 in ./data/101_food_classes_10_percent/test/shrimp_and_grits\n",
      "There are 0 directories, and 250 in ./data/101_food_classes_10_percent/test/carrot_cake\n",
      "There are 0 directories, and 250 in ./data/101_food_classes_10_percent/test/pancakes\n",
      "There are 0 directories, and 250 in ./data/101_food_classes_10_percent/test/cup_cakes\n",
      "There are 0 directories, and 250 in ./data/101_food_classes_10_percent/test/cannoli\n",
      "There are 0 directories, and 250 in ./data/101_food_classes_10_percent/test/ice_cream\n",
      "There are 0 directories, and 250 in ./data/101_food_classes_10_percent/test/red_velvet_cake\n",
      "There are 0 directories, and 250 in ./data/101_food_classes_10_percent/test/eggs_benedict\n",
      "There are 0 directories, and 250 in ./data/101_food_classes_10_percent/test/crab_cakes\n",
      "There are 0 directories, and 250 in ./data/101_food_classes_10_percent/test/hot_and_sour_soup\n",
      "There are 0 directories, and 250 in ./data/101_food_classes_10_percent/test/french_onion_soup\n",
      "There are 0 directories, and 250 in ./data/101_food_classes_10_percent/test/cheese_plate\n",
      "There are 0 directories, and 250 in ./data/101_food_classes_10_percent/test/chocolate_cake\n",
      "There are 0 directories, and 250 in ./data/101_food_classes_10_percent/test/bibimbap\n",
      "There are 0 directories, and 250 in ./data/101_food_classes_10_percent/test/macaroni_and_cheese\n",
      "There are 0 directories, and 250 in ./data/101_food_classes_10_percent/test/pho\n",
      "There are 0 directories, and 250 in ./data/101_food_classes_10_percent/test/steak\n",
      "There are 0 directories, and 250 in ./data/101_food_classes_10_percent/test/baby_back_ribs\n",
      "There are 0 directories, and 250 in ./data/101_food_classes_10_percent/test/beignets\n",
      "There are 0 directories, and 250 in ./data/101_food_classes_10_percent/test/nachos\n",
      "There are 0 directories, and 250 in ./data/101_food_classes_10_percent/test/lobster_roll_sandwich\n",
      "There are 0 directories, and 250 in ./data/101_food_classes_10_percent/test/mussels\n",
      "There are 0 directories, and 250 in ./data/101_food_classes_10_percent/test/breakfast_burrito\n",
      "There are 0 directories, and 250 in ./data/101_food_classes_10_percent/test/guacamole\n",
      "There are 0 directories, and 250 in ./data/101_food_classes_10_percent/test/prime_rib\n",
      "There are 0 directories, and 250 in ./data/101_food_classes_10_percent/test/paella\n",
      "There are 0 directories, and 250 in ./data/101_food_classes_10_percent/test/grilled_cheese_sandwich\n",
      "There are 0 directories, and 250 in ./data/101_food_classes_10_percent/test/chicken_wings\n",
      "There are 0 directories, and 250 in ./data/101_food_classes_10_percent/test/greek_salad\n",
      "There are 0 directories, and 250 in ./data/101_food_classes_10_percent/test/clam_chowder\n",
      "There are 0 directories, and 250 in ./data/101_food_classes_10_percent/test/frozen_yogurt\n",
      "There are 0 directories, and 250 in ./data/101_food_classes_10_percent/test/scallops\n",
      "There are 0 directories, and 250 in ./data/101_food_classes_10_percent/test/strawberry_shortcake\n",
      "There are 0 directories, and 250 in ./data/101_food_classes_10_percent/test/panna_cotta\n",
      "There are 0 directories, and 250 in ./data/101_food_classes_10_percent/test/hummus\n",
      "There are 0 directories, and 250 in ./data/101_food_classes_10_percent/test/onion_rings\n",
      "There are 0 directories, and 250 in ./data/101_food_classes_10_percent/test/spring_rolls\n",
      "There are 0 directories, and 250 in ./data/101_food_classes_10_percent/test/pulled_pork_sandwich\n",
      "There are 0 directories, and 250 in ./data/101_food_classes_10_percent/test/risotto\n",
      "There are 0 directories, and 250 in ./data/101_food_classes_10_percent/test/beef_carpaccio\n",
      "There are 0 directories, and 250 in ./data/101_food_classes_10_percent/test/escargots\n",
      "There are 0 directories, and 250 in ./data/101_food_classes_10_percent/test/deviled_eggs\n",
      "There are 0 directories, and 250 in ./data/101_food_classes_10_percent/test/fried_calamari\n",
      "There are 0 directories, and 250 in ./data/101_food_classes_10_percent/test/ceviche\n",
      "There are 0 directories, and 250 in ./data/101_food_classes_10_percent/test/samosa\n",
      "There are 0 directories, and 250 in ./data/101_food_classes_10_percent/test/ravioli\n",
      "There are 0 directories, and 250 in ./data/101_food_classes_10_percent/test/croque_madame\n",
      "There are 0 directories, and 250 in ./data/101_food_classes_10_percent/test/chocolate_mousse\n",
      "There are 0 directories, and 250 in ./data/101_food_classes_10_percent/test/sushi\n",
      "There are 0 directories, and 250 in ./data/101_food_classes_10_percent/test/peking_duck\n",
      "There are 0 directories, and 250 in ./data/101_food_classes_10_percent/test/bruschetta\n",
      "There are 0 directories, and 250 in ./data/101_food_classes_10_percent/test/garlic_bread\n",
      "There are 0 directories, and 250 in ./data/101_food_classes_10_percent/test/takoyaki\n",
      "There are 0 directories, and 250 in ./data/101_food_classes_10_percent/test/cheesecake\n",
      "There are 0 directories, and 250 in ./data/101_food_classes_10_percent/test/tiramisu\n",
      "There are 0 directories, and 250 in ./data/101_food_classes_10_percent/test/club_sandwich\n",
      "There are 0 directories, and 250 in ./data/101_food_classes_10_percent/test/creme_brulee\n",
      "There are 0 directories, and 250 in ./data/101_food_classes_10_percent/test/chicken_quesadilla\n",
      "There are 0 directories, and 250 in ./data/101_food_classes_10_percent/test/gyoza\n",
      "There are 0 directories, and 250 in ./data/101_food_classes_10_percent/test/churros\n",
      "There are 0 directories, and 250 in ./data/101_food_classes_10_percent/test/filet_mignon\n",
      "There are 0 directories, and 250 in ./data/101_food_classes_10_percent/test/beet_salad\n",
      "There are 0 directories, and 250 in ./data/101_food_classes_10_percent/test/tuna_tartare\n",
      "There are 0 directories, and 250 in ./data/101_food_classes_10_percent/test/fried_rice\n",
      "There are 0 directories, and 250 in ./data/101_food_classes_10_percent/test/ramen\n",
      "There are 0 directories, and 250 in ./data/101_food_classes_10_percent/test/pork_chop\n",
      "There are 0 directories, and 250 in ./data/101_food_classes_10_percent/test/french_toast\n",
      "There are 0 directories, and 250 in ./data/101_food_classes_10_percent/test/caesar_salad\n",
      "There are 0 directories, and 250 in ./data/101_food_classes_10_percent/test/tacos\n",
      "There are 0 directories, and 250 in ./data/101_food_classes_10_percent/test/grilled_salmon\n",
      "There are 0 directories, and 250 in ./data/101_food_classes_10_percent/test/apple_pie\n",
      "There are 0 directories, and 250 in ./data/101_food_classes_10_percent/test/hamburger\n",
      "There are 0 directories, and 250 in ./data/101_food_classes_10_percent/test/edamame\n",
      "There are 0 directories, and 250 in ./data/101_food_classes_10_percent/test/macarons\n",
      "There are 0 directories, and 250 in ./data/101_food_classes_10_percent/test/hot_dog\n",
      "There are 0 directories, and 250 in ./data/101_food_classes_10_percent/test/french_fries\n",
      "There are 0 directories, and 250 in ./data/101_food_classes_10_percent/test/lasagna\n",
      "There are 0 directories, and 250 in ./data/101_food_classes_10_percent/test/falafel\n",
      "There are 0 directories, and 250 in ./data/101_food_classes_10_percent/test/seaweed_salad\n",
      "There are 0 directories, and 250 in ./data/101_food_classes_10_percent/test/donuts\n",
      "There are 0 directories, and 250 in ./data/101_food_classes_10_percent/test/pad_thai\n",
      "There are 0 directories, and 250 in ./data/101_food_classes_10_percent/test/pizza\n",
      "There are 0 directories, and 250 in ./data/101_food_classes_10_percent/test/baklava\n",
      "There are 0 directories, and 250 in ./data/101_food_classes_10_percent/test/spaghetti_carbonara\n",
      "There are 0 directories, and 250 in ./data/101_food_classes_10_percent/test/oysters\n",
      "There are 0 directories, and 250 in ./data/101_food_classes_10_percent/test/lobster_bisque\n",
      "There are 0 directories, and 250 in ./data/101_food_classes_10_percent/test/sashimi\n",
      "There are 0 directories, and 250 in ./data/101_food_classes_10_percent/test/huevos_rancheros\n",
      "There are 0 directories, and 250 in ./data/101_food_classes_10_percent/test/miso_soup\n",
      "There are 0 directories, and 250 in ./data/101_food_classes_10_percent/test/dumplings\n",
      "There are 0 directories, and 250 in ./data/101_food_classes_10_percent/test/foie_gras\n",
      "There are 0 directories, and 250 in ./data/101_food_classes_10_percent/test/spaghetti_bolognese\n",
      "There are 0 directories, and 250 in ./data/101_food_classes_10_percent/test/beef_tartare\n",
      "There are 0 directories, and 250 in ./data/101_food_classes_10_percent/test/chicken_curry\n",
      "There are 0 directories, and 250 in ./data/101_food_classes_10_percent/test/waffles\n",
      "There are 101 directories, and 0 in ./data/101_food_classes_10_percent/train\n",
      "There are 0 directories, and 75 in ./data/101_food_classes_10_percent/train/fish_and_chips\n",
      "There are 0 directories, and 75 in ./data/101_food_classes_10_percent/train/poutine\n",
      "There are 0 directories, and 75 in ./data/101_food_classes_10_percent/train/caprese_salad\n",
      "There are 0 directories, and 75 in ./data/101_food_classes_10_percent/train/gnocchi\n",
      "There are 0 directories, and 75 in ./data/101_food_classes_10_percent/train/omelette\n",
      "There are 0 directories, and 75 in ./data/101_food_classes_10_percent/train/bread_pudding\n",
      "There are 0 directories, and 75 in ./data/101_food_classes_10_percent/train/shrimp_and_grits\n",
      "There are 0 directories, and 75 in ./data/101_food_classes_10_percent/train/carrot_cake\n",
      "There are 0 directories, and 75 in ./data/101_food_classes_10_percent/train/pancakes\n",
      "There are 0 directories, and 75 in ./data/101_food_classes_10_percent/train/cup_cakes\n",
      "There are 0 directories, and 75 in ./data/101_food_classes_10_percent/train/cannoli\n",
      "There are 0 directories, and 75 in ./data/101_food_classes_10_percent/train/ice_cream\n",
      "There are 0 directories, and 75 in ./data/101_food_classes_10_percent/train/red_velvet_cake\n",
      "There are 0 directories, and 75 in ./data/101_food_classes_10_percent/train/eggs_benedict\n",
      "There are 0 directories, and 75 in ./data/101_food_classes_10_percent/train/crab_cakes\n",
      "There are 0 directories, and 75 in ./data/101_food_classes_10_percent/train/hot_and_sour_soup\n",
      "There are 0 directories, and 75 in ./data/101_food_classes_10_percent/train/french_onion_soup\n",
      "There are 0 directories, and 75 in ./data/101_food_classes_10_percent/train/cheese_plate\n",
      "There are 0 directories, and 75 in ./data/101_food_classes_10_percent/train/chocolate_cake\n",
      "There are 0 directories, and 75 in ./data/101_food_classes_10_percent/train/bibimbap\n",
      "There are 0 directories, and 75 in ./data/101_food_classes_10_percent/train/macaroni_and_cheese\n",
      "There are 0 directories, and 75 in ./data/101_food_classes_10_percent/train/pho\n",
      "There are 0 directories, and 75 in ./data/101_food_classes_10_percent/train/steak\n",
      "There are 0 directories, and 75 in ./data/101_food_classes_10_percent/train/baby_back_ribs\n",
      "There are 0 directories, and 75 in ./data/101_food_classes_10_percent/train/beignets\n",
      "There are 0 directories, and 75 in ./data/101_food_classes_10_percent/train/nachos\n",
      "There are 0 directories, and 75 in ./data/101_food_classes_10_percent/train/lobster_roll_sandwich\n",
      "There are 0 directories, and 75 in ./data/101_food_classes_10_percent/train/mussels\n",
      "There are 0 directories, and 75 in ./data/101_food_classes_10_percent/train/breakfast_burrito\n",
      "There are 0 directories, and 75 in ./data/101_food_classes_10_percent/train/guacamole\n",
      "There are 0 directories, and 75 in ./data/101_food_classes_10_percent/train/prime_rib\n",
      "There are 0 directories, and 75 in ./data/101_food_classes_10_percent/train/paella\n",
      "There are 0 directories, and 75 in ./data/101_food_classes_10_percent/train/grilled_cheese_sandwich\n",
      "There are 0 directories, and 75 in ./data/101_food_classes_10_percent/train/chicken_wings\n",
      "There are 0 directories, and 75 in ./data/101_food_classes_10_percent/train/greek_salad\n",
      "There are 0 directories, and 75 in ./data/101_food_classes_10_percent/train/clam_chowder\n",
      "There are 0 directories, and 75 in ./data/101_food_classes_10_percent/train/frozen_yogurt\n",
      "There are 0 directories, and 75 in ./data/101_food_classes_10_percent/train/scallops\n",
      "There are 0 directories, and 75 in ./data/101_food_classes_10_percent/train/strawberry_shortcake\n",
      "There are 0 directories, and 75 in ./data/101_food_classes_10_percent/train/panna_cotta\n",
      "There are 0 directories, and 75 in ./data/101_food_classes_10_percent/train/hummus\n",
      "There are 0 directories, and 75 in ./data/101_food_classes_10_percent/train/onion_rings\n",
      "There are 0 directories, and 75 in ./data/101_food_classes_10_percent/train/spring_rolls\n",
      "There are 0 directories, and 75 in ./data/101_food_classes_10_percent/train/pulled_pork_sandwich\n",
      "There are 0 directories, and 75 in ./data/101_food_classes_10_percent/train/risotto\n",
      "There are 0 directories, and 75 in ./data/101_food_classes_10_percent/train/beef_carpaccio\n",
      "There are 0 directories, and 75 in ./data/101_food_classes_10_percent/train/escargots\n",
      "There are 0 directories, and 75 in ./data/101_food_classes_10_percent/train/deviled_eggs\n",
      "There are 0 directories, and 75 in ./data/101_food_classes_10_percent/train/fried_calamari\n",
      "There are 0 directories, and 75 in ./data/101_food_classes_10_percent/train/ceviche\n",
      "There are 0 directories, and 75 in ./data/101_food_classes_10_percent/train/samosa\n",
      "There are 0 directories, and 75 in ./data/101_food_classes_10_percent/train/ravioli\n",
      "There are 0 directories, and 75 in ./data/101_food_classes_10_percent/train/croque_madame\n",
      "There are 0 directories, and 75 in ./data/101_food_classes_10_percent/train/chocolate_mousse\n",
      "There are 0 directories, and 75 in ./data/101_food_classes_10_percent/train/sushi\n",
      "There are 0 directories, and 75 in ./data/101_food_classes_10_percent/train/peking_duck\n",
      "There are 0 directories, and 75 in ./data/101_food_classes_10_percent/train/bruschetta\n",
      "There are 0 directories, and 75 in ./data/101_food_classes_10_percent/train/garlic_bread\n",
      "There are 0 directories, and 75 in ./data/101_food_classes_10_percent/train/takoyaki\n",
      "There are 0 directories, and 75 in ./data/101_food_classes_10_percent/train/cheesecake\n",
      "There are 0 directories, and 75 in ./data/101_food_classes_10_percent/train/tiramisu\n",
      "There are 0 directories, and 75 in ./data/101_food_classes_10_percent/train/club_sandwich\n",
      "There are 0 directories, and 75 in ./data/101_food_classes_10_percent/train/creme_brulee\n",
      "There are 0 directories, and 75 in ./data/101_food_classes_10_percent/train/chicken_quesadilla\n",
      "There are 0 directories, and 75 in ./data/101_food_classes_10_percent/train/gyoza\n",
      "There are 0 directories, and 75 in ./data/101_food_classes_10_percent/train/churros\n",
      "There are 0 directories, and 75 in ./data/101_food_classes_10_percent/train/filet_mignon\n",
      "There are 0 directories, and 75 in ./data/101_food_classes_10_percent/train/beet_salad\n",
      "There are 0 directories, and 75 in ./data/101_food_classes_10_percent/train/tuna_tartare\n",
      "There are 0 directories, and 75 in ./data/101_food_classes_10_percent/train/fried_rice\n",
      "There are 0 directories, and 75 in ./data/101_food_classes_10_percent/train/ramen\n",
      "There are 0 directories, and 75 in ./data/101_food_classes_10_percent/train/pork_chop\n",
      "There are 0 directories, and 75 in ./data/101_food_classes_10_percent/train/french_toast\n",
      "There are 0 directories, and 75 in ./data/101_food_classes_10_percent/train/caesar_salad\n",
      "There are 0 directories, and 75 in ./data/101_food_classes_10_percent/train/tacos\n",
      "There are 0 directories, and 75 in ./data/101_food_classes_10_percent/train/grilled_salmon\n",
      "There are 0 directories, and 75 in ./data/101_food_classes_10_percent/train/apple_pie\n",
      "There are 0 directories, and 75 in ./data/101_food_classes_10_percent/train/hamburger\n",
      "There are 0 directories, and 75 in ./data/101_food_classes_10_percent/train/edamame\n",
      "There are 0 directories, and 75 in ./data/101_food_classes_10_percent/train/macarons\n",
      "There are 0 directories, and 75 in ./data/101_food_classes_10_percent/train/hot_dog\n",
      "There are 0 directories, and 75 in ./data/101_food_classes_10_percent/train/french_fries\n",
      "There are 0 directories, and 75 in ./data/101_food_classes_10_percent/train/lasagna\n",
      "There are 0 directories, and 75 in ./data/101_food_classes_10_percent/train/falafel\n",
      "There are 0 directories, and 75 in ./data/101_food_classes_10_percent/train/seaweed_salad\n",
      "There are 0 directories, and 75 in ./data/101_food_classes_10_percent/train/donuts\n",
      "There are 0 directories, and 75 in ./data/101_food_classes_10_percent/train/pad_thai\n",
      "There are 0 directories, and 75 in ./data/101_food_classes_10_percent/train/pizza\n",
      "There are 0 directories, and 75 in ./data/101_food_classes_10_percent/train/baklava\n",
      "There are 0 directories, and 75 in ./data/101_food_classes_10_percent/train/spaghetti_carbonara\n",
      "There are 0 directories, and 75 in ./data/101_food_classes_10_percent/train/oysters\n",
      "There are 0 directories, and 75 in ./data/101_food_classes_10_percent/train/lobster_bisque\n",
      "There are 0 directories, and 75 in ./data/101_food_classes_10_percent/train/sashimi\n",
      "There are 0 directories, and 75 in ./data/101_food_classes_10_percent/train/huevos_rancheros\n",
      "There are 0 directories, and 75 in ./data/101_food_classes_10_percent/train/miso_soup\n",
      "There are 0 directories, and 75 in ./data/101_food_classes_10_percent/train/dumplings\n",
      "There are 0 directories, and 75 in ./data/101_food_classes_10_percent/train/foie_gras\n",
      "There are 0 directories, and 75 in ./data/101_food_classes_10_percent/train/spaghetti_bolognese\n",
      "There are 0 directories, and 75 in ./data/101_food_classes_10_percent/train/beef_tartare\n",
      "There are 0 directories, and 75 in ./data/101_food_classes_10_percent/train/chicken_curry\n",
      "There are 0 directories, and 75 in ./data/101_food_classes_10_percent/train/waffles\n"
     ]
    }
   ],
   "source": [
    "soml.util.io.list_dir_summary(folder='./data/101_food_classes_10_percent')"
   ]
  },
  {
   "cell_type": "code",
   "execution_count": 4,
   "metadata": {
    "ExecuteTime": {
     "end_time": "2023-09-01T18:43:06.380470Z",
     "start_time": "2023-09-01T18:43:04.574309Z"
    },
    "colab": {
     "base_uri": "https://localhost:8080/"
    },
    "id": "QA-2eeXeJpuP",
    "outputId": "1da179f7-5400-4253-de86-3bef8d999434"
   },
   "outputs": [
    {
     "name": "stdout",
     "output_type": "stream",
     "text": [
      "Found 7575 files belonging to 101 classes.\n"
     ]
    },
    {
     "name": "stderr",
     "output_type": "stream",
     "text": [
      "2024-01-30 16:20:44.448168: E tensorflow/compiler/xla/stream_executor/cuda/cuda_driver.cc:268] failed call to cuInit: CUDA_ERROR_COMPAT_NOT_SUPPORTED_ON_DEVICE: forward compatibility was attempted on non supported HW\n",
      "2024-01-30 16:20:44.448261: E tensorflow/compiler/xla/stream_executor/cuda/cuda_diagnostics.cc:312] kernel version 535.146.2 does not match DSO version 535.154.5 -- cannot find working devices in this configuration\n"
     ]
    },
    {
     "name": "stdout",
     "output_type": "stream",
     "text": [
      "Found 25250 files belonging to 101 classes.\n"
     ]
    }
   ],
   "source": [
    "# Setup data inputs\n",
    "IMG_SIZE = (224, 224)\n",
    "\n",
    "train_data_all_10_percent = image_dataset_from_directory(directory=train_dir,\n",
    "                                                         label_mode='categorical',\n",
    "                                                         image_size=IMG_SIZE,\n",
    "                                                         batch_size=16)\n",
    "\n",
    "test_data_all_10_percent = image_dataset_from_directory(directory=test_dir,\n",
    "                                                         label_mode='categorical',\n",
    "                                                         image_size=IMG_SIZE,\n",
    "                                                         batch_size=16,\n",
    "                                                         shuffle=False) # Don't shuffle test data for prediction analysis"
   ]
  },
  {
   "cell_type": "markdown",
   "metadata": {
    "collapsed": false,
    "id": "WwFir1AVJpuQ",
    "jupyter": {
     "outputs_hidden": false
    }
   },
   "source": [
    "# Train a big dog model with transfer learning on 10% of 101 Food classes.\n",
    "\n",
    "Here are the steps we are going to do first.\n",
    "* Create a ModelCheckpoint callback\n",
    "* Create a data augmentation layer to build data augmentation right into the model\n",
    "* Build a headless (no top layers) Functional EfficientNetB0 backboned-model (we'll create our own output layer)\n",
    "* Compile our model\n",
    "* Feature extract for 5 full passes (5 epochs on the train dataset and validate on 15% of the test data, to save epoch time)"
   ]
  },
  {
   "cell_type": "code",
   "execution_count": 5,
   "metadata": {
    "ExecuteTime": {
     "end_time": "2023-09-01T18:43:07.479886Z",
     "start_time": "2023-09-01T18:43:07.414612Z"
    },
    "id": "qzSO1RBTJpuQ"
   },
   "outputs": [],
   "source": [
    "# Create checkpoint fallback\n",
    "model_checkpoint_callback = soml.tf.fit.callback.model_checkpoint_callback(\n",
    "    experiment_name=\"101_classes_10_percent_data_model_checkpoint\",\n",
    "    save_weights_only=True,\n",
    "    metric='val_accuracy',\n",
    "    save_best_only=True)"
   ]
  },
  {
   "cell_type": "code",
   "execution_count": 6,
   "metadata": {
    "ExecuteTime": {
     "end_time": "2023-09-01T18:43:09.020317Z",
     "start_time": "2023-09-01T18:43:08.957306Z"
    },
    "id": "vNs1SU8fJpuQ"
   },
   "outputs": [],
   "source": [
    "# Create data augmentation layer\n",
    "data_augementation_layer = Sequential([\n",
    "    RandomFlip(\"horizontal\"),\n",
    "    RandomRotation(.2),\n",
    "    RandomHeight(.2),\n",
    "    RandomWidth(.2),\n",
    "    RandomZoom(.2),\n",
    "    # Rescaling(1/255.) # Only neccesary for some models, but not for EfficientNetB0, But neccesary for ResNet50V2\n",
    "], name=\"data_augmentation\")"
   ]
  },
  {
   "cell_type": "code",
   "execution_count": 7,
   "metadata": {
    "ExecuteTime": {
     "end_time": "2023-09-01T18:43:13.973915Z",
     "start_time": "2023-09-01T18:43:11.400670Z"
    },
    "colab": {
     "base_uri": "https://localhost:8080/"
    },
    "id": "MBUUn1NbJpuQ",
    "outputId": "58a8308a-c6c5-465a-b8f8-0e3de22e17e3"
   },
   "outputs": [],
   "source": [
    "# Setup base model and freeze its layers (this will extract features)\n",
    "base_model = tf.keras.applications.efficientnet_v2.EfficientNetV2B0(include_top=False)\n",
    "base_model.trainable = False\n",
    "\n",
    "# Setup model architecture with trainable layers on top\n",
    "input_layer = Input(shape=IMG_SIZE + (3,), name=\"input_layer\")\n",
    "x = data_augementation_layer(input_layer) # Augment images\n",
    "x = base_model(x, training=False) # Put the base model in inference mode so weights need to stay frozen\n",
    "x = GlobalAveragePooling2D(name=\"global_average_pooling_2d\")(x)\n",
    "output_layer = Dense(len(train_data_all_10_percent.class_names), name=\"output_layer\", activation=\"softmax\")(x)\n",
    "\n",
    "model = Model(input_layer, output_layer)"
   ]
  },
  {
   "cell_type": "code",
   "execution_count": 8,
   "metadata": {
    "ExecuteTime": {
     "end_time": "2023-09-01T18:43:13.999041Z",
     "start_time": "2023-09-01T18:43:13.974412Z"
    },
    "colab": {
     "base_uri": "https://localhost:8080/"
    },
    "id": "AeALrtQBJpuQ",
    "outputId": "8c704275-6b4e-474e-bb51-1d2eca9fbb38"
   },
   "outputs": [
    {
     "name": "stdout",
     "output_type": "stream",
     "text": [
      "Model: \"model\"\n",
      "_________________________________________________________________\n",
      " Layer (type)                Output Shape              Param #   \n",
      "=================================================================\n",
      " input_layer (InputLayer)    [(None, 224, 224, 3)]     0         \n",
      "                                                                 \n",
      " data_augmentation (Sequent  (None, None, None, 3)     0         \n",
      " ial)                                                            \n",
      "                                                                 \n",
      " efficientnetv2-b0 (Functio  (None, None, None, 1280   5919312   \n",
      " nal)                        )                                   \n",
      "                                                                 \n",
      " global_average_pooling_2d   (None, 1280)              0         \n",
      " (GlobalAveragePooling2D)                                        \n",
      "                                                                 \n",
      " output_layer (Dense)        (None, 101)               129381    \n",
      "                                                                 \n",
      "=================================================================\n",
      "Total params: 6048693 (23.07 MB)\n",
      "Trainable params: 129381 (505.39 KB)\n",
      "Non-trainable params: 5919312 (22.58 MB)\n",
      "_________________________________________________________________\n"
     ]
    }
   ],
   "source": [
    "model.summary()"
   ]
  },
  {
   "cell_type": "code",
   "execution_count": 9,
   "metadata": {
    "ExecuteTime": {
     "end_time": "2023-09-01T18:43:16.068663Z",
     "start_time": "2023-09-01T18:43:15.999624Z"
    },
    "id": "V9laH8-EJpuR"
   },
   "outputs": [],
   "source": [
    "# Compile the model\n",
    "model.compile(loss=categorical_crossentropy,\n",
    "                optimizer=Adam(),\n",
    "                metrics=[\"accuracy\"])"
   ]
  },
  {
   "cell_type": "code",
   "execution_count": 10,
   "metadata": {
    "ExecuteTime": {
     "end_time": "2023-09-01T19:06:33.341158Z",
     "start_time": "2023-09-01T18:43:29.632078Z"
    },
    "colab": {
     "base_uri": "https://localhost:8080/"
    },
    "id": "sdcOmzjNJpuR",
    "outputId": "6abc60e9-cd62-45ec-dde8-e0863bb95b88"
   },
   "outputs": [
    {
     "name": "stdout",
     "output_type": "stream",
     "text": [
      "Epoch 1/5\n",
      " 84/474 [====>.........................] - ETA: 25s - loss: 4.3695 - accuracy: 0.0818"
     ]
    },
    {
     "ename": "KeyboardInterrupt",
     "evalue": "",
     "output_type": "error",
     "traceback": [
      "\u001b[0;31m---------------------------------------------------------------------------\u001b[0m",
      "\u001b[0;31mKeyboardInterrupt\u001b[0m                         Traceback (most recent call last)",
      "Cell \u001b[0;32mIn[10], line 2\u001b[0m\n\u001b[1;32m      1\u001b[0m \u001b[38;5;66;03m# Fit the model\u001b[39;00m\n\u001b[0;32m----> 2\u001b[0m history_all_classes_10_percent \u001b[38;5;241m=\u001b[39m \u001b[43mmodel\u001b[49m\u001b[38;5;241;43m.\u001b[39;49m\u001b[43mfit\u001b[49m\u001b[43m(\u001b[49m\u001b[43mtrain_data_all_10_percent\u001b[49m\u001b[43m,\u001b[49m\n\u001b[1;32m      3\u001b[0m \u001b[43m                                           \u001b[49m\u001b[43msteps_per_epoch\u001b[49m\u001b[38;5;241;43m=\u001b[39;49m\u001b[38;5;28;43mlen\u001b[39;49m\u001b[43m(\u001b[49m\u001b[43mtrain_data_all_10_percent\u001b[49m\u001b[43m)\u001b[49m\u001b[43m,\u001b[49m\n\u001b[1;32m      4\u001b[0m \u001b[43m                                           \u001b[49m\u001b[43mepochs\u001b[49m\u001b[38;5;241;43m=\u001b[39;49m\u001b[38;5;241;43m5\u001b[39;49m\u001b[43m,\u001b[49m\n\u001b[1;32m      5\u001b[0m \u001b[43m                                           \u001b[49m\u001b[43mvalidation_data\u001b[49m\u001b[38;5;241;43m=\u001b[39;49m\u001b[43mtest_data_all_10_percent\u001b[49m\u001b[43m,\u001b[49m\n\u001b[1;32m      6\u001b[0m \u001b[43m                                           \u001b[49m\u001b[43mvalidation_steps\u001b[49m\u001b[38;5;241;43m=\u001b[39;49m\u001b[38;5;28;43mint\u001b[39;49m\u001b[43m(\u001b[49m\u001b[38;5;241;43m0.15\u001b[39;49m\u001b[43m \u001b[49m\u001b[38;5;241;43m*\u001b[39;49m\u001b[43m \u001b[49m\u001b[38;5;28;43mlen\u001b[39;49m\u001b[43m(\u001b[49m\u001b[43mtest_data_all_10_percent\u001b[49m\u001b[43m)\u001b[49m\u001b[43m)\u001b[49m\u001b[43m,\u001b[49m\u001b[43m \u001b[49m\u001b[38;5;66;43;03m# Validate on only 15% of test data\u001b[39;49;00m\n\u001b[1;32m      7\u001b[0m \u001b[43m                                           \u001b[49m\u001b[43mcallbacks\u001b[49m\u001b[38;5;241;43m=\u001b[39;49m\u001b[43m[\u001b[49m\u001b[43mmodel_checkpoint_callback\u001b[49m\u001b[43m]\u001b[49m\u001b[43m)\u001b[49m\n",
      "File \u001b[0;32m~/anaconda3/envs/ml2/lib/python3.10/site-packages/keras/src/utils/traceback_utils.py:65\u001b[0m, in \u001b[0;36mfilter_traceback.<locals>.error_handler\u001b[0;34m(*args, **kwargs)\u001b[0m\n\u001b[1;32m     63\u001b[0m filtered_tb \u001b[38;5;241m=\u001b[39m \u001b[38;5;28;01mNone\u001b[39;00m\n\u001b[1;32m     64\u001b[0m \u001b[38;5;28;01mtry\u001b[39;00m:\n\u001b[0;32m---> 65\u001b[0m     \u001b[38;5;28;01mreturn\u001b[39;00m \u001b[43mfn\u001b[49m\u001b[43m(\u001b[49m\u001b[38;5;241;43m*\u001b[39;49m\u001b[43margs\u001b[49m\u001b[43m,\u001b[49m\u001b[43m \u001b[49m\u001b[38;5;241;43m*\u001b[39;49m\u001b[38;5;241;43m*\u001b[39;49m\u001b[43mkwargs\u001b[49m\u001b[43m)\u001b[49m\n\u001b[1;32m     66\u001b[0m \u001b[38;5;28;01mexcept\u001b[39;00m \u001b[38;5;167;01mException\u001b[39;00m \u001b[38;5;28;01mas\u001b[39;00m e:\n\u001b[1;32m     67\u001b[0m     filtered_tb \u001b[38;5;241m=\u001b[39m _process_traceback_frames(e\u001b[38;5;241m.\u001b[39m__traceback__)\n",
      "File \u001b[0;32m~/anaconda3/envs/ml2/lib/python3.10/site-packages/keras/src/engine/training.py:1783\u001b[0m, in \u001b[0;36mModel.fit\u001b[0;34m(self, x, y, batch_size, epochs, verbose, callbacks, validation_split, validation_data, shuffle, class_weight, sample_weight, initial_epoch, steps_per_epoch, validation_steps, validation_batch_size, validation_freq, max_queue_size, workers, use_multiprocessing)\u001b[0m\n\u001b[1;32m   1775\u001b[0m \u001b[38;5;28;01mwith\u001b[39;00m tf\u001b[38;5;241m.\u001b[39mprofiler\u001b[38;5;241m.\u001b[39mexperimental\u001b[38;5;241m.\u001b[39mTrace(\n\u001b[1;32m   1776\u001b[0m     \u001b[38;5;124m\"\u001b[39m\u001b[38;5;124mtrain\u001b[39m\u001b[38;5;124m\"\u001b[39m,\n\u001b[1;32m   1777\u001b[0m     epoch_num\u001b[38;5;241m=\u001b[39mepoch,\n\u001b[0;32m   (...)\u001b[0m\n\u001b[1;32m   1780\u001b[0m     _r\u001b[38;5;241m=\u001b[39m\u001b[38;5;241m1\u001b[39m,\n\u001b[1;32m   1781\u001b[0m ):\n\u001b[1;32m   1782\u001b[0m     callbacks\u001b[38;5;241m.\u001b[39mon_train_batch_begin(step)\n\u001b[0;32m-> 1783\u001b[0m     tmp_logs \u001b[38;5;241m=\u001b[39m \u001b[38;5;28;43mself\u001b[39;49m\u001b[38;5;241;43m.\u001b[39;49m\u001b[43mtrain_function\u001b[49m\u001b[43m(\u001b[49m\u001b[43miterator\u001b[49m\u001b[43m)\u001b[49m\n\u001b[1;32m   1784\u001b[0m     \u001b[38;5;28;01mif\u001b[39;00m data_handler\u001b[38;5;241m.\u001b[39mshould_sync:\n\u001b[1;32m   1785\u001b[0m         context\u001b[38;5;241m.\u001b[39masync_wait()\n",
      "File \u001b[0;32m~/anaconda3/envs/ml2/lib/python3.10/site-packages/tensorflow/python/util/traceback_utils.py:150\u001b[0m, in \u001b[0;36mfilter_traceback.<locals>.error_handler\u001b[0;34m(*args, **kwargs)\u001b[0m\n\u001b[1;32m    148\u001b[0m filtered_tb \u001b[38;5;241m=\u001b[39m \u001b[38;5;28;01mNone\u001b[39;00m\n\u001b[1;32m    149\u001b[0m \u001b[38;5;28;01mtry\u001b[39;00m:\n\u001b[0;32m--> 150\u001b[0m   \u001b[38;5;28;01mreturn\u001b[39;00m \u001b[43mfn\u001b[49m\u001b[43m(\u001b[49m\u001b[38;5;241;43m*\u001b[39;49m\u001b[43margs\u001b[49m\u001b[43m,\u001b[49m\u001b[43m \u001b[49m\u001b[38;5;241;43m*\u001b[39;49m\u001b[38;5;241;43m*\u001b[39;49m\u001b[43mkwargs\u001b[49m\u001b[43m)\u001b[49m\n\u001b[1;32m    151\u001b[0m \u001b[38;5;28;01mexcept\u001b[39;00m \u001b[38;5;167;01mException\u001b[39;00m \u001b[38;5;28;01mas\u001b[39;00m e:\n\u001b[1;32m    152\u001b[0m   filtered_tb \u001b[38;5;241m=\u001b[39m _process_traceback_frames(e\u001b[38;5;241m.\u001b[39m__traceback__)\n",
      "File \u001b[0;32m~/anaconda3/envs/ml2/lib/python3.10/site-packages/tensorflow/python/eager/polymorphic_function/polymorphic_function.py:831\u001b[0m, in \u001b[0;36mFunction.__call__\u001b[0;34m(self, *args, **kwds)\u001b[0m\n\u001b[1;32m    828\u001b[0m compiler \u001b[38;5;241m=\u001b[39m \u001b[38;5;124m\"\u001b[39m\u001b[38;5;124mxla\u001b[39m\u001b[38;5;124m\"\u001b[39m \u001b[38;5;28;01mif\u001b[39;00m \u001b[38;5;28mself\u001b[39m\u001b[38;5;241m.\u001b[39m_jit_compile \u001b[38;5;28;01melse\u001b[39;00m \u001b[38;5;124m\"\u001b[39m\u001b[38;5;124mnonXla\u001b[39m\u001b[38;5;124m\"\u001b[39m\n\u001b[1;32m    830\u001b[0m \u001b[38;5;28;01mwith\u001b[39;00m OptionalXlaContext(\u001b[38;5;28mself\u001b[39m\u001b[38;5;241m.\u001b[39m_jit_compile):\n\u001b[0;32m--> 831\u001b[0m   result \u001b[38;5;241m=\u001b[39m \u001b[38;5;28;43mself\u001b[39;49m\u001b[38;5;241;43m.\u001b[39;49m\u001b[43m_call\u001b[49m\u001b[43m(\u001b[49m\u001b[38;5;241;43m*\u001b[39;49m\u001b[43margs\u001b[49m\u001b[43m,\u001b[49m\u001b[43m \u001b[49m\u001b[38;5;241;43m*\u001b[39;49m\u001b[38;5;241;43m*\u001b[39;49m\u001b[43mkwds\u001b[49m\u001b[43m)\u001b[49m\n\u001b[1;32m    833\u001b[0m new_tracing_count \u001b[38;5;241m=\u001b[39m \u001b[38;5;28mself\u001b[39m\u001b[38;5;241m.\u001b[39mexperimental_get_tracing_count()\n\u001b[1;32m    834\u001b[0m without_tracing \u001b[38;5;241m=\u001b[39m (tracing_count \u001b[38;5;241m==\u001b[39m new_tracing_count)\n",
      "File \u001b[0;32m~/anaconda3/envs/ml2/lib/python3.10/site-packages/tensorflow/python/eager/polymorphic_function/polymorphic_function.py:867\u001b[0m, in \u001b[0;36mFunction._call\u001b[0;34m(self, *args, **kwds)\u001b[0m\n\u001b[1;32m    864\u001b[0m   \u001b[38;5;28mself\u001b[39m\u001b[38;5;241m.\u001b[39m_lock\u001b[38;5;241m.\u001b[39mrelease()\n\u001b[1;32m    865\u001b[0m   \u001b[38;5;66;03m# In this case we have created variables on the first call, so we run the\u001b[39;00m\n\u001b[1;32m    866\u001b[0m   \u001b[38;5;66;03m# defunned version which is guaranteed to never create variables.\u001b[39;00m\n\u001b[0;32m--> 867\u001b[0m   \u001b[38;5;28;01mreturn\u001b[39;00m \u001b[43mtracing_compilation\u001b[49m\u001b[38;5;241;43m.\u001b[39;49m\u001b[43mcall_function\u001b[49m\u001b[43m(\u001b[49m\n\u001b[1;32m    868\u001b[0m \u001b[43m      \u001b[49m\u001b[43margs\u001b[49m\u001b[43m,\u001b[49m\u001b[43m \u001b[49m\u001b[43mkwds\u001b[49m\u001b[43m,\u001b[49m\u001b[43m \u001b[49m\u001b[38;5;28;43mself\u001b[39;49m\u001b[38;5;241;43m.\u001b[39;49m\u001b[43m_no_variable_creation_config\u001b[49m\n\u001b[1;32m    869\u001b[0m \u001b[43m  \u001b[49m\u001b[43m)\u001b[49m\n\u001b[1;32m    870\u001b[0m \u001b[38;5;28;01melif\u001b[39;00m \u001b[38;5;28mself\u001b[39m\u001b[38;5;241m.\u001b[39m_variable_creation_config \u001b[38;5;129;01mis\u001b[39;00m \u001b[38;5;129;01mnot\u001b[39;00m \u001b[38;5;28;01mNone\u001b[39;00m:\n\u001b[1;32m    871\u001b[0m   \u001b[38;5;66;03m# Release the lock early so that multiple threads can perform the call\u001b[39;00m\n\u001b[1;32m    872\u001b[0m   \u001b[38;5;66;03m# in parallel.\u001b[39;00m\n\u001b[1;32m    873\u001b[0m   \u001b[38;5;28mself\u001b[39m\u001b[38;5;241m.\u001b[39m_lock\u001b[38;5;241m.\u001b[39mrelease()\n",
      "File \u001b[0;32m~/anaconda3/envs/ml2/lib/python3.10/site-packages/tensorflow/python/eager/polymorphic_function/tracing_compilation.py:139\u001b[0m, in \u001b[0;36mcall_function\u001b[0;34m(args, kwargs, tracing_options)\u001b[0m\n\u001b[1;32m    137\u001b[0m bound_args \u001b[38;5;241m=\u001b[39m function\u001b[38;5;241m.\u001b[39mfunction_type\u001b[38;5;241m.\u001b[39mbind(\u001b[38;5;241m*\u001b[39margs, \u001b[38;5;241m*\u001b[39m\u001b[38;5;241m*\u001b[39mkwargs)\n\u001b[1;32m    138\u001b[0m flat_inputs \u001b[38;5;241m=\u001b[39m function\u001b[38;5;241m.\u001b[39mfunction_type\u001b[38;5;241m.\u001b[39munpack_inputs(bound_args)\n\u001b[0;32m--> 139\u001b[0m \u001b[38;5;28;01mreturn\u001b[39;00m \u001b[43mfunction\u001b[49m\u001b[38;5;241;43m.\u001b[39;49m\u001b[43m_call_flat\u001b[49m\u001b[43m(\u001b[49m\u001b[43m  \u001b[49m\u001b[38;5;66;43;03m# pylint: disable=protected-access\u001b[39;49;00m\n\u001b[1;32m    140\u001b[0m \u001b[43m    \u001b[49m\u001b[43mflat_inputs\u001b[49m\u001b[43m,\u001b[49m\u001b[43m \u001b[49m\u001b[43mcaptured_inputs\u001b[49m\u001b[38;5;241;43m=\u001b[39;49m\u001b[43mfunction\u001b[49m\u001b[38;5;241;43m.\u001b[39;49m\u001b[43mcaptured_inputs\u001b[49m\n\u001b[1;32m    141\u001b[0m \u001b[43m\u001b[49m\u001b[43m)\u001b[49m\n",
      "File \u001b[0;32m~/anaconda3/envs/ml2/lib/python3.10/site-packages/tensorflow/python/eager/polymorphic_function/concrete_function.py:1264\u001b[0m, in \u001b[0;36mConcreteFunction._call_flat\u001b[0;34m(self, tensor_inputs, captured_inputs)\u001b[0m\n\u001b[1;32m   1260\u001b[0m possible_gradient_type \u001b[38;5;241m=\u001b[39m gradients_util\u001b[38;5;241m.\u001b[39mPossibleTapeGradientTypes(args)\n\u001b[1;32m   1261\u001b[0m \u001b[38;5;28;01mif\u001b[39;00m (possible_gradient_type \u001b[38;5;241m==\u001b[39m gradients_util\u001b[38;5;241m.\u001b[39mPOSSIBLE_GRADIENT_TYPES_NONE\n\u001b[1;32m   1262\u001b[0m     \u001b[38;5;129;01mand\u001b[39;00m executing_eagerly):\n\u001b[1;32m   1263\u001b[0m   \u001b[38;5;66;03m# No tape is watching; skip to running the function.\u001b[39;00m\n\u001b[0;32m-> 1264\u001b[0m   \u001b[38;5;28;01mreturn\u001b[39;00m \u001b[38;5;28;43mself\u001b[39;49m\u001b[38;5;241;43m.\u001b[39;49m\u001b[43m_inference_function\u001b[49m\u001b[38;5;241;43m.\u001b[39;49m\u001b[43mflat_call\u001b[49m\u001b[43m(\u001b[49m\u001b[43margs\u001b[49m\u001b[43m)\u001b[49m\n\u001b[1;32m   1265\u001b[0m forward_backward \u001b[38;5;241m=\u001b[39m \u001b[38;5;28mself\u001b[39m\u001b[38;5;241m.\u001b[39m_select_forward_and_backward_functions(\n\u001b[1;32m   1266\u001b[0m     args,\n\u001b[1;32m   1267\u001b[0m     possible_gradient_type,\n\u001b[1;32m   1268\u001b[0m     executing_eagerly)\n\u001b[1;32m   1269\u001b[0m forward_function, args_with_tangents \u001b[38;5;241m=\u001b[39m forward_backward\u001b[38;5;241m.\u001b[39mforward()\n",
      "File \u001b[0;32m~/anaconda3/envs/ml2/lib/python3.10/site-packages/tensorflow/python/eager/polymorphic_function/atomic_function.py:217\u001b[0m, in \u001b[0;36mAtomicFunction.flat_call\u001b[0;34m(self, args)\u001b[0m\n\u001b[1;32m    215\u001b[0m \u001b[38;5;28;01mdef\u001b[39;00m \u001b[38;5;21mflat_call\u001b[39m(\u001b[38;5;28mself\u001b[39m, args: Sequence[core\u001b[38;5;241m.\u001b[39mTensor]) \u001b[38;5;241m-\u001b[39m\u001b[38;5;241m>\u001b[39m Any:\n\u001b[1;32m    216\u001b[0m \u001b[38;5;250m  \u001b[39m\u001b[38;5;124;03m\"\"\"Calls with tensor inputs and returns the structured output.\"\"\"\u001b[39;00m\n\u001b[0;32m--> 217\u001b[0m   flat_outputs \u001b[38;5;241m=\u001b[39m \u001b[38;5;28;43mself\u001b[39;49m\u001b[43m(\u001b[49m\u001b[38;5;241;43m*\u001b[39;49m\u001b[43margs\u001b[49m\u001b[43m)\u001b[49m\n\u001b[1;32m    218\u001b[0m   \u001b[38;5;28;01mreturn\u001b[39;00m \u001b[38;5;28mself\u001b[39m\u001b[38;5;241m.\u001b[39mfunction_type\u001b[38;5;241m.\u001b[39mpack_output(flat_outputs)\n",
      "File \u001b[0;32m~/anaconda3/envs/ml2/lib/python3.10/site-packages/tensorflow/python/eager/polymorphic_function/atomic_function.py:252\u001b[0m, in \u001b[0;36mAtomicFunction.__call__\u001b[0;34m(self, *args)\u001b[0m\n\u001b[1;32m    250\u001b[0m \u001b[38;5;28;01mwith\u001b[39;00m record\u001b[38;5;241m.\u001b[39mstop_recording():\n\u001b[1;32m    251\u001b[0m   \u001b[38;5;28;01mif\u001b[39;00m \u001b[38;5;28mself\u001b[39m\u001b[38;5;241m.\u001b[39m_bound_context\u001b[38;5;241m.\u001b[39mexecuting_eagerly():\n\u001b[0;32m--> 252\u001b[0m     outputs \u001b[38;5;241m=\u001b[39m \u001b[38;5;28;43mself\u001b[39;49m\u001b[38;5;241;43m.\u001b[39;49m\u001b[43m_bound_context\u001b[49m\u001b[38;5;241;43m.\u001b[39;49m\u001b[43mcall_function\u001b[49m\u001b[43m(\u001b[49m\n\u001b[1;32m    253\u001b[0m \u001b[43m        \u001b[49m\u001b[38;5;28;43mself\u001b[39;49m\u001b[38;5;241;43m.\u001b[39;49m\u001b[43mname\u001b[49m\u001b[43m,\u001b[49m\n\u001b[1;32m    254\u001b[0m \u001b[43m        \u001b[49m\u001b[38;5;28;43mlist\u001b[39;49m\u001b[43m(\u001b[49m\u001b[43margs\u001b[49m\u001b[43m)\u001b[49m\u001b[43m,\u001b[49m\n\u001b[1;32m    255\u001b[0m \u001b[43m        \u001b[49m\u001b[38;5;28;43mlen\u001b[39;49m\u001b[43m(\u001b[49m\u001b[38;5;28;43mself\u001b[39;49m\u001b[38;5;241;43m.\u001b[39;49m\u001b[43mfunction_type\u001b[49m\u001b[38;5;241;43m.\u001b[39;49m\u001b[43mflat_outputs\u001b[49m\u001b[43m)\u001b[49m\u001b[43m,\u001b[49m\n\u001b[1;32m    256\u001b[0m \u001b[43m    \u001b[49m\u001b[43m)\u001b[49m\n\u001b[1;32m    257\u001b[0m   \u001b[38;5;28;01melse\u001b[39;00m:\n\u001b[1;32m    258\u001b[0m     outputs \u001b[38;5;241m=\u001b[39m make_call_op_in_graph(\n\u001b[1;32m    259\u001b[0m         \u001b[38;5;28mself\u001b[39m,\n\u001b[1;32m    260\u001b[0m         \u001b[38;5;28mlist\u001b[39m(args),\n\u001b[1;32m    261\u001b[0m         \u001b[38;5;28mself\u001b[39m\u001b[38;5;241m.\u001b[39m_bound_context\u001b[38;5;241m.\u001b[39mfunction_call_options\u001b[38;5;241m.\u001b[39mas_attrs(),\n\u001b[1;32m    262\u001b[0m     )\n",
      "File \u001b[0;32m~/anaconda3/envs/ml2/lib/python3.10/site-packages/tensorflow/python/eager/context.py:1479\u001b[0m, in \u001b[0;36mContext.call_function\u001b[0;34m(self, name, tensor_inputs, num_outputs)\u001b[0m\n\u001b[1;32m   1477\u001b[0m cancellation_context \u001b[38;5;241m=\u001b[39m cancellation\u001b[38;5;241m.\u001b[39mcontext()\n\u001b[1;32m   1478\u001b[0m \u001b[38;5;28;01mif\u001b[39;00m cancellation_context \u001b[38;5;129;01mis\u001b[39;00m \u001b[38;5;28;01mNone\u001b[39;00m:\n\u001b[0;32m-> 1479\u001b[0m   outputs \u001b[38;5;241m=\u001b[39m \u001b[43mexecute\u001b[49m\u001b[38;5;241;43m.\u001b[39;49m\u001b[43mexecute\u001b[49m\u001b[43m(\u001b[49m\n\u001b[1;32m   1480\u001b[0m \u001b[43m      \u001b[49m\u001b[43mname\u001b[49m\u001b[38;5;241;43m.\u001b[39;49m\u001b[43mdecode\u001b[49m\u001b[43m(\u001b[49m\u001b[38;5;124;43m\"\u001b[39;49m\u001b[38;5;124;43mutf-8\u001b[39;49m\u001b[38;5;124;43m\"\u001b[39;49m\u001b[43m)\u001b[49m\u001b[43m,\u001b[49m\n\u001b[1;32m   1481\u001b[0m \u001b[43m      \u001b[49m\u001b[43mnum_outputs\u001b[49m\u001b[38;5;241;43m=\u001b[39;49m\u001b[43mnum_outputs\u001b[49m\u001b[43m,\u001b[49m\n\u001b[1;32m   1482\u001b[0m \u001b[43m      \u001b[49m\u001b[43minputs\u001b[49m\u001b[38;5;241;43m=\u001b[39;49m\u001b[43mtensor_inputs\u001b[49m\u001b[43m,\u001b[49m\n\u001b[1;32m   1483\u001b[0m \u001b[43m      \u001b[49m\u001b[43mattrs\u001b[49m\u001b[38;5;241;43m=\u001b[39;49m\u001b[43mattrs\u001b[49m\u001b[43m,\u001b[49m\n\u001b[1;32m   1484\u001b[0m \u001b[43m      \u001b[49m\u001b[43mctx\u001b[49m\u001b[38;5;241;43m=\u001b[39;49m\u001b[38;5;28;43mself\u001b[39;49m\u001b[43m,\u001b[49m\n\u001b[1;32m   1485\u001b[0m \u001b[43m  \u001b[49m\u001b[43m)\u001b[49m\n\u001b[1;32m   1486\u001b[0m \u001b[38;5;28;01melse\u001b[39;00m:\n\u001b[1;32m   1487\u001b[0m   outputs \u001b[38;5;241m=\u001b[39m execute\u001b[38;5;241m.\u001b[39mexecute_with_cancellation(\n\u001b[1;32m   1488\u001b[0m       name\u001b[38;5;241m.\u001b[39mdecode(\u001b[38;5;124m\"\u001b[39m\u001b[38;5;124mutf-8\u001b[39m\u001b[38;5;124m\"\u001b[39m),\n\u001b[1;32m   1489\u001b[0m       num_outputs\u001b[38;5;241m=\u001b[39mnum_outputs,\n\u001b[0;32m   (...)\u001b[0m\n\u001b[1;32m   1493\u001b[0m       cancellation_manager\u001b[38;5;241m=\u001b[39mcancellation_context,\n\u001b[1;32m   1494\u001b[0m   )\n",
      "File \u001b[0;32m~/anaconda3/envs/ml2/lib/python3.10/site-packages/tensorflow/python/eager/execute.py:60\u001b[0m, in \u001b[0;36mquick_execute\u001b[0;34m(op_name, num_outputs, inputs, attrs, ctx, name)\u001b[0m\n\u001b[1;32m     53\u001b[0m   \u001b[38;5;66;03m# Convert any objects of type core_types.Tensor to Tensor.\u001b[39;00m\n\u001b[1;32m     54\u001b[0m   inputs \u001b[38;5;241m=\u001b[39m [\n\u001b[1;32m     55\u001b[0m       tensor_conversion_registry\u001b[38;5;241m.\u001b[39mconvert(t)\n\u001b[1;32m     56\u001b[0m       \u001b[38;5;28;01mif\u001b[39;00m \u001b[38;5;28misinstance\u001b[39m(t, core_types\u001b[38;5;241m.\u001b[39mTensor)\n\u001b[1;32m     57\u001b[0m       \u001b[38;5;28;01melse\u001b[39;00m t\n\u001b[1;32m     58\u001b[0m       \u001b[38;5;28;01mfor\u001b[39;00m t \u001b[38;5;129;01min\u001b[39;00m inputs\n\u001b[1;32m     59\u001b[0m   ]\n\u001b[0;32m---> 60\u001b[0m   tensors \u001b[38;5;241m=\u001b[39m \u001b[43mpywrap_tfe\u001b[49m\u001b[38;5;241;43m.\u001b[39;49m\u001b[43mTFE_Py_Execute\u001b[49m\u001b[43m(\u001b[49m\u001b[43mctx\u001b[49m\u001b[38;5;241;43m.\u001b[39;49m\u001b[43m_handle\u001b[49m\u001b[43m,\u001b[49m\u001b[43m \u001b[49m\u001b[43mdevice_name\u001b[49m\u001b[43m,\u001b[49m\u001b[43m \u001b[49m\u001b[43mop_name\u001b[49m\u001b[43m,\u001b[49m\n\u001b[1;32m     61\u001b[0m \u001b[43m                                      \u001b[49m\u001b[43minputs\u001b[49m\u001b[43m,\u001b[49m\u001b[43m \u001b[49m\u001b[43mattrs\u001b[49m\u001b[43m,\u001b[49m\u001b[43m \u001b[49m\u001b[43mnum_outputs\u001b[49m\u001b[43m)\u001b[49m\n\u001b[1;32m     62\u001b[0m \u001b[38;5;28;01mexcept\u001b[39;00m core\u001b[38;5;241m.\u001b[39m_NotOkStatusException \u001b[38;5;28;01mas\u001b[39;00m e:\n\u001b[1;32m     63\u001b[0m   \u001b[38;5;28;01mif\u001b[39;00m name \u001b[38;5;129;01mis\u001b[39;00m \u001b[38;5;129;01mnot\u001b[39;00m \u001b[38;5;28;01mNone\u001b[39;00m:\n",
      "\u001b[0;31mKeyboardInterrupt\u001b[0m: "
     ]
    }
   ],
   "source": [
    "# Fit the model\n",
    "history_all_classes_10_percent = model.fit(train_data_all_10_percent,\n",
    "                                           steps_per_epoch=len(train_data_all_10_percent),\n",
    "                                           epochs=5,\n",
    "                                           validation_data=test_data_all_10_percent,\n",
    "                                           validation_steps=int(0.15 * len(test_data_all_10_percent)), # Validate on only 15% of test data\n",
    "                                           callbacks=[model_checkpoint_callback])"
   ]
  },
  {
   "cell_type": "code",
   "execution_count": null,
   "metadata": {
    "ExecuteTime": {
     "end_time": "2023-09-01T19:15:25.898549Z",
     "start_time": "2023-09-01T19:06:33.384050Z"
    },
    "colab": {
     "base_uri": "https://localhost:8080/"
    },
    "id": "_0dPE9q9JpuR",
    "outputId": "de294c11-fa92-4a63-c405-3e019adad097"
   },
   "outputs": [],
   "source": [
    "fine_tuning_results = model.evaluate(test_data_all_10_percent)\n",
    "fine_tuning_results"
   ]
  },
  {
   "cell_type": "code",
   "execution_count": null,
   "metadata": {
    "ExecuteTime": {
     "start_time": "2023-09-01T19:22:07.983595Z"
    },
    "colab": {
     "base_uri": "https://localhost:8080/",
     "height": 1000
    },
    "id": "cj8__CbsJpuR",
    "outputId": "0f627386-483c-4cc7-aba7-cac0fc711f5b"
   },
   "outputs": [],
   "source": [
    "soml.tf.model.plot.plot_history(history=history_all_classes_10_percent)"
   ]
  },
  {
   "cell_type": "markdown",
   "metadata": {
    "collapsed": false,
    "id": "i-f7hE79JpuR",
    "jupyter": {
     "outputs_hidden": false
    }
   },
   "source": [
    "Seems to be overfitting, the validation accuracy is flattening but the training accuracy is still increasing."
   ]
  },
  {
   "cell_type": "markdown",
   "metadata": {
    "collapsed": false,
    "id": "VuY9HvNZJpuR",
    "jupyter": {
     "outputs_hidden": false
    }
   },
   "source": [
    "## Fine-tuning"
   ]
  },
  {
   "cell_type": "code",
   "execution_count": null,
   "metadata": {
    "ExecuteTime": {
     "end_time": "2023-09-01T19:15:27.854960Z",
     "start_time": "2023-09-01T19:15:27.790387Z"
    },
    "colab": {
     "base_uri": "https://localhost:8080/"
    },
    "id": "5igLuq8iJpuR",
    "outputId": "799b3539-ad19-487d-8284-af6911633c51"
   },
   "outputs": [],
   "source": [
    "# Unfreeze all of the layers in the baseline.\n",
    "base_model.trainable = False\n",
    "\n",
    "soml.tf.model.layer.set_trainable_on_last_n_layers(model=base_model, n=5, trainable=True)\n",
    "\n",
    "soml.tf.model.layer.list_model(model=base_model)"
   ]
  },
  {
   "cell_type": "code",
   "execution_count": null,
   "metadata": {
    "ExecuteTime": {
     "end_time": "2023-09-01T19:15:27.921789Z",
     "start_time": "2023-09-01T19:15:27.797705Z"
    },
    "id": "XB4-D9dyJpuS"
   },
   "outputs": [],
   "source": [
    "# Recompile model with lower learning rate\n",
    "model.compile(loss=categorical_crossentropy,\n",
    "              optimizer=Adam(learning_rate=0.0001),\n",
    "              metrics=[\"accuracy\"])"
   ]
  },
  {
   "cell_type": "code",
   "execution_count": null,
   "metadata": {
    "ExecuteTime": {
     "start_time": "2023-09-01T19:15:27.923944Z"
    },
    "colab": {
     "base_uri": "https://localhost:8080/"
    },
    "id": "zd6kx7UsJpuS",
    "outputId": "d8edafbb-8b1b-417d-c1fa-8fa44952834d"
   },
   "outputs": [],
   "source": [
    "# Fine tune for 5 more epochs.\n",
    "\n",
    "fine_tune_epochs = 10 # Model has already done 5 epochs (feature extraction), this is the total number of epochs we're after (feature extraction is 5, fine-tune is 5 so 10 in total\n",
    "\n",
    "\n",
    "history_all_classes_10_percent_fine_tune = model.fit(train_data_all_10_percent,\n",
    "                                                     steps_per_epoch=len(train_data_all_10_percent),\n",
    "                                                     epochs=fine_tune_epochs,\n",
    "                                                     initial_epoch=history_all_classes_10_percent.epoch[-1] + 1,\n",
    "                                                     validation_data=test_data_all_10_percent,\n",
    "                                                     validation_steps=int(0.15 * len(test_data_all_10_percent)))"
   ]
  },
  {
   "cell_type": "code",
   "execution_count": null,
   "metadata": {
    "ExecuteTime": {
     "start_time": "2023-09-01T19:22:07.981338Z"
    },
    "colab": {
     "base_uri": "https://localhost:8080/"
    },
    "id": "NaeAoLZLaKhG",
    "outputId": "5c93ce7d-37dc-4d3a-e773-cafe2e7941db"
   },
   "outputs": [],
   "source": [
    "all_classes_10_percent_fine_tune_results = model.evaluate(test_data_all_10_percent)\n",
    "all_classes_10_percent_fine_tune_results"
   ]
  },
  {
   "cell_type": "code",
   "execution_count": null,
   "metadata": {
    "ExecuteTime": {
     "start_time": "2023-09-01T19:22:07.982514Z"
    },
    "colab": {
     "base_uri": "https://localhost:8080/",
     "height": 1000
    },
    "id": "cNf3KlHQaRv2",
    "outputId": "a335ff30-ea61-4d82-d123-0b0bac7b607e"
   },
   "outputs": [],
   "source": [
    "soml.tf.model.plot.plot_consecutive_histories(histories=[history_all_classes_10_percent,history_all_classes_10_percent_fine_tune], labels=[\"base\", \"fine-tune\"] )"
   ]
  },
  {
   "cell_type": "markdown",
   "metadata": {
    "id": "8brJ0WLnJpuS"
   },
   "source": [
    "## Saving and loading our model\n",
    "\n",
    "To use our model in an external application we'll need to save it and export it somewhere."
   ]
  },
  {
   "cell_type": "code",
   "execution_count": null,
   "metadata": {
    "id": "NIphBvylJpuS"
   },
   "outputs": [],
   "source": [
    "# Save our fine tuned model\n",
    "model.save(\"./models/101_food_classes_10_percent_saved_big_dog_model\", save_format=\"h5\")\n",
    "\n",
    "# This will fail, due to a bug that is still present in TF version 2.12.0"
   ]
  },
  {
   "cell_type": "code",
   "execution_count": null,
   "metadata": {
    "colab": {
     "base_uri": "https://localhost:8080/"
    },
    "id": "kLAaxh0pZc5m",
    "outputId": "a41b1fb8-8646-4cc9-d3e6-db19a9eaab43"
   },
   "outputs": [],
   "source": [
    "# Load and evaluate saved model\n",
    "loaded_model = tf.keras.models.load_model(\"./models/101_food_classes_10_percent_saved_big_dog_model\")"
   ]
  },
  {
   "cell_type": "code",
   "execution_count": null,
   "metadata": {
    "colab": {
     "base_uri": "https://localhost:8080/"
    },
    "id": "0R3A9zzgZrSl",
    "outputId": "1162ccbe-a823-4628-d5a7-06126653358a"
   },
   "outputs": [],
   "source": [
    "# Evaluate loaded model and compare performance to pre-saved model\n",
    "loaded_model_result = loaded_model.evaluate(test_data_all_10_percent)\n",
    "loaded_model_result"
   ]
  },
  {
   "cell_type": "code",
   "execution_count": null,
   "metadata": {
    "colab": {
     "base_uri": "https://localhost:8080/"
    },
    "id": "l0LiOT9IZrJn",
    "outputId": "7a2e73db-38af-4bf1-afb5-c5e9d3b663d3"
   },
   "outputs": [],
   "source": [
    "# The results from our loaded model (above) should be very similar to the results below.\n",
    "all_classes_10_percent_fine_tune_results"
   ]
  },
  {
   "cell_type": "code",
   "execution_count": null,
   "metadata": {
    "colab": {
     "base_uri": "https://localhost:8080/"
    },
    "id": "a8EtcuGn1Ued",
    "outputId": "19998159-6949-4178-ccaf-46e4c5bec1c8"
   },
   "outputs": [],
   "source": [
    "soml.util.io.download_file(source='https://storage.googleapis.com/ztm_tf_course/food_vision/06_101_food_class_10_percent_saved_big_dog_model.zip', filepath='./06_101_food_class_10_percent_saved_big_dog_model.zip')\n",
    "soml.util.io.extract_zip(filepath='./06_101_food_class_10_percent_saved_big_dog_model.zip')\n",
    "model = tf.keras.models.load_model('./data/06_101_food_class_10_percent_saved_big_dog_model')"
   ]
  },
  {
   "cell_type": "code",
   "execution_count": null,
   "metadata": {
    "colab": {
     "base_uri": "https://localhost:8080/"
    },
    "id": "FJFbMFsC_xbt",
    "outputId": "6b5e0b96-a056-4938-9412-c07d103ab14b"
   },
   "outputs": [],
   "source": [
    "loaded_accuracy = model.evaluate(test_data_all_10_percent)"
   ]
  },
  {
   "cell_type": "code",
   "execution_count": null,
   "metadata": {
    "colab": {
     "base_uri": "https://localhost:8080/"
    },
    "id": "VVhZWK-MbBSy",
    "outputId": "7f858f54-6cf8-46bc-8d7a-b4ced43cecaf"
   },
   "outputs": [],
   "source": [
    "loaded_accuracy"
   ]
  },
  {
   "cell_type": "code",
   "execution_count": null,
   "metadata": {
    "colab": {
     "base_uri": "https://localhost:8080/"
    },
    "id": "Bqr7Dv7c14ri",
    "outputId": "387ddf03-2b2b-4eba-ac00-f7cdecafea56"
   },
   "outputs": [],
   "source": [
    "# Make predictions with model\n",
    "pred_probs = model.predict(test_data_all_10_percent, verbose=1) # set verbosity to see how long it will take "
   ]
  },
  {
   "cell_type": "code",
   "execution_count": null,
   "metadata": {
    "colab": {
     "base_uri": "https://localhost:8080/"
    },
    "id": "VlLOjhiffzrS",
    "outputId": "4fcbca7c-9b0a-43a1-868e-194a8e48ca7a"
   },
   "outputs": [],
   "source": [
    "# How many predictions are there?\n",
    "len(pred_probs)"
   ]
  },
  {
   "cell_type": "code",
   "execution_count": null,
   "metadata": {
    "colab": {
     "base_uri": "https://localhost:8080/"
    },
    "id": "hBh8OzBW0rop",
    "outputId": "9f65bfe5-8c26-4a8b-bf2d-126fcbb51666"
   },
   "outputs": [],
   "source": [
    "# What's the shape of our predictions?\n",
    "pred_probs.shape"
   ]
  },
  {
   "cell_type": "code",
   "execution_count": null,
   "metadata": {
    "colab": {
     "base_uri": "https://localhost:8080/"
    },
    "id": "yWIaMVOj0vOJ",
    "outputId": "deecfd31-4c0a-42aa-90ab-ce08cc94fc20"
   },
   "outputs": [],
   "source": [
    "# How do they look?\n",
    "pred_probs[:10]"
   ]
  },
  {
   "cell_type": "code",
   "execution_count": null,
   "metadata": {
    "colab": {
     "base_uri": "https://localhost:8080/"
    },
    "id": "9R_PXdr80ysu",
    "outputId": "18a34e96-4976-441b-a2f0-064240c5f3ea"
   },
   "outputs": [],
   "source": [
    "# We get one prediction probability per class\n",
    "print(f\"Number of prediction probabilities for sample 0: {len(pred_probs[0])}\")\n",
    "print(f\"What prediction probability sample 0 looks like:\\n {pred_probs[0]}\")\n",
    "print(f\"The class with the highest predicted probability by the model for sample 0: {pred_probs[0].argmax()}\")"
   ]
  },
  {
   "cell_type": "code",
   "execution_count": null,
   "metadata": {
    "id": "4zf5oufw022f"
   },
   "outputs": [],
   "source": [
    "# Note: This might take a minute or so due to unravelling 790 batches\n",
    "y_labels = soml.tf.dataset.get_labels(dataset=test_data_all_10_percent)"
   ]
  },
  {
   "cell_type": "code",
   "execution_count": null,
   "metadata": {
    "colab": {
     "base_uri": "https://localhost:8080/"
    },
    "id": "dPS6CsHMaxwL",
    "outputId": "8785109c-6e15-4d43-9cfa-2809c7809da3"
   },
   "outputs": [],
   "source": [
    "pred_classes = pred_probs.argmax(axis=1)\n",
    "pred_classes"
   ]
  },
  {
   "cell_type": "code",
   "execution_count": null,
   "metadata": {},
   "outputs": [],
   "source": [
    "len(y_labels)"
   ]
  },
  {
   "cell_type": "code",
   "execution_count": null,
   "metadata": {},
   "outputs": [],
   "source": []
  },
  {
   "cell_type": "code",
   "execution_count": null,
   "metadata": {
    "colab": {
     "base_uri": "https://localhost:8080/"
    },
    "id": "qUiY_m9r07KB",
    "outputId": "52dbbe90-201f-4a12-f5bd-8cbd41b5ff6c"
   },
   "outputs": [],
   "source": [
    "# Get accuracy score by comparing predicted classes to ground truth labels\n",
    "from sklearn.metrics import accuracy_score\n",
    "sklearn_accuracy = accuracy_score(y_labels, pred_classes)\n",
    "sklearn_accuracy"
   ]
  },
  {
   "cell_type": "code",
   "execution_count": null,
   "metadata": {
    "colab": {
     "base_uri": "https://localhost:8080/"
    },
    "id": "_HVTNQX809Xn",
    "outputId": "81775f3b-973b-4086-b50d-88eb3d334cb0"
   },
   "outputs": [],
   "source": [
    "# Does the evaluate method compare to the Scikit-Learn measured accuracy?\n",
    "import numpy as np\n",
    "\n",
    "# Remember the loaded_accurac consists of two values, second value is the accuracy.\n",
    "print(f\"Close? {np.isclose(loaded_accuracy[1], sklearn_accuracy)} | Difference: {loaded_accuracy[1] - sklearn_accuracy}\")"
   ]
  },
  {
   "cell_type": "code",
   "execution_count": null,
   "metadata": {
    "colab": {
     "base_uri": "https://localhost:8080/"
    },
    "id": "Twq4aPqe17Cd",
    "outputId": "22686ff6-a700-4ed1-8d16-b13b0199dbdb"
   },
   "outputs": [],
   "source": [
    "# Get the class names\n",
    "class_names = test_data_all_10_percent.class_names\n",
    "class_names"
   ]
  },
  {
   "cell_type": "code",
   "execution_count": null,
   "metadata": {
    "colab": {
     "base_uri": "https://localhost:8080/",
     "height": 1000
    },
    "id": "_1TXk5a3_8Co",
    "outputId": "c3ef7bf7-84ac-45cf-8e21-d9b9389a6eb3"
   },
   "outputs": [],
   "source": [
    "soml.multiclass.plot.confusion_matrix(y_true=y_labels, y_pred=pred_probs, class_names=class_names, figsize=(100, 100), text_size=20)"
   ]
  },
  {
   "cell_type": "markdown",
   "metadata": {
    "id": "xTJ1t7eaT9pp"
   },
   "source": [
    "## Let's keep the evaluation train going, time for a classification report\n",
    "\n",
    "Scikit-learn has a helpful function for acquiring many different classification metrics per class (e.g. precision, recall and F1) called classifiction report.\n",
    "\n",
    "https://scikit-learn.org/stable/modules/generated/sklearn.metrics.classification_report.html"
   ]
  },
  {
   "cell_type": "code",
   "execution_count": null,
   "metadata": {
    "colab": {
     "base_uri": "https://localhost:8080/"
    },
    "id": "K0Jq1t5AUJfA",
    "outputId": "9a02e0d0-a2f8-4448-edfc-68082ffa16cc"
   },
   "outputs": [],
   "source": [
    "from sklearn.metrics import classification_report\n",
    "print(classification_report(y_true=y_labels, y_pred=pred_classes, target_names=class_names))"
   ]
  },
  {
   "cell_type": "markdown",
   "metadata": {
    "id": "bxKKnhv9XH3d"
   },
   "source": [
    "The numbers above give a greate class-by-class evaluation of our model's predictions but with so many classes, they're quite hard to understand.\n",
    "\n",
    "Let's visualize the data."
   ]
  },
  {
   "cell_type": "markdown",
   "metadata": {
    "id": "GOFeIPJGZWzr"
   },
   "source": [
    "## Let's plot all of our classes F1-scores..."
   ]
  },
  {
   "cell_type": "code",
   "execution_count": null,
   "metadata": {
    "colab": {
     "base_uri": "https://localhost:8080/",
     "height": 1000
    },
    "id": "macCJeTDdlVc",
    "outputId": "02ba5e3e-4eb5-4aef-c2e6-fd834840bf2b"
   },
   "outputs": [],
   "source": [
    "soml.multiclass.plot.f1_score_chart(y_true=y_labels, y_pred=pred_probs, class_names=class_names, figsize=(8,40))"
   ]
  },
  {
   "cell_type": "markdown",
   "metadata": {
    "id": "isfwMLfLwXVi"
   },
   "source": [
    "## Visualizing predictions on custom images\n",
    "\n",
    "Now, this is the real test, how does our model go on food images not even in our test dataset (images of our own)\n",
    "\n",
    "To visualize our model's predictions on our own images we'l need a function to load and preprocess images, specifically it will need to:\n",
    "* Read in a target image filepath using t.f.io.read_file_path\n",
    "* Turn the image into a Tensor using tf.io.decode_image\n",
    "* Resize the image tensor to be the same size as the images our model has trained on using tf.image.rezise()\n",
    "* Scale the image to get all of the pixel values between 0 & 1 (if necessary)"
   ]
  },
  {
   "cell_type": "code",
   "execution_count": null,
   "metadata": {
    "id": "da7LesO91dxh"
   },
   "outputs": [],
   "source": [
    "# See function definition in mli.load_image_as_tensor"
   ]
  },
  {
   "cell_type": "markdown",
   "metadata": {
    "id": "Quq2zyh75pDc"
   },
   "source": [
    "Now we've got our function to load and prepare target images, let's now write some code to visualize inmages, their target label and our model's predictions.\n",
    "\n",
    "Specifically, we'll write some code to:\n",
    "1. Load a few random images from the test dataset\n",
    "2. Make predictions on the loaded images\n",
    "3. Plot the original image(s) along with the model's predictions, prediction probability and truth label"
   ]
  },
  {
   "cell_type": "code",
   "execution_count": null,
   "metadata": {
    "colab": {
     "base_uri": "https://localhost:8080/",
     "height": 500
    },
    "id": "KKMKgbzf58oN",
    "outputId": "c419655d-06c9-47e2-83b2-a016f7be340a"
   },
   "outputs": [],
   "source": [
    "# Make preds on a series of images\n",
    "import os\n",
    "import random\n",
    "\n",
    "plt.figure(figsize=(17, 10))\n",
    "for i in range(3):\n",
    "  # Choose a random image from a random class\n",
    "  class_name = random.choice(class_names)\n",
    "  filename = random.choice(os.listdir(os.path.join(test_dir, class_name)))\n",
    "  filepath = os.path.join(test_dir, class_name, filename)\n",
    "  \n",
    "  # Load the image and make predictions\n",
    "  img = soml.util.io.load_image_as_tensor(filename=filepath, scale=False)\n",
    "  pred_prob = model.predict(tf.expand_dims(img, axis=0)) # Get prediction probabilities array\n",
    "  pred_class = class_names[pred_prob.argmax()] # Get highest probability index\n",
    "  \n",
    "  # Plot images\n",
    "  rows = 1\n",
    "  cols = 3\n",
    "  plt.subplot(rows, cols, i+1)\n",
    "  plt.imshow(img)\n",
    "  if class_name == pred_class: # If predicted class matches true class make tekst green\n",
    "    title_color = \"g\"\n",
    "  else:\n",
    "    title_color = \"r\"\n",
    "  plt.title(f\"actual: {class_name}, pred: {pred_class}, prob: {pred_prob.max():.2f}\", c=title_color)\n",
    "  plt.axis(False)\n"
   ]
  },
  {
   "cell_type": "markdown",
   "metadata": {
    "id": "TCw7aWlN7eW1"
   },
   "source": [
    "## Finding the most wrong predictions\n",
    "\n",
    "To find out where our model is most wrong, let's write some code to find out the following:\n",
    "1. Get all of the image file paths in the test dataset using list_files() method.\n",
    "2. Create a pandas DataFrame of the image filepaths, grund truth labels, predicted classes (from our model), max predictions probabilities, ground truth class names.\n",
    "3. Use our DataFrame to find all the wrong predictions (where the ground truth label doesn';t math the prediction).\n",
    "4. Sort the DataFrame based on wrong predictions (have the highest prediction probability predictions at the top)./\n",
    "5. Visualize the images with the highest prediction probabilities but have the wrong predction."
   ]
  },
  {
   "cell_type": "code",
   "execution_count": null,
   "metadata": {
    "colab": {
     "base_uri": "https://localhost:8080/"
    },
    "id": "SdoiOQCHJumW",
    "outputId": "c3947ed6-633b-475c-fcda-cddaa480d431"
   },
   "outputs": [],
   "source": [
    "# Get all of the image file paths in the test dataset.\n",
    "import os\n",
    "\n",
    "filepaths = []\n",
    "for filepath in test_data_all_10_percent.list_files(os.path.join(test_dir, '*', '*.jpg'), shuffle=False):\n",
    "  filepaths.append(filepath.numpy())\n",
    "\n",
    "filepaths[:10]"
   ]
  },
  {
   "cell_type": "code",
   "execution_count": null,
   "metadata": {
    "colab": {
     "base_uri": "https://localhost:8080/",
     "height": 424
    },
    "id": "0dbg3NjfJuP7",
    "outputId": "1e7165c8-a5c4-4a30-d5c3-4f67e00411dc"
   },
   "outputs": [],
   "source": [
    "import pandas as pd\n",
    "pred_pd = pd.DataFrame({\"image_path\": filepaths,\n",
    "                        \"y_true\": y_labels,\n",
    "                        \"y_pred\": pred_classes,\n",
    "                        \"pred_conf\": pred_probs.max(axis=1),\n",
    "                        \"y_true_classname\" : [class_names[i] for i in y_labels],\n",
    "                        \"y_pred_classn\": [class_names[i] for i in pred_classes]})\n",
    "\n",
    "pred_pd"
   ]
  },
  {
   "cell_type": "code",
   "execution_count": null,
   "metadata": {
    "colab": {
     "base_uri": "https://localhost:8080/",
     "height": 206
    },
    "id": "dxJNFjCGqbaR",
    "outputId": "e4785270-46a6-4a3c-ad20-17b538beaa42"
   },
   "outputs": [],
   "source": [
    "# 3. Find out in our DataFrame which predictions are wrong\n",
    "pred_pd[\"pred_correct\"] = pred_pd[\"y_true\"] == pred_pd[\"y_pred\"]\n",
    "pred_pd.head()"
   ]
  },
  {
   "cell_type": "code",
   "execution_count": null,
   "metadata": {
    "colab": {
     "base_uri": "https://localhost:8080/",
     "height": 424
    },
    "id": "189NzGpAq9rO",
    "outputId": "64d8dbc1-f973-497d-d9b5-028b9edef42b"
   },
   "outputs": [],
   "source": [
    "# 4. Sort our dataframe to have most wrong predictions at the top.\n",
    "pred_pd_top_100 = pred_pd[pred_pd[\"pred_correct\"] == False ].sort_values(\"pred_conf\", ascending=False)[:100]\n",
    "pred_pd_top_100"
   ]
  },
  {
   "cell_type": "code",
   "execution_count": null,
   "metadata": {
    "colab": {
     "base_uri": "https://localhost:8080/",
     "height": 829
    },
    "id": "UgkEcueGrX18",
    "outputId": "d1fef2da-05e1-46db-8c8e-e05e40c439d7"
   },
   "outputs": [],
   "source": [
    "# 5. Visualize the test data samples which have the wrong prediction but highes pred probability.\n",
    "# Make preds on a series of images\n",
    "images_to_view = 9\n",
    "start_index = 0\n",
    "plt.figure(figsize=(20, 10))\n",
    "for i, row in enumerate(pred_pd_top_100[start_index:start_index+images_to_view].itertuples()):\n",
    "  plt.subplot(3, 3, i+1)\n",
    "  img = soml.util.io.load_image_as_tensor(row[1], scale=False)\n",
    "  _, _, _, _, pred_prob, y_true_classname, y_pred_classname, _ = row # Only interested in a few parameters of each row.\n",
    "  plt.imshow(img)\n",
    "  plt.title(f\"actual: {y_true_classname}, pred: {y_pred_classname}, prob: {pred_prob:.2f}\")\n",
    "  plt.axis(False)"
   ]
  },
  {
   "cell_type": "markdown",
   "metadata": {
    "id": "jhBTn4CaspzL"
   },
   "source": [
    "## Test out the big dog model on our own custom images"
   ]
  },
  {
   "cell_type": "code",
   "execution_count": null,
   "metadata": {
    "colab": {
     "base_uri": "https://localhost:8080/"
    },
    "id": "jmrvty6LyZ0h",
    "outputId": "ff12c8b3-e78c-4108-efa0-74d43a8b3cfa"
   },
   "outputs": [],
   "source": [
    "# Get custom images\n",
    "soml.util.io.download_file(source='https://storage.googleapis.com/ztm_tf_course/food_vision/custom_food_images.zip',\n",
    "                  filepath='custom_food_images.zip')\n",
    "soml.util.io.extract_zip(filepath='custom_food_images.zip')\n",
    "soml.util.io.list_dir_summary(folder='custom_food_images')"
   ]
  },
  {
   "cell_type": "code",
   "execution_count": null,
   "metadata": {
    "colab": {
     "base_uri": "https://localhost:8080/"
    },
    "id": "7C6GlTvQzAcD",
    "outputId": "3cccc77a-fa8d-4737-f84f-446fbb6bf35f"
   },
   "outputs": [],
   "source": [
    "# Get the custom food images file path\n",
    "custom_food_images = [\"custom_food_images/\" + img_path for img_path in os.listdir(\"/content/custom_food_images\")]\n",
    "custom_food_images"
   ]
  },
  {
   "cell_type": "code",
   "execution_count": null,
   "metadata": {
    "colab": {
     "base_uri": "https://localhost:8080/",
     "height": 1000
    },
    "id": "UA6Z-lDazaGF",
    "outputId": "2965b948-7e3c-4759-d7b2-94bdee6b0578"
   },
   "outputs": [],
   "source": [
    "# Make and plot custom food images\n",
    "for filename in custom_food_images:\n",
    "  img = soml.util.io.load_image_as_tensor(filename, scale=False)\n",
    "  pred_prob = model.predict(tf.expand_dims(img, axis=0)) # Make prediction on image with shape [1, 224, 224, 3]\n",
    "  pred_class = class_names[pred_prob.argmax()] # Get the index with the highest probability\n",
    "  # Plot the appropriate information\n",
    "  plt.figure()\n",
    "  plt.imshow(img)\n",
    "  plt.title(f\"pred: {pred_class}, probs: {pred_prob.max():.2f}\")\n",
    "  plt.axis(False)\n",
    "\n",
    "\n"
   ]
  },
  {
   "cell_type": "markdown",
   "metadata": {
    "id": "vEdUXwSSSXPA"
   },
   "source": [
    "## Assignment: Perform first model but with mixed_precision enabled"
   ]
  },
  {
   "cell_type": "code",
   "execution_count": null,
   "metadata": {
    "colab": {
     "base_uri": "https://localhost:8080/"
    },
    "id": "Lo-NH6HKZLjA",
    "outputId": "c8240a42-52ba-4f4f-8f65-abb57a96f553"
   },
   "outputs": [],
   "source": [
    "from keras import mixed_precision\n",
    "from keras.layers import Activation\n",
    "\n",
    "# Configure system to use mixed-precision\n",
    "policy = mixed_precision.Policy(\"mixed_float16\")\n",
    "mixed_precision.set_global_policy(policy)\n",
    "\n",
    "# Setup base model and freeze its layers (this will extract features)\n",
    "base_model = tf.keras.applications.efficientnet_v2.EfficientNetV2B0(include_top=False)\n",
    "base_model.trainable = False\n",
    "\n",
    "# Setup model architecture with trainable layers on top\n",
    "input_layer = Input(shape=IMG_SIZE + (3,), name=\"input_layer\")\n",
    "x = data_augementation_layer(input_layer) # Augment images\n",
    "x = base_model(x, training=False) # Put the base model in inference mode so weights need to stay frozen\n",
    "x = GlobalAveragePooling2D(name=\"global_average_pooling_2d\")(x)\n",
    "\n",
    "# Very important, when using mixed precision, make sure the activation is done seperatly especially on\n",
    "# the last layer.\n",
    "#\n",
    "# see: https://www.tensorflow.org/guide/mixed_precision\n",
    "x = Dense(len(train_data_all_10_percent.class_names), name=\"output_layer\")(x)\n",
    "output_layer = Activation('softmax', dtype='float32')(x)\n",
    "\n",
    "model = Model(input_layer, output_layer)\n",
    "\n",
    "# Compile the model\n",
    "model.compile(loss=categorical_crossentropy,\n",
    "                optimizer=Adam(),\n",
    "                metrics=[\"accuracy\"])\n",
    "\n",
    "model.summary()"
   ]
  },
  {
   "cell_type": "code",
   "execution_count": null,
   "metadata": {
    "colab": {
     "base_uri": "https://localhost:8080/"
    },
    "id": "p75fr20-cOgg",
    "outputId": "733b2ffe-dff7-4e05-8b9d-15fa5e4fedb7"
   },
   "outputs": [],
   "source": [
    "# Fit the model\n",
    "history_all_classes_10_percent = model.fit(train_data_all_10_percent,\n",
    "                                           steps_per_epoch=len(train_data_all_10_percent),\n",
    "                                           epochs=5,\n",
    "                                           validation_data=test_data_all_10_percent,\n",
    "                                           validation_steps=int(0.15 * len(test_data_all_10_percent)), # Validate on only 15% of test data\n",
    "                                           callbacks=[model_checkpoint_callback])"
   ]
  },
  {
   "cell_type": "code",
   "execution_count": null,
   "metadata": {
    "colab": {
     "base_uri": "https://localhost:8080/"
    },
    "id": "w4jMbd3-cLlj",
    "outputId": "20aedc2c-65e3-4fd3-e5e0-3cff545defe3"
   },
   "outputs": [],
   "source": [
    "# Evaluate teh model                                           \n",
    "mixed_precision_results = model.evaluate(test_data_all_10_percent)\n",
    "mixed_precision_results"
   ]
  },
  {
   "cell_type": "code",
   "execution_count": null,
   "metadata": {
    "colab": {
     "base_uri": "https://localhost:8080/"
    },
    "id": "FFvt28MdcExM",
    "outputId": "4cb0e44e-fae6-4b2b-b136-981d7de99f1a"
   },
   "outputs": [],
   "source": [
    "# compare with fine tuning results\n",
    "fine_tuning_results"
   ]
  },
  {
   "cell_type": "code",
   "execution_count": null,
   "metadata": {
    "colab": {
     "base_uri": "https://localhost:8080/",
     "height": 1000
    },
    "id": "0BzYOMN-cVfp",
    "outputId": "d747cf90-a27c-470c-89bf-7560c1432d95"
   },
   "outputs": [],
   "source": [
    "soml.tf.model.plot.plot_history(history=history_all_classes_10_percent)"
   ]
  },
  {
   "cell_type": "code",
   "execution_count": null,
   "metadata": {
    "id": "5C-skqKshjb9"
   },
   "outputs": [],
   "source": []
  }
 ],
 "metadata": {
  "accelerator": "GPU",
  "colab": {
   "gpuType": "T4",
   "provenance": []
  },
  "gpuClass": "standard",
  "kernelspec": {
   "display_name": "Python 3 (ipykernel)",
   "language": "python",
   "name": "python3"
  },
  "language_info": {
   "codemirror_mode": {
    "name": "ipython",
    "version": 3
   },
   "file_extension": ".py",
   "mimetype": "text/x-python",
   "name": "python",
   "nbconvert_exporter": "python",
   "pygments_lexer": "ipython3",
   "version": "3.10.13"
  }
 },
 "nbformat": 4,
 "nbformat_minor": 4
}
