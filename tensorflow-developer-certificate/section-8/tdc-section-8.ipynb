{
 "cells": [
  {
   "cell_type": "code",
   "execution_count": 1,
   "metadata": {
    "ExecuteTime": {
     "end_time": "2023-09-01T18:40:37.840470Z",
     "start_time": "2023-09-01T18:40:36.310215Z"
    },
    "colab": {
     "base_uri": "https://localhost:8080/"
    },
    "id": "tCrnhZPwJpuO",
    "outputId": "46c2f5e8-2503-49b9-b37c-e6f5cd92f615"
   },
   "outputs": [
    {
     "name": "stderr",
     "output_type": "stream",
     "text": [
      "2023-09-11 09:23:32.152705: W tensorflow/compiler/tf2tensorrt/utils/py_utils.cc:38] TF-TRT Warning: Could not find TensorRT\n"
     ]
    }
   ],
   "source": [
    "%load_ext autoreload\n",
    "%autoreload 2\n",
    "    \n",
    "import so_ml_tools as soml\n",
    "\n",
    "import tensorflow as tf\n",
    "import matplotlib.pyplot as plt\n",
    "\n",
    "from keras import Sequential, Model\n",
    "from keras.optimizers import Adam\n",
    "from keras.layers import Dense, RandomFlip, RandomZoom, RandomHeight, \\\n",
    "    RandomWidth, RandomRotation, Input, GlobalAveragePooling2D\n",
    "from keras.losses import categorical_crossentropy\n",
    "from keras.utils import image_dataset_from_directory"
   ]
  },
  {
   "cell_type": "markdown",
   "metadata": {
    "collapsed": false,
    "id": "pRQzfEq4JpuP",
    "jupyter": {
     "outputs_hidden": false
    }
   },
   "source": [
    "## Transfer learning with TensorFlow Part 3: Scaling up (Food vision mini)\n",
    "\n",
    "We've seen the power of transfer learning feature extraction and fine-tuning, now it's time to scale up to all of the classes in Food101 (101 total classes of food).\n",
    "\n",
    "Our goal is to beat the original Food101 paper with 10% of the training (leveraging our power of deep learning)."
   ]
  },
  {
   "cell_type": "markdown",
   "metadata": {
    "collapsed": false,
    "id": "bpCxfi9WJpuP",
    "jupyter": {
     "outputs_hidden": false
    }
   },
   "source": [
    "## 101 Food Classes: working with less data\n",
    "\n",
    "The data we're downloading comes from the origial food 101-dataset but has been preprocessed using the image_data_modification notebook - https://github.com/mrdbourke/tensorflow-deep-learning/blob/main/extras/image_data_modification.ipynb"
   ]
  },
  {
   "cell_type": "code",
   "execution_count": null,
   "metadata": {
    "ExecuteTime": {
     "end_time": "2023-09-01T18:42:24.880500Z",
     "start_time": "2023-09-01T18:41:30.199591Z"
    },
    "id": "1Hx8GhzqJpuP"
   },
   "outputs": [
    {
     "name": "stdout",
     "output_type": "stream",
     "text": [
      "Download of https://storage.googleapis.com/ztm_tf_course/food_vision/101_food_classes_10_percent.zip skipped, file ./101_food_classes_10_percent.zip exists.\n"
     ]
    }
   ],
   "source": [
    "soml.util.io.download_file(source='https://storage.googleapis.com/ztm_tf_course/food_vision/101_food_classes_10_percent.zip', filepath='./101_food_classes_10_percent.zip')\n",
    "soml.util.io.extract_zip(filepath='./101_food_classes_10_percent.zip', folder='./data')\n",
    "\n",
    "train_dir = './data/101_food_classes_10_percent/train'\n",
    "test_dir = './data/101_food_classes_10_percent/test'"
   ]
  },
  {
   "cell_type": "code",
   "execution_count": null,
   "metadata": {
    "ExecuteTime": {
     "end_time": "2023-09-01T18:43:02.392842Z",
     "start_time": "2023-09-01T18:43:02.318243Z"
    },
    "colab": {
     "base_uri": "https://localhost:8080/"
    },
    "id": "c3dxX7WdJpuP",
    "outputId": "d7feec79-1ee1-406f-ed34-233a89228a5a"
   },
   "outputs": [],
   "source": [
    "soml.util.io.list_dir_summary(folder='./data/101_food_classes_10_percent')"
   ]
  },
  {
   "cell_type": "code",
   "execution_count": null,
   "metadata": {
    "ExecuteTime": {
     "end_time": "2023-09-01T18:43:06.380470Z",
     "start_time": "2023-09-01T18:43:04.574309Z"
    },
    "colab": {
     "base_uri": "https://localhost:8080/"
    },
    "id": "QA-2eeXeJpuP",
    "outputId": "1da179f7-5400-4253-de86-3bef8d999434"
   },
   "outputs": [],
   "source": [
    "# Setup data inputs\n",
    "IMG_SIZE = (224, 224)\n",
    "\n",
    "train_data_all_10_percent = image_dataset_from_directory(directory=train_dir,\n",
    "                                                         label_mode='categorical',\n",
    "                                                         image_size=IMG_SIZE,\n",
    "                                                         batch_size=16)\n",
    "\n",
    "test_data_all_10_percent = image_dataset_from_directory(directory=test_dir,\n",
    "                                                         label_mode='categorical',\n",
    "                                                         image_size=IMG_SIZE,\n",
    "                                                         batch_size=16,\n",
    "                                                         shuffle=False) # Don't shuffle test data for prediction analysis"
   ]
  },
  {
   "cell_type": "markdown",
   "metadata": {
    "collapsed": false,
    "id": "WwFir1AVJpuQ",
    "jupyter": {
     "outputs_hidden": false
    }
   },
   "source": [
    "# Train a big dog model with transfer learning on 10% of 101 Food classes.\n",
    "\n",
    "Here are the steps we are going to do first.\n",
    "* Create a ModelCheckpoint callback\n",
    "* Create a data augmentation layer to build data augmentation right into the model\n",
    "* Build a headless (no top layers) Functional EfficientNetB0 backboned-model (we'll create our own output layer)\n",
    "* Compile our model\n",
    "* Feature extract for 5 full passes (5 epochs on the train dataset and validate on 15% of the test data, to save epoch time)"
   ]
  },
  {
   "cell_type": "code",
   "execution_count": null,
   "metadata": {
    "ExecuteTime": {
     "end_time": "2023-09-01T18:43:07.479886Z",
     "start_time": "2023-09-01T18:43:07.414612Z"
    },
    "id": "qzSO1RBTJpuQ"
   },
   "outputs": [],
   "source": [
    "# Create checkpoint fallback\n",
    "model_checkpoint_callback = soml.tf.fit.callback.model_checkpoint_callback(\n",
    "    experiment_name=\"101_classes_10_percent_data_model_checkpoint\",\n",
    "    save_weights_only=True,\n",
    "    metric='val_accuracy',\n",
    "    save_best_only=True)"
   ]
  },
  {
   "cell_type": "code",
   "execution_count": null,
   "metadata": {
    "ExecuteTime": {
     "end_time": "2023-09-01T18:43:09.020317Z",
     "start_time": "2023-09-01T18:43:08.957306Z"
    },
    "id": "vNs1SU8fJpuQ"
   },
   "outputs": [],
   "source": [
    "# Create data augmentation layer\n",
    "data_augementation_layer = Sequential([\n",
    "    RandomFlip(\"horizontal\"),\n",
    "    RandomRotation(.2),\n",
    "    RandomHeight(.2),\n",
    "    RandomWidth(.2),\n",
    "    RandomZoom(.2),\n",
    "    # Rescaling(1/255.) # Only neccesary for some models, but not for EfficientNetB0, But neccesary for ResNet50V2\n",
    "], name=\"data_augmentation\")"
   ]
  },
  {
   "cell_type": "code",
   "execution_count": null,
   "metadata": {
    "ExecuteTime": {
     "end_time": "2023-09-01T18:43:13.973915Z",
     "start_time": "2023-09-01T18:43:11.400670Z"
    },
    "colab": {
     "base_uri": "https://localhost:8080/"
    },
    "id": "MBUUn1NbJpuQ",
    "outputId": "58a8308a-c6c5-465a-b8f8-0e3de22e17e3"
   },
   "outputs": [],
   "source": [
    "# Setup base model and freeze its layers (this will extract features)\n",
    "base_model = tf.keras.applications.efficientnet_v2.EfficientNetV2B0(include_top=False)\n",
    "base_model.trainable = False\n",
    "\n",
    "# Setup model architecture with trainable layers on top\n",
    "input_layer = Input(shape=IMG_SIZE + (3,), name=\"input_layer\")\n",
    "x = data_augementation_layer(input_layer) # Augment images\n",
    "x = base_model(x, training=False) # Put the base model in inference mode so weights need to stay frozen\n",
    "x = GlobalAveragePooling2D(name=\"global_average_pooling_2d\")(x)\n",
    "output_layer = Dense(len(train_data_all_10_percent.class_names), name=\"output_layer\", activation=\"softmax\")(x)\n",
    "\n",
    "model = Model(input_layer, output_layer)"
   ]
  },
  {
   "cell_type": "code",
   "execution_count": null,
   "metadata": {
    "ExecuteTime": {
     "end_time": "2023-09-01T18:43:13.999041Z",
     "start_time": "2023-09-01T18:43:13.974412Z"
    },
    "colab": {
     "base_uri": "https://localhost:8080/"
    },
    "id": "AeALrtQBJpuQ",
    "outputId": "8c704275-6b4e-474e-bb51-1d2eca9fbb38"
   },
   "outputs": [],
   "source": [
    "model.summary()"
   ]
  },
  {
   "cell_type": "code",
   "execution_count": null,
   "metadata": {
    "ExecuteTime": {
     "end_time": "2023-09-01T18:43:16.068663Z",
     "start_time": "2023-09-01T18:43:15.999624Z"
    },
    "id": "V9laH8-EJpuR"
   },
   "outputs": [],
   "source": [
    "# Compile the model\n",
    "model.compile(loss=categorical_crossentropy,\n",
    "                optimizer=Adam(),\n",
    "                metrics=[\"accuracy\"])"
   ]
  },
  {
   "cell_type": "code",
   "execution_count": null,
   "metadata": {
    "ExecuteTime": {
     "end_time": "2023-09-01T19:06:33.341158Z",
     "start_time": "2023-09-01T18:43:29.632078Z"
    },
    "colab": {
     "base_uri": "https://localhost:8080/"
    },
    "id": "sdcOmzjNJpuR",
    "outputId": "6abc60e9-cd62-45ec-dde8-e0863bb95b88"
   },
   "outputs": [],
   "source": [
    "# Fit the model\n",
    "history_all_classes_10_percent = model.fit(train_data_all_10_percent,\n",
    "                                           steps_per_epoch=len(train_data_all_10_percent),\n",
    "                                           epochs=5,\n",
    "                                           validation_data=test_data_all_10_percent,\n",
    "                                           validation_steps=int(0.15 * len(test_data_all_10_percent)), # Validate on only 15% of test data\n",
    "                                           callbacks=[model_checkpoint_callback])"
   ]
  },
  {
   "cell_type": "code",
   "execution_count": null,
   "metadata": {
    "ExecuteTime": {
     "end_time": "2023-09-01T19:15:25.898549Z",
     "start_time": "2023-09-01T19:06:33.384050Z"
    },
    "colab": {
     "base_uri": "https://localhost:8080/"
    },
    "id": "_0dPE9q9JpuR",
    "outputId": "de294c11-fa92-4a63-c405-3e019adad097"
   },
   "outputs": [],
   "source": [
    "fine_tuning_results = model.evaluate(test_data_all_10_percent)\n",
    "fine_tuning_results"
   ]
  },
  {
   "cell_type": "code",
   "execution_count": null,
   "metadata": {
    "ExecuteTime": {
     "start_time": "2023-09-01T19:22:07.983595Z"
    },
    "colab": {
     "base_uri": "https://localhost:8080/",
     "height": 1000
    },
    "id": "cj8__CbsJpuR",
    "outputId": "0f627386-483c-4cc7-aba7-cac0fc711f5b"
   },
   "outputs": [],
   "source": [
    "soml.tf.model.plot.plot_history(history=history_all_classes_10_percent)"
   ]
  },
  {
   "cell_type": "markdown",
   "metadata": {
    "collapsed": false,
    "id": "i-f7hE79JpuR",
    "jupyter": {
     "outputs_hidden": false
    }
   },
   "source": [
    "Seems to be overfitting, the validation accuracy is flattening but the training accuracy is still increasing."
   ]
  },
  {
   "cell_type": "markdown",
   "metadata": {
    "collapsed": false,
    "id": "VuY9HvNZJpuR",
    "jupyter": {
     "outputs_hidden": false
    }
   },
   "source": [
    "## Fine-tuning"
   ]
  },
  {
   "cell_type": "code",
   "execution_count": null,
   "metadata": {
    "ExecuteTime": {
     "end_time": "2023-09-01T19:15:27.854960Z",
     "start_time": "2023-09-01T19:15:27.790387Z"
    },
    "colab": {
     "base_uri": "https://localhost:8080/"
    },
    "id": "5igLuq8iJpuR",
    "outputId": "799b3539-ad19-487d-8284-af6911633c51"
   },
   "outputs": [],
   "source": [
    "# Unfreeze all of the layers in the baseline.\n",
    "base_model.trainable = False\n",
    "\n",
    "soml.tf.model.layer.set_trainable_on_last_n_layers(model=base_model, n=5, trainable=True)\n",
    "\n",
    "soml.tf.model.layer.list_model(model=base_model)"
   ]
  },
  {
   "cell_type": "code",
   "execution_count": null,
   "metadata": {
    "ExecuteTime": {
     "end_time": "2023-09-01T19:15:27.921789Z",
     "start_time": "2023-09-01T19:15:27.797705Z"
    },
    "id": "XB4-D9dyJpuS"
   },
   "outputs": [],
   "source": [
    "# Recompile model with lower learning rate\n",
    "model.compile(loss=categorical_crossentropy,\n",
    "              optimizer=Adam(learning_rate=0.0001),\n",
    "              metrics=[\"accuracy\"])"
   ]
  },
  {
   "cell_type": "code",
   "execution_count": null,
   "metadata": {
    "ExecuteTime": {
     "start_time": "2023-09-01T19:15:27.923944Z"
    },
    "colab": {
     "base_uri": "https://localhost:8080/"
    },
    "id": "zd6kx7UsJpuS",
    "outputId": "d8edafbb-8b1b-417d-c1fa-8fa44952834d"
   },
   "outputs": [],
   "source": [
    "# Fine tune for 5 more epochs.\n",
    "\n",
    "fine_tune_epochs = 10 # Model has already done 5 epochs (feature extraction), this is the total number of epochs we're after (feature extraction is 5, fine-tune is 5 so 10 in total\n",
    "\n",
    "\n",
    "history_all_classes_10_percent_fine_tune = model.fit(train_data_all_10_percent,\n",
    "                                                     steps_per_epoch=len(train_data_all_10_percent),\n",
    "                                                     epochs=fine_tune_epochs,\n",
    "                                                     initial_epoch=history_all_classes_10_percent.epoch[-1] + 1,\n",
    "                                                     validation_data=test_data_all_10_percent,\n",
    "                                                     validation_steps=int(0.15 * len(test_data_all_10_percent)))"
   ]
  },
  {
   "cell_type": "code",
   "execution_count": null,
   "metadata": {
    "ExecuteTime": {
     "start_time": "2023-09-01T19:22:07.981338Z"
    },
    "colab": {
     "base_uri": "https://localhost:8080/"
    },
    "id": "NaeAoLZLaKhG",
    "outputId": "5c93ce7d-37dc-4d3a-e773-cafe2e7941db"
   },
   "outputs": [],
   "source": [
    "all_classes_10_percent_fine_tune_results = model.evaluate(test_data_all_10_percent)\n",
    "all_classes_10_percent_fine_tune_results"
   ]
  },
  {
   "cell_type": "code",
   "execution_count": null,
   "metadata": {
    "ExecuteTime": {
     "start_time": "2023-09-01T19:22:07.982514Z"
    },
    "colab": {
     "base_uri": "https://localhost:8080/",
     "height": 1000
    },
    "id": "cNf3KlHQaRv2",
    "outputId": "a335ff30-ea61-4d82-d123-0b0bac7b607e"
   },
   "outputs": [],
   "source": [
    "soml.tf.model.plot.plot_consecutive_histories(histories=[history_all_classes_10_percent,history_all_classes_10_percent_fine_tune], labels=[\"base\", \"fine-tune\"] )"
   ]
  },
  {
   "cell_type": "markdown",
   "metadata": {
    "id": "8brJ0WLnJpuS"
   },
   "source": [
    "## Saving and loading our model\n",
    "\n",
    "To use our model in an external application we'll need to save it and export it somewhere."
   ]
  },
  {
   "cell_type": "code",
   "execution_count": null,
   "metadata": {
    "id": "NIphBvylJpuS"
   },
   "outputs": [],
   "source": [
    "# Save our fine tuned model\n",
    "model.save(\"./models/101_food_classes_10_percent_saved_big_dog_model\", save_format=\"h5\")\n",
    "\n",
    "# This will fail, due to a bug that is still present in TF version 2.12.0"
   ]
  },
  {
   "cell_type": "code",
   "execution_count": null,
   "metadata": {
    "colab": {
     "base_uri": "https://localhost:8080/"
    },
    "id": "kLAaxh0pZc5m",
    "outputId": "a41b1fb8-8646-4cc9-d3e6-db19a9eaab43"
   },
   "outputs": [],
   "source": [
    "# Load and evaluate saved model\n",
    "loaded_model = tf.keras.models.load_model(\"./models/101_food_classes_10_percent_saved_big_dog_model\")"
   ]
  },
  {
   "cell_type": "code",
   "execution_count": null,
   "metadata": {
    "colab": {
     "base_uri": "https://localhost:8080/"
    },
    "id": "0R3A9zzgZrSl",
    "outputId": "1162ccbe-a823-4628-d5a7-06126653358a"
   },
   "outputs": [],
   "source": [
    "# Evaluate loaded model and compare performance to pre-saved model\n",
    "loaded_model_result = loaded_model.evaluate(test_data_all_10_percent)\n",
    "loaded_model_result"
   ]
  },
  {
   "cell_type": "code",
   "execution_count": null,
   "metadata": {
    "colab": {
     "base_uri": "https://localhost:8080/"
    },
    "id": "l0LiOT9IZrJn",
    "outputId": "7a2e73db-38af-4bf1-afb5-c5e9d3b663d3"
   },
   "outputs": [],
   "source": [
    "# The results from our loaded model (above) should be very similar to the results below.\n",
    "all_classes_10_percent_fine_tune_results"
   ]
  },
  {
   "cell_type": "code",
   "execution_count": null,
   "metadata": {
    "colab": {
     "base_uri": "https://localhost:8080/"
    },
    "id": "a8EtcuGn1Ued",
    "outputId": "19998159-6949-4178-ccaf-46e4c5bec1c8"
   },
   "outputs": [],
   "source": [
    "soml.util.io.download_file(source='https://storage.googleapis.com/ztm_tf_course/food_vision/06_101_food_class_10_percent_saved_big_dog_model.zip', filepath='./06_101_food_class_10_percent_saved_big_dog_model.zip')\n",
    "soml.util.io.extract_zip(filepath='./06_101_food_class_10_percent_saved_big_dog_model.zip')\n",
    "model = tf.keras.models.load_model('./data/06_101_food_class_10_percent_saved_big_dog_model')"
   ]
  },
  {
   "cell_type": "code",
   "execution_count": null,
   "metadata": {
    "colab": {
     "base_uri": "https://localhost:8080/"
    },
    "id": "FJFbMFsC_xbt",
    "outputId": "6b5e0b96-a056-4938-9412-c07d103ab14b"
   },
   "outputs": [],
   "source": [
    "loaded_accuracy = model.evaluate(test_data_all_10_percent)"
   ]
  },
  {
   "cell_type": "code",
   "execution_count": null,
   "metadata": {
    "colab": {
     "base_uri": "https://localhost:8080/"
    },
    "id": "VVhZWK-MbBSy",
    "outputId": "7f858f54-6cf8-46bc-8d7a-b4ced43cecaf"
   },
   "outputs": [],
   "source": [
    "loaded_accuracy"
   ]
  },
  {
   "cell_type": "code",
   "execution_count": null,
   "metadata": {
    "colab": {
     "base_uri": "https://localhost:8080/"
    },
    "id": "Bqr7Dv7c14ri",
    "outputId": "387ddf03-2b2b-4eba-ac00-f7cdecafea56"
   },
   "outputs": [],
   "source": [
    "# Make predictions with model\n",
    "pred_probs = model.predict(test_data_all_10_percent, verbose=1) # set verbosity to see how long it will take "
   ]
  },
  {
   "cell_type": "code",
   "execution_count": null,
   "metadata": {
    "colab": {
     "base_uri": "https://localhost:8080/"
    },
    "id": "VlLOjhiffzrS",
    "outputId": "4fcbca7c-9b0a-43a1-868e-194a8e48ca7a"
   },
   "outputs": [],
   "source": [
    "# How many predictions are there?\n",
    "len(pred_probs)"
   ]
  },
  {
   "cell_type": "code",
   "execution_count": null,
   "metadata": {
    "colab": {
     "base_uri": "https://localhost:8080/"
    },
    "id": "hBh8OzBW0rop",
    "outputId": "9f65bfe5-8c26-4a8b-bf2d-126fcbb51666"
   },
   "outputs": [],
   "source": [
    "# What's the shape of our predictions?\n",
    "pred_probs.shape"
   ]
  },
  {
   "cell_type": "code",
   "execution_count": null,
   "metadata": {
    "colab": {
     "base_uri": "https://localhost:8080/"
    },
    "id": "yWIaMVOj0vOJ",
    "outputId": "deecfd31-4c0a-42aa-90ab-ce08cc94fc20"
   },
   "outputs": [],
   "source": [
    "# How do they look?\n",
    "pred_probs[:10]"
   ]
  },
  {
   "cell_type": "code",
   "execution_count": null,
   "metadata": {
    "colab": {
     "base_uri": "https://localhost:8080/"
    },
    "id": "9R_PXdr80ysu",
    "outputId": "18a34e96-4976-441b-a2f0-064240c5f3ea"
   },
   "outputs": [],
   "source": [
    "# We get one prediction probability per class\n",
    "print(f\"Number of prediction probabilities for sample 0: {len(pred_probs[0])}\")\n",
    "print(f\"What prediction probability sample 0 looks like:\\n {pred_probs[0]}\")\n",
    "print(f\"The class with the highest predicted probability by the model for sample 0: {pred_probs[0].argmax()}\")"
   ]
  },
  {
   "cell_type": "code",
   "execution_count": null,
   "metadata": {
    "id": "4zf5oufw022f"
   },
   "outputs": [],
   "source": [
    "# Note: This might take a minute or so due to unravelling 790 batches\n",
    "y_labels = soml.tf.dataset.get_labels(dataset=test_data_all_10_percent)"
   ]
  },
  {
   "cell_type": "code",
   "execution_count": null,
   "metadata": {
    "colab": {
     "base_uri": "https://localhost:8080/"
    },
    "id": "dPS6CsHMaxwL",
    "outputId": "8785109c-6e15-4d43-9cfa-2809c7809da3"
   },
   "outputs": [],
   "source": [
    "pred_classes = pred_probs.argmax(axis=1)\n",
    "pred_classes"
   ]
  },
  {
   "cell_type": "code",
   "execution_count": null,
   "metadata": {},
   "outputs": [],
   "source": [
    "len(y_labels)"
   ]
  },
  {
   "cell_type": "code",
   "execution_count": null,
   "metadata": {},
   "outputs": [],
   "source": []
  },
  {
   "cell_type": "code",
   "execution_count": null,
   "metadata": {
    "colab": {
     "base_uri": "https://localhost:8080/"
    },
    "id": "qUiY_m9r07KB",
    "outputId": "52dbbe90-201f-4a12-f5bd-8cbd41b5ff6c"
   },
   "outputs": [],
   "source": [
    "# Get accuracy score by comparing predicted classes to ground truth labels\n",
    "from sklearn.metrics import accuracy_score\n",
    "sklearn_accuracy = accuracy_score(y_labels, pred_classes)\n",
    "sklearn_accuracy"
   ]
  },
  {
   "cell_type": "code",
   "execution_count": null,
   "metadata": {
    "colab": {
     "base_uri": "https://localhost:8080/"
    },
    "id": "_HVTNQX809Xn",
    "outputId": "81775f3b-973b-4086-b50d-88eb3d334cb0"
   },
   "outputs": [],
   "source": [
    "# Does the evaluate method compare to the Scikit-Learn measured accuracy?\n",
    "import numpy as np\n",
    "\n",
    "# Remember the loaded_accurac consists of two values, second value is the accuracy.\n",
    "print(f\"Close? {np.isclose(loaded_accuracy[1], sklearn_accuracy)} | Difference: {loaded_accuracy[1] - sklearn_accuracy}\")"
   ]
  },
  {
   "cell_type": "code",
   "execution_count": null,
   "metadata": {
    "colab": {
     "base_uri": "https://localhost:8080/"
    },
    "id": "Twq4aPqe17Cd",
    "outputId": "22686ff6-a700-4ed1-8d16-b13b0199dbdb"
   },
   "outputs": [],
   "source": [
    "# Get the class names\n",
    "class_names = test_data_all_10_percent.class_names\n",
    "class_names"
   ]
  },
  {
   "cell_type": "code",
   "execution_count": null,
   "metadata": {
    "colab": {
     "base_uri": "https://localhost:8080/",
     "height": 1000
    },
    "id": "_1TXk5a3_8Co",
    "outputId": "c3ef7bf7-84ac-45cf-8e21-d9b9389a6eb3"
   },
   "outputs": [],
   "source": [
    "soml.multiclass.plot.confusion_matrix(y_true=y_labels, y_pred=pred_probs, class_names=class_names, figsize=(100, 100), text_size=20)"
   ]
  },
  {
   "cell_type": "markdown",
   "metadata": {
    "id": "xTJ1t7eaT9pp"
   },
   "source": [
    "## Let's keep the evaluation train going, time for a classification report\n",
    "\n",
    "Scikit-learn has a helpful function for acquiring many different classification metrics per class (e.g. precision, recall and F1) called classifiction report.\n",
    "\n",
    "https://scikit-learn.org/stable/modules/generated/sklearn.metrics.classification_report.html"
   ]
  },
  {
   "cell_type": "code",
   "execution_count": null,
   "metadata": {
    "colab": {
     "base_uri": "https://localhost:8080/"
    },
    "id": "K0Jq1t5AUJfA",
    "outputId": "9a02e0d0-a2f8-4448-edfc-68082ffa16cc"
   },
   "outputs": [],
   "source": [
    "from sklearn.metrics import classification_report\n",
    "print(classification_report(y_true=y_labels, y_pred=pred_classes, target_names=class_names))"
   ]
  },
  {
   "cell_type": "markdown",
   "metadata": {
    "id": "bxKKnhv9XH3d"
   },
   "source": [
    "The numbers above give a greate class-by-class evaluation of our model's predictions but with so many classes, they're quite hard to understand.\n",
    "\n",
    "Let's visualize the data."
   ]
  },
  {
   "cell_type": "markdown",
   "metadata": {
    "id": "GOFeIPJGZWzr"
   },
   "source": [
    "## Let's plot all of our classes F1-scores..."
   ]
  },
  {
   "cell_type": "code",
   "execution_count": null,
   "metadata": {
    "colab": {
     "base_uri": "https://localhost:8080/",
     "height": 1000
    },
    "id": "macCJeTDdlVc",
    "outputId": "02ba5e3e-4eb5-4aef-c2e6-fd834840bf2b"
   },
   "outputs": [],
   "source": [
    "soml.multiclass.plot.f1_score_chart(y_true=y_labels, y_pred=pred_probs, class_names=class_names, figsize=(8,40))"
   ]
  },
  {
   "cell_type": "markdown",
   "metadata": {
    "id": "isfwMLfLwXVi"
   },
   "source": [
    "## Visualizing predictions on custom images\n",
    "\n",
    "Now, this is the real test, how does our model go on food images not even in our test dataset (images of our own)\n",
    "\n",
    "To visualize our model's predictions on our own images we'l need a function to load and preprocess images, specifically it will need to:\n",
    "* Read in a target image filepath using t.f.io.read_file_path\n",
    "* Turn the image into a Tensor using tf.io.decode_image\n",
    "* Resize the image tensor to be the same size as the images our model has trained on using tf.image.rezise()\n",
    "* Scale the image to get all of the pixel values between 0 & 1 (if necessary)"
   ]
  },
  {
   "cell_type": "code",
   "execution_count": null,
   "metadata": {
    "id": "da7LesO91dxh"
   },
   "outputs": [],
   "source": [
    "# See function definition in mli.load_image_as_tensor"
   ]
  },
  {
   "cell_type": "markdown",
   "metadata": {
    "id": "Quq2zyh75pDc"
   },
   "source": [
    "Now we've got our function to load and prepare target images, let's now write some code to visualize inmages, their target label and our model's predictions.\n",
    "\n",
    "Specifically, we'll write some code to:\n",
    "1. Load a few random images from the test dataset\n",
    "2. Make predictions on the loaded images\n",
    "3. Plot the original image(s) along with the model's predictions, prediction probability and truth label"
   ]
  },
  {
   "cell_type": "code",
   "execution_count": null,
   "metadata": {
    "colab": {
     "base_uri": "https://localhost:8080/",
     "height": 500
    },
    "id": "KKMKgbzf58oN",
    "outputId": "c419655d-06c9-47e2-83b2-a016f7be340a"
   },
   "outputs": [],
   "source": [
    "# Make preds on a series of images\n",
    "import os\n",
    "import random\n",
    "\n",
    "plt.figure(figsize=(17, 10))\n",
    "for i in range(3):\n",
    "  # Choose a random image from a random class\n",
    "  class_name = random.choice(class_names)\n",
    "  filename = random.choice(os.listdir(os.path.join(test_dir, class_name)))\n",
    "  filepath = os.path.join(test_dir, class_name, filename)\n",
    "  \n",
    "  # Load the image and make predictions\n",
    "  img = soml.util.io.load_image_as_tensor(filename=filepath, scale=False)\n",
    "  pred_prob = model.predict(tf.expand_dims(img, axis=0)) # Get prediction probabilities array\n",
    "  pred_class = class_names[pred_prob.argmax()] # Get highest probability index\n",
    "  \n",
    "  # Plot images\n",
    "  rows = 1\n",
    "  cols = 3\n",
    "  plt.subplot(rows, cols, i+1)\n",
    "  plt.imshow(img)\n",
    "  if class_name == pred_class: # If predicted class matches true class make tekst green\n",
    "    title_color = \"g\"\n",
    "  else:\n",
    "    title_color = \"r\"\n",
    "  plt.title(f\"actual: {class_name}, pred: {pred_class}, prob: {pred_prob.max():.2f}\", c=title_color)\n",
    "  plt.axis(False)\n"
   ]
  },
  {
   "cell_type": "markdown",
   "metadata": {
    "id": "TCw7aWlN7eW1"
   },
   "source": [
    "## Finding the most wrong predictions\n",
    "\n",
    "To find out where our model is most wrong, let's write some code to find out the following:\n",
    "1. Get all of the image file paths in the test dataset using list_files() method.\n",
    "2. Create a pandas DataFrame of the image filepaths, grund truth labels, predicted classes (from our model), max predictions probabilities, ground truth class names.\n",
    "3. Use our DataFrame to find all the wrong predictions (where the ground truth label doesn';t math the prediction).\n",
    "4. Sort the DataFrame based on wrong predictions (have the highest prediction probability predictions at the top)./\n",
    "5. Visualize the images with the highest prediction probabilities but have the wrong predction."
   ]
  },
  {
   "cell_type": "code",
   "execution_count": null,
   "metadata": {
    "colab": {
     "base_uri": "https://localhost:8080/"
    },
    "id": "SdoiOQCHJumW",
    "outputId": "c3947ed6-633b-475c-fcda-cddaa480d431"
   },
   "outputs": [],
   "source": [
    "# Get all of the image file paths in the test dataset.\n",
    "import os\n",
    "\n",
    "filepaths = []\n",
    "for filepath in test_data_all_10_percent.list_files(os.path.join(test_dir, '*', '*.jpg'), shuffle=False):\n",
    "  filepaths.append(filepath.numpy())\n",
    "\n",
    "filepaths[:10]"
   ]
  },
  {
   "cell_type": "code",
   "execution_count": null,
   "metadata": {
    "colab": {
     "base_uri": "https://localhost:8080/",
     "height": 424
    },
    "id": "0dbg3NjfJuP7",
    "outputId": "1e7165c8-a5c4-4a30-d5c3-4f67e00411dc"
   },
   "outputs": [],
   "source": [
    "import pandas as pd\n",
    "pred_pd = pd.DataFrame({\"image_path\": filepaths,\n",
    "                        \"y_true\": y_labels,\n",
    "                        \"y_pred\": pred_classes,\n",
    "                        \"pred_conf\": pred_probs.max(axis=1),\n",
    "                        \"y_true_classname\" : [class_names[i] for i in y_labels],\n",
    "                        \"y_pred_classn\": [class_names[i] for i in pred_classes]})\n",
    "\n",
    "pred_pd"
   ]
  },
  {
   "cell_type": "code",
   "execution_count": null,
   "metadata": {
    "colab": {
     "base_uri": "https://localhost:8080/",
     "height": 206
    },
    "id": "dxJNFjCGqbaR",
    "outputId": "e4785270-46a6-4a3c-ad20-17b538beaa42"
   },
   "outputs": [],
   "source": [
    "# 3. Find out in our DataFrame which predictions are wrong\n",
    "pred_pd[\"pred_correct\"] = pred_pd[\"y_true\"] == pred_pd[\"y_pred\"]\n",
    "pred_pd.head()"
   ]
  },
  {
   "cell_type": "code",
   "execution_count": null,
   "metadata": {
    "colab": {
     "base_uri": "https://localhost:8080/",
     "height": 424
    },
    "id": "189NzGpAq9rO",
    "outputId": "64d8dbc1-f973-497d-d9b5-028b9edef42b"
   },
   "outputs": [],
   "source": [
    "# 4. Sort our dataframe to have most wrong predictions at the top.\n",
    "pred_pd_top_100 = pred_pd[pred_pd[\"pred_correct\"] == False ].sort_values(\"pred_conf\", ascending=False)[:100]\n",
    "pred_pd_top_100"
   ]
  },
  {
   "cell_type": "code",
   "execution_count": null,
   "metadata": {
    "colab": {
     "base_uri": "https://localhost:8080/",
     "height": 829
    },
    "id": "UgkEcueGrX18",
    "outputId": "d1fef2da-05e1-46db-8c8e-e05e40c439d7"
   },
   "outputs": [],
   "source": [
    "# 5. Visualize the test data samples which have the wrong prediction but highes pred probability.\n",
    "# Make preds on a series of images\n",
    "images_to_view = 9\n",
    "start_index = 0\n",
    "plt.figure(figsize=(20, 10))\n",
    "for i, row in enumerate(pred_pd_top_100[start_index:start_index+images_to_view].itertuples()):\n",
    "  plt.subplot(3, 3, i+1)\n",
    "  img = soml.util.io.load_image_as_tensor(row[1], scale=False)\n",
    "  _, _, _, _, pred_prob, y_true_classname, y_pred_classname, _ = row # Only interested in a few parameters of each row.\n",
    "  plt.imshow(img)\n",
    "  plt.title(f\"actual: {y_true_classname}, pred: {y_pred_classname}, prob: {pred_prob:.2f}\")\n",
    "  plt.axis(False)"
   ]
  },
  {
   "cell_type": "markdown",
   "metadata": {
    "id": "jhBTn4CaspzL"
   },
   "source": [
    "## Test out the big dog model on our own custom images"
   ]
  },
  {
   "cell_type": "code",
   "execution_count": null,
   "metadata": {
    "colab": {
     "base_uri": "https://localhost:8080/"
    },
    "id": "jmrvty6LyZ0h",
    "outputId": "ff12c8b3-e78c-4108-efa0-74d43a8b3cfa"
   },
   "outputs": [],
   "source": [
    "# Get custom images\n",
    "soml.util.io.download_file(source='https://storage.googleapis.com/ztm_tf_course/food_vision/custom_food_images.zip',\n",
    "                  filepath='custom_food_images.zip')\n",
    "soml.util.io.extract_zip(filepath='custom_food_images.zip')\n",
    "soml.util.io.list_dir_summary(folder='custom_food_images')"
   ]
  },
  {
   "cell_type": "code",
   "execution_count": null,
   "metadata": {
    "colab": {
     "base_uri": "https://localhost:8080/"
    },
    "id": "7C6GlTvQzAcD",
    "outputId": "3cccc77a-fa8d-4737-f84f-446fbb6bf35f"
   },
   "outputs": [],
   "source": [
    "# Get the custom food images file path\n",
    "custom_food_images = [\"custom_food_images/\" + img_path for img_path in os.listdir(\"/content/custom_food_images\")]\n",
    "custom_food_images"
   ]
  },
  {
   "cell_type": "code",
   "execution_count": null,
   "metadata": {
    "colab": {
     "base_uri": "https://localhost:8080/",
     "height": 1000
    },
    "id": "UA6Z-lDazaGF",
    "outputId": "2965b948-7e3c-4759-d7b2-94bdee6b0578"
   },
   "outputs": [],
   "source": [
    "# Make and plot custom food images\n",
    "for filename in custom_food_images:\n",
    "  img = soml.util.io.load_image_as_tensor(filename, scale=False)\n",
    "  pred_prob = model.predict(tf.expand_dims(img, axis=0)) # Make prediction on image with shape [1, 224, 224, 3]\n",
    "  pred_class = class_names[pred_prob.argmax()] # Get the index with the highest probability\n",
    "  # Plot the appropriate information\n",
    "  plt.figure()\n",
    "  plt.imshow(img)\n",
    "  plt.title(f\"pred: {pred_class}, probs: {pred_prob.max():.2f}\")\n",
    "  plt.axis(False)\n",
    "\n",
    "\n"
   ]
  },
  {
   "cell_type": "markdown",
   "metadata": {
    "id": "vEdUXwSSSXPA"
   },
   "source": [
    "## Assignment: Perform first model but with mixed_precision enabled"
   ]
  },
  {
   "cell_type": "code",
   "execution_count": null,
   "metadata": {
    "colab": {
     "base_uri": "https://localhost:8080/"
    },
    "id": "Lo-NH6HKZLjA",
    "outputId": "c8240a42-52ba-4f4f-8f65-abb57a96f553"
   },
   "outputs": [],
   "source": [
    "from keras import mixed_precision\n",
    "from keras.layers import Activation\n",
    "\n",
    "# Configure system to use mixed-precision\n",
    "policy = mixed_precision.Policy(\"mixed_float16\")\n",
    "mixed_precision.set_global_policy(policy)\n",
    "\n",
    "# Setup base model and freeze its layers (this will extract features)\n",
    "base_model = tf.keras.applications.efficientnet_v2.EfficientNetV2B0(include_top=False)\n",
    "base_model.trainable = False\n",
    "\n",
    "# Setup model architecture with trainable layers on top\n",
    "input_layer = Input(shape=IMG_SIZE + (3,), name=\"input_layer\")\n",
    "x = data_augementation_layer(input_layer) # Augment images\n",
    "x = base_model(x, training=False) # Put the base model in inference mode so weights need to stay frozen\n",
    "x = GlobalAveragePooling2D(name=\"global_average_pooling_2d\")(x)\n",
    "\n",
    "# Very important, when using mixed precision, make sure the activation is done seperatly especially on\n",
    "# the last layer.\n",
    "#\n",
    "# see: https://www.tensorflow.org/guide/mixed_precision\n",
    "x = Dense(len(train_data_all_10_percent.class_names), name=\"output_layer\")(x)\n",
    "output_layer = Activation('softmax', dtype='float32')(x)\n",
    "\n",
    "model = Model(input_layer, output_layer)\n",
    "\n",
    "# Compile the model\n",
    "model.compile(loss=categorical_crossentropy,\n",
    "                optimizer=Adam(),\n",
    "                metrics=[\"accuracy\"])\n",
    "\n",
    "model.summary()"
   ]
  },
  {
   "cell_type": "code",
   "execution_count": null,
   "metadata": {
    "colab": {
     "base_uri": "https://localhost:8080/"
    },
    "id": "p75fr20-cOgg",
    "outputId": "733b2ffe-dff7-4e05-8b9d-15fa5e4fedb7"
   },
   "outputs": [],
   "source": [
    "# Fit the model\n",
    "history_all_classes_10_percent = model.fit(train_data_all_10_percent,\n",
    "                                           steps_per_epoch=len(train_data_all_10_percent),\n",
    "                                           epochs=5,\n",
    "                                           validation_data=test_data_all_10_percent,\n",
    "                                           validation_steps=int(0.15 * len(test_data_all_10_percent)), # Validate on only 15% of test data\n",
    "                                           callbacks=[model_checkpoint_callback])"
   ]
  },
  {
   "cell_type": "code",
   "execution_count": null,
   "metadata": {
    "colab": {
     "base_uri": "https://localhost:8080/"
    },
    "id": "w4jMbd3-cLlj",
    "outputId": "20aedc2c-65e3-4fd3-e5e0-3cff545defe3"
   },
   "outputs": [],
   "source": [
    "# Evaluate teh model                                           \n",
    "mixed_precision_results = model.evaluate(test_data_all_10_percent)\n",
    "mixed_precision_results"
   ]
  },
  {
   "cell_type": "code",
   "execution_count": null,
   "metadata": {
    "colab": {
     "base_uri": "https://localhost:8080/"
    },
    "id": "FFvt28MdcExM",
    "outputId": "4cb0e44e-fae6-4b2b-b136-981d7de99f1a"
   },
   "outputs": [],
   "source": [
    "# compare with fine tuning results\n",
    "fine_tuning_results"
   ]
  },
  {
   "cell_type": "code",
   "execution_count": null,
   "metadata": {
    "colab": {
     "base_uri": "https://localhost:8080/",
     "height": 1000
    },
    "id": "0BzYOMN-cVfp",
    "outputId": "d747cf90-a27c-470c-89bf-7560c1432d95"
   },
   "outputs": [],
   "source": [
    "soml.tf.model.plot.plot_history(history=history_all_classes_10_percent)"
   ]
  },
  {
   "cell_type": "code",
   "execution_count": null,
   "metadata": {
    "id": "5C-skqKshjb9"
   },
   "outputs": [],
   "source": []
  }
 ],
 "metadata": {
  "accelerator": "GPU",
  "colab": {
   "gpuType": "T4",
   "provenance": []
  },
  "gpuClass": "standard",
  "kernelspec": {
   "display_name": "Python 3 (ipykernel)",
   "language": "python",
   "name": "python3"
  },
  "language_info": {
   "codemirror_mode": {
    "name": "ipython",
    "version": 3
   },
   "file_extension": ".py",
   "mimetype": "text/x-python",
   "name": "python",
   "nbconvert_exporter": "python",
   "pygments_lexer": "ipython3",
   "version": "3.10.13"
  }
 },
 "nbformat": 4,
 "nbformat_minor": 4
}
