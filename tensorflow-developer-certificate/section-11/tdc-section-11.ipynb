{
 "cells": [
  {
   "cell_type": "code",
   "execution_count": null,
   "outputs": [],
   "source": [
    "import os\n",
    "%run ../../base-notebook.ipynb"
   ],
   "metadata": {
    "id": "wlrgdzHmfVPo",
    "ExecuteTime": {
     "end_time": "2023-07-17T12:49:18.998075Z",
     "start_time": "2023-07-17T12:49:12.385899Z"
    }
   }
  },
  {
   "cell_type": "code",
   "execution_count": 1,
   "outputs": [],
   "source": [
    "extensions_loaded = False\n",
    "if not extensions_loaded:\n",
    "    %load_ext autoreload\n",
    "    %load_ext tensorboard\n",
    "    extensions_loaded = True\n",
    "\n",
    "%autoreload 2\n",
    "%matplotlib inline"
   ],
   "metadata": {
    "id": "kv4uYs3y1Vh8",
    "ExecuteTime": {
     "end_time": "2023-08-03T09:22:14.317995Z",
     "start_time": "2023-08-03T09:22:13.982440Z"
    }
   }
  },
  {
   "cell_type": "code",
   "execution_count": 16,
   "outputs": [],
   "source": [
    "import sys\n",
    "import os\n",
    "import random\n",
    "\n",
    "sys.path.append(\"./ext\")\n",
    "\n",
    "import ext.ml_callback as mlc\n",
    "import ext.ml_io as mli\n",
    "import ext.ml_layer as mll\n",
    "import ext.ml_plot as ml_plot\n",
    "import ext.ml_util as mlu\n",
    "import ext.ml_data as ml_data\n",
    "import ext.ml_view as mlv\n",
    "import ext.ml_analyze as mla\n",
    "import ext.ml_shell as mls\n",
    "import ext.ml_nlp as ml_nlp\n",
    "\n",
    "import tensorflow as tf\n",
    "import pandas as pd\n",
    "import numpy as np\n",
    "\n",
    "import tensorflow_hub as hub\n",
    "\n",
    "from keras import Model\n",
    "from keras import layers\n",
    "from keras import losses\n",
    "from keras import optimizers"
   ],
   "metadata": {
    "id": "G8laH65-fVPp",
    "ExecuteTime": {
     "end_time": "2023-08-03T09:25:27.120544Z",
     "start_time": "2023-08-03T09:25:27.046652Z"
    }
   }
  },
  {
   "cell_type": "markdown",
   "source": [
    "# Milestone Project 2: SkimLit\n",
    "\n",
    "The purpose of this notebook is to build an NLP model to make reading medical abstracts easier.\n",
    "\n",
    "The paper we're replicating (the source of the dataset we'll be using) is available here: https://arxiv.org/abs/1710.06071\n",
    "\n",
    "And reading through the paper above, we see that the model architecture that they use to achieve their best result is available here: https://aclanthology.org/E17-2110.pdf"
   ],
   "metadata": {
    "collapsed": false,
    "id": "6yxCl1rn1Vh9"
   }
  },
  {
   "cell_type": "markdown",
   "source": [
    "## Get Data\n",
    "\n",
    "Since we'll be replicating the paper above (PubMed 200K RTC), let's download the dataset they used.\n",
    "\n",
    "We can do so from the authors Github: https://github.com/Franck-Dernoncourt/pubmed-rct"
   ],
   "metadata": {
    "collapsed": false,
    "id": "h7vXhwD31Vh9"
   }
  },
  {
   "cell_type": "code",
   "execution_count": 9,
   "outputs": [
    {
     "output_type": "stream",
     "name": "stdout",
     "text": [
      "Cloning into 'pubmed-rct'...\n",
      "remote: Enumerating objects: 33, done.\u001B[K\n",
      "remote: Counting objects: 100% (8/8), done.\u001B[K\n",
      "remote: Compressing objects: 100% (3/3), done.\u001B[K\n",
      "remote: Total 33 (delta 5), reused 5 (delta 5), pack-reused 25\u001B[K\n",
      "Receiving objects: 100% (33/33), 177.08 MiB | 15.33 MiB/s, done.\n",
      "Resolving deltas: 100% (12/12), done.\n"
     ]
    }
   ],
   "source": [
    "!git clone https://github.com/Franck-Dernoncourt/pubmed-rct.git"
   ],
   "metadata": {
    "ExecuteTime": {
     "end_time": "2023-07-17T13:09:47.034178Z",
     "start_time": "2023-07-17T13:09:31.642533Z"
    },
    "id": "2aECojJu1Vh-",
    "outputId": "3f64cd06-ea49-44c9-9827-1b9f1856c783",
    "colab": {
     "base_uri": "https://localhost:8080/"
    }
   }
  },
  {
   "cell_type": "code",
   "execution_count": null,
   "outputs": [],
   "source": [
    "!ls pubmed-rct"
   ],
   "metadata": {
    "id": "VnAEtUdD1Vh-",
    "outputId": "2b7c7ae4-0aa6-4f20-d676-538d29ad36f5",
    "colab": {
     "base_uri": "https://localhost:8080/"
    },
    "ExecuteTime": {
     "start_time": "2023-08-03T09:18:44.481657Z"
    }
   }
  },
  {
   "cell_type": "code",
   "execution_count": null,
   "outputs": [],
   "source": [
    "# Check wat kind of files are in the PubMed_20K\n",
    "!ls pubmed-rct/PubMed_20k_RCT_numbers_replaced_with_at_sign"
   ],
   "metadata": {
    "id": "bWTLatYT1Vh-",
    "outputId": "3cd4bd30-e0bf-4102-97bc-be8fe02a1f29",
    "colab": {
     "base_uri": "https://localhost:8080/"
    },
    "ExecuteTime": {
     "start_time": "2023-08-03T09:18:44.483382Z"
    }
   }
  },
  {
   "cell_type": "code",
   "execution_count": 6,
   "outputs": [],
   "source": [
    "# Start our experiments using the 20K data set with numbers replaced with @ sign.\n",
    "data_dir = './pubmed-rct/PubMed_20k_RCT_numbers_replaced_with_at_sign'"
   ],
   "metadata": {
    "id": "kn6hauAl1Vh_",
    "ExecuteTime": {
     "end_time": "2023-08-03T09:23:41.450166Z",
     "start_time": "2023-08-03T09:23:41.395981Z"
    }
   }
  },
  {
   "cell_type": "code",
   "execution_count": 7,
   "outputs": [
    {
     "data": {
      "text/plain": "['./pubmed-rct/PubMed_20k_RCT_numbers_replaced_with_at_signdev.txt',\n './pubmed-rct/PubMed_20k_RCT_numbers_replaced_with_at_signtrain.txt',\n './pubmed-rct/PubMed_20k_RCT_numbers_replaced_with_at_signtest.txt']"
     },
     "execution_count": 7,
     "metadata": {},
     "output_type": "execute_result"
    }
   ],
   "source": [
    "# Check all the filenames in the target directory\n",
    "filenames = [data_dir + filename for filename in os.listdir(data_dir)]\n",
    "filenames"
   ],
   "metadata": {
    "id": "3IIKpKXC1Vh_",
    "outputId": "3e648939-3154-4d11-8739-75def2905b50",
    "colab": {
     "base_uri": "https://localhost:8080/"
    },
    "ExecuteTime": {
     "end_time": "2023-08-03T09:23:41.979834Z",
     "start_time": "2023-08-03T09:23:41.923965Z"
    }
   }
  },
  {
   "cell_type": "markdown",
   "source": [
    "## Preprocess data\n",
    "\n",
    "Now we've got some text data, it's time to become one with it.\n",
    "\n",
    "And one of the best ways to become one with the data is to... visualize visualize visualize...\n",
    "\n",
    "So with that in mind, let's write a function to read in all of the lines of a target text file."
   ],
   "metadata": {
    "collapsed": false,
    "id": "v7yLzDPL1ViA"
   }
  },
  {
   "cell_type": "code",
   "execution_count": 8,
   "outputs": [],
   "source": [
    "# Create a function to read the lines of a document\n",
    "def get_lines(filename: str) -> list[str]:\n",
    "    \"\"\"\n",
    "    Reads filename (a text filename) and returns all of the lines of text as a list.\n",
    "    :param filename:\n",
    "    :return:\n",
    "    \"\"\"\n",
    "    with open(filename, 'r') as f:\n",
    "        return f.readlines()"
   ],
   "metadata": {
    "id": "Qlah6uvZ1ViA",
    "ExecuteTime": {
     "end_time": "2023-08-03T09:23:43.956820Z",
     "start_time": "2023-08-03T09:23:43.904069Z"
    }
   }
  },
  {
   "cell_type": "code",
   "execution_count": 9,
   "outputs": [
    {
     "data": {
      "text/plain": "['###24293578\\n',\n 'OBJECTIVE\\tTo investigate the efficacy of @ weeks of daily low-dose oral prednisolone in improving pain , mobility , and systemic low-grade inflammation in the short term and whether the effect would be sustained at @ weeks in older adults with moderate to severe knee osteoarthritis ( OA ) .\\n',\n 'METHODS\\tA total of @ patients with primary knee OA were randomized @:@ ; @ received @ mg/day of prednisolone and @ received placebo for @ weeks .\\n',\n 'METHODS\\tOutcome measures included pain reduction and improvement in function scores and systemic inflammation markers .\\n',\n 'METHODS\\tPain was assessed using the visual analog pain scale ( @-@ mm ) .\\n',\n 'METHODS\\tSecondary outcome measures included the Western Ontario and McMaster Universities Osteoarthritis Index scores , patient global assessment ( PGA ) of the severity of knee OA , and @-min walk distance ( @MWD ) .\\n',\n 'METHODS\\tSerum levels of interleukin @ ( IL-@ ) , IL-@ , tumor necrosis factor ( TNF ) - , and high-sensitivity C-reactive protein ( hsCRP ) were measured .\\n',\n 'RESULTS\\tThere was a clinically relevant reduction in the intervention group compared to the placebo group for knee pain , physical function , PGA , and @MWD at @ weeks .\\n',\n 'RESULTS\\tThe mean difference between treatment arms ( @ % CI ) was @ ( @-@ @ ) , p < @ ; @ ( @-@ @ ) , p < @ ; @ ( @-@ @ ) , p < @ ; and @ ( @-@ @ ) , p < @ , respectively .\\n',\n 'RESULTS\\tFurther , there was a clinically relevant reduction in the serum levels of IL-@ , IL-@ , TNF - , and hsCRP at @ weeks in the intervention group when compared to the placebo group .\\n',\n 'RESULTS\\tThese differences remained significant at @ weeks .\\n',\n 'RESULTS\\tThe Outcome Measures in Rheumatology Clinical Trials-Osteoarthritis Research Society International responder rate was @ % in the intervention group and @ % in the placebo group ( p < @ ) .\\n',\n 'CONCLUSIONS\\tLow-dose oral prednisolone had both a short-term and a longer sustained effect resulting in less knee pain , better physical function , and attenuation of systemic inflammation in older patients with knee OA ( ClinicalTrials.gov identifier NCT@ ) .\\n',\n '\\n',\n '###24854809\\n',\n 'BACKGROUND\\tEmotional eating is associated with overeating and the development of obesity .\\n',\n 'BACKGROUND\\tYet , empirical evidence for individual ( trait ) differences in emotional eating and cognitive mechanisms that contribute to eating during sad mood remain equivocal .\\n',\n 'OBJECTIVE\\tThe aim of this study was to test if attention bias for food moderates the effect of self-reported emotional eating during sad mood ( vs neutral mood ) on actual food intake .\\n',\n 'OBJECTIVE\\tIt was expected that emotional eating is predictive of elevated attention for food and higher food intake after an experimentally induced sad mood and that attentional maintenance on food predicts food intake during a sad versus a neutral mood .\\n',\n 'METHODS\\tParticipants ( N = @ ) were randomly assigned to one of the two experimental mood induction conditions ( sad/neutral ) .\\n']"
     },
     "execution_count": 9,
     "metadata": {},
     "output_type": "execute_result"
    }
   ],
   "source": [
    "# Let's read in the training lines\n",
    "train_lines = get_lines(f\"{data_dir}/train.txt\")\n",
    "train_lines[:20]"
   ],
   "metadata": {
    "id": "Q23kkqJg1ViA",
    "outputId": "ad849908-b96f-4664-a654-4ec4e8184f26",
    "ExecuteTime": {
     "end_time": "2023-08-03T09:23:44.900964Z",
     "start_time": "2023-08-03T09:23:44.817826Z"
    }
   }
  },
  {
   "cell_type": "code",
   "execution_count": 10,
   "outputs": [
    {
     "data": {
      "text/plain": "210040"
     },
     "execution_count": 10,
     "metadata": {},
     "output_type": "execute_result"
    }
   ],
   "source": [
    "len(train_lines)"
   ],
   "metadata": {
    "id": "ZGBBk8-p1ViA",
    "outputId": "cd84a7ec-0f54-4413-ce12-dfe6a5cfa8d6",
    "ExecuteTime": {
     "end_time": "2023-08-03T09:23:46.074703Z",
     "start_time": "2023-08-03T09:23:46.019621Z"
    }
   }
  },
  {
   "cell_type": "markdown",
   "source": [
    "Let's think about how we want our data to look...\n",
    "\n",
    "How I think our data would be best represented...\n",
    "\n",
    "[{line_number: 0, target: 'BACKGROUND', text: 'Emotional eating is associated with overeating and the development of obesity .', total_lines: 11}]"
   ],
   "metadata": {
    "collapsed": false,
    "id": "R_aeRDWj1ViB"
   }
  },
  {
   "cell_type": "code",
   "execution_count": 11,
   "outputs": [],
   "source": [
    "def preprocess_text_with_line_numbers(filepath: str) -> list[dict]:\n",
    "    \"\"\"\n",
    "    takes in filenanem reads it contents and sorts through each line, extracting things like the target label, the text of the sentence, how many sentences are in the current abstract and what sentence number the target line is.\n",
    "\n",
    "    :param filepath: the file path\n",
    "    :return: list of dictionaries\n",
    "    \"\"\"\n",
    "    lines = get_lines(filepath)\n",
    "\n",
    "    abstract_lines = \"\"\n",
    "    abstract_samples = []\n",
    "\n",
    "    for line in lines:\n",
    "        if line.startswith('###'):\n",
    "            abstract_id = line\n",
    "            abstract_lines = \"\"\n",
    "        elif line.isspace():\n",
    "            abstract_lines_split = abstract_lines.splitlines()\n",
    "\n",
    "            for abstract_line_number, abstract_line in enumerate(abstract_lines_split):\n",
    "                target, text = abstract_line.split('\\t')\n",
    "\n",
    "                line_data = {\n",
    "                    \"line_number\": abstract_line_number,\n",
    "                    \"target\": target,\n",
    "                    \"text\": text.lower(),\n",
    "                    \"total_lines\": len(abstract_lines_split)\n",
    "                }\n",
    "                abstract_samples.append(line_data)\n",
    "        else:\n",
    "            abstract_lines += line\n",
    "\n",
    "    return abstract_samples"
   ],
   "metadata": {
    "id": "DFqG5HMy1ViB",
    "ExecuteTime": {
     "end_time": "2023-08-03T09:23:47.383907Z",
     "start_time": "2023-08-03T09:23:47.328720Z"
    }
   }
  },
  {
   "cell_type": "code",
   "execution_count": 12,
   "outputs": [
    {
     "name": "stdout",
     "output_type": "stream",
     "text": [
      "CPU times: user 204 ms, sys: 27.1 ms, total: 231 ms\n",
      "Wall time: 235 ms\n"
     ]
    },
    {
     "data": {
      "text/plain": "(180040, 30212, 30135)"
     },
     "execution_count": 12,
     "metadata": {},
     "output_type": "execute_result"
    }
   ],
   "source": [
    "%%time\n",
    "train_samples = preprocess_text_with_line_numbers(f\"{data_dir}/train.txt\")\n",
    "val_samples = preprocess_text_with_line_numbers(f\"{data_dir}/dev.txt\")\n",
    "test_samples = preprocess_text_with_line_numbers(f\"{data_dir}/test.txt\")\n",
    "len(train_samples), len(val_samples), len(test_samples)"
   ],
   "metadata": {
    "id": "jdYQOfIA1ViB",
    "outputId": "a5e1c6b7-e8bd-47a0-c5eb-039727e0dee7",
    "colab": {
     "base_uri": "https://localhost:8080/"
    },
    "ExecuteTime": {
     "end_time": "2023-08-03T09:23:48.435055Z",
     "start_time": "2023-08-03T09:23:48.143472Z"
    }
   }
  },
  {
   "cell_type": "code",
   "execution_count": 13,
   "outputs": [
    {
     "data": {
      "text/plain": "[{'line_number': 0,\n  'target': 'OBJECTIVE',\n  'text': 'to investigate the efficacy of @ weeks of daily low-dose oral prednisolone in improving pain , mobility , and systemic low-grade inflammation in the short term and whether the effect would be sustained at @ weeks in older adults with moderate to severe knee osteoarthritis ( oa ) .',\n  'total_lines': 12},\n {'line_number': 1,\n  'target': 'METHODS',\n  'text': 'a total of @ patients with primary knee oa were randomized @:@ ; @ received @ mg/day of prednisolone and @ received placebo for @ weeks .',\n  'total_lines': 12},\n {'line_number': 2,\n  'target': 'METHODS',\n  'text': 'outcome measures included pain reduction and improvement in function scores and systemic inflammation markers .',\n  'total_lines': 12},\n {'line_number': 3,\n  'target': 'METHODS',\n  'text': 'pain was assessed using the visual analog pain scale ( @-@ mm ) .',\n  'total_lines': 12},\n {'line_number': 4,\n  'target': 'METHODS',\n  'text': 'secondary outcome measures included the western ontario and mcmaster universities osteoarthritis index scores , patient global assessment ( pga ) of the severity of knee oa , and @-min walk distance ( @mwd ) .',\n  'total_lines': 12},\n {'line_number': 5,\n  'target': 'METHODS',\n  'text': 'serum levels of interleukin @ ( il-@ ) , il-@ , tumor necrosis factor ( tnf ) - , and high-sensitivity c-reactive protein ( hscrp ) were measured .',\n  'total_lines': 12},\n {'line_number': 6,\n  'target': 'RESULTS',\n  'text': 'there was a clinically relevant reduction in the intervention group compared to the placebo group for knee pain , physical function , pga , and @mwd at @ weeks .',\n  'total_lines': 12},\n {'line_number': 7,\n  'target': 'RESULTS',\n  'text': 'the mean difference between treatment arms ( @ % ci ) was @ ( @-@ @ ) , p < @ ; @ ( @-@ @ ) , p < @ ; @ ( @-@ @ ) , p < @ ; and @ ( @-@ @ ) , p < @ , respectively .',\n  'total_lines': 12},\n {'line_number': 8,\n  'target': 'RESULTS',\n  'text': 'further , there was a clinically relevant reduction in the serum levels of il-@ , il-@ , tnf - , and hscrp at @ weeks in the intervention group when compared to the placebo group .',\n  'total_lines': 12},\n {'line_number': 9,\n  'target': 'RESULTS',\n  'text': 'these differences remained significant at @ weeks .',\n  'total_lines': 12},\n {'line_number': 10,\n  'target': 'RESULTS',\n  'text': 'the outcome measures in rheumatology clinical trials-osteoarthritis research society international responder rate was @ % in the intervention group and @ % in the placebo group ( p < @ ) .',\n  'total_lines': 12},\n {'line_number': 11,\n  'target': 'CONCLUSIONS',\n  'text': 'low-dose oral prednisolone had both a short-term and a longer sustained effect resulting in less knee pain , better physical function , and attenuation of systemic inflammation in older patients with knee oa ( clinicaltrials.gov identifier nct@ ) .',\n  'total_lines': 12},\n {'line_number': 0,\n  'target': 'BACKGROUND',\n  'text': 'emotional eating is associated with overeating and the development of obesity .',\n  'total_lines': 11},\n {'line_number': 1,\n  'target': 'BACKGROUND',\n  'text': 'yet , empirical evidence for individual ( trait ) differences in emotional eating and cognitive mechanisms that contribute to eating during sad mood remain equivocal .',\n  'total_lines': 11}]"
     },
     "execution_count": 13,
     "metadata": {},
     "output_type": "execute_result"
    }
   ],
   "source": [
    "# Check the first abstract of our training data\n",
    "train_samples[:14]"
   ],
   "metadata": {
    "id": "kvoNtqH31ViB",
    "outputId": "ca292cae-0fb2-408b-be5d-73b72b365e57",
    "ExecuteTime": {
     "end_time": "2023-08-03T09:23:50.001850Z",
     "start_time": "2023-08-03T09:23:49.946582Z"
    }
   }
  },
  {
   "cell_type": "markdown",
   "source": [
    "Now that our data is in the format of dictionaries, how about we turn it into a dataframe to further visualize it."
   ],
   "metadata": {
    "collapsed": false,
    "id": "BysW2Fnv1ViB"
   }
  },
  {
   "cell_type": "code",
   "execution_count": 17,
   "outputs": [
    {
     "data": {
      "text/plain": "    line_number       target   \n0             0    OBJECTIVE  \\\n1             1      METHODS   \n2             2      METHODS   \n3             3      METHODS   \n4             4      METHODS   \n5             5      METHODS   \n6             6      RESULTS   \n7             7      RESULTS   \n8             8      RESULTS   \n9             9      RESULTS   \n10           10      RESULTS   \n11           11  CONCLUSIONS   \n12            0   BACKGROUND   \n13            1   BACKGROUND   \n\n                                                 text  total_lines  \n0   to investigate the efficacy of @ weeks of dail...           12  \n1   a total of @ patients with primary knee oa wer...           12  \n2   outcome measures included pain reduction and i...           12  \n3   pain was assessed using the visual analog pain...           12  \n4   secondary outcome measures included the wester...           12  \n5   serum levels of interleukin @ ( il-@ ) , il-@ ...           12  \n6   there was a clinically relevant reduction in t...           12  \n7   the mean difference between treatment arms ( @...           12  \n8   further , there was a clinically relevant redu...           12  \n9   these differences remained significant at @ we...           12  \n10  the outcome measures in rheumatology clinical ...           12  \n11  low-dose oral prednisolone had both a short-te...           12  \n12  emotional eating is associated with overeating...           11  \n13  yet , empirical evidence for individual ( trai...           11  ",
      "text/html": "<div>\n<style scoped>\n    .dataframe tbody tr th:only-of-type {\n        vertical-align: middle;\n    }\n\n    .dataframe tbody tr th {\n        vertical-align: top;\n    }\n\n    .dataframe thead th {\n        text-align: right;\n    }\n</style>\n<table border=\"1\" class=\"dataframe\">\n  <thead>\n    <tr style=\"text-align: right;\">\n      <th></th>\n      <th>line_number</th>\n      <th>target</th>\n      <th>text</th>\n      <th>total_lines</th>\n    </tr>\n  </thead>\n  <tbody>\n    <tr>\n      <th>0</th>\n      <td>0</td>\n      <td>OBJECTIVE</td>\n      <td>to investigate the efficacy of @ weeks of dail...</td>\n      <td>12</td>\n    </tr>\n    <tr>\n      <th>1</th>\n      <td>1</td>\n      <td>METHODS</td>\n      <td>a total of @ patients with primary knee oa wer...</td>\n      <td>12</td>\n    </tr>\n    <tr>\n      <th>2</th>\n      <td>2</td>\n      <td>METHODS</td>\n      <td>outcome measures included pain reduction and i...</td>\n      <td>12</td>\n    </tr>\n    <tr>\n      <th>3</th>\n      <td>3</td>\n      <td>METHODS</td>\n      <td>pain was assessed using the visual analog pain...</td>\n      <td>12</td>\n    </tr>\n    <tr>\n      <th>4</th>\n      <td>4</td>\n      <td>METHODS</td>\n      <td>secondary outcome measures included the wester...</td>\n      <td>12</td>\n    </tr>\n    <tr>\n      <th>5</th>\n      <td>5</td>\n      <td>METHODS</td>\n      <td>serum levels of interleukin @ ( il-@ ) , il-@ ...</td>\n      <td>12</td>\n    </tr>\n    <tr>\n      <th>6</th>\n      <td>6</td>\n      <td>RESULTS</td>\n      <td>there was a clinically relevant reduction in t...</td>\n      <td>12</td>\n    </tr>\n    <tr>\n      <th>7</th>\n      <td>7</td>\n      <td>RESULTS</td>\n      <td>the mean difference between treatment arms ( @...</td>\n      <td>12</td>\n    </tr>\n    <tr>\n      <th>8</th>\n      <td>8</td>\n      <td>RESULTS</td>\n      <td>further , there was a clinically relevant redu...</td>\n      <td>12</td>\n    </tr>\n    <tr>\n      <th>9</th>\n      <td>9</td>\n      <td>RESULTS</td>\n      <td>these differences remained significant at @ we...</td>\n      <td>12</td>\n    </tr>\n    <tr>\n      <th>10</th>\n      <td>10</td>\n      <td>RESULTS</td>\n      <td>the outcome measures in rheumatology clinical ...</td>\n      <td>12</td>\n    </tr>\n    <tr>\n      <th>11</th>\n      <td>11</td>\n      <td>CONCLUSIONS</td>\n      <td>low-dose oral prednisolone had both a short-te...</td>\n      <td>12</td>\n    </tr>\n    <tr>\n      <th>12</th>\n      <td>0</td>\n      <td>BACKGROUND</td>\n      <td>emotional eating is associated with overeating...</td>\n      <td>11</td>\n    </tr>\n    <tr>\n      <th>13</th>\n      <td>1</td>\n      <td>BACKGROUND</td>\n      <td>yet , empirical evidence for individual ( trai...</td>\n      <td>11</td>\n    </tr>\n  </tbody>\n</table>\n</div>"
     },
     "execution_count": 17,
     "metadata": {},
     "output_type": "execute_result"
    }
   ],
   "source": [
    "train_df = pd.DataFrame(train_samples)\n",
    "val_df = pd.DataFrame(val_samples)\n",
    "test_df = pd.DataFrame(test_samples)\n",
    "train_df.head(14)"
   ],
   "metadata": {
    "id": "-MJEVWqX1ViB",
    "outputId": "70b47023-b0eb-4b7b-81d8-80914cf2fed0",
    "colab": {
     "base_uri": "https://localhost:8080/",
     "height": 475
    },
    "ExecuteTime": {
     "end_time": "2023-08-03T09:25:37.281803Z",
     "start_time": "2023-08-03T09:25:37.053629Z"
    }
   }
  },
  {
   "cell_type": "code",
   "execution_count": 18,
   "outputs": [
    {
     "data": {
      "text/plain": "target\nMETHODS        59353\nRESULTS        57953\nCONCLUSIONS    27168\nBACKGROUND     21727\nOBJECTIVE      13839\nName: count, dtype: int64"
     },
     "execution_count": 18,
     "metadata": {},
     "output_type": "execute_result"
    }
   ],
   "source": [
    "# Distributions of labels in the training set\n",
    "train_df.target.value_counts()"
   ],
   "metadata": {
    "id": "nPA7CfTU1ViB",
    "outputId": "5f566ac2-9dab-43d6-e828-e8a41dbb4aaa",
    "ExecuteTime": {
     "end_time": "2023-08-03T09:25:39.281266Z",
     "start_time": "2023-08-03T09:25:39.198540Z"
    }
   }
  },
  {
   "cell_type": "code",
   "execution_count": null,
   "outputs": [
    {
     "data": {
      "text/plain": "<Axes: ylabel='Frequency'>"
     },
     "execution_count": 38,
     "metadata": {},
     "output_type": "execute_result"
    },
    {
     "data": {
      "text/plain": "<Figure size 640x480 with 1 Axes>",
      "image/png": "[encoded data removed]"
     },
     "metadata": {},
     "output_type": "display_data"
    }
   ],
   "source": [
    "# Check the length of different lines\n",
    "train_df.total_lines.plot.hist()"
   ],
   "metadata": {
    "ExecuteTime": {
     "end_time": "2023-07-18T07:25:02.596808Z",
     "start_time": "2023-07-18T07:25:02.318571Z"
    },
    "id": "kFw3ySvW1ViC",
    "outputId": "71183fae-38d5-4883-d6b3-fbd7538de071"
   }
  },
  {
   "cell_type": "code",
   "execution_count": 19,
   "outputs": [
    {
     "data": {
      "text/plain": "(180040, 30212, 30135)"
     },
     "execution_count": 19,
     "metadata": {},
     "output_type": "execute_result"
    }
   ],
   "source": [
    "### Get list of sentences\n",
    "train_sentences = train_df['text'].to_list()\n",
    "val_sentences = val_df['text'].to_list()\n",
    "test_sentences = test_df['text'].to_list()\n",
    "len(train_sentences), len(val_sentences), len(test_sentences)"
   ],
   "metadata": {
    "id": "enQszcka1ViC",
    "outputId": "75ed77aa-35bf-46ac-fb55-61c7b3662890",
    "colab": {
     "base_uri": "https://localhost:8080/"
    },
    "ExecuteTime": {
     "end_time": "2023-08-03T09:25:42.675890Z",
     "start_time": "2023-08-03T09:25:42.599145Z"
    }
   }
  },
  {
   "cell_type": "code",
   "execution_count": null,
   "outputs": [
    {
     "data": {
      "text/plain": "['to investigate the efficacy of @ weeks of daily low-dose oral prednisolone in improving pain , mobility , and systemic low-grade inflammation in the short term and whether the effect would be sustained at @ weeks in older adults with moderate to severe knee osteoarthritis ( oa ) .',\n 'a total of @ patients with primary knee oa were randomized @:@ ; @ received @ mg/day of prednisolone and @ received placebo for @ weeks .',\n 'outcome measures included pain reduction and improvement in function scores and systemic inflammation markers .',\n 'pain was assessed using the visual analog pain scale ( @-@ mm ) .',\n 'secondary outcome measures included the western ontario and mcmaster universities osteoarthritis index scores , patient global assessment ( pga ) of the severity of knee oa , and @-min walk distance ( @mwd ) .',\n 'serum levels of interleukin @ ( il-@ ) , il-@ , tumor necrosis factor ( tnf ) - , and high-sensitivity c-reactive protein ( hscrp ) were measured .',\n 'there was a clinically relevant reduction in the intervention group compared to the placebo group for knee pain , physical function , pga , and @mwd at @ weeks .',\n 'the mean difference between treatment arms ( @ % ci ) was @ ( @-@ @ ) , p < @ ; @ ( @-@ @ ) , p < @ ; @ ( @-@ @ ) , p < @ ; and @ ( @-@ @ ) , p < @ , respectively .',\n 'further , there was a clinically relevant reduction in the serum levels of il-@ , il-@ , tnf - , and hscrp at @ weeks in the intervention group when compared to the placebo group .',\n 'these differences remained significant at @ weeks .']"
     },
     "execution_count": 40,
     "metadata": {},
     "output_type": "execute_result"
    }
   ],
   "source": [
    "train_sentences[:10]"
   ],
   "metadata": {
    "ExecuteTime": {
     "end_time": "2023-07-18T07:27:08.831911Z",
     "start_time": "2023-07-18T07:27:08.678029Z"
    },
    "id": "5WDRERZx1ViC",
    "outputId": "28efe599-c7b9-4166-fbc0-9304da7998a4"
   }
  },
  {
   "cell_type": "code",
   "execution_count": null,
   "outputs": [
    {
     "data": {
      "text/plain": "<Axes: ylabel='Frequency'>"
     },
     "execution_count": 53,
     "metadata": {},
     "output_type": "execute_result"
    },
    {
     "data": {
      "text/plain": "<Figure size 1600x400 with 1 Axes>",
      "image/png": "[encoded data removed]"
     },
     "metadata": {},
     "output_type": "display_data"
    }
   ],
   "source": [
    "train_df['text'].map(lambda l: len(l.split())).plot.hist(figsize=(16,4), bins=300)"
   ],
   "metadata": {
    "ExecuteTime": {
     "end_time": "2023-07-18T07:37:05.310470Z",
     "start_time": "2023-07-18T07:37:04.801857Z"
    },
    "id": "SFK5uRXK1ViC",
    "outputId": "839ff16f-b4e5-4cb3-c00c-b2156640e4a5"
   }
  },
  {
   "cell_type": "markdown",
   "source": [
    "## Making numeric labels (ML Models require numeric labels)"
   ],
   "metadata": {
    "collapsed": false,
    "id": "Aj0n8JEC1ViC"
   }
  },
  {
   "cell_type": "code",
   "execution_count": 20,
   "outputs": [
    {
     "data": {
      "text/plain": "array([[0., 0., 0., 1., 0.],\n       [0., 0., 1., 0., 0.],\n       [0., 0., 1., 0., 0.],\n       ...,\n       [0., 0., 0., 0., 1.],\n       [0., 1., 0., 0., 0.],\n       [0., 1., 0., 0., 0.]])"
     },
     "execution_count": 20,
     "metadata": {},
     "output_type": "execute_result"
    }
   ],
   "source": [
    "# One hot encode labels\n",
    "encoder, train_labels_one_hot, val_labels_one_hot, test_labels_one_hot = \\\n",
    "    ml_data.one_hot_encode_column(\n",
    "        train_df['target'],\n",
    "        val_df['target'],\n",
    "        test_df['target']\n",
    "    )\n",
    "\n",
    "train_labels_one_hot"
   ],
   "metadata": {
    "id": "MrRcoUbf1ViC",
    "outputId": "e601ce37-98ff-403c-93e8-2d5f5aa0c420",
    "colab": {
     "base_uri": "https://localhost:8080/"
    },
    "ExecuteTime": {
     "end_time": "2023-08-03T09:25:49.787917Z",
     "start_time": "2023-08-03T09:25:49.689088Z"
    }
   }
  },
  {
   "cell_type": "code",
   "execution_count": 20,
   "outputs": [
    {
     "output_type": "execute_result",
     "data": {
      "text/plain": [
       "(1, 2)"
      ]
     },
     "metadata": {},
     "execution_count": 20
    }
   ],
   "source": [
    "train_df['target'].to_numpy().ndim, train_df['target'].to_numpy().reshape(-1, 1).ndim"
   ],
   "metadata": {
    "ExecuteTime": {
     "end_time": "2023-07-20T19:09:38.932180Z",
     "start_time": "2023-07-20T19:09:38.863966Z"
    },
    "id": "asDLYinX1ViC",
    "outputId": "e5218f31-0975-4926-ea77-082da5cbe683",
    "colab": {
     "base_uri": "https://localhost:8080/"
    }
   }
  },
  {
   "cell_type": "markdown",
   "source": [
    "### Label encode labels"
   ],
   "metadata": {
    "collapsed": false,
    "id": "XinRBT6k1ViC"
   }
  },
  {
   "cell_type": "code",
   "execution_count": 21,
   "outputs": [
    {
     "data": {
      "text/plain": "array([3, 2, 2, ..., 4, 1, 1])"
     },
     "execution_count": 21,
     "metadata": {},
     "output_type": "execute_result"
    }
   ],
   "source": [
    "# Extract labels (\"target\" column) and encode them into integers\n",
    "from sklearn.preprocessing import LabelEncoder\n",
    "label_encoder = LabelEncoder()\n",
    "train_labels_encoded = label_encoder.fit_transform(train_df[\"target\"].to_numpy())\n",
    "val_labels_encoded = label_encoder.fit_transform(val_df[\"target\"].to_numpy())\n",
    "test_labels_encoded = label_encoder.fit_transform(test_df[\"target\"].to_numpy())\n",
    "\n",
    "# check what training labels look like\n",
    "train_labels_encoded"
   ],
   "metadata": {
    "id": "z61kx3Ch1ViD",
    "outputId": "cbc761e0-45ce-473f-c93d-49684fae65c2",
    "colab": {
     "base_uri": "https://localhost:8080/"
    },
    "ExecuteTime": {
     "end_time": "2023-08-03T09:25:54.543724Z",
     "start_time": "2023-08-03T09:25:54.442312Z"
    }
   }
  },
  {
   "cell_type": "code",
   "execution_count": 22,
   "outputs": [
    {
     "data": {
      "text/plain": "(5,\n array(['BACKGROUND', 'CONCLUSIONS', 'METHODS', 'OBJECTIVE', 'RESULTS'],\n       dtype=object))"
     },
     "execution_count": 22,
     "metadata": {},
     "output_type": "execute_result"
    }
   ],
   "source": [
    "# Get class names and number of classes from Label Encoder instance\n",
    "num_classes = len(label_encoder.classes_)\n",
    "class_names = label_encoder.classes_\n",
    "num_classes, class_names"
   ],
   "metadata": {
    "id": "doH6i4hQ1ViD",
    "outputId": "e3f21393-d54d-4136-9187-4937c3daa335",
    "colab": {
     "base_uri": "https://localhost:8080/"
    },
    "ExecuteTime": {
     "end_time": "2023-08-03T09:25:56.200446Z",
     "start_time": "2023-08-03T09:25:56.132335Z"
    }
   }
  },
  {
   "cell_type": "code",
   "execution_count": 23,
   "outputs": [
    {
     "data": {
      "text/plain": "array(['BACKGROUND', 'RESULTS', 'RESULTS', ..., 'RESULTS', 'RESULTS',\n       'CONCLUSIONS'], dtype=object)"
     },
     "execution_count": 23,
     "metadata": {},
     "output_type": "execute_result"
    }
   ],
   "source": [
    "test_df['target'].to_numpy()"
   ],
   "metadata": {
    "id": "EZEQzF3R1ViD",
    "outputId": "af8630af-0788-45e5-ee60-4cb65bed8c14",
    "ExecuteTime": {
     "end_time": "2023-08-03T09:26:00.932607Z",
     "start_time": "2023-08-03T09:26:00.870345Z"
    }
   }
  },
  {
   "cell_type": "markdown",
   "source": [
    "## Starting a series of modelling experiments...\n",
    "\n",
    "As usual, we're going to be trying out a bunch of different models and seeing which one works best. And as always, we're going to start with a baseline (TF-IDF) Multinomial Naive Bayes classifier."
   ],
   "metadata": {
    "collapsed": false,
    "id": "OtCw_9Ge1ViD"
   }
  },
  {
   "cell_type": "markdown",
   "source": [
    "#Model 0: Getting a baseline"
   ],
   "metadata": {
    "collapsed": false,
    "id": "yc-mTOPZ1ViD"
   }
  },
  {
   "cell_type": "code",
   "execution_count": null,
   "outputs": [
    {
     "data": {
      "text/plain": "Pipeline(steps=[('tf-idf', TfidfVectorizer()), ('clf', MultinomialNB())])",
      "text/html": "<style>#sk-container-id-2 {color: black;background-color: white;}#sk-container-id-2 pre{padding: 0;}#sk-container-id-2 div.sk-toggleable {background-color: white;}#sk-container-id-2 label.sk-toggleable__label {cursor: pointer;display: block;width: 100%;margin-bottom: 0;padding: 0.3em;box-sizing: border-box;text-align: center;}#sk-container-id-2 label.sk-toggleable__label-arrow:before {content: \"▸\";float: left;margin-right: 0.25em;color: #696969;}#sk-container-id-2 label.sk-toggleable__label-arrow:hover:before {color: black;}#sk-container-id-2 div.sk-estimator:hover label.sk-toggleable__label-arrow:before {color: black;}#sk-container-id-2 div.sk-toggleable__content {max-height: 0;max-width: 0;overflow: hidden;text-align: left;background-color: #f0f8ff;}#sk-container-id-2 div.sk-toggleable__content pre {margin: 0.2em;color: black;border-radius: 0.25em;background-color: #f0f8ff;}#sk-container-id-2 input.sk-toggleable__control:checked~div.sk-toggleable__content {max-height: 200px;max-width: 100%;overflow: auto;}#sk-container-id-2 input.sk-toggleable__control:checked~label.sk-toggleable__label-arrow:before {content: \"▾\";}#sk-container-id-2 div.sk-estimator input.sk-toggleable__control:checked~label.sk-toggleable__label {background-color: #d4ebff;}#sk-container-id-2 div.sk-label input.sk-toggleable__control:checked~label.sk-toggleable__label {background-color: #d4ebff;}#sk-container-id-2 input.sk-hidden--visually {border: 0;clip: rect(1px 1px 1px 1px);clip: rect(1px, 1px, 1px, 1px);height: 1px;margin: -1px;overflow: hidden;padding: 0;position: absolute;width: 1px;}#sk-container-id-2 div.sk-estimator {font-family: monospace;background-color: #f0f8ff;border: 1px dotted black;border-radius: 0.25em;box-sizing: border-box;margin-bottom: 0.5em;}#sk-container-id-2 div.sk-estimator:hover {background-color: #d4ebff;}#sk-container-id-2 div.sk-parallel-item::after {content: \"\";width: 100%;border-bottom: 1px solid gray;flex-grow: 1;}#sk-container-id-2 div.sk-label:hover label.sk-toggleable__label {background-color: #d4ebff;}#sk-container-id-2 div.sk-serial::before {content: \"\";position: absolute;border-left: 1px solid gray;box-sizing: border-box;top: 0;bottom: 0;left: 50%;z-index: 0;}#sk-container-id-2 div.sk-serial {display: flex;flex-direction: column;align-items: center;background-color: white;padding-right: 0.2em;padding-left: 0.2em;position: relative;}#sk-container-id-2 div.sk-item {position: relative;z-index: 1;}#sk-container-id-2 div.sk-parallel {display: flex;align-items: stretch;justify-content: center;background-color: white;position: relative;}#sk-container-id-2 div.sk-item::before, #sk-container-id-2 div.sk-parallel-item::before {content: \"\";position: absolute;border-left: 1px solid gray;box-sizing: border-box;top: 0;bottom: 0;left: 50%;z-index: -1;}#sk-container-id-2 div.sk-parallel-item {display: flex;flex-direction: column;z-index: 1;position: relative;background-color: white;}#sk-container-id-2 div.sk-parallel-item:first-child::after {align-self: flex-end;width: 50%;}#sk-container-id-2 div.sk-parallel-item:last-child::after {align-self: flex-start;width: 50%;}#sk-container-id-2 div.sk-parallel-item:only-child::after {width: 0;}#sk-container-id-2 div.sk-dashed-wrapped {border: 1px dashed gray;margin: 0 0.4em 0.5em 0.4em;box-sizing: border-box;padding-bottom: 0.4em;background-color: white;}#sk-container-id-2 div.sk-label label {font-family: monospace;font-weight: bold;display: inline-block;line-height: 1.2em;}#sk-container-id-2 div.sk-label-container {text-align: center;}#sk-container-id-2 div.sk-container {/* jupyter's `normalize.less` sets `[hidden] { display: none; }` but bootstrap.min.css set `[hidden] { display: none !important; }` so we also need the `!important` here to be able to override the default hidden behavior on the sphinx rendered scikit-learn.org. See: https://github.com/scikit-learn/scikit-learn/issues/21755 */display: inline-block !important;position: relative;}#sk-container-id-2 div.sk-text-repr-fallback {display: none;}</style><div id=\"sk-container-id-2\" class=\"sk-top-container\"><div class=\"sk-text-repr-fallback\"><pre>Pipeline(steps=[(&#x27;tf-idf&#x27;, TfidfVectorizer()), (&#x27;clf&#x27;, MultinomialNB())])</pre><b>In a Jupyter environment, please rerun this cell to show the HTML representation or trust the notebook. <br />On GitHub, the HTML representation is unable to render, please try loading this page with nbviewer.org.</b></div><div class=\"sk-container\" hidden><div class=\"sk-item sk-dashed-wrapped\"><div class=\"sk-label-container\"><div class=\"sk-label sk-toggleable\"><input class=\"sk-toggleable__control sk-hidden--visually\" id=\"sk-estimator-id-4\" type=\"checkbox\" ><label for=\"sk-estimator-id-4\" class=\"sk-toggleable__label sk-toggleable__label-arrow\">Pipeline</label><div class=\"sk-toggleable__content\"><pre>Pipeline(steps=[(&#x27;tf-idf&#x27;, TfidfVectorizer()), (&#x27;clf&#x27;, MultinomialNB())])</pre></div></div></div><div class=\"sk-serial\"><div class=\"sk-item\"><div class=\"sk-estimator sk-toggleable\"><input class=\"sk-toggleable__control sk-hidden--visually\" id=\"sk-estimator-id-5\" type=\"checkbox\" ><label for=\"sk-estimator-id-5\" class=\"sk-toggleable__label sk-toggleable__label-arrow\">TfidfVectorizer</label><div class=\"sk-toggleable__content\"><pre>TfidfVectorizer()</pre></div></div></div><div class=\"sk-item\"><div class=\"sk-estimator sk-toggleable\"><input class=\"sk-toggleable__control sk-hidden--visually\" id=\"sk-estimator-id-6\" type=\"checkbox\" ><label for=\"sk-estimator-id-6\" class=\"sk-toggleable__label sk-toggleable__label-arrow\">MultinomialNB</label><div class=\"sk-toggleable__content\"><pre>MultinomialNB()</pre></div></div></div></div></div></div></div>"
     },
     "execution_count": 103,
     "metadata": {},
     "output_type": "execute_result"
    }
   ],
   "source": [
    "from sklearn.feature_extraction.text import TfidfVectorizer\n",
    "from sklearn.naive_bayes import MultinomialNB\n",
    "from sklearn.pipeline import Pipeline\n",
    "\n",
    "# Create a pipeline\n",
    "model_0 = Pipeline([\n",
    "    (\"tf-idf\", TfidfVectorizer()),\n",
    "    (\"clf\", MultinomialNB())\n",
    "])\n",
    "\n",
    "# Fit the pipeline to the training data\n",
    "model_0.fit(X=train_sentences, y=train_labels_encoded) # We need to use the encoded labels and not the one-hot labels, it expects a sparse result"
   ],
   "metadata": {
    "ExecuteTime": {
     "end_time": "2023-07-18T09:59:15.408589Z",
     "start_time": "2023-07-18T09:59:13.722441Z"
    },
    "id": "AxzM7IT51ViD",
    "outputId": "1b95c787-2dda-4bbd-d3e6-6b646431c501"
   }
  },
  {
   "cell_type": "code",
   "execution_count": null,
   "outputs": [
    {
     "data": {
      "text/plain": "0.7218323844829869"
     },
     "execution_count": 104,
     "metadata": {},
     "output_type": "execute_result"
    }
   ],
   "source": [
    "# Evaluate our base pipeline on validation dataset\n",
    "model_0.score(X=val_sentences, y=val_labels_encoded)"
   ],
   "metadata": {
    "ExecuteTime": {
     "end_time": "2023-07-18T09:59:15.732955Z",
     "start_time": "2023-07-18T09:59:15.408122Z"
    },
    "id": "C9D25qN_1ViD",
    "outputId": "e917ae4c-00ea-499f-c4a8-3626412e1554"
   }
  },
  {
   "cell_type": "code",
   "execution_count": null,
   "outputs": [],
   "source": [
    "# Make predictions using our baseline model\n",
    "model_0_preds = model_0.predict(X=val_sentences)"
   ],
   "metadata": {
    "ExecuteTime": {
     "end_time": "2023-07-18T09:59:16.068214Z",
     "start_time": "2023-07-18T09:59:15.732165Z"
    },
    "id": "w-_cjlkw1ViD"
   }
  },
  {
   "cell_type": "code",
   "execution_count": null,
   "outputs": [
    {
     "data": {
      "text/plain": "{'accuracy': 72.1832384482987,\n 'f1': 0.6989250353450294,\n 'precision': 0.7186466952323352,\n 'recall': 0.7218323844829869}"
     },
     "execution_count": 106,
     "metadata": {},
     "output_type": "execute_result"
    }
   ],
   "source": [
    "model_0_results = ml_plot.table_quality_metrics(y_true=val_labels_encoded, y_pred=model_0_preds)\n",
    "model_0_results"
   ],
   "metadata": {
    "ExecuteTime": {
     "end_time": "2023-07-18T09:59:16.362162Z",
     "start_time": "2023-07-18T09:59:16.298781Z"
    },
    "id": "3JdHCwCc1ViE",
    "outputId": "672293c2-b835-418d-eca0-fd43911e46f4"
   }
  },
  {
   "cell_type": "markdown",
   "source": [
    "## Preparing our data (the text) for deep sequence model\n",
    "\n",
    "Before we start building deep models we got to create vectorization and embedding layers"
   ],
   "metadata": {
    "collapsed": false,
    "id": "wDvj1bdE1ViE"
   }
  },
  {
   "cell_type": "code",
   "execution_count": 24,
   "outputs": [
    {
     "data": {
      "text/plain": "26"
     },
     "execution_count": 24,
     "metadata": {},
     "output_type": "execute_result"
    }
   ],
   "source": [
    "# How long is each sentence on average\n",
    "average_sentence_length = ml_nlp.calculate_average_word_length(train_sentences)\n",
    "average_sentence_length"
   ],
   "metadata": {
    "id": "X4rQYwXl1ViE",
    "outputId": "ea8615f2-d921-4c79-b82e-69c01cd941b1",
    "colab": {
     "base_uri": "https://localhost:8080/"
    },
    "ExecuteTime": {
     "end_time": "2023-08-03T09:26:11.647365Z",
     "start_time": "2023-08-03T09:26:11.423341Z"
    }
   }
  },
  {
   "cell_type": "code",
   "execution_count": 25,
   "outputs": [
    {
     "data": {
      "text/plain": "55"
     },
     "execution_count": 25,
     "metadata": {},
     "output_type": "execute_result"
    }
   ],
   "source": [
    "# How long of a sentence length covers 95% of examples?\n",
    "output_sequence_length = ml_nlp.calculate_q_precentile_word_lengths(lines=train_sentences, q=95)\n",
    "output_sequence_length"
   ],
   "metadata": {
    "id": "uAr6-O0P1ViE",
    "outputId": "8f92e37e-b382-42f0-dd69-177b0f8ba75c",
    "colab": {
     "base_uri": "https://localhost:8080/"
    },
    "ExecuteTime": {
     "end_time": "2023-08-03T09:26:13.279380Z",
     "start_time": "2023-08-03T09:26:13.066481Z"
    }
   }
  },
  {
   "cell_type": "markdown",
   "source": [
    "### Create Text Vectorizer layer\n",
    "\n",
    "We want to make a layer which maps our text from words to numbers."
   ],
   "metadata": {
    "collapsed": false,
    "id": "0Igil5di1ViE"
   }
  },
  {
   "cell_type": "code",
   "execution_count": 26,
   "outputs": [
    {
     "name": "stdout",
     "output_type": "stream",
     "text": [
      "Metal device set to: Apple M1 Max\n"
     ]
    },
    {
     "data": {
      "text/plain": "64839"
     },
     "execution_count": 26,
     "metadata": {},
     "output_type": "execute_result"
    }
   ],
   "source": [
    "# How many words are there in our vocabulary? (taken from table 2 in the paper: https://arxiv.org/pdf/1710.06071.pdf )\n",
    "max_tokens = ml_nlp.count_unique_words(train_sentences)\n",
    "\n",
    "text_vectorizer = layers.TextVectorization(\n",
    "    max_tokens=max_tokens,\n",
    "    output_sequence_length=output_sequence_length,\n",
    "    pad_to_max_tokens=True\n",
    ")\n",
    "\n",
    "max_tokens"
   ],
   "metadata": {
    "id": "tN-IIuuX1ViE",
    "outputId": "b7f06678-7c5e-4b7f-ef8a-b26c0bb39140",
    "ExecuteTime": {
     "end_time": "2023-08-03T09:28:20.107556Z",
     "start_time": "2023-08-03T09:26:15.540157Z"
    }
   }
  },
  {
   "cell_type": "code",
   "execution_count": 27,
   "outputs": [
    {
     "name": "stderr",
     "output_type": "stream",
     "text": [
      "2023-08-03 11:28:21.638496: W tensorflow/tsl/platform/profile_utils/cpu_utils.cc:128] Failed to get CPU frequency: 0 Hz\n"
     ]
    }
   ],
   "source": [
    "# Adapt TextVectorizer to training sentences\n",
    "text_vectorizer.adapt(train_sentences)"
   ],
   "metadata": {
    "id": "uNfqPkHX1ViE",
    "outputId": "fd80a7b7-383a-42c2-b6fc-52de0793a8d6",
    "ExecuteTime": {
     "end_time": "2023-08-03T09:28:26.952870Z",
     "start_time": "2023-08-03T09:28:20.108548Z"
    }
   }
  },
  {
   "cell_type": "code",
   "execution_count": 28,
   "outputs": [
    {
     "data": {
      "text/plain": "(23,\n 'we were interested in examining the extent to which self-affirmation would reduce defensive responding to negative health images related to cigarette smoking .')"
     },
     "execution_count": 28,
     "metadata": {},
     "output_type": "execute_result"
    }
   ],
   "source": [
    "# Test out text vectorizer on random sentences\n",
    "target_sentence = random.choice(train_sentences)\n",
    "len(target_sentence.split()), target_sentence"
   ],
   "metadata": {
    "id": "euXBPM5y1ViF",
    "outputId": "7526b5b1-4529-4600-be20-7b21b0ee48ed",
    "ExecuteTime": {
     "end_time": "2023-08-03T09:28:27.014695Z",
     "start_time": "2023-08-03T09:28:26.953095Z"
    }
   }
  },
  {
   "cell_type": "code",
   "execution_count": 29,
   "outputs": [
    {
     "data": {
      "text/plain": "<tf.Tensor: shape=(55,), dtype=int64, numpy=\narray([   43,     9,  5993,     5,  2826,     2,  1387,     6,   126,\n       10552,   495,   270, 14113,  4225,     6,   469,    97,  1531,\n         328,     6,  2542,   425,     0,     0,     0,     0,     0,\n           0,     0,     0,     0,     0,     0,     0,     0,     0,\n           0,     0,     0,     0,     0,     0,     0,     0,     0,\n           0,     0,     0,     0,     0,     0,     0,     0,     0,\n           0])>"
     },
     "execution_count": 29,
     "metadata": {},
     "output_type": "execute_result"
    }
   ],
   "source": [
    "text_vectorizer(target_sentence)"
   ],
   "metadata": {
    "id": "rMEzfW6N1ViF",
    "outputId": "355a6456-c536-4e64-a879-8e09252b1753",
    "ExecuteTime": {
     "end_time": "2023-08-03T09:29:09.459255Z",
     "start_time": "2023-08-03T09:29:09.285479Z"
    }
   }
  },
  {
   "cell_type": "code",
   "execution_count": 30,
   "outputs": [
    {
     "data": {
      "text/plain": "64839"
     },
     "execution_count": 30,
     "metadata": {},
     "output_type": "execute_result"
    }
   ],
   "source": [
    "# How many words in our vocabulary\n",
    "len(text_vectorizer.get_vocabulary())"
   ],
   "metadata": {
    "id": "hBcZB65n1ViF",
    "outputId": "356de7aa-6738-4580-e51a-0a82df876a48",
    "ExecuteTime": {
     "end_time": "2023-08-03T09:29:12.602753Z",
     "start_time": "2023-08-03T09:29:12.449668Z"
    }
   }
  },
  {
   "cell_type": "code",
   "execution_count": 31,
   "outputs": [
    {
     "data": {
      "text/plain": "['', '[UNK]', 'the', 'and', 'of']"
     },
     "execution_count": 31,
     "metadata": {},
     "output_type": "execute_result"
    }
   ],
   "source": [
    "# What are the most common words in our vocabulary\n",
    "text_vectorizer.get_vocabulary()[:5]"
   ],
   "metadata": {
    "id": "g0BUXZxl1ViF",
    "outputId": "cc0b41bb-527b-477f-caa4-20317874919f",
    "ExecuteTime": {
     "end_time": "2023-08-03T09:29:15.108252Z",
     "start_time": "2023-08-03T09:29:14.947941Z"
    }
   }
  },
  {
   "cell_type": "code",
   "execution_count": 32,
   "outputs": [
    {
     "data": {
      "text/plain": "['aanhui', 'aana', 'aainduced', 'aaigroup', 'aachener']"
     },
     "execution_count": 32,
     "metadata": {},
     "output_type": "execute_result"
    }
   ],
   "source": [
    "# What are the least common words in our vocabulary\n",
    "text_vectorizer.get_vocabulary()[-5:]"
   ],
   "metadata": {
    "id": "P9oYXDYo1ViF",
    "outputId": "b80f74bd-225e-4ad3-b82e-57268eb97015",
    "ExecuteTime": {
     "end_time": "2023-08-03T09:29:17.101156Z",
     "start_time": "2023-08-03T09:29:16.959888Z"
    }
   }
  },
  {
   "cell_type": "code",
   "execution_count": 33,
   "outputs": [
    {
     "data": {
      "text/plain": "{'name': 'text_vectorization',\n 'trainable': True,\n 'dtype': 'string',\n 'batch_input_shape': (None,),\n 'max_tokens': 64839,\n 'standardize': 'lower_and_strip_punctuation',\n 'split': 'whitespace',\n 'ngrams': None,\n 'output_mode': 'int',\n 'output_sequence_length': 55,\n 'pad_to_max_tokens': True,\n 'sparse': False,\n 'ragged': False,\n 'vocabulary': None,\n 'idf_weights': None,\n 'encoding': 'utf-8',\n 'vocabulary_size': 64839}"
     },
     "execution_count": 33,
     "metadata": {},
     "output_type": "execute_result"
    }
   ],
   "source": [
    "# Get the config of our TextVectorizer\n",
    "text_vectorizer.get_config()"
   ],
   "metadata": {
    "id": "YtMa-Ld01ViF",
    "outputId": "d87594f4-fb14-44a0-960c-fed5ca65100c",
    "ExecuteTime": {
     "end_time": "2023-08-03T09:29:17.846073Z",
     "start_time": "2023-08-03T09:29:17.790601Z"
    }
   }
  },
  {
   "cell_type": "markdown",
   "source": [
    "## Create custom text embedding"
   ],
   "metadata": {
    "collapsed": false,
    "id": "GG01Rhwc1ViF"
   }
  },
  {
   "cell_type": "code",
   "execution_count": 34,
   "outputs": [
    {
     "data": {
      "text/plain": "<keras.layers.core.embedding.Embedding at 0x17be09fc0>"
     },
     "execution_count": 34,
     "metadata": {},
     "output_type": "execute_result"
    }
   ],
   "source": [
    "# Create token embedding layer\n",
    "token_embedding = layers.Embedding(\n",
    "    input_dim=max_tokens, # Length of vocabulary\n",
    "    output_dim=128, # Note: Different embedding sizing results in drastically different number of parameters to train.\n",
    "    mask_zero=True, # Use masking to handle variable sequence lengths (save space)\n",
    "    input_length=output_sequence_length,\n",
    "    name=\"token_embedding\"\n",
    ")\n",
    "token_embedding"
   ],
   "metadata": {
    "id": "OFA1czZy1ViG",
    "outputId": "60376205-a9ac-4646-e1be-b97ba5d5b8e1",
    "ExecuteTime": {
     "end_time": "2023-08-03T09:29:24.396755Z",
     "start_time": "2023-08-03T09:29:24.262851Z"
    }
   }
  },
  {
   "cell_type": "code",
   "execution_count": 35,
   "outputs": [
    {
     "name": "stdout",
     "output_type": "stream",
     "text": [
      "Original text: we were interested in examining the extent to which self-affirmation would reduce defensive responding to negative health images related to cigarette smoking .       \n",
      "Embedded version:\n"
     ]
    },
    {
     "data": {
      "text/plain": "(<tf.Tensor: shape=(1, 55, 128), dtype=float32, numpy=\n array([[[ 0.03763722,  0.02557169,  0.00915708, ...,  0.04083754,\n          -0.02390132,  0.00413017],\n         [ 0.03078003, -0.00709699,  0.03229127, ...,  0.00628556,\n          -0.01626935, -0.02853241],\n         [ 0.01718691, -0.04010581,  0.03248819, ...,  0.01079737,\n           0.0051268 ,  0.04595317],\n         ...,\n         [-0.02646837, -0.03586511,  0.03217984, ..., -0.02930632,\n          -0.04555372, -0.0146359 ],\n         [-0.02646837, -0.03586511,  0.03217984, ..., -0.02930632,\n          -0.04555372, -0.0146359 ],\n         [-0.02646837, -0.03586511,  0.03217984, ..., -0.02930632,\n          -0.04555372, -0.0146359 ]]], dtype=float32)>,\n TensorShape([1, 55, 128]))"
     },
     "execution_count": 35,
     "metadata": {},
     "output_type": "execute_result"
    }
   ],
   "source": [
    "print(f\"Original text: {target_sentence} \\\n",
    "      \\n\\rEmbedded version:\")\n",
    "\n",
    "# Embedd the random sentence (turn it into dense vectors of fixed size)\n",
    "sample_embed = token_embedding(text_vectorizer([target_sentence]))\n",
    "sample_embed, sample_embed.shape"
   ],
   "metadata": {
    "id": "Ciy-Mlsd1ViG",
    "outputId": "a9664410-b2be-40a6-e31d-da310cbe6e95",
    "ExecuteTime": {
     "end_time": "2023-08-03T09:29:26.440542Z",
     "start_time": "2023-08-03T09:29:26.299185Z"
    }
   }
  },
  {
   "cell_type": "markdown",
   "source": [
    "## Creating Datasets (making sure our data loads as fast as possible)\n",
    "\n",
    "https://www.tensorflow.org/guide/data_performance\n",
    "https://www.tensorflow.org/guide/data\n",
    "\n",
    "We're going to setup our data to run as fast as possible with the TensorFlow tf.data API, many of the steps here are discussed at length in these two resources."
   ],
   "metadata": {
    "collapsed": false,
    "id": "O58W2oUu1ViG"
   }
  },
  {
   "cell_type": "code",
   "execution_count": 36,
   "outputs": [
    {
     "data": {
      "text/plain": "<_TensorSliceDataset element_spec=(TensorSpec(shape=(), dtype=tf.string, name=None), TensorSpec(shape=(5,), dtype=tf.float64, name=None))>"
     },
     "execution_count": 36,
     "metadata": {},
     "output_type": "execute_result"
    }
   ],
   "source": [
    "# Turn our data into TensorFlow datasets.\n",
    "train_dataset = tf.data.Dataset.from_tensor_slices((train_sentences, train_labels_one_hot))\n",
    "val_dataset = tf.data.Dataset.from_tensor_slices((val_sentences, val_labels_one_hot))\n",
    "test_dataset = tf.data.Dataset.from_tensor_slices((test_sentences, test_labels_one_hot))\n",
    "\n",
    "train_dataset"
   ],
   "metadata": {
    "id": "czbpM19Q1ViG",
    "outputId": "5a3f3e6a-329a-44cc-975d-0ebdeca6fa37",
    "colab": {
     "base_uri": "https://localhost:8080/"
    },
    "ExecuteTime": {
     "end_time": "2023-08-03T09:29:29.523004Z",
     "start_time": "2023-08-03T09:29:29.078398Z"
    }
   }
  },
  {
   "cell_type": "code",
   "execution_count": null,
   "outputs": [
    {
     "data": {
      "text/plain": "((180040, 5), array([[0., 0., 0., 1., 0.]]))"
     },
     "execution_count": 201,
     "metadata": {},
     "output_type": "execute_result"
    }
   ],
   "source": [
    "train_labels_one_hot.shape, train_labels_one_hot[:1]"
   ],
   "metadata": {
    "ExecuteTime": {
     "end_time": "2023-07-19T08:57:40.687994Z",
     "start_time": "2023-07-19T08:57:40.623030Z"
    },
    "id": "LlZiigc31ViG",
    "outputId": "45b2d5d9-c1d1-4b78-f65c-39d52e9880e8"
   }
  },
  {
   "cell_type": "code",
   "execution_count": 37,
   "outputs": [
    {
     "data": {
      "text/plain": "<_PrefetchDataset element_spec=(TensorSpec(shape=(None,), dtype=tf.string, name=None), TensorSpec(shape=(None, 5), dtype=tf.float64, name=None))>"
     },
     "execution_count": 37,
     "metadata": {},
     "output_type": "execute_result"
    }
   ],
   "source": [
    "# Take the TensorSliceDataset's and turn them into prefetched datasets.\n",
    "train_dataset = train_dataset.batch(32).prefetch(buffer_size=tf.data.AUTOTUNE)\n",
    "val_dataset = val_dataset.batch(32).prefetch(buffer_size=tf.data.AUTOTUNE)\n",
    "test_dataset = test_dataset.batch(32).prefetch(buffer_size=tf.data.AUTOTUNE)\n",
    "\n",
    "train_dataset"
   ],
   "metadata": {
    "id": "VB2vCG6C1ViG",
    "outputId": "1fd8bbae-2411-4f3a-e987-0ec124f3b41f",
    "colab": {
     "base_uri": "https://localhost:8080/"
    },
    "ExecuteTime": {
     "end_time": "2023-08-03T09:29:33.937374Z",
     "start_time": "2023-08-03T09:29:33.872974Z"
    }
   }
  },
  {
   "cell_type": "markdown",
   "source": [
    "# Model 1: Conv1D model to process sequences"
   ],
   "metadata": {
    "collapsed": false,
    "id": "3yB4xSGo1ViH"
   }
  },
  {
   "cell_type": "code",
   "execution_count": null,
   "outputs": [],
   "source": [
    "inputs = layers.Input(shape=(1,), dtype=tf.string)\n",
    "x = text_vectorizer(inputs)\n",
    "x = token_embedding(x)\n",
    "x = layers.Conv1D(filters=64, kernel_size=5, activation=\"relu\", padding=\"same\")(x)\n",
    "x = layers.GlobalAveragePooling1D()(x) # condense the output from feature vector from conv layer\n",
    "outputs = layers.Dense(units=num_classes, activation=\"softmax\")(x)\n",
    "\n",
    "model_1 = Model(inputs, outputs, name=\"model_0_conv1d\")\n"
   ],
   "metadata": {
    "ExecuteTime": {
     "end_time": "2023-07-19T08:58:25.748986Z",
     "start_time": "2023-07-19T08:58:25.641001Z"
    },
    "id": "jX8CxiHf1ViH"
   }
  },
  {
   "cell_type": "code",
   "execution_count": null,
   "outputs": [
    {
     "name": "stdout",
     "output_type": "stream",
     "text": [
      "Model: \"model_0_conv1d\"\n",
      "_________________________________________________________________\n",
      " Layer (type)                Output Shape              Param #   \n",
      "=================================================================\n",
      " input_12 (InputLayer)       [(None, 1)]               0         \n",
      "                                                                 \n",
      " text_vectorization_2 (TextV  (None, 55)               0         \n",
      " ectorization)                                                   \n",
      "                                                                 \n",
      " token_embedding (Embedding)  (None, 55, 128)          8704000   \n",
      "                                                                 \n",
      " conv1d_11 (Conv1D)          (None, 55, 64)            41024     \n",
      "                                                                 \n",
      " global_average_pooling1d (G  (None, 64)               0         \n",
      " lobalAveragePooling1D)                                          \n",
      "                                                                 \n",
      " dense_11 (Dense)            (None, 5)                 325       \n",
      "                                                                 \n",
      "=================================================================\n",
      "Total params: 8,745,349\n",
      "Trainable params: 8,745,349\n",
      "Non-trainable params: 0\n",
      "_________________________________________________________________\n"
     ]
    }
   ],
   "source": [
    "model_1.compile(loss=losses.CategoricalCrossentropy(),\n",
    "                optimizer=optimizers.Adam(),\n",
    "                metrics=[\"accuracy\"])\n",
    "model_1.summary()"
   ],
   "metadata": {
    "ExecuteTime": {
     "end_time": "2023-07-19T08:58:26.203947Z",
     "start_time": "2023-07-19T08:58:26.139680Z"
    },
    "id": "X4oKxTnI1ViH",
    "outputId": "5158e98f-727b-4ab9-cab4-7dda681df323"
   }
  },
  {
   "cell_type": "code",
   "execution_count": null,
   "outputs": [
    {
     "name": "stdout",
     "output_type": "stream",
     "text": [
      "Epoch 1/3\n",
      "562/562 [==============================] - 17s 29ms/step - loss: 0.9192 - accuracy: 0.6345 - val_loss: 0.6903 - val_accuracy: 0.7374\n",
      "Epoch 2/3\n",
      "562/562 [==============================] - 13s 24ms/step - loss: 0.6605 - accuracy: 0.7563 - val_loss: 0.6323 - val_accuracy: 0.7689\n",
      "Epoch 3/3\n",
      "562/562 [==============================] - 14s 24ms/step - loss: 0.6207 - accuracy: 0.7752 - val_loss: 0.6002 - val_accuracy: 0.7836\n"
     ]
    }
   ],
   "source": [
    "# Fit the model\n",
    "model_1_history = model_1.fit(train_dataset,\n",
    "                              steps_per_epoch=int(0.1*len(train_dataset)), # Only use 10% of the dataset.\n",
    "                              epochs=3,\n",
    "                              validation_data=val_dataset,\n",
    "                              validation_steps=int(0.1*len(val_dataset)) # Only use 10% of the dataset.\n",
    "                              )"
   ],
   "metadata": {
    "ExecuteTime": {
     "end_time": "2023-07-19T09:02:50.267789Z",
     "start_time": "2023-07-19T09:02:05.831953Z"
    },
    "id": "OBE7CEQd1ViH",
    "outputId": "6bb10f71-7c39-44f8-f6d0-71892737f15b"
   }
  },
  {
   "cell_type": "code",
   "execution_count": null,
   "outputs": [
    {
     "data": {
      "text/plain": "<Figure size 1000x600 with 1 Axes>",
      "image/png": "[encoded data removed]"
     },
     "metadata": {},
     "output_type": "display_data"
    },
    {
     "data": {
      "text/plain": "<Figure size 1000x600 with 1 Axes>",
      "image/png": "[encoded data removed]"
     },
     "metadata": {},
     "output_type": "display_data"
    }
   ],
   "source": [
    "ml_plot.plot_history(model_1_history)"
   ],
   "metadata": {
    "ExecuteTime": {
     "end_time": "2023-07-19T09:03:54.412326Z",
     "start_time": "2023-07-19T09:03:53.845574Z"
    },
    "id": "uCQPjimU1ViH",
    "outputId": "c62b2905-023f-4d24-e064-e6151e2f4c46"
   }
  },
  {
   "cell_type": "code",
   "execution_count": null,
   "outputs": [
    {
     "name": "stdout",
     "output_type": "stream",
     "text": [
      "945/945 [==============================] - 9s 10ms/step - loss: 0.6022 - accuracy: 0.7843\n"
     ]
    },
    {
     "data": {
      "text/plain": "[0.6022104620933533, 0.7842910289764404]"
     },
     "execution_count": 212,
     "metadata": {},
     "output_type": "execute_result"
    }
   ],
   "source": [
    "# Evaluate dataset\n",
    "model_1.evaluate(val_dataset)"
   ],
   "metadata": {
    "ExecuteTime": {
     "end_time": "2023-07-19T09:04:21.787285Z",
     "start_time": "2023-07-19T09:04:12.410752Z"
    },
    "id": "cubtWbTa1ViH",
    "outputId": "c7092e05-0e9c-40c6-a404-1d26f3a60c9c"
   }
  },
  {
   "cell_type": "code",
   "execution_count": null,
   "outputs": [
    {
     "name": "stdout",
     "output_type": "stream",
     "text": [
      "945/945 [==============================] - 2s 2ms/step\n"
     ]
    },
    {
     "data": {
      "text/plain": "(array([[4.6875861e-01, 1.7808488e-01, 8.2117565e-02, 2.4599461e-01,\n         2.5044348e-02],\n        [4.4161689e-01, 2.7771834e-01, 1.1038004e-02, 2.6343009e-01,\n         6.1967480e-03],\n        [1.1417187e-01, 9.0804696e-03, 1.2106519e-03, 8.7552023e-01,\n         1.6758249e-05],\n        ...,\n        [5.1739898e-06, 8.8103535e-04, 1.0072392e-03, 1.6006857e-06,\n         9.9810505e-01],\n        [4.7998060e-02, 4.2896500e-01, 1.1027917e-01, 5.0902884e-02,\n         3.6185491e-01],\n        [1.8586907e-01, 6.1356193e-01, 4.1133475e-02, 6.1601561e-02,\n         9.7833984e-02]], dtype=float32),\n (30212, 5))"
     },
     "execution_count": 213,
     "metadata": {},
     "output_type": "execute_result"
    }
   ],
   "source": [
    "# Make some predictions (our model predicts prediction probabilities for each class)\n",
    "model_1_pred_probs = model_1.predict(val_dataset)\n",
    "model_1_pred_probs, model_1_pred_probs.shape"
   ],
   "metadata": {
    "ExecuteTime": {
     "end_time": "2023-07-19T09:05:43.337557Z",
     "start_time": "2023-07-19T09:05:40.802553Z"
    },
    "id": "CUPfInks1ViH",
    "outputId": "71854a1a-a32b-4e65-dc72-8eb3036c692d"
   }
  },
  {
   "cell_type": "code",
   "execution_count": null,
   "outputs": [
    {
     "data": {
      "text/plain": "<tf.Tensor: shape=(30212,), dtype=int64, numpy=array([0, 0, 3, ..., 4, 1, 1])>"
     },
     "execution_count": 218,
     "metadata": {},
     "output_type": "execute_result"
    }
   ],
   "source": [
    "# Convert pred probs to classes\n",
    "model_1_preds = tf.argmax(model_1_pred_probs, axis=1)\n",
    "model_1_preds"
   ],
   "metadata": {
    "ExecuteTime": {
     "end_time": "2023-07-19T09:07:18.270044Z",
     "start_time": "2023-07-19T09:07:18.206203Z"
    },
    "id": "4l2DHSsf1ViI",
    "outputId": "b88974bd-9962-42e8-def8-e1bc2f4c470b"
   }
  },
  {
   "cell_type": "code",
   "execution_count": null,
   "outputs": [
    {
     "data": {
      "text/plain": "{'accuracy': 78.42910101946246,\n 'f1': 0.7815350839058085,\n 'precision': 0.7806766153494369,\n 'recall': 0.7842910101946247}"
     },
     "execution_count": 219,
     "metadata": {},
     "output_type": "execute_result"
    }
   ],
   "source": [
    "model_1_results = ml_plot.table_quality_metrics(y_true=val_labels_encoded,\n",
    "                                                y_pred=model_1_preds)\n",
    "model_1_results"
   ],
   "metadata": {
    "ExecuteTime": {
     "end_time": "2023-07-19T09:08:06.817592Z",
     "start_time": "2023-07-19T09:08:06.742988Z"
    },
    "id": "Y8Ik9Vpc1ViI",
    "outputId": "8d1c62b3-b876-4921-aa20-f815c2c63db8"
   }
  },
  {
   "cell_type": "code",
   "execution_count": null,
   "outputs": [
    {
     "data": {
      "text/plain": "{'accuracy': 72.1832384482987,\n 'f1': 0.6989250353450294,\n 'precision': 0.7186466952323352,\n 'recall': 0.7218323844829869}"
     },
     "execution_count": 221,
     "metadata": {},
     "output_type": "execute_result"
    }
   ],
   "source": [
    "# TODO: Create function to show difference including percentage.\n",
    "model_0_results"
   ],
   "metadata": {
    "ExecuteTime": {
     "end_time": "2023-07-19T09:08:23.571188Z",
     "start_time": "2023-07-19T09:08:23.521477Z"
    },
    "id": "lT0HJnHj1ViI",
    "outputId": "d8d5e121-4e37-4e32-b248-24d452981926"
   }
  },
  {
   "cell_type": "markdown",
   "source": [
    "## Feature Extaction with pretrained token embeddings\n",
    "\n",
    "Now lets use pretrained word embeddings from TensorFlow Hun, more specifically the uneiversal sentence encoder.\n",
    "\n",
    "The paper originally used GloVe embeddings, however, we're going to stick with the later created USE pretrained embeddings."
   ],
   "metadata": {
    "collapsed": false,
    "id": "4A3eD-eP1ViI"
   }
  },
  {
   "cell_type": "code",
   "execution_count": null,
   "outputs": [],
   "source": [
    "# Download pretrained TensorFlow HUB USE\n",
    "# hub.load(handle=\"https://tfhub.dev/google/universal-sentence-encoder/4\")"
   ],
   "metadata": {
    "id": "jmwrw_b41ViJ"
   }
  },
  {
   "cell_type": "code",
   "execution_count": 39,
   "outputs": [],
   "source": [
    "# Create Keras Layer using the USE pretrained layer from TensorFlow Hub\n",
    "tf_hub_embedding_layer = hub.KerasLayer(handle='https://tfhub.dev/google/universal-sentence-encoder/4',\n",
    "                                        input_shape=[], # Since the input is defined as english text of variable length the layer in itself will make sure it fits\n",
    "                                        dtype=tf.string,\n",
    "                                        trainable=False, # we are doing feature extraction so we do not want to train this layer\n",
    "                                        name='USE'\n",
    "                                      )"
   ],
   "metadata": {
    "id": "EMkhToRC1ViJ",
    "ExecuteTime": {
     "end_time": "2023-08-03T09:31:17.932500Z",
     "start_time": "2023-08-03T09:30:49.851029Z"
    }
   }
  },
  {
   "cell_type": "code",
   "execution_count": 40,
   "outputs": [
    {
     "data": {
      "text/plain": "<tf.Tensor: shape=(30,), dtype=float32, numpy=\narray([ 0.03322524,  0.06914259, -0.04557943, -0.07432783, -0.08461034,\n       -0.065862  , -0.04518429,  0.01874435, -0.05566745,  0.05537612,\n        0.05978589,  0.01924892,  0.00126752,  0.00775402,  0.05653242,\n       -0.05496825, -0.07273652,  0.01846563, -0.0026092 ,  0.02249314,\n       -0.03160059, -0.03708489, -0.01941463, -0.04779968,  0.04167822,\n        0.03381404, -0.03052865,  0.03073542,  0.02906908, -0.00644419],\n      dtype=float32)>"
     },
     "execution_count": 40,
     "metadata": {},
     "output_type": "execute_result"
    }
   ],
   "source": [
    "# Test out the pretrained embedding on some random sentence\n",
    "tf_hub_embedding_layer([target_sentence])[0][:30]"
   ],
   "metadata": {
    "id": "WFv_mPhu1ViJ",
    "outputId": "8d9c0d87-b5ac-4576-e8e1-6eb2acfc9cd7",
    "ExecuteTime": {
     "end_time": "2023-08-03T09:31:57.354477Z",
     "start_time": "2023-08-03T09:31:56.591282Z"
    }
   }
  },
  {
   "cell_type": "markdown",
   "source": [
    "# Model 2: Building and fitting future extraction model using pretrained embeddings TensorFlow Hub"
   ],
   "metadata": {
    "collapsed": false,
    "id": "vgd1dvF21ViJ"
   }
  },
  {
   "cell_type": "code",
   "execution_count": null,
   "outputs": [
    {
     "name": "stdout",
     "output_type": "stream",
     "text": [
      "Model: \"model\"\n",
      "_________________________________________________________________\n",
      " Layer (type)                Output Shape              Param #   \n",
      "=================================================================\n",
      " input_15 (InputLayer)       [(None,)]                 0         \n",
      "                                                                 \n",
      " USE (KerasLayer)            (None, 512)               256797824 \n",
      "                                                                 \n",
      " dense_16 (Dense)            (None, 128)               65664     \n",
      "                                                                 \n",
      " dense_17 (Dense)            (None, 5)                 645       \n",
      "                                                                 \n",
      "=================================================================\n",
      "Total params: 256,864,133\n",
      "Trainable params: 66,309\n",
      "Non-trainable params: 256,797,824\n",
      "_________________________________________________________________\n"
     ]
    }
   ],
   "source": [
    " # Create model using the Sequential API\n",
    "\n",
    "input = layers.Input(shape=[], dtype=tf.string)\n",
    "x = tf_hub_embedding_layer(input)\n",
    "x = layers.Dense(units=128, activation='relu')(x) # Using 64 layers did not achieve as nice results.\n",
    "output = layers.Dense(units=num_classes, activation='softmax')(x)\n",
    "\n",
    "model_2 = Model(input, output)\n",
    "\n",
    "model_2.compile(loss=losses.categorical_crossentropy,\n",
    "                optimizer=optimizers.Adam(),\n",
    "                metrics=['accuracy'])\n",
    "\n",
    "model_2.summary()"
   ],
   "metadata": {
    "ExecuteTime": {
     "end_time": "2023-07-19T11:00:55.148825Z",
     "start_time": "2023-07-19T11:00:54.963056Z"
    },
    "id": "NEmNNz671ViJ",
    "outputId": "79d0ef10-49b8-4478-84ae-699ca86e594a"
   }
  },
  {
   "cell_type": "code",
   "execution_count": null,
   "outputs": [
    {
     "name": "stdout",
     "output_type": "stream",
     "text": [
      "Epoch 1/3\n",
      "562/562 [==============================] - 91s 159ms/step - loss: 0.9184 - accuracy: 0.6515 - val_loss: 0.7961 - val_accuracy: 0.6905\n",
      "Epoch 2/3\n",
      "562/562 [==============================] - 63s 113ms/step - loss: 0.7698 - accuracy: 0.7005 - val_loss: 0.7539 - val_accuracy: 0.7068\n",
      "Epoch 3/3\n",
      "562/562 [==============================] - 62s 111ms/step - loss: 0.7532 - accuracy: 0.7125 - val_loss: 0.7364 - val_accuracy: 0.7161\n"
     ]
    }
   ],
   "source": [
    "model_2_history = model_2.fit(train_dataset,\n",
    "                              epochs=3,\n",
    "                              steps_per_epoch=int(0.1 * len(train_dataset)),\n",
    "                              validation_data=val_dataset,\n",
    "                              validation_steps=int(0.1 * len(val_dataset)))"
   ],
   "metadata": {
    "ExecuteTime": {
     "end_time": "2023-07-19T11:04:38.055712Z",
     "start_time": "2023-07-19T11:01:01.382649Z"
    },
    "id": "zJD-0a2v1ViJ",
    "outputId": "db368311-eb37-4744-9432-e0d7a04d72bf"
   }
  },
  {
   "cell_type": "code",
   "execution_count": null,
   "outputs": [
    {
     "data": {
      "text/plain": "<Figure size 1000x600 with 1 Axes>",
      "image/png": "[encoded data removed]"
     },
     "metadata": {},
     "output_type": "display_data"
    },
    {
     "data": {
      "text/plain": "<Figure size 1000x600 with 1 Axes>",
      "image/png": "[encoded data removed]"
     },
     "metadata": {},
     "output_type": "display_data"
    }
   ],
   "source": [
    "ml_plot.plot_history(model_2_history)"
   ],
   "metadata": {
    "ExecuteTime": {
     "end_time": "2023-07-19T11:04:42.760011Z",
     "start_time": "2023-07-19T11:04:42.281080Z"
    },
    "id": "_IqbH3rx1ViJ",
    "outputId": "64935ab8-7616-461d-828a-4ad77703e1e5"
   }
  },
  {
   "cell_type": "code",
   "execution_count": null,
   "outputs": [
    {
     "name": "stdout",
     "output_type": "stream",
     "text": [
      "945/945 [==============================] - 98s 102ms/step - loss: 0.7405 - accuracy: 0.7150\n"
     ]
    },
    {
     "data": {
      "text/plain": "[0.740524172782898, 0.7150139212608337]"
     },
     "execution_count": 246,
     "metadata": {},
     "output_type": "execute_result"
    }
   ],
   "source": [
    "# Evaluate the feature extraction model\n",
    "model_2.evaluate(val_dataset)"
   ],
   "metadata": {
    "ExecuteTime": {
     "end_time": "2023-07-19T11:06:41.662049Z",
     "start_time": "2023-07-19T11:05:03.649312Z"
    },
    "id": "1ysyLkV21ViJ",
    "outputId": "e3a107e2-e59d-4993-e5f6-49e58e843539"
   }
  },
  {
   "cell_type": "code",
   "execution_count": null,
   "outputs": [
    {
     "name": "stdout",
     "output_type": "stream",
     "text": [
      "945/945 [==============================] - 74s 78ms/step\n"
     ]
    },
    {
     "data": {
      "text/plain": "<tf.Tensor: shape=(30212,), dtype=int64, numpy=array([0, 1, 3, ..., 4, 4, 2])>"
     },
     "execution_count": 235,
     "metadata": {},
     "output_type": "execute_result"
    }
   ],
   "source": [
    "# Let's make some predictions with the feature extraction model\n",
    "model_2_pred_probs = model_2.predict(val_dataset)\n",
    "model_2_preds = tf.argmax(model_2_pred_probs, axis=1)\n",
    "model_2_preds"
   ],
   "metadata": {
    "ExecuteTime": {
     "end_time": "2023-07-19T10:57:23.958276Z",
     "start_time": "2023-07-19T10:56:09.216687Z"
    },
    "id": "G40fkFFL1ViJ",
    "outputId": "09143bc9-5df5-427a-b1e8-2c61b23a3300"
   }
  },
  {
   "cell_type": "code",
   "execution_count": null,
   "outputs": [
    {
     "data": {
      "text/plain": "{'accuracy': 70.72024361180988,\n 'f1': 0.7033946448967716,\n 'precision': 0.7067102137268783,\n 'recall': 0.7072024361180987}"
     },
     "execution_count": 238,
     "metadata": {},
     "output_type": "execute_result"
    }
   ],
   "source": [
    "# Calculate results from TensorFlow Hub pretrained embedding\n",
    "model_2_results = ml_plot.table_quality_metrics(y_true=val_labels_encoded,\n",
    "                                                y_pred=model_2_preds)\n",
    "model_2_results"
   ],
   "metadata": {
    "ExecuteTime": {
     "end_time": "2023-07-19T10:58:11.734603Z",
     "start_time": "2023-07-19T10:58:11.602352Z"
    },
    "id": "WkTB8tm11ViK",
    "outputId": "7c7f5dbb-f7e3-4dd3-a090-44fdb6771bda"
   }
  },
  {
   "cell_type": "code",
   "execution_count": null,
   "outputs": [
    {
     "data": {
      "text/plain": "{'accuracy': 72.1832384482987,\n 'f1': 0.6989250353450294,\n 'precision': 0.7186466952323352,\n 'recall': 0.7218323844829869}"
     },
     "execution_count": 247,
     "metadata": {},
     "output_type": "execute_result"
    }
   ],
   "source": [
    "model_0_results"
   ],
   "metadata": {
    "ExecuteTime": {
     "end_time": "2023-07-19T11:07:34.362680Z",
     "start_time": "2023-07-19T11:07:34.116382Z"
    },
    "id": "fYO3LCKx1ViK",
    "outputId": "a26aca39-a8e0-46e5-e4e4-cdd7340e9530"
   }
  },
  {
   "cell_type": "markdown",
   "source": [
    "# Model 3: Conv1D with character embeddings\n",
    "\n",
    "The paper which we're replicating states they used a combination of token and character-level embeddings. Previously we've token0level embeddings but we'll need to do similar steps for characters if we want to use char-level embeddings."
   ],
   "metadata": {
    "collapsed": false,
    "id": "2GEb37dh1ViK"
   }
  },
  {
   "cell_type": "markdown",
   "source": [
    "## Creating a character-level tokenizer"
   ],
   "metadata": {
    "collapsed": false,
    "id": "XeyQp8NL1ViK"
   }
  },
  {
   "cell_type": "code",
   "execution_count": null,
   "outputs": [
    {
     "data": {
      "text/plain": "['to investigate the efficacy of @ weeks of daily low-dose oral prednisolone in improving pain , mobility , and systemic low-grade inflammation in the short term and whether the effect would be sustained at @ weeks in older adults with moderate to severe knee osteoarthritis ( oa ) .',\n 'a total of @ patients with primary knee oa were randomized @:@ ; @ received @ mg/day of prednisolone and @ received placebo for @ weeks .',\n 'outcome measures included pain reduction and improvement in function scores and systemic inflammation markers .',\n 'pain was assessed using the visual analog pain scale ( @-@ mm ) .',\n 'secondary outcome measures included the western ontario and mcmaster universities osteoarthritis index scores , patient global assessment ( pga ) of the severity of knee oa , and @-min walk distance ( @mwd ) .']"
     },
     "execution_count": 249,
     "metadata": {},
     "output_type": "execute_result"
    }
   ],
   "source": [
    "train_sentences[:5]"
   ],
   "metadata": {
    "ExecuteTime": {
     "end_time": "2023-07-19T13:33:21.700404Z",
     "start_time": "2023-07-19T13:33:21.642795Z"
    },
    "id": "DaYVXoKr1ViK",
    "outputId": "94a9e3ed-0d84-4e3e-99a3-f5802bddef3e"
   }
  },
  {
   "cell_type": "code",
   "execution_count": 41,
   "outputs": [
    {
     "data": {
      "text/plain": "'w e   w e r e   i n t e r e s t e d   i n   e x a m i n i n g   t h e   e x t e n t   t o   w h i c h   s e l f - a f f i r m a t i o n   w o u l d   r e d u c e   d e f e n s i v e   r e s p o n d i n g   t o   n e g a t i v e   h e a l t h   i m a g e s   r e l a t e d   t o   c i g a r e t t e   s m o k i n g   .'"
     },
     "execution_count": 41,
     "metadata": {},
     "output_type": "execute_result"
    }
   ],
   "source": [
    "# make function to split sentences into characters\n",
    "def split_chars(text: str):\n",
    "    return \" \".join(list(text))\n",
    "\n",
    "# Text splitting non-character level sequence into characters\n",
    "split_chars(target_sentence)"
   ],
   "metadata": {
    "id": "9weWicXX1ViK",
    "ExecuteTime": {
     "end_time": "2023-08-03T09:32:12.898843Z",
     "start_time": "2023-08-03T09:32:12.817064Z"
    }
   }
  },
  {
   "cell_type": "code",
   "execution_count": 42,
   "outputs": [
    {
     "data": {
      "text/plain": "['t o   i n v e s t i g a t e   t h e   e f f i c a c y   o f   @   w e e k s   o f   d a i l y   l o w - d o s e   o r a l   p r e d n i s o l o n e   i n   i m p r o v i n g   p a i n   ,   m o b i l i t y   ,   a n d   s y s t e m i c   l o w - g r a d e   i n f l a m m a t i o n   i n   t h e   s h o r t   t e r m   a n d   w h e t h e r   t h e   e f f e c t   w o u l d   b e   s u s t a i n e d   a t   @   w e e k s   i n   o l d e r   a d u l t s   w i t h   m o d e r a t e   t o   s e v e r e   k n e e   o s t e o a r t h r i t i s   (   o a   )   .',\n 'a   t o t a l   o f   @   p a t i e n t s   w i t h   p r i m a r y   k n e e   o a   w e r e   r a n d o m i z e d   @ : @   ;   @   r e c e i v e d   @   m g / d a y   o f   p r e d n i s o l o n e   a n d   @   r e c e i v e d   p l a c e b o   f o r   @   w e e k s   .',\n 'o u t c o m e   m e a s u r e s   i n c l u d e d   p a i n   r e d u c t i o n   a n d   i m p r o v e m e n t   i n   f u n c t i o n   s c o r e s   a n d   s y s t e m i c   i n f l a m m a t i o n   m a r k e r s   .',\n 'p a i n   w a s   a s s e s s e d   u s i n g   t h e   v i s u a l   a n a l o g   p a i n   s c a l e   (   @ - @   m m   )   .',\n 's e c o n d a r y   o u t c o m e   m e a s u r e s   i n c l u d e d   t h e   w e s t e r n   o n t a r i o   a n d   m c m a s t e r   u n i v e r s i t i e s   o s t e o a r t h r i t i s   i n d e x   s c o r e s   ,   p a t i e n t   g l o b a l   a s s e s s m e n t   (   p g a   )   o f   t h e   s e v e r i t y   o f   k n e e   o a   ,   a n d   @ - m i n   w a l k   d i s t a n c e   (   @ m w d   )   .']"
     },
     "execution_count": 42,
     "metadata": {},
     "output_type": "execute_result"
    }
   ],
   "source": [
    "# Split sequence-level data splits into character level data splits\n",
    "train_chars = [split_chars(sentence) for sentence in train_sentences]\n",
    "val_chars = [split_chars(sentence) for sentence in val_sentences]\n",
    "test_chars = [split_chars(sentence) for sentence in test_sentences]\n",
    "train_chars[:5]"
   ],
   "metadata": {
    "id": "eROR0ZLB1ViK",
    "outputId": "4c7f6cb1-c650-46b7-c55d-97850a40112f",
    "colab": {
     "base_uri": "https://localhost:8080/"
    },
    "ExecuteTime": {
     "end_time": "2023-08-03T09:32:14.627289Z",
     "start_time": "2023-08-03T09:32:14.036095Z"
    }
   }
  },
  {
   "cell_type": "code",
   "execution_count": 43,
   "outputs": [
    {
     "data": {
      "text/plain": "(290,\n 27,\n \"{'l', 't', 'k', 'q', 'e', 'w', 'd', 'j', 'i', 'u', 'p', 'r', 'a', ' ', 'f', 'x', 'c', 'y', 'm', 'b', 'o', 's', 'v', 'z', 'n', 'g', 'h'}\")"
     },
     "execution_count": 43,
     "metadata": {},
     "output_type": "execute_result"
    }
   ],
   "source": [
    "# Find what character length covers 95% of sequences\n",
    "output_sequence_char_length = ml_nlp.calculate_q_precentile_character_lengths(train_sentences)\n",
    "num_char_tokens, _ = ml_nlp.count_unique_chars(train_sentences)\n",
    "\n",
    "output_sequence_char_length, num_char_tokens, str(_)"
   ],
   "metadata": {
    "id": "GWw5SITN1ViK",
    "outputId": "fe8d27be-d22a-495d-efcc-8e5dffdca12c",
    "colab": {
     "base_uri": "https://localhost:8080/"
    },
    "ExecuteTime": {
     "end_time": "2023-08-03T09:32:17.236478Z",
     "start_time": "2023-08-03T09:32:16.190738Z"
    }
   }
  },
  {
   "cell_type": "code",
   "execution_count": 44,
   "outputs": [],
   "source": [
    "# Create char-level token vectorizer instance\n",
    "char_vectorizer = layers.TextVectorization(max_tokens=num_char_tokens + 1, # Add one for OOV, space is already included\n",
    "                                           output_sequence_length=output_sequence_char_length,\n",
    "                                           standardize=\"lower_and_strip_punctuation\",\n",
    "                                           name=\"char_vectorizer\")"
   ],
   "metadata": {
    "id": "OoeOjuFC1ViK",
    "ExecuteTime": {
     "end_time": "2023-08-03T09:32:18.233894Z",
     "start_time": "2023-08-03T09:32:18.154581Z"
    }
   }
  },
  {
   "cell_type": "code",
   "execution_count": 45,
   "outputs": [],
   "source": [
    "# Adapt character vectorizer to training characters\n",
    "char_vectorizer.adapt(train_chars)"
   ],
   "metadata": {
    "id": "xhxpCEl71ViK",
    "ExecuteTime": {
     "end_time": "2023-08-03T09:32:26.874817Z",
     "start_time": "2023-08-03T09:32:19.206223Z"
    }
   }
  },
  {
   "cell_type": "code",
   "execution_count": 46,
   "outputs": [
    {
     "name": "stdout",
     "output_type": "stream",
     "text": [
      "Number of different characters in vocabulary: 28\n",
      "Characters: ['', '[UNK]', 'e', 't', 'i', 'a', 'n', 'o', 'r', 's', 'd', 'c', 'l', 'h', 'p', 'm', 'u', 'f', 'g', 'y', 'w', 'v', 'b', 'k', 'x', 'z', 'q', 'j']\n"
     ]
    }
   ],
   "source": [
    "character_vocabulary = char_vectorizer.get_vocabulary()\n",
    "print(f\"Number of different characters in vocabulary: {len(character_vocabulary)}\")\n",
    "print(f\"Characters: {character_vocabulary}\")"
   ],
   "metadata": {
    "id": "efd4ov2C1ViL",
    "outputId": "1a707b04-c1be-4554-8364-d434de74bff4",
    "ExecuteTime": {
     "end_time": "2023-08-03T09:32:30.463924Z",
     "start_time": "2023-08-03T09:32:30.355487Z"
    }
   }
  },
  {
   "cell_type": "code",
   "execution_count": 47,
   "outputs": [
    {
     "name": "stdout",
     "output_type": "stream",
     "text": [
      "Value of target_chars:\n",
      " i n   p h a s e   @   ,   h o r s e s   w e r e   a n e s t h e t i z e d   w i t h   i s o f l u r a n e   a n d   r e c e i v e d   n e o s t i g m i n e   o r   s a l i n e   (   @   %   n a c l   )   s o l u t i o n   p r i o r   t o   a n e s t h e t i c   r e c o v e r y   .\n",
      "\n",
      "Length of target_chars : 117\n",
      "\n",
      "Vectorized of target_chars : [[ 4  6 14 13  5  9  2 13  7  8  9  2  9 20  2  8  2  5  6  2  9  3 13  2\n",
      "   3  4 25  2 10 20  4  3 13  4  9  7 17 12 16  8  5  6  2  5  6 10  8  2\n",
      "  11  2  4 21  2 10  6  2  7  9  3  4 18 15  4  6  2  7  8  9  5 12  4  6\n",
      "   2  6  5 11 12  9  7 12 16  3  4  7  6 14  8  4  7  8  3  7  5  6  2  9\n",
      "   3 13  2  3  4 11  8  2 11  7 21  2  8 19  0  0  0  0  0  0  0  0  0  0\n",
      "   0  0  0  0  0  0  0  0  0  0  0  0  0  0  0  0  0  0  0  0  0  0  0  0\n",
      "   0  0  0  0  0  0  0  0  0  0  0  0  0  0  0  0  0  0  0  0  0  0  0  0\n",
      "   0  0  0  0  0  0  0  0  0  0  0  0  0  0  0  0  0  0  0  0  0  0  0  0\n",
      "   0  0  0  0  0  0  0  0  0  0  0  0  0  0  0  0  0  0  0  0  0  0  0  0\n",
      "   0  0  0  0  0  0  0  0  0  0  0  0  0  0  0  0  0  0  0  0  0  0  0  0\n",
      "   0  0  0  0  0  0  0  0  0  0  0  0  0  0  0  0  0  0  0  0  0  0  0  0\n",
      "   0  0  0  0  0  0  0  0  0  0  0  0  0  0  0  0  0  0  0  0  0  0  0  0\n",
      "   0  0]]\n",
      "\n",
      "Length of vectorized target_chars : 290\n"
     ]
    }
   ],
   "source": [
    "# Test out character vectorization\n",
    "target_chars = random.choice(train_chars)\n",
    "print(f\"Value of target_chars:\\n {target_chars}\")\n",
    "print(f\"\\nLength of target_chars : {len(target_chars.split())}\")\n",
    "\n",
    "vectorized_chars = char_vectorizer([target_chars])\n",
    "print(f\"\\nVectorized of target_chars : {vectorized_chars}\")\n",
    "print(f\"\\nLength of vectorized target_chars : {len(vectorized_chars[0])}\")"
   ],
   "metadata": {
    "id": "pHqJYfNQ1ViL",
    "outputId": "1ccce290-549b-4aa6-9784-72f18e816172",
    "ExecuteTime": {
     "end_time": "2023-08-03T09:32:32.351444Z",
     "start_time": "2023-08-03T09:32:32.277573Z"
    }
   }
  },
  {
   "cell_type": "markdown",
   "source": [
    "## Creating a character level embedding"
   ],
   "metadata": {
    "collapsed": false,
    "id": "gfScj2pE1ViL"
   }
  },
  {
   "cell_type": "code",
   "execution_count": 48,
   "outputs": [],
   "source": [
    "# Create character embedding layer\n",
    "char_embedding = layers.Embedding(\n",
    "    input_dim=len(char_vectorizer.get_vocabulary()), # Length of vocabulary\n",
    "    output_dim=25, # Note: Character embedding (how many features per character)\n",
    "    mask_zero=True, # Use masking to handle variable sequence lengths (save space)\n",
    "    name=\"char_embedding\"\n",
    ")"
   ],
   "metadata": {
    "id": "HtS470kE1ViL",
    "ExecuteTime": {
     "end_time": "2023-08-03T09:32:35.321281Z",
     "start_time": "2023-08-03T09:32:35.233776Z"
    }
   }
  },
  {
   "cell_type": "code",
   "execution_count": 49,
   "outputs": [
    {
     "name": "stdout",
     "output_type": "stream",
     "text": [
      "Charified text (length: 281):\n",
      " i n   p h a s e   @   ,   h o r s e s   w e r e   a n e s t h e t i z e d   w i t h   i s o f l u r a n e   a n d   r e c e i v e d   n e o s t i g m i n e   o r   s a l i n e   (   @   %   n a c l   )   s o l u t i o n   p r i o r   t o   a n e s t h e t i c   r e c o v e r y   .\n",
      "Embedded charified text (after vectorization):\n",
      " [[[-0.02400553  0.03434755 -0.03728653 ...  0.04289446  0.02829701\n",
      "    0.00950683]\n",
      "  [ 0.04084912 -0.02864269 -0.02764124 ... -0.01979783 -0.02425282\n",
      "    0.0097447 ]\n",
      "  [ 0.01344103 -0.03727319 -0.03846487 ... -0.0358124   0.00564662\n",
      "    0.03285993]\n",
      "  ...\n",
      "  [ 0.01284226 -0.00487505  0.00058763 ... -0.01320494  0.02396402\n",
      "    0.04860175]\n",
      "  [ 0.01284226 -0.00487505  0.00058763 ... -0.01320494  0.02396402\n",
      "    0.04860175]\n",
      "  [ 0.01284226 -0.00487505  0.00058763 ... -0.01320494  0.02396402\n",
      "    0.04860175]]]\n",
      "Embedded charified text shape: (1, 290, 25)\n"
     ]
    }
   ],
   "source": [
    "# Test our character embedding layer\n",
    "print(f\"Charified text (length: {len(target_chars)}):\\n {target_chars}\")\n",
    "target_chars_embedded = char_embedding(char_vectorizer([target_chars]))\n",
    "print(f\"Embedded charified text (after vectorization):\\n {target_chars_embedded}\")\n",
    "print(f\"Embedded charified text shape: {target_chars_embedded.shape}\")"
   ],
   "metadata": {
    "id": "VIUbIm5F1ViL",
    "outputId": "68e4400b-8b09-4f53-9fbf-85e97b3baa63",
    "ExecuteTime": {
     "end_time": "2023-08-03T09:32:37.788005Z",
     "start_time": "2023-08-03T09:32:37.667725Z"
    }
   }
  },
  {
   "cell_type": "markdown",
   "source": [
    "## Build the model"
   ],
   "metadata": {
    "collapsed": false,
    "id": "I-jiIvPy1ViL"
   }
  },
  {
   "cell_type": "code",
   "execution_count": null,
   "outputs": [],
   "source": [
    "inputs = layers.Input(shape=(1,), dtype=tf.string)\n",
    "x = char_vectorizer(inputs)\n",
    "x = char_embedding(x)\n",
    "x = layers.Conv1D(filters=64, kernel_size=5, activation=\"relu\", padding=\"same\")(x)\n",
    "x = layers.GlobalMaxPooling1D()(x) # condense the output from feature vector from conv layer\n",
    "outputs = layers.Dense(units=num_classes, activation=\"softmax\")(x)\n",
    "\n",
    "model_3 = Model(inputs, outputs, name=\"model_4_conv1d\")"
   ],
   "metadata": {
    "ExecuteTime": {
     "end_time": "2023-07-20T10:29:56.373121Z",
     "start_time": "2023-07-20T10:29:56.158692Z"
    },
    "id": "NgPHKa8T1ViL"
   }
  },
  {
   "cell_type": "code",
   "execution_count": null,
   "outputs": [
    {
     "name": "stdout",
     "output_type": "stream",
     "text": [
      "Model: \"model_4_conv1d\"\n",
      "_________________________________________________________________\n",
      " Layer (type)                Output Shape              Param #   \n",
      "=================================================================\n",
      " input_19 (InputLayer)       [(None, 1)]               0         \n",
      "                                                                 \n",
      " char_vectorizer (TextVector  (None, 290)              0         \n",
      " ization)                                                        \n",
      "                                                                 \n",
      " char_embedding (Embedding)  (None, 290, 25)           700       \n",
      "                                                                 \n",
      " conv1d_15 (Conv1D)          (None, 290, 64)           8064      \n",
      "                                                                 \n",
      " global_max_pooling1d_11 (Gl  (None, 64)               0         \n",
      " obalMaxPooling1D)                                               \n",
      "                                                                 \n",
      " dense_21 (Dense)            (None, 5)                 325       \n",
      "                                                                 \n",
      "=================================================================\n",
      "Total params: 9,089\n",
      "Trainable params: 9,089\n",
      "Non-trainable params: 0\n",
      "_________________________________________________________________\n"
     ]
    }
   ],
   "source": [
    "model_3.compile(loss=losses.CategoricalCrossentropy(),\n",
    "                optimizer=optimizers.Adam(),\n",
    "                metrics=['accuracy'])\n",
    "model_3.summary()"
   ],
   "metadata": {
    "ExecuteTime": {
     "end_time": "2023-07-20T10:29:56.530658Z",
     "start_time": "2023-07-20T10:29:56.463274Z"
    },
    "id": "PYRgR--p1ViL",
    "outputId": "338d092a-29cd-4158-9b99-30013ae3ec62"
   }
  },
  {
   "cell_type": "code",
   "execution_count": 36,
   "outputs": [
    {
     "output_type": "execute_result",
     "data": {
      "text/plain": [
       "<_PrefetchDataset element_spec=(TensorSpec(shape=(None,), dtype=tf.string, name=None), TensorSpec(shape=(None, 5), dtype=tf.float64, name=None))>"
      ]
     },
     "metadata": {},
     "execution_count": 36
    }
   ],
   "source": [
    "# Create datasets with batching and prefetching\n",
    "train_chars_dataset = tf.data.Dataset.from_tensor_slices((train_chars, train_labels_one_hot))\n",
    "val_chars_dataset = tf.data.Dataset.from_tensor_slices((val_chars, val_labels_one_hot))\n",
    "test_chars_dataset = tf.data.Dataset.from_tensor_slices((test_chars, test_labels_one_hot))\n",
    "\n",
    "train_chars_dataset = train_chars_dataset.batch(32).prefetch(tf.data.AUTOTUNE)\n",
    "val_chars_dataset = val_chars_dataset.batch(32).prefetch(tf.data.AUTOTUNE)\n",
    "test_chars_dataset = test_chars_dataset.batch(32).prefetch(tf.data.AUTOTUNE)\n",
    "\n",
    "train_chars_dataset"
   ],
   "metadata": {
    "ExecuteTime": {
     "end_time": "2023-07-20T10:29:57.816702Z",
     "start_time": "2023-07-20T10:29:57.158845Z"
    },
    "id": "EzP1UbyU1ViL",
    "outputId": "f4e3f64c-a866-43ac-dfa2-2943a493e76c",
    "colab": {
     "base_uri": "https://localhost:8080/"
    }
   }
  },
  {
   "cell_type": "code",
   "execution_count": null,
   "outputs": [
    {
     "name": "stdout",
     "output_type": "stream",
     "text": [
      "Epoch 1/3\n",
      "562/562 [==============================] - 24s 41ms/step - loss: 1.2574 - accuracy: 0.4813 - val_loss: 1.1133 - val_accuracy: 0.5502\n",
      "Epoch 2/3\n",
      "562/562 [==============================] - 21s 37ms/step - loss: 1.0815 - accuracy: 0.5574 - val_loss: 1.0087 - val_accuracy: 0.5918\n",
      "Epoch 3/3\n",
      "562/562 [==============================] - 22s 39ms/step - loss: 0.9982 - accuracy: 0.6025 - val_loss: 0.9418 - val_accuracy: 0.6270\n"
     ]
    }
   ],
   "source": [
    "# Fit the model on characters only\n",
    "model_3_history = model_3.fit(train_chars_dataset,\n",
    "                              steps_per_epoch=int(0.1 * len(train_chars_dataset)),\n",
    "                              validation_data=val_chars_dataset,\n",
    "                              validation_steps=int(0.1 * len(val_chars_dataset)),\n",
    "                              epochs=3)"
   ],
   "metadata": {
    "ExecuteTime": {
     "end_time": "2023-07-20T10:31:04.666872Z",
     "start_time": "2023-07-20T10:29:57.788316Z"
    },
    "id": "VVtWCSIq1ViL",
    "outputId": "475dfa38-149b-4b9e-f888-0c7c2e5da613"
   }
  },
  {
   "cell_type": "code",
   "execution_count": null,
   "outputs": [
    {
     "name": "stdout",
     "output_type": "stream",
     "text": [
      "945/945 [==============================] - 3s 3ms/step\n"
     ]
    },
    {
     "data": {
      "text/plain": "<tf.Tensor: shape=(30212,), dtype=int64, numpy=array([1, 3, 3, ..., 4, 2, 1])>"
     },
     "execution_count": 360,
     "metadata": {},
     "output_type": "execute_result"
    }
   ],
   "source": [
    "# Make predictions with character model 3\n",
    "model_3_pred_props = model_3.predict(val_chars_dataset)\n",
    "model_3_preds = tf.argmax(model_3_pred_props, axis=1)\n",
    "model_3_preds"
   ],
   "metadata": {
    "ExecuteTime": {
     "end_time": "2023-07-20T10:31:26.205232Z",
     "start_time": "2023-07-20T10:31:22.870075Z"
    },
    "id": "Nl7eSx3D1ViL",
    "outputId": "21cd3583-e4c6-4c4e-9137-bddcea8ffc12"
   }
  },
  {
   "cell_type": "code",
   "execution_count": null,
   "outputs": [
    {
     "data": {
      "text/plain": "{'accuracy': 62.48510525618959,\n 'f1': 0.6189808492306346,\n 'precision': 0.6305312243908151,\n 'recall': 0.6248510525618959}"
     },
     "execution_count": 362,
     "metadata": {},
     "output_type": "execute_result"
    }
   ],
   "source": [
    "model_3_results = ml_plot.table_quality_metrics(y_true=val_labels_encoded, y_pred=model_3_preds)\n",
    "model_3_results"
   ],
   "metadata": {
    "ExecuteTime": {
     "end_time": "2023-07-20T10:32:06.051312Z",
     "start_time": "2023-07-20T10:32:05.889078Z"
    },
    "id": "c2T0lNJO1ViM",
    "outputId": "43383286-691a-41b0-ec3c-4d10efbdfd8d"
   }
  },
  {
   "cell_type": "markdown",
   "source": [
    "# Model 4: Combining pretrained token embeddings + character embeddings (hybrid embeddings)\n",
    "\n",
    "1. Create a token level embedding model (similar to model_1)\n",
    "2. Create a character level model (similar to model_3 with a slight modification)\n",
    "3. Combine 1 and 2 with a concatenate layer (layers.Concatenate)\n",
    "4. Build a series of output layers on top of 3 similar to figure 1 section 4.2 of the paper https://aclanthology.org/E17-2110.pdf)\n",
    "5. Construct a model which takes token and character-level sequences as input and produces sequence label probabilities as output."
   ],
   "metadata": {
    "collapsed": false,
    "id": "ais5RjiS1ViM"
   }
  },
  {
   "cell_type": "code",
   "execution_count": 50,
   "outputs": [],
   "source": [
    "# 1. Setup token inputs/model\n",
    "token_inputs = layers.Input(shape=[], dtype=tf.string, name=\"token-input\")\n",
    "token_embeddings = tf_hub_embedding_layer(token_inputs)\n",
    "token_output = layers.Dense(units=128, activation=\"relu\")(token_embeddings)\n",
    "token_model = tf.keras.Model(inputs=token_inputs, outputs=token_output)\n",
    "\n",
    "# 2. Setup charaxcter inputs/models\n",
    "character_inputs = layers.Input(shape=[], dtype=tf.string, name=\"character-input\")\n",
    "character_vectors = char_vectorizer(character_inputs)\n",
    "character_embeddings = char_embedding(character_vectors)\n",
    "character_bi_lstm = layers.Bidirectional(layers.LSTM(units=24))(character_embeddings) # bi-lstm as shown in Figure 1 (https://aclanthology.org/E17-2110.pdf)\n",
    "characer_model = tf.keras.Model(inputs=character_inputs, outputs=character_bi_lstm)\n",
    "\n",
    "# 3. Concatentate token and character inputs (create hybrid token embedding)\n",
    "token_character_concat = layers.Concatenate(name=\"token_character_hybrid\")([token_model.output, characer_model.output])\n",
    "\n",
    "# 4. Create output layers adding in dropout (this is discussed in section 4.2 of paper (https://aclanthology.org/E17-2110.pdf)\n",
    "combined_dropout = layers.Dropout(rate=.5)(token_character_concat)\n",
    "combined_dense = layers.Dense(units=128, activation=\"relu\")(combined_dropout)\n",
    "final_dropout = layers.Dropout(rate=.5)(combined_dense)\n",
    "output = layers.Dense(units=5, activation=\"softmax\")(final_dropout)\n",
    "\n",
    "# 5. Construct model with character and token inputs\n",
    "model_4 = tf.keras.Model(inputs=[token_model.inputs,characer_model.inputs], outputs=output, name=\"model_4_token_and_character_embeddings\")"
   ],
   "metadata": {
    "id": "JZDl7T_a1ViM",
    "ExecuteTime": {
     "end_time": "2023-08-03T09:32:51.127328Z",
     "start_time": "2023-08-03T09:32:50.182096Z"
    }
   }
  },
  {
   "cell_type": "code",
   "execution_count": 51,
   "outputs": [
    {
     "name": "stdout",
     "output_type": "stream",
     "text": [
      "Model: \"model_4_token_and_character_embeddings\"\n",
      "__________________________________________________________________________________________________\n",
      " Layer (type)                   Output Shape         Param #     Connected to                     \n",
      "==================================================================================================\n",
      " character-input (InputLayer)   [(None,)]            0           []                               \n",
      "                                                                                                  \n",
      " token-input (InputLayer)       [(None,)]            0           []                               \n",
      "                                                                                                  \n",
      " char_vectorizer (TextVectoriza  (None, 290)         0           ['character-input[0][0]']        \n",
      " tion)                                                                                            \n",
      "                                                                                                  \n",
      " USE (KerasLayer)               (None, 512)          256797824   ['token-input[0][0]']            \n",
      "                                                                                                  \n",
      " char_embedding (Embedding)     (None, 290, 25)      700         ['char_vectorizer[0][0]']        \n",
      "                                                                                                  \n",
      " dense (Dense)                  (None, 128)          65664       ['USE[0][0]']                    \n",
      "                                                                                                  \n",
      " bidirectional (Bidirectional)  (None, 48)           9600        ['char_embedding[0][0]']         \n",
      "                                                                                                  \n",
      " token_character_hybrid (Concat  (None, 176)         0           ['dense[0][0]',                  \n",
      " enate)                                                           'bidirectional[0][0]']          \n",
      "                                                                                                  \n",
      " dropout (Dropout)              (None, 176)          0           ['token_character_hybrid[0][0]'] \n",
      "                                                                                                  \n",
      " dense_1 (Dense)                (None, 128)          22656       ['dropout[0][0]']                \n",
      "                                                                                                  \n",
      " dropout_1 (Dropout)            (None, 128)          0           ['dense_1[0][0]']                \n",
      "                                                                                                  \n",
      " dense_2 (Dense)                (None, 5)            645         ['dropout_1[0][0]']              \n",
      "                                                                                                  \n",
      "==================================================================================================\n",
      "Total params: 256,897,089\n",
      "Trainable params: 99,265\n",
      "Non-trainable params: 256,797,824\n",
      "__________________________________________________________________________________________________\n"
     ]
    }
   ],
   "source": [
    "# Get a summary\n",
    "model_4.summary()"
   ],
   "metadata": {
    "id": "B_pm6FYG1ViM",
    "outputId": "8ce283a6-5f41-4bb0-cd6a-a42cf8f92cb9",
    "colab": {
     "base_uri": "https://localhost:8080/"
    },
    "ExecuteTime": {
     "end_time": "2023-08-03T09:32:52.349561Z",
     "start_time": "2023-08-03T09:32:52.281090Z"
    }
   }
  },
  {
   "cell_type": "code",
   "execution_count": 52,
   "outputs": [
    {
     "name": "stdout",
     "output_type": "stream",
     "text": [
      "You must install pydot (`pip install pydot`) and install graphviz (see instructions at https://graphviz.gitlab.io/download/) for plot_model to work.\n"
     ]
    }
   ],
   "source": [
    "# Plot hybrid token and character model\n",
    "from keras.utils import plot_model\n",
    "plot_model(model_4, show_shapes=True)"
   ],
   "metadata": {
    "id": "y02igKh_1ViM",
    "outputId": "f2fd550a-dec2-49fe-ca48-a68b6f260727",
    "colab": {
     "base_uri": "https://localhost:8080/",
     "height": 975
    },
    "ExecuteTime": {
     "end_time": "2023-08-03T09:32:54.203103Z",
     "start_time": "2023-08-03T09:32:54.147173Z"
    }
   }
  },
  {
   "cell_type": "code",
   "execution_count": 53,
   "outputs": [],
   "source": [
    "# Compile token / character model\n",
    "model_4.compile(loss=losses.CategoricalCrossentropy(),\n",
    "                optimizer=optimizers.Adam(),\n",
    "                metrics=[\"accuracy\"])"
   ],
   "metadata": {
    "id": "mExtjFQx1ViM",
    "ExecuteTime": {
     "end_time": "2023-08-03T09:32:56.006624Z",
     "start_time": "2023-08-03T09:32:55.932259Z"
    }
   }
  },
  {
   "cell_type": "markdown",
   "source": [
    "## Combining token and character data into a tf.Dataset"
   ],
   "metadata": {
    "collapsed": false,
    "id": "Q6W-Xxt91ViM"
   }
  },
  {
   "cell_type": "code",
   "execution_count": 54,
   "outputs": [],
   "source": [
    "# Important the order must be the same as the order specified in the inputs of model_4 (token then character)\n",
    "train_token_character_data = tf.data.Dataset.from_tensor_slices((train_sentences, train_chars)) # Make data\n",
    "train_token_character_label = tf.data.Dataset.from_tensor_slices(train_labels_one_hot) # Make labels\n",
    "train_token_character_dataset = tf.data.Dataset.zip((train_token_character_data, train_token_character_label)) # Combine data and label\n",
    "train_token_character_dataset = train_token_character_dataset.batch(32).prefetch(tf.data.AUTOTUNE) # Setup batching / prefetching\n",
    "\n",
    "val_token_character_data = tf.data.Dataset.from_tensor_slices((val_sentences, val_chars)) # Make data\n",
    "val_token_character_label = tf.data.Dataset.from_tensor_slices(val_labels_one_hot) # Make labels\n",
    "val_token_character_dataset = tf.data.Dataset.zip((val_token_character_data, val_token_character_label)) # Combine data and label\n",
    "val_token_character_dataset = val_token_character_dataset.batch(32).prefetch(tf.data.AUTOTUNE) # Setup batching / prefetching"
   ],
   "metadata": {
    "id": "OVOrBOJh1ViM",
    "ExecuteTime": {
     "end_time": "2023-08-03T09:32:58.718307Z",
     "start_time": "2023-08-03T09:32:57.933704Z"
    }
   }
  },
  {
   "cell_type": "code",
   "execution_count": 55,
   "outputs": [
    {
     "data": {
      "text/plain": "(<_PrefetchDataset element_spec=((TensorSpec(shape=(None,), dtype=tf.string, name=None), TensorSpec(shape=(None,), dtype=tf.string, name=None)), TensorSpec(shape=(None, 5), dtype=tf.float64, name=None))>,\n <_PrefetchDataset element_spec=((TensorSpec(shape=(None,), dtype=tf.string, name=None), TensorSpec(shape=(None,), dtype=tf.string, name=None)), TensorSpec(shape=(None, 5), dtype=tf.float64, name=None))>)"
     },
     "execution_count": 55,
     "metadata": {},
     "output_type": "execute_result"
    }
   ],
   "source": [
    "# Check our training char and token embedding dataset\n",
    "train_token_character_dataset, val_token_character_dataset"
   ],
   "metadata": {
    "id": "25Q3HmAn1ViM",
    "outputId": "8e225f38-64a2-4cfd-d523-18c548a49121",
    "colab": {
     "base_uri": "https://localhost:8080/"
    },
    "ExecuteTime": {
     "end_time": "2023-08-03T09:33:00.108717Z",
     "start_time": "2023-08-03T09:33:00.047637Z"
    }
   }
  },
  {
   "cell_type": "markdown",
   "source": [
    "## Fitting a model on token and character sequences"
   ],
   "metadata": {
    "collapsed": false,
    "id": "iV1_NrG51ViN"
   }
  },
  {
   "cell_type": "code",
   "execution_count": null,
   "outputs": [
    {
     "name": "stdout",
     "output_type": "stream",
     "text": [
      "Epoch 1/3\n"
     ]
    },
    {
     "name": "stderr",
     "output_type": "stream",
     "text": [
      "2023-08-03 11:33:06.980274: W tensorflow/core/common_runtime/type_inference.cc:339] Type inference failed. This indicates an invalid graph that escaped type checking. Error message: INVALID_ARGUMENT: expected compatible input types, but input 1:\n",
      "type_id: TFT_OPTIONAL\n",
      "args {\n",
      "  type_id: TFT_PRODUCT\n",
      "  args {\n",
      "    type_id: TFT_TENSOR\n",
      "    args {\n",
      "      type_id: TFT_INT32\n",
      "    }\n",
      "  }\n",
      "}\n",
      " is neither a subtype nor a supertype of the combined inputs preceding it:\n",
      "type_id: TFT_OPTIONAL\n",
      "args {\n",
      "  type_id: TFT_PRODUCT\n",
      "  args {\n",
      "    type_id: TFT_TENSOR\n",
      "    args {\n",
      "      type_id: TFT_FLOAT\n",
      "    }\n",
      "  }\n",
      "}\n",
      "\n",
      "\twhile inferring type of node 'cond_40/output/_23'\n"
     ]
    },
    {
     "name": "stdout",
     "output_type": "stream",
     "text": [
      "145/562 [======>.......................] - ETA: 1:00 - loss: 1.2286 - accuracy: 0.4989"
     ]
    }
   ],
   "source": [
    "model_4_history = model_4.fit(train_token_character_dataset,\n",
    "                              steps_per_epoch=int(.1 * len(train_token_character_dataset)),\n",
    "                              validation_data=val_token_character_dataset,\n",
    "                              validation_steps=int(.1 * len(val_token_character_dataset)),\n",
    "                              epochs=3)"
   ],
   "metadata": {
    "is_executing": true,
    "id": "DfYOMiBQ1ViN",
    "outputId": "04253099-f95b-48a9-837f-eef7ac2c7c8f",
    "colab": {
     "base_uri": "https://localhost:8080/"
    },
    "ExecuteTime": {
     "start_time": "2023-08-03T09:33:03.734364Z"
    }
   }
  },
  {
   "cell_type": "code",
   "execution_count": 44,
   "outputs": [
    {
     "output_type": "stream",
     "name": "stdout",
     "text": [
      "945/945 [==============================] - 26s 27ms/step - loss: 0.7005 - accuracy: 0.7328\n"
     ]
    },
    {
     "output_type": "execute_result",
     "data": {
      "text/plain": [
       "[0.7004514336585999, 0.7328214049339294]"
      ]
     },
     "metadata": {},
     "execution_count": 44
    }
   ],
   "source": [
    "# Evaluate on the whole validation set\n",
    "model_4.evaluate(val_token_character_dataset)"
   ],
   "metadata": {
    "id": "7TiXCzzp1ViN",
    "outputId": "4b97a72b-16d4-485c-d705-d35f81bab718",
    "colab": {
     "base_uri": "https://localhost:8080/"
    }
   }
  },
  {
   "cell_type": "code",
   "source": [
    "# Make predictions using the token-character model hybrid\n",
    "model_4_pred_props = model_4.predict(val_token_character_dataset)\n",
    "model_4_preds = tf.argmax(model_4_pred_props, axis=1)\n",
    "model_4_results = ml_plot.table_quality_metrics(y_true=val_labels_encoded, y_pred=model_4_preds)\n",
    "model_4_results"
   ],
   "metadata": {
    "id": "C0lZFC6Z5jGw",
    "outputId": "841d89a7-9acd-43ee-aaa3-b412f2b5c518",
    "colab": {
     "base_uri": "https://localhost:8080/"
    }
   },
   "execution_count": 48,
   "outputs": [
    {
     "output_type": "stream",
     "name": "stdout",
     "text": [
      "945/945 [==============================] - 21s 22ms/step\n"
     ]
    },
    {
     "output_type": "execute_result",
     "data": {
      "text/plain": [
       "{'accuracy': 73.28213954719979,\n",
       " 'f1': 0.7302731873855035,\n",
       " 'precision': 0.7339343754771149,\n",
       " 'recall': 0.7328213954719979}"
      ]
     },
     "metadata": {},
     "execution_count": 48
    }
   ]
  },
  {
   "cell_type": "markdown",
   "source": [
    "## Model 5: Transfer learning with pretrained token embedding + character embedding + positional embeddings"
   ],
   "metadata": {
    "collapsed": false
   }
  },
  {
   "cell_type": "code",
   "source": [
    "train_df.head()"
   ],
   "metadata": {
    "id": "5YhMvluP6GZx",
    "is_executing": true
   },
   "execution_count": null,
   "outputs": []
  },
  {
   "cell_type": "markdown",
   "source": [
    "> **Note**: Any engineered features used to train the model need to be available during test-time. In our case, line-numbers and total lines are available."
   ],
   "metadata": {
    "collapsed": false
   }
  },
  {
   "cell_type": "markdown",
   "source": [
    "### Positional embeddings"
   ],
   "metadata": {
    "collapsed": false
   }
  },
  {
   "cell_type": "code",
   "execution_count": null,
   "outputs": [],
   "source": [
    "# How many different line nubmers are there.\n",
    "train_df['line-number'].value_counts()"
   ],
   "metadata": {
    "collapsed": false
   }
  },
  {
   "cell_type": "code",
   "execution_count": null,
   "outputs": [],
   "source": [
    "# Check the distribution of \"line_number\" column\n",
    "train_df['line-number'].plot.hist()"
   ],
   "metadata": {
    "collapsed": false
   }
  },
  {
   "cell_type": "code",
   "execution_count": null,
   "outputs": [],
   "source": [
    "# Use TensorFlow to create one-hot encoded tensors of our line number column. Reason to use one-hot encoding is to not give the impression that line number 2 is more important then line number 1 using for example MinMaxScaler.\n",
    "train_line_numbers_one_hot = tf.one_hot(train_df['line-number'].to_numpy(), depth=15)\n",
    "val_line_numbers_one_hot = tf.one_hot(val_df['line-number'].to_numpy(), depth=15)\n",
    "test_line_numbers_one_hot = tf.one_hot(test_df['line-number'].to_numpy(), depth=15)\n",
    "train_line_numbers_one_hot[:10], train_line_numbers_one_hot.shape"
   ],
   "metadata": {
    "collapsed": false,
    "is_executing": true
   }
  },
  {
   "cell_type": "code",
   "execution_count": null,
   "outputs": [],
   "source": [
    "train_df['total_lines'].value_count()"
   ],
   "metadata": {
    "collapsed": false
   }
  }
 ],
 "metadata": {
  "kernelspec": {
   "display_name": "Python 3",
   "language": "python",
   "name": "python3"
  },
  "language_info": {
   "codemirror_mode": {
    "name": "ipython",
    "version": 2
   },
   "file_extension": ".py",
   "mimetype": "text/x-python",
   "name": "python",
   "nbconvert_exporter": "python",
   "pygments_lexer": "ipython2",
   "version": "2.7.6"
  },
  "colab": {
   "provenance": [],
   "gpuType": "T4"
  },
  "accelerator": "GPU",
  "gpuClass": "standard"
 },
 "nbformat": 4,
 "nbformat_minor": 0
}
