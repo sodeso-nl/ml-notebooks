{
 "cells": [
  {
   "cell_type": "code",
   "execution_count": 1,
   "outputs": [
    {
     "name": "stdout",
     "output_type": "stream",
     "text": [
      "2023-07-07 21:42:52 URL:https://raw.githubusercontent.com/sodeso-nl/ml-utilities/main/contents.txt [746/746] -> \"../../ext/contents.txt\" [1]\r\n",
      "2023-07-07 21:42:52 URL:https://raw.githubusercontent.com/sodeso-nl/ml-utilities/main/ml_callback.py [8266/8266] -> \"../../ext/ml_callback.py\" [1]\r\n",
      "2023-07-07 21:42:52 URL:https://raw.githubusercontent.com/sodeso-nl/ml-utilities/main/ml_internal.py [3032/3032] -> \"../../ext/ml_internal.py\" [1]\r\n",
      "2023-07-07 21:42:53 URL:https://raw.githubusercontent.com/sodeso-nl/ml-utilities/main/ml_io.py [2664/2664] -> \"../../ext/ml_io.py\" [1]\r\n",
      "2023-07-07 21:42:53 URL:https://raw.githubusercontent.com/sodeso-nl/ml-utilities/main/ml_layer.py [9525/9525] -> \"../../ext/ml_layer.py\" [1]\r\n",
      "2023-07-07 21:42:53 URL:https://raw.githubusercontent.com/sodeso-nl/ml-utilities/main/ml_plot.py [25391/25391] -> \"../../ext/ml_plot.py\" [1]\r\n",
      "2023-07-07 21:42:53 URL:https://raw.githubusercontent.com/sodeso-nl/ml-utilities/main/ml_util.py [2085/2085] -> \"../../ext/ml_util.py\" [1]\r\n",
      "2023-07-07 21:42:54 URL:https://raw.githubusercontent.com/sodeso-nl/ml-utilities/main/ml_data.py [8465/8465] -> \"../../ext/ml_data.py\" [1]\r\n",
      "2023-07-07 21:42:54 URL:https://raw.githubusercontent.com/sodeso-nl/ml-utilities/main/ml_view.py [4977/4977] -> \"../../ext/ml_view.py\" [1]\r\n",
      "2023-07-07 21:42:54 URL:https://raw.githubusercontent.com/sodeso-nl/ml-utilities/main/ml_analyze.py [413/413] -> \"../../ext/ml_analyze.py\" [1]\r\n",
      "2023-07-07 21:42:54 URL:https://raw.githubusercontent.com/sodeso-nl/ml-utilities/main/ml_transformer.py [315/315] -> \"../../ext/ml_transformer.py\" [1]\r\n",
      "FINISHED --2023-07-07 21:42:54--\r\n",
      "Total wall clock time: 2.3s\r\n",
      "Downloaded: 10 files, 64K in 0.009s (7.23 MB/s)\r\n",
      "TensorFlow version: 2.12.0\n",
      "Python version 3.10.8 | packaged by conda-forge | (main, Nov 22 2022, 08:25:13) [Clang 14.0.6 ]\n"
     ]
    }
   ],
   "source": [
    "import numpy\n",
    "%run ../../base-notebook.ipynb"
   ],
   "metadata": {
    "colab": {
     "base_uri": "https://localhost:8080/"
    },
    "id": "wlrgdzHmfVPo",
    "outputId": "fff6ccdc-0a22-4a73-e798-580fc6b6569d",
    "ExecuteTime": {
     "end_time": "2023-07-07T19:42:57.234572Z",
     "start_time": "2023-07-07T19:42:51.574657Z"
    }
   }
  },
  {
   "cell_type": "code",
   "execution_count": 1,
   "outputs": [],
   "source": [
    "extensions_loaded = False\n",
    "if not extensions_loaded:\n",
    "    %load_ext autoreload\n",
    "    %load_ext tensorboard\n",
    "    extensions_loaded = True\n",
    "\n",
    "%autoreload 2\n",
    "%matplotlib inline"
   ],
   "metadata": {
    "collapsed": false,
    "ExecuteTime": {
     "end_time": "2023-07-12T13:47:34.779959Z",
     "start_time": "2023-07-12T13:47:34.347585Z"
    }
   }
  },
  {
   "cell_type": "code",
   "execution_count": 2,
   "outputs": [],
   "source": [
    "import sys\n",
    "\n",
    "sys.path.append(\"../../ext\")\n",
    "\n",
    "import ext.ml_callback as mlc\n",
    "import ext.ml_io as mli\n",
    "import ext.ml_layer as mll\n",
    "import ext.ml_plot as mlp\n",
    "import ext.ml_util as mlu\n",
    "import ext.ml_data as mld\n",
    "import ext.ml_view as mlv\n",
    "import ext.ml_analyze as mla\n",
    "import ext.ml_shell as mls\n",
    "\n",
    "import tensorflow as tf\n",
    "import pandas as pd\n",
    "\n",
    "import opendatasets as od\n",
    "\n",
    "import tensorflow_hub as hub\n",
    "\n",
    "from keras import Model\n",
    "from keras.optimizers import Adam\n",
    "from keras.layers import Dense, Input, GlobalAveragePooling1D, Flatten, Activation, TextVectorization, Embedding, LSTM, GRU, Bidirectional, Conv1D, GlobalMaxPooling1D\n",
    "from keras.losses import binary_crossentropy"
   ],
   "metadata": {
    "colab": {
     "base_uri": "https://localhost:8080/"
    },
    "id": "G8laH65-fVPp",
    "outputId": "447fa214-ade2-48ed-9224-4f4cfc76aeef",
    "ExecuteTime": {
     "end_time": "2023-07-12T13:47:37.779638Z",
     "start_time": "2023-07-12T13:47:34.670483Z"
    }
   }
  },
  {
   "cell_type": "markdown",
   "source": [],
   "metadata": {
    "collapsed": false
   }
  }
 ],
 "metadata": {
  "kernelspec": {
   "display_name": "Python 3",
   "language": "python",
   "name": "python3"
  },
  "language_info": {
   "codemirror_mode": {
    "name": "ipython",
    "version": 2
   },
   "file_extension": ".py",
   "mimetype": "text/x-python",
   "name": "python",
   "nbconvert_exporter": "python",
   "pygments_lexer": "ipython2",
   "version": "2.7.6"
  },
  "colab": {
   "provenance": [],
   "gpuType": "T4"
  },
  "accelerator": "GPU",
  "gpuClass": "standard"
 },
 "nbformat": 4,
 "nbformat_minor": 0
}
