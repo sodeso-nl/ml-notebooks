{
 "nbformat": 4,
 "nbformat_minor": 0,
 "metadata": {
  "colab": {
   "provenance": []
  },
  "kernelspec": {
   "name": "python3",
   "language": "python",
   "display_name": "Python 3 (ipykernel)"
  },
  "language_info": {
   "name": "python"
  },
  "accelerator": "GPU",
  "gpuClass": "standard"
 },
 "cells": [
  {
   "cell_type": "markdown",
   "source": [
    "#In this notebook, we're going to cover some of the most fundamental concepts using TensorFlow.\n",
    "\n",
    "More specifically, we're going to cover:\n",
    "* Introduction to tensors\n",
    "* Getting information from tenstors\n",
    "* Manipulating tensors\n",
    "* Tensors * NumPy\n",
    "* Using @tf.function (a way to speed up your regular Python functions)\n",
    "* Using GPUs with TensorFlow (or TPUs)\n",
    "* Exercises to try for yourself!"
   ],
   "metadata": {
    "collapsed": false
   }
  },
  {
   "cell_type": "markdown",
   "source": [
    "Introduction to Tensors"
   ],
   "metadata": {
    "id": "sBZnfhh7Oc4S"
   }
  },
  {
   "cell_type": "code",
   "source": [
    "# Import TensorFlow\n",
    "import tensorflow as tf\n",
    "print(tf.__version__)"
   ],
   "metadata": {
    "colab": {
     "base_uri": "https://localhost:8080/"
    },
    "id": "S3piC1NNO3gd",
    "outputId": "13d3b00e-801a-4c1d-ed8a-e8f906630339",
    "ExecuteTime": {
     "end_time": "2023-08-31T11:27:10.602583Z",
     "start_time": "2023-08-31T11:26:35.214201Z"
    }
   },
   "execution_count": 1,
   "outputs": [
    {
     "name": "stdout",
     "output_type": "stream",
     "text": [
      "2.12.0\n"
     ]
    }
   ]
  },
  {
   "cell_type": "code",
   "source": [
    "# Creating tensors with tf.constant()\n",
    "scalar = tf.constant(7)\n",
    "scalar"
   ],
   "metadata": {
    "colab": {
     "base_uri": "https://localhost:8080/"
    },
    "id": "QDWxQjrJPDls",
    "outputId": "98b11a1f-4f52-4a44-f3c6-7a831e3ed9ec",
    "ExecuteTime": {
     "end_time": "2023-08-31T11:27:14.958552Z",
     "start_time": "2023-08-31T11:27:14.930403Z"
    }
   },
   "execution_count": 2,
   "outputs": [
    {
     "name": "stdout",
     "output_type": "stream",
     "text": [
      "Metal device set to: Apple M1 Max\n"
     ]
    },
    {
     "data": {
      "text/plain": "<tf.Tensor: shape=(), dtype=int32, numpy=7>"
     },
     "execution_count": 2,
     "metadata": {},
     "output_type": "execute_result"
    }
   ]
  },
  {
   "cell_type": "code",
   "source": [
    "# Check the number of dimensions of a tensor (ndim stands for number of dimensions)\n",
    "scalar.ndim"
   ],
   "metadata": {
    "colab": {
     "base_uri": "https://localhost:8080/"
    },
    "id": "U8WGqStGPSZe",
    "outputId": "cd1b7035-a0bd-4dba-f299-4ee6cfb4b946",
    "ExecuteTime": {
     "end_time": "2023-08-31T11:27:17.167952Z",
     "start_time": "2023-08-31T11:27:17.139839Z"
    }
   },
   "execution_count": 3,
   "outputs": [
    {
     "data": {
      "text/plain": "0"
     },
     "execution_count": 3,
     "metadata": {},
     "output_type": "execute_result"
    }
   ]
  },
  {
   "cell_type": "code",
   "source": [
    "# Create a vector\n",
    "vector = tf.constant([10, 10])\n",
    "vector"
   ],
   "metadata": {
    "colab": {
     "base_uri": "https://localhost:8080/"
    },
    "id": "jp1F-NdmPmVm",
    "outputId": "de2eea26-0d73-4816-de60-9617669c8891",
    "ExecuteTime": {
     "end_time": "2023-08-31T11:27:17.579724Z",
     "start_time": "2023-08-31T11:27:17.562763Z"
    }
   },
   "execution_count": 4,
   "outputs": [
    {
     "data": {
      "text/plain": "<tf.Tensor: shape=(2,), dtype=int32, numpy=array([10, 10], dtype=int32)>"
     },
     "execution_count": 4,
     "metadata": {},
     "output_type": "execute_result"
    }
   ]
  },
  {
   "cell_type": "code",
   "source": [
    "# Check the dimension of our vector\n",
    "vector.ndim"
   ],
   "metadata": {
    "colab": {
     "base_uri": "https://localhost:8080/"
    },
    "id": "H0E23nuKPsz4",
    "outputId": "244d7817-83b6-4af8-9048-195d04480591",
    "ExecuteTime": {
     "end_time": "2023-08-31T11:27:17.999908Z",
     "start_time": "2023-08-31T11:27:17.981264Z"
    }
   },
   "execution_count": 5,
   "outputs": [
    {
     "data": {
      "text/plain": "1"
     },
     "execution_count": 5,
     "metadata": {},
     "output_type": "execute_result"
    }
   ]
  },
  {
   "cell_type": "code",
   "source": [
    "# Create a matrix (has more then 1 dimension)\n",
    "matrix = tf.constant([[10, 7], [7, 10]])\n",
    "matrix"
   ],
   "metadata": {
    "colab": {
     "base_uri": "https://localhost:8080/"
    },
    "id": "u-tow9p3P3S9",
    "outputId": "8fda527e-f466-45f8-ad57-30ea8c0b7b8c",
    "ExecuteTime": {
     "end_time": "2023-08-31T11:27:18.337577Z",
     "start_time": "2023-08-31T11:27:18.315725Z"
    }
   },
   "execution_count": 6,
   "outputs": [
    {
     "data": {
      "text/plain": "<tf.Tensor: shape=(2, 2), dtype=int32, numpy=\narray([[10,  7],\n       [ 7, 10]], dtype=int32)>"
     },
     "execution_count": 6,
     "metadata": {},
     "output_type": "execute_result"
    }
   ]
  },
  {
   "cell_type": "code",
   "source": [
    "# Check the dimension of our matrix\n",
    "matrix.ndim"
   ],
   "metadata": {
    "colab": {
     "base_uri": "https://localhost:8080/"
    },
    "id": "AqcBvr-WQABn",
    "outputId": "bb6beb79-e7c6-4fe1-e556-14ad3369fcf5",
    "ExecuteTime": {
     "end_time": "2023-08-31T11:27:18.646469Z",
     "start_time": "2023-08-31T11:27:18.623316Z"
    }
   },
   "execution_count": 7,
   "outputs": [
    {
     "data": {
      "text/plain": "2"
     },
     "execution_count": 7,
     "metadata": {},
     "output_type": "execute_result"
    }
   ]
  },
  {
   "cell_type": "code",
   "source": [
    "# Create another matrix\n",
    "another_matrix = tf.constant([[10. , 7.], [3., 2.], [8., 9.]], dtype=tf.float16)\n",
    "another_matrix"
   ],
   "metadata": {
    "colab": {
     "base_uri": "https://localhost:8080/"
    },
    "id": "3PWjcihlQKgv",
    "outputId": "01754277-d95e-4b05-8cea-f70626bc86f0",
    "ExecuteTime": {
     "end_time": "2023-08-31T11:27:18.997360Z",
     "start_time": "2023-08-31T11:27:18.991173Z"
    }
   },
   "execution_count": 8,
   "outputs": [
    {
     "data": {
      "text/plain": "<tf.Tensor: shape=(3, 2), dtype=float16, numpy=\narray([[10.,  7.],\n       [ 3.,  2.],\n       [ 8.,  9.]], dtype=float16)>"
     },
     "execution_count": 8,
     "metadata": {},
     "output_type": "execute_result"
    }
   ]
  },
  {
   "cell_type": "code",
   "source": [
    "# What's the number of dimensions of another matrix.\n",
    "another_matrix.ndim"
   ],
   "metadata": {
    "colab": {
     "base_uri": "https://localhost:8080/"
    },
    "id": "rkCnIH9DQdYU",
    "outputId": "50aa687a-076d-47fc-deb6-c08dd92940c5",
    "ExecuteTime": {
     "end_time": "2023-08-31T11:27:19.305927Z",
     "start_time": "2023-08-31T11:27:19.281751Z"
    }
   },
   "execution_count": 9,
   "outputs": [
    {
     "data": {
      "text/plain": "2"
     },
     "execution_count": 9,
     "metadata": {},
     "output_type": "execute_result"
    }
   ]
  },
  {
   "cell_type": "code",
   "source": [
    "# Let's create a tensor\n",
    "tensor = tf.constant(\n",
    "    [\n",
    "        [\n",
    "            [1, 2, 3], \n",
    "            [4, 5, 6]\n",
    "        ],\n",
    "        [\n",
    "            [7, 8, 9], \n",
    "            [10, 11, 12]\n",
    "        ], \n",
    "        [\n",
    "            [13, 14, 15], \n",
    "            [16, 17, 18]\n",
    "         ]\n",
    "    ])\n",
    "tensor"
   ],
   "metadata": {
    "colab": {
     "base_uri": "https://localhost:8080/"
    },
    "id": "iRVEpfmWQ0LL",
    "outputId": "d4625ca3-44ad-48e7-9acf-61a85fbe573c",
    "ExecuteTime": {
     "end_time": "2023-08-31T11:27:19.617763Z",
     "start_time": "2023-08-31T11:27:19.594832Z"
    }
   },
   "execution_count": 10,
   "outputs": [
    {
     "data": {
      "text/plain": "<tf.Tensor: shape=(3, 2, 3), dtype=int32, numpy=\narray([[[ 1,  2,  3],\n        [ 4,  5,  6]],\n\n       [[ 7,  8,  9],\n        [10, 11, 12]],\n\n       [[13, 14, 15],\n        [16, 17, 18]]], dtype=int32)>"
     },
     "execution_count": 10,
     "metadata": {},
     "output_type": "execute_result"
    }
   ]
  },
  {
   "cell_type": "code",
   "source": [
    "# What's the number of dimensions of the tensor.\n",
    "tensor.ndim"
   ],
   "metadata": {
    "colab": {
     "base_uri": "https://localhost:8080/"
    },
    "id": "aJqgmWgRRe_S",
    "outputId": "c5cdaba9-ac29-473a-c1f5-84c4040da264",
    "ExecuteTime": {
     "end_time": "2023-08-31T11:27:19.924369Z",
     "start_time": "2023-08-31T11:27:19.886146Z"
    }
   },
   "execution_count": 11,
   "outputs": [
    {
     "data": {
      "text/plain": "3"
     },
     "execution_count": 11,
     "metadata": {},
     "output_type": "execute_result"
    }
   ]
  },
  {
   "cell_type": "markdown",
   "source": [
    "What we've created so far:\n",
    "* Scalar: A single number\n",
    "* Vector: A number with direction (e.g. wind speed and direction)\n",
    "* A matrix: A 2-dimensional array of numbers.\n",
    "* Tensor: an n-dimensional array of numbers (where n can be any number, a 0 dimensional tensor is a scalar, a 1-dimensional tensor is a vector)"
   ],
   "metadata": {
    "id": "NXvu1ZedRhG1"
   }
  },
  {
   "cell_type": "markdown",
   "source": [
    "### Creating tensors with 'tf.Variable'"
   ],
   "metadata": {
    "id": "2OQb13miSCUh"
   }
  },
  {
   "cell_type": "code",
   "source": [
    "# Create the same tensor with tf.Valirable() as above\n",
    "changeable_tensor = tf.Variable([10, 7])\n",
    "unchangeable_tensor = tf.constant([10, 7])\n",
    "\n",
    "changeable_tensor, unchangeable_tensor"
   ],
   "metadata": {
    "colab": {
     "base_uri": "https://localhost:8080/"
    },
    "id": "kZd_gF_tSLnh",
    "outputId": "4f812da5-a021-42d6-c8fc-008a69bb9f83",
    "ExecuteTime": {
     "end_time": "2023-08-31T11:27:20.907288Z",
     "start_time": "2023-08-31T11:27:20.889019Z"
    }
   },
   "execution_count": 12,
   "outputs": [
    {
     "data": {
      "text/plain": "(<tf.Variable 'Variable:0' shape=(2,) dtype=int32, numpy=array([10,  7], dtype=int32)>,\n <tf.Tensor: shape=(2,), dtype=int32, numpy=array([10,  7], dtype=int32)>)"
     },
     "execution_count": 12,
     "metadata": {},
     "output_type": "execute_result"
    }
   ]
  },
  {
   "cell_type": "code",
   "source": [
    "# Let's try change on of the elements in our changeable tensor\n",
    "changeable_tensor[0] = 7\n",
    "changeable_tensor"
   ],
   "metadata": {
    "colab": {
     "base_uri": "https://localhost:8080/",
     "height": 198
    },
    "id": "fg2bpzYOSiCt",
    "outputId": "a07479e8-f9b9-408a-d0ec-11c70d03efa0",
    "ExecuteTime": {
     "end_time": "2023-08-31T11:27:21.333975Z",
     "start_time": "2023-08-31T11:27:20.973924Z"
    }
   },
   "execution_count": 13,
   "outputs": [
    {
     "ename": "TypeError",
     "evalue": "'ResourceVariable' object does not support item assignment",
     "output_type": "error",
     "traceback": [
      "\u001B[0;31m---------------------------------------------------------------------------\u001B[0m",
      "\u001B[0;31mTypeError\u001B[0m                                 Traceback (most recent call last)",
      "Cell \u001B[0;32mIn[13], line 2\u001B[0m\n\u001B[1;32m      1\u001B[0m \u001B[38;5;66;03m# Let's try change on of the elements in our changeable tensor\u001B[39;00m\n\u001B[0;32m----> 2\u001B[0m \u001B[43mchangeable_tensor\u001B[49m\u001B[43m[\u001B[49m\u001B[38;5;241;43m0\u001B[39;49m\u001B[43m]\u001B[49m \u001B[38;5;241m=\u001B[39m \u001B[38;5;241m7\u001B[39m\n\u001B[1;32m      3\u001B[0m changeable_tensor\n",
      "\u001B[0;31mTypeError\u001B[0m: 'ResourceVariable' object does not support item assignment"
     ]
    }
   ]
  },
  {
   "cell_type": "code",
   "source": [
    "# How about we try .assign()\n",
    "changeable_tensor[0].assign(7)\n",
    "changeable_tensor"
   ],
   "metadata": {
    "id": "16P74F8kSw3W",
    "colab": {
     "base_uri": "https://localhost:8080/"
    },
    "outputId": "963f743d-0242-4dd4-da4d-0e9de788241f",
    "ExecuteTime": {
     "start_time": "2023-08-31T11:27:21.315845Z"
    }
   },
   "execution_count": null,
   "outputs": []
  },
  {
   "cell_type": "code",
   "source": [
    "# Let's try change our unchangable tensor\n",
    "unchangeable_tensor[0].assign(7)"
   ],
   "metadata": {
    "colab": {
     "base_uri": "https://localhost:8080/",
     "height": 300
    },
    "id": "asvfCPY_TBoi",
    "outputId": "cce92260-850c-47a8-9cf7-623735a36a8c",
    "ExecuteTime": {
     "start_time": "2023-08-31T11:27:21.317302Z"
    }
   },
   "execution_count": null,
   "outputs": []
  },
  {
   "cell_type": "markdown",
   "source": [
    "### Creating random tensors\n",
    "\n",
    "Random tensors are tensors of some abitrary size which "
   ],
   "metadata": {
    "id": "VVqtzmy9TIzT"
   }
  },
  {
   "cell_type": "code",
   "source": [
    "# Create two random (but the same) tensors\n",
    "random_1 = tf.random.Generator.from_seed(42) # set seed for reproducability.\n",
    "random_1 = random_1.normal(shape=(3, 2, ))\n",
    "random_2 = tf.random.Generator.from_seed(42)\n",
    "random_2 = random_2.normal(shape=(3, 2, ))\n",
    "\n",
    "# Are they equal?\n",
    "random_1, random_2, random_1 == random_2"
   ],
   "metadata": {
    "colab": {
     "base_uri": "https://localhost:8080/"
    },
    "id": "4cih95wYTkGd",
    "outputId": "f3f6d49a-375b-4832-a9ff-924c5a2ff1c1",
    "ExecuteTime": {
     "start_time": "2023-08-31T11:27:21.318374Z"
    }
   },
   "execution_count": null,
   "outputs": []
  },
  {
   "cell_type": "markdown",
   "source": [
    "### Shuffle the order of elements in a tensor"
   ],
   "metadata": {
    "id": "uwmiwlVgVgdK"
   }
  },
  {
   "cell_type": "code",
   "source": [
    "# Shuffle a tensor (valuable for when you want to shuffle your data so the inherent order doesn't effect learning)\n",
    "not_shuffled = tf.constant([[10, 7], [3, 4], [2,5]])\n",
    "not_shuffled.ndim"
   ],
   "metadata": {
    "colab": {
     "base_uri": "https://localhost:8080/"
    },
    "id": "cwtIPcqaftaR",
    "outputId": "acc8255c-9b3f-4857-f896-8d9fbee717a8",
    "ExecuteTime": {
     "end_time": "2023-08-31T11:27:21.498666Z",
     "start_time": "2023-08-31T11:27:21.473665Z"
    }
   },
   "execution_count": 14,
   "outputs": [
    {
     "data": {
      "text/plain": "2"
     },
     "execution_count": 14,
     "metadata": {},
     "output_type": "execute_result"
    }
   ]
  },
  {
   "cell_type": "code",
   "source": [
    "not_shuffled"
   ],
   "metadata": {
    "colab": {
     "base_uri": "https://localhost:8080/"
    },
    "id": "xk9aiJjHgW7K",
    "outputId": "f5c578ee-67f2-4fbc-ca7f-2af490c4fbba",
    "ExecuteTime": {
     "end_time": "2023-08-31T11:27:21.579357Z",
     "start_time": "2023-08-31T11:27:21.560605Z"
    }
   },
   "execution_count": 15,
   "outputs": [
    {
     "data": {
      "text/plain": "<tf.Tensor: shape=(3, 2), dtype=int32, numpy=\narray([[10,  7],\n       [ 3,  4],\n       [ 2,  5]], dtype=int32)>"
     },
     "execution_count": 15,
     "metadata": {},
     "output_type": "execute_result"
    }
   ]
  },
  {
   "cell_type": "code",
   "source": [
    "# Shuffle our non-shuffled tensor\n",
    "tf.random.shuffle(not_shuffled)\n"
   ],
   "metadata": {
    "colab": {
     "base_uri": "https://localhost:8080/"
    },
    "id": "O3KuwMx_geph",
    "outputId": "75cbef48-fff0-40ec-8d18-fa9e766f35ed",
    "ExecuteTime": {
     "end_time": "2023-08-31T11:27:21.662357Z",
     "start_time": "2023-08-31T11:27:21.643307Z"
    }
   },
   "execution_count": 16,
   "outputs": [
    {
     "data": {
      "text/plain": "<tf.Tensor: shape=(3, 2), dtype=int32, numpy=\narray([[10,  7],\n       [ 3,  4],\n       [ 2,  5]], dtype=int32)>"
     },
     "execution_count": 16,
     "metadata": {},
     "output_type": "execute_result"
    }
   ]
  },
  {
   "cell_type": "code",
   "source": [
    "# Shuffle our non-shuffled tensor\n",
    "tf.random.shuffle(not_shuffled, seed=42)"
   ],
   "metadata": {
    "colab": {
     "base_uri": "https://localhost:8080/"
    },
    "id": "iUW0ee8-gzIl",
    "outputId": "0a03eb06-1230-4a7a-b278-f70140967442",
    "ExecuteTime": {
     "end_time": "2023-08-31T11:27:21.746213Z",
     "start_time": "2023-08-31T11:27:21.727609Z"
    }
   },
   "execution_count": 17,
   "outputs": [
    {
     "data": {
      "text/plain": "<tf.Tensor: shape=(3, 2), dtype=int32, numpy=\narray([[ 2,  5],\n       [ 3,  4],\n       [10,  7]], dtype=int32)>"
     },
     "execution_count": 17,
     "metadata": {},
     "output_type": "execute_result"
    }
   ]
  },
  {
   "cell_type": "code",
   "source": [
    "tf.random.set_seed(42) # global level random seed\n",
    "tf.random.shuffle(not_shuffled, seed=42) # operation level random seed"
   ],
   "metadata": {
    "colab": {
     "base_uri": "https://localhost:8080/"
    },
    "id": "7JHD0rjhhCFp",
    "outputId": "c9939b84-58ba-4f2a-9c9e-669c4d8eb040",
    "ExecuteTime": {
     "end_time": "2023-08-31T11:27:21.843248Z",
     "start_time": "2023-08-31T11:27:21.810830Z"
    }
   },
   "execution_count": 18,
   "outputs": [
    {
     "data": {
      "text/plain": "<tf.Tensor: shape=(3, 2), dtype=int32, numpy=\narray([[10,  7],\n       [ 3,  4],\n       [ 2,  5]], dtype=int32)>"
     },
     "execution_count": 18,
     "metadata": {},
     "output_type": "execute_result"
    }
   ]
  },
  {
   "cell_type": "markdown",
   "source": [
    "### Other ways to make tensors."
   ],
   "metadata": {
    "id": "J32jrseatGW3"
   }
  },
  {
   "cell_type": "code",
   "source": [
    "# Create a tensor of all ones.\n",
    "tf.ones(shape=(10, 7))"
   ],
   "metadata": {
    "colab": {
     "base_uri": "https://localhost:8080/"
    },
    "id": "JGBiU8FFvLuD",
    "outputId": "e9e5cee1-d449-4b03-a063-eeff19876415",
    "ExecuteTime": {
     "end_time": "2023-08-31T11:27:22.110804Z",
     "start_time": "2023-08-31T11:27:21.974815Z"
    }
   },
   "execution_count": 19,
   "outputs": [
    {
     "data": {
      "text/plain": "<tf.Tensor: shape=(10, 7), dtype=float32, numpy=\narray([[1., 1., 1., 1., 1., 1., 1.],\n       [1., 1., 1., 1., 1., 1., 1.],\n       [1., 1., 1., 1., 1., 1., 1.],\n       [1., 1., 1., 1., 1., 1., 1.],\n       [1., 1., 1., 1., 1., 1., 1.],\n       [1., 1., 1., 1., 1., 1., 1.],\n       [1., 1., 1., 1., 1., 1., 1.],\n       [1., 1., 1., 1., 1., 1., 1.],\n       [1., 1., 1., 1., 1., 1., 1.],\n       [1., 1., 1., 1., 1., 1., 1.]], dtype=float32)>"
     },
     "execution_count": 19,
     "metadata": {},
     "output_type": "execute_result"
    }
   ]
  },
  {
   "cell_type": "code",
   "source": [
    "# Create a tensor of all zeros.\n",
    "tf.zeros(shape=(3, 4))"
   ],
   "metadata": {
    "colab": {
     "base_uri": "https://localhost:8080/"
    },
    "id": "ZivSLT2HvSmf",
    "outputId": "1dcda39c-2ff7-4f46-d598-1bac4d5b1606",
    "ExecuteTime": {
     "end_time": "2023-08-31T11:27:22.151234Z",
     "start_time": "2023-08-31T11:27:22.111461Z"
    }
   },
   "execution_count": 20,
   "outputs": [
    {
     "data": {
      "text/plain": "<tf.Tensor: shape=(3, 4), dtype=float32, numpy=\narray([[0., 0., 0., 0.],\n       [0., 0., 0., 0.],\n       [0., 0., 0., 0.]], dtype=float32)>"
     },
     "execution_count": 20,
     "metadata": {},
     "output_type": "execute_result"
    }
   ]
  },
  {
   "cell_type": "markdown",
   "source": [
    "### Turn NumPy arrays into tensors\n",
    "\n",
    "The main difference between NumPy arratys and TensorFlow tensors is that tensors can be run on a GPU (much faster for numerical computing)."
   ],
   "metadata": {
    "id": "JzwMZ2q3vkoc"
   }
  },
  {
   "cell_type": "code",
   "source": [
    "# You can also turn NumPy arrays into tensors\n",
    "import numpy as np\n",
    "numpy_A = np.arange(1, 25, dtype=np.int32) # create a NumPy array between 1 and 25.\n",
    "numpy_A\n",
    "# X = tf.constant(some_matrix) # capital for matrix or tensor\n",
    "# y = tf.constant(vector) # non-capital for vector."
   ],
   "metadata": {
    "colab": {
     "base_uri": "https://localhost:8080/"
    },
    "id": "4H6WsbuwvZ6U",
    "outputId": "14a98de4-cd6d-4312-a845-23f7e761649a",
    "ExecuteTime": {
     "end_time": "2023-08-31T11:27:22.253544Z",
     "start_time": "2023-08-31T11:27:22.229795Z"
    }
   },
   "execution_count": 21,
   "outputs": [
    {
     "data": {
      "text/plain": "array([ 1,  2,  3,  4,  5,  6,  7,  8,  9, 10, 11, 12, 13, 14, 15, 16, 17,\n       18, 19, 20, 21, 22, 23, 24], dtype=int32)"
     },
     "execution_count": 21,
     "metadata": {},
     "output_type": "execute_result"
    }
   ]
  },
  {
   "cell_type": "code",
   "source": [
    "A = tf.constant(numpy_A, shape=(3, 8))\n",
    "B = tf.constant(numpy_A)\n",
    "A, B"
   ],
   "metadata": {
    "colab": {
     "base_uri": "https://localhost:8080/"
    },
    "id": "uz9Pk7gowJWG",
    "outputId": "7e6e0615-5a09-4de3-ad4f-5424d86aa85c",
    "ExecuteTime": {
     "end_time": "2023-08-31T11:27:22.389067Z",
     "start_time": "2023-08-31T11:27:22.326568Z"
    }
   },
   "execution_count": 22,
   "outputs": [
    {
     "data": {
      "text/plain": "(<tf.Tensor: shape=(3, 8), dtype=int32, numpy=\n array([[ 1,  2,  3,  4,  5,  6,  7,  8],\n        [ 9, 10, 11, 12, 13, 14, 15, 16],\n        [17, 18, 19, 20, 21, 22, 23, 24]], dtype=int32)>,\n <tf.Tensor: shape=(24,), dtype=int32, numpy=\n array([ 1,  2,  3,  4,  5,  6,  7,  8,  9, 10, 11, 12, 13, 14, 15, 16, 17,\n        18, 19, 20, 21, 22, 23, 24], dtype=int32)>)"
     },
     "execution_count": 22,
     "metadata": {},
     "output_type": "execute_result"
    }
   ]
  },
  {
   "cell_type": "markdown",
   "source": [
    "### Getting information from tensors\n",
    "\n",
    "* Shape\n",
    "* Rank\n",
    "* Axis or dimension\n",
    "* Size"
   ],
   "metadata": {
    "id": "PXi_nnY6wTib"
   }
  },
  {
   "cell_type": "code",
   "source": [
    "# Create a rank 4 tensor (4 dimensions)\n",
    "rank_4_tensor = tf.zeros(shape=(2, 3, 4, 5))\n",
    "rank_4_tensor"
   ],
   "metadata": {
    "colab": {
     "base_uri": "https://localhost:8080/"
    },
    "id": "fMy4Gj0lIBDW",
    "outputId": "940b7991-14e4-4082-a23f-7c9d45326e40",
    "ExecuteTime": {
     "end_time": "2023-08-31T11:27:22.501996Z",
     "start_time": "2023-08-31T11:27:22.476338Z"
    }
   },
   "execution_count": 23,
   "outputs": [
    {
     "data": {
      "text/plain": "<tf.Tensor: shape=(2, 3, 4, 5), dtype=float32, numpy=\narray([[[[0., 0., 0., 0., 0.],\n         [0., 0., 0., 0., 0.],\n         [0., 0., 0., 0., 0.],\n         [0., 0., 0., 0., 0.]],\n\n        [[0., 0., 0., 0., 0.],\n         [0., 0., 0., 0., 0.],\n         [0., 0., 0., 0., 0.],\n         [0., 0., 0., 0., 0.]],\n\n        [[0., 0., 0., 0., 0.],\n         [0., 0., 0., 0., 0.],\n         [0., 0., 0., 0., 0.],\n         [0., 0., 0., 0., 0.]]],\n\n\n       [[[0., 0., 0., 0., 0.],\n         [0., 0., 0., 0., 0.],\n         [0., 0., 0., 0., 0.],\n         [0., 0., 0., 0., 0.]],\n\n        [[0., 0., 0., 0., 0.],\n         [0., 0., 0., 0., 0.],\n         [0., 0., 0., 0., 0.],\n         [0., 0., 0., 0., 0.]],\n\n        [[0., 0., 0., 0., 0.],\n         [0., 0., 0., 0., 0.],\n         [0., 0., 0., 0., 0.],\n         [0., 0., 0., 0., 0.]]]], dtype=float32)>"
     },
     "execution_count": 23,
     "metadata": {},
     "output_type": "execute_result"
    }
   ]
  },
  {
   "cell_type": "code",
   "source": [
    "rank_4_tensor.shape, rank_4_tensor.ndim, tf.size(rank_4_tensor)"
   ],
   "metadata": {
    "colab": {
     "base_uri": "https://localhost:8080/"
    },
    "id": "DgxLJYmYjACh",
    "outputId": "0c46cb99-c5d7-4f2b-8252-da8842ccfb11",
    "ExecuteTime": {
     "end_time": "2023-08-31T11:27:22.579100Z",
     "start_time": "2023-08-31T11:27:22.561220Z"
    }
   },
   "execution_count": 24,
   "outputs": [
    {
     "data": {
      "text/plain": "(TensorShape([2, 3, 4, 5]), 4, <tf.Tensor: shape=(), dtype=int32, numpy=120>)"
     },
     "execution_count": 24,
     "metadata": {},
     "output_type": "execute_result"
    }
   ]
  },
  {
   "cell_type": "code",
   "source": [
    "# Get various attributes of our tensor\n",
    "print(\"Datatype of every element:\", rank_4_tensor.dtype)\n",
    "print(\"Number of dimensions (rank):\", rank_4_tensor.ndim)\n",
    "print(\"Shape of tensor:\", rank_4_tensor.shape)\n",
    "print(\"Elements along the 0 axis:\", rank_4_tensor.shape[0])\n",
    "print(\"Elements along the last axis:\", rank_4_tensor.shape[-1])\n",
    "print(\"Total number of elements in our tensor:\", tf.size(rank_4_tensor).numpy())"
   ],
   "metadata": {
    "colab": {
     "base_uri": "https://localhost:8080/"
    },
    "id": "MiD2yu1OjUsk",
    "outputId": "6c0e0c4e-4bd6-4746-eeac-2f86c8ef1446",
    "ExecuteTime": {
     "end_time": "2023-08-31T11:27:22.675989Z",
     "start_time": "2023-08-31T11:27:22.645617Z"
    }
   },
   "execution_count": 25,
   "outputs": [
    {
     "name": "stdout",
     "output_type": "stream",
     "text": [
      "Datatype of every element: <dtype: 'float32'>\n",
      "Number of dimensions (rank): 4\n",
      "Shape of tensor: (2, 3, 4, 5)\n",
      "Elements along the 0 axis: 2\n",
      "Elements along the last axis: 5\n",
      "Total number of elements in our tensor: 120\n"
     ]
    }
   ]
  },
  {
   "cell_type": "markdown",
   "source": [
    "### Indexing tensors\n",
    "\n",
    "Tensors can be indexed just like Python lists"
   ],
   "metadata": {
    "id": "pKoxtB76lAXZ"
   }
  },
  {
   "cell_type": "code",
   "source": [
    "some_list = [1, 2, 3, 4]\n",
    "some_list[:2]"
   ],
   "metadata": {
    "colab": {
     "base_uri": "https://localhost:8080/"
    },
    "id": "MvEbwAB60Vb5",
    "outputId": "918f1f7f-ed78-4d92-bc9e-791b44379a4e",
    "ExecuteTime": {
     "end_time": "2023-08-31T11:27:22.836121Z",
     "start_time": "2023-08-31T11:27:22.812243Z"
    }
   },
   "execution_count": 26,
   "outputs": [
    {
     "data": {
      "text/plain": "[1, 2]"
     },
     "execution_count": 26,
     "metadata": {},
     "output_type": "execute_result"
    }
   ]
  },
  {
   "cell_type": "code",
   "source": [
    "# Get the first 2 elements of each dimension\n",
    "\n",
    "rank_4_tensor[:2, :2, :2, :2]"
   ],
   "metadata": {
    "colab": {
     "base_uri": "https://localhost:8080/"
    },
    "id": "vP64Vm10zr3w",
    "outputId": "8f0f1720-1421-4993-d44b-b6e81a8cd9e2",
    "ExecuteTime": {
     "end_time": "2023-08-31T11:27:22.941884Z",
     "start_time": "2023-08-31T11:27:22.894364Z"
    }
   },
   "execution_count": 27,
   "outputs": [
    {
     "data": {
      "text/plain": "<tf.Tensor: shape=(2, 2, 2, 2), dtype=float32, numpy=\narray([[[[0., 0.],\n         [0., 0.]],\n\n        [[0., 0.],\n         [0., 0.]]],\n\n\n       [[[0., 0.],\n         [0., 0.]],\n\n        [[0., 0.],\n         [0., 0.]]]], dtype=float32)>"
     },
     "execution_count": 27,
     "metadata": {},
     "output_type": "execute_result"
    }
   ]
  },
  {
   "cell_type": "code",
   "source": [
    "# Get the first element from each dimension from each index except for the final one.\n",
    "rank_4_tensor[:1, :1, :1]"
   ],
   "metadata": {
    "colab": {
     "base_uri": "https://localhost:8080/"
    },
    "id": "5irRDJZSz1ae",
    "outputId": "c32bfff1-717f-44fe-d838-9aac6a3f8042",
    "ExecuteTime": {
     "end_time": "2023-08-31T11:27:23.043810Z",
     "start_time": "2023-08-31T11:27:23.001729Z"
    }
   },
   "execution_count": 28,
   "outputs": [
    {
     "data": {
      "text/plain": "<tf.Tensor: shape=(1, 1, 1, 5), dtype=float32, numpy=array([[[[0., 0., 0., 0., 0.]]]], dtype=float32)>"
     },
     "execution_count": 28,
     "metadata": {},
     "output_type": "execute_result"
    }
   ]
  },
  {
   "cell_type": "code",
   "source": [
    "# Create a rank 23 tensor (2 dimensions)\n",
    "rank_2_tensor = tf.constant([[10, 7], [3, 4]])\n",
    "rank_2_tensor.shape, rank_2_tensor.ndim"
   ],
   "metadata": {
    "colab": {
     "base_uri": "https://localhost:8080/"
    },
    "id": "gfMDsqE90yL8",
    "outputId": "867d0477-11b1-482c-b75f-d977423de445",
    "ExecuteTime": {
     "end_time": "2023-08-31T11:27:23.130020Z",
     "start_time": "2023-08-31T11:27:23.072810Z"
    }
   },
   "execution_count": 29,
   "outputs": [
    {
     "data": {
      "text/plain": "(TensorShape([2, 2]), 2)"
     },
     "execution_count": 29,
     "metadata": {},
     "output_type": "execute_result"
    }
   ]
  },
  {
   "cell_type": "code",
   "source": [
    "# Get the last item of each of our rank 2 tensor  \n",
    "rank_2_tensor[:, -1]"
   ],
   "metadata": {
    "colab": {
     "base_uri": "https://localhost:8080/"
    },
    "id": "6kpxTekj1-ei",
    "outputId": "adbafbb7-4e7e-4ac7-bd63-759ac04d5d8c",
    "ExecuteTime": {
     "end_time": "2023-08-31T11:27:23.204791Z",
     "start_time": "2023-08-31T11:27:23.173751Z"
    }
   },
   "execution_count": 30,
   "outputs": [
    {
     "data": {
      "text/plain": "<tf.Tensor: shape=(2,), dtype=int32, numpy=array([7, 4], dtype=int32)>"
     },
     "execution_count": 30,
     "metadata": {},
     "output_type": "execute_result"
    }
   ]
  },
  {
   "cell_type": "code",
   "source": [
    "# Add in extra dimension to our rank 2 tensor\n",
    "rank_3_tensor = rank_2_tensor[..., tf.newaxis]\n",
    "rank_3_tensor"
   ],
   "metadata": {
    "colab": {
     "base_uri": "https://localhost:8080/"
    },
    "id": "vPtTXvxI2msv",
    "outputId": "7567f274-fcb8-4cdd-d718-30579eab63ce",
    "ExecuteTime": {
     "end_time": "2023-08-31T11:27:23.266532Z",
     "start_time": "2023-08-31T11:27:23.242582Z"
    }
   },
   "execution_count": 31,
   "outputs": [
    {
     "data": {
      "text/plain": "<tf.Tensor: shape=(2, 2, 1), dtype=int32, numpy=\narray([[[10],\n        [ 7]],\n\n       [[ 3],\n        [ 4]]], dtype=int32)>"
     },
     "execution_count": 31,
     "metadata": {},
     "output_type": "execute_result"
    }
   ]
  },
  {
   "cell_type": "code",
   "source": [
    "# Alternative to tf.newaxis\n",
    "tf.expand_dims(rank_2_tensor, axis=-1)"
   ],
   "metadata": {
    "colab": {
     "base_uri": "https://localhost:8080/"
    },
    "id": "N5JSNLt5uuKS",
    "outputId": "9cae9c7a-38d3-42d2-fc55-4c8dc0646f15",
    "ExecuteTime": {
     "end_time": "2023-08-31T11:27:23.346354Z",
     "start_time": "2023-08-31T11:27:23.312958Z"
    }
   },
   "execution_count": 32,
   "outputs": [
    {
     "data": {
      "text/plain": "<tf.Tensor: shape=(2, 2, 1), dtype=int32, numpy=\narray([[[10],\n        [ 7]],\n\n       [[ 3],\n        [ 4]]], dtype=int32)>"
     },
     "execution_count": 32,
     "metadata": {},
     "output_type": "execute_result"
    }
   ]
  },
  {
   "cell_type": "markdown",
   "source": [
    "### Manipulating tensors (tensor operations)\n",
    "\n",
    "**Basic operations**\n",
    "'+', '-', '*', '/'"
   ],
   "metadata": {
    "id": "fVufSspXvr2F"
   }
  },
  {
   "cell_type": "code",
   "source": [
    "# Addition\n",
    "tensor = tf.constant([[10, 7], [3, 4]])\n",
    "tensor + 10"
   ],
   "metadata": {
    "colab": {
     "base_uri": "https://localhost:8080/"
    },
    "id": "6GjnNpHEw_Bn",
    "outputId": "1a9c9c91-8da7-4c4b-dd85-b53bdcea3d0a",
    "ExecuteTime": {
     "end_time": "2023-08-31T11:27:23.493059Z",
     "start_time": "2023-08-31T11:27:23.474796Z"
    }
   },
   "execution_count": 33,
   "outputs": [
    {
     "data": {
      "text/plain": "<tf.Tensor: shape=(2, 2), dtype=int32, numpy=\narray([[20, 17],\n       [13, 14]], dtype=int32)>"
     },
     "execution_count": 33,
     "metadata": {},
     "output_type": "execute_result"
    }
   ]
  },
  {
   "cell_type": "code",
   "source": [
    "# Multiplication\n",
    "tensor * 10"
   ],
   "metadata": {
    "colab": {
     "base_uri": "https://localhost:8080/"
    },
    "id": "vRdS-1TVxSpE",
    "outputId": "3a409e5a-c884-4f20-9516-5b706f2f8b2c",
    "ExecuteTime": {
     "end_time": "2023-08-31T11:27:23.581572Z",
     "start_time": "2023-08-31T11:27:23.561823Z"
    }
   },
   "execution_count": 34,
   "outputs": [
    {
     "data": {
      "text/plain": "<tf.Tensor: shape=(2, 2), dtype=int32, numpy=\narray([[100,  70],\n       [ 30,  40]], dtype=int32)>"
     },
     "execution_count": 34,
     "metadata": {},
     "output_type": "execute_result"
    }
   ]
  },
  {
   "cell_type": "code",
   "source": [
    "# Substraction\n",
    "tensor - 10"
   ],
   "metadata": {
    "colab": {
     "base_uri": "https://localhost:8080/"
    },
    "id": "7k7Zuyzjx6Re",
    "outputId": "d79b6d05-8a8f-4ea6-d15e-fe25d0105e3d",
    "ExecuteTime": {
     "end_time": "2023-08-31T11:27:23.664491Z",
     "start_time": "2023-08-31T11:27:23.644959Z"
    }
   },
   "execution_count": 35,
   "outputs": [
    {
     "data": {
      "text/plain": "<tf.Tensor: shape=(2, 2), dtype=int32, numpy=\narray([[ 0, -3],\n       [-7, -6]], dtype=int32)>"
     },
     "execution_count": 35,
     "metadata": {},
     "output_type": "execute_result"
    }
   ]
  },
  {
   "cell_type": "code",
   "source": [
    "# We can use the tensorflow build-in function too\n",
    "tf.multiply(tensor, 10)"
   ],
   "metadata": {
    "colab": {
     "base_uri": "https://localhost:8080/"
    },
    "id": "YLu1r-iGyEZn",
    "outputId": "08b3a8f8-988f-4f5d-85d4-5d3c54b19dcf",
    "ExecuteTime": {
     "end_time": "2023-08-31T11:27:23.762011Z",
     "start_time": "2023-08-31T11:27:23.729379Z"
    }
   },
   "execution_count": 36,
   "outputs": [
    {
     "data": {
      "text/plain": "<tf.Tensor: shape=(2, 2), dtype=int32, numpy=\narray([[100,  70],\n       [ 30,  40]], dtype=int32)>"
     },
     "execution_count": 36,
     "metadata": {},
     "output_type": "execute_result"
    }
   ]
  },
  {
   "cell_type": "markdown",
   "source": [
    "**Matrix multiplication**\n",
    "\n",
    "In machine learning matrix multiplications is one of the most common tensor operations."
   ],
   "metadata": {
    "id": "AY6EmmvvyXpV"
   }
  },
  {
   "cell_type": "code",
   "source": [
    "# Matrix multiplication in tensorflow.\n",
    "t1 = tf.constant([[1, 2, 1], [0, 1, 0], [2, 3, 4]])\n",
    "t2 = tf.constant([[2, 5], [6, 7], [1, 8]])\n",
    "t1"
   ],
   "metadata": {
    "colab": {
     "base_uri": "https://localhost:8080/"
    },
    "id": "YT6V6nX9zezG",
    "outputId": "5c8261db-1230-40a8-dd11-baed3e5783d6",
    "ExecuteTime": {
     "end_time": "2023-08-31T11:27:23.910806Z",
     "start_time": "2023-08-31T11:27:23.891696Z"
    }
   },
   "execution_count": 37,
   "outputs": [
    {
     "data": {
      "text/plain": "<tf.Tensor: shape=(3, 3), dtype=int32, numpy=\narray([[1, 2, 1],\n       [0, 1, 0],\n       [2, 3, 4]], dtype=int32)>"
     },
     "execution_count": 37,
     "metadata": {},
     "output_type": "execute_result"
    }
   ]
  },
  {
   "cell_type": "code",
   "source": [
    "# Matrix multiplication with python operator \"@\"\n",
    "t1 @ t2"
   ],
   "metadata": {
    "colab": {
     "base_uri": "https://localhost:8080/"
    },
    "id": "Si198sCD8aI_",
    "outputId": "f680e293-40a9-4153-e5a2-4f424c0827c7",
    "ExecuteTime": {
     "end_time": "2023-08-31T11:27:24.009519Z",
     "start_time": "2023-08-31T11:27:23.990461Z"
    }
   },
   "execution_count": 38,
   "outputs": [
    {
     "data": {
      "text/plain": "<tf.Tensor: shape=(3, 2), dtype=int32, numpy=\narray([[15, 27],\n       [ 6,  7],\n       [26, 63]], dtype=int32)>"
     },
     "execution_count": 38,
     "metadata": {},
     "output_type": "execute_result"
    }
   ]
  },
  {
   "cell_type": "code",
   "source": [
    "tf.reshape(t2, shape=(2, 3))"
   ],
   "metadata": {
    "colab": {
     "base_uri": "https://localhost:8080/"
    },
    "id": "rnU-AbE8-CbV",
    "outputId": "cd106e32-0ea1-49d0-befd-f7f0365af4fb",
    "ExecuteTime": {
     "end_time": "2023-08-31T11:27:24.080207Z",
     "start_time": "2023-08-31T11:27:24.062206Z"
    }
   },
   "execution_count": 39,
   "outputs": [
    {
     "data": {
      "text/plain": "<tf.Tensor: shape=(2, 3), dtype=int32, numpy=\narray([[2, 5, 6],\n       [7, 1, 8]], dtype=int32)>"
     },
     "execution_count": 39,
     "metadata": {},
     "output_type": "execute_result"
    }
   ]
  },
  {
   "cell_type": "code",
   "source": [],
   "metadata": {
    "id": "u_-xm9DFAHes",
    "ExecuteTime": {
     "end_time": "2023-08-31T11:27:24.166021Z",
     "start_time": "2023-08-31T11:27:24.146870Z"
    }
   },
   "execution_count": 39,
   "outputs": []
  },
  {
   "cell_type": "code",
   "source": [
    "t1"
   ],
   "metadata": {
    "colab": {
     "base_uri": "https://localhost:8080/"
    },
    "id": "kJhohzBwa1J8",
    "outputId": "64acc8cb-6ad4-454d-e645-927f9d8558a3",
    "ExecuteTime": {
     "end_time": "2023-08-31T11:27:24.249203Z",
     "start_time": "2023-08-31T11:27:24.230629Z"
    }
   },
   "execution_count": 40,
   "outputs": [
    {
     "data": {
      "text/plain": "<tf.Tensor: shape=(3, 3), dtype=int32, numpy=\narray([[1, 2, 1],\n       [0, 1, 0],\n       [2, 3, 4]], dtype=int32)>"
     },
     "execution_count": 40,
     "metadata": {},
     "output_type": "execute_result"
    }
   ]
  },
  {
   "cell_type": "code",
   "source": [
    "tf.transpose(t1)"
   ],
   "metadata": {
    "colab": {
     "base_uri": "https://localhost:8080/"
    },
    "id": "PIGvM6jsca2r",
    "outputId": "04b8b84b-ef66-4498-85b5-5e8b10510908",
    "ExecuteTime": {
     "end_time": "2023-08-31T11:27:24.390611Z",
     "start_time": "2023-08-31T11:27:24.313675Z"
    }
   },
   "execution_count": 41,
   "outputs": [
    {
     "data": {
      "text/plain": "<tf.Tensor: shape=(3, 3), dtype=int32, numpy=\narray([[1, 0, 2],\n       [2, 1, 3],\n       [1, 0, 4]], dtype=int32)>"
     },
     "execution_count": 41,
     "metadata": {},
     "output_type": "execute_result"
    }
   ]
  },
  {
   "cell_type": "markdown",
   "source": [
    "**The dot product**\n",
    "\n",
    "Matrix multiplication is also referred to as the dot product.\n",
    "\n",
    "You can perform matrix multiplication using:\n",
    "* tf.matmul()\n",
    "* tf.tendordot()\n"
   ],
   "metadata": {
    "id": "zxp5FwV7cdCR"
   }
  },
  {
   "cell_type": "code",
   "source": [
    "X = tf.constant([[1, 2], [3, 4], [5, 6]])\n",
    "Y = tf.constant([[7, 8], [9, 10], [11, 12]]);\n",
    "X, Y"
   ],
   "metadata": {
    "colab": {
     "base_uri": "https://localhost:8080/"
    },
    "id": "uj6JAjAPeIhd",
    "outputId": "67a83e6c-44af-4868-c44d-126b1a82d0f2",
    "ExecuteTime": {
     "end_time": "2023-08-31T11:27:24.518471Z",
     "start_time": "2023-08-31T11:27:24.479897Z"
    }
   },
   "execution_count": 42,
   "outputs": [
    {
     "data": {
      "text/plain": "(<tf.Tensor: shape=(3, 2), dtype=int32, numpy=\n array([[1, 2],\n        [3, 4],\n        [5, 6]], dtype=int32)>,\n <tf.Tensor: shape=(3, 2), dtype=int32, numpy=\n array([[ 7,  8],\n        [ 9, 10],\n        [11, 12]], dtype=int32)>)"
     },
     "execution_count": 42,
     "metadata": {},
     "output_type": "execute_result"
    }
   ]
  },
  {
   "cell_type": "code",
   "source": [
    "# Perform the dot product on X and Y (requires t1 to be transposed)\n",
    "tf.tensordot(tf.transpose(X), Y, axes=1)"
   ],
   "metadata": {
    "colab": {
     "base_uri": "https://localhost:8080/"
    },
    "id": "AXpBs4L9d74O",
    "outputId": "38ce35a4-0db7-4825-c641-33626cfc251e",
    "ExecuteTime": {
     "end_time": "2023-08-31T11:27:24.586752Z",
     "start_time": "2023-08-31T11:27:24.564125Z"
    }
   },
   "execution_count": 43,
   "outputs": [
    {
     "data": {
      "text/plain": "<tf.Tensor: shape=(2, 2), dtype=int32, numpy=\narray([[ 89,  98],\n       [116, 128]], dtype=int32)>"
     },
     "execution_count": 43,
     "metadata": {},
     "output_type": "execute_result"
    }
   ]
  },
  {
   "cell_type": "code",
   "source": [
    "# Perform matrix multiplication between X and Y (transposed Y)\n",
    "tf.matmul(X, tf.transpose(Y))"
   ],
   "metadata": {
    "colab": {
     "base_uri": "https://localhost:8080/"
    },
    "id": "UzPH9YNlhvwL",
    "outputId": "21696bef-eba5-43f4-df96-87b672c790ca",
    "ExecuteTime": {
     "end_time": "2023-08-31T11:27:24.665123Z",
     "start_time": "2023-08-31T11:27:24.646428Z"
    }
   },
   "execution_count": 44,
   "outputs": [
    {
     "data": {
      "text/plain": "<tf.Tensor: shape=(3, 3), dtype=int32, numpy=\narray([[ 23,  29,  35],\n       [ 53,  67,  81],\n       [ 83, 105, 127]], dtype=int32)>"
     },
     "execution_count": 44,
     "metadata": {},
     "output_type": "execute_result"
    }
   ]
  },
  {
   "cell_type": "code",
   "source": [
    "# Perform matrix multiplication between X and Y (reshaped Y)\n",
    "tf.matmul(X, tf.reshape(Y, shape=(2, 3)))"
   ],
   "metadata": {
    "colab": {
     "base_uri": "https://localhost:8080/"
    },
    "id": "tXEn2nB1h76X",
    "outputId": "3467ac5f-665a-44f8-be17-a237b34c4871",
    "ExecuteTime": {
     "end_time": "2023-08-31T11:27:24.753474Z",
     "start_time": "2023-08-31T11:27:24.731318Z"
    }
   },
   "execution_count": 45,
   "outputs": [
    {
     "data": {
      "text/plain": "<tf.Tensor: shape=(3, 3), dtype=int32, numpy=\narray([[ 27,  30,  33],\n       [ 61,  68,  75],\n       [ 95, 106, 117]], dtype=int32)>"
     },
     "execution_count": 45,
     "metadata": {},
     "output_type": "execute_result"
    }
   ]
  },
  {
   "cell_type": "code",
   "source": [
    "# Check the values of Y, reshape Y and transposed Y\n",
    "print(\"Normal Y:\")\n",
    "print(Y, '\\n')\n",
    "print(\"Y reshaped to (2, 3)\")\n",
    "print(tf.reshape(Y, (2, 3)), '\\n')\n",
    "print(\"Y transposed\")\n",
    "print(tf.transpose(Y))"
   ],
   "metadata": {
    "colab": {
     "base_uri": "https://localhost:8080/"
    },
    "id": "hc6bS30ziKXT",
    "outputId": "f06b6701-5142-43af-8ecf-6e20641338be",
    "ExecuteTime": {
     "end_time": "2023-08-31T11:27:24.854293Z",
     "start_time": "2023-08-31T11:27:24.813811Z"
    }
   },
   "execution_count": 46,
   "outputs": [
    {
     "name": "stdout",
     "output_type": "stream",
     "text": [
      "Normal Y:\n",
      "tf.Tensor(\n",
      "[[ 7  8]\n",
      " [ 9 10]\n",
      " [11 12]], shape=(3, 2), dtype=int32) \n",
      "\n",
      "Y reshaped to (2, 3)\n",
      "tf.Tensor(\n",
      "[[ 7  8  9]\n",
      " [10 11 12]], shape=(2, 3), dtype=int32) \n",
      "\n",
      "Y transposed\n",
      "tf.Tensor(\n",
      "[[ 7  9 11]\n",
      " [ 8 10 12]], shape=(2, 3), dtype=int32)\n"
     ]
    }
   ]
  },
  {
   "cell_type": "code",
   "source": [
    "tf.matmul(X, tf.transpose(Y))"
   ],
   "metadata": {
    "colab": {
     "base_uri": "https://localhost:8080/"
    },
    "id": "HC-bJSViimNh",
    "outputId": "85ab1b06-ec27-4f24-c649-c28b244933d1",
    "ExecuteTime": {
     "end_time": "2023-08-31T11:27:24.927928Z",
     "start_time": "2023-08-31T11:27:24.897052Z"
    }
   },
   "execution_count": 47,
   "outputs": [
    {
     "data": {
      "text/plain": "<tf.Tensor: shape=(3, 3), dtype=int32, numpy=\narray([[ 23,  29,  35],\n       [ 53,  67,  81],\n       [ 83, 105, 127]], dtype=int32)>"
     },
     "execution_count": 47,
     "metadata": {},
     "output_type": "execute_result"
    }
   ]
  },
  {
   "cell_type": "markdown",
   "source": [
    "### Changing the datatype of a tensor"
   ],
   "metadata": {
    "id": "GHRrj-ZDi9eO"
   }
  },
  {
   "cell_type": "code",
   "source": [
    "# Create a new tensor with default datatype (float32)\n",
    "B = tf.constant([1.7, 7.4])\n",
    "B.dtype"
   ],
   "metadata": {
    "colab": {
     "base_uri": "https://localhost:8080/"
    },
    "id": "4LDfs2FqYnw9",
    "outputId": "c7bd70fe-29d2-4b07-ed38-41534c6388e7",
    "ExecuteTime": {
     "end_time": "2023-08-31T11:27:25.082479Z",
     "start_time": "2023-08-31T11:27:25.061230Z"
    }
   },
   "execution_count": 48,
   "outputs": [
    {
     "data": {
      "text/plain": "tf.float32"
     },
     "execution_count": 48,
     "metadata": {},
     "output_type": "execute_result"
    }
   ]
  },
  {
   "cell_type": "code",
   "source": [
    "C = tf.constant([7, 10])\n",
    "C.dtype"
   ],
   "metadata": {
    "colab": {
     "base_uri": "https://localhost:8080/"
    },
    "id": "oIBFbTO8YwSh",
    "outputId": "db0383e9-41f5-44f4-a3f5-31a0f2d1153c",
    "ExecuteTime": {
     "end_time": "2023-08-31T11:27:25.165429Z",
     "start_time": "2023-08-31T11:27:25.146964Z"
    }
   },
   "execution_count": 49,
   "outputs": [
    {
     "data": {
      "text/plain": "tf.int32"
     },
     "execution_count": 49,
     "metadata": {},
     "output_type": "execute_result"
    }
   ]
  },
  {
   "cell_type": "code",
   "source": [
    "# Change from float32 to float16 (reduced precicion)\n",
    "D = tf.cast(B, dtype=tf.float16)\n",
    "D.dtype"
   ],
   "metadata": {
    "colab": {
     "base_uri": "https://localhost:8080/"
    },
    "id": "lXs7RWJhZHT-",
    "outputId": "ddba0f19-7ad3-42e2-da66-67bdd51db9d6",
    "ExecuteTime": {
     "end_time": "2023-08-31T11:27:25.248287Z",
     "start_time": "2023-08-31T11:27:25.229614Z"
    }
   },
   "execution_count": 50,
   "outputs": [
    {
     "data": {
      "text/plain": "tf.float16"
     },
     "execution_count": 50,
     "metadata": {},
     "output_type": "execute_result"
    }
   ]
  },
  {
   "cell_type": "code",
   "source": [
    "# Change from int32 to float32\n",
    "E = tf.cast(C, dtype=tf.float32)\n",
    "E.dtype"
   ],
   "metadata": {
    "colab": {
     "base_uri": "https://localhost:8080/"
    },
    "id": "3SfrgWjqaFtL",
    "outputId": "4b40ff74-e9c4-4fc2-f362-e300e3f85ef4",
    "ExecuteTime": {
     "end_time": "2023-08-31T11:27:25.351338Z",
     "start_time": "2023-08-31T11:27:25.313595Z"
    }
   },
   "execution_count": 51,
   "outputs": [
    {
     "data": {
      "text/plain": "tf.float32"
     },
     "execution_count": 51,
     "metadata": {},
     "output_type": "execute_result"
    }
   ]
  },
  {
   "cell_type": "markdown",
   "source": [
    "### Aggregating tensors\n",
    "\n",
    "  Aggregating tensors = condensing them from multiple values down to a smaller amount of values."
   ],
   "metadata": {
    "id": "jmQnTkoaaoIN"
   }
  },
  {
   "cell_type": "code",
   "source": [
    "# Get the absolute values\n",
    "D = tf.constant([-7, -10])\n",
    "D"
   ],
   "metadata": {
    "colab": {
     "base_uri": "https://localhost:8080/"
    },
    "id": "0pQYEftTa6TQ",
    "outputId": "f1b73ca5-0c96-4a76-ac7c-551f74c0ae71",
    "ExecuteTime": {
     "end_time": "2023-08-31T11:27:25.502322Z",
     "start_time": "2023-08-31T11:27:25.482850Z"
    }
   },
   "execution_count": 52,
   "outputs": [
    {
     "data": {
      "text/plain": "<tf.Tensor: shape=(2,), dtype=int32, numpy=array([ -7, -10], dtype=int32)>"
     },
     "execution_count": 52,
     "metadata": {},
     "output_type": "execute_result"
    }
   ]
  },
  {
   "cell_type": "code",
   "source": [
    "tf.abs(D)"
   ],
   "metadata": {
    "colab": {
     "base_uri": "https://localhost:8080/"
    },
    "id": "O-cZrV0a0Tcj",
    "outputId": "3fce3682-7e5a-4f6f-b4ad-9edbf7da41db",
    "ExecuteTime": {
     "end_time": "2023-08-31T11:27:25.597671Z",
     "start_time": "2023-08-31T11:27:25.563534Z"
    }
   },
   "execution_count": 53,
   "outputs": [
    {
     "data": {
      "text/plain": "<tf.Tensor: shape=(2,), dtype=int32, numpy=array([ 7, 10], dtype=int32)>"
     },
     "execution_count": 53,
     "metadata": {},
     "output_type": "execute_result"
    }
   ]
  },
  {
   "cell_type": "markdown",
   "source": [
    "Let's go through the following forms of aggregation:L\n",
    "* Get the minimum\n",
    "* Get the maximum\n",
    "* Get the mean of a tensor\n",
    "* Get the sum of a tensor"
   ],
   "metadata": {
    "id": "_lyg4fUZ0VlR"
   }
  },
  {
   "cell_type": "code",
   "source": [
    "# Create a random tensor\n",
    "E = tf.constant(np.random.randint(0, 100, size=50))\n",
    "E"
   ],
   "metadata": {
    "colab": {
     "base_uri": "https://localhost:8080/"
    },
    "id": "uolOZt3t1gGC",
    "outputId": "056096b3-fd07-4063-d53b-115314e3f856",
    "ExecuteTime": {
     "end_time": "2023-08-31T11:27:25.745277Z",
     "start_time": "2023-08-31T11:27:25.727878Z"
    }
   },
   "execution_count": 54,
   "outputs": [
    {
     "data": {
      "text/plain": "<tf.Tensor: shape=(50,), dtype=int64, numpy=\narray([84,  2, 76, 39, 23, 69, 77,  9, 49, 38, 71, 49, 30, 17,  9, 92, 58,\n       78, 55, 50, 97,  9, 95, 11,  1, 67, 43, 34,  7, 61, 98, 22, 19, 68,\n       13,  8, 92, 85, 38, 87, 17, 92, 63, 70, 37, 97, 55, 88,  2,  4])>"
     },
     "execution_count": 54,
     "metadata": {},
     "output_type": "execute_result"
    }
   ]
  },
  {
   "cell_type": "code",
   "source": [
    "tf.size(E), E.shape, E.ndim"
   ],
   "metadata": {
    "colab": {
     "base_uri": "https://localhost:8080/"
    },
    "id": "aqTkCJmI1ohD",
    "outputId": "69b372b3-287b-4c69-a0f8-0fd7d2a743fd",
    "ExecuteTime": {
     "end_time": "2023-08-31T11:27:25.832204Z",
     "start_time": "2023-08-31T11:27:25.814002Z"
    }
   },
   "execution_count": 55,
   "outputs": [
    {
     "data": {
      "text/plain": "(<tf.Tensor: shape=(), dtype=int32, numpy=50>, TensorShape([50]), 1)"
     },
     "execution_count": 55,
     "metadata": {},
     "output_type": "execute_result"
    }
   ]
  },
  {
   "cell_type": "code",
   "source": [
    "tf.reduce_min(E)"
   ],
   "metadata": {
    "colab": {
     "base_uri": "https://localhost:8080/"
    },
    "id": "tiI61PSE1sAp",
    "outputId": "89011ca8-8235-4e9f-d763-ab31f6898425",
    "ExecuteTime": {
     "end_time": "2023-08-31T11:27:25.915695Z",
     "start_time": "2023-08-31T11:27:25.896417Z"
    }
   },
   "execution_count": 56,
   "outputs": [
    {
     "data": {
      "text/plain": "<tf.Tensor: shape=(), dtype=int64, numpy=1>"
     },
     "execution_count": 56,
     "metadata": {},
     "output_type": "execute_result"
    }
   ]
  },
  {
   "cell_type": "code",
   "source": [
    "tf.reduce_max(E)"
   ],
   "metadata": {
    "colab": {
     "base_uri": "https://localhost:8080/"
    },
    "id": "85YVke2c1wa0",
    "outputId": "2c448494-ae1e-4a61-d719-583359d75159",
    "ExecuteTime": {
     "end_time": "2023-08-31T11:27:25.999195Z",
     "start_time": "2023-08-31T11:27:25.979745Z"
    }
   },
   "execution_count": 57,
   "outputs": [
    {
     "data": {
      "text/plain": "<tf.Tensor: shape=(), dtype=int64, numpy=98>"
     },
     "execution_count": 57,
     "metadata": {},
     "output_type": "execute_result"
    }
   ]
  },
  {
   "cell_type": "code",
   "source": [
    "tf.reduce_mean(E)"
   ],
   "metadata": {
    "colab": {
     "base_uri": "https://localhost:8080/"
    },
    "id": "Nc64f3xS12_U",
    "outputId": "b940c6aa-cf03-4550-de0c-cf267694008f",
    "ExecuteTime": {
     "end_time": "2023-08-31T11:27:26.082641Z",
     "start_time": "2023-08-31T11:27:26.063359Z"
    }
   },
   "execution_count": 58,
   "outputs": [
    {
     "data": {
      "text/plain": "<tf.Tensor: shape=(), dtype=int64, numpy=49>"
     },
     "execution_count": 58,
     "metadata": {},
     "output_type": "execute_result"
    }
   ]
  },
  {
   "cell_type": "code",
   "source": [
    "tf.reduce_sum(E)"
   ],
   "metadata": {
    "colab": {
     "base_uri": "https://localhost:8080/"
    },
    "id": "KtBO7PoX2Pko",
    "outputId": "cf91bbc7-7b0a-4961-a363-a7bf019bf009",
    "ExecuteTime": {
     "end_time": "2023-08-31T11:27:26.166004Z",
     "start_time": "2023-08-31T11:27:26.146312Z"
    }
   },
   "execution_count": 59,
   "outputs": [
    {
     "data": {
      "text/plain": "<tf.Tensor: shape=(), dtype=int64, numpy=2455>"
     },
     "execution_count": 59,
     "metadata": {},
     "output_type": "execute_result"
    }
   ]
  },
  {
   "cell_type": "code",
   "source": [
    "tf.math.reduce_std(tf.cast(E, dtype=tf.float16))"
   ],
   "metadata": {
    "colab": {
     "base_uri": "https://localhost:8080/"
    },
    "id": "4JO01sow2aWt",
    "outputId": "81d65f86-7f26-4bda-fe25-64e640513741",
    "ExecuteTime": {
     "end_time": "2023-08-31T11:27:26.248738Z",
     "start_time": "2023-08-31T11:27:26.230106Z"
    }
   },
   "execution_count": 60,
   "outputs": [
    {
     "data": {
      "text/plain": "<tf.Tensor: shape=(), dtype=float16, numpy=31.69>"
     },
     "execution_count": 60,
     "metadata": {},
     "output_type": "execute_result"
    }
   ]
  },
  {
   "cell_type": "code",
   "source": [
    "tf.math.reduce_variance(tf.cast(E, dtype=tf.float16))"
   ],
   "metadata": {
    "colab": {
     "base_uri": "https://localhost:8080/"
    },
    "id": "nhjzpY_l2rKF",
    "outputId": "4be39ecd-1a35-4c71-bfa5-32abbea5ad11",
    "ExecuteTime": {
     "end_time": "2023-08-31T11:27:26.340619Z",
     "start_time": "2023-08-31T11:27:26.313264Z"
    }
   },
   "execution_count": 61,
   "outputs": [
    {
     "data": {
      "text/plain": "<tf.Tensor: shape=(), dtype=float16, numpy=1004.0>"
     },
     "execution_count": 61,
     "metadata": {},
     "output_type": "execute_result"
    }
   ]
  },
  {
   "cell_type": "markdown",
   "source": [
    "###Find the positional maximum and minimum"
   ],
   "metadata": {
    "id": "OOax0WJt4RGZ"
   }
  },
  {
   "cell_type": "code",
   "source": [
    "# Create a new tensor for finding positional minimum and maximum.\n",
    "tf.random.set_seed(42)\n",
    "F = tf.random.uniform(shape=[50])\n",
    "F"
   ],
   "metadata": {
    "colab": {
     "base_uri": "https://localhost:8080/"
    },
    "id": "4QXmJjrv5Fpv",
    "outputId": "577b5357-ba67-4ab7-b648-2dbe3ecfd573",
    "ExecuteTime": {
     "end_time": "2023-08-31T11:27:26.592780Z",
     "start_time": "2023-08-31T11:27:26.479924Z"
    }
   },
   "execution_count": 62,
   "outputs": [
    {
     "data": {
      "text/plain": "<tf.Tensor: shape=(50,), dtype=float32, numpy=\narray([0.6645621 , 0.44100678, 0.3528825 , 0.46448255, 0.03366041,\n       0.68467236, 0.74011743, 0.8724445 , 0.22632635, 0.22319686,\n       0.3103881 , 0.7223358 , 0.13318717, 0.5480639 , 0.5746088 ,\n       0.8996835 , 0.00946367, 0.5212307 , 0.6345445 , 0.1993283 ,\n       0.72942245, 0.54583454, 0.10756552, 0.6767061 , 0.6602763 ,\n       0.33695042, 0.60141766, 0.21062577, 0.8527372 , 0.44062173,\n       0.9485276 , 0.23752594, 0.81179297, 0.5263394 , 0.494308  ,\n       0.21612847, 0.8457197 , 0.8718841 , 0.3083862 , 0.6868038 ,\n       0.23764038, 0.7817228 , 0.9671384 , 0.06870162, 0.79873943,\n       0.66028714, 0.5871513 , 0.16461694, 0.7381023 , 0.32054043],\n      dtype=float32)>"
     },
     "execution_count": 62,
     "metadata": {},
     "output_type": "execute_result"
    }
   ]
  },
  {
   "cell_type": "code",
   "source": [
    "# Find the positional maximum\n",
    "tf.argmax(F)"
   ],
   "metadata": {
    "colab": {
     "base_uri": "https://localhost:8080/"
    },
    "id": "3JONpzWyWk3G",
    "outputId": "c743cdb5-951e-4239-baf8-910978beca02",
    "ExecuteTime": {
     "end_time": "2023-08-31T11:27:26.593367Z",
     "start_time": "2023-08-31T11:27:26.587599Z"
    }
   },
   "execution_count": 63,
   "outputs": [
    {
     "data": {
      "text/plain": "<tf.Tensor: shape=(), dtype=int64, numpy=42>"
     },
     "execution_count": 63,
     "metadata": {},
     "output_type": "execute_result"
    }
   ]
  },
  {
   "cell_type": "code",
   "source": [
    "F[tf.argmax(F)]"
   ],
   "metadata": {
    "colab": {
     "base_uri": "https://localhost:8080/"
    },
    "id": "g9VnpNkqXMBd",
    "outputId": "1538a2a9-13d7-4972-e669-b60f84cfb5b7",
    "ExecuteTime": {
     "end_time": "2023-08-31T11:27:26.711708Z",
     "start_time": "2023-08-31T11:27:26.660593Z"
    }
   },
   "execution_count": 64,
   "outputs": [
    {
     "data": {
      "text/plain": "<tf.Tensor: shape=(), dtype=float32, numpy=0.9671384>"
     },
     "execution_count": 64,
     "metadata": {},
     "output_type": "execute_result"
    }
   ]
  },
  {
   "cell_type": "code",
   "source": [
    "#Find the max value of F\n",
    "tf.reduce_max(F)"
   ],
   "metadata": {
    "colab": {
     "base_uri": "https://localhost:8080/"
    },
    "id": "1jbYwA2JWoyF",
    "outputId": "47c71b00-bc95-4237-da93-33755bd8aaa3",
    "ExecuteTime": {
     "end_time": "2023-08-31T11:27:26.845903Z",
     "start_time": "2023-08-31T11:27:26.736103Z"
    }
   },
   "execution_count": 65,
   "outputs": [
    {
     "data": {
      "text/plain": "<tf.Tensor: shape=(), dtype=float32, numpy=0.9671384>"
     },
     "execution_count": 65,
     "metadata": {},
     "output_type": "execute_result"
    }
   ]
  },
  {
   "cell_type": "code",
   "source": [
    "tf.argmin(F)"
   ],
   "metadata": {
    "colab": {
     "base_uri": "https://localhost:8080/"
    },
    "id": "9HAyAnKMXHi-",
    "outputId": "9769241f-2b58-4bbd-a871-b32e12834b6d",
    "ExecuteTime": {
     "end_time": "2023-08-31T11:27:26.846126Z",
     "start_time": "2023-08-31T11:27:26.838677Z"
    }
   },
   "execution_count": 66,
   "outputs": [
    {
     "data": {
      "text/plain": "<tf.Tensor: shape=(), dtype=int64, numpy=16>"
     },
     "execution_count": 66,
     "metadata": {},
     "output_type": "execute_result"
    }
   ]
  },
  {
   "cell_type": "code",
   "source": [
    "tf.reduce_min(F)"
   ],
   "metadata": {
    "colab": {
     "base_uri": "https://localhost:8080/"
    },
    "id": "j7-FPMHIXra-",
    "outputId": "cee7f273-e6ba-4849-88d6-2a9098adabcf",
    "ExecuteTime": {
     "end_time": "2023-08-31T11:27:27.010103Z",
     "start_time": "2023-08-31T11:27:26.909100Z"
    }
   },
   "execution_count": 67,
   "outputs": [
    {
     "data": {
      "text/plain": "<tf.Tensor: shape=(), dtype=float32, numpy=0.009463668>"
     },
     "execution_count": 67,
     "metadata": {},
     "output_type": "execute_result"
    }
   ]
  },
  {
   "cell_type": "markdown",
   "source": [
    "### Squeezing a tensor (removing all single dimension)\n"
   ],
   "metadata": {
    "id": "8t2ym0PGXxat"
   }
  },
  {
   "cell_type": "code",
   "source": [
    "tf.random.set_seed(42)\n",
    "G = tf.constant(tf.random.uniform(shape=[50]), shape=(1, 1, 1, 1, 50))\n",
    "G"
   ],
   "metadata": {
    "colab": {
     "base_uri": "https://localhost:8080/"
    },
    "id": "d__oja6cYA8E",
    "outputId": "baf8ba19-03cb-4e44-d93b-4b0cb36569d9",
    "ExecuteTime": {
     "end_time": "2023-08-31T11:27:27.090347Z",
     "start_time": "2023-08-31T11:27:27.070615Z"
    }
   },
   "execution_count": 68,
   "outputs": [
    {
     "data": {
      "text/plain": "<tf.Tensor: shape=(1, 1, 1, 1, 50), dtype=float32, numpy=\narray([[[[[0.6645621 , 0.44100678, 0.3528825 , 0.46448255, 0.03366041,\n           0.68467236, 0.74011743, 0.8724445 , 0.22632635, 0.22319686,\n           0.3103881 , 0.7223358 , 0.13318717, 0.5480639 , 0.5746088 ,\n           0.8996835 , 0.00946367, 0.5212307 , 0.6345445 , 0.1993283 ,\n           0.72942245, 0.54583454, 0.10756552, 0.6767061 , 0.6602763 ,\n           0.33695042, 0.60141766, 0.21062577, 0.8527372 , 0.44062173,\n           0.9485276 , 0.23752594, 0.81179297, 0.5263394 , 0.494308  ,\n           0.21612847, 0.8457197 , 0.8718841 , 0.3083862 , 0.6868038 ,\n           0.23764038, 0.7817228 , 0.9671384 , 0.06870162, 0.79873943,\n           0.66028714, 0.5871513 , 0.16461694, 0.7381023 , 0.32054043]]]]],\n      dtype=float32)>"
     },
     "execution_count": 68,
     "metadata": {},
     "output_type": "execute_result"
    }
   ]
  },
  {
   "cell_type": "code",
   "source": [
    "G_squeezed = tf.squeeze(G)\n",
    "G_squeezed"
   ],
   "metadata": {
    "colab": {
     "base_uri": "https://localhost:8080/"
    },
    "id": "WDZnUsicYLFV",
    "outputId": "5005d135-db61-40ad-8ae4-b942396d44fc",
    "ExecuteTime": {
     "end_time": "2023-08-31T11:27:27.178429Z",
     "start_time": "2023-08-31T11:27:27.146883Z"
    }
   },
   "execution_count": 69,
   "outputs": [
    {
     "data": {
      "text/plain": "<tf.Tensor: shape=(50,), dtype=float32, numpy=\narray([0.6645621 , 0.44100678, 0.3528825 , 0.46448255, 0.03366041,\n       0.68467236, 0.74011743, 0.8724445 , 0.22632635, 0.22319686,\n       0.3103881 , 0.7223358 , 0.13318717, 0.5480639 , 0.5746088 ,\n       0.8996835 , 0.00946367, 0.5212307 , 0.6345445 , 0.1993283 ,\n       0.72942245, 0.54583454, 0.10756552, 0.6767061 , 0.6602763 ,\n       0.33695042, 0.60141766, 0.21062577, 0.8527372 , 0.44062173,\n       0.9485276 , 0.23752594, 0.81179297, 0.5263394 , 0.494308  ,\n       0.21612847, 0.8457197 , 0.8718841 , 0.3083862 , 0.6868038 ,\n       0.23764038, 0.7817228 , 0.9671384 , 0.06870162, 0.79873943,\n       0.66028714, 0.5871513 , 0.16461694, 0.7381023 , 0.32054043],\n      dtype=float32)>"
     },
     "execution_count": 69,
     "metadata": {},
     "output_type": "execute_result"
    }
   ]
  },
  {
   "cell_type": "markdown",
   "source": [
    "###One-hot encoding tensors"
   ],
   "metadata": {
    "id": "qZzMlp85Y_RC"
   }
  },
  {
   "cell_type": "code",
   "source": [
    "# Create a list of indices\n",
    "some_list = [0, 1, 2, 3] # Could be red, green, blue, purple\n",
    "\n",
    "# One hot encode our list of indices\n",
    "tf.one_hot(some_list, depth=4)"
   ],
   "metadata": {
    "colab": {
     "base_uri": "https://localhost:8080/"
    },
    "id": "B9UlvHjEj3rE",
    "outputId": "c1ab27f1-223e-431d-abb7-cb912310f98c",
    "ExecuteTime": {
     "end_time": "2023-08-31T11:27:27.349365Z",
     "start_time": "2023-08-31T11:27:27.310018Z"
    }
   },
   "execution_count": 70,
   "outputs": [
    {
     "data": {
      "text/plain": "<tf.Tensor: shape=(4, 4), dtype=float32, numpy=\narray([[1., 0., 0., 0.],\n       [0., 1., 0., 0.],\n       [0., 0., 1., 0.],\n       [0., 0., 0., 1.]], dtype=float32)>"
     },
     "execution_count": 70,
     "metadata": {},
     "output_type": "execute_result"
    }
   ]
  },
  {
   "cell_type": "code",
   "source": [
    "# Specify custom values for on / off value.\n",
    "tf.one_hot(some_list, depth=4, on_value=2, off_value=1)"
   ],
   "metadata": {
    "colab": {
     "base_uri": "https://localhost:8080/"
    },
    "id": "qtjjifEwkDGV",
    "outputId": "bf3285af-1cc3-48e9-d4fb-8a8c9816f808",
    "ExecuteTime": {
     "end_time": "2023-08-31T11:27:27.434073Z",
     "start_time": "2023-08-31T11:27:27.402331Z"
    }
   },
   "execution_count": 71,
   "outputs": [
    {
     "data": {
      "text/plain": "<tf.Tensor: shape=(4, 4), dtype=int32, numpy=\narray([[2, 1, 1, 1],\n       [1, 2, 1, 1],\n       [1, 1, 2, 1],\n       [1, 1, 1, 2]], dtype=int32)>"
     },
     "execution_count": 71,
     "metadata": {},
     "output_type": "execute_result"
    }
   ]
  },
  {
   "cell_type": "markdown",
   "source": [
    "### Squering, log, square root"
   ],
   "metadata": {
    "id": "kwmUH0iMk5VG"
   }
  },
  {
   "cell_type": "code",
   "source": [
    "# Create a new tensor\n",
    "H = tf.range(1, 10)\n",
    "H"
   ],
   "metadata": {
    "colab": {
     "base_uri": "https://localhost:8080/"
    },
    "id": "AcQOWSnrleCU",
    "outputId": "d955ac52-b071-48b5-d43c-6b4123e4d673",
    "ExecuteTime": {
     "end_time": "2023-08-31T11:27:27.586273Z",
     "start_time": "2023-08-31T11:27:27.563486Z"
    }
   },
   "execution_count": 72,
   "outputs": [
    {
     "data": {
      "text/plain": "<tf.Tensor: shape=(9,), dtype=int32, numpy=array([1, 2, 3, 4, 5, 6, 7, 8, 9], dtype=int32)>"
     },
     "execution_count": 72,
     "metadata": {},
     "output_type": "execute_result"
    }
   ]
  },
  {
   "cell_type": "code",
   "source": [
    "tf.square(H)"
   ],
   "metadata": {
    "colab": {
     "base_uri": "https://localhost:8080/"
    },
    "id": "9pCq8Sp1lgVK",
    "outputId": "7a968d70-04cb-4f3a-d971-703d6d191dd1",
    "ExecuteTime": {
     "end_time": "2023-08-31T11:27:28.388770Z",
     "start_time": "2023-08-31T11:27:28.367763Z"
    }
   },
   "execution_count": 73,
   "outputs": [
    {
     "data": {
      "text/plain": "<tf.Tensor: shape=(9,), dtype=int32, numpy=array([ 1,  4,  9, 16, 25, 36, 49, 64, 81], dtype=int32)>"
     },
     "execution_count": 73,
     "metadata": {},
     "output_type": "execute_result"
    }
   ]
  },
  {
   "cell_type": "code",
   "source": [
    "tf.sqrt(tf.cast(H, dtype=tf.float16))"
   ],
   "metadata": {
    "colab": {
     "base_uri": "https://localhost:8080/"
    },
    "id": "n56Ap14Hli3O",
    "outputId": "d2fdcb68-d5df-4684-e8d4-9c07d9b989cc",
    "ExecuteTime": {
     "end_time": "2023-08-31T11:27:29.433705Z",
     "start_time": "2023-08-31T11:27:29.407779Z"
    }
   },
   "execution_count": 74,
   "outputs": [
    {
     "data": {
      "text/plain": "<tf.Tensor: shape=(9,), dtype=float16, numpy=\narray([1.   , 1.414, 1.732, 2.   , 2.236, 2.45 , 2.646, 2.828, 3.   ],\n      dtype=float16)>"
     },
     "execution_count": 74,
     "metadata": {},
     "output_type": "execute_result"
    }
   ]
  },
  {
   "cell_type": "code",
   "source": [
    "tf.math.log(tf.cast(H, dtype=tf.float16))"
   ],
   "metadata": {
    "colab": {
     "base_uri": "https://localhost:8080/"
    },
    "id": "uB1qOj-8lxtP",
    "outputId": "a0668612-b537-46df-bfb5-2e5f2bde4e0d",
    "ExecuteTime": {
     "end_time": "2023-08-31T11:27:30.306426Z",
     "start_time": "2023-08-31T11:27:30.273371Z"
    }
   },
   "execution_count": 75,
   "outputs": [
    {
     "data": {
      "text/plain": "<tf.Tensor: shape=(9,), dtype=float16, numpy=\narray([0.    , 0.6934, 1.099 , 1.387 , 1.609 , 1.792 , 1.946 , 2.08  ,\n       2.197 ], dtype=float16)>"
     },
     "execution_count": 75,
     "metadata": {},
     "output_type": "execute_result"
    }
   ]
  },
  {
   "cell_type": "markdown",
   "source": [
    "### Tensors and NumPy\n",
    "\n",
    "TensorFlow interacts beautifully with NumPy arrays."
   ],
   "metadata": {
    "id": "-OqmbgbhmJlU"
   }
  },
  {
   "cell_type": "code",
   "source": [
    "# Create a tensor directly from a NumPy array.\n",
    "J = tf.constant(np.array([3., 7., 10.]))\n",
    "J"
   ],
   "metadata": {
    "colab": {
     "base_uri": "https://localhost:8080/"
    },
    "id": "A9giZkgPV2GN",
    "outputId": "a445ee8c-49b5-4fc9-bec3-f210ec52d7ca",
    "ExecuteTime": {
     "end_time": "2023-08-31T11:27:31.332372Z",
     "start_time": "2023-08-31T11:27:31.301031Z"
    }
   },
   "execution_count": 76,
   "outputs": [
    {
     "data": {
      "text/plain": "<tf.Tensor: shape=(3,), dtype=float64, numpy=array([ 3.,  7., 10.])>"
     },
     "execution_count": 76,
     "metadata": {},
     "output_type": "execute_result"
    }
   ]
  },
  {
   "cell_type": "code",
   "source": [
    "np.array(J)"
   ],
   "metadata": {
    "colab": {
     "base_uri": "https://localhost:8080/"
    },
    "id": "nIAiJHcBV9BX",
    "outputId": "cd82421c-e760-4d42-95ad-0cdd5e1d99ef",
    "ExecuteTime": {
     "end_time": "2023-08-31T11:27:31.673505Z",
     "start_time": "2023-08-31T11:27:31.652368Z"
    }
   },
   "execution_count": 77,
   "outputs": [
    {
     "data": {
      "text/plain": "array([ 3.,  7., 10.])"
     },
     "execution_count": 77,
     "metadata": {},
     "output_type": "execute_result"
    }
   ]
  },
  {
   "cell_type": "code",
   "source": [
    "# Convert tensor J to a NumPy array\n",
    "J.numpy(), type(J.numpy())"
   ],
   "metadata": {
    "colab": {
     "base_uri": "https://localhost:8080/"
    },
    "id": "4l6c-Z_EV_qi",
    "outputId": "2e989ba0-4d7a-4466-f02b-f1edbd80b465",
    "ExecuteTime": {
     "end_time": "2023-08-31T11:27:31.888773Z",
     "start_time": "2023-08-31T11:27:31.868422Z"
    }
   },
   "execution_count": 78,
   "outputs": [
    {
     "data": {
      "text/plain": "(array([ 3.,  7., 10.]), numpy.ndarray)"
     },
     "execution_count": 78,
     "metadata": {},
     "output_type": "execute_result"
    }
   ]
  },
  {
   "cell_type": "code",
   "source": [
    "# The default types of each are slightly different:\n",
    "numpy_J = tf.constant(np.array([3., 7., 10.]))\n",
    "tensor_J = tf.constant([3., 7., 10.])\n",
    "\n",
    "# Check the datatype of each\n",
    "numpy_J.dtype, tensor_J.dtype"
   ],
   "metadata": {
    "colab": {
     "base_uri": "https://localhost:8080/"
    },
    "id": "phxiCIcnWIxY",
    "outputId": "ca138698-d78b-4877-af23-b91ce671394e",
    "ExecuteTime": {
     "end_time": "2023-08-31T11:27:32.125646Z",
     "start_time": "2023-08-31T11:27:32.099201Z"
    }
   },
   "execution_count": 79,
   "outputs": [
    {
     "data": {
      "text/plain": "(tf.float64, tf.float32)"
     },
     "execution_count": 79,
     "metadata": {},
     "output_type": "execute_result"
    }
   ]
  },
  {
   "cell_type": "markdown",
   "source": [
    "### Finding access to GPUs"
   ],
   "metadata": {
    "id": "Erc5TBSmWN_h"
   }
  },
  {
   "cell_type": "code",
   "source": [
    "import tensorflow as tf\n",
    "tf.config.list_physical_devices()"
   ],
   "metadata": {
    "colab": {
     "base_uri": "https://localhost:8080/"
    },
    "id": "gzgBIrqeXseD",
    "outputId": "a4b8f128-466c-48b5-ee9b-fd62f0d0bdcc",
    "ExecuteTime": {
     "end_time": "2023-08-31T11:27:32.706576Z",
     "start_time": "2023-08-31T11:27:32.681666Z"
    }
   },
   "execution_count": 80,
   "outputs": [
    {
     "data": {
      "text/plain": "[PhysicalDevice(name='/physical_device:CPU:0', device_type='CPU'),\n PhysicalDevice(name='/physical_device:GPU:0', device_type='GPU')]"
     },
     "execution_count": 80,
     "metadata": {},
     "output_type": "execute_result"
    }
   ]
  },
  {
   "cell_type": "code",
   "execution_count": 81,
   "outputs": [
    {
     "name": "stdout",
     "output_type": "stream",
     "text": [
      "zsh:1: command not found: nvidia-smi\r\n"
     ]
    }
   ],
   "source": [
    "!nvidia-smi "
   ],
   "metadata": {
    "collapsed": false
   }
  }
 ]
}
